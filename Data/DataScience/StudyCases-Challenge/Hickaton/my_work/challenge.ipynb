{
 "cells": [
  {
   "cell_type": "code",
   "execution_count": 492,
   "metadata": {},
   "outputs": [],
   "source": [
    "import pandas as pd\n",
    "import json\n",
    "from catboost import CatBoostRegressor\n",
    "from ast import literal_eval\n",
    "\n",
    "from sklearn.ensemble import RandomForestRegressor\n",
    "from sklearn.metrics import explained_variance_score, mean_squared_error, r2_score\n",
    "from sklearn.model_selection import train_test_split\n",
    "from sklearn.preprocessing import OrdinalEncoder\n",
    "from xgboost import XGBRegressor"
   ]
  },
  {
   "cell_type": "code",
   "execution_count": 436,
   "metadata": {},
   "outputs": [],
   "source": [
    "path_dataset = \"../hfactory_magic_folders/hi__paris_hackaton/building_energy_efficiency/dataset/train\"\n",
    "path_x = \"{}/train_features_sent.csv\".format(path_dataset)\n",
    "path_y = \"{}/train_labels_sent.csv\".format(path_dataset)"
   ]
  },
  {
   "cell_type": "code",
   "execution_count": 437,
   "metadata": {},
   "outputs": [
    {
     "name": "stderr",
     "output_type": "stream",
     "text": [
      "/home/frank/anaconda3/envs/BCG/lib/python3.7/site-packages/IPython/core/interactiveshell.py:3553: DtypeWarning: Columns (19) have mixed types.Specify dtype option on import or set low_memory=False.\n",
      "  exec(code_obj, self.user_global_ns, self.user_ns)\n"
     ]
    }
   ],
   "source": [
    "X = pd.read_csv(path_x)\n",
    "Y = pd.read_csv(path_y)"
   ]
  },
  {
   "cell_type": "code",
   "execution_count": 438,
   "metadata": {},
   "outputs": [],
   "source": [
    "# X = X.iloc[:1000, :]\n",
    "# Y = Y.iloc[:1000, :]"
   ]
  },
  {
   "cell_type": "code",
   "execution_count": 439,
   "metadata": {},
   "outputs": [
    {
     "name": "stdout",
     "output_type": "stream",
     "text": [
      "1010684\n",
      "1010684\n"
     ]
    }
   ],
   "source": [
    "print(len(X))\n",
    "print(len(Y))"
   ]
  },
  {
   "cell_type": "code",
   "execution_count": 440,
   "metadata": {},
   "outputs": [],
   "source": [
    "df = pd.merge(X, Y, how=\"inner\", on=\"level_0\")"
   ]
  },
  {
   "cell_type": "code",
   "execution_count": 441,
   "metadata": {},
   "outputs": [
    {
     "name": "stdout",
     "output_type": "stream",
     "text": [
      "Total number of columns: 1010684\n",
      "Filtered columns: ['additional_water_heaters, 209994', 'balcony_depth, 105791', 'nb_commercial_units, 116104', 'nb_gas_meters_commercial, 34476', 'nb_gas_meters_housing, 34476', 'nb_gas_meters_total, 34476', 'nb_housing_units, 116104', 'nb_parking_spaces, 116104', 'nb_power_meters_commercial, 95221', 'nb_power_meters_housing, 95221', 'nb_power_meters_total, 95221', 'nb_units_total, 116104', 'renewable_energy_sources, 9501']\n",
      "Number of filtered columns: 13\n",
      "Total number of validated columns: 59\n"
     ]
    }
   ],
   "source": [
    "df_non_null_count = df.count()\n",
    "col_valid = []\n",
    "col_filtered = []\n",
    "threshold = 0.21\n",
    "total_rows = len(df)\n",
    "\n",
    "print(\"Total number of columns: {}\".format(total_rows))\n",
    "\n",
    "for col, non_null in df_non_null_count.iteritems():\n",
    "    if non_null > total_rows * threshold:\n",
    "        col_valid.append(col)\n",
    "    else:\n",
    "        col_filtered.append(f\"{col}, {non_null}\")\n",
    "\n",
    "df_filter1 = df[col_valid]\n",
    "\n",
    "print(f\"Filtered columns: {col_filtered}\")\n",
    "print(f\"Number of filtered columns: {len(col_filtered)}\")\n",
    "print(\"Total number of validated columns: {}\".format(len(col_valid)))"
   ]
  },
  {
   "cell_type": "code",
   "execution_count": 442,
   "metadata": {},
   "outputs": [
    {
     "name": "stdout",
     "output_type": "stream",
     "text": [
      "<class 'pandas.core.frame.DataFrame'>\n",
      "Int64Index: 1010684 entries, 0 to 1010683\n",
      "Data columns (total 59 columns):\n",
      " #   Column                            Non-Null Count    Dtype  \n",
      "---  ------                            --------------    -----  \n",
      " 0   level_0                           1010684 non-null  int64  \n",
      " 1   additional_heat_generators        1010684 non-null  object \n",
      " 2   altitude                          992545 non-null   float64\n",
      " 3   area_code                         1010684 non-null  int64  \n",
      " 4   bearing_wall_material             956635 non-null   object \n",
      " 5   building_category                 1010684 non-null  object \n",
      " 6   building_class                    1010684 non-null  object \n",
      " 7   building_height_ft                994468 non-null   float64\n",
      " 8   building_period                   1010684 non-null  object \n",
      " 9   building_total_area_sqft          949721 non-null   float64\n",
      " 10  building_type                     1010684 non-null  object \n",
      " 11  building_use_type_code            1010684 non-null  int64  \n",
      " 12  building_use_type_description     1010684 non-null  object \n",
      " 13  building_year                     951235 non-null   float64\n",
      " 14  clay_risk_level                   806450 non-null   object \n",
      " 15  consumption_measurement_date      1010684 non-null  object \n",
      " 16  has_air_conditioning              1010684 non-null  bool   \n",
      " 17  has_balcony                       1010328 non-null  object \n",
      " 18  heat_generators                   1010684 non-null  object \n",
      " 19  heating_energy_source             1010683 non-null  object \n",
      " 20  heating_type                      1010684 non-null  object \n",
      " 21  is_crossing_building              959213 non-null   object \n",
      " 22  living_area_sqft                  1010672 non-null  float64\n",
      " 23  lowe_floor_thermal_conductivity   933373 non-null   float64\n",
      " 24  lower_floor_adjacency_type        938214 non-null   object \n",
      " 25  lower_floor_insulation_type       949694 non-null   object \n",
      " 26  lower_floor_material              938765 non-null   object \n",
      " 27  main_heat_generators              1010684 non-null  object \n",
      " 28  main_heating_type                 1010684 non-null  object \n",
      " 29  main_water_heaters                1010606 non-null  object \n",
      " 30  main_water_heating_type           1010684 non-null  object \n",
      " 31  nb_dwellings                      1010684 non-null  int64  \n",
      " 32  nb_meters                         623758 non-null   float64\n",
      " 33  outer_wall_materials              977656 non-null   object \n",
      " 34  outer_wall_thermal_conductivity   1003326 non-null  float64\n",
      " 35  outer_wall_thickness              929398 non-null   object \n",
      " 36  percentage_glazed_surfaced        882511 non-null   float64\n",
      " 37  post_code                         1010684 non-null  int64  \n",
      " 38  radon_risk_level                  997441 non-null   object \n",
      " 39  roof_material                     956406 non-null   object \n",
      " 40  solar_heating                     1010684 non-null  bool   \n",
      " 41  solar_water_heating               1010684 non-null  bool   \n",
      " 42  thermal_inertia                   1010684 non-null  object \n",
      " 43  upper_floor_adjacency_type        966568 non-null   object \n",
      " 44  upper_floor_insulation_type       921875 non-null   object \n",
      " 45  upper_floor_material              979135 non-null   object \n",
      " 46  upper_floor_thermal_conductivity  964886 non-null   float64\n",
      " 47  ventilation_type                  1010684 non-null  object \n",
      " 48  wall_insulation_type              1000342 non-null  object \n",
      " 49  water_heaters                     1010684 non-null  object \n",
      " 50  water_heating_energy_source       1010505 non-null  object \n",
      " 51  water_heating_type                956608 non-null   object \n",
      " 52  window_filling_type               797458 non-null   object \n",
      " 53  window_frame_material             1010280 non-null  object \n",
      " 54  window_glazing_type               1005549 non-null  object \n",
      " 55  window_heat_retention_factor      988325 non-null   float64\n",
      " 56  window_orientation                1010684 non-null  object \n",
      " 57  window_thermal_conductivity       1005579 non-null  float64\n",
      " 58  energy_consumption_per_annum      1010684 non-null  float64\n",
      "dtypes: bool(3), float64(13), int64(5), object(38)\n",
      "memory usage: 442.4+ MB\n"
     ]
    }
   ],
   "source": [
    "df_filter1.info()"
   ]
  },
  {
   "attachments": {},
   "cell_type": "markdown",
   "metadata": {},
   "source": [
    "# Information about categorical columns"
   ]
  },
  {
   "cell_type": "code",
   "execution_count": 336,
   "metadata": {},
   "outputs": [
    {
     "name": "stdout",
     "output_type": "stream",
     "text": [
      "Category columns:  ['additional_heat_generators', 'bearing_wall_material', 'building_category', 'building_class', 'building_period', 'building_type', 'building_use_type_description', 'clay_risk_level', 'consumption_measurement_date', 'has_balcony', 'heat_generators', 'heating_energy_source', 'heating_type', 'is_crossing_building', 'lower_floor_adjacency_type', 'lower_floor_insulation_type', 'lower_floor_material', 'main_heat_generators', 'main_heating_type', 'main_water_heaters', 'main_water_heating_type', 'outer_wall_materials', 'outer_wall_thickness', 'radon_risk_level', 'roof_material', 'thermal_inertia', 'upper_floor_adjacency_type', 'upper_floor_insulation_type', 'upper_floor_material', 'ventilation_type', 'wall_insulation_type', 'water_heaters', 'water_heating_energy_source', 'water_heating_type', 'window_filling_type', 'window_frame_material', 'window_glazing_type', 'window_orientation']\n",
      "Number of category columns:  38\n"
     ]
    }
   ],
   "source": [
    "cat_cols = df_filter1.select_dtypes(include=\"object\").columns.to_list()\n",
    "print(\"Category columns: \", cat_cols)\n",
    "print(\"Number of category columns: \", len(cat_cols))"
   ]
  },
  {
   "cell_type": "code",
   "execution_count": 254,
   "metadata": {},
   "outputs": [],
   "source": [
    "df_cat = df_filter1[cat_cols]"
   ]
  },
  {
   "cell_type": "code",
   "execution_count": 262,
   "metadata": {},
   "outputs": [],
   "source": [
    "df_cat_nunique = df_cat.nunique()"
   ]
  },
  {
   "cell_type": "code",
   "execution_count": 290,
   "metadata": {},
   "outputs": [
    {
     "name": "stdout",
     "output_type": "stream",
     "text": [
      "['additional_heat_generators', 'bearing_wall_material', 'building_period', 'building_type', 'building_use_type_description', 'clay_risk_level', 'has_balcony', 'heating_type', 'is_crossing_building', 'lower_floor_adjacency_type', 'lower_floor_insulation_type', 'lower_floor_material', 'main_heat_generators', 'main_water_heaters', 'outer_wall_materials', 'radon_risk_level', 'roof_material', 'thermal_inertia', 'upper_floor_adjacency_type', 'upper_floor_insulation_type', 'upper_floor_material', 'ventilation_type', 'wall_insulation_type', 'water_heating_energy_source', 'water_heating_type', 'window_filling_type', 'window_frame_material', 'window_glazing_type']\n",
      "['building_category, 704', 'building_class, 1820', 'consumption_measurement_date, 2528', 'heat_generators, 1491', 'heating_energy_source, 60', 'main_heating_type, 33591', 'main_water_heating_type, 36346', 'outer_wall_thickness, 39', 'water_heaters, 174', 'window_orientation, 96']\n"
     ]
    }
   ],
   "source": [
    "col_cat_valid = []\n",
    "col_cat_filtered = []\n",
    "\n",
    "threshold_categories = 30\n",
    "\n",
    "for col, nunique in df_cat_nunique.iteritems():\n",
    "    if nunique <= threshold_categories:\n",
    "        col_cat_valid.append(col)\n",
    "    else:\n",
    "        col_cat_filtered.append(f\"{col}, {nunique}\")\n",
    "\n",
    "print(col_cat_valid)\n",
    "print(col_cat_filtered)"
   ]
  },
  {
   "cell_type": "code",
   "execution_count": 508,
   "metadata": {},
   "outputs": [
    {
     "name": "stdout",
     "output_type": "stream",
     "text": [
      "38\n",
      "28\n",
      "10\n"
     ]
    }
   ],
   "source": [
    "print(len(df_cat_nunique))\n",
    "print(len(col_cat_valid))\n",
    "print(len(col_cat_filtered))"
   ]
  },
  {
   "cell_type": "code",
   "execution_count": 335,
   "metadata": {},
   "outputs": [],
   "source": [
    "# TO MODIFY \n",
    "# building_category: explode + unique\n",
    "# building_class: explode + unique\n",
    "# consumption_measurement_date: convert to season\n",
    "# heating_energy_source: split + n-hot\n",
    "# main_heating_type: explode\n",
    "# main_water_heating_type: explode + unique\n",
    "# outer_wall_thickness: replace \" et -\" by \"\" and convert it to integer\n",
    "\n",
    "\n",
    "# TO DELETE\n",
    "# heat_generators: embedding 51 categories en un vector de 4\n",
    "# water_heaters: embedding 36 categories en un vector de 3\n",
    "# window_orientation: split \" or \" then encode vector de 4"
   ]
  },
  {
   "cell_type": "code",
   "execution_count": 368,
   "metadata": {},
   "outputs": [
    {
     "data": {
      "text/plain": [
       "0          [wood stove or insert]\n",
       "1                              []\n",
       "2                              []\n",
       "3                              []\n",
       "4                              []\n",
       "                    ...          \n",
       "1010679                        []\n",
       "1010680                        []\n",
       "1010681     [standard gas boiler]\n",
       "1010682                        []\n",
       "1010683                        []\n",
       "Name: additional_heat_generators, Length: 1010684, dtype: object"
      ]
     },
     "execution_count": 368,
     "metadata": {},
     "output_type": "execute_result"
    }
   ],
   "source": [
    "df_cat['additional_heat_generators']"
   ]
  },
  {
   "cell_type": "code",
   "execution_count": 372,
   "metadata": {},
   "outputs": [
    {
     "data": {
      "text/plain": [
       "1"
      ]
     },
     "execution_count": 372,
     "metadata": {},
     "output_type": "execute_result"
    }
   ],
   "source": [
    "len(df_cat['additional_heat_generators'].values.reshape(1,-1))"
   ]
  },
  {
   "cell_type": "code",
   "execution_count": 348,
   "metadata": {},
   "outputs": [
    {
     "data": {
      "text/plain": [
       "array(['[wood stove or insert]', '[]', '[low temperature oil boiler]',\n",
       "       '[Joule effect generators]',\n",
       "       '[lpg/butane/propane condensing boiler]', '[electric boiler]',\n",
       "       '[standard oil boiler]', '[standard gas boiler]',\n",
       "       '[low temperature gas boiler]',\n",
       "       '[LPG/butane/propane standard boiler]', '[coal stove or insert]',\n",
       "       '[gas condensing boiler]', '[LPG/butane/propane stove or insert]',\n",
       "       '[geothermal heat pump]', '[indeterminate stove or insert]',\n",
       "       '[standard coal-fired boiler]', '[air-to-air heat pump]',\n",
       "       '[air-to-water heat pump]', '[water/water heat pump]',\n",
       "       '[low temperature indeterminate energy boiler]', '[wood boiler]',\n",
       "       '[indeterminate energy boiler indeterminate]',\n",
       "       '[oil stove or insert]', '[oil condensing boiler]',\n",
       "       '[heat network]', '[low temperature LPG/butane/propane boiler]',\n",
       "       '[indeterminate wood heating]', '[radiateurs gaz]',\n",
       "       '[chaudiere energie indetermine condensation]',\n",
       "       '[pac indetermine]'], dtype=object)"
      ]
     },
     "execution_count": 348,
     "metadata": {},
     "output_type": "execute_result"
    }
   ],
   "source": [
    "col_cat = df_cat['additional_heat_generators'].dropna().unique()\n",
    "col_cat"
   ]
  },
  {
   "cell_type": "code",
   "execution_count": 339,
   "metadata": {},
   "outputs": [
    {
     "name": "stdout",
     "output_type": "stream",
     "text": [
      "82\n",
      "{'', 'west,north,sud', 'north,west,sud', 'est,west,sud', 'west,horizontal,north,west', 'west,horizontal,sud', 'est,horizontal,undetermined,west,sud', 'est,horizontal,north,west', 'horizontal,undetermined,north,west,sud', 'west,sud', 'est,horizontal', 'west,horizontal,undetermined,north,sud', 'est,sud', 'horizontal,north,west,sud', 'est,undetermined,north,west', 'undetermined,west,sud', 'west,horizontal,north,sud', 'est,north', 'est,north,sud', 'est,horizontal,north', 'horizontal,undetermined', 'undetermined,north,west,sud', 'est,horizontal,sud', 'est,undetermined,west', 'north,west', 'est,undetermined,north,sud', 'west,undetermined', 'west,horizontal,north', 'est,undetermined,north', 'horizontal,undetermined,sud', 'est,north,west', 'west,undetermined,north,west,sud', 'horizontal', 'est,undetermined,north,west,sud', 'est,west', 'est,horizontal,north,west,sud', 'west,north,west,sud', 'west,horizontal,west,sud', 'west,undetermined,west', 'west,north', 'est,horizontal,west,sud', 'undetermined,north', 'est,horizontal,west', 'horizontal,undetermined,west,sud', 'horizontal,sud', 'west,horizontal', 'west,horizontal,north,west,sud', 'west', 'horizontal,west', 'west,west', 'west,north,west', 'north,sud', 'est', 'horizontal,north,west', 'est,undetermined,sud', 'east', 'north', 'undetermined,north,west', 'est,horizontal,undetermined', 'west,horizontal,undetermined,sud', 'est,undetermined', 'west,west,sud', 'west,undetermined,sud', 'est,horizontal,undetermined,north,sud', 'horizontal,undetermined,west', 'undetermined,sud', 'horizontal,north,sud', 'est,horizontal,undetermined,west', 'west,undetermined,north,sud', 'sud', 'est,north,west,sud', 'horizontal,undetermined,north', 'horizontal,north', 'horizontal,undetermined,north,sud', 'undetermined,north,sud', 'est,undetermined,west,sud', 'est,east', 'undetermined,west', 'est,horizontal,north,sud', 'west,horizontal,west', 'horizontal,west,sud', 'est,horizontal,undetermined,north,west,sud'}\n"
     ]
    }
   ],
   "source": [
    "newlist = []\n",
    "size_list = []\n",
    "for word in col_cat:\n",
    "    word = word.replace('[', '')\n",
    "    word = word.replace(']', '')\n",
    "    word = word.split(\" or \")\n",
    "    size_list.append(len(word))\n",
    "    newlist.extend(word)\n",
    "# print(newlist)\n",
    "print(len(set(newlist)))\n",
    "print(set(newlist))\n",
    "# print(max(size_list))"
   ]
  },
  {
   "attachments": {},
   "cell_type": "markdown",
   "metadata": {},
   "source": [
    "# Adapt categorical columns. Part 1"
   ]
  },
  {
   "cell_type": "code",
   "execution_count": 377,
   "metadata": {},
   "outputs": [],
   "source": [
    "def get_encoder_mapping(dataframe, categorical_columns, verbose=False):\n",
    "    encoder_mapping = {}\n",
    "    \n",
    "    for cat_col in categorical_columns:\n",
    "        enc = OrdinalEncoder()\n",
    "        temp_keys = dataframe[cat_col].values\n",
    "        temp_values = enc.fit_transform(dataframe[cat_col].values.reshape(-1, 1)).tolist()\n",
    "        encoder_mapping_col = dict(zip(temp_keys, temp_values))\n",
    "        \n",
    "        encoder_mapping[cat_col] = encoder_mapping_col\n",
    "        if verbose:\n",
    "            print(cat_col)\n",
    "            print(encoder_mapping_col)\n",
    "            print(\"\\n\")\n",
    "    return encoder_mapping"
   ]
  },
  {
   "cell_type": "code",
   "execution_count": 381,
   "metadata": {},
   "outputs": [],
   "source": [
    "encoding_map = get_encoder_mapping(df_filter1, col_cat_valid)\n",
    "# print(encoding_map)\n",
    "with open(\"encoding.json\", \"w\") as outfile:\n",
    "    json.dump(encoding_map, outfile)"
   ]
  },
  {
   "cell_type": "code",
   "execution_count": 392,
   "metadata": {},
   "outputs": [],
   "source": [
    "cat_cols_valid = col_cat_valid\n",
    "cat_cols_unvalid = col_cat_filtered\n",
    "num_cols = list(set(df_filter1.columns).difference(set(cat_cols)))[1:]"
   ]
  },
  {
   "cell_type": "code",
   "execution_count": 394,
   "metadata": {},
   "outputs": [
    {
     "name": "stdout",
     "output_type": "stream",
     "text": [
      "['altitude', 'solar_water_heating', 'post_code', 'building_year', 'upper_floor_thermal_conductivity', 'solar_heating', 'window_thermal_conductivity', 'area_code', 'energy_consumption_per_annum', 'lowe_floor_thermal_conductivity', 'window_heat_retention_factor', 'has_air_conditioning', 'nb_dwellings', 'building_height_ft', 'building_use_type_code', 'nb_meters', 'percentage_glazed_surfaced', 'living_area_sqft', 'outer_wall_thermal_conductivity', 'building_total_area_sqft', 'additional_heat_generators', 'bearing_wall_material', 'building_period', 'building_type', 'building_use_type_description', 'clay_risk_level', 'has_balcony', 'heating_type', 'is_crossing_building', 'lower_floor_adjacency_type', 'lower_floor_insulation_type', 'lower_floor_material', 'main_heat_generators', 'main_water_heaters', 'outer_wall_materials', 'radon_risk_level', 'roof_material', 'thermal_inertia', 'upper_floor_adjacency_type', 'upper_floor_insulation_type', 'upper_floor_material', 'ventilation_type', 'wall_insulation_type', 'water_heating_energy_source', 'water_heating_type', 'window_filling_type', 'window_frame_material', 'window_glazing_type']\n"
     ]
    }
   ],
   "source": [
    "cols_train = num_cols + cat_cols_valid\n",
    "print(cols_train)"
   ]
  },
  {
   "cell_type": "code",
   "execution_count": 395,
   "metadata": {},
   "outputs": [],
   "source": [
    "def encode(dataframe, encoding_map):\n",
    "    for column, mapping in encoding_map.items():\n",
    "        dataframe[column].replace(mapping, inplace=True)"
   ]
  },
  {
   "cell_type": "code",
   "execution_count": 397,
   "metadata": {},
   "outputs": [
    {
     "data": {
      "text/html": [
       "<div>\n",
       "<style scoped>\n",
       "    .dataframe tbody tr th:only-of-type {\n",
       "        vertical-align: middle;\n",
       "    }\n",
       "\n",
       "    .dataframe tbody tr th {\n",
       "        vertical-align: top;\n",
       "    }\n",
       "\n",
       "    .dataframe thead th {\n",
       "        text-align: right;\n",
       "    }\n",
       "</style>\n",
       "<table border=\"1\" class=\"dataframe\">\n",
       "  <thead>\n",
       "    <tr style=\"text-align: right;\">\n",
       "      <th></th>\n",
       "      <th>altitude</th>\n",
       "      <th>solar_water_heating</th>\n",
       "      <th>post_code</th>\n",
       "      <th>building_year</th>\n",
       "      <th>upper_floor_thermal_conductivity</th>\n",
       "      <th>solar_heating</th>\n",
       "      <th>window_thermal_conductivity</th>\n",
       "      <th>area_code</th>\n",
       "      <th>energy_consumption_per_annum</th>\n",
       "      <th>lowe_floor_thermal_conductivity</th>\n",
       "      <th>...</th>\n",
       "      <th>upper_floor_adjacency_type</th>\n",
       "      <th>upper_floor_insulation_type</th>\n",
       "      <th>upper_floor_material</th>\n",
       "      <th>ventilation_type</th>\n",
       "      <th>wall_insulation_type</th>\n",
       "      <th>water_heating_energy_source</th>\n",
       "      <th>water_heating_type</th>\n",
       "      <th>window_filling_type</th>\n",
       "      <th>window_frame_material</th>\n",
       "      <th>window_glazing_type</th>\n",
       "    </tr>\n",
       "  </thead>\n",
       "  <tbody>\n",
       "    <tr>\n",
       "      <th>0</th>\n",
       "      <td>328.08400</td>\n",
       "      <td>False</td>\n",
       "      <td>45504141</td>\n",
       "      <td>1979.0</td>\n",
       "      <td>2.078260</td>\n",
       "      <td>False</td>\n",
       "      <td>15.347292</td>\n",
       "      <td>881</td>\n",
       "      <td>290.166345</td>\n",
       "      <td>2.844251</td>\n",
       "      <td>...</td>\n",
       "      <td>1.0</td>\n",
       "      <td>2.0</td>\n",
       "      <td>2.0</td>\n",
       "      <td>8.0</td>\n",
       "      <td>4.0</td>\n",
       "      <td>9.0</td>\n",
       "      <td>1.0</td>\n",
       "      <td>0.0</td>\n",
       "      <td>7.0</td>\n",
       "      <td>0.0</td>\n",
       "    </tr>\n",
       "    <tr>\n",
       "      <th>1</th>\n",
       "      <td>360.89240</td>\n",
       "      <td>False</td>\n",
       "      <td>40083759</td>\n",
       "      <td>NaN</td>\n",
       "      <td>2.078260</td>\n",
       "      <td>False</td>\n",
       "      <td>17.512631</td>\n",
       "      <td>260</td>\n",
       "      <td>169.818197</td>\n",
       "      <td>4.498072</td>\n",
       "      <td>...</td>\n",
       "      <td>1.0</td>\n",
       "      <td>0.0</td>\n",
       "      <td>9.0</td>\n",
       "      <td>12.0</td>\n",
       "      <td>4.0</td>\n",
       "      <td>4.0</td>\n",
       "      <td>1.0</td>\n",
       "      <td>0.0</td>\n",
       "      <td>8.0</td>\n",
       "      <td>0.0</td>\n",
       "    </tr>\n",
       "    <tr>\n",
       "      <th>2</th>\n",
       "      <td>324.80316</td>\n",
       "      <td>False</td>\n",
       "      <td>43247010</td>\n",
       "      <td>1810.0</td>\n",
       "      <td>1.790967</td>\n",
       "      <td>False</td>\n",
       "      <td>16.779108</td>\n",
       "      <td>573</td>\n",
       "      <td>144.499711</td>\n",
       "      <td>2.813221</td>\n",
       "      <td>...</td>\n",
       "      <td>3.0</td>\n",
       "      <td>2.0</td>\n",
       "      <td>13.0</td>\n",
       "      <td>10.0</td>\n",
       "      <td>4.0</td>\n",
       "      <td>4.0</td>\n",
       "      <td>1.0</td>\n",
       "      <td>1.0</td>\n",
       "      <td>7.0</td>\n",
       "      <td>0.0</td>\n",
       "    </tr>\n",
       "    <tr>\n",
       "      <th>3</th>\n",
       "      <td>288.71392</td>\n",
       "      <td>False</td>\n",
       "      <td>45471718</td>\n",
       "      <td>1972.0</td>\n",
       "      <td>1.811218</td>\n",
       "      <td>False</td>\n",
       "      <td>12.630033</td>\n",
       "      <td>204</td>\n",
       "      <td>158.742715</td>\n",
       "      <td>2.749757</td>\n",
       "      <td>...</td>\n",
       "      <td>1.0</td>\n",
       "      <td>2.0</td>\n",
       "      <td>5.0</td>\n",
       "      <td>3.0</td>\n",
       "      <td>4.0</td>\n",
       "      <td>3.0</td>\n",
       "      <td>1.0</td>\n",
       "      <td>NaN</td>\n",
       "      <td>2.0</td>\n",
       "      <td>4.0</td>\n",
       "    </tr>\n",
       "    <tr>\n",
       "      <th>4</th>\n",
       "      <td>849.73756</td>\n",
       "      <td>False</td>\n",
       "      <td>45783371</td>\n",
       "      <td>2012.0</td>\n",
       "      <td>1.770545</td>\n",
       "      <td>False</td>\n",
       "      <td>13.290529</td>\n",
       "      <td>374</td>\n",
       "      <td>82.223648</td>\n",
       "      <td>2.684326</td>\n",
       "      <td>...</td>\n",
       "      <td>1.0</td>\n",
       "      <td>2.0</td>\n",
       "      <td>3.0</td>\n",
       "      <td>4.0</td>\n",
       "      <td>4.0</td>\n",
       "      <td>12.0</td>\n",
       "      <td>1.0</td>\n",
       "      <td>1.0</td>\n",
       "      <td>7.0</td>\n",
       "      <td>0.0</td>\n",
       "    </tr>\n",
       "    <tr>\n",
       "      <th>...</th>\n",
       "      <td>...</td>\n",
       "      <td>...</td>\n",
       "      <td>...</td>\n",
       "      <td>...</td>\n",
       "      <td>...</td>\n",
       "      <td>...</td>\n",
       "      <td>...</td>\n",
       "      <td>...</td>\n",
       "      <td>...</td>\n",
       "      <td>...</td>\n",
       "      <td>...</td>\n",
       "      <td>...</td>\n",
       "      <td>...</td>\n",
       "      <td>...</td>\n",
       "      <td>...</td>\n",
       "      <td>...</td>\n",
       "      <td>...</td>\n",
       "      <td>...</td>\n",
       "      <td>...</td>\n",
       "      <td>...</td>\n",
       "      <td>...</td>\n",
       "    </tr>\n",
       "    <tr>\n",
       "      <th>1010679</th>\n",
       "      <td>1591.20740</td>\n",
       "      <td>True</td>\n",
       "      <td>66520288</td>\n",
       "      <td>1992.0</td>\n",
       "      <td>1.910007</td>\n",
       "      <td>False</td>\n",
       "      <td>14.649374</td>\n",
       "      <td>671</td>\n",
       "      <td>250.513236</td>\n",
       "      <td>2.844251</td>\n",
       "      <td>...</td>\n",
       "      <td>3.0</td>\n",
       "      <td>2.0</td>\n",
       "      <td>13.0</td>\n",
       "      <td>10.0</td>\n",
       "      <td>4.0</td>\n",
       "      <td>4.0</td>\n",
       "      <td>0.0</td>\n",
       "      <td>1.0</td>\n",
       "      <td>8.0</td>\n",
       "      <td>0.0</td>\n",
       "    </tr>\n",
       "    <tr>\n",
       "      <th>1010680</th>\n",
       "      <td>688.97640</td>\n",
       "      <td>False</td>\n",
       "      <td>60405560</td>\n",
       "      <td>2009.0</td>\n",
       "      <td>1.811218</td>\n",
       "      <td>False</td>\n",
       "      <td>11.348055</td>\n",
       "      <td>345</td>\n",
       "      <td>265.278733</td>\n",
       "      <td>2.582209</td>\n",
       "      <td>...</td>\n",
       "      <td>3.0</td>\n",
       "      <td>2.0</td>\n",
       "      <td>13.0</td>\n",
       "      <td>3.0</td>\n",
       "      <td>4.0</td>\n",
       "      <td>3.0</td>\n",
       "      <td>1.0</td>\n",
       "      <td>NaN</td>\n",
       "      <td>7.0</td>\n",
       "      <td>0.0</td>\n",
       "    </tr>\n",
       "    <tr>\n",
       "      <th>1010681</th>\n",
       "      <td>2805.11820</td>\n",
       "      <td>True</td>\n",
       "      <td>86018197</td>\n",
       "      <td>NaN</td>\n",
       "      <td>NaN</td>\n",
       "      <td>False</td>\n",
       "      <td>11.982461</td>\n",
       "      <td>205</td>\n",
       "      <td>311.681103</td>\n",
       "      <td>3.500730</td>\n",
       "      <td>...</td>\n",
       "      <td>NaN</td>\n",
       "      <td>2.0</td>\n",
       "      <td>9.0</td>\n",
       "      <td>12.0</td>\n",
       "      <td>4.0</td>\n",
       "      <td>17.0</td>\n",
       "      <td>1.0</td>\n",
       "      <td>0.0</td>\n",
       "      <td>7.0</td>\n",
       "      <td>0.0</td>\n",
       "    </tr>\n",
       "    <tr>\n",
       "      <th>1010682</th>\n",
       "      <td>708.66144</td>\n",
       "      <td>False</td>\n",
       "      <td>65083156</td>\n",
       "      <td>1970.0</td>\n",
       "      <td>2.235572</td>\n",
       "      <td>False</td>\n",
       "      <td>16.779108</td>\n",
       "      <td>451</td>\n",
       "      <td>340.538747</td>\n",
       "      <td>4.196129</td>\n",
       "      <td>...</td>\n",
       "      <td>3.0</td>\n",
       "      <td>2.0</td>\n",
       "      <td>5.0</td>\n",
       "      <td>12.0</td>\n",
       "      <td>7.0</td>\n",
       "      <td>9.0</td>\n",
       "      <td>1.0</td>\n",
       "      <td>0.0</td>\n",
       "      <td>7.0</td>\n",
       "      <td>0.0</td>\n",
       "    </tr>\n",
       "    <tr>\n",
       "      <th>1010683</th>\n",
       "      <td>643.04464</td>\n",
       "      <td>True</td>\n",
       "      <td>69028598</td>\n",
       "      <td>1968.0</td>\n",
       "      <td>1.749949</td>\n",
       "      <td>False</td>\n",
       "      <td>13.963716</td>\n",
       "      <td>191</td>\n",
       "      <td>310.079069</td>\n",
       "      <td>4.498072</td>\n",
       "      <td>...</td>\n",
       "      <td>3.0</td>\n",
       "      <td>2.0</td>\n",
       "      <td>7.0</td>\n",
       "      <td>8.0</td>\n",
       "      <td>4.0</td>\n",
       "      <td>3.0</td>\n",
       "      <td>1.0</td>\n",
       "      <td>1.0</td>\n",
       "      <td>7.0</td>\n",
       "      <td>0.0</td>\n",
       "    </tr>\n",
       "  </tbody>\n",
       "</table>\n",
       "<p>1010684 rows × 48 columns</p>\n",
       "</div>"
      ],
      "text/plain": [
       "           altitude  solar_water_heating  post_code  building_year  \\\n",
       "0         328.08400                False   45504141         1979.0   \n",
       "1         360.89240                False   40083759            NaN   \n",
       "2         324.80316                False   43247010         1810.0   \n",
       "3         288.71392                False   45471718         1972.0   \n",
       "4         849.73756                False   45783371         2012.0   \n",
       "...             ...                  ...        ...            ...   \n",
       "1010679  1591.20740                 True   66520288         1992.0   \n",
       "1010680   688.97640                False   60405560         2009.0   \n",
       "1010681  2805.11820                 True   86018197            NaN   \n",
       "1010682   708.66144                False   65083156         1970.0   \n",
       "1010683   643.04464                 True   69028598         1968.0   \n",
       "\n",
       "         upper_floor_thermal_conductivity  solar_heating  \\\n",
       "0                                2.078260          False   \n",
       "1                                2.078260          False   \n",
       "2                                1.790967          False   \n",
       "3                                1.811218          False   \n",
       "4                                1.770545          False   \n",
       "...                                   ...            ...   \n",
       "1010679                          1.910007          False   \n",
       "1010680                          1.811218          False   \n",
       "1010681                               NaN          False   \n",
       "1010682                          2.235572          False   \n",
       "1010683                          1.749949          False   \n",
       "\n",
       "         window_thermal_conductivity  area_code  energy_consumption_per_annum  \\\n",
       "0                          15.347292        881                    290.166345   \n",
       "1                          17.512631        260                    169.818197   \n",
       "2                          16.779108        573                    144.499711   \n",
       "3                          12.630033        204                    158.742715   \n",
       "4                          13.290529        374                     82.223648   \n",
       "...                              ...        ...                           ...   \n",
       "1010679                    14.649374        671                    250.513236   \n",
       "1010680                    11.348055        345                    265.278733   \n",
       "1010681                    11.982461        205                    311.681103   \n",
       "1010682                    16.779108        451                    340.538747   \n",
       "1010683                    13.963716        191                    310.079069   \n",
       "\n",
       "         lowe_floor_thermal_conductivity  ...  upper_floor_adjacency_type  \\\n",
       "0                               2.844251  ...                         1.0   \n",
       "1                               4.498072  ...                         1.0   \n",
       "2                               2.813221  ...                         3.0   \n",
       "3                               2.749757  ...                         1.0   \n",
       "4                               2.684326  ...                         1.0   \n",
       "...                                  ...  ...                         ...   \n",
       "1010679                         2.844251  ...                         3.0   \n",
       "1010680                         2.582209  ...                         3.0   \n",
       "1010681                         3.500730  ...                         NaN   \n",
       "1010682                         4.196129  ...                         3.0   \n",
       "1010683                         4.498072  ...                         3.0   \n",
       "\n",
       "         upper_floor_insulation_type  upper_floor_material  ventilation_type  \\\n",
       "0                                2.0                   2.0               8.0   \n",
       "1                                0.0                   9.0              12.0   \n",
       "2                                2.0                  13.0              10.0   \n",
       "3                                2.0                   5.0               3.0   \n",
       "4                                2.0                   3.0               4.0   \n",
       "...                              ...                   ...               ...   \n",
       "1010679                          2.0                  13.0              10.0   \n",
       "1010680                          2.0                  13.0               3.0   \n",
       "1010681                          2.0                   9.0              12.0   \n",
       "1010682                          2.0                   5.0              12.0   \n",
       "1010683                          2.0                   7.0               8.0   \n",
       "\n",
       "         wall_insulation_type  water_heating_energy_source  \\\n",
       "0                         4.0                          9.0   \n",
       "1                         4.0                          4.0   \n",
       "2                         4.0                          4.0   \n",
       "3                         4.0                          3.0   \n",
       "4                         4.0                         12.0   \n",
       "...                       ...                          ...   \n",
       "1010679                   4.0                          4.0   \n",
       "1010680                   4.0                          3.0   \n",
       "1010681                   4.0                         17.0   \n",
       "1010682                   7.0                          9.0   \n",
       "1010683                   4.0                          3.0   \n",
       "\n",
       "         water_heating_type  window_filling_type  window_frame_material  \\\n",
       "0                       1.0                  0.0                    7.0   \n",
       "1                       1.0                  0.0                    8.0   \n",
       "2                       1.0                  1.0                    7.0   \n",
       "3                       1.0                  NaN                    2.0   \n",
       "4                       1.0                  1.0                    7.0   \n",
       "...                     ...                  ...                    ...   \n",
       "1010679                 0.0                  1.0                    8.0   \n",
       "1010680                 1.0                  NaN                    7.0   \n",
       "1010681                 1.0                  0.0                    7.0   \n",
       "1010682                 1.0                  0.0                    7.0   \n",
       "1010683                 1.0                  1.0                    7.0   \n",
       "\n",
       "         window_glazing_type  \n",
       "0                        0.0  \n",
       "1                        0.0  \n",
       "2                        0.0  \n",
       "3                        4.0  \n",
       "4                        0.0  \n",
       "...                      ...  \n",
       "1010679                  0.0  \n",
       "1010680                  0.0  \n",
       "1010681                  0.0  \n",
       "1010682                  0.0  \n",
       "1010683                  0.0  \n",
       "\n",
       "[1010684 rows x 48 columns]"
      ]
     },
     "execution_count": 397,
     "metadata": {},
     "output_type": "execute_result"
    }
   ],
   "source": [
    "df_cat1 = df_filter1.copy()\n",
    "df_cat1 = df_cat1[cols_train]\n",
    "encode(df_cat1, encoding_map)\n",
    "df_cat1"
   ]
  },
  {
   "attachments": {},
   "cell_type": "markdown",
   "metadata": {},
   "source": [
    "# Adapt categorical columns. Part 2"
   ]
  },
  {
   "cell_type": "code",
   "execution_count": 407,
   "metadata": {},
   "outputs": [
    {
     "data": {
      "text/plain": [
       "['building_category, 704',\n",
       " 'building_class, 1820',\n",
       " 'consumption_measurement_date, 2528',\n",
       " 'heat_generators, 1491',\n",
       " 'heating_energy_source, 60',\n",
       " 'main_heating_type, 33591',\n",
       " 'main_water_heating_type, 36346',\n",
       " 'outer_wall_thickness, 39',\n",
       " 'water_heaters, 174',\n",
       " 'window_orientation, 96']"
      ]
     },
     "execution_count": 407,
     "metadata": {},
     "output_type": "execute_result"
    }
   ],
   "source": [
    "cat_cols_unvalid"
   ]
  },
  {
   "cell_type": "code",
   "execution_count": 410,
   "metadata": {},
   "outputs": [],
   "source": [
    "# TO MODIFY \n",
    "# building_category: explode + unique\n",
    "# building_class: explode + unique\n",
    "# consumption_measurement_date: convert to season\n",
    "# heating_energy_source: split + n-hot\n",
    "# main_heating_type: explode\n",
    "# main_water_heating_type: explode + unique\n",
    "# outer_wall_thickness: replace \" et -\" by \"\" and convert it to integer"
   ]
  },
  {
   "cell_type": "code",
   "execution_count": 427,
   "metadata": {},
   "outputs": [
    {
     "data": {
      "text/plain": [
       "1010684"
      ]
     },
     "execution_count": 427,
     "metadata": {},
     "output_type": "execute_result"
    }
   ],
   "source": [
    "df_col = df_cat[[\"building_category\", \"building_class\"]]\n",
    "len(df_col)"
   ]
  },
  {
   "cell_type": "code",
   "execution_count": 430,
   "metadata": {},
   "outputs": [
    {
     "name": "stdout",
     "output_type": "stream",
     "text": [
      "<class 'pandas.core.frame.DataFrame'>\n",
      "Int64Index: 1010684 entries, 0 to 1010683\n",
      "Data columns (total 2 columns):\n",
      " #   Column             Non-Null Count    Dtype \n",
      "---  ------             --------------    ----- \n",
      " 0   building_category  1010684 non-null  object\n",
      " 1   building_class     1010684 non-null  object\n",
      "dtypes: object(2)\n",
      "memory usage: 23.1+ MB\n"
     ]
    }
   ],
   "source": [
    "df_col.info()"
   ]
  },
  {
   "cell_type": "code",
   "execution_count": 428,
   "metadata": {},
   "outputs": [],
   "source": [
    "df_col = df_col.explode(\"building_category\")"
   ]
  },
  {
   "cell_type": "code",
   "execution_count": 429,
   "metadata": {},
   "outputs": [
    {
     "data": {
      "text/html": [
       "<div>\n",
       "<style scoped>\n",
       "    .dataframe tbody tr th:only-of-type {\n",
       "        vertical-align: middle;\n",
       "    }\n",
       "\n",
       "    .dataframe tbody tr th {\n",
       "        vertical-align: top;\n",
       "    }\n",
       "\n",
       "    .dataframe thead th {\n",
       "        text-align: right;\n",
       "    }\n",
       "</style>\n",
       "<table border=\"1\" class=\"dataframe\">\n",
       "  <thead>\n",
       "    <tr style=\"text-align: right;\">\n",
       "      <th></th>\n",
       "      <th>building_category</th>\n",
       "      <th>building_class</th>\n",
       "    </tr>\n",
       "  </thead>\n",
       "  <tbody>\n",
       "    <tr>\n",
       "      <th>0</th>\n",
       "      <td>[]</td>\n",
       "      <td>[]</td>\n",
       "    </tr>\n",
       "    <tr>\n",
       "      <th>1</th>\n",
       "      <td>[condo]</td>\n",
       "      <td>[2 to 11]</td>\n",
       "    </tr>\n",
       "    <tr>\n",
       "      <th>2</th>\n",
       "      <td>[]</td>\n",
       "      <td>[]</td>\n",
       "    </tr>\n",
       "    <tr>\n",
       "      <th>3</th>\n",
       "      <td>[]</td>\n",
       "      <td>[]</td>\n",
       "    </tr>\n",
       "    <tr>\n",
       "      <th>4</th>\n",
       "      <td>[individual house]</td>\n",
       "      <td>[individual]</td>\n",
       "    </tr>\n",
       "    <tr>\n",
       "      <th>...</th>\n",
       "      <td>...</td>\n",
       "      <td>...</td>\n",
       "    </tr>\n",
       "    <tr>\n",
       "      <th>1010679</th>\n",
       "      <td>[individual house]</td>\n",
       "      <td>[individual]</td>\n",
       "    </tr>\n",
       "    <tr>\n",
       "      <th>1010680</th>\n",
       "      <td>[]</td>\n",
       "      <td>[]</td>\n",
       "    </tr>\n",
       "    <tr>\n",
       "      <th>1010681</th>\n",
       "      <td>[individual house]</td>\n",
       "      <td>[individual]</td>\n",
       "    </tr>\n",
       "    <tr>\n",
       "      <th>1010682</th>\n",
       "      <td>[]</td>\n",
       "      <td>[]</td>\n",
       "    </tr>\n",
       "    <tr>\n",
       "      <th>1010683</th>\n",
       "      <td>[individual house]</td>\n",
       "      <td>[individual]</td>\n",
       "    </tr>\n",
       "  </tbody>\n",
       "</table>\n",
       "<p>1010684 rows × 2 columns</p>\n",
       "</div>"
      ],
      "text/plain": [
       "          building_category building_class\n",
       "0                        []             []\n",
       "1                   [condo]      [2 to 11]\n",
       "2                        []             []\n",
       "3                        []             []\n",
       "4        [individual house]   [individual]\n",
       "...                     ...            ...\n",
       "1010679  [individual house]   [individual]\n",
       "1010680                  []             []\n",
       "1010681  [individual house]   [individual]\n",
       "1010682                  []             []\n",
       "1010683  [individual house]   [individual]\n",
       "\n",
       "[1010684 rows x 2 columns]"
      ]
     },
     "execution_count": 429,
     "metadata": {},
     "output_type": "execute_result"
    }
   ],
   "source": [
    "df_col"
   ]
  },
  {
   "cell_type": "code",
   "execution_count": 412,
   "metadata": {},
   "outputs": [
    {
     "data": {
      "text/plain": [
       "1010684"
      ]
     },
     "execution_count": 412,
     "metadata": {},
     "output_type": "execute_result"
    }
   ],
   "source": [
    "len(df_col)"
   ]
  },
  {
   "cell_type": "code",
   "execution_count": 446,
   "metadata": {},
   "outputs": [
    {
     "data": {
      "text/plain": [
       "704"
      ]
     },
     "execution_count": 446,
     "metadata": {},
     "output_type": "execute_result"
    }
   ],
   "source": [
    "df_col['building_category'].nunique()"
   ]
  },
  {
   "cell_type": "code",
   "execution_count": 500,
   "metadata": {},
   "outputs": [],
   "source": [
    "df_col_sample = df_col[130:140]"
   ]
  },
  {
   "cell_type": "code",
   "execution_count": 501,
   "metadata": {},
   "outputs": [
    {
     "data": {
      "text/html": [
       "<div>\n",
       "<style scoped>\n",
       "    .dataframe tbody tr th:only-of-type {\n",
       "        vertical-align: middle;\n",
       "    }\n",
       "\n",
       "    .dataframe tbody tr th {\n",
       "        vertical-align: top;\n",
       "    }\n",
       "\n",
       "    .dataframe thead th {\n",
       "        text-align: right;\n",
       "    }\n",
       "</style>\n",
       "<table border=\"1\" class=\"dataframe\">\n",
       "  <thead>\n",
       "    <tr style=\"text-align: right;\">\n",
       "      <th></th>\n",
       "      <th>building_category</th>\n",
       "      <th>building_class</th>\n",
       "    </tr>\n",
       "  </thead>\n",
       "  <tbody>\n",
       "    <tr>\n",
       "      <th>130</th>\n",
       "      <td>[]</td>\n",
       "      <td>[]</td>\n",
       "    </tr>\n",
       "    <tr>\n",
       "      <th>131</th>\n",
       "      <td>[individual house]</td>\n",
       "      <td>[individual]</td>\n",
       "    </tr>\n",
       "    <tr>\n",
       "      <th>132</th>\n",
       "      <td>[]</td>\n",
       "      <td>[]</td>\n",
       "    </tr>\n",
       "    <tr>\n",
       "      <th>133</th>\n",
       "      <td>[]</td>\n",
       "      <td>[]</td>\n",
       "    </tr>\n",
       "    <tr>\n",
       "      <th>134</th>\n",
       "      <td>[individual house]</td>\n",
       "      <td>[individual]</td>\n",
       "    </tr>\n",
       "    <tr>\n",
       "      <th>135</th>\n",
       "      <td>[individual house,individual house]</td>\n",
       "      <td>[individual,2 to 11]</td>\n",
       "    </tr>\n",
       "    <tr>\n",
       "      <th>136</th>\n",
       "      <td>[individual house]</td>\n",
       "      <td>[individual]</td>\n",
       "    </tr>\n",
       "    <tr>\n",
       "      <th>137</th>\n",
       "      <td>[individual house,individual house,individual ...</td>\n",
       "      <td>[individual,individual,individual,individual,i...</td>\n",
       "    </tr>\n",
       "    <tr>\n",
       "      <th>138</th>\n",
       "      <td>[condo]</td>\n",
       "      <td>[2 to 11]</td>\n",
       "    </tr>\n",
       "    <tr>\n",
       "      <th>139</th>\n",
       "      <td>[individual house]</td>\n",
       "      <td>[individual]</td>\n",
       "    </tr>\n",
       "  </tbody>\n",
       "</table>\n",
       "</div>"
      ],
      "text/plain": [
       "                                     building_category  \\\n",
       "130                                                 []   \n",
       "131                                 [individual house]   \n",
       "132                                                 []   \n",
       "133                                                 []   \n",
       "134                                 [individual house]   \n",
       "135                [individual house,individual house]   \n",
       "136                                 [individual house]   \n",
       "137  [individual house,individual house,individual ...   \n",
       "138                                            [condo]   \n",
       "139                                 [individual house]   \n",
       "\n",
       "                                        building_class  \n",
       "130                                                 []  \n",
       "131                                       [individual]  \n",
       "132                                                 []  \n",
       "133                                                 []  \n",
       "134                                       [individual]  \n",
       "135                               [individual,2 to 11]  \n",
       "136                                       [individual]  \n",
       "137  [individual,individual,individual,individual,i...  \n",
       "138                                          [2 to 11]  \n",
       "139                                       [individual]  "
      ]
     },
     "execution_count": 501,
     "metadata": {},
     "output_type": "execute_result"
    }
   ],
   "source": [
    "df_col_sample"
   ]
  },
  {
   "cell_type": "code",
   "execution_count": 502,
   "metadata": {},
   "outputs": [
    {
     "name": "stderr",
     "output_type": "stream",
     "text": [
      "/home/frank/anaconda3/envs/BCG/lib/python3.7/site-packages/ipykernel_launcher.py:1: FutureWarning: The default value of regex will change from True to False in a future version.\n",
      "  \"\"\"Entry point for launching an IPython kernel.\n",
      "/home/frank/anaconda3/envs/BCG/lib/python3.7/site-packages/ipykernel_launcher.py:1: SettingWithCopyWarning: \n",
      "A value is trying to be set on a copy of a slice from a DataFrame.\n",
      "Try using .loc[row_indexer,col_indexer] = value instead\n",
      "\n",
      "See the caveats in the documentation: https://pandas.pydata.org/pandas-docs/stable/user_guide/indexing.html#returning-a-view-versus-a-copy\n",
      "  \"\"\"Entry point for launching an IPython kernel.\n"
     ]
    }
   ],
   "source": [
    "df_col_sample['building_category'] = df_col_sample['building_category'].str.replace(r\"\\[|\\]\",'')"
   ]
  },
  {
   "cell_type": "code",
   "execution_count": 504,
   "metadata": {},
   "outputs": [],
   "source": [
    "df_col_sample = df_col_sample.explode('building_category')"
   ]
  },
  {
   "cell_type": "code",
   "execution_count": 505,
   "metadata": {},
   "outputs": [
    {
     "data": {
      "text/html": [
       "<div>\n",
       "<style scoped>\n",
       "    .dataframe tbody tr th:only-of-type {\n",
       "        vertical-align: middle;\n",
       "    }\n",
       "\n",
       "    .dataframe tbody tr th {\n",
       "        vertical-align: top;\n",
       "    }\n",
       "\n",
       "    .dataframe thead th {\n",
       "        text-align: right;\n",
       "    }\n",
       "</style>\n",
       "<table border=\"1\" class=\"dataframe\">\n",
       "  <thead>\n",
       "    <tr style=\"text-align: right;\">\n",
       "      <th></th>\n",
       "      <th>building_category</th>\n",
       "      <th>building_class</th>\n",
       "    </tr>\n",
       "  </thead>\n",
       "  <tbody>\n",
       "    <tr>\n",
       "      <th>130</th>\n",
       "      <td></td>\n",
       "      <td>[]</td>\n",
       "    </tr>\n",
       "    <tr>\n",
       "      <th>131</th>\n",
       "      <td>individual house</td>\n",
       "      <td>[individual]</td>\n",
       "    </tr>\n",
       "    <tr>\n",
       "      <th>132</th>\n",
       "      <td></td>\n",
       "      <td>[]</td>\n",
       "    </tr>\n",
       "    <tr>\n",
       "      <th>133</th>\n",
       "      <td></td>\n",
       "      <td>[]</td>\n",
       "    </tr>\n",
       "    <tr>\n",
       "      <th>134</th>\n",
       "      <td>individual house</td>\n",
       "      <td>[individual]</td>\n",
       "    </tr>\n",
       "    <tr>\n",
       "      <th>135</th>\n",
       "      <td>individual house,individual house</td>\n",
       "      <td>[individual,2 to 11]</td>\n",
       "    </tr>\n",
       "    <tr>\n",
       "      <th>136</th>\n",
       "      <td>individual house</td>\n",
       "      <td>[individual]</td>\n",
       "    </tr>\n",
       "    <tr>\n",
       "      <th>137</th>\n",
       "      <td>individual house,individual house,individual h...</td>\n",
       "      <td>[individual,individual,individual,individual,i...</td>\n",
       "    </tr>\n",
       "    <tr>\n",
       "      <th>138</th>\n",
       "      <td>condo</td>\n",
       "      <td>[2 to 11]</td>\n",
       "    </tr>\n",
       "    <tr>\n",
       "      <th>139</th>\n",
       "      <td>individual house</td>\n",
       "      <td>[individual]</td>\n",
       "    </tr>\n",
       "  </tbody>\n",
       "</table>\n",
       "</div>"
      ],
      "text/plain": [
       "                                     building_category  \\\n",
       "130                                                      \n",
       "131                                   individual house   \n",
       "132                                                      \n",
       "133                                                      \n",
       "134                                   individual house   \n",
       "135                  individual house,individual house   \n",
       "136                                   individual house   \n",
       "137  individual house,individual house,individual h...   \n",
       "138                                              condo   \n",
       "139                                   individual house   \n",
       "\n",
       "                                        building_class  \n",
       "130                                                 []  \n",
       "131                                       [individual]  \n",
       "132                                                 []  \n",
       "133                                                 []  \n",
       "134                                       [individual]  \n",
       "135                               [individual,2 to 11]  \n",
       "136                                       [individual]  \n",
       "137  [individual,individual,individual,individual,i...  \n",
       "138                                          [2 to 11]  \n",
       "139                                       [individual]  "
      ]
     },
     "execution_count": 505,
     "metadata": {},
     "output_type": "execute_result"
    }
   ],
   "source": [
    "df_col_sample"
   ]
  },
  {
   "cell_type": "code",
   "execution_count": 503,
   "metadata": {},
   "outputs": [
    {
     "data": {
      "text/html": [
       "<div>\n",
       "<style scoped>\n",
       "    .dataframe tbody tr th:only-of-type {\n",
       "        vertical-align: middle;\n",
       "    }\n",
       "\n",
       "    .dataframe tbody tr th {\n",
       "        vertical-align: top;\n",
       "    }\n",
       "\n",
       "    .dataframe thead th {\n",
       "        text-align: right;\n",
       "    }\n",
       "</style>\n",
       "<table border=\"1\" class=\"dataframe\">\n",
       "  <thead>\n",
       "    <tr style=\"text-align: right;\">\n",
       "      <th></th>\n",
       "      <th>0</th>\n",
       "      <th>1</th>\n",
       "      <th>2</th>\n",
       "      <th>3</th>\n",
       "      <th>4</th>\n",
       "      <th>5</th>\n",
       "      <th>6</th>\n",
       "      <th>7</th>\n",
       "      <th>8</th>\n",
       "      <th>9</th>\n",
       "    </tr>\n",
       "  </thead>\n",
       "  <tbody>\n",
       "    <tr>\n",
       "      <th>130</th>\n",
       "      <td></td>\n",
       "      <td>None</td>\n",
       "      <td>None</td>\n",
       "      <td>None</td>\n",
       "      <td>None</td>\n",
       "      <td>None</td>\n",
       "      <td>None</td>\n",
       "      <td>None</td>\n",
       "      <td>None</td>\n",
       "      <td>None</td>\n",
       "    </tr>\n",
       "    <tr>\n",
       "      <th>131</th>\n",
       "      <td>individual house</td>\n",
       "      <td>None</td>\n",
       "      <td>None</td>\n",
       "      <td>None</td>\n",
       "      <td>None</td>\n",
       "      <td>None</td>\n",
       "      <td>None</td>\n",
       "      <td>None</td>\n",
       "      <td>None</td>\n",
       "      <td>None</td>\n",
       "    </tr>\n",
       "    <tr>\n",
       "      <th>132</th>\n",
       "      <td></td>\n",
       "      <td>None</td>\n",
       "      <td>None</td>\n",
       "      <td>None</td>\n",
       "      <td>None</td>\n",
       "      <td>None</td>\n",
       "      <td>None</td>\n",
       "      <td>None</td>\n",
       "      <td>None</td>\n",
       "      <td>None</td>\n",
       "    </tr>\n",
       "    <tr>\n",
       "      <th>133</th>\n",
       "      <td></td>\n",
       "      <td>None</td>\n",
       "      <td>None</td>\n",
       "      <td>None</td>\n",
       "      <td>None</td>\n",
       "      <td>None</td>\n",
       "      <td>None</td>\n",
       "      <td>None</td>\n",
       "      <td>None</td>\n",
       "      <td>None</td>\n",
       "    </tr>\n",
       "    <tr>\n",
       "      <th>134</th>\n",
       "      <td>individual house</td>\n",
       "      <td>None</td>\n",
       "      <td>None</td>\n",
       "      <td>None</td>\n",
       "      <td>None</td>\n",
       "      <td>None</td>\n",
       "      <td>None</td>\n",
       "      <td>None</td>\n",
       "      <td>None</td>\n",
       "      <td>None</td>\n",
       "    </tr>\n",
       "    <tr>\n",
       "      <th>135</th>\n",
       "      <td>individual house</td>\n",
       "      <td>individual house</td>\n",
       "      <td>None</td>\n",
       "      <td>None</td>\n",
       "      <td>None</td>\n",
       "      <td>None</td>\n",
       "      <td>None</td>\n",
       "      <td>None</td>\n",
       "      <td>None</td>\n",
       "      <td>None</td>\n",
       "    </tr>\n",
       "    <tr>\n",
       "      <th>136</th>\n",
       "      <td>individual house</td>\n",
       "      <td>None</td>\n",
       "      <td>None</td>\n",
       "      <td>None</td>\n",
       "      <td>None</td>\n",
       "      <td>None</td>\n",
       "      <td>None</td>\n",
       "      <td>None</td>\n",
       "      <td>None</td>\n",
       "      <td>None</td>\n",
       "    </tr>\n",
       "    <tr>\n",
       "      <th>137</th>\n",
       "      <td>individual house</td>\n",
       "      <td>individual house</td>\n",
       "      <td>individual house</td>\n",
       "      <td>individual house</td>\n",
       "      <td>individual house</td>\n",
       "      <td>individual house</td>\n",
       "      <td>individual house</td>\n",
       "      <td>individual house</td>\n",
       "      <td>individual house</td>\n",
       "      <td>individual house</td>\n",
       "    </tr>\n",
       "    <tr>\n",
       "      <th>138</th>\n",
       "      <td>condo</td>\n",
       "      <td>None</td>\n",
       "      <td>None</td>\n",
       "      <td>None</td>\n",
       "      <td>None</td>\n",
       "      <td>None</td>\n",
       "      <td>None</td>\n",
       "      <td>None</td>\n",
       "      <td>None</td>\n",
       "      <td>None</td>\n",
       "    </tr>\n",
       "    <tr>\n",
       "      <th>139</th>\n",
       "      <td>individual house</td>\n",
       "      <td>None</td>\n",
       "      <td>None</td>\n",
       "      <td>None</td>\n",
       "      <td>None</td>\n",
       "      <td>None</td>\n",
       "      <td>None</td>\n",
       "      <td>None</td>\n",
       "      <td>None</td>\n",
       "      <td>None</td>\n",
       "    </tr>\n",
       "  </tbody>\n",
       "</table>\n",
       "</div>"
      ],
      "text/plain": [
       "                    0                 1                 2                 3  \\\n",
       "130                                None              None              None   \n",
       "131  individual house              None              None              None   \n",
       "132                                None              None              None   \n",
       "133                                None              None              None   \n",
       "134  individual house              None              None              None   \n",
       "135  individual house  individual house              None              None   \n",
       "136  individual house              None              None              None   \n",
       "137  individual house  individual house  individual house  individual house   \n",
       "138             condo              None              None              None   \n",
       "139  individual house              None              None              None   \n",
       "\n",
       "                    4                 5                 6                 7  \\\n",
       "130              None              None              None              None   \n",
       "131              None              None              None              None   \n",
       "132              None              None              None              None   \n",
       "133              None              None              None              None   \n",
       "134              None              None              None              None   \n",
       "135              None              None              None              None   \n",
       "136              None              None              None              None   \n",
       "137  individual house  individual house  individual house  individual house   \n",
       "138              None              None              None              None   \n",
       "139              None              None              None              None   \n",
       "\n",
       "                    8                 9  \n",
       "130              None              None  \n",
       "131              None              None  \n",
       "132              None              None  \n",
       "133              None              None  \n",
       "134              None              None  \n",
       "135              None              None  \n",
       "136              None              None  \n",
       "137  individual house  individual house  \n",
       "138              None              None  \n",
       "139              None              None  "
      ]
     },
     "execution_count": 503,
     "metadata": {},
     "output_type": "execute_result"
    }
   ],
   "source": [
    "df_col_sample['building_category'].str.split(',', expand=True)"
   ]
  },
  {
   "cell_type": "code",
   "execution_count": 498,
   "metadata": {},
   "outputs": [
    {
     "data": {
      "text/plain": [
       "0                    \n",
       "1               condo\n",
       "2                    \n",
       "3                    \n",
       "4    individual house\n",
       "5    individual house\n",
       "6                    \n",
       "7                    \n",
       "8    individual house\n",
       "9               condo\n",
       "Name: building_category, dtype: object"
      ]
     },
     "execution_count": 498,
     "metadata": {},
     "output_type": "execute_result"
    }
   ],
   "source": [
    "df_col_sample['building_category']"
   ]
  },
  {
   "cell_type": "code",
   "execution_count": 497,
   "metadata": {},
   "outputs": [],
   "source": [
    "# df_col['building_category'] = df_col.building_category.apply(lambda x: literal_eval(list(x)))"
   ]
  },
  {
   "cell_type": "code",
   "execution_count": null,
   "metadata": {},
   "outputs": [],
   "source": []
  },
  {
   "cell_type": "code",
   "execution_count": null,
   "metadata": {},
   "outputs": [],
   "source": []
  },
  {
   "cell_type": "code",
   "execution_count": 433,
   "metadata": {},
   "outputs": [],
   "source": [
    "df_col = df_col.explode(\"building_category\")"
   ]
  },
  {
   "cell_type": "code",
   "execution_count": 434,
   "metadata": {},
   "outputs": [
    {
     "data": {
      "text/html": [
       "<div>\n",
       "<style scoped>\n",
       "    .dataframe tbody tr th:only-of-type {\n",
       "        vertical-align: middle;\n",
       "    }\n",
       "\n",
       "    .dataframe tbody tr th {\n",
       "        vertical-align: top;\n",
       "    }\n",
       "\n",
       "    .dataframe thead th {\n",
       "        text-align: right;\n",
       "    }\n",
       "</style>\n",
       "<table border=\"1\" class=\"dataframe\">\n",
       "  <thead>\n",
       "    <tr style=\"text-align: right;\">\n",
       "      <th></th>\n",
       "      <th>building_category</th>\n",
       "      <th>building_class</th>\n",
       "    </tr>\n",
       "  </thead>\n",
       "  <tbody>\n",
       "    <tr>\n",
       "      <th>0</th>\n",
       "      <td>[]</td>\n",
       "      <td>[]</td>\n",
       "    </tr>\n",
       "    <tr>\n",
       "      <th>1</th>\n",
       "      <td>[condo]</td>\n",
       "      <td>[2 to 11]</td>\n",
       "    </tr>\n",
       "    <tr>\n",
       "      <th>2</th>\n",
       "      <td>[]</td>\n",
       "      <td>[]</td>\n",
       "    </tr>\n",
       "    <tr>\n",
       "      <th>3</th>\n",
       "      <td>[]</td>\n",
       "      <td>[]</td>\n",
       "    </tr>\n",
       "    <tr>\n",
       "      <th>4</th>\n",
       "      <td>[individual house]</td>\n",
       "      <td>[individual]</td>\n",
       "    </tr>\n",
       "    <tr>\n",
       "      <th>...</th>\n",
       "      <td>...</td>\n",
       "      <td>...</td>\n",
       "    </tr>\n",
       "    <tr>\n",
       "      <th>1010679</th>\n",
       "      <td>[individual house]</td>\n",
       "      <td>[individual]</td>\n",
       "    </tr>\n",
       "    <tr>\n",
       "      <th>1010680</th>\n",
       "      <td>[]</td>\n",
       "      <td>[]</td>\n",
       "    </tr>\n",
       "    <tr>\n",
       "      <th>1010681</th>\n",
       "      <td>[individual house]</td>\n",
       "      <td>[individual]</td>\n",
       "    </tr>\n",
       "    <tr>\n",
       "      <th>1010682</th>\n",
       "      <td>[]</td>\n",
       "      <td>[]</td>\n",
       "    </tr>\n",
       "    <tr>\n",
       "      <th>1010683</th>\n",
       "      <td>[individual house]</td>\n",
       "      <td>[individual]</td>\n",
       "    </tr>\n",
       "  </tbody>\n",
       "</table>\n",
       "<p>1010684 rows × 2 columns</p>\n",
       "</div>"
      ],
      "text/plain": [
       "          building_category building_class\n",
       "0                        []             []\n",
       "1                   [condo]      [2 to 11]\n",
       "2                        []             []\n",
       "3                        []             []\n",
       "4        [individual house]   [individual]\n",
       "...                     ...            ...\n",
       "1010679  [individual house]   [individual]\n",
       "1010680                  []             []\n",
       "1010681  [individual house]   [individual]\n",
       "1010682                  []             []\n",
       "1010683  [individual house]   [individual]\n",
       "\n",
       "[1010684 rows x 2 columns]"
      ]
     },
     "execution_count": 434,
     "metadata": {},
     "output_type": "execute_result"
    }
   ],
   "source": [
    "df_col"
   ]
  },
  {
   "attachments": {},
   "cell_type": "markdown",
   "metadata": {},
   "source": [
    "# Only with numeric columns"
   ]
  },
  {
   "cell_type": "code",
   "execution_count": 197,
   "metadata": {},
   "outputs": [],
   "source": [
    "num_cols = list(set(df_filter1.columns).difference(set(cat_cols)))"
   ]
  },
  {
   "cell_type": "code",
   "execution_count": 198,
   "metadata": {},
   "outputs": [
    {
     "data": {
      "text/plain": [
       "['altitude',\n",
       " 'solar_water_heating',\n",
       " 'post_code',\n",
       " 'building_year',\n",
       " 'upper_floor_thermal_conductivity',\n",
       " 'solar_heating',\n",
       " 'window_thermal_conductivity',\n",
       " 'area_code',\n",
       " 'energy_consumption_per_annum',\n",
       " 'lowe_floor_thermal_conductivity',\n",
       " 'window_heat_retention_factor',\n",
       " 'has_air_conditioning',\n",
       " 'nb_dwellings',\n",
       " 'building_height_ft',\n",
       " 'building_use_type_code',\n",
       " 'nb_meters',\n",
       " 'percentage_glazed_surfaced',\n",
       " 'living_area_sqft',\n",
       " 'outer_wall_thermal_conductivity',\n",
       " 'building_total_area_sqft']"
      ]
     },
     "execution_count": 198,
     "metadata": {},
     "output_type": "execute_result"
    }
   ],
   "source": [
    "num_cols = num_cols[1:]\n",
    "num_cols"
   ]
  },
  {
   "cell_type": "code",
   "execution_count": 216,
   "metadata": {},
   "outputs": [],
   "source": [
    "df_num = df_filter1[num_cols]"
   ]
  },
  {
   "cell_type": "code",
   "execution_count": 220,
   "metadata": {},
   "outputs": [
    {
     "data": {
      "text/html": [
       "<div>\n",
       "<style scoped>\n",
       "    .dataframe tbody tr th:only-of-type {\n",
       "        vertical-align: middle;\n",
       "    }\n",
       "\n",
       "    .dataframe tbody tr th {\n",
       "        vertical-align: top;\n",
       "    }\n",
       "\n",
       "    .dataframe thead th {\n",
       "        text-align: right;\n",
       "    }\n",
       "</style>\n",
       "<table border=\"1\" class=\"dataframe\">\n",
       "  <thead>\n",
       "    <tr style=\"text-align: right;\">\n",
       "      <th></th>\n",
       "      <th>altitude</th>\n",
       "      <th>solar_water_heating</th>\n",
       "      <th>post_code</th>\n",
       "      <th>building_year</th>\n",
       "      <th>upper_floor_thermal_conductivity</th>\n",
       "      <th>solar_heating</th>\n",
       "      <th>window_thermal_conductivity</th>\n",
       "      <th>area_code</th>\n",
       "      <th>energy_consumption_per_annum</th>\n",
       "      <th>lowe_floor_thermal_conductivity</th>\n",
       "      <th>window_heat_retention_factor</th>\n",
       "      <th>has_air_conditioning</th>\n",
       "      <th>nb_dwellings</th>\n",
       "      <th>building_height_ft</th>\n",
       "      <th>building_use_type_code</th>\n",
       "      <th>nb_meters</th>\n",
       "      <th>percentage_glazed_surfaced</th>\n",
       "      <th>living_area_sqft</th>\n",
       "      <th>outer_wall_thermal_conductivity</th>\n",
       "      <th>building_total_area_sqft</th>\n",
       "    </tr>\n",
       "  </thead>\n",
       "  <tbody>\n",
       "    <tr>\n",
       "      <th>0</th>\n",
       "      <td>328.08400</td>\n",
       "      <td>False</td>\n",
       "      <td>45504141</td>\n",
       "      <td>1979.0</td>\n",
       "      <td>2.078260</td>\n",
       "      <td>False</td>\n",
       "      <td>15.347292</td>\n",
       "      <td>881</td>\n",
       "      <td>290.166345</td>\n",
       "      <td>2.844251</td>\n",
       "      <td>1.116894</td>\n",
       "      <td>False</td>\n",
       "      <td>1</td>\n",
       "      <td>13.779528</td>\n",
       "      <td>1</td>\n",
       "      <td>NaN</td>\n",
       "      <td>0.847969</td>\n",
       "      <td>904.1676</td>\n",
       "      <td>4.364981</td>\n",
       "      <td>1291.6680</td>\n",
       "    </tr>\n",
       "    <tr>\n",
       "      <th>1</th>\n",
       "      <td>360.89240</td>\n",
       "      <td>False</td>\n",
       "      <td>40083759</td>\n",
       "      <td>NaN</td>\n",
       "      <td>2.078260</td>\n",
       "      <td>False</td>\n",
       "      <td>17.512631</td>\n",
       "      <td>260</td>\n",
       "      <td>169.818197</td>\n",
       "      <td>4.498072</td>\n",
       "      <td>1.133072</td>\n",
       "      <td>False</td>\n",
       "      <td>24</td>\n",
       "      <td>43.635172</td>\n",
       "      <td>2</td>\n",
       "      <td>5.0</td>\n",
       "      <td>0.750366</td>\n",
       "      <td>785.7647</td>\n",
       "      <td>3.364592</td>\n",
       "      <td>7136.4657</td>\n",
       "    </tr>\n",
       "    <tr>\n",
       "      <th>2</th>\n",
       "      <td>324.80316</td>\n",
       "      <td>False</td>\n",
       "      <td>43247010</td>\n",
       "      <td>1810.0</td>\n",
       "      <td>1.790967</td>\n",
       "      <td>False</td>\n",
       "      <td>16.779108</td>\n",
       "      <td>573</td>\n",
       "      <td>144.499711</td>\n",
       "      <td>2.813221</td>\n",
       "      <td>1.084204</td>\n",
       "      <td>False</td>\n",
       "      <td>2</td>\n",
       "      <td>19.685040</td>\n",
       "      <td>2</td>\n",
       "      <td>NaN</td>\n",
       "      <td>NaN</td>\n",
       "      <td>1162.5012</td>\n",
       "      <td>2.447516</td>\n",
       "      <td>4197.9210</td>\n",
       "    </tr>\n",
       "    <tr>\n",
       "      <th>3</th>\n",
       "      <td>288.71392</td>\n",
       "      <td>False</td>\n",
       "      <td>45471718</td>\n",
       "      <td>1972.0</td>\n",
       "      <td>1.811218</td>\n",
       "      <td>False</td>\n",
       "      <td>12.630033</td>\n",
       "      <td>204</td>\n",
       "      <td>158.742715</td>\n",
       "      <td>2.749757</td>\n",
       "      <td>0.983338</td>\n",
       "      <td>False</td>\n",
       "      <td>1</td>\n",
       "      <td>13.779528</td>\n",
       "      <td>1</td>\n",
       "      <td>NaN</td>\n",
       "      <td>0.748615</td>\n",
       "      <td>1937.5020</td>\n",
       "      <td>2.819698</td>\n",
       "      <td>1646.8767</td>\n",
       "    </tr>\n",
       "    <tr>\n",
       "      <th>4</th>\n",
       "      <td>849.73756</td>\n",
       "      <td>False</td>\n",
       "      <td>45783371</td>\n",
       "      <td>2012.0</td>\n",
       "      <td>1.770545</td>\n",
       "      <td>False</td>\n",
       "      <td>13.290529</td>\n",
       "      <td>374</td>\n",
       "      <td>82.223648</td>\n",
       "      <td>2.684326</td>\n",
       "      <td>1.084204</td>\n",
       "      <td>False</td>\n",
       "      <td>1</td>\n",
       "      <td>19.028872</td>\n",
       "      <td>1</td>\n",
       "      <td>1.0</td>\n",
       "      <td>0.662147</td>\n",
       "      <td>1087.1539</td>\n",
       "      <td>1.508377</td>\n",
       "      <td>1033.3344</td>\n",
       "    </tr>\n",
       "  </tbody>\n",
       "</table>\n",
       "</div>"
      ],
      "text/plain": [
       "    altitude  solar_water_heating  post_code  building_year  \\\n",
       "0  328.08400                False   45504141         1979.0   \n",
       "1  360.89240                False   40083759            NaN   \n",
       "2  324.80316                False   43247010         1810.0   \n",
       "3  288.71392                False   45471718         1972.0   \n",
       "4  849.73756                False   45783371         2012.0   \n",
       "\n",
       "   upper_floor_thermal_conductivity  solar_heating  \\\n",
       "0                          2.078260          False   \n",
       "1                          2.078260          False   \n",
       "2                          1.790967          False   \n",
       "3                          1.811218          False   \n",
       "4                          1.770545          False   \n",
       "\n",
       "   window_thermal_conductivity  area_code  energy_consumption_per_annum  \\\n",
       "0                    15.347292        881                    290.166345   \n",
       "1                    17.512631        260                    169.818197   \n",
       "2                    16.779108        573                    144.499711   \n",
       "3                    12.630033        204                    158.742715   \n",
       "4                    13.290529        374                     82.223648   \n",
       "\n",
       "   lowe_floor_thermal_conductivity  window_heat_retention_factor  \\\n",
       "0                         2.844251                      1.116894   \n",
       "1                         4.498072                      1.133072   \n",
       "2                         2.813221                      1.084204   \n",
       "3                         2.749757                      0.983338   \n",
       "4                         2.684326                      1.084204   \n",
       "\n",
       "   has_air_conditioning  nb_dwellings  building_height_ft  \\\n",
       "0                 False             1           13.779528   \n",
       "1                 False            24           43.635172   \n",
       "2                 False             2           19.685040   \n",
       "3                 False             1           13.779528   \n",
       "4                 False             1           19.028872   \n",
       "\n",
       "   building_use_type_code  nb_meters  percentage_glazed_surfaced  \\\n",
       "0                       1        NaN                    0.847969   \n",
       "1                       2        5.0                    0.750366   \n",
       "2                       2        NaN                         NaN   \n",
       "3                       1        NaN                    0.748615   \n",
       "4                       1        1.0                    0.662147   \n",
       "\n",
       "   living_area_sqft  outer_wall_thermal_conductivity  building_total_area_sqft  \n",
       "0          904.1676                         4.364981                 1291.6680  \n",
       "1          785.7647                         3.364592                 7136.4657  \n",
       "2         1162.5012                         2.447516                 4197.9210  \n",
       "3         1937.5020                         2.819698                 1646.8767  \n",
       "4         1087.1539                         1.508377                 1033.3344  "
      ]
     },
     "execution_count": 220,
     "metadata": {},
     "output_type": "execute_result"
    }
   ],
   "source": [
    "df_num.head()"
   ]
  },
  {
   "attachments": {},
   "cell_type": "markdown",
   "metadata": {},
   "source": [
    "# Filter NaN and split training and test"
   ]
  },
  {
   "cell_type": "code",
   "execution_count": 398,
   "metadata": {},
   "outputs": [],
   "source": [
    "# replace by dataframe to be used\n",
    "dataset = df_cat1"
   ]
  },
  {
   "cell_type": "code",
   "execution_count": 399,
   "metadata": {},
   "outputs": [
    {
     "name": "stdout",
     "output_type": "stream",
     "text": [
      "1010684\n",
      "222504\n"
     ]
    }
   ],
   "source": [
    "print(len(dataset))\n",
    "dataset_non_na = dataset.dropna()\n",
    "print(len(dataset_non_na))"
   ]
  },
  {
   "cell_type": "code",
   "execution_count": 400,
   "metadata": {},
   "outputs": [],
   "source": [
    "X_non_na = dataset_non_na.drop([\"energy_consumption_per_annum\"], axis=1)\n",
    "Y_non_na = dataset_non_na[\"energy_consumption_per_annum\"]"
   ]
  },
  {
   "cell_type": "code",
   "execution_count": 401,
   "metadata": {},
   "outputs": [],
   "source": [
    "X_train, X_test, y_train, y_test = train_test_split(X_non_na, Y_non_na, test_size = 0.1, random_state = 0)"
   ]
  },
  {
   "cell_type": "code",
   "execution_count": 402,
   "metadata": {},
   "outputs": [],
   "source": [
    "# cat_cols = X.select_dtypes(include=\"object\").columns.to_list()\n",
    "# print(\"Category columns: \", cat_cols)\n",
    "# print(\"Number of Category columns: \", len(cat_cols))"
   ]
  },
  {
   "cell_type": "code",
   "execution_count": 403,
   "metadata": {},
   "outputs": [
    {
     "name": "stdout",
     "output_type": "stream",
     "text": [
      "200253\n",
      "200253\n"
     ]
    }
   ],
   "source": [
    "print(len(X_train))\n",
    "print(len(y_train))"
   ]
  },
  {
   "attachments": {},
   "cell_type": "markdown",
   "metadata": {},
   "source": [
    "# Training"
   ]
  },
  {
   "cell_type": "code",
   "execution_count": 404,
   "metadata": {},
   "outputs": [
    {
     "name": "stdout",
     "output_type": "stream",
     "text": [
      "0:\tlearn: 89.6167390\ttotal: 7.26ms\tremaining: 65.3ms\n",
      "1:\tlearn: 83.9410771\ttotal: 13ms\tremaining: 52.1ms\n",
      "2:\tlearn: 81.0870385\ttotal: 19.5ms\tremaining: 45.4ms\n",
      "3:\tlearn: 79.2715864\ttotal: 25.9ms\tremaining: 38.9ms\n",
      "4:\tlearn: 77.5779503\ttotal: 30.7ms\tremaining: 30.7ms\n",
      "5:\tlearn: 75.8054838\ttotal: 37.3ms\tremaining: 24.8ms\n",
      "6:\tlearn: 74.5674104\ttotal: 43.9ms\tremaining: 18.8ms\n",
      "7:\tlearn: 73.4355721\ttotal: 49.3ms\tremaining: 12.3ms\n",
      "8:\tlearn: 72.6583559\ttotal: 54.9ms\tremaining: 6.1ms\n",
      "9:\tlearn: 71.7853617\ttotal: 60.9ms\tremaining: 0us\n",
      "The RMSE is :4729.536923952895\n",
      "The explained variance score is :0.547623649495288\n",
      "54.76% of the predictions are explained by our data.\n"
     ]
    }
   ],
   "source": [
    "# Initialize CatBoostRegressor\n",
    "CBR = CatBoostRegressor(iterations=10,\n",
    "                           learning_rate=1,\n",
    "                           depth=2)\n",
    "# for col in cat_cols:\n",
    "#     X[col] = X[col].apply(str)\n",
    "\n",
    "CBR.fit(X_train, y_train)\n",
    "# model.fit(X_num_non_na, Y_num_non_na, cat_features=cat_cols)\n",
    "\n",
    "y_pred = CBR.predict(X_test)\n",
    "rmse = mean_squared_error(y_test, y_pred)\n",
    "print(f\"The RMSE is :{rmse}\")\n",
    "evs = explained_variance_score(y_test, y_pred)\n",
    "print(f\"The explained variance score is :{evs}\")\n",
    "r2 = r2_score(y_test, y_pred)\n",
    "print(f\"{r2*100:.2f}% of the predictions are explained by our data.\")"
   ]
  },
  {
   "cell_type": "code",
   "execution_count": 405,
   "metadata": {},
   "outputs": [
    {
     "name": "stderr",
     "output_type": "stream",
     "text": [
      "[Parallel(n_jobs=-1)]: Using backend ThreadingBackend with 8 concurrent workers.\n",
      "[Parallel(n_jobs=-1)]: Done  34 tasks      | elapsed:   18.0s\n",
      "[Parallel(n_jobs=-1)]: Done 100 out of 100 | elapsed:   53.1s finished\n"
     ]
    }
   ],
   "source": [
    "RF = RandomForestRegressor(\n",
    "    max_depth=None,\n",
    "    min_samples_split=2,\n",
    "    min_samples_leaf=1,\n",
    "    min_weight_fraction_leaf=0.0,\n",
    "    max_features = \"auto\",\n",
    "    max_leaf_nodes = None,\n",
    "    min_impurity_decrease = 0.0,\n",
    "    bootstrap = True,\n",
    "    oob_score = False,\n",
    "    n_jobs = -1,\n",
    "    warm_start = False,\n",
    "    ccp_alpha = 0.0,\n",
    "    max_samples = None,\n",
    "    verbose=1\n",
    ").fit(X_train, y_train)\n"
   ]
  },
  {
   "cell_type": "code",
   "execution_count": 406,
   "metadata": {},
   "outputs": [
    {
     "name": "stderr",
     "output_type": "stream",
     "text": [
      "[Parallel(n_jobs=8)]: Using backend ThreadingBackend with 8 concurrent workers.\n",
      "[Parallel(n_jobs=8)]: Done  34 tasks      | elapsed:    0.1s\n"
     ]
    },
    {
     "name": "stdout",
     "output_type": "stream",
     "text": [
      "The RMSE is :2935.7467218732954\n",
      "The explained variance score is :0.7192213315638107\n",
      "71.92% of the predictions are explained by our data.\n"
     ]
    },
    {
     "name": "stderr",
     "output_type": "stream",
     "text": [
      "[Parallel(n_jobs=8)]: Done 100 out of 100 | elapsed:    0.3s finished\n"
     ]
    }
   ],
   "source": [
    "y_pred = RF.predict(X_test)\n",
    "rmse = mean_squared_error(y_test, y_pred)\n",
    "print(f\"The RMSE is :{rmse}\")\n",
    "evs = explained_variance_score(y_test, y_pred)\n",
    "print(f\"The explained variance score is :{evs}\")\n",
    "r2 = r2_score(y_test, y_pred)\n",
    "print(f\"{r2*100:.2f}% of the predictions are explained by our data.\")"
   ]
  },
  {
   "cell_type": "code",
   "execution_count": 494,
   "metadata": {},
   "outputs": [
    {
     "data": {
      "text/plain": [
       "XGBRegressor(base_score=0.5, booster='gbtree', callbacks=None,\n",
       "             colsample_bylevel=1, colsample_bynode=1, colsample_bytree=0.8,\n",
       "             early_stopping_rounds=None, enable_categorical=False, eta=0.1,\n",
       "             eval_metric=None, gamma=0, gpu_id=-1, grow_policy='depthwise',\n",
       "             importance_type=None, interaction_constraints='',\n",
       "             learning_rate=0.100000001, max_bin=256, max_cat_to_onehot=4,\n",
       "             max_delta_step=0, max_depth=7, max_leaves=0, min_child_weight=1,\n",
       "             missing=nan, monotone_constraints='()', n_estimators=1000,\n",
       "             n_jobs=0, num_parallel_tree=1, predictor='auto', random_state=0,\n",
       "             reg_alpha=0, ...)"
      ]
     },
     "execution_count": 494,
     "metadata": {},
     "output_type": "execute_result"
    }
   ],
   "source": [
    "XGB = XGBRegressor(n_estimators=1000, max_depth=7, eta=0.1, subsample=0.7, colsample_bytree=0.8)\n",
    "XGB.fit(X_train, y_train)"
   ]
  },
  {
   "cell_type": "code",
   "execution_count": 495,
   "metadata": {},
   "outputs": [
    {
     "name": "stdout",
     "output_type": "stream",
     "text": [
      "The RMSE is :1910.7856967808925\n",
      "The explained variance score is :0.8172297655254043\n",
      "81.72% of the predictions are explained by our data.\n"
     ]
    }
   ],
   "source": [
    "y_pred = XGB.predict(X_test)\n",
    "rmse = mean_squared_error(y_test, y_pred)\n",
    "print(f\"The RMSE is :{rmse}\")\n",
    "evs = explained_variance_score(y_test, y_pred)\n",
    "print(f\"The explained variance score is :{evs}\")\n",
    "r2 = r2_score(y_test, y_pred)\n",
    "print(f\"{r2*100:.2f}% of the predictions are explained by our data.\")"
   ]
  },
  {
   "cell_type": "code",
   "execution_count": null,
   "metadata": {},
   "outputs": [],
   "source": []
  }
 ],
 "metadata": {
  "kernelspec": {
   "display_name": "BCG",
   "language": "python",
   "name": "python3"
  },
  "language_info": {
   "codemirror_mode": {
    "name": "ipython",
    "version": 3
   },
   "file_extension": ".py",
   "mimetype": "text/x-python",
   "name": "python",
   "nbconvert_exporter": "python",
   "pygments_lexer": "ipython3",
   "version": "3.7.13"
  },
  "orig_nbformat": 4,
  "vscode": {
   "interpreter": {
    "hash": "f587980aed85386828983447eebead6955e950331a8a89d818b794d6ecd4d907"
   }
  }
 },
 "nbformat": 4,
 "nbformat_minor": 2
}
