{
 "cells": [
  {
   "cell_type": "code",
   "execution_count": 1,
   "metadata": {},
   "outputs": [],
   "source": [
    "import pandas as pd\n",
    "from catboost import CatBoostRegressor\n",
    "from sklearn.metrics import explained_variance_score\n"
   ]
  },
  {
   "cell_type": "code",
   "execution_count": 2,
   "metadata": {},
   "outputs": [],
   "source": [
    "path_dataset = \"../hfactory_magic_folders/hi__paris_hackaton/building_energy_efficiency/dataset/train\"\n",
    "path_x = \"{}/train_features_sent.csv\".format(path_dataset)\n",
    "path_y = \"{}/train_labels_sent.csv\".format(path_dataset)"
   ]
  },
  {
   "cell_type": "code",
   "execution_count": 60,
   "metadata": {},
   "outputs": [
    {
     "name": "stderr",
     "output_type": "stream",
     "text": [
      "/home/frank/anaconda3/envs/BCG/lib/python3.7/site-packages/IPython/core/interactiveshell.py:3553: DtypeWarning: Columns (19) have mixed types.Specify dtype option on import or set low_memory=False.\n",
      "  exec(code_obj, self.user_global_ns, self.user_ns)\n"
     ]
    }
   ],
   "source": [
    "X = pd.read_csv(path_x)\n",
    "Y = pd.read_csv(path_y)"
   ]
  },
  {
   "cell_type": "code",
   "execution_count": 41,
   "metadata": {},
   "outputs": [],
   "source": [
    "# X = X.iloc[:1000, :]\n",
    "# Y = Y.iloc[:1000, :]"
   ]
  },
  {
   "cell_type": "code",
   "execution_count": 61,
   "metadata": {},
   "outputs": [
    {
     "name": "stdout",
     "output_type": "stream",
     "text": [
      "1010684\n",
      "1010684\n"
     ]
    }
   ],
   "source": [
    "print(len(X))\n",
    "print(len(Y))"
   ]
  },
  {
   "cell_type": "code",
   "execution_count": 85,
   "metadata": {},
   "outputs": [],
   "source": [
    "# df_datatypes = pd.DataFrame(X.dtypes)\n",
    "df_non_null_count = X.count()"
   ]
  },
  {
   "cell_type": "code",
   "execution_count": 97,
   "metadata": {},
   "outputs": [
    {
     "name": "stdout",
     "output_type": "stream",
     "text": [
      "64\n"
     ]
    }
   ],
   "source": [
    "df_non_null_count = X.count()\n",
    "print(\"Total number of columns: {}\".format(len(df_non_null_count)))\n",
    "\n",
    "col_valid = []\n",
    "threshold = 200000\n",
    "\n",
    "for col, non_null in df_non_null_count.iteritems():\n",
    "    # print(col, non_null)\n",
    "    if non_null > threshold:\n",
    "        col_valid.append(col)\n",
    "\n",
    "print(\"Total number of columns: {}\".format(len(col_valid)))"
   ]
  },
  {
   "cell_type": "code",
   "execution_count": 88,
   "metadata": {},
   "outputs": [
    {
     "name": "stdout",
     "output_type": "stream",
     "text": [
      "<class 'pandas.core.frame.DataFrame'>\n",
      "RangeIndex: 1010684 entries, 0 to 1010683\n",
      "Data columns (total 71 columns):\n",
      " #   Column                            Non-Null Count    Dtype  \n",
      "---  ------                            --------------    -----  \n",
      " 0   level_0                           1010684 non-null  int64  \n",
      " 1   additional_heat_generators        1010684 non-null  object \n",
      " 2   additional_water_heaters          209994 non-null   object \n",
      " 3   altitude                          992545 non-null   float64\n",
      " 4   area_code                         1010684 non-null  int64  \n",
      " 5   balcony_depth                     105791 non-null   object \n",
      " 6   bearing_wall_material             956635 non-null   object \n",
      " 7   building_category                 1010684 non-null  object \n",
      " 8   building_class                    1010684 non-null  object \n",
      " 9   building_height_ft                994468 non-null   float64\n",
      " 10  building_period                   1010684 non-null  object \n",
      " 11  building_total_area_sqft          949721 non-null   float64\n",
      " 12  building_type                     1010684 non-null  object \n",
      " 13  building_use_type_code            1010684 non-null  int64  \n",
      " 14  building_use_type_description     1010684 non-null  object \n",
      " 15  building_year                     951235 non-null   float64\n",
      " 16  clay_risk_level                   806450 non-null   object \n",
      " 17  consumption_measurement_date      1010684 non-null  object \n",
      " 18  has_air_conditioning              1010684 non-null  bool   \n",
      " 19  has_balcony                       1010328 non-null  object \n",
      " 20  heat_generators                   1010684 non-null  object \n",
      " 21  heating_energy_source             1010683 non-null  object \n",
      " 22  heating_type                      1010684 non-null  object \n",
      " 23  is_crossing_building              959213 non-null   object \n",
      " 24  living_area_sqft                  1010672 non-null  float64\n",
      " 25  lowe_floor_thermal_conductivity   933373 non-null   float64\n",
      " 26  lower_floor_adjacency_type        938214 non-null   object \n",
      " 27  lower_floor_insulation_type       949694 non-null   object \n",
      " 28  lower_floor_material              938765 non-null   object \n",
      " 29  main_heat_generators              1010684 non-null  object \n",
      " 30  main_heating_type                 1010684 non-null  object \n",
      " 31  main_water_heaters                1010606 non-null  object \n",
      " 32  main_water_heating_type           1010684 non-null  object \n",
      " 33  nb_commercial_units               116104 non-null   float64\n",
      " 34  nb_dwellings                      1010684 non-null  int64  \n",
      " 35  nb_gas_meters_commercial          34476 non-null    float64\n",
      " 36  nb_gas_meters_housing             34476 non-null    float64\n",
      " 37  nb_gas_meters_total               34476 non-null    float64\n",
      " 38  nb_housing_units                  116104 non-null   float64\n",
      " 39  nb_meters                         623758 non-null   float64\n",
      " 40  nb_parking_spaces                 116104 non-null   float64\n",
      " 41  nb_power_meters_commercial        95221 non-null    float64\n",
      " 42  nb_power_meters_housing           95221 non-null    float64\n",
      " 43  nb_power_meters_total             95221 non-null    float64\n",
      " 44  nb_units_total                    116104 non-null   float64\n",
      " 45  outer_wall_materials              977656 non-null   object \n",
      " 46  outer_wall_thermal_conductivity   1003326 non-null  float64\n",
      " 47  outer_wall_thickness              929398 non-null   object \n",
      " 48  percentage_glazed_surfaced        882511 non-null   float64\n",
      " 49  post_code                         1010684 non-null  int64  \n",
      " 50  radon_risk_level                  997441 non-null   object \n",
      " 51  renewable_energy_sources          9501 non-null     object \n",
      " 52  roof_material                     956406 non-null   object \n",
      " 53  solar_heating                     1010684 non-null  bool   \n",
      " 54  solar_water_heating               1010684 non-null  bool   \n",
      " 55  thermal_inertia                   1010684 non-null  object \n",
      " 56  upper_floor_adjacency_type        966568 non-null   object \n",
      " 57  upper_floor_insulation_type       921875 non-null   object \n",
      " 58  upper_floor_material              979135 non-null   object \n",
      " 59  upper_floor_thermal_conductivity  964886 non-null   float64\n",
      " 60  ventilation_type                  1010684 non-null  object \n",
      " 61  wall_insulation_type              1000342 non-null  object \n",
      " 62  water_heaters                     1010684 non-null  object \n",
      " 63  water_heating_energy_source       1010505 non-null  object \n",
      " 64  water_heating_type                956608 non-null   object \n",
      " 65  window_filling_type               797458 non-null   object \n",
      " 66  window_frame_material             1010280 non-null  object \n",
      " 67  window_glazing_type               1005549 non-null  object \n",
      " 68  window_heat_retention_factor      988325 non-null   float64\n",
      " 69  window_orientation                1010684 non-null  object \n",
      " 70  window_thermal_conductivity       1005579 non-null  float64\n",
      "dtypes: bool(3), float64(22), int64(5), object(41)\n",
      "memory usage: 527.2+ MB\n"
     ]
    }
   ],
   "source": [
    "# Types and non null features\n",
    "X.info()"
   ]
  },
  {
   "cell_type": "code",
   "execution_count": 81,
   "metadata": {},
   "outputs": [
    {
     "name": "stdout",
     "output_type": "stream",
     "text": [
      "<class 'pandas.core.frame.DataFrame'>\n",
      "RangeIndex: 1010684 entries, 0 to 1010683\n",
      "Data columns (total 71 columns):\n",
      " #   Column                            Non-Null Count    Dtype  \n",
      "---  ------                            --------------    -----  \n",
      " 0   level_0                           1010684 non-null  int64  \n",
      " 1   additional_heat_generators        1010684 non-null  object \n",
      " 2   additional_water_heaters          209994 non-null   object \n",
      " 3   altitude                          992545 non-null   float64\n",
      " 4   area_code                         1010684 non-null  int64  \n",
      " 5   balcony_depth                     105791 non-null   object \n",
      " 6   bearing_wall_material             956635 non-null   object \n",
      " 7   building_category                 1010684 non-null  object \n",
      " 8   building_class                    1010684 non-null  object \n",
      " 9   building_height_ft                994468 non-null   float64\n",
      " 10  building_period                   1010684 non-null  object \n",
      " 11  building_total_area_sqft          949721 non-null   float64\n",
      " 12  building_type                     1010684 non-null  object \n",
      " 13  building_use_type_code            1010684 non-null  int64  \n",
      " 14  building_use_type_description     1010684 non-null  object \n",
      " 15  building_year                     951235 non-null   float64\n",
      " 16  clay_risk_level                   806450 non-null   object \n",
      " 17  consumption_measurement_date      1010684 non-null  object \n",
      " 18  has_air_conditioning              1010684 non-null  bool   \n",
      " 19  has_balcony                       1010328 non-null  object \n",
      " 20  heat_generators                   1010684 non-null  object \n",
      " 21  heating_energy_source             1010683 non-null  object \n",
      " 22  heating_type                      1010684 non-null  object \n",
      " 23  is_crossing_building              959213 non-null   object \n",
      " 24  living_area_sqft                  1010672 non-null  float64\n",
      " 25  lowe_floor_thermal_conductivity   933373 non-null   float64\n",
      " 26  lower_floor_adjacency_type        938214 non-null   object \n",
      " 27  lower_floor_insulation_type       949694 non-null   object \n",
      " 28  lower_floor_material              938765 non-null   object \n",
      " 29  main_heat_generators              1010684 non-null  object \n",
      " 30  main_heating_type                 1010684 non-null  object \n",
      " 31  main_water_heaters                1010606 non-null  object \n",
      " 32  main_water_heating_type           1010684 non-null  object \n",
      " 33  nb_commercial_units               116104 non-null   float64\n",
      " 34  nb_dwellings                      1010684 non-null  int64  \n",
      " 35  nb_gas_meters_commercial          34476 non-null    float64\n",
      " 36  nb_gas_meters_housing             34476 non-null    float64\n",
      " 37  nb_gas_meters_total               34476 non-null    float64\n",
      " 38  nb_housing_units                  116104 non-null   float64\n",
      " 39  nb_meters                         623758 non-null   float64\n",
      " 40  nb_parking_spaces                 116104 non-null   float64\n",
      " 41  nb_power_meters_commercial        95221 non-null    float64\n",
      " 42  nb_power_meters_housing           95221 non-null    float64\n",
      " 43  nb_power_meters_total             95221 non-null    float64\n",
      " 44  nb_units_total                    116104 non-null   float64\n",
      " 45  outer_wall_materials              977656 non-null   object \n",
      " 46  outer_wall_thermal_conductivity   1003326 non-null  float64\n",
      " 47  outer_wall_thickness              929398 non-null   object \n",
      " 48  percentage_glazed_surfaced        882511 non-null   float64\n",
      " 49  post_code                         1010684 non-null  int64  \n",
      " 50  radon_risk_level                  997441 non-null   object \n",
      " 51  renewable_energy_sources          9501 non-null     object \n",
      " 52  roof_material                     956406 non-null   object \n",
      " 53  solar_heating                     1010684 non-null  bool   \n",
      " 54  solar_water_heating               1010684 non-null  bool   \n",
      " 55  thermal_inertia                   1010684 non-null  object \n",
      " 56  upper_floor_adjacency_type        966568 non-null   object \n",
      " 57  upper_floor_insulation_type       921875 non-null   object \n",
      " 58  upper_floor_material              979135 non-null   object \n",
      " 59  upper_floor_thermal_conductivity  964886 non-null   float64\n",
      " 60  ventilation_type                  1010684 non-null  object \n",
      " 61  wall_insulation_type              1000342 non-null  object \n",
      " 62  water_heaters                     1010684 non-null  object \n",
      " 63  water_heating_energy_source       1010505 non-null  object \n",
      " 64  water_heating_type                956608 non-null   object \n",
      " 65  window_filling_type               797458 non-null   object \n",
      " 66  window_frame_material             1010280 non-null  object \n",
      " 67  window_glazing_type               1005549 non-null  object \n",
      " 68  window_heat_retention_factor      988325 non-null   float64\n",
      " 69  window_orientation                1010684 non-null  object \n",
      " 70  window_thermal_conductivity       1005579 non-null  float64\n",
      "dtypes: bool(3), float64(22), int64(5), object(41)\n",
      "memory usage: 527.2+ MB\n"
     ]
    },
    {
     "ename": "AttributeError",
     "evalue": "'NoneType' object has no attribute 'columns'",
     "output_type": "error",
     "traceback": [
      "\u001b[0;31m---------------------------------------------------------------------------\u001b[0m",
      "\u001b[0;31mAttributeError\u001b[0m                            Traceback (most recent call last)",
      "\u001b[0;32m/tmp/ipykernel_42533/2519987826.py\u001b[0m in \u001b[0;36m<module>\u001b[0;34m\u001b[0m\n\u001b[1;32m      1\u001b[0m \u001b[0minfo\u001b[0m \u001b[0;34m=\u001b[0m \u001b[0mX\u001b[0m\u001b[0;34m.\u001b[0m\u001b[0minfo\u001b[0m\u001b[0;34m(\u001b[0m\u001b[0;34m)\u001b[0m\u001b[0;34m\u001b[0m\u001b[0;34m\u001b[0m\u001b[0m\n\u001b[0;32m----> 2\u001b[0;31m \u001b[0minfo\u001b[0m\u001b[0;34m.\u001b[0m\u001b[0mcolumns\u001b[0m\u001b[0;34m\u001b[0m\u001b[0;34m\u001b[0m\u001b[0m\n\u001b[0m",
      "\u001b[0;31mAttributeError\u001b[0m: 'NoneType' object has no attribute 'columns'"
     ]
    }
   ],
   "source": [
    "info = X.info()\n",
    "info.columns"
   ]
  },
  {
   "cell_type": "code",
   "execution_count": 77,
   "metadata": {},
   "outputs": [
    {
     "name": "stdout",
     "output_type": "stream",
     "text": [
      "<class 'pandas.core.frame.DataFrame'>\n",
      "RangeIndex: 1010684 entries, 0 to 1010683\n",
      "Data columns (total 71 columns):\n",
      " #   Column                            Non-Null Count    Dtype  \n",
      "---  ------                            --------------    -----  \n",
      " 0   level_0                           1010684 non-null  int64  \n",
      " 1   additional_heat_generators        1010684 non-null  object \n",
      " 2   additional_water_heaters          209994 non-null   object \n",
      " 3   altitude                          992545 non-null   float64\n",
      " 4   area_code                         1010684 non-null  int64  \n",
      " 5   balcony_depth                     105791 non-null   object \n",
      " 6   bearing_wall_material             956635 non-null   object \n",
      " 7   building_category                 1010684 non-null  object \n",
      " 8   building_class                    1010684 non-null  object \n",
      " 9   building_height_ft                994468 non-null   float64\n",
      " 10  building_period                   1010684 non-null  object \n",
      " 11  building_total_area_sqft          949721 non-null   float64\n",
      " 12  building_type                     1010684 non-null  object \n",
      " 13  building_use_type_code            1010684 non-null  int64  \n",
      " 14  building_use_type_description     1010684 non-null  object \n",
      " 15  building_year                     951235 non-null   float64\n",
      " 16  clay_risk_level                   806450 non-null   object \n",
      " 17  consumption_measurement_date      1010684 non-null  object \n",
      " 18  has_air_conditioning              1010684 non-null  bool   \n",
      " 19  has_balcony                       1010328 non-null  object \n",
      " 20  heat_generators                   1010684 non-null  object \n",
      " 21  heating_energy_source             1010683 non-null  object \n",
      " 22  heating_type                      1010684 non-null  object \n",
      " 23  is_crossing_building              959213 non-null   object \n",
      " 24  living_area_sqft                  1010672 non-null  float64\n",
      " 25  lowe_floor_thermal_conductivity   933373 non-null   float64\n",
      " 26  lower_floor_adjacency_type        938214 non-null   object \n",
      " 27  lower_floor_insulation_type       949694 non-null   object \n",
      " 28  lower_floor_material              938765 non-null   object \n",
      " 29  main_heat_generators              1010684 non-null  object \n",
      " 30  main_heating_type                 1010684 non-null  object \n",
      " 31  main_water_heaters                1010606 non-null  object \n",
      " 32  main_water_heating_type           1010684 non-null  object \n",
      " 33  nb_commercial_units               116104 non-null   float64\n",
      " 34  nb_dwellings                      1010684 non-null  int64  \n",
      " 35  nb_gas_meters_commercial          34476 non-null    float64\n",
      " 36  nb_gas_meters_housing             34476 non-null    float64\n",
      " 37  nb_gas_meters_total               34476 non-null    float64\n",
      " 38  nb_housing_units                  116104 non-null   float64\n",
      " 39  nb_meters                         623758 non-null   float64\n",
      " 40  nb_parking_spaces                 116104 non-null   float64\n",
      " 41  nb_power_meters_commercial        95221 non-null    float64\n",
      " 42  nb_power_meters_housing           95221 non-null    float64\n",
      " 43  nb_power_meters_total             95221 non-null    float64\n",
      " 44  nb_units_total                    116104 non-null   float64\n",
      " 45  outer_wall_materials              977656 non-null   object \n",
      " 46  outer_wall_thermal_conductivity   1003326 non-null  float64\n",
      " 47  outer_wall_thickness              929398 non-null   object \n",
      " 48  percentage_glazed_surfaced        882511 non-null   float64\n",
      " 49  post_code                         1010684 non-null  int64  \n",
      " 50  radon_risk_level                  997441 non-null   object \n",
      " 51  renewable_energy_sources          9501 non-null     object \n",
      " 52  roof_material                     956406 non-null   object \n",
      " 53  solar_heating                     1010684 non-null  bool   \n",
      " 54  solar_water_heating               1010684 non-null  bool   \n",
      " 55  thermal_inertia                   1010684 non-null  object \n",
      " 56  upper_floor_adjacency_type        966568 non-null   object \n",
      " 57  upper_floor_insulation_type       921875 non-null   object \n",
      " 58  upper_floor_material              979135 non-null   object \n",
      " 59  upper_floor_thermal_conductivity  964886 non-null   float64\n",
      " 60  ventilation_type                  1010684 non-null  object \n",
      " 61  wall_insulation_type              1000342 non-null  object \n",
      " 62  water_heaters                     1010684 non-null  object \n",
      " 63  water_heating_energy_source       1010505 non-null  object \n",
      " 64  water_heating_type                956608 non-null   object \n",
      " 65  window_filling_type               797458 non-null   object \n",
      " 66  window_frame_material             1010280 non-null  object \n",
      " 67  window_glazing_type               1005549 non-null  object \n",
      " 68  window_heat_retention_factor      988325 non-null   float64\n",
      " 69  window_orientation                1010684 non-null  object \n",
      " 70  window_thermal_conductivity       1005579 non-null  float64\n",
      "dtypes: bool(3), float64(22), int64(5), object(41)\n",
      "memory usage: 527.2+ MB\n",
      "<class 'NoneType'>\n"
     ]
    }
   ],
   "source": [
    "print(type(X.info()))"
   ]
  },
  {
   "cell_type": "code",
   "execution_count": 73,
   "metadata": {},
   "outputs": [
    {
     "name": "stdout",
     "output_type": "stream",
     "text": [
      "Category columns:  ['additional_heat_generators', 'additional_water_heaters', 'balcony_depth', 'bearing_wall_material', 'building_category', 'building_class', 'building_period', 'building_type', 'building_use_type_description', 'clay_risk_level', 'consumption_measurement_date', 'has_balcony', 'heat_generators', 'heating_energy_source', 'heating_type', 'is_crossing_building', 'lower_floor_adjacency_type', 'lower_floor_insulation_type', 'lower_floor_material', 'main_heat_generators', 'main_heating_type', 'main_water_heaters', 'main_water_heating_type', 'outer_wall_materials', 'outer_wall_thickness', 'radon_risk_level', 'renewable_energy_sources', 'roof_material', 'thermal_inertia', 'upper_floor_adjacency_type', 'upper_floor_insulation_type', 'upper_floor_material', 'ventilation_type', 'wall_insulation_type', 'water_heaters', 'water_heating_energy_source', 'water_heating_type', 'window_filling_type', 'window_frame_material', 'window_glazing_type', 'window_orientation']\n",
      "Number of Category columns:  41\n"
     ]
    }
   ],
   "source": [
    "cat_cols = X.select_dtypes(include=\"object\").columns.to_list()\n",
    "print(\"Category columns: \", cat_cols)\n",
    "print(\"Number of Category columns: \", len(cat_cols))"
   ]
  },
  {
   "cell_type": "code",
   "execution_count": null,
   "metadata": {},
   "outputs": [],
   "source": []
  },
  {
   "cell_type": "code",
   "execution_count": null,
   "metadata": {},
   "outputs": [],
   "source": [
    "cols_to_drop = []"
   ]
  },
  {
   "cell_type": "code",
   "execution_count": 63,
   "metadata": {},
   "outputs": [
    {
     "data": {
      "text/html": [
       "<div>\n",
       "<style scoped>\n",
       "    .dataframe tbody tr th:only-of-type {\n",
       "        vertical-align: middle;\n",
       "    }\n",
       "\n",
       "    .dataframe tbody tr th {\n",
       "        vertical-align: top;\n",
       "    }\n",
       "\n",
       "    .dataframe thead th {\n",
       "        text-align: right;\n",
       "    }\n",
       "</style>\n",
       "<table border=\"1\" class=\"dataframe\">\n",
       "  <thead>\n",
       "    <tr style=\"text-align: right;\">\n",
       "      <th></th>\n",
       "      <th>level_0</th>\n",
       "      <th>additional_heat_generators</th>\n",
       "      <th>additional_water_heaters</th>\n",
       "      <th>altitude</th>\n",
       "      <th>area_code</th>\n",
       "      <th>balcony_depth</th>\n",
       "      <th>bearing_wall_material</th>\n",
       "      <th>building_category</th>\n",
       "      <th>building_class</th>\n",
       "      <th>building_height_ft</th>\n",
       "      <th>...</th>\n",
       "      <th>wall_insulation_type</th>\n",
       "      <th>water_heaters</th>\n",
       "      <th>water_heating_energy_source</th>\n",
       "      <th>water_heating_type</th>\n",
       "      <th>window_filling_type</th>\n",
       "      <th>window_frame_material</th>\n",
       "      <th>window_glazing_type</th>\n",
       "      <th>window_heat_retention_factor</th>\n",
       "      <th>window_orientation</th>\n",
       "      <th>window_thermal_conductivity</th>\n",
       "    </tr>\n",
       "  </thead>\n",
       "  <tbody>\n",
       "    <tr>\n",
       "      <th>0</th>\n",
       "      <td>111323</td>\n",
       "      <td>[wood stove or insert]</td>\n",
       "      <td>NaN</td>\n",
       "      <td>328.08400</td>\n",
       "      <td>881</td>\n",
       "      <td>NaN</td>\n",
       "      <td>CONCRETE</td>\n",
       "      <td>[]</td>\n",
       "      <td>[]</td>\n",
       "      <td>13.779528</td>\n",
       "      <td>...</td>\n",
       "      <td>internal</td>\n",
       "      <td>[indeterminate oil boiler]</td>\n",
       "      <td>oil</td>\n",
       "      <td>individual</td>\n",
       "      <td>argon or krypton</td>\n",
       "      <td>pvc</td>\n",
       "      <td>double glazing</td>\n",
       "      <td>1.116894</td>\n",
       "      <td>[est,west]</td>\n",
       "      <td>15.347292</td>\n",
       "    </tr>\n",
       "    <tr>\n",
       "      <th>1</th>\n",
       "      <td>265182</td>\n",
       "      <td>[]</td>\n",
       "      <td>NaN</td>\n",
       "      <td>360.89240</td>\n",
       "      <td>260</td>\n",
       "      <td>NaN</td>\n",
       "      <td>NaN</td>\n",
       "      <td>[condo]</td>\n",
       "      <td>[2 to 11]</td>\n",
       "      <td>43.635172</td>\n",
       "      <td>...</td>\n",
       "      <td>internal</td>\n",
       "      <td>[indeterminate gas boiler]</td>\n",
       "      <td>gas</td>\n",
       "      <td>individual</td>\n",
       "      <td>argon or krypton</td>\n",
       "      <td>wood</td>\n",
       "      <td>double glazing</td>\n",
       "      <td>1.133072</td>\n",
       "      <td>[est,west,sud]</td>\n",
       "      <td>17.512631</td>\n",
       "    </tr>\n",
       "    <tr>\n",
       "      <th>2</th>\n",
       "      <td>927507</td>\n",
       "      <td>[]</td>\n",
       "      <td>NaN</td>\n",
       "      <td>324.80316</td>\n",
       "      <td>573</td>\n",
       "      <td>NaN</td>\n",
       "      <td>WOOD - OTHER</td>\n",
       "      <td>[]</td>\n",
       "      <td>[]</td>\n",
       "      <td>19.685040</td>\n",
       "      <td>...</td>\n",
       "      <td>internal</td>\n",
       "      <td>[standard gas boiler]</td>\n",
       "      <td>gas</td>\n",
       "      <td>individual</td>\n",
       "      <td>dry air</td>\n",
       "      <td>pvc</td>\n",
       "      <td>double glazing</td>\n",
       "      <td>1.084204</td>\n",
       "      <td>[est,west]</td>\n",
       "      <td>16.779108</td>\n",
       "    </tr>\n",
       "    <tr>\n",
       "      <th>3</th>\n",
       "      <td>874620</td>\n",
       "      <td>[]</td>\n",
       "      <td>NaN</td>\n",
       "      <td>288.71392</td>\n",
       "      <td>204</td>\n",
       "      <td>NaN</td>\n",
       "      <td>BRICKS</td>\n",
       "      <td>[]</td>\n",
       "      <td>[]</td>\n",
       "      <td>13.779528</td>\n",
       "      <td>...</td>\n",
       "      <td>internal</td>\n",
       "      <td>[electric storage tank]</td>\n",
       "      <td>electricity</td>\n",
       "      <td>individual</td>\n",
       "      <td>NaN</td>\n",
       "      <td>metal with thermal break</td>\n",
       "      <td>triple glazing</td>\n",
       "      <td>0.983338</td>\n",
       "      <td>[est,north,sud]</td>\n",
       "      <td>12.630033</td>\n",
       "    </tr>\n",
       "    <tr>\n",
       "      <th>4</th>\n",
       "      <td>563274</td>\n",
       "      <td>[]</td>\n",
       "      <td>NaN</td>\n",
       "      <td>849.73756</td>\n",
       "      <td>374</td>\n",
       "      <td>NaN</td>\n",
       "      <td>GRITSTONE</td>\n",
       "      <td>[individual house]</td>\n",
       "      <td>[individual]</td>\n",
       "      <td>19.028872</td>\n",
       "      <td>...</td>\n",
       "      <td>internal</td>\n",
       "      <td>[thermodynamic electric hot water (pac or tank)]</td>\n",
       "      <td>thermodynamic electric hot water (heat pump or...</td>\n",
       "      <td>individual</td>\n",
       "      <td>dry air</td>\n",
       "      <td>pvc</td>\n",
       "      <td>double glazing</td>\n",
       "      <td>1.084204</td>\n",
       "      <td>[north,sud]</td>\n",
       "      <td>13.290529</td>\n",
       "    </tr>\n",
       "  </tbody>\n",
       "</table>\n",
       "<p>5 rows × 71 columns</p>\n",
       "</div>"
      ],
      "text/plain": [
       "   level_0 additional_heat_generators additional_water_heaters   altitude  \\\n",
       "0   111323     [wood stove or insert]                      NaN  328.08400   \n",
       "1   265182                         []                      NaN  360.89240   \n",
       "2   927507                         []                      NaN  324.80316   \n",
       "3   874620                         []                      NaN  288.71392   \n",
       "4   563274                         []                      NaN  849.73756   \n",
       "\n",
       "   area_code balcony_depth bearing_wall_material   building_category  \\\n",
       "0        881           NaN              CONCRETE                  []   \n",
       "1        260           NaN                   NaN             [condo]   \n",
       "2        573           NaN          WOOD - OTHER                  []   \n",
       "3        204           NaN                BRICKS                  []   \n",
       "4        374           NaN             GRITSTONE  [individual house]   \n",
       "\n",
       "  building_class  building_height_ft  ... wall_insulation_type  \\\n",
       "0             []           13.779528  ...             internal   \n",
       "1      [2 to 11]           43.635172  ...             internal   \n",
       "2             []           19.685040  ...             internal   \n",
       "3             []           13.779528  ...             internal   \n",
       "4   [individual]           19.028872  ...             internal   \n",
       "\n",
       "                                      water_heaters  \\\n",
       "0                        [indeterminate oil boiler]   \n",
       "1                        [indeterminate gas boiler]   \n",
       "2                             [standard gas boiler]   \n",
       "3                           [electric storage tank]   \n",
       "4  [thermodynamic electric hot water (pac or tank)]   \n",
       "\n",
       "                         water_heating_energy_source  water_heating_type  \\\n",
       "0                                                oil          individual   \n",
       "1                                                gas          individual   \n",
       "2                                                gas          individual   \n",
       "3                                        electricity          individual   \n",
       "4  thermodynamic electric hot water (heat pump or...          individual   \n",
       "\n",
       "  window_filling_type     window_frame_material window_glazing_type  \\\n",
       "0    argon or krypton                       pvc      double glazing   \n",
       "1    argon or krypton                      wood      double glazing   \n",
       "2             dry air                       pvc      double glazing   \n",
       "3                 NaN  metal with thermal break      triple glazing   \n",
       "4             dry air                       pvc      double glazing   \n",
       "\n",
       "  window_heat_retention_factor  window_orientation window_thermal_conductivity  \n",
       "0                     1.116894          [est,west]                   15.347292  \n",
       "1                     1.133072      [est,west,sud]                   17.512631  \n",
       "2                     1.084204          [est,west]                   16.779108  \n",
       "3                     0.983338     [est,north,sud]                   12.630033  \n",
       "4                     1.084204         [north,sud]                   13.290529  \n",
       "\n",
       "[5 rows x 71 columns]"
      ]
     },
     "execution_count": 63,
     "metadata": {},
     "output_type": "execute_result"
    }
   ],
   "source": [
    "X.head()"
   ]
  },
  {
   "cell_type": "code",
   "execution_count": 64,
   "metadata": {},
   "outputs": [
    {
     "data": {
      "text/html": [
       "<div>\n",
       "<style scoped>\n",
       "    .dataframe tbody tr th:only-of-type {\n",
       "        vertical-align: middle;\n",
       "    }\n",
       "\n",
       "    .dataframe tbody tr th {\n",
       "        vertical-align: top;\n",
       "    }\n",
       "\n",
       "    .dataframe thead th {\n",
       "        text-align: right;\n",
       "    }\n",
       "</style>\n",
       "<table border=\"1\" class=\"dataframe\">\n",
       "  <thead>\n",
       "    <tr style=\"text-align: right;\">\n",
       "      <th></th>\n",
       "      <th>level_0</th>\n",
       "      <th>energy_consumption_per_annum</th>\n",
       "    </tr>\n",
       "  </thead>\n",
       "  <tbody>\n",
       "    <tr>\n",
       "      <th>0</th>\n",
       "      <td>111323</td>\n",
       "      <td>290.166345</td>\n",
       "    </tr>\n",
       "    <tr>\n",
       "      <th>1</th>\n",
       "      <td>265182</td>\n",
       "      <td>169.818197</td>\n",
       "    </tr>\n",
       "    <tr>\n",
       "      <th>2</th>\n",
       "      <td>927507</td>\n",
       "      <td>144.499711</td>\n",
       "    </tr>\n",
       "    <tr>\n",
       "      <th>3</th>\n",
       "      <td>874620</td>\n",
       "      <td>158.742715</td>\n",
       "    </tr>\n",
       "    <tr>\n",
       "      <th>4</th>\n",
       "      <td>563274</td>\n",
       "      <td>82.223648</td>\n",
       "    </tr>\n",
       "  </tbody>\n",
       "</table>\n",
       "</div>"
      ],
      "text/plain": [
       "   level_0  energy_consumption_per_annum\n",
       "0   111323                    290.166345\n",
       "1   265182                    169.818197\n",
       "2   927507                    144.499711\n",
       "3   874620                    158.742715\n",
       "4   563274                     82.223648"
      ]
     },
     "execution_count": 64,
     "metadata": {},
     "output_type": "execute_result"
    }
   ],
   "source": [
    "Y.head()"
   ]
  },
  {
   "cell_type": "code",
   "execution_count": 65,
   "metadata": {},
   "outputs": [],
   "source": [
    "# X.drop([\"level_0\"], axis=1)\n",
    "# Y = Y.drop([\"level_0\"], axis=1)"
   ]
  },
  {
   "cell_type": "code",
   "execution_count": null,
   "metadata": {},
   "outputs": [],
   "source": []
  },
  {
   "cell_type": "code",
   "execution_count": 66,
   "metadata": {},
   "outputs": [],
   "source": [
    "df = pd.merge(X, Y, how=\"inner\", on=\"level_0\")"
   ]
  },
  {
   "cell_type": "code",
   "execution_count": 67,
   "metadata": {},
   "outputs": [
    {
     "data": {
      "text/plain": [
       "1010684"
      ]
     },
     "execution_count": 67,
     "metadata": {},
     "output_type": "execute_result"
    }
   ],
   "source": [
    "len(df)"
   ]
  },
  {
   "cell_type": "code",
   "execution_count": 68,
   "metadata": {},
   "outputs": [],
   "source": [
    "df = df.drop([\"level_0\"], axis=1)"
   ]
  },
  {
   "cell_type": "code",
   "execution_count": 69,
   "metadata": {},
   "outputs": [
    {
     "data": {
      "text/plain": [
       "1010684"
      ]
     },
     "execution_count": 69,
     "metadata": {},
     "output_type": "execute_result"
    }
   ],
   "source": [
    "len(df)"
   ]
  },
  {
   "cell_type": "code",
   "execution_count": 71,
   "metadata": {},
   "outputs": [],
   "source": [
    "df.dropna(inplace=True)"
   ]
  },
  {
   "cell_type": "code",
   "execution_count": 72,
   "metadata": {},
   "outputs": [
    {
     "data": {
      "text/plain": [
       "0"
      ]
     },
     "execution_count": 72,
     "metadata": {},
     "output_type": "execute_result"
    }
   ],
   "source": [
    "len(df)"
   ]
  },
  {
   "cell_type": "code",
   "execution_count": 15,
   "metadata": {},
   "outputs": [],
   "source": [
    "X_filter = df.drop([\"energy_consumption_per_annum\"], axis=1)"
   ]
  },
  {
   "cell_type": "code",
   "execution_count": 16,
   "metadata": {},
   "outputs": [],
   "source": [
    "Y_filter = df[\"energy_consumption_per_annum\"]"
   ]
  },
  {
   "cell_type": "code",
   "execution_count": 17,
   "metadata": {},
   "outputs": [
    {
     "name": "stdout",
     "output_type": "stream",
     "text": [
      "Category columns:  ['additional_heat_generators', 'additional_water_heaters', 'balcony_depth', 'bearing_wall_material', 'building_category', 'building_class', 'building_period', 'building_type', 'building_use_type_description', 'clay_risk_level', 'consumption_measurement_date', 'has_balcony', 'heat_generators', 'heating_energy_source', 'heating_type', 'is_crossing_building', 'lower_floor_adjacency_type', 'lower_floor_insulation_type', 'lower_floor_material', 'main_heat_generators', 'main_heating_type', 'main_water_heaters', 'main_water_heating_type', 'outer_wall_materials', 'outer_wall_thickness', 'radon_risk_level', 'renewable_energy_sources', 'roof_material', 'thermal_inertia', 'upper_floor_adjacency_type', 'upper_floor_insulation_type', 'upper_floor_material', 'ventilation_type', 'wall_insulation_type', 'water_heaters', 'water_heating_energy_source', 'water_heating_type', 'window_filling_type', 'window_frame_material', 'window_glazing_type', 'window_orientation']\n",
      "Number of Category columns:  41\n"
     ]
    }
   ],
   "source": [
    "cat_cols = X.select_dtypes(include=\"object\").columns.to_list()\n",
    "print(\"Category columns: \", cat_cols)\n",
    "print(\"Number of Category columns: \", len(cat_cols))"
   ]
  },
  {
   "cell_type": "code",
   "execution_count": 27,
   "metadata": {},
   "outputs": [
    {
     "data": {
      "text/plain": [
       "additional_heat_generators        12\n",
       "additional_water_heaters           9\n",
       "balcony_depth                      4\n",
       "bearing_wall_material             28\n",
       "building_category                 13\n",
       "building_class                    20\n",
       "building_period                    7\n",
       "building_type                      3\n",
       "building_use_type_description      3\n",
       "clay_risk_level                    3\n",
       "consumption_measurement_date     793\n",
       "has_balcony                        2\n",
       "heat_generators                   98\n",
       "heating_energy_source             16\n",
       "heating_type                       2\n",
       "is_crossing_building               6\n",
       "lower_floor_adjacency_type         6\n",
       "lower_floor_insulation_type        5\n",
       "lower_floor_material              11\n",
       "main_heat_generators              17\n",
       "main_heating_type                159\n",
       "main_water_heaters                14\n",
       "main_water_heating_type          159\n",
       "outer_wall_materials              16\n",
       "outer_wall_thickness              28\n",
       "radon_risk_level                   3\n",
       "renewable_energy_sources           2\n",
       "roof_material                     14\n",
       "thermal_inertia                    4\n",
       "upper_floor_adjacency_type         3\n",
       "upper_floor_insulation_type        5\n",
       "upper_floor_material              13\n",
       "ventilation_type                  15\n",
       "wall_insulation_type               8\n",
       "water_heaters                     38\n",
       "water_heating_energy_source       11\n",
       "water_heating_type                 2\n",
       "window_filling_type                2\n",
       "window_frame_material              6\n",
       "window_glazing_type                3\n",
       "window_orientation                31\n",
       "dtype: int64"
      ]
     },
     "execution_count": 27,
     "metadata": {},
     "output_type": "execute_result"
    }
   ],
   "source": [
    "X[cat_cols].nunique()"
   ]
  },
  {
   "cell_type": "code",
   "execution_count": 33,
   "metadata": {},
   "outputs": [
    {
     "data": {
      "text/plain": [
       "array(['[]', '[2 to 11]', '[individual]', '[individual,2 to 11]', '[12+]',\n",
       "       '[12+,individual,12+,12+,12+,individual,12+,12+,12+,12+]',\n",
       "       '[12+,individual]',\n",
       "       '[individual,individual,individual,individual,individual,individual,individual,individual,individual,individual]',\n",
       "       '[individual,individual]', '[2 to 11,12+,individual]',\n",
       "       '[2 to 11,12+]', '[2 to 11,individual]', '[12+,12+]',\n",
       "       '[individual,2 to 11,individual,individual,individual,individual,individual,individual]',\n",
       "       '[2 to 11,2 to 11,2 to 11,2 to 11]',\n",
       "       '[individual,individual,individual]', '[12+,2 to 11,individual]',\n",
       "       '[2 to 11,2 to 11]', '[individual,2 to 11,individual]',\n",
       "       '[12+,2 to 11]'], dtype=object)"
      ]
     },
     "execution_count": 33,
     "metadata": {},
     "output_type": "execute_result"
    }
   ],
   "source": [
    "X[\"building_class\"].unique()"
   ]
  },
  {
   "cell_type": "code",
   "execution_count": 36,
   "metadata": {},
   "outputs": [
    {
     "data": {
      "text/html": [
       "<div>\n",
       "<style scoped>\n",
       "    .dataframe tbody tr th:only-of-type {\n",
       "        vertical-align: middle;\n",
       "    }\n",
       "\n",
       "    .dataframe tbody tr th {\n",
       "        vertical-align: top;\n",
       "    }\n",
       "\n",
       "    .dataframe thead th {\n",
       "        text-align: right;\n",
       "    }\n",
       "</style>\n",
       "<table border=\"1\" class=\"dataframe\">\n",
       "  <thead>\n",
       "    <tr style=\"text-align: right;\">\n",
       "      <th></th>\n",
       "      <th>building_class</th>\n",
       "      <th>building_type</th>\n",
       "    </tr>\n",
       "  </thead>\n",
       "  <tbody>\n",
       "    <tr>\n",
       "      <th>0</th>\n",
       "      <td>[]</td>\n",
       "      <td>House</td>\n",
       "    </tr>\n",
       "    <tr>\n",
       "      <th>1</th>\n",
       "      <td>[2 to 11]</td>\n",
       "      <td>Flat</td>\n",
       "    </tr>\n",
       "    <tr>\n",
       "      <th>2</th>\n",
       "      <td>[]</td>\n",
       "      <td>House</td>\n",
       "    </tr>\n",
       "    <tr>\n",
       "      <th>3</th>\n",
       "      <td>[]</td>\n",
       "      <td>House</td>\n",
       "    </tr>\n",
       "    <tr>\n",
       "      <th>4</th>\n",
       "      <td>[individual]</td>\n",
       "      <td>House</td>\n",
       "    </tr>\n",
       "    <tr>\n",
       "      <th>...</th>\n",
       "      <td>...</td>\n",
       "      <td>...</td>\n",
       "    </tr>\n",
       "    <tr>\n",
       "      <th>995</th>\n",
       "      <td>[]</td>\n",
       "      <td>Flat</td>\n",
       "    </tr>\n",
       "    <tr>\n",
       "      <th>996</th>\n",
       "      <td>[2 to 11]</td>\n",
       "      <td>Flat</td>\n",
       "    </tr>\n",
       "    <tr>\n",
       "      <th>997</th>\n",
       "      <td>[individual]</td>\n",
       "      <td>House</td>\n",
       "    </tr>\n",
       "    <tr>\n",
       "      <th>998</th>\n",
       "      <td>[individual]</td>\n",
       "      <td>House</td>\n",
       "    </tr>\n",
       "    <tr>\n",
       "      <th>999</th>\n",
       "      <td>[]</td>\n",
       "      <td>House</td>\n",
       "    </tr>\n",
       "  </tbody>\n",
       "</table>\n",
       "<p>1000 rows × 2 columns</p>\n",
       "</div>"
      ],
      "text/plain": [
       "    building_class building_type\n",
       "0               []         House\n",
       "1        [2 to 11]          Flat\n",
       "2               []         House\n",
       "3               []         House\n",
       "4     [individual]         House\n",
       "..             ...           ...\n",
       "995             []          Flat\n",
       "996      [2 to 11]          Flat\n",
       "997   [individual]         House\n",
       "998   [individual]         House\n",
       "999             []         House\n",
       "\n",
       "[1000 rows x 2 columns]"
      ]
     },
     "execution_count": 36,
     "metadata": {},
     "output_type": "execute_result"
    }
   ],
   "source": [
    "X[[\"building_class\", \"building_type\"]]"
   ]
  },
  {
   "cell_type": "code",
   "execution_count": 20,
   "metadata": {},
   "outputs": [
    {
     "data": {
      "text/html": [
       "<div>\n",
       "<style scoped>\n",
       "    .dataframe tbody tr th:only-of-type {\n",
       "        vertical-align: middle;\n",
       "    }\n",
       "\n",
       "    .dataframe tbody tr th {\n",
       "        vertical-align: top;\n",
       "    }\n",
       "\n",
       "    .dataframe thead th {\n",
       "        text-align: right;\n",
       "    }\n",
       "</style>\n",
       "<table border=\"1\" class=\"dataframe\">\n",
       "  <thead>\n",
       "    <tr style=\"text-align: right;\">\n",
       "      <th></th>\n",
       "      <th>level_0</th>\n",
       "      <th>energy_consumption_per_annum</th>\n",
       "    </tr>\n",
       "  </thead>\n",
       "  <tbody>\n",
       "    <tr>\n",
       "      <th>0</th>\n",
       "      <td>111323</td>\n",
       "      <td>290.166345</td>\n",
       "    </tr>\n",
       "    <tr>\n",
       "      <th>1</th>\n",
       "      <td>265182</td>\n",
       "      <td>169.818197</td>\n",
       "    </tr>\n",
       "    <tr>\n",
       "      <th>2</th>\n",
       "      <td>927507</td>\n",
       "      <td>144.499711</td>\n",
       "    </tr>\n",
       "    <tr>\n",
       "      <th>3</th>\n",
       "      <td>874620</td>\n",
       "      <td>158.742715</td>\n",
       "    </tr>\n",
       "    <tr>\n",
       "      <th>4</th>\n",
       "      <td>563274</td>\n",
       "      <td>82.223648</td>\n",
       "    </tr>\n",
       "    <tr>\n",
       "      <th>...</th>\n",
       "      <td>...</td>\n",
       "      <td>...</td>\n",
       "    </tr>\n",
       "    <tr>\n",
       "      <th>995</th>\n",
       "      <td>341234</td>\n",
       "      <td>250.836513</td>\n",
       "    </tr>\n",
       "    <tr>\n",
       "      <th>996</th>\n",
       "      <td>731113</td>\n",
       "      <td>331.302363</td>\n",
       "    </tr>\n",
       "    <tr>\n",
       "      <th>997</th>\n",
       "      <td>1277064</td>\n",
       "      <td>278.484614</td>\n",
       "    </tr>\n",
       "    <tr>\n",
       "      <th>998</th>\n",
       "      <td>213710</td>\n",
       "      <td>171.864307</td>\n",
       "    </tr>\n",
       "    <tr>\n",
       "      <th>999</th>\n",
       "      <td>778294</td>\n",
       "      <td>224.589725</td>\n",
       "    </tr>\n",
       "  </tbody>\n",
       "</table>\n",
       "<p>1000 rows × 2 columns</p>\n",
       "</div>"
      ],
      "text/plain": [
       "     level_0  energy_consumption_per_annum\n",
       "0     111323                    290.166345\n",
       "1     265182                    169.818197\n",
       "2     927507                    144.499711\n",
       "3     874620                    158.742715\n",
       "4     563274                     82.223648\n",
       "..       ...                           ...\n",
       "995   341234                    250.836513\n",
       "996   731113                    331.302363\n",
       "997  1277064                    278.484614\n",
       "998   213710                    171.864307\n",
       "999   778294                    224.589725\n",
       "\n",
       "[1000 rows x 2 columns]"
      ]
     },
     "execution_count": 20,
     "metadata": {},
     "output_type": "execute_result"
    }
   ],
   "source": [
    "Y"
   ]
  },
  {
   "cell_type": "code",
   "execution_count": 24,
   "metadata": {},
   "outputs": [
    {
     "data": {
      "text/plain": [
       "1000"
      ]
     },
     "execution_count": 24,
     "metadata": {},
     "output_type": "execute_result"
    }
   ],
   "source": [
    "len(Y)"
   ]
  },
  {
   "cell_type": "code",
   "execution_count": 23,
   "metadata": {},
   "outputs": [
    {
     "name": "stdout",
     "output_type": "stream",
     "text": [
      "0:\tlearn: 86.5858258\ttotal: 47.6ms\tremaining: 47.6ms\n",
      "1:\tlearn: 81.2327477\ttotal: 48.9ms\tremaining: 0us\n"
     ]
    },
    {
     "data": {
      "text/plain": [
       "<catboost.core.CatBoostRegressor at 0x7f22463e8290>"
      ]
     },
     "execution_count": 23,
     "metadata": {},
     "output_type": "execute_result"
    }
   ],
   "source": [
    "# Initialize CatBoostRegressor\n",
    "model = CatBoostRegressor(iterations=2,\n",
    "                           learning_rate=1,\n",
    "                           depth=2)\n",
    "for col in cat_cols:\n",
    "    X[col] = X[col].apply(str)\n",
    "\n",
    "# Fit model\n",
    "model.fit(X, Y, cat_features=cat_cols)"
   ]
  },
  {
   "cell_type": "code",
   "execution_count": null,
   "metadata": {},
   "outputs": [],
   "source": [
    "# Get predicted classes\n",
    "# preds_class = model.predict(eval_data)"
   ]
  },
  {
   "cell_type": "code",
   "execution_count": null,
   "metadata": {},
   "outputs": [],
   "source": []
  }
 ],
 "metadata": {
  "kernelspec": {
   "display_name": "BCG",
   "language": "python",
   "name": "python3"
  },
  "language_info": {
   "codemirror_mode": {
    "name": "ipython",
    "version": 3
   },
   "file_extension": ".py",
   "mimetype": "text/x-python",
   "name": "python",
   "nbconvert_exporter": "python",
   "pygments_lexer": "ipython3",
   "version": "3.7.13"
  },
  "orig_nbformat": 4,
  "vscode": {
   "interpreter": {
    "hash": "f587980aed85386828983447eebead6955e950331a8a89d818b794d6ecd4d907"
   }
  }
 },
 "nbformat": 4,
 "nbformat_minor": 2
}
