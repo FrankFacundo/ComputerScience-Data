{
 "cells": [
  {
   "cell_type": "markdown",
   "id": "ed250511",
   "metadata": {},
   "source": [
    "<br>\n",
    "<body>\n",
    "    <center><img src=\"https://hackathon-hi-paris.fr/wp-content/uploads/2022/03/HiPARIS_logo_bleu.png\" style=\"width:50%;height:auto\"></center>\n",
    "    <p style=\"font-size:50px;text-align:center; color:#004475\"><b><span style=\"color: #e61853\">Hi!</span>ckathon 3</b></p><br>\n",
    "    <p style=\"font-size:35px;text-align:center; color:#004475\">Welcoming Notebook</p><br>\n",
    "</body>\n",
    "<br>"
   ]
  },
  {
   "cell_type": "markdown",
   "id": "557fcc83",
   "metadata": {},
   "source": [
    "<br>\n",
    "<p style=\"font-size:30px;color:#004475\">Challenge Background </p>\n",
    "<br>\n",
    "\n",
    "\n",
    "<p style=\"text-align: justify\">Since the signing of the Kyoto Protocol in 1997, the reduction of greenhouse gases and in particular CO$_2$ emissions has become a major issue for all private and public actors. This is a key point if we hope to meet the objectives of the 2015 Paris Conference on Global Warming (COP21) to limit global warming between 1.5°C and 2°C.</p>\n",
    "\n",
    "<p style=\"text-align: justify\">Recently, geopolitical issues have forced us to rethink our energy consumption to reduce our gas and electricity consumption. </p>\n",
    "\n",
    "<p style=\"text-align: justify\">According to a 2021 study, buildings alone account for 44% of the energy consumed in France, ahead of the transport sector (31.3%), and the real estate carbon footprint accounts for 25% of France's GHG emissions.  It is therefore crucial to understand which levers can be used to reduce the consumption of buildings and renovate them efficiently.</p>\n"
   ]
  },
  {
   "cell_type": "markdown",
   "id": "60a7174c",
   "metadata": {},
   "source": [
    "<br>\n",
    "<p style=\"font-size:30px;color:#004475\">Challenge Goals </p>\n",
    "<br>\n",
    "\n",
    "<p style=\"text-align: justify\">Real estate is a major source of greenhouse gas emissions, and consumes a lot of energy. In order to improve the sustainability of housing and commercial properties, companies, governments, real estate owners need to:\n",
    "</p>"
   ]
  },
  {
   "cell_type": "markdown",
   "id": "2af5e292",
   "metadata": {},
   "source": [
    "- identify the most energy intensive buildings,\n",
    "- assess their energy and carbon footprints,\n",
    "- determine the environmental and financial impact of energy efficiency-related works to prioritise investments."
   ]
  },
  {
   "cell_type": "markdown",
   "id": "e9f8135a",
   "metadata": {},
   "source": [
    "The first step to achieve these goals is to adequately model and predict the energy consumption of buildings.\n",
    "To this end, we collected data on approximately 1.5 million buildings, and would like you to train models based on this data.\n",
    "\n",
    "The metric used to assess the models will be the explained variance. For more details, please see : https://scikit-learn.org/stable/modules/model_evaluation.html#explained-variance-score\n",
    "\n",
    "Please note that we are mostly interested in the most common types of buildings. In particular, atypical buildings, with exceedingly low or high energy consumption due to specific uses or unusual areas have low priority, so you might want to ignore outliers.\n",
    "\n"
   ]
  },
  {
   "cell_type": "markdown",
   "id": "f28cad54",
   "metadata": {},
   "source": [
    "\n",
    "<p style=\"font-size:30px;color:#004475\">Data Description </p>\n",
    "<br>\n",
    "\n",
    "\n",
    "<p style=\"text-align: justify\"> To carry out your task, you have a dataset containing approximately 70 variables, which are described in the data dictionnary uploaded on the HFactory along with the datasets. The data pertains to 1.5 million buildings in Europe. The majority of these buildings are dedicated to housing (i.e. individual houses or flats), but the dataset also contains commercial and office buildings.</p>"
   ]
  },
  {
   "cell_type": "markdown",
   "id": "ec05742c",
   "metadata": {
    "ExecuteTime": {
     "end_time": "2023-01-13T15:49:44.064918Z",
     "start_time": "2023-01-13T15:49:44.016069Z"
    }
   },
   "source": [
    "<p style=\"font-size:30px;color:#004475\">Submissions </p>\n",
    "<br>\n",
    "\n",
    "<p style=\"text-align: justify\"> A sample submission file has been provided along the datasets on the HFactory. Please keep its structure when you submit your predictions.</p>\n"
   ]
  },
  {
   "cell_type": "markdown",
   "id": "150c8022",
   "metadata": {
    "ExecuteTime": {
     "end_time": "2023-01-13T16:20:06.743975Z",
     "start_time": "2023-01-13T16:20:06.733787Z"
    }
   },
   "source": [
    "<p style=\"font-size:30px;color:#004475\">Leaderboards </p>\n",
    "<br>\n",
    "\n",
    "<p style=\"text-align: justify\"> A sample submission file has been provided along the datasets on the HFactory. Please keep its structure when you submit your predictions.\n",
    "\n",
    "Please also note that the predictions will be scored first against an interim benchmark. The final leaderboard will be issued on Sunday.</p>\n"
   ]
  }
 ],
 "metadata": {
  "colab": {
   "provenance": [],
   "toc_visible": true
  },
  "hide_input": false,
  "kernelspec": {
   "display_name": "Python 3 (ipykernel)",
   "language": "python",
   "name": "python3"
  },
  "language_info": {
   "codemirror_mode": {
    "name": "ipython",
    "version": 3
   },
   "file_extension": ".py",
   "mimetype": "text/x-python",
   "name": "python",
   "nbconvert_exporter": "python",
   "pygments_lexer": "ipython3",
   "version": "3.9.6"
  },
  "toc": {
   "base_numbering": 1,
   "nav_menu": {},
   "number_sections": true,
   "sideBar": true,
   "skip_h1_title": false,
   "title_cell": "Table of Contents",
   "title_sidebar": "Contents",
   "toc_cell": false,
   "toc_position": {},
   "toc_section_display": true,
   "toc_window_display": false
  }
 },
 "nbformat": 4,
 "nbformat_minor": 5
}
