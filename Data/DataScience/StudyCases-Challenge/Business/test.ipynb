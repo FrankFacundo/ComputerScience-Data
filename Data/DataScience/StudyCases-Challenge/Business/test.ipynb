{
 "cells": [
  {
   "cell_type": "markdown",
   "metadata": {},
   "source": [
    "# 1. Problem 1: Evolution of Sales Volume\n",
    "\n",
    "### <ins>General notes for the exam: </ins>\n",
    "\n",
    "You can access all the data via your usual import package (e.g PANDAS in python):\n",
    "\n",
    "In Python:\n",
    "```\n",
    "import pandas as pd\n",
    "df_product = pd.read_csv('product_data.csv')\n",
    "```\n",
    "\n",
    "In R:\n",
    "```\n",
    "df_product <- read.csv('product_data.csv')\n",
    "```\n",
    "\n",
    "All needed packages are available in the test:\n",
    "Non exhaustive list: pandas, numpy, sklearn, scipy, ...\n",
    "\n",
    "Do not hesitate to <ins>***COMMENT***<ins> on your code and explain your ideas.\n",
    "\n",
    "Try and answer all questions fully. If running out of time, please note that questions 6, 8 and 9 deliver the most points in the scoring system.\n",
    "\n",
    "Throughout this entire exam, your goal will be to help a grocery company to better use its marketing campaigns. \n",
    "\n",
    "### <ins>How to debug your code: </ins>\n",
    "\n",
    "To see the result of any print statements, you should:\n",
    "1. Choose the tab \"Custom input\" next to the \"Test Results\" tab.\n",
    "2. Fill in the text box that appears with: 'BCG'. You do not have to put your code in this box.\n"
   ]
  },
  {
   "cell_type": "markdown",
   "metadata": {},
   "source": [
    "### <ins>Description of the data provided on Section 1: </ins>\n",
    "\n",
    "You are provided two datasets containing data about:\n",
    "1. customer_data: containing data about customers\n",
    "2. orders_data: containing data about orders\n",
    "\n",
    "You can access them with the following snippet:\n",
    "```\n",
    "customers_df = pd.read_csv('customer_data.csv')\n",
    "orders_df = pd.read_csv('order_data.csv')\n",
    "```\n",
    "\n",
    "The table `customer_data` containing the following columns:\n",
    "- `customer_id`: id of the customer\n",
    "- `birth_date`: birth date of the customer \n",
    "- `acquisition_channel`: marketing channel through which the customer was acquired.\n",
    "\n",
    "The table `orders_data` containing the following columns:\n",
    "- `order_id`: id of the order\n",
    "- `transacion_date`: date of the transaction\n",
    "- `product`: ordered product\n",
    "- `price`: price of the bought product in $\n",
    "- `quantity`: quantity ordered of the product\n",
    "- `customer_id`: customer issuing the order\n",
    "\n",
    "Before getting modeling, we would like to do some preliminary analysis to understand better the data we have.\n"
   ]
  },
  {
   "cell_type": "code",
   "execution_count": 2,
   "metadata": {},
   "outputs": [],
   "source": [
    "import pandas as pd\n",
    "customers_df = pd.read_csv('customer_data.csv')\n",
    "orders_df = pd.read_csv('order_data.csv')"
   ]
  },
  {
   "cell_type": "code",
   "execution_count": 3,
   "metadata": {},
   "outputs": [
    {
     "data": {
      "text/html": [
       "<div>\n",
       "<style scoped>\n",
       "    .dataframe tbody tr th:only-of-type {\n",
       "        vertical-align: middle;\n",
       "    }\n",
       "\n",
       "    .dataframe tbody tr th {\n",
       "        vertical-align: top;\n",
       "    }\n",
       "\n",
       "    .dataframe thead th {\n",
       "        text-align: right;\n",
       "    }\n",
       "</style>\n",
       "<table border=\"1\" class=\"dataframe\">\n",
       "  <thead>\n",
       "    <tr style=\"text-align: right;\">\n",
       "      <th></th>\n",
       "      <th>customer_id</th>\n",
       "      <th>birth_date</th>\n",
       "      <th>acquisition_channel</th>\n",
       "    </tr>\n",
       "  </thead>\n",
       "  <tbody>\n",
       "    <tr>\n",
       "      <th>0</th>\n",
       "      <td>4c7883248ada4d8d90ef20d0e9af2835</td>\n",
       "      <td>2001/3/12-6:55:53</td>\n",
       "      <td>Web</td>\n",
       "    </tr>\n",
       "    <tr>\n",
       "      <th>1</th>\n",
       "      <td>b27bfda31f454a0da6172998f58cdabf</td>\n",
       "      <td>1993/8/5-13:34:11</td>\n",
       "      <td>Radio</td>\n",
       "    </tr>\n",
       "    <tr>\n",
       "      <th>2</th>\n",
       "      <td>5d58141206194dc5bc14c4e8afba6603</td>\n",
       "      <td>1969/6/8-17:31:10</td>\n",
       "      <td>Billboard</td>\n",
       "    </tr>\n",
       "    <tr>\n",
       "      <th>3</th>\n",
       "      <td>639d8161f78848e083adc45b9b39d455</td>\n",
       "      <td>1948/6/22-0:49:29</td>\n",
       "      <td>Billboard</td>\n",
       "    </tr>\n",
       "    <tr>\n",
       "      <th>4</th>\n",
       "      <td>5a2909e4342140a4a3f979bc454fa3e0</td>\n",
       "      <td>1993/2/9-17:8:36</td>\n",
       "      <td>Radio</td>\n",
       "    </tr>\n",
       "  </tbody>\n",
       "</table>\n",
       "</div>"
      ],
      "text/plain": [
       "                        customer_id         birth_date acquisition_channel\n",
       "0  4c7883248ada4d8d90ef20d0e9af2835  2001/3/12-6:55:53                 Web\n",
       "1  b27bfda31f454a0da6172998f58cdabf  1993/8/5-13:34:11               Radio\n",
       "2  5d58141206194dc5bc14c4e8afba6603  1969/6/8-17:31:10           Billboard\n",
       "3  639d8161f78848e083adc45b9b39d455  1948/6/22-0:49:29           Billboard\n",
       "4  5a2909e4342140a4a3f979bc454fa3e0   1993/2/9-17:8:36               Radio"
      ]
     },
     "execution_count": 3,
     "metadata": {},
     "output_type": "execute_result"
    }
   ],
   "source": [
    "customers_df.head()"
   ]
  },
  {
   "cell_type": "code",
   "execution_count": 4,
   "metadata": {},
   "outputs": [
    {
     "data": {
      "text/html": [
       "<div>\n",
       "<style scoped>\n",
       "    .dataframe tbody tr th:only-of-type {\n",
       "        vertical-align: middle;\n",
       "    }\n",
       "\n",
       "    .dataframe tbody tr th {\n",
       "        vertical-align: top;\n",
       "    }\n",
       "\n",
       "    .dataframe thead th {\n",
       "        text-align: right;\n",
       "    }\n",
       "</style>\n",
       "<table border=\"1\" class=\"dataframe\">\n",
       "  <thead>\n",
       "    <tr style=\"text-align: right;\">\n",
       "      <th></th>\n",
       "      <th>transacion_date</th>\n",
       "      <th>product</th>\n",
       "      <th>price</th>\n",
       "      <th>quantity</th>\n",
       "      <th>orders_id</th>\n",
       "      <th>customer_id</th>\n",
       "    </tr>\n",
       "  </thead>\n",
       "  <tbody>\n",
       "    <tr>\n",
       "      <th>0</th>\n",
       "      <td>12/1/2010 8:26</td>\n",
       "      <td>WHITE HANGING HEART T-LIGHT HOLDER</td>\n",
       "      <td>2.55</td>\n",
       "      <td>6</td>\n",
       "      <td>604044f8f75c4cfea4d728a45f8ac734</td>\n",
       "      <td>4c7883248ada4d8d90ef20d0e9af2835</td>\n",
       "    </tr>\n",
       "    <tr>\n",
       "      <th>1</th>\n",
       "      <td>12/1/2010 8:26</td>\n",
       "      <td>WHITE METAL LANTERN</td>\n",
       "      <td>3.39</td>\n",
       "      <td>6</td>\n",
       "      <td>7d6e32355659484aa66b64f6bdd708d7</td>\n",
       "      <td>b27bfda31f454a0da6172998f58cdabf</td>\n",
       "    </tr>\n",
       "    <tr>\n",
       "      <th>2</th>\n",
       "      <td>12/1/2010 8:26</td>\n",
       "      <td>CREAM CUPID HEARTS COAT HANGER</td>\n",
       "      <td>2.75</td>\n",
       "      <td>8</td>\n",
       "      <td>27339e14b50c43e9984c434d1939f983</td>\n",
       "      <td>b27bfda31f454a0da6172998f58cdabf</td>\n",
       "    </tr>\n",
       "    <tr>\n",
       "      <th>3</th>\n",
       "      <td>12/1/2010 8:26</td>\n",
       "      <td>KNITTED UNION FLAG HOT WATER BOTTLE</td>\n",
       "      <td>3.39</td>\n",
       "      <td>6</td>\n",
       "      <td>8ac28c0797be4d1d826086f606ad7add</td>\n",
       "      <td>b27bfda31f454a0da6172998f58cdabf</td>\n",
       "    </tr>\n",
       "    <tr>\n",
       "      <th>4</th>\n",
       "      <td>12/1/2010 8:26</td>\n",
       "      <td>RED WOOLLY HOTTIE WHITE HEART.</td>\n",
       "      <td>3.39</td>\n",
       "      <td>6</td>\n",
       "      <td>b87ca12652d14c66bd86e6b80f28b279</td>\n",
       "      <td>b27bfda31f454a0da6172998f58cdabf</td>\n",
       "    </tr>\n",
       "  </tbody>\n",
       "</table>\n",
       "</div>"
      ],
      "text/plain": [
       "  transacion_date                              product  price  quantity  \\\n",
       "0  12/1/2010 8:26   WHITE HANGING HEART T-LIGHT HOLDER   2.55         6   \n",
       "1  12/1/2010 8:26                  WHITE METAL LANTERN   3.39         6   \n",
       "2  12/1/2010 8:26       CREAM CUPID HEARTS COAT HANGER   2.75         8   \n",
       "3  12/1/2010 8:26  KNITTED UNION FLAG HOT WATER BOTTLE   3.39         6   \n",
       "4  12/1/2010 8:26       RED WOOLLY HOTTIE WHITE HEART.   3.39         6   \n",
       "\n",
       "                          orders_id                       customer_id  \n",
       "0  604044f8f75c4cfea4d728a45f8ac734  4c7883248ada4d8d90ef20d0e9af2835  \n",
       "1  7d6e32355659484aa66b64f6bdd708d7  b27bfda31f454a0da6172998f58cdabf  \n",
       "2  27339e14b50c43e9984c434d1939f983  b27bfda31f454a0da6172998f58cdabf  \n",
       "3  8ac28c0797be4d1d826086f606ad7add  b27bfda31f454a0da6172998f58cdabf  \n",
       "4  b87ca12652d14c66bd86e6b80f28b279  b27bfda31f454a0da6172998f58cdabf  "
      ]
     },
     "execution_count": 4,
     "metadata": {},
     "output_type": "execute_result"
    }
   ],
   "source": [
    "orders_df.head()"
   ]
  },
  {
   "cell_type": "markdown",
   "metadata": {},
   "source": [
    "### <ins>Problem 1:</ins>\n",
    "\n",
    "What is the relative difference between the total sales on 2018 and 2017 ?\n",
    "The relative difference is defined as: (sales_2018/sales_2017 - 1)\n",
    "Sales are calculated as an ammount in $"
   ]
  },
  {
   "cell_type": "code",
   "execution_count": 69,
   "metadata": {},
   "outputs": [
    {
     "data": {
      "text/plain": [
       "year\n",
       "2010    167910.51\n",
       "Name: amount, dtype: float64"
      ]
     },
     "execution_count": 69,
     "metadata": {},
     "output_type": "execute_result"
    }
   ],
   "source": [
    "big_table = pd.merge(orders_df, customers_df, how=\"left\", on=\"customer_id\")\n",
    "big_table['amount'] = big_table['price']*big_table['quantity']\n",
    "big_table['transacion_date'] = pd.to_datetime(big_table['transacion_date'], format='%d/%m/%Y %H:%M')\n",
    "big_table['year'] = big_table['transacion_date'].dt.year\n",
    "#big_table.head()\n",
    "big_table.groupby('year')['amount'].sum()"
   ]
  },
  {
   "cell_type": "markdown",
   "metadata": {},
   "source": [
    "# 2. Problem 2: Population type per acquisition channel\n",
    "\n",
    "### <ins>Problem 2:</ins>\n",
    "\n",
    "What is the median age per acquisition channel?\n",
    "Please return a pandas dataframe containing the following columns:\n",
    "- acquisition_channel: contains the channel name (radio, tv, ...)\n",
    "- median_age: median age of the given channel\n",
    "\n",
    "N.B: The median should be calculated on an integer 'age': convert the age to an integer before calculating the median.\n"
   ]
  },
  {
   "cell_type": "code",
   "execution_count": 100,
   "metadata": {},
   "outputs": [
    {
     "data": {
      "text/plain": [
       "acquisition_channel\n",
       "Billboard    51.350659\n",
       "Radio        53.328402\n",
       "TV           48.223717\n",
       "Web          45.144148\n",
       "Name: age, dtype: float64"
      ]
     },
     "execution_count": 100,
     "metadata": {},
     "output_type": "execute_result"
    }
   ],
   "source": [
    "big_table = pd.merge(orders_df, customers_df, how=\"left\", on=\"customer_id\")\n",
    "big_table['birth_date'] = pd.to_datetime(big_table['birth_date'], format='%Y/%m/%d-%H:%M:%S', errors='coerce')\n",
    "big_table.dropna(inplace=True)\n",
    "big_table['birth_year'] = big_table['birth_date'].dt.year\n",
    "big_table['age'] = 2022 - big_table[\"birth_year\"]\n",
    "big_table[\"age\"].head()\n",
    "\n",
    "big_table.groupby('acquisition_channel')['age'].agg(\"mean\")"
   ]
  },
  {
   "cell_type": "code",
   "execution_count": 101,
   "metadata": {},
   "outputs": [
    {
     "data": {
      "text/html": [
       "<div>\n",
       "<style scoped>\n",
       "    .dataframe tbody tr th:only-of-type {\n",
       "        vertical-align: middle;\n",
       "    }\n",
       "\n",
       "    .dataframe tbody tr th {\n",
       "        vertical-align: top;\n",
       "    }\n",
       "\n",
       "    .dataframe thead th {\n",
       "        text-align: right;\n",
       "    }\n",
       "</style>\n",
       "<table border=\"1\" class=\"dataframe\">\n",
       "  <thead>\n",
       "    <tr style=\"text-align: right;\">\n",
       "      <th></th>\n",
       "      <th>product</th>\n",
       "      <th>quantity</th>\n",
       "    </tr>\n",
       "  </thead>\n",
       "  <tbody>\n",
       "    <tr>\n",
       "      <th>141</th>\n",
       "      <td>Discount</td>\n",
       "      <td>-1.0</td>\n",
       "    </tr>\n",
       "    <tr>\n",
       "      <th>154</th>\n",
       "      <td>SET OF 3 COLOURED  FLYING DUCKS</td>\n",
       "      <td>-1.0</td>\n",
       "    </tr>\n",
       "    <tr>\n",
       "      <th>235</th>\n",
       "      <td>PLASTERS IN TIN CIRCUS PARADE</td>\n",
       "      <td>-12.0</td>\n",
       "    </tr>\n",
       "    <tr>\n",
       "      <th>236</th>\n",
       "      <td>PACK OF 12 PINK PAISLEY TISSUES</td>\n",
       "      <td>-24.0</td>\n",
       "    </tr>\n",
       "    <tr>\n",
       "      <th>237</th>\n",
       "      <td>PACK OF 12 BLUE PAISLEY TISSUES</td>\n",
       "      <td>-24.0</td>\n",
       "    </tr>\n",
       "  </tbody>\n",
       "</table>\n",
       "</div>"
      ],
      "text/plain": [
       "                              product  quantity\n",
       "141                          Discount      -1.0\n",
       "154   SET OF 3 COLOURED  FLYING DUCKS      -1.0\n",
       "235    PLASTERS IN TIN CIRCUS PARADE      -12.0\n",
       "236  PACK OF 12 PINK PAISLEY TISSUES      -24.0\n",
       "237  PACK OF 12 BLUE PAISLEY TISSUES      -24.0"
      ]
     },
     "execution_count": 101,
     "metadata": {},
     "output_type": "execute_result"
    }
   ],
   "source": [
    "res = big_table.where(big_table.quantity <= 0)[['product', 'quantity']]\n",
    "res.dropna(inplace=True)\n",
    "res.head()"
   ]
  },
  {
   "cell_type": "markdown",
   "metadata": {},
   "source": [
    "# 3. Problem 3: Popular product within millennials\n",
    "\n",
    "### <ins>Problem 3:</ins>\n",
    "\n",
    "What is the most popular product (in terms of number of sold units) among the millennials (born between 1981 and 1996 incl.) ?"
   ]
  },
  {
   "cell_type": "code",
   "execution_count": 103,
   "metadata": {},
   "outputs": [
    {
     "data": {
      "text/html": [
       "<div>\n",
       "<style scoped>\n",
       "    .dataframe tbody tr th:only-of-type {\n",
       "        vertical-align: middle;\n",
       "    }\n",
       "\n",
       "    .dataframe tbody tr th {\n",
       "        vertical-align: top;\n",
       "    }\n",
       "\n",
       "    .dataframe thead th {\n",
       "        text-align: right;\n",
       "    }\n",
       "</style>\n",
       "<table border=\"1\" class=\"dataframe\">\n",
       "  <thead>\n",
       "    <tr style=\"text-align: right;\">\n",
       "      <th></th>\n",
       "      <th>quantity</th>\n",
       "    </tr>\n",
       "    <tr>\n",
       "      <th>product</th>\n",
       "      <th></th>\n",
       "    </tr>\n",
       "  </thead>\n",
       "  <tbody>\n",
       "    <tr>\n",
       "      <th>RED  HARMONICA IN BOX</th>\n",
       "      <td>1484.0</td>\n",
       "    </tr>\n",
       "    <tr>\n",
       "      <th>PACK OF 12 LONDON TISSUES</th>\n",
       "      <td>677.0</td>\n",
       "    </tr>\n",
       "    <tr>\n",
       "      <th>WHITE HANGING HEART T-LIGHT HOLDER</th>\n",
       "      <td>345.0</td>\n",
       "    </tr>\n",
       "    <tr>\n",
       "      <th>LADS ONLY TISSUE BOX</th>\n",
       "      <td>340.0</td>\n",
       "    </tr>\n",
       "    <tr>\n",
       "      <th>JUMBO BAG RED RETROSPOT</th>\n",
       "      <td>301.0</td>\n",
       "    </tr>\n",
       "  </tbody>\n",
       "</table>\n",
       "</div>"
      ],
      "text/plain": [
       "                                    quantity\n",
       "product                                     \n",
       "RED  HARMONICA IN BOX                 1484.0\n",
       "PACK OF 12 LONDON TISSUES              677.0\n",
       "WHITE HANGING HEART T-LIGHT HOLDER     345.0\n",
       "LADS ONLY TISSUE BOX                   340.0\n",
       "JUMBO BAG RED RETROSPOT                301.0"
      ]
     },
     "execution_count": 103,
     "metadata": {},
     "output_type": "execute_result"
    }
   ],
   "source": [
    "big_table.dropna(inplace=True)\n",
    "t = big_table.where((big_table.birth_year>=1981) & (big_table.birth_year<=1996))[[\"product\", \"quantity\"]]\n",
    "t.dropna(inplace=True)\n",
    "# t.head(20)\n",
    "t.groupby('product').agg(\"sum\").sort_values(by=['quantity'], ascending=False).head(5)"
   ]
  },
  {
   "cell_type": "markdown",
   "metadata": {},
   "source": [
    "# 4. Linear regression (1/2)\n",
    "\n",
    "## Section 2: Linear Regression \n",
    "\n",
    "We would like to understand which marketing channel is the most effective.\n",
    "For that, the marketing department of our client provided us with a dataset containing weekly spends on each channel and the revenue generated that week during the 3 last years.\n",
    "\n",
    "The data in on a tabular format with the following columns:\n",
    "- week: a week identifier\n",
    "- spends_tv: spendings on tv marketing campaign that week\n",
    "- spends_radio: spendings on ads on the radio\n",
    "- spends_web: spendings on web ads\n",
    "- spends_billboard: spendings on phisical ads on billboards\n",
    "- revenue: revenue generated during this week\n",
    "\n",
    "Your colleague had the idea of treating this problem as regression problem where he tries to estimate the revenue as linear function of spendings.\n",
    "He has performed a linear regression and obtained the following results: \n",
    "\n",
    "\n",
    "\n",
    "OLS Results\n",
    "================================================================\n",
    "\n",
    "| Variable    | Value       |\n",
    "| ----------- | ----------- |\n",
    "| Dep. Variable      | revenue       |\n",
    "| Model   | OLS        |\n",
    "| Method   | Least Squares        |\n",
    "| Date   | Mon, 14 May 2018        |\n",
    "| Time   | 21:48:12        |\n",
    "| No. Observations   | 156        |\n",
    "| Df Model   | 3        |\n",
    "| Covariance type   | nonrobust        |\n",
    "| R-squared   | 0.816        |\n",
    "| Adj. R-squared   | 0.712        |\n",
    "| F-statistic   | 6.646        |\n",
    "| Prob(F-statistic)   | 0.00157        |\n",
    "| Log-Likelihood   | -12.974        |\n",
    "\n",
    "\n",
    "================================================================\n",
    "\n",
    "\n",
    "| |coef| str err | t | P>\\|t\\| |\n",
    "|--- | ---| --- | --- | --- |\n",
    "|spends_tv | 10454.7| 197.2 | 53.02 | <0.00001 |\n",
    "|spends_radio | 5984.2| 959.3 | 6.238 | 0.0041543 |\n",
    "|spends_web | 8324.1| 134.5 | 61.89_ | <0.00001 |\n",
    "|spends_billboard | 6278.5| 434.1 | 14.46 | <0.000359 |\n",
    "|const | 30332.2| 202.1 | 150.1 | <0.00001 |\n",
    "\n",
    "================================================================\n",
    "\n",
    "\n",
    "| Variable    | Value       |\n",
    "| ----------- | ----------- |\n",
    "| Omnibus      | 0.176       |\n",
    "| Prob(Omnibus)   | 0.916        |\n",
    "| Skew   | 0.141        |\n",
    "| Kurtosis   | 2.786        |\n",
    "| Durbin-Watson   | 2.346        |\n",
    "| Jarque-Bera (JB)   | 0.167        |\n",
    "| Prob(JB)   | 0.920        |\n",
    "| Cond. No.   | 176.        |\n",
    "\n",
    "\n",
    "================================================================\n",
    "\n",
    "Warnings:\n",
    "[1] Standard errors assume that the convariance matrix of the errors is correctly specified.\n"
   ]
  },
  {
   "cell_type": "markdown",
   "metadata": {},
   "source": [
    "### <ins>Problem 4:</ins>\n",
    "<ins>Question 1:</ins>\n",
    "\n",
    "With certainty, can you provide the MOST effective marketing channel?\n"
   ]
  },
  {
   "cell_type": "markdown",
   "metadata": {},
   "source": [
    "# ASK HERE"
   ]
  },
  {
   "cell_type": "markdown",
   "metadata": {},
   "source": [
    "### <ins>Problem 5:</ins>\n",
    "<ins>Question 2:</ins>\n",
    "\n",
    "With certainty, can you provide the LEAST effective marketing channel?\n",
    "Pick **ONE** option\n",
    "- TV\n",
    "- Radio \n",
    "- Web\n",
    "- Billboard\n",
    "- Can't say \n"
   ]
  },
  {
   "cell_type": "markdown",
   "metadata": {},
   "source": [
    "# ASK HERE"
   ]
  },
  {
   "cell_type": "markdown",
   "metadata": {},
   "source": [
    "# 6. Regression model to predict revenues\n",
    "\n",
    "## Section 2: Build a regression model\n",
    "\n",
    "The marketing department with which we are working want to send personalised promotions to targeted customers. They need help from us to get the highest value customers: customers who will generate the most revenues.\n",
    "\n",
    "For this, you are asked to create a **regression model** that predicts the demand for a given customer and year. The **target value** is **revenue** which is equal to the **price \\* quantity** <ins>**agregated at year level**<ins>\n",
    "\n",
    "Important Note in this section:\n",
    "\n",
    "Do not hesitate to write comments and to modularize your code.\n",
    "You will be evaluated both on the result and the quality of your code.\n",
    "If you get stuck in a question, do not hesitate to move on the next question.\n",
    "Points are assigned independently for each question.\n",
    "\n"
   ]
  },
  {
   "cell_type": "markdown",
   "metadata": {},
   "source": [
    "**Question 1:**\n",
    "\n",
    "Using the two tables from Question 1 (orders_data and customer_data), create an aggregated table of revenus by year and customer_id.\n",
    "\n"
   ]
  },
  {
   "cell_type": "code",
   "execution_count": null,
   "metadata": {},
   "outputs": [],
   "source": [
    "# Code"
   ]
  },
  {
   "cell_type": "markdown",
   "metadata": {},
   "source": [
    "**Question 2:**\n",
    "Create the following features on the aggregated table from question 1:\n",
    "- age: customer age\n",
    "- prev_year_revenue: revenue generated by the customer on the previous year\n",
    "- prev_year_nb_products: number of distinct products bought by the customer on the previous year\n"
   ]
  },
  {
   "cell_type": "code",
   "execution_count": null,
   "metadata": {},
   "outputs": [],
   "source": [
    "# Code"
   ]
  },
  {
   "cell_type": "markdown",
   "metadata": {},
   "source": [
    "**Question 3:**\n",
    "Can you add some other features that may help the model?\n",
    "We expect you to add at least 2 features.\n"
   ]
  },
  {
   "cell_type": "code",
   "execution_count": null,
   "metadata": {},
   "outputs": [],
   "source": [
    "# Code"
   ]
  },
  {
   "cell_type": "markdown",
   "metadata": {},
   "source": [
    "**Question 4:**\n",
    "We will split the data on a training and test sets. The test set should correspond to orders in the year 2018, and the other years are training set. \n",
    "Train your regression model on the training set and then use it to predict the outcome on the test set.\n",
    "Calculate the RMSE (Root Mean Square Error) on the test set and return it."
   ]
  },
  {
   "cell_type": "code",
   "execution_count": null,
   "metadata": {},
   "outputs": [],
   "source": [
    "### Code"
   ]
  },
  {
   "cell_type": "markdown",
   "metadata": {},
   "source": [
    "# 7. Data Assessment\n",
    "\n",
    "## Section 3: Build a regression model\n",
    "\n"
   ]
  },
  {
   "cell_type": "markdown",
   "metadata": {},
   "source": [
    "**Question:**\n",
    "\n",
    "On the provided data, we only have the quantity of sold products. What other important data is missing to estimate the real demand? \n"
   ]
  },
  {
   "cell_type": "markdown",
   "metadata": {},
   "source": [
    "# Ask here"
   ]
  },
  {
   "cell_type": "markdown",
   "metadata": {},
   "source": [
    "# 8. \n",
    "\n",
    "## Section 4: Model interpretation\n",
    "\n",
    "We would like now to focus on a particular and rare product: 'Chia seeds'.\n",
    "\n",
    "This product represent 2% of the sales volume (in terms of quantity),\n",
    "\n",
    "Your colleague has build a classification model to predict if a given customer will buy this product.\n",
    "The output of the algorithm is binary:\n",
    "- 1 when the model predicts that the customer will buy 'Chia seeds'\n",
    "- 0 when the model predicts that the customer will **NOT** buy 'Chia seeds'\n",
    "\n",
    "The model your colleague made has a good accuracy:\n",
    "- For Chia seeds buyers, the model is correct 98% of the time.\n",
    "- For **NON** Chia seeds buyers, the model is correct 98% of the time.\n",
    "\n",
    "You have run the model on a customer from your database, and the model predicted a positive answer meaning that he will buy chia seeds.\n"
   ]
  },
  {
   "cell_type": "markdown",
   "metadata": {},
   "source": [
    "**Question:**\n",
    "\n",
    "What is the probability of this customer to be a chia seeds buyer?\n",
    "\n",
    "Pick **ONE** option:\n",
    "- 99%\n",
    "- 90%\n",
    "- 80%\n",
    "- 70%\n",
    "- 50%\n",
    "- 40%\n",
    "- 30%\n",
    "- 20%\n",
    "- 10%\n",
    "- 1%\n",
    "\n",
    "\n"
   ]
  },
  {
   "cell_type": "markdown",
   "metadata": {},
   "source": [
    "# 9. \n",
    "\n",
    "## Section 5: Preprocessing Step\n",
    "\n",
    "Imagine you have to develop a regression model.\n",
    "After gathering all the data you need on one table, and after you build your features, you ended up with a table having 7000 observations and 8000 features.\n",
    "\n",
    "What is your next step?\n",
    "Can you provide 3 different techniques to do it?\n",
    "Can you also explain the main differences between them?\n",
    "\n",
    "Please provide your answer in the following editor.\n",
    "\n"
   ]
  },
  {
   "cell_type": "markdown",
   "metadata": {},
   "source": [
    "# Ask here"
   ]
  },
  {
   "cell_type": "markdown",
   "metadata": {},
   "source": []
  }
 ],
 "metadata": {
  "interpreter": {
   "hash": "f587980aed85386828983447eebead6955e950331a8a89d818b794d6ecd4d907"
  },
  "kernelspec": {
   "display_name": "Python 3.7.13 ('BCG')",
   "language": "python",
   "name": "python3"
  },
  "language_info": {
   "codemirror_mode": {
    "name": "ipython",
    "version": 3
   },
   "file_extension": ".py",
   "mimetype": "text/x-python",
   "name": "python",
   "nbconvert_exporter": "python",
   "pygments_lexer": "ipython3",
   "version": "3.7.13"
  },
  "orig_nbformat": 4,
  "vscode": {
   "interpreter": {
    "hash": "258d3ea1c48575149cc29bf4b616816ab3e7db99df48e2518525ca0989ddf230"
   }
  }
 },
 "nbformat": 4,
 "nbformat_minor": 2
}
