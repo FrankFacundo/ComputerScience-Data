{
 "cells": [
  {
   "cell_type": "markdown",
   "metadata": {},
   "source": [
    "# 1. Problem 1: Evolution of Sales Volume\n",
    "\n",
    "### <ins>General notes for the exam: </ins>\n",
    "\n",
    "You can access all the data via your usual import package (e.g PANDAS in python):\n",
    "\n",
    "In Python:\n",
    "```\n",
    "import pandas as pd\n",
    "df_product = pd.read_csv('product_data.csv')\n",
    "```\n",
    "\n",
    "In R:\n",
    "```\n",
    "df_product <- read.csv('product_data.csv')\n",
    "```\n",
    "\n",
    "All needed packages are available in the test:\n",
    "Non exhaustive list: pandas, numpy, sklearn, scipy, ...\n",
    "\n",
    "Do not hesitate to <ins>***COMMENT***<ins> on your code and explain your ideas.\n",
    "\n",
    "Try and answer all questions fully. If running out of time, please note that questions 6, 8 and 9 deliver the most points in the scoring system.\n",
    "\n",
    "Throughout this entire exam, your goal will be to help a grocery company to better use its marketing campaigns. \n",
    "\n",
    "### <ins>How to debug your code: </ins>\n",
    "\n",
    "To see the result of any print statements, you should:\n",
    "1. Choose the tab \"Custom input\" next to the \"Test Results\" tab.\n",
    "2. Fill in the text box that appears with: 'BCG'. You do not have to put your code in this box.\n"
   ]
  },
  {
   "cell_type": "markdown",
   "metadata": {},
   "source": [
    "### <ins>Description of the data provided on Section 1: </ins>\n",
    "\n",
    "You are provided two datasets containing data about:\n",
    "1. customer_data: containing data about customers\n",
    "2. orders_data: containing data about orders\n",
    "\n",
    "You can access them with the following snippet:\n",
    "```\n",
    "customers_df = pd.read_csv('customer_data.csv')\n",
    "orders_df = pd.read_csv('order_data.csv')\n",
    "```\n",
    "\n",
    "The table `customer_data` containing the following columns:\n",
    "- `customer_id`: id of the customer\n",
    "- `birth_date`: birth date of the customer \n",
    "- `acquisition_channel`: marketing channel through which the customer was acquired.\n",
    "\n",
    "The table `orders_data` containing the following columns:\n",
    "- `order_id`: id of the order\n",
    "- `transacion_date`: date of the transaction\n",
    "- `product`: ordered product\n",
    "- `price`: price of the bought product in $\n",
    "- `quantity`: quantity ordered of the product\n",
    "- `customer_id`: customer issuing the order\n",
    "\n",
    "Before getting modeling, we would like to do some preliminary analysis to understand better the data we have.\n"
   ]
  },
  {
   "cell_type": "markdown",
   "metadata": {},
   "source": [
    "### <ins>Problem 1:</ins>\n",
    "\n",
    "What is the relative difference between the total sales on 2018 and 2017 ?\n",
    "The relative difference is defined as: (sales_2018/sales_2017 - 1)\n",
    "Sales are calculated as an ammount in $"
   ]
  },
  {
   "cell_type": "code",
   "execution_count": 5,
   "metadata": {},
   "outputs": [],
   "source": [
    "### Code"
   ]
  },
  {
   "cell_type": "markdown",
   "metadata": {},
   "source": [
    "# 2. Problem 2: Population type per acquisition channel\n",
    "\n",
    "### <ins>Problem 2:</ins>\n",
    "\n",
    "What is the median age per acquisition channel?\n",
    "Please return a pandas dataframe containing the following columns:\n",
    "- acquisition_channel: contains the channel name (radio, tv, ...)\n",
    "- median_age: median age of the given channel\n",
    "\n",
    "N.B: The median should be calculated on an integer 'age': convert the age to an integer before calculating the median.\n"
   ]
  },
  {
   "cell_type": "code",
   "execution_count": 6,
   "metadata": {},
   "outputs": [],
   "source": [
    "### Code"
   ]
  },
  {
   "cell_type": "markdown",
   "metadata": {},
   "source": [
    "# 3. Problem 3: Popular product within millennials\n",
    "\n",
    "### <ins>Problem 3:</ins>\n",
    "\n",
    "What is the most popular product (in terms of number of sold units) among the millennials (born between 1981 and 1996 incl.) ?"
   ]
  },
  {
   "cell_type": "code",
   "execution_count": 7,
   "metadata": {},
   "outputs": [],
   "source": [
    "### Code"
   ]
  },
  {
   "cell_type": "markdown",
   "metadata": {},
   "source": [
    "# 4. Linear regression (1/2)\n",
    "\n",
    "## Section 2: Linear Regression \n",
    "\n",
    "We would like to understand which marketing channel is the most effective.\n",
    "For that, the marketing department of our client provided us with a dataset containing weekly spends on each channel and the revenue generated that week during the 3 last years.\n",
    "\n",
    "The data in on a tabular format with the following columns:\n",
    "- week: a week identifier\n",
    "- spends_tv: spendings on tv marketing campaign that week\n",
    "- spends_radio: spendings on ads on the radio\n",
    "- spends_web: spendings on web ads\n",
    "- spends_billboard: spendings on phisical ads on billboards\n",
    "- revenue: revenue generated during this week\n",
    "\n",
    "Your colleague had the idea of treating this problem as regression problem where he tries to estimate the revenue as linear function of spendings.\n",
    "He has performed a linear regression and obtained the following results: \n",
    "\n",
    "\n",
    "\n",
    "OLS Results\n",
    "================================================================\n",
    "\n",
    "| Variable    | Value       |\n",
    "| ----------- | ----------- |\n",
    "| Dep. Variable      | revenue       |\n",
    "| Model   | OLS        |\n",
    "| Method   | Least Squares        |\n",
    "| Date   | Mon, 14 May 2018        |\n",
    "| Time   | 21:48:12        |\n",
    "| No. Observations   | 156        |\n",
    "| Df Model   | 3        |\n",
    "| Covariance type   | nonrobust        |\n",
    "| R-squared   | 0.816        |\n",
    "| Adj. R-squared   | 0.712        |\n",
    "| F-statistic   | 6.646        |\n",
    "| Prob(F-statistic)   | 0.00157        |\n",
    "| Log-Likelihood   | -12.974        |\n",
    "\n",
    "\n",
    "================================================================\n",
    "\n",
    "\n",
    "| |coef| str err | t | P>\\|t\\| |\n",
    "|--- | ---| --- | --- | --- |\n",
    "|spends_tv | 10454.7| 197.2 | 53.02 | <0.00001 |\n",
    "|spends_radio | 5984.2| 959.3 | 6.238 | 0.0041543 |\n",
    "|spends_web | 8324.1| 134.5 | 61.89_ | <0.00001 |\n",
    "|spends_billboard | 6278.5| 434.1 | 14.46 | <0.000359 |\n",
    "|const | 30332.2| 202.1 | 150.1 | <0.00001 |\n",
    "\n",
    "================================================================\n",
    "\n",
    "\n",
    "| Variable    | Value       |\n",
    "| ----------- | ----------- |\n",
    "| Omnibus      | 0.176       |\n",
    "| Prob(Omnibus)   | 0.916        |\n",
    "| Skew   | 0.141        |\n",
    "| Kurtosis   | 2.786        |\n",
    "| Durbin-Watson   | 2.346        |\n",
    "| Jarque-Bera (JB)   | 0.167        |\n",
    "| Prob(JB)   | 0.920        |\n",
    "| Cond. No.   | 176.        |\n",
    "\n",
    "\n",
    "================================================================\n",
    "\n",
    "Warnings:\n",
    "[1] Standard errors assume that the convariance matrix of the errors is correctly specified.\n"
   ]
  },
  {
   "cell_type": "markdown",
   "metadata": {},
   "source": [
    "### <ins>Problem 4:</ins>\n",
    "<ins>Question 1:</ins>\n",
    "\n",
    "With certainty, can you provide the MOST effective marketing channel?\n"
   ]
  },
  {
   "cell_type": "markdown",
   "metadata": {},
   "source": [
    "# ASK HERE"
   ]
  },
  {
   "cell_type": "markdown",
   "metadata": {},
   "source": [
    "### <ins>Problem 5:</ins>\n",
    "<ins>Question 2:</ins>\n",
    "\n",
    "With certainty, can you provide the LEAST effective marketing channel?\n",
    "Pick **ONE** option\n",
    "- TV\n",
    "- Radio \n",
    "- Web\n",
    "- Billboard\n",
    "- Can't say \n"
   ]
  },
  {
   "cell_type": "markdown",
   "metadata": {},
   "source": [
    "# ASK HERE"
   ]
  },
  {
   "cell_type": "markdown",
   "metadata": {},
   "source": [
    "# 6. Regression model to predict revenues\n",
    "\n",
    "## Section 2: Build a regression model\n",
    "\n",
    "The marketing department with which we are working want to send personalised promotions to targeted customers. They need help from us to get the highest value customers: customers who will generate the most revenues.\n",
    "\n",
    "For this, you are asked to create a **regression model** that predicts the demand for a given customer and year. The **target value** is **revenue** which is equal to the **price \\* quantity** <ins>**agregated at year level**<ins>\n",
    "\n",
    "Important Note in this section:\n",
    "\n",
    "Do not hesitate to write comments and to modularize your code.\n",
    "You will be evaluated both on the result and the quality of your code.\n",
    "If you get stuck in a question, do not hesitate to move on the next question.\n",
    "Points are assigned independently for each question.\n",
    "\n"
   ]
  },
  {
   "cell_type": "markdown",
   "metadata": {},
   "source": [
    "**Question 1:**\n",
    "\n",
    "Using the two tables from Question 1 (orders_data and customer_data), create an aggregated table of revenus by year and customer_id.\n",
    "\n"
   ]
  },
  {
   "cell_type": "code",
   "execution_count": 8,
   "metadata": {},
   "outputs": [],
   "source": [
    "# Code"
   ]
  },
  {
   "cell_type": "markdown",
   "metadata": {},
   "source": [
    "**Question 2:**\n",
    "Create the following features on the aggregated table from question 1:\n",
    "- age: customer age\n",
    "- prev_year_revenue: revenue generated by the customer on the previous year\n",
    "- prev_year_nb_products: number of distinct products bought by the customer on the previous year\n"
   ]
  },
  {
   "cell_type": "code",
   "execution_count": 9,
   "metadata": {},
   "outputs": [],
   "source": [
    "# Code"
   ]
  },
  {
   "cell_type": "markdown",
   "metadata": {},
   "source": [
    "**Question 3:**\n",
    "Can you add some other features that may help the model?\n",
    "We expect you to add at least 2 features.\n"
   ]
  },
  {
   "cell_type": "code",
   "execution_count": 10,
   "metadata": {},
   "outputs": [],
   "source": [
    "# Code"
   ]
  },
  {
   "cell_type": "markdown",
   "metadata": {},
   "source": [
    "**Question 4:**\n",
    "We will split the data on a training and test sets. The test set should correspond to orders in the year 2018, and the other years are training set. \n",
    "Train your regression model on the training set and then use it to predict the outcome on the test set.\n",
    "Calculate the RMSE (Root Mean Square Error) on the test set and return it."
   ]
  },
  {
   "cell_type": "code",
   "execution_count": 11,
   "metadata": {},
   "outputs": [],
   "source": [
    "### Code"
   ]
  },
  {
   "cell_type": "markdown",
   "metadata": {},
   "source": [
    "# 7. Data Assessment\n",
    "\n",
    "## Section 3: Build a regression model\n",
    "\n"
   ]
  },
  {
   "cell_type": "markdown",
   "metadata": {},
   "source": [
    "**Question:**\n",
    "\n",
    "On the provided data, we only have the quantity of sold products. What other important data is missing to estimate the real demand? \n"
   ]
  },
  {
   "cell_type": "markdown",
   "metadata": {},
   "source": [
    "# Ask here"
   ]
  },
  {
   "cell_type": "markdown",
   "metadata": {},
   "source": [
    "# 8. \n",
    "\n",
    "## Section 4: Model interpretation\n",
    "\n",
    "We would like now to focus on a particular and rare product: 'Chia seeds'.\n",
    "\n",
    "This product represent 2% of the sales volume (in terms of quantity),\n",
    "\n",
    "Your colleague has build a classification model to predict if a given customer will buy this product.\n",
    "The output of the algorithm is binary:\n",
    "- 1 when the model predicts that the customer will buy 'Chia seeds'\n",
    "- 0 when the model predicts that the customer will **NOT** buy 'Chia seeds'\n",
    "\n",
    "The model your colleague made has a good accuracy:\n",
    "- For Chia seeds buyers, the model is correct 98% of the time.\n",
    "- For **NON** Chia seeds buyers, the model is correct 98% of the time.\n",
    "\n",
    "You have run the model on a customer from your database, and the model predicted a positive answer meaning that he will buy chia seeds.\n"
   ]
  },
  {
   "cell_type": "markdown",
   "metadata": {},
   "source": [
    "**Question:**\n",
    "\n",
    "What is the probability of this customer to be a chia seeds buyer?\n",
    "\n",
    "Pick **ONE** option:\n",
    "- 99%\n",
    "- 90%\n",
    "- 80%\n",
    "- 70%\n",
    "- 50%\n",
    "- 40%\n",
    "- 30%\n",
    "- 20%\n",
    "- 10%\n",
    "- 1%\n",
    "\n",
    "\n"
   ]
  },
  {
   "cell_type": "markdown",
   "metadata": {},
   "source": [
    "# 9. \n",
    "\n",
    "## Section 5: Preprocessing Step\n",
    "\n",
    "Imagine you have to develop a regression model.\n",
    "After gathering all the data you need on one table, and after you build your features, you ended up with a table having 7000 observations and 8000 features.\n",
    "\n",
    "What is your next step?\n",
    "Can you provide 3 different techniques to do it?\n",
    "Can you also explain the main differences between them?\n",
    "\n",
    "Please provide your answer in the following editor.\n",
    "\n"
   ]
  },
  {
   "cell_type": "markdown",
   "metadata": {},
   "source": [
    "# Ask here"
   ]
  },
  {
   "cell_type": "markdown",
   "metadata": {},
   "source": []
  }
 ],
 "metadata": {
  "interpreter": {
   "hash": "916dbcbb3f70747c44a77c7bcd40155683ae19c65e1c03b4aa3499c5328201f1"
  },
  "kernelspec": {
   "display_name": "Python 3.8.10 64-bit",
   "language": "python",
   "name": "python3"
  },
  "language_info": {
   "codemirror_mode": {
    "name": "ipython",
    "version": 3
   },
   "file_extension": ".py",
   "mimetype": "text/x-python",
   "name": "python",
   "nbconvert_exporter": "python",
   "pygments_lexer": "ipython3",
   "version": "3.8.10"
  },
  "orig_nbformat": 4
 },
 "nbformat": 4,
 "nbformat_minor": 2
}
