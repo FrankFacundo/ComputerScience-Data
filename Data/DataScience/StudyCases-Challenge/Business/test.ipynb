{
 "cells": [
  {
   "cell_type": "markdown",
   "metadata": {},
   "source": [
    "# 1. Problem 1: Evolution of Sales Volume\n",
    "\n",
    "### <ins>General notes for the exam: </ins>\n",
    "\n",
    "You can access all the data via your usual import package (e.g PANDAS in python):\n",
    "\n",
    "In Python:\n",
    "```\n",
    "import pandas as pd\n",
    "df_product = pd.read_csv('product_data.csv')\n",
    "```\n",
    "\n",
    "In R:\n",
    "```\n",
    "df_product <- read.csv('product_data.csv')\n",
    "```\n",
    "\n",
    "All needed packages are available in the test:\n",
    "Non exhaustive list: pandas, numpy, sklearn, scipy, ...\n",
    "\n",
    "Do not hesitate to <ins>***COMMENT***<ins> on your code and explain your ideas.\n",
    "\n",
    "Try and answer all questions fully. If running out of time, please note that questions 6, 8 and 9 deliver the most points in the scoring system.\n",
    "\n",
    "Throughout this entire exam, your goal will be to help a grocery company to better use its marketing campaigns. \n",
    "\n",
    "### <ins>How to debug your code: </ins>\n",
    "\n",
    "To see the result of any print statements, you should:\n",
    "1. Choose the tab \"Custom input\" next to the \"Test Results\" tab.\n",
    "2. Fill in the text box that appears with: 'BCG'. You do not have to put your code in this box.\n"
   ]
  },
  {
   "cell_type": "markdown",
   "metadata": {},
   "source": [
    "### <ins>Description of the data provided on Section 1: </ins>\n",
    "\n",
    "You are provided two datasets containing data about:\n",
    "1. customer_data: containing data about customers\n",
    "2. orders_data: containing data about orders\n",
    "\n",
    "You can access them with the following snippet:\n",
    "```\n",
    "customers_df = pd.read_csv('customer_data.csv')\n",
    "orders_df = pd.read_csv('order_data.csv')\n",
    "```\n",
    "\n",
    "The table `customer_data` containing the following columns:\n",
    "- `customer_id`: id of the customer\n",
    "- `birth_date`: birth date of the customer \n",
    "- `acquisition_channel`: marketing channel through which the customer was acquired.\n",
    "\n",
    "The table `orders_data` containing the following columns:\n",
    "- `order_id`: id of the order\n",
    "- `transacion_date`: date of the transaction\n",
    "- `product`: ordered product\n",
    "- `price`: price of the bought product in $\n",
    "- `quantity`: quantity ordered of the product\n",
    "- `customer_id`: customer issuing the order\n",
    "\n",
    "Before getting modeling, we would like to do some preliminary analysis to understand better the data we have.\n"
   ]
  },
  {
   "cell_type": "code",
   "execution_count": 15,
   "metadata": {},
   "outputs": [],
   "source": [
    "import pandas as pd\n",
    "customers_df = pd.read_csv('customer_data.csv')\n",
    "orders_df = pd.read_csv('order_data.csv')"
   ]
  },
  {
   "cell_type": "code",
   "execution_count": 16,
   "metadata": {},
   "outputs": [
    {
     "data": {
      "text/html": [
       "<div>\n",
       "<style scoped>\n",
       "    .dataframe tbody tr th:only-of-type {\n",
       "        vertical-align: middle;\n",
       "    }\n",
       "\n",
       "    .dataframe tbody tr th {\n",
       "        vertical-align: top;\n",
       "    }\n",
       "\n",
       "    .dataframe thead th {\n",
       "        text-align: right;\n",
       "    }\n",
       "</style>\n",
       "<table border=\"1\" class=\"dataframe\">\n",
       "  <thead>\n",
       "    <tr style=\"text-align: right;\">\n",
       "      <th></th>\n",
       "      <th>customer_id</th>\n",
       "      <th>birth_date</th>\n",
       "      <th>acquisition_channel</th>\n",
       "    </tr>\n",
       "  </thead>\n",
       "  <tbody>\n",
       "    <tr>\n",
       "      <th>0</th>\n",
       "      <td>37aa39916cf343a9a6b6f6fd579bb81a</td>\n",
       "      <td>1962/8/29-5:20:15</td>\n",
       "      <td>Radio</td>\n",
       "    </tr>\n",
       "    <tr>\n",
       "      <th>1</th>\n",
       "      <td>08c5594fc2e54296851a4bc128f21262</td>\n",
       "      <td>1978/6/21-11:44:54</td>\n",
       "      <td>Radio</td>\n",
       "    </tr>\n",
       "    <tr>\n",
       "      <th>2</th>\n",
       "      <td>7f887c4d4e1d4a9d97faead5b672c952</td>\n",
       "      <td>1949/9/28-19:50:27</td>\n",
       "      <td>Web</td>\n",
       "    </tr>\n",
       "    <tr>\n",
       "      <th>3</th>\n",
       "      <td>ce0451deded04360be2dbdd2743a5da4</td>\n",
       "      <td>1984/6/14-21:33:22</td>\n",
       "      <td>Web</td>\n",
       "    </tr>\n",
       "    <tr>\n",
       "      <th>4</th>\n",
       "      <td>69c896debc254d16a7ef8f6025703116</td>\n",
       "      <td>1975/8/18-18:35:38</td>\n",
       "      <td>Radio</td>\n",
       "    </tr>\n",
       "  </tbody>\n",
       "</table>\n",
       "</div>"
      ],
      "text/plain": [
       "                        customer_id          birth_date acquisition_channel\n",
       "0  37aa39916cf343a9a6b6f6fd579bb81a   1962/8/29-5:20:15               Radio\n",
       "1  08c5594fc2e54296851a4bc128f21262  1978/6/21-11:44:54               Radio\n",
       "2  7f887c4d4e1d4a9d97faead5b672c952  1949/9/28-19:50:27                 Web\n",
       "3  ce0451deded04360be2dbdd2743a5da4  1984/6/14-21:33:22                 Web\n",
       "4  69c896debc254d16a7ef8f6025703116  1975/8/18-18:35:38               Radio"
      ]
     },
     "execution_count": 16,
     "metadata": {},
     "output_type": "execute_result"
    }
   ],
   "source": [
    "customers_df.head()"
   ]
  },
  {
   "cell_type": "code",
   "execution_count": 17,
   "metadata": {},
   "outputs": [
    {
     "data": {
      "text/html": [
       "<div>\n",
       "<style scoped>\n",
       "    .dataframe tbody tr th:only-of-type {\n",
       "        vertical-align: middle;\n",
       "    }\n",
       "\n",
       "    .dataframe tbody tr th {\n",
       "        vertical-align: top;\n",
       "    }\n",
       "\n",
       "    .dataframe thead th {\n",
       "        text-align: right;\n",
       "    }\n",
       "</style>\n",
       "<table border=\"1\" class=\"dataframe\">\n",
       "  <thead>\n",
       "    <tr style=\"text-align: right;\">\n",
       "      <th></th>\n",
       "      <th>transacion_date</th>\n",
       "      <th>product</th>\n",
       "      <th>price</th>\n",
       "      <th>quantity</th>\n",
       "      <th>orders_id</th>\n",
       "      <th>customer_id</th>\n",
       "    </tr>\n",
       "  </thead>\n",
       "  <tbody>\n",
       "    <tr>\n",
       "      <th>0</th>\n",
       "      <td>12/1/2010 8:26</td>\n",
       "      <td>WHITE HANGING HEART T-LIGHT HOLDER</td>\n",
       "      <td>2.55</td>\n",
       "      <td>6</td>\n",
       "      <td>e124c9620e294443bce178d2c03c4084</td>\n",
       "      <td>59cfeb2fde1744368241e854c0a3c58f</td>\n",
       "    </tr>\n",
       "    <tr>\n",
       "      <th>1</th>\n",
       "      <td>12/1/2010 8:26</td>\n",
       "      <td>WHITE METAL LANTERN</td>\n",
       "      <td>3.39</td>\n",
       "      <td>6</td>\n",
       "      <td>e4b902ef1d1c4ae8a41381c76a21d0de</td>\n",
       "      <td>59cfeb2fde1744368241e854c0a3c58f</td>\n",
       "    </tr>\n",
       "    <tr>\n",
       "      <th>2</th>\n",
       "      <td>12/1/2010 8:26</td>\n",
       "      <td>CREAM CUPID HEARTS COAT HANGER</td>\n",
       "      <td>2.75</td>\n",
       "      <td>8</td>\n",
       "      <td>31ab5fdbda134923a1a0af646deeaa08</td>\n",
       "      <td>9bb89c81eeda4bf09cf1b19beec0ca79</td>\n",
       "    </tr>\n",
       "    <tr>\n",
       "      <th>3</th>\n",
       "      <td>12/1/2010 8:26</td>\n",
       "      <td>KNITTED UNION FLAG HOT WATER BOTTLE</td>\n",
       "      <td>3.39</td>\n",
       "      <td>6</td>\n",
       "      <td>f3e939fe33d5456c9c0a576f03a6e7f0</td>\n",
       "      <td>e12b462f44554d6f99bb9a7f992a52a8</td>\n",
       "    </tr>\n",
       "    <tr>\n",
       "      <th>4</th>\n",
       "      <td>12/1/2010 8:26</td>\n",
       "      <td>RED WOOLLY HOTTIE WHITE HEART.</td>\n",
       "      <td>3.39</td>\n",
       "      <td>6</td>\n",
       "      <td>72cab5a361c04ffcb8384496aa688bb1</td>\n",
       "      <td>c7c4ea5deead4a2fad828adb13de5c4c</td>\n",
       "    </tr>\n",
       "  </tbody>\n",
       "</table>\n",
       "</div>"
      ],
      "text/plain": [
       "  transacion_date                              product  price  quantity  \\\n",
       "0  12/1/2010 8:26   WHITE HANGING HEART T-LIGHT HOLDER   2.55         6   \n",
       "1  12/1/2010 8:26                  WHITE METAL LANTERN   3.39         6   \n",
       "2  12/1/2010 8:26       CREAM CUPID HEARTS COAT HANGER   2.75         8   \n",
       "3  12/1/2010 8:26  KNITTED UNION FLAG HOT WATER BOTTLE   3.39         6   \n",
       "4  12/1/2010 8:26       RED WOOLLY HOTTIE WHITE HEART.   3.39         6   \n",
       "\n",
       "                          orders_id                       customer_id  \n",
       "0  e124c9620e294443bce178d2c03c4084  59cfeb2fde1744368241e854c0a3c58f  \n",
       "1  e4b902ef1d1c4ae8a41381c76a21d0de  59cfeb2fde1744368241e854c0a3c58f  \n",
       "2  31ab5fdbda134923a1a0af646deeaa08  9bb89c81eeda4bf09cf1b19beec0ca79  \n",
       "3  f3e939fe33d5456c9c0a576f03a6e7f0  e12b462f44554d6f99bb9a7f992a52a8  \n",
       "4  72cab5a361c04ffcb8384496aa688bb1  c7c4ea5deead4a2fad828adb13de5c4c  "
      ]
     },
     "execution_count": 17,
     "metadata": {},
     "output_type": "execute_result"
    }
   ],
   "source": [
    "orders_df.head()"
   ]
  },
  {
   "cell_type": "markdown",
   "metadata": {},
   "source": [
    "### <ins>Problem 1:</ins>\n",
    "\n",
    "What is the relative difference between the total sales on 2018 and 2017 ?\n",
    "The relative difference is defined as: (sales_2018/sales_2017 - 1)\n",
    "Sales are calculated as an ammount in $"
   ]
  },
  {
   "cell_type": "code",
   "execution_count": 30,
   "metadata": {},
   "outputs": [
    {
     "data": {
      "text/html": [
       "<div>\n",
       "<style scoped>\n",
       "    .dataframe tbody tr th:only-of-type {\n",
       "        vertical-align: middle;\n",
       "    }\n",
       "\n",
       "    .dataframe tbody tr th {\n",
       "        vertical-align: top;\n",
       "    }\n",
       "\n",
       "    .dataframe thead th {\n",
       "        text-align: right;\n",
       "    }\n",
       "</style>\n",
       "<table border=\"1\" class=\"dataframe\">\n",
       "  <thead>\n",
       "    <tr style=\"text-align: right;\">\n",
       "      <th></th>\n",
       "      <th>transacion_date</th>\n",
       "      <th>product</th>\n",
       "      <th>price</th>\n",
       "      <th>quantity</th>\n",
       "      <th>orders_id</th>\n",
       "      <th>customer_id</th>\n",
       "      <th>birth_date</th>\n",
       "      <th>acquisition_channel</th>\n",
       "      <th>amount</th>\n",
       "      <th>year</th>\n",
       "    </tr>\n",
       "  </thead>\n",
       "  <tbody>\n",
       "    <tr>\n",
       "      <th>0</th>\n",
       "      <td>2010-01-12 08:26:00</td>\n",
       "      <td>WHITE HANGING HEART T-LIGHT HOLDER</td>\n",
       "      <td>2.55</td>\n",
       "      <td>6</td>\n",
       "      <td>e124c9620e294443bce178d2c03c4084</td>\n",
       "      <td>59cfeb2fde1744368241e854c0a3c58f</td>\n",
       "      <td>NaN</td>\n",
       "      <td>NaN</td>\n",
       "      <td>15.30</td>\n",
       "      <td>2010</td>\n",
       "    </tr>\n",
       "    <tr>\n",
       "      <th>1</th>\n",
       "      <td>2010-01-12 08:26:00</td>\n",
       "      <td>WHITE METAL LANTERN</td>\n",
       "      <td>3.39</td>\n",
       "      <td>6</td>\n",
       "      <td>e4b902ef1d1c4ae8a41381c76a21d0de</td>\n",
       "      <td>59cfeb2fde1744368241e854c0a3c58f</td>\n",
       "      <td>NaN</td>\n",
       "      <td>NaN</td>\n",
       "      <td>20.34</td>\n",
       "      <td>2010</td>\n",
       "    </tr>\n",
       "    <tr>\n",
       "      <th>2</th>\n",
       "      <td>2010-01-12 08:26:00</td>\n",
       "      <td>CREAM CUPID HEARTS COAT HANGER</td>\n",
       "      <td>2.75</td>\n",
       "      <td>8</td>\n",
       "      <td>31ab5fdbda134923a1a0af646deeaa08</td>\n",
       "      <td>9bb89c81eeda4bf09cf1b19beec0ca79</td>\n",
       "      <td>NaN</td>\n",
       "      <td>NaN</td>\n",
       "      <td>22.00</td>\n",
       "      <td>2010</td>\n",
       "    </tr>\n",
       "    <tr>\n",
       "      <th>3</th>\n",
       "      <td>2010-01-12 08:26:00</td>\n",
       "      <td>KNITTED UNION FLAG HOT WATER BOTTLE</td>\n",
       "      <td>3.39</td>\n",
       "      <td>6</td>\n",
       "      <td>f3e939fe33d5456c9c0a576f03a6e7f0</td>\n",
       "      <td>e12b462f44554d6f99bb9a7f992a52a8</td>\n",
       "      <td>NaN</td>\n",
       "      <td>NaN</td>\n",
       "      <td>20.34</td>\n",
       "      <td>2010</td>\n",
       "    </tr>\n",
       "    <tr>\n",
       "      <th>4</th>\n",
       "      <td>2010-01-12 08:26:00</td>\n",
       "      <td>RED WOOLLY HOTTIE WHITE HEART.</td>\n",
       "      <td>3.39</td>\n",
       "      <td>6</td>\n",
       "      <td>72cab5a361c04ffcb8384496aa688bb1</td>\n",
       "      <td>c7c4ea5deead4a2fad828adb13de5c4c</td>\n",
       "      <td>NaN</td>\n",
       "      <td>NaN</td>\n",
       "      <td>20.34</td>\n",
       "      <td>2010</td>\n",
       "    </tr>\n",
       "  </tbody>\n",
       "</table>\n",
       "</div>"
      ],
      "text/plain": [
       "      transacion_date                              product  price  quantity  \\\n",
       "0 2010-01-12 08:26:00   WHITE HANGING HEART T-LIGHT HOLDER   2.55         6   \n",
       "1 2010-01-12 08:26:00                  WHITE METAL LANTERN   3.39         6   \n",
       "2 2010-01-12 08:26:00       CREAM CUPID HEARTS COAT HANGER   2.75         8   \n",
       "3 2010-01-12 08:26:00  KNITTED UNION FLAG HOT WATER BOTTLE   3.39         6   \n",
       "4 2010-01-12 08:26:00       RED WOOLLY HOTTIE WHITE HEART.   3.39         6   \n",
       "\n",
       "                          orders_id                       customer_id  \\\n",
       "0  e124c9620e294443bce178d2c03c4084  59cfeb2fde1744368241e854c0a3c58f   \n",
       "1  e4b902ef1d1c4ae8a41381c76a21d0de  59cfeb2fde1744368241e854c0a3c58f   \n",
       "2  31ab5fdbda134923a1a0af646deeaa08  9bb89c81eeda4bf09cf1b19beec0ca79   \n",
       "3  f3e939fe33d5456c9c0a576f03a6e7f0  e12b462f44554d6f99bb9a7f992a52a8   \n",
       "4  72cab5a361c04ffcb8384496aa688bb1  c7c4ea5deead4a2fad828adb13de5c4c   \n",
       "\n",
       "  birth_date acquisition_channel  amount  year  \n",
       "0        NaN                 NaN   15.30  2010  \n",
       "1        NaN                 NaN   20.34  2010  \n",
       "2        NaN                 NaN   22.00  2010  \n",
       "3        NaN                 NaN   20.34  2010  \n",
       "4        NaN                 NaN   20.34  2010  "
      ]
     },
     "execution_count": 30,
     "metadata": {},
     "output_type": "execute_result"
    }
   ],
   "source": [
    "big_table = pd.merge(orders_df, customers_df, how=\"left\", on=\"customer_id\")\n",
    "big_table['amount'] = big_table['price']*big_table['quantity']\n",
    "big_table['transacion_date'] = pd.to_datetime(big_table['transacion_date'], format='%d/%m/%Y %H:%M')\n",
    "big_table['year'] = big_table['transacion_date'].dt.year\n",
    "big_table.head()\n",
    "# big_table.groupby('year')['amount'].sum()"
   ]
  },
  {
   "cell_type": "markdown",
   "metadata": {},
   "source": [
    "# 2. Problem 2: Population type per acquisition channel\n",
    "\n",
    "### <ins>Problem 2:</ins>\n",
    "\n",
    "What is the median age per acquisition channel?\n",
    "Please return a pandas dataframe containing the following columns:\n",
    "- acquisition_channel: contains the channel name (radio, tv, ...)\n",
    "- median_age: median age of the given channel\n",
    "\n",
    "N.B: The median should be calculated on an integer 'age': convert the age to an integer before calculating the median.\n"
   ]
  },
  {
   "cell_type": "code",
   "execution_count": null,
   "metadata": {},
   "outputs": [],
   "source": [
    "### Code"
   ]
  },
  {
   "cell_type": "markdown",
   "metadata": {},
   "source": [
    "# 3. Problem 3: Popular product within millennials\n",
    "\n",
    "### <ins>Problem 3:</ins>\n",
    "\n",
    "What is the most popular product (in terms of number of sold units) among the millennials (born between 1981 and 1996 incl.) ?"
   ]
  },
  {
   "cell_type": "code",
   "execution_count": null,
   "metadata": {},
   "outputs": [],
   "source": [
    "### Code"
   ]
  },
  {
   "cell_type": "markdown",
   "metadata": {},
   "source": [
    "# 4. Linear regression (1/2)\n",
    "\n",
    "## Section 2: Linear Regression \n",
    "\n",
    "We would like to understand which marketing channel is the most effective.\n",
    "For that, the marketing department of our client provided us with a dataset containing weekly spends on each channel and the revenue generated that week during the 3 last years.\n",
    "\n",
    "The data in on a tabular format with the following columns:\n",
    "- week: a week identifier\n",
    "- spends_tv: spendings on tv marketing campaign that week\n",
    "- spends_radio: spendings on ads on the radio\n",
    "- spends_web: spendings on web ads\n",
    "- spends_billboard: spendings on phisical ads on billboards\n",
    "- revenue: revenue generated during this week\n",
    "\n",
    "Your colleague had the idea of treating this problem as regression problem where he tries to estimate the revenue as linear function of spendings.\n",
    "He has performed a linear regression and obtained the following results: \n",
    "\n",
    "\n",
    "\n",
    "OLS Results\n",
    "================================================================\n",
    "\n",
    "| Variable    | Value       |\n",
    "| ----------- | ----------- |\n",
    "| Dep. Variable      | revenue       |\n",
    "| Model   | OLS        |\n",
    "| Method   | Least Squares        |\n",
    "| Date   | Mon, 14 May 2018        |\n",
    "| Time   | 21:48:12        |\n",
    "| No. Observations   | 156        |\n",
    "| Df Model   | 3        |\n",
    "| Covariance type   | nonrobust        |\n",
    "| R-squared   | 0.816        |\n",
    "| Adj. R-squared   | 0.712        |\n",
    "| F-statistic   | 6.646        |\n",
    "| Prob(F-statistic)   | 0.00157        |\n",
    "| Log-Likelihood   | -12.974        |\n",
    "\n",
    "\n",
    "================================================================\n",
    "\n",
    "\n",
    "| |coef| str err | t | P>\\|t\\| |\n",
    "|--- | ---| --- | --- | --- |\n",
    "|spends_tv | 10454.7| 197.2 | 53.02 | <0.00001 |\n",
    "|spends_radio | 5984.2| 959.3 | 6.238 | 0.0041543 |\n",
    "|spends_web | 8324.1| 134.5 | 61.89_ | <0.00001 |\n",
    "|spends_billboard | 6278.5| 434.1 | 14.46 | <0.000359 |\n",
    "|const | 30332.2| 202.1 | 150.1 | <0.00001 |\n",
    "\n",
    "================================================================\n",
    "\n",
    "\n",
    "| Variable    | Value       |\n",
    "| ----------- | ----------- |\n",
    "| Omnibus      | 0.176       |\n",
    "| Prob(Omnibus)   | 0.916        |\n",
    "| Skew   | 0.141        |\n",
    "| Kurtosis   | 2.786        |\n",
    "| Durbin-Watson   | 2.346        |\n",
    "| Jarque-Bera (JB)   | 0.167        |\n",
    "| Prob(JB)   | 0.920        |\n",
    "| Cond. No.   | 176.        |\n",
    "\n",
    "\n",
    "================================================================\n",
    "\n",
    "Warnings:\n",
    "[1] Standard errors assume that the convariance matrix of the errors is correctly specified.\n"
   ]
  },
  {
   "cell_type": "markdown",
   "metadata": {},
   "source": [
    "### <ins>Problem 4:</ins>\n",
    "<ins>Question 1:</ins>\n",
    "\n",
    "With certainty, can you provide the MOST effective marketing channel?\n"
   ]
  },
  {
   "cell_type": "markdown",
   "metadata": {},
   "source": [
    "# ASK HERE"
   ]
  },
  {
   "cell_type": "markdown",
   "metadata": {},
   "source": [
    "### <ins>Problem 5:</ins>\n",
    "<ins>Question 2:</ins>\n",
    "\n",
    "With certainty, can you provide the LEAST effective marketing channel?\n",
    "Pick **ONE** option\n",
    "- TV\n",
    "- Radio \n",
    "- Web\n",
    "- Billboard\n",
    "- Can't say \n"
   ]
  },
  {
   "cell_type": "markdown",
   "metadata": {},
   "source": [
    "# ASK HERE"
   ]
  },
  {
   "cell_type": "markdown",
   "metadata": {},
   "source": [
    "# 6. Regression model to predict revenues\n",
    "\n",
    "## Section 2: Build a regression model\n",
    "\n",
    "The marketing department with which we are working want to send personalised promotions to targeted customers. They need help from us to get the highest value customers: customers who will generate the most revenues.\n",
    "\n",
    "For this, you are asked to create a **regression model** that predicts the demand for a given customer and year. The **target value** is **revenue** which is equal to the **price \\* quantity** <ins>**agregated at year level**<ins>\n",
    "\n",
    "Important Note in this section:\n",
    "\n",
    "Do not hesitate to write comments and to modularize your code.\n",
    "You will be evaluated both on the result and the quality of your code.\n",
    "If you get stuck in a question, do not hesitate to move on the next question.\n",
    "Points are assigned independently for each question.\n",
    "\n"
   ]
  },
  {
   "cell_type": "markdown",
   "metadata": {},
   "source": [
    "**Question 1:**\n",
    "\n",
    "Using the two tables from Question 1 (orders_data and customer_data), create an aggregated table of revenus by year and customer_id.\n",
    "\n"
   ]
  },
  {
   "cell_type": "code",
   "execution_count": null,
   "metadata": {},
   "outputs": [],
   "source": [
    "# Code"
   ]
  },
  {
   "cell_type": "markdown",
   "metadata": {},
   "source": [
    "**Question 2:**\n",
    "Create the following features on the aggregated table from question 1:\n",
    "- age: customer age\n",
    "- prev_year_revenue: revenue generated by the customer on the previous year\n",
    "- prev_year_nb_products: number of distinct products bought by the customer on the previous year\n"
   ]
  },
  {
   "cell_type": "code",
   "execution_count": null,
   "metadata": {},
   "outputs": [],
   "source": [
    "# Code"
   ]
  },
  {
   "cell_type": "markdown",
   "metadata": {},
   "source": [
    "**Question 3:**\n",
    "Can you add some other features that may help the model?\n",
    "We expect you to add at least 2 features.\n"
   ]
  },
  {
   "cell_type": "code",
   "execution_count": null,
   "metadata": {},
   "outputs": [],
   "source": [
    "# Code"
   ]
  },
  {
   "cell_type": "markdown",
   "metadata": {},
   "source": [
    "**Question 4:**\n",
    "We will split the data on a training and test sets. The test set should correspond to orders in the year 2018, and the other years are training set. \n",
    "Train your regression model on the training set and then use it to predict the outcome on the test set.\n",
    "Calculate the RMSE (Root Mean Square Error) on the test set and return it."
   ]
  },
  {
   "cell_type": "code",
   "execution_count": null,
   "metadata": {},
   "outputs": [],
   "source": [
    "### Code"
   ]
  },
  {
   "cell_type": "markdown",
   "metadata": {},
   "source": [
    "# 7. Data Assessment\n",
    "\n",
    "## Section 3: Build a regression model\n",
    "\n"
   ]
  },
  {
   "cell_type": "markdown",
   "metadata": {},
   "source": [
    "**Question:**\n",
    "\n",
    "On the provided data, we only have the quantity of sold products. What other important data is missing to estimate the real demand? \n"
   ]
  },
  {
   "cell_type": "markdown",
   "metadata": {},
   "source": [
    "# Ask here"
   ]
  },
  {
   "cell_type": "markdown",
   "metadata": {},
   "source": [
    "# 8. \n",
    "\n",
    "## Section 4: Model interpretation\n",
    "\n",
    "We would like now to focus on a particular and rare product: 'Chia seeds'.\n",
    "\n",
    "This product represent 2% of the sales volume (in terms of quantity),\n",
    "\n",
    "Your colleague has build a classification model to predict if a given customer will buy this product.\n",
    "The output of the algorithm is binary:\n",
    "- 1 when the model predicts that the customer will buy 'Chia seeds'\n",
    "- 0 when the model predicts that the customer will **NOT** buy 'Chia seeds'\n",
    "\n",
    "The model your colleague made has a good accuracy:\n",
    "- For Chia seeds buyers, the model is correct 98% of the time.\n",
    "- For **NON** Chia seeds buyers, the model is correct 98% of the time.\n",
    "\n",
    "You have run the model on a customer from your database, and the model predicted a positive answer meaning that he will buy chia seeds.\n"
   ]
  },
  {
   "cell_type": "markdown",
   "metadata": {},
   "source": [
    "**Question:**\n",
    "\n",
    "What is the probability of this customer to be a chia seeds buyer?\n",
    "\n",
    "Pick **ONE** option:\n",
    "- 99%\n",
    "- 90%\n",
    "- 80%\n",
    "- 70%\n",
    "- 50%\n",
    "- 40%\n",
    "- 30%\n",
    "- 20%\n",
    "- 10%\n",
    "- 1%\n",
    "\n",
    "\n"
   ]
  },
  {
   "cell_type": "markdown",
   "metadata": {},
   "source": [
    "# 9. \n",
    "\n",
    "## Section 5: Preprocessing Step\n",
    "\n",
    "Imagine you have to develop a regression model.\n",
    "After gathering all the data you need on one table, and after you build your features, you ended up with a table having 7000 observations and 8000 features.\n",
    "\n",
    "What is your next step?\n",
    "Can you provide 3 different techniques to do it?\n",
    "Can you also explain the main differences between them?\n",
    "\n",
    "Please provide your answer in the following editor.\n",
    "\n"
   ]
  },
  {
   "cell_type": "markdown",
   "metadata": {},
   "source": [
    "# Ask here"
   ]
  },
  {
   "cell_type": "markdown",
   "metadata": {},
   "source": []
  }
 ],
 "metadata": {
  "interpreter": {
   "hash": "f587980aed85386828983447eebead6955e950331a8a89d818b794d6ecd4d907"
  },
  "kernelspec": {
   "display_name": "Python 3.7.13 ('BCG')",
   "language": "python",
   "name": "python3"
  },
  "language_info": {
   "codemirror_mode": {
    "name": "ipython",
    "version": 3
   },
   "file_extension": ".py",
   "mimetype": "text/x-python",
   "name": "python",
   "nbconvert_exporter": "python",
   "pygments_lexer": "ipython3",
   "version": "3.7.13"
  },
  "orig_nbformat": 4,
  "vscode": {
   "interpreter": {
    "hash": "258d3ea1c48575149cc29bf4b616816ab3e7db99df48e2518525ca0989ddf230"
   }
  }
 },
 "nbformat": 4,
 "nbformat_minor": 2
}
