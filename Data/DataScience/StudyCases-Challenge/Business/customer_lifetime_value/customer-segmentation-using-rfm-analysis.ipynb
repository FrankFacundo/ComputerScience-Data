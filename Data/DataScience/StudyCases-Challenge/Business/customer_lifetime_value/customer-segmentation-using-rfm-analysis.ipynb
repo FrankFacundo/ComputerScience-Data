{
 "cells": [
  {
   "cell_type": "markdown",
   "id": "2a12ed54",
   "metadata": {
    "papermill": {
     "duration": 0.037851,
     "end_time": "2022-01-04T19:16:56.633039",
     "exception": false,
     "start_time": "2022-01-04T19:16:56.595188",
     "status": "completed"
    },
    "tags": []
   },
   "source": [
    "***Dataset Story***\n",
    "\n",
    "* The data set named Online Retail - II includes the sales of an online store between 01/12/2009 - 09/12/2011.\n",
    "\n",
    "* The product catalog of this company includes souvenirs.\n",
    "\n",
    "* The majority of the company's customers are corporate customers.\n",
    "\n",
    "Building of CRM strategies that overlap with customers’ expectations and needs and also adopt the insight of right customer, right product, right time, right offer is one of the most important approach to deepen customer relationships.\n",
    "\n",
    "For this purpose, you want to build customer-oriented strategies. You aim to contact your customers with different campaigns, fictions and attractive messages. So which customer will you contact with which strategy? In summary, do you know the answers to the following questions?\n",
    "\n",
    "* How recent was a customer's latest purchase? (Recency)\n",
    "\n",
    "* How often a customer makes a purchase? (Frequency)\n",
    "\n",
    "* How much money a customer spends on? (Monetary)\n",
    "\n",
    "At this point, the most effective way of identifying your customers is to combine CRM with Analytics. ​“RFM Analysis” is an indispensable application of CRM Analytics which answers these questions and ensure to get deeply insights about customer habits.\n",
    "\n",
    "In this study, below topics have been handled:\n",
    "\n",
    "Calculating R, F, M values ,\n",
    "Divide into groups according to RFM Scores\n",
    "Personalize of marketing strategies for relevant segments."
   ]
  },
  {
   "cell_type": "markdown",
   "id": "bb808aac",
   "metadata": {
    "papermill": {
     "duration": 0.041442,
     "end_time": "2022-01-04T19:16:56.712851",
     "exception": false,
     "start_time": "2022-01-04T19:16:56.671409",
     "status": "completed"
    },
    "tags": []
   },
   "source": [
    "****Business Problem & Goal:****\n",
    " \n",
    "An e-commerce company thinks that doing marketing activities based on customer segments with common behaviors will increase income. For this reason, it is aimed to divide customers into segments and determine marketing strategies according to these segments."
   ]
  },
  {
   "cell_type": "markdown",
   "id": "63b33ef0",
   "metadata": {
    "papermill": {
     "duration": 0.037831,
     "end_time": "2022-01-04T19:16:56.789727",
     "exception": false,
     "start_time": "2022-01-04T19:16:56.751896",
     "status": "completed"
    },
    "tags": []
   },
   "source": [
    "***Variables Description:***\n",
    "\n",
    "* InvoiceNo : The number of the invoice, unique per each purchase. Refund invoice numbers contain \"C\"\n",
    "\n",
    "* StockCode : Unique code per each item\n",
    "\n",
    "* Description : Name of the item\n",
    "\n",
    "* Quantity : The number of items within the invoice\n",
    "\n",
    "* InvoiceDate : Date and time of the purchase\n",
    "\n",
    "* UnitPrice : Price of a single item, as of Sterlin\n",
    "\n",
    "* CustomerID : Unique id number per each customer\n",
    "\n",
    "* Country : The country where the customer is living\n"
   ]
  },
  {
   "cell_type": "code",
   "execution_count": 2,
   "id": "e75ac49f",
   "metadata": {
    "execution": {
     "iopub.execute_input": "2022-01-04T19:16:56.870627Z",
     "iopub.status.busy": "2022-01-04T19:16:56.869851Z",
     "iopub.status.idle": "2022-01-04T19:16:58.067729Z",
     "shell.execute_reply": "2022-01-04T19:16:58.067106Z",
     "shell.execute_reply.started": "2022-01-03T17:45:38.228928Z"
    },
    "papermill": {
     "duration": 1.239952,
     "end_time": "2022-01-04T19:16:58.067892",
     "exception": false,
     "start_time": "2022-01-04T19:16:56.827940",
     "status": "completed"
    },
    "tags": []
   },
   "outputs": [],
   "source": [
    "# Import Libraries:\n",
    "\n",
    "\n",
    "import pandas as pd\n",
    "import seaborn as sns\n",
    "import matplotlib.pyplot as plt\n",
    "import datetime as dt\n",
    "from datetime import timedelta\n",
    "\n",
    "# Setting Configurations:\n",
    "\n",
    "pd.set_option('display.max_columns', None)\n",
    "pd.set_option('display.float_format', lambda x: '%.3f' % x)\n",
    "\n",
    "# Import Warnings:\n",
    "\n",
    "import warnings\n",
    "warnings.filterwarnings(\"ignore\")\n",
    "warnings.simplefilter(action='ignore', category=FutureWarning)\n",
    "warnings.simplefilter(action='ignore', category=DeprecationWarning)\n",
    "\n",
    "\n",
    "# Import helpers Module\n",
    "\n",
    "from shutil import copyfile\n",
    "# copyfile(src = \"eda.py\", dst = \"../working/eda.py\")\n",
    "# copyfile(src = \"data_prep.py\", dst = \"../working/data_prep.py\")\n",
    "\n",
    "from data_prep import *\n",
    "from eda import *\n"
   ]
  },
  {
   "cell_type": "code",
   "execution_count": 3,
   "id": "249940b5",
   "metadata": {
    "execution": {
     "iopub.execute_input": "2022-01-04T19:16:58.153822Z",
     "iopub.status.busy": "2022-01-04T19:16:58.153028Z",
     "iopub.status.idle": "2022-01-04T19:16:59.371876Z",
     "shell.execute_reply": "2022-01-04T19:16:59.372433Z",
     "shell.execute_reply.started": "2022-01-03T17:45:39.340826Z"
    },
    "papermill": {
     "duration": 1.263483,
     "end_time": "2022-01-04T19:16:59.372616",
     "exception": false,
     "start_time": "2022-01-04T19:16:58.109133",
     "status": "completed"
    },
    "tags": []
   },
   "outputs": [
    {
     "data": {
      "text/html": [
       "<div>\n",
       "<style scoped>\n",
       "    .dataframe tbody tr th:only-of-type {\n",
       "        vertical-align: middle;\n",
       "    }\n",
       "\n",
       "    .dataframe tbody tr th {\n",
       "        vertical-align: top;\n",
       "    }\n",
       "\n",
       "    .dataframe thead th {\n",
       "        text-align: right;\n",
       "    }\n",
       "</style>\n",
       "<table border=\"1\" class=\"dataframe\">\n",
       "  <thead>\n",
       "    <tr style=\"text-align: right;\">\n",
       "      <th></th>\n",
       "      <th>Invoice</th>\n",
       "      <th>StockCode</th>\n",
       "      <th>Description</th>\n",
       "      <th>Quantity</th>\n",
       "      <th>InvoiceDate</th>\n",
       "      <th>Price</th>\n",
       "      <th>Customer ID</th>\n",
       "      <th>Country</th>\n",
       "    </tr>\n",
       "  </thead>\n",
       "  <tbody>\n",
       "    <tr>\n",
       "      <th>0</th>\n",
       "      <td>536365</td>\n",
       "      <td>85123A</td>\n",
       "      <td>WHITE HANGING HEART T-LIGHT HOLDER</td>\n",
       "      <td>6</td>\n",
       "      <td>2010-12-01 08:26:00</td>\n",
       "      <td>2.550</td>\n",
       "      <td>17850.000</td>\n",
       "      <td>United Kingdom</td>\n",
       "    </tr>\n",
       "    <tr>\n",
       "      <th>1</th>\n",
       "      <td>536365</td>\n",
       "      <td>71053</td>\n",
       "      <td>WHITE METAL LANTERN</td>\n",
       "      <td>6</td>\n",
       "      <td>2010-12-01 08:26:00</td>\n",
       "      <td>3.390</td>\n",
       "      <td>17850.000</td>\n",
       "      <td>United Kingdom</td>\n",
       "    </tr>\n",
       "    <tr>\n",
       "      <th>2</th>\n",
       "      <td>536365</td>\n",
       "      <td>84406B</td>\n",
       "      <td>CREAM CUPID HEARTS COAT HANGER</td>\n",
       "      <td>8</td>\n",
       "      <td>2010-12-01 08:26:00</td>\n",
       "      <td>2.750</td>\n",
       "      <td>17850.000</td>\n",
       "      <td>United Kingdom</td>\n",
       "    </tr>\n",
       "    <tr>\n",
       "      <th>3</th>\n",
       "      <td>536365</td>\n",
       "      <td>84029G</td>\n",
       "      <td>KNITTED UNION FLAG HOT WATER BOTTLE</td>\n",
       "      <td>6</td>\n",
       "      <td>2010-12-01 08:26:00</td>\n",
       "      <td>3.390</td>\n",
       "      <td>17850.000</td>\n",
       "      <td>United Kingdom</td>\n",
       "    </tr>\n",
       "    <tr>\n",
       "      <th>4</th>\n",
       "      <td>536365</td>\n",
       "      <td>84029E</td>\n",
       "      <td>RED WOOLLY HOTTIE WHITE HEART.</td>\n",
       "      <td>6</td>\n",
       "      <td>2010-12-01 08:26:00</td>\n",
       "      <td>3.390</td>\n",
       "      <td>17850.000</td>\n",
       "      <td>United Kingdom</td>\n",
       "    </tr>\n",
       "  </tbody>\n",
       "</table>\n",
       "</div>"
      ],
      "text/plain": [
       "  Invoice StockCode                          Description  Quantity  \\\n",
       "0  536365    85123A   WHITE HANGING HEART T-LIGHT HOLDER         6   \n",
       "1  536365     71053                  WHITE METAL LANTERN         6   \n",
       "2  536365    84406B       CREAM CUPID HEARTS COAT HANGER         8   \n",
       "3  536365    84029G  KNITTED UNION FLAG HOT WATER BOTTLE         6   \n",
       "4  536365    84029E       RED WOOLLY HOTTIE WHITE HEART.         6   \n",
       "\n",
       "          InvoiceDate  Price  Customer ID         Country  \n",
       "0 2010-12-01 08:26:00  2.550    17850.000  United Kingdom  \n",
       "1 2010-12-01 08:26:00  3.390    17850.000  United Kingdom  \n",
       "2 2010-12-01 08:26:00  2.750    17850.000  United Kingdom  \n",
       "3 2010-12-01 08:26:00  3.390    17850.000  United Kingdom  \n",
       "4 2010-12-01 08:26:00  3.390    17850.000  United Kingdom  "
      ]
     },
     "execution_count": 3,
     "metadata": {},
     "output_type": "execute_result"
    }
   ],
   "source": [
    "# Import Data:\n",
    "\n",
    "# Reading the online retail dataset\n",
    "df = pd.read_excel(\"online_retail_II.xlsx\",sheet_name=\"Year 2010-2011\")\n",
    "\n",
    "df.head()"
   ]
  },
  {
   "cell_type": "markdown",
   "id": "e52975e5",
   "metadata": {
    "papermill": {
     "duration": 0.038715,
     "end_time": "2022-01-04T19:16:59.452538",
     "exception": false,
     "start_time": "2022-01-04T19:16:59.413823",
     "status": "completed"
    },
    "tags": []
   },
   "source": [
    "***Exploratory Data Analysis***"
   ]
  },
  {
   "cell_type": "code",
   "execution_count": 4,
   "id": "66dc9f13",
   "metadata": {
    "execution": {
     "iopub.execute_input": "2022-01-04T19:16:59.545015Z",
     "iopub.status.busy": "2022-01-04T19:16:59.535259Z",
     "iopub.status.idle": "2022-01-04T19:16:59.877725Z",
     "shell.execute_reply": "2022-01-04T19:16:59.878462Z",
     "shell.execute_reply.started": "2022-01-03T17:47:23.514164Z"
    },
    "papermill": {
     "duration": 0.387244,
     "end_time": "2022-01-04T19:16:59.878709",
     "exception": false,
     "start_time": "2022-01-04T19:16:59.491465",
     "status": "completed"
    },
    "tags": []
   },
   "outputs": [
    {
     "name": "stdout",
     "output_type": "stream",
     "text": [
      "##################### Shape #####################\n",
      "(541910, 8)\n",
      "##################### Types #####################\n",
      "Invoice                object\n",
      "StockCode              object\n",
      "Description            object\n",
      "Quantity                int64\n",
      "InvoiceDate    datetime64[ns]\n",
      "Price                 float64\n",
      "Customer ID           float64\n",
      "Country                object\n",
      "dtype: object\n",
      "##################### Head #####################\n",
      "  Invoice StockCode                          Description  Quantity  \\\n",
      "0  536365    85123A   WHITE HANGING HEART T-LIGHT HOLDER         6   \n",
      "1  536365     71053                  WHITE METAL LANTERN         6   \n",
      "2  536365    84406B       CREAM CUPID HEARTS COAT HANGER         8   \n",
      "3  536365    84029G  KNITTED UNION FLAG HOT WATER BOTTLE         6   \n",
      "4  536365    84029E       RED WOOLLY HOTTIE WHITE HEART.         6   \n",
      "\n",
      "          InvoiceDate  Price  Customer ID         Country  \n",
      "0 2010-12-01 08:26:00  2.550    17850.000  United Kingdom  \n",
      "1 2010-12-01 08:26:00  3.390    17850.000  United Kingdom  \n",
      "2 2010-12-01 08:26:00  2.750    17850.000  United Kingdom  \n",
      "3 2010-12-01 08:26:00  3.390    17850.000  United Kingdom  \n",
      "4 2010-12-01 08:26:00  3.390    17850.000  United Kingdom  \n",
      "##################### Tail #####################\n",
      "       Invoice StockCode                      Description  Quantity  \\\n",
      "541905  581587     22899     CHILDREN'S APRON DOLLY GIRL          6   \n",
      "541906  581587     23254    CHILDRENS CUTLERY DOLLY GIRL          4   \n",
      "541907  581587     23255  CHILDRENS CUTLERY CIRCUS PARADE         4   \n",
      "541908  581587     22138    BAKING SET 9 PIECE RETROSPOT          3   \n",
      "541909  581587      POST                          POSTAGE         1   \n",
      "\n",
      "               InvoiceDate  Price  Customer ID Country  \n",
      "541905 2011-12-09 12:50:00  2.100    12680.000  France  \n",
      "541906 2011-12-09 12:50:00  4.150    12680.000  France  \n",
      "541907 2011-12-09 12:50:00  4.150    12680.000  France  \n",
      "541908 2011-12-09 12:50:00  4.950    12680.000  France  \n",
      "541909 2011-12-09 12:50:00 18.000    12680.000  France  \n",
      "##################### NA #####################\n",
      "Invoice             0\n",
      "StockCode           0\n",
      "Description      1454\n",
      "Quantity            0\n",
      "InvoiceDate         0\n",
      "Price               0\n",
      "Customer ID    135080\n",
      "Country             0\n",
      "dtype: int64\n",
      "##################### Quantiles #####################\n",
      "                 0.000     0.050     0.500     0.950     0.990     1.000\n",
      "Quantity    -80995.000     1.000     3.000    29.000   100.000 80995.000\n",
      "Price       -11062.060     0.420     2.080     9.950    18.000 38970.000\n",
      "Customer ID  12346.000 12626.000 15152.000 17905.000 18212.000 18287.000\n"
     ]
    }
   ],
   "source": [
    "check_df(df)"
   ]
  },
  {
   "cell_type": "code",
   "execution_count": 5,
   "id": "d8ce6ca8",
   "metadata": {
    "execution": {
     "iopub.execute_input": "2022-01-04T19:17:00.019325Z",
     "iopub.status.busy": "2022-01-04T19:17:00.018119Z",
     "iopub.status.idle": "2022-01-04T19:17:01.125475Z",
     "shell.execute_reply": "2022-01-04T19:17:01.124754Z",
     "shell.execute_reply.started": "2022-01-03T17:57:15.271923Z"
    },
    "papermill": {
     "duration": 1.207012,
     "end_time": "2022-01-04T19:17:01.125623",
     "exception": false,
     "start_time": "2022-01-04T19:16:59.918611",
     "status": "completed"
    },
    "tags": []
   },
   "outputs": [
    {
     "name": "stdout",
     "output_type": "stream",
     "text": [
      "Observations: 541910\n",
      "Variables: 8\n",
      "cat_cols: 0\n",
      "num_cols: 4\n",
      "cat_but_car: 4\n",
      "num_but_cat: 0\n"
     ]
    }
   ],
   "source": [
    "# Categorical / Numerical / Cardinal Features: \n",
    "\n",
    "cat_cols, num_cols, cat_but_car = grab_col_names(df)\n",
    "num_cols = [col for col in num_cols if (\"ID\" not in col) and (\"Date\" not in col) ]"
   ]
  },
  {
   "cell_type": "markdown",
   "id": "afa67e71",
   "metadata": {
    "papermill": {
     "duration": 0.039346,
     "end_time": "2022-01-04T19:17:01.204740",
     "exception": false,
     "start_time": "2022-01-04T19:17:01.165394",
     "status": "completed"
    },
    "tags": []
   },
   "source": [
    "The dataset includes 8 features in which there're 3 numerical columns and 5 categorical columns. But there is no column which has high cardinality"
   ]
  },
  {
   "cell_type": "code",
   "execution_count": 6,
   "id": "1ee52b21",
   "metadata": {
    "execution": {
     "iopub.execute_input": "2022-01-04T19:17:01.288759Z",
     "iopub.status.busy": "2022-01-04T19:17:01.288011Z",
     "iopub.status.idle": "2022-01-04T19:17:01.346626Z",
     "shell.execute_reply": "2022-01-04T19:17:01.347101Z",
     "shell.execute_reply.started": "2022-01-03T17:57:20.273277Z"
    },
    "papermill": {
     "duration": 0.102939,
     "end_time": "2022-01-04T19:17:01.347325",
     "exception": false,
     "start_time": "2022-01-04T19:17:01.244386",
     "status": "completed"
    },
    "tags": []
   },
   "outputs": [
    {
     "name": "stdout",
     "output_type": "stream",
     "text": [
      "count   541910.000\n",
      "mean         9.552\n",
      "std        218.081\n",
      "min     -80995.000\n",
      "5%           1.000\n",
      "10%          1.000\n",
      "20%          1.000\n",
      "30%          2.000\n",
      "40%          2.000\n",
      "50%          3.000\n",
      "60%          5.000\n",
      "70%          8.000\n",
      "80%         12.000\n",
      "90%         24.000\n",
      "95%         29.000\n",
      "99%        100.000\n",
      "max      80995.000\n",
      "Name: Quantity, dtype: float64\n",
      "count   541910.000\n",
      "mean         4.611\n",
      "std         96.760\n",
      "min     -11062.060\n",
      "5%           0.420\n",
      "10%          0.630\n",
      "20%          0.850\n",
      "30%          1.250\n",
      "40%          1.650\n",
      "50%          2.080\n",
      "60%          2.550\n",
      "70%          3.750\n",
      "80%          4.950\n",
      "90%          7.950\n",
      "95%          9.950\n",
      "99%         18.000\n",
      "max      38970.000\n",
      "Name: Price, dtype: float64\n"
     ]
    }
   ],
   "source": [
    "# Let's observe  numerical columns: \n",
    "\n",
    "for col in num_cols:\n",
    "    num_summary(df,col)"
   ]
  },
  {
   "cell_type": "code",
   "execution_count": 7,
   "id": "30b3b0c9",
   "metadata": {
    "execution": {
     "iopub.execute_input": "2022-01-04T19:17:01.487661Z",
     "iopub.status.busy": "2022-01-04T19:17:01.486881Z",
     "iopub.status.idle": "2022-01-04T19:17:01.850641Z",
     "shell.execute_reply": "2022-01-04T19:17:01.851399Z",
     "shell.execute_reply.started": "2022-01-03T17:57:21.116374Z"
    },
    "papermill": {
     "duration": 0.46322,
     "end_time": "2022-01-04T19:17:01.851635",
     "exception": false,
     "start_time": "2022-01-04T19:17:01.388415",
     "status": "completed"
    },
    "tags": []
   },
   "outputs": [
    {
     "name": "stdout",
     "output_type": "stream",
     "text": [
      "             n_miss  ratio\n",
      "Customer ID  135080 24.930\n",
      "Description    1454  0.270\n"
     ]
    }
   ],
   "source": [
    "# Missing Values:\n",
    "\n",
    "missing_values_table(df)"
   ]
  },
  {
   "cell_type": "code",
   "execution_count": 8,
   "id": "b6bba443",
   "metadata": {
    "execution": {
     "iopub.execute_input": "2022-01-04T19:17:01.938325Z",
     "iopub.status.busy": "2022-01-04T19:17:01.937493Z",
     "iopub.status.idle": "2022-01-04T19:17:02.465822Z",
     "shell.execute_reply": "2022-01-04T19:17:02.466463Z",
     "shell.execute_reply.started": "2022-01-03T17:57:23.185457Z"
    },
    "papermill": {
     "duration": 0.573339,
     "end_time": "2022-01-04T19:17:02.466655",
     "exception": false,
     "start_time": "2022-01-04T19:17:01.893316",
     "status": "completed"
    },
    "tags": []
   },
   "outputs": [
    {
     "name": "stdout",
     "output_type": "stream",
     "text": [
      "Empty DataFrame\n",
      "Columns: [n_miss, ratio]\n",
      "Index: []\n"
     ]
    }
   ],
   "source": [
    "# Drop NA values:\n",
    "\n",
    "df.dropna(inplace=True)\n",
    "missing_values_table(df)"
   ]
  },
  {
   "cell_type": "code",
   "execution_count": 9,
   "id": "56537318",
   "metadata": {
    "execution": {
     "iopub.execute_input": "2022-01-04T19:17:02.557724Z",
     "iopub.status.busy": "2022-01-04T19:17:02.557002Z",
     "iopub.status.idle": "2022-01-04T19:17:02.911234Z",
     "shell.execute_reply": "2022-01-04T19:17:02.910525Z",
     "shell.execute_reply.started": "2022-01-03T17:57:55.858648Z"
    },
    "papermill": {
     "duration": 0.403629,
     "end_time": "2022-01-04T19:17:02.911381",
     "exception": false,
     "start_time": "2022-01-04T19:17:02.507752",
     "status": "completed"
    },
    "tags": []
   },
   "outputs": [],
   "source": [
    "# Let's remove the returned product transactions (negative values -> Invoice Id contains value \"C\")\n",
    "\n",
    "df_Invoice = pd.DataFrame({\"Invoice\":[row for row in df[\"Invoice\"].values if \"C\"  not in str(row)]})\n",
    "df_Invoice.head()\n",
    "df_Invoice = df_Invoice.drop_duplicates(\"Invoice\")\n",
    "\n",
    "# The transactions except returned product transactions\n",
    "df = df.merge(df_Invoice, on = \"Invoice\")\n"
   ]
  },
  {
   "cell_type": "code",
   "execution_count": 10,
   "id": "3a0a9a6b",
   "metadata": {
    "execution": {
     "iopub.execute_input": "2022-01-04T19:17:03.001074Z",
     "iopub.status.busy": "2022-01-04T19:17:02.999297Z",
     "iopub.status.idle": "2022-01-04T19:17:03.099456Z",
     "shell.execute_reply": "2022-01-04T19:17:03.098853Z",
     "shell.execute_reply.started": "2022-01-03T17:57:57.844307Z"
    },
    "papermill": {
     "duration": 0.147362,
     "end_time": "2022-01-04T19:17:03.099604",
     "exception": false,
     "start_time": "2022-01-04T19:17:02.952242",
     "status": "completed"
    },
    "tags": []
   },
   "outputs": [],
   "source": [
    "# Delete values less than or equal to 0 in the variables Quantity and Price\n",
    "\n",
    "df = df[df[\"Quantity\"] > 0]\n",
    "df = df[df[\"Price\"] > 0]"
   ]
  },
  {
   "cell_type": "code",
   "execution_count": 11,
   "id": "fbd37a4c",
   "metadata": {
    "execution": {
     "iopub.execute_input": "2022-01-04T19:17:03.187890Z",
     "iopub.status.busy": "2022-01-04T19:17:03.186449Z",
     "iopub.status.idle": "2022-01-04T19:17:03.264373Z",
     "shell.execute_reply": "2022-01-04T19:17:03.264948Z",
     "shell.execute_reply.started": "2022-01-03T17:57:58.687719Z"
    },
    "papermill": {
     "duration": 0.124542,
     "end_time": "2022-01-04T19:17:03.265140",
     "exception": false,
     "start_time": "2022-01-04T19:17:03.140598",
     "status": "completed"
    },
    "tags": []
   },
   "outputs": [
    {
     "name": "stdout",
     "output_type": "stream",
     "text": [
      "   Invoice StockCode                      Description  Quantity  \\\n",
      "13  536367     84879    ASSORTED COLOUR BIRD ORNAMENT        32   \n",
      "31  536370     10002      INFLATABLE POLITICAL GLOBE         48   \n",
      "44  536370     22492          MINI PAINT SET VINTAGE         36   \n",
      "46  536371     22086  PAPER CHAIN KIT 50'S CHRISTMAS         80   \n",
      "65  536374     21258       VICTORIAN SEWING BOX LARGE        32   \n",
      "\n",
      "           InvoiceDate  Price  Customer ID         Country  \n",
      "13 2010-12-01 08:34:00  1.690    13047.000  United Kingdom  \n",
      "31 2010-12-01 08:45:00  0.850    12583.000          France  \n",
      "44 2010-12-01 08:45:00  0.650    12583.000          France  \n",
      "46 2010-12-01 09:00:00  2.550    13748.000  United Kingdom  \n",
      "65 2010-12-01 09:09:00 10.950    15100.000  United Kingdom  \n",
      "   Invoice StockCode                     Description  Quantity  \\\n",
      "5   536365     22752    SET 7 BABUSHKA NESTING BOXES         2   \n",
      "20  536367     22622  BOX OF VINTAGE ALPHABET BLOCKS         2   \n",
      "23  536367     21777     RECIPE BOX WITH METAL HEART         4   \n",
      "24  536367     48187             DOORMAT NEW ENGLAND         4   \n",
      "45  536370      POST                         POSTAGE         3   \n",
      "\n",
      "           InvoiceDate  Price  Customer ID         Country  \n",
      "5  2010-12-01 08:26:00  7.650    17850.000  United Kingdom  \n",
      "20 2010-12-01 08:34:00  9.950    13047.000  United Kingdom  \n",
      "23 2010-12-01 08:34:00  7.950    13047.000  United Kingdom  \n",
      "24 2010-12-01 08:34:00  7.950    13047.000  United Kingdom  \n",
      "45 2010-12-01 08:45:00 18.000    12583.000          France  \n"
     ]
    }
   ],
   "source": [
    "# Let's only observe outlier values but we don't need to handle outliers as a problem, because we'll be scoring the dataset.\n",
    "\n",
    "for col in num_cols:\n",
    "    grab_outliers(df,col)\n",
    " "
   ]
  },
  {
   "cell_type": "code",
   "execution_count": 12,
   "id": "6f354263",
   "metadata": {
    "execution": {
     "iopub.execute_input": "2022-01-04T19:17:03.351871Z",
     "iopub.status.busy": "2022-01-04T19:17:03.350889Z",
     "iopub.status.idle": "2022-01-04T19:17:03.449636Z",
     "shell.execute_reply": "2022-01-04T19:17:03.449001Z",
     "shell.execute_reply.started": "2022-01-03T17:58:02.126139Z"
    },
    "papermill": {
     "duration": 0.143176,
     "end_time": "2022-01-04T19:17:03.449785",
     "exception": false,
     "start_time": "2022-01-04T19:17:03.306609",
     "status": "completed"
    },
    "tags": []
   },
   "outputs": [
    {
     "data": {
      "text/plain": [
       "3877"
      ]
     },
     "execution_count": 12,
     "metadata": {},
     "output_type": "execute_result"
    }
   ],
   "source": [
    "# Unique Number of Products (with Description)\n",
    "\n",
    "df.Description.nunique()"
   ]
  },
  {
   "cell_type": "code",
   "execution_count": 13,
   "id": "7fb7de8f",
   "metadata": {
    "execution": {
     "iopub.execute_input": "2022-01-04T19:17:03.536871Z",
     "iopub.status.busy": "2022-01-04T19:17:03.535863Z",
     "iopub.status.idle": "2022-01-04T19:17:03.617661Z",
     "shell.execute_reply": "2022-01-04T19:17:03.617034Z",
     "shell.execute_reply.started": "2022-01-03T17:58:02.66396Z"
    },
    "papermill": {
     "duration": 0.126295,
     "end_time": "2022-01-04T19:17:03.617829",
     "exception": false,
     "start_time": "2022-01-04T19:17:03.491534",
     "status": "completed"
    },
    "tags": []
   },
   "outputs": [
    {
     "data": {
      "text/plain": [
       "3665"
      ]
     },
     "execution_count": 13,
     "metadata": {},
     "output_type": "execute_result"
    }
   ],
   "source": [
    "# Unique Number of Products (with StockCode)\n",
    "\n",
    "df.StockCode.nunique()"
   ]
  },
  {
   "cell_type": "code",
   "execution_count": 14,
   "id": "70d33dfa",
   "metadata": {
    "execution": {
     "iopub.execute_input": "2022-01-04T19:17:03.706459Z",
     "iopub.status.busy": "2022-01-04T19:17:03.705465Z",
     "iopub.status.idle": "2022-01-04T19:17:03.828291Z",
     "shell.execute_reply": "2022-01-04T19:17:03.828812Z",
     "shell.execute_reply.started": "2022-01-03T17:59:01.151504Z"
    },
    "papermill": {
     "duration": 0.16876,
     "end_time": "2022-01-04T19:17:03.828984",
     "exception": false,
     "start_time": "2022-01-04T19:17:03.660224",
     "status": "completed"
    },
    "tags": []
   },
   "outputs": [
    {
     "data": {
      "text/html": [
       "<div>\n",
       "<style scoped>\n",
       "    .dataframe tbody tr th:only-of-type {\n",
       "        vertical-align: middle;\n",
       "    }\n",
       "\n",
       "    .dataframe tbody tr th {\n",
       "        vertical-align: top;\n",
       "    }\n",
       "\n",
       "    .dataframe thead th {\n",
       "        text-align: right;\n",
       "    }\n",
       "</style>\n",
       "<table border=\"1\" class=\"dataframe\">\n",
       "  <thead>\n",
       "    <tr style=\"text-align: right;\">\n",
       "      <th></th>\n",
       "      <th>Description</th>\n",
       "      <th>StockCode_Count</th>\n",
       "    </tr>\n",
       "  </thead>\n",
       "  <tbody>\n",
       "    <tr>\n",
       "      <th>0</th>\n",
       "      <td>4 PURPLE FLOCK DINNER CANDLES</td>\n",
       "      <td>1</td>\n",
       "    </tr>\n",
       "    <tr>\n",
       "      <th>1</th>\n",
       "      <td>50'S CHRISTMAS GIFT BAG LARGE</td>\n",
       "      <td>1</td>\n",
       "    </tr>\n",
       "    <tr>\n",
       "      <th>2</th>\n",
       "      <td>DOLLY GIRL BEAKER</td>\n",
       "      <td>1</td>\n",
       "    </tr>\n",
       "    <tr>\n",
       "      <th>3</th>\n",
       "      <td>I LOVE LONDON MINI BACKPACK</td>\n",
       "      <td>1</td>\n",
       "    </tr>\n",
       "    <tr>\n",
       "      <th>4</th>\n",
       "      <td>I LOVE LONDON MINI RUCKSACK</td>\n",
       "      <td>1</td>\n",
       "    </tr>\n",
       "  </tbody>\n",
       "</table>\n",
       "</div>"
      ],
      "text/plain": [
       "                      Description  StockCode_Count\n",
       "0   4 PURPLE FLOCK DINNER CANDLES                1\n",
       "1   50'S CHRISTMAS GIFT BAG LARGE                1\n",
       "2               DOLLY GIRL BEAKER                1\n",
       "3     I LOVE LONDON MINI BACKPACK                1\n",
       "4     I LOVE LONDON MINI RUCKSACK                1"
      ]
     },
     "execution_count": 14,
     "metadata": {},
     "output_type": "execute_result"
    }
   ],
   "source": [
    "# The unique values of these 2 variables (Description & StockCode) should be equal, because each stock code represents a product.\n",
    "\n",
    "# 1st Step\n",
    "df_product = df[[\"Description\",\"StockCode\"]].drop_duplicates()\n",
    "df_product = df_product.groupby([\"Description\"]).agg({\"StockCode\":\"count\"}).reset_index()\n",
    "\n",
    "\n",
    "df_product.rename(columns={'StockCode':'StockCode_Count'},inplace=True)\n",
    "df_product.head()"
   ]
  },
  {
   "cell_type": "code",
   "execution_count": 15,
   "id": "880e68a2",
   "metadata": {
    "execution": {
     "iopub.execute_input": "2022-01-04T19:17:03.919322Z",
     "iopub.status.busy": "2022-01-04T19:17:03.918246Z",
     "iopub.status.idle": "2022-01-04T19:17:03.931027Z",
     "shell.execute_reply": "2022-01-04T19:17:03.931626Z",
     "shell.execute_reply.started": "2022-01-03T17:59:04.366319Z"
    },
    "papermill": {
     "duration": 0.059339,
     "end_time": "2022-01-04T19:17:03.931804",
     "exception": false,
     "start_time": "2022-01-04T19:17:03.872465",
     "status": "completed"
    },
    "tags": []
   },
   "outputs": [
    {
     "data": {
      "text/html": [
       "<div>\n",
       "<style scoped>\n",
       "    .dataframe tbody tr th:only-of-type {\n",
       "        vertical-align: middle;\n",
       "    }\n",
       "\n",
       "    .dataframe tbody tr th {\n",
       "        vertical-align: top;\n",
       "    }\n",
       "\n",
       "    .dataframe thead th {\n",
       "        text-align: right;\n",
       "    }\n",
       "</style>\n",
       "<table border=\"1\" class=\"dataframe\">\n",
       "  <thead>\n",
       "    <tr style=\"text-align: right;\">\n",
       "      <th></th>\n",
       "      <th>Description</th>\n",
       "      <th>StockCode_Count</th>\n",
       "    </tr>\n",
       "  </thead>\n",
       "  <tbody>\n",
       "    <tr>\n",
       "      <th>2014</th>\n",
       "      <td>METAL SIGN,CUPCAKE SINGLE HOOK</td>\n",
       "      <td>3</td>\n",
       "    </tr>\n",
       "    <tr>\n",
       "      <th>2471</th>\n",
       "      <td>PINK FLOWERS RABBIT EASTER</td>\n",
       "      <td>2</td>\n",
       "    </tr>\n",
       "    <tr>\n",
       "      <th>1077</th>\n",
       "      <td>EAU DE NILE JEWELLED PHOTOFRAME</td>\n",
       "      <td>2</td>\n",
       "    </tr>\n",
       "    <tr>\n",
       "      <th>2460</th>\n",
       "      <td>PINK FAIRY CAKE CUSHION COVER</td>\n",
       "      <td>2</td>\n",
       "    </tr>\n",
       "    <tr>\n",
       "      <th>3678</th>\n",
       "      <td>WHITE BAMBOO RIBS LAMPSHADE</td>\n",
       "      <td>2</td>\n",
       "    </tr>\n",
       "  </tbody>\n",
       "</table>\n",
       "</div>"
      ],
      "text/plain": [
       "                          Description  StockCode_Count\n",
       "2014   METAL SIGN,CUPCAKE SINGLE HOOK                3\n",
       "2471       PINK FLOWERS RABBIT EASTER                2\n",
       "1077  EAU DE NILE JEWELLED PHOTOFRAME                2\n",
       "2460    PINK FAIRY CAKE CUSHION COVER                2\n",
       "3678      WHITE BAMBOO RIBS LAMPSHADE                2"
      ]
     },
     "execution_count": 15,
     "metadata": {},
     "output_type": "execute_result"
    }
   ],
   "source": [
    "df_product = df_product.sort_values(\"StockCode_Count\", ascending=False)\n",
    "df_product = df_product[df_product[\"StockCode_Count\"]>1]\n",
    "\n",
    "df_product.head()"
   ]
  },
  {
   "cell_type": "code",
   "execution_count": 16,
   "id": "e246afd5",
   "metadata": {
    "execution": {
     "iopub.execute_input": "2022-01-04T19:17:04.023221Z",
     "iopub.status.busy": "2022-01-04T19:17:04.022245Z",
     "iopub.status.idle": "2022-01-04T19:17:04.247032Z",
     "shell.execute_reply": "2022-01-04T19:17:04.246438Z",
     "shell.execute_reply.started": "2022-01-03T17:59:46.939904Z"
    },
    "papermill": {
     "duration": 0.272366,
     "end_time": "2022-01-04T19:17:04.247178",
     "exception": false,
     "start_time": "2022-01-04T19:17:03.974812",
     "status": "completed"
    },
    "tags": []
   },
   "outputs": [
    {
     "name": "stdout",
     "output_type": "stream",
     "text": [
      "3630\n",
      "3858\n"
     ]
    }
   ],
   "source": [
    "# Let's delete products with more than one stock code \n",
    "\n",
    "df = df[~df[\"Description\"].isin(df_product[\"Description\"])]\n",
    "\n",
    "print(df.StockCode.nunique())\n",
    "print(df.Description.nunique())"
   ]
  },
  {
   "cell_type": "code",
   "execution_count": 17,
   "id": "944c43c4",
   "metadata": {
    "execution": {
     "iopub.execute_input": "2022-01-04T19:17:04.341327Z",
     "iopub.status.busy": "2022-01-04T19:17:04.340348Z",
     "iopub.status.idle": "2022-01-04T19:17:04.461948Z",
     "shell.execute_reply": "2022-01-04T19:17:04.462463Z",
     "shell.execute_reply.started": "2022-01-03T18:00:04.25169Z"
    },
    "papermill": {
     "duration": 0.171967,
     "end_time": "2022-01-04T19:17:04.462654",
     "exception": false,
     "start_time": "2022-01-04T19:17:04.290687",
     "status": "completed"
    },
    "tags": []
   },
   "outputs": [
    {
     "data": {
      "text/html": [
       "<div>\n",
       "<style scoped>\n",
       "    .dataframe tbody tr th:only-of-type {\n",
       "        vertical-align: middle;\n",
       "    }\n",
       "\n",
       "    .dataframe tbody tr th {\n",
       "        vertical-align: top;\n",
       "    }\n",
       "\n",
       "    .dataframe thead th {\n",
       "        text-align: right;\n",
       "    }\n",
       "</style>\n",
       "<table border=\"1\" class=\"dataframe\">\n",
       "  <thead>\n",
       "    <tr style=\"text-align: right;\">\n",
       "      <th></th>\n",
       "      <th>StockCode</th>\n",
       "      <th>Description_Count</th>\n",
       "    </tr>\n",
       "  </thead>\n",
       "  <tbody>\n",
       "    <tr>\n",
       "      <th>1990</th>\n",
       "      <td>23236</td>\n",
       "      <td>4</td>\n",
       "    </tr>\n",
       "    <tr>\n",
       "      <th>1950</th>\n",
       "      <td>23196</td>\n",
       "      <td>4</td>\n",
       "    </tr>\n",
       "    <tr>\n",
       "      <th>2104</th>\n",
       "      <td>23366</td>\n",
       "      <td>3</td>\n",
       "    </tr>\n",
       "    <tr>\n",
       "      <th>1886</th>\n",
       "      <td>23131</td>\n",
       "      <td>3</td>\n",
       "    </tr>\n",
       "    <tr>\n",
       "      <th>1994</th>\n",
       "      <td>23240</td>\n",
       "      <td>3</td>\n",
       "    </tr>\n",
       "  </tbody>\n",
       "</table>\n",
       "</div>"
      ],
      "text/plain": [
       "     StockCode  Description_Count\n",
       "1990     23236                  4\n",
       "1950     23196                  4\n",
       "2104     23366                  3\n",
       "1886     23131                  3\n",
       "1994     23240                  3"
      ]
     },
     "execution_count": 17,
     "metadata": {},
     "output_type": "execute_result"
    }
   ],
   "source": [
    "# 2nd Step\n",
    "\n",
    "df_product = df[[\"Description\",\"StockCode\"]].drop_duplicates()\n",
    "df_product = df_product.groupby([\"StockCode\"]).agg({\"Description\":\"count\"}).reset_index()\n",
    "df_product.rename(columns={'Description':'Description_Count'},inplace=True)\n",
    "df_product = df_product.sort_values(\"Description_Count\", ascending=False)\n",
    "df_product = df_product[df_product[\"Description_Count\"] > 1] \n",
    "\n",
    "\n",
    "df_product.head()\n"
   ]
  },
  {
   "cell_type": "code",
   "execution_count": 18,
   "id": "1ab42a5c",
   "metadata": {
    "execution": {
     "iopub.execute_input": "2022-01-04T19:17:04.554789Z",
     "iopub.status.busy": "2022-01-04T19:17:04.553753Z",
     "iopub.status.idle": "2022-01-04T19:17:04.609771Z",
     "shell.execute_reply": "2022-01-04T19:17:04.610342Z",
     "shell.execute_reply.started": "2022-01-03T18:00:28.426338Z"
    },
    "papermill": {
     "duration": 0.104059,
     "end_time": "2022-01-04T19:17:04.610556",
     "exception": false,
     "start_time": "2022-01-04T19:17:04.506497",
     "status": "completed"
    },
    "tags": []
   },
   "outputs": [],
   "source": [
    "# Let's delete stock codes that represent multiple products\n",
    "\n",
    "df = df[~df[\"StockCode\"].isin(df_product[\"StockCode\"])]"
   ]
  },
  {
   "cell_type": "code",
   "execution_count": 19,
   "id": "1e925687",
   "metadata": {
    "execution": {
     "iopub.execute_input": "2022-01-04T19:17:04.702034Z",
     "iopub.status.busy": "2022-01-04T19:17:04.701023Z",
     "iopub.status.idle": "2022-01-04T19:17:04.854154Z",
     "shell.execute_reply": "2022-01-04T19:17:04.853467Z",
     "shell.execute_reply.started": "2022-01-03T18:00:34.352824Z"
    },
    "papermill": {
     "duration": 0.200076,
     "end_time": "2022-01-04T19:17:04.854344",
     "exception": false,
     "start_time": "2022-01-04T19:17:04.654268",
     "status": "completed"
    },
    "tags": []
   },
   "outputs": [
    {
     "name": "stdout",
     "output_type": "stream",
     "text": [
      "3420\n",
      "3420\n"
     ]
    }
   ],
   "source": [
    "# Now each stock code represents a single product\n",
    "\n",
    "print(df.StockCode.nunique())\n",
    "print(df.Description.nunique())"
   ]
  },
  {
   "cell_type": "code",
   "execution_count": 20,
   "id": "f11e1778",
   "metadata": {
    "execution": {
     "iopub.execute_input": "2022-01-04T19:17:04.983667Z",
     "iopub.status.busy": "2022-01-04T19:17:04.982544Z",
     "iopub.status.idle": "2022-01-04T19:17:05.185880Z",
     "shell.execute_reply": "2022-01-04T19:17:05.185286Z",
     "shell.execute_reply.started": "2022-01-03T18:00:49.583756Z"
    },
    "papermill": {
     "duration": 0.28683,
     "end_time": "2022-01-04T19:17:05.186029",
     "exception": false,
     "start_time": "2022-01-04T19:17:04.899199",
     "status": "completed"
    },
    "tags": []
   },
   "outputs": [],
   "source": [
    "# The post statement in the stock code shows the postage cost, let's delete it as it is not a product\n",
    "\n",
    "df = df[~df[\"StockCode\"].str.contains(\"POST\", na=False)]"
   ]
  },
  {
   "cell_type": "code",
   "execution_count": 21,
   "id": "8c7f572e",
   "metadata": {
    "execution": {
     "iopub.execute_input": "2022-01-04T19:17:05.278092Z",
     "iopub.status.busy": "2022-01-04T19:17:05.277316Z",
     "iopub.status.idle": "2022-01-04T19:17:05.285450Z",
     "shell.execute_reply": "2022-01-04T19:17:05.285991Z",
     "shell.execute_reply.started": "2022-01-03T18:00:54.668282Z"
    },
    "papermill": {
     "duration": 0.056042,
     "end_time": "2022-01-04T19:17:05.286166",
     "exception": false,
     "start_time": "2022-01-04T19:17:05.230124",
     "status": "completed"
    },
    "tags": []
   },
   "outputs": [],
   "source": [
    "# Calculating Total Price:\n",
    "\n",
    "df['TotalPrice'] = df['Quantity'] * df['Price']"
   ]
  },
  {
   "cell_type": "code",
   "execution_count": 22,
   "id": "c66f82d8",
   "metadata": {
    "execution": {
     "iopub.execute_input": "2022-01-04T19:17:05.377919Z",
     "iopub.status.busy": "2022-01-04T19:17:05.377163Z",
     "iopub.status.idle": "2022-01-04T19:17:05.397380Z",
     "shell.execute_reply": "2022-01-04T19:17:05.396710Z",
     "shell.execute_reply.started": "2022-01-03T18:01:03.99354Z"
    },
    "papermill": {
     "duration": 0.067185,
     "end_time": "2022-01-04T19:17:05.397523",
     "exception": false,
     "start_time": "2022-01-04T19:17:05.330338",
     "status": "completed"
    },
    "tags": []
   },
   "outputs": [
    {
     "data": {
      "text/html": [
       "<div>\n",
       "<style scoped>\n",
       "    .dataframe tbody tr th:only-of-type {\n",
       "        vertical-align: middle;\n",
       "    }\n",
       "\n",
       "    .dataframe tbody tr th {\n",
       "        vertical-align: top;\n",
       "    }\n",
       "\n",
       "    .dataframe thead th {\n",
       "        text-align: right;\n",
       "    }\n",
       "</style>\n",
       "<table border=\"1\" class=\"dataframe\">\n",
       "  <thead>\n",
       "    <tr style=\"text-align: right;\">\n",
       "      <th></th>\n",
       "      <th>Invoice</th>\n",
       "      <th>StockCode</th>\n",
       "      <th>Description</th>\n",
       "      <th>Quantity</th>\n",
       "      <th>InvoiceDate</th>\n",
       "      <th>Price</th>\n",
       "      <th>Customer ID</th>\n",
       "      <th>Country</th>\n",
       "      <th>TotalPrice</th>\n",
       "    </tr>\n",
       "  </thead>\n",
       "  <tbody>\n",
       "    <tr>\n",
       "      <th>2</th>\n",
       "      <td>536365</td>\n",
       "      <td>84406B</td>\n",
       "      <td>CREAM CUPID HEARTS COAT HANGER</td>\n",
       "      <td>8</td>\n",
       "      <td>2010-12-01 08:26:00</td>\n",
       "      <td>2.750</td>\n",
       "      <td>17850.000</td>\n",
       "      <td>United Kingdom</td>\n",
       "      <td>22.000</td>\n",
       "    </tr>\n",
       "    <tr>\n",
       "      <th>3</th>\n",
       "      <td>536365</td>\n",
       "      <td>84029G</td>\n",
       "      <td>KNITTED UNION FLAG HOT WATER BOTTLE</td>\n",
       "      <td>6</td>\n",
       "      <td>2010-12-01 08:26:00</td>\n",
       "      <td>3.390</td>\n",
       "      <td>17850.000</td>\n",
       "      <td>United Kingdom</td>\n",
       "      <td>20.340</td>\n",
       "    </tr>\n",
       "    <tr>\n",
       "      <th>4</th>\n",
       "      <td>536365</td>\n",
       "      <td>84029E</td>\n",
       "      <td>RED WOOLLY HOTTIE WHITE HEART.</td>\n",
       "      <td>6</td>\n",
       "      <td>2010-12-01 08:26:00</td>\n",
       "      <td>3.390</td>\n",
       "      <td>17850.000</td>\n",
       "      <td>United Kingdom</td>\n",
       "      <td>20.340</td>\n",
       "    </tr>\n",
       "    <tr>\n",
       "      <th>5</th>\n",
       "      <td>536365</td>\n",
       "      <td>22752</td>\n",
       "      <td>SET 7 BABUSHKA NESTING BOXES</td>\n",
       "      <td>2</td>\n",
       "      <td>2010-12-01 08:26:00</td>\n",
       "      <td>7.650</td>\n",
       "      <td>17850.000</td>\n",
       "      <td>United Kingdom</td>\n",
       "      <td>15.300</td>\n",
       "    </tr>\n",
       "    <tr>\n",
       "      <th>6</th>\n",
       "      <td>536365</td>\n",
       "      <td>21730</td>\n",
       "      <td>GLASS STAR FROSTED T-LIGHT HOLDER</td>\n",
       "      <td>6</td>\n",
       "      <td>2010-12-01 08:26:00</td>\n",
       "      <td>4.250</td>\n",
       "      <td>17850.000</td>\n",
       "      <td>United Kingdom</td>\n",
       "      <td>25.500</td>\n",
       "    </tr>\n",
       "  </tbody>\n",
       "</table>\n",
       "</div>"
      ],
      "text/plain": [
       "  Invoice StockCode                          Description  Quantity  \\\n",
       "2  536365    84406B       CREAM CUPID HEARTS COAT HANGER         8   \n",
       "3  536365    84029G  KNITTED UNION FLAG HOT WATER BOTTLE         6   \n",
       "4  536365    84029E       RED WOOLLY HOTTIE WHITE HEART.         6   \n",
       "5  536365     22752         SET 7 BABUSHKA NESTING BOXES         2   \n",
       "6  536365     21730    GLASS STAR FROSTED T-LIGHT HOLDER         6   \n",
       "\n",
       "          InvoiceDate  Price  Customer ID         Country  TotalPrice  \n",
       "2 2010-12-01 08:26:00  2.750    17850.000  United Kingdom      22.000  \n",
       "3 2010-12-01 08:26:00  3.390    17850.000  United Kingdom      20.340  \n",
       "4 2010-12-01 08:26:00  3.390    17850.000  United Kingdom      20.340  \n",
       "5 2010-12-01 08:26:00  7.650    17850.000  United Kingdom      15.300  \n",
       "6 2010-12-01 08:26:00  4.250    17850.000  United Kingdom      25.500  "
      ]
     },
     "execution_count": 22,
     "metadata": {},
     "output_type": "execute_result"
    }
   ],
   "source": [
    "df.head()"
   ]
  },
  {
   "cell_type": "markdown",
   "id": "c1e65480",
   "metadata": {
    "papermill": {
     "duration": 0.044373,
     "end_time": "2022-01-04T19:17:05.486655",
     "exception": false,
     "start_time": "2022-01-04T19:17:05.442282",
     "status": "completed"
    },
    "tags": []
   },
   "source": [
    "***Calculating RFM Metrics***"
   ]
  },
  {
   "cell_type": "code",
   "execution_count": 23,
   "id": "7c3a7af7",
   "metadata": {
    "execution": {
     "iopub.execute_input": "2022-01-04T19:17:05.582097Z",
     "iopub.status.busy": "2022-01-04T19:17:05.581438Z",
     "iopub.status.idle": "2022-01-04T19:17:05.770665Z",
     "shell.execute_reply": "2022-01-04T19:17:05.771222Z",
     "shell.execute_reply.started": "2022-01-03T18:01:37.359635Z"
    },
    "papermill": {
     "duration": 0.239873,
     "end_time": "2022-01-04T19:17:05.771401",
     "exception": false,
     "start_time": "2022-01-04T19:17:05.531528",
     "status": "completed"
    },
    "tags": []
   },
   "outputs": [
    {
     "name": "stdout",
     "output_type": "stream",
     "text": [
      "<class 'pandas.core.frame.DataFrame'>\n",
      "Int64Index: 357405 entries, 2 to 397923\n",
      "Data columns (total 9 columns):\n",
      " #   Column       Non-Null Count   Dtype         \n",
      "---  ------       --------------   -----         \n",
      " 0   Invoice      357405 non-null  object        \n",
      " 1   StockCode    357405 non-null  object        \n",
      " 2   Description  357405 non-null  object        \n",
      " 3   Quantity     357405 non-null  int64         \n",
      " 4   InvoiceDate  357405 non-null  datetime64[ns]\n",
      " 5   Price        357405 non-null  float64       \n",
      " 6   Customer ID  357405 non-null  float64       \n",
      " 7   Country      357405 non-null  object        \n",
      " 8   TotalPrice   357405 non-null  float64       \n",
      "dtypes: datetime64[ns](1), float64(3), int64(1), object(4)\n",
      "memory usage: 27.3+ MB\n"
     ]
    }
   ],
   "source": [
    "df.info()"
   ]
  },
  {
   "cell_type": "code",
   "execution_count": 24,
   "id": "c5b57a65",
   "metadata": {
    "execution": {
     "iopub.execute_input": "2022-01-04T19:17:05.887992Z",
     "iopub.status.busy": "2022-01-04T19:17:05.886956Z",
     "iopub.status.idle": "2022-01-04T19:17:07.688996Z",
     "shell.execute_reply": "2022-01-04T19:17:07.688317Z",
     "shell.execute_reply.started": "2022-01-03T18:02:04.57345Z"
    },
    "papermill": {
     "duration": 1.872787,
     "end_time": "2022-01-04T19:17:07.689142",
     "exception": false,
     "start_time": "2022-01-04T19:17:05.816355",
     "status": "completed"
    },
    "tags": []
   },
   "outputs": [
    {
     "data": {
      "text/plain": [
       "Timestamp('2011-12-09 12:50:00')"
      ]
     },
     "execution_count": 24,
     "metadata": {},
     "output_type": "execute_result"
    }
   ],
   "source": [
    "# Let's observe the last transaction date.\n",
    "# So we can determine the performans/measurement date for calculating how recent a customer's latest purchase was.\n",
    "\n",
    "df['InvoiceDate'] = pd.to_datetime(df['InvoiceDate'])\n",
    "df['InvoiceDate'].max()"
   ]
  },
  {
   "cell_type": "code",
   "execution_count": 25,
   "id": "50f00773",
   "metadata": {
    "execution": {
     "iopub.execute_input": "2022-01-04T19:17:07.787521Z",
     "iopub.status.busy": "2022-01-04T19:17:07.786873Z",
     "iopub.status.idle": "2022-01-04T19:17:07.793961Z",
     "shell.execute_reply": "2022-01-04T19:17:07.793321Z",
     "shell.execute_reply.started": "2022-01-03T18:02:53.445458Z"
    },
    "papermill": {
     "duration": 0.057926,
     "end_time": "2022-01-04T19:17:07.794111",
     "exception": false,
     "start_time": "2022-01-04T19:17:07.736185",
     "status": "completed"
    },
    "tags": []
   },
   "outputs": [
    {
     "data": {
      "text/plain": [
       "Timestamp('2011-12-11 12:50:00')"
      ]
     },
     "execution_count": 25,
     "metadata": {},
     "output_type": "execute_result"
    }
   ],
   "source": [
    "# Assign \"performans_date\" as 2 days after the last transaction date of purchase:\n",
    "\n",
    "performans_date = df[\"InvoiceDate\"].max() + timedelta(days=2)\n",
    "performans_date"
   ]
  },
  {
   "cell_type": "markdown",
   "id": "a852a7f4",
   "metadata": {
    "papermill": {
     "duration": 0.046649,
     "end_time": "2022-01-04T19:17:07.886463",
     "exception": false,
     "start_time": "2022-01-04T19:17:07.839814",
     "status": "completed"
    },
    "tags": []
   },
   "source": [
    "Let's create a new df called as rfm_df by calculating the Recency, Frequency and Monetary values.\n",
    "\n",
    "* Recency : the number of days between performans_date and the last purchase date of  each customers\n",
    "* Frequency: the number of transactions (unique invoices) of each customers\n",
    "* Monetary : the sum of TotalPrice of each customers."
   ]
  },
  {
   "cell_type": "code",
   "execution_count": 26,
   "id": "803f6f7a",
   "metadata": {
    "execution": {
     "iopub.execute_input": "2022-01-04T19:17:07.985663Z",
     "iopub.status.busy": "2022-01-04T19:17:07.984929Z",
     "iopub.status.idle": "2022-01-04T19:17:09.741055Z",
     "shell.execute_reply": "2022-01-04T19:17:09.740279Z",
     "shell.execute_reply.started": "2022-01-03T18:06:47.276799Z"
    },
    "papermill": {
     "duration": 1.808831,
     "end_time": "2022-01-04T19:17:09.741221",
     "exception": false,
     "start_time": "2022-01-04T19:17:07.932390",
     "status": "completed"
    },
    "tags": []
   },
   "outputs": [],
   "source": [
    "rfm_df = df.groupby(\"Customer ID\").agg \\\n",
    "                                    ({\"InvoiceDate\" : lambda InvoiceDate :(performans_date - InvoiceDate.max()).days,  # Recency\n",
    "                                     \"Invoice\" : lambda Invoice: Invoice.nunique(),  # Frequency\n",
    "                                     \"TotalPrice\":  lambda Total_Price: Total_Price.sum()})    # Monetary\n"
   ]
  },
  {
   "cell_type": "code",
   "execution_count": 27,
   "id": "857411bd",
   "metadata": {
    "execution": {
     "iopub.execute_input": "2022-01-04T19:17:09.847024Z",
     "iopub.status.busy": "2022-01-04T19:17:09.846260Z",
     "iopub.status.idle": "2022-01-04T19:17:09.851106Z",
     "shell.execute_reply": "2022-01-04T19:17:09.850346Z",
     "shell.execute_reply.started": "2022-01-03T18:06:49.271425Z"
    },
    "papermill": {
     "duration": 0.062539,
     "end_time": "2022-01-04T19:17:09.851276",
     "exception": false,
     "start_time": "2022-01-04T19:17:09.788737",
     "status": "completed"
    },
    "tags": []
   },
   "outputs": [
    {
     "data": {
      "text/html": [
       "<div>\n",
       "<style scoped>\n",
       "    .dataframe tbody tr th:only-of-type {\n",
       "        vertical-align: middle;\n",
       "    }\n",
       "\n",
       "    .dataframe tbody tr th {\n",
       "        vertical-align: top;\n",
       "    }\n",
       "\n",
       "    .dataframe thead th {\n",
       "        text-align: right;\n",
       "    }\n",
       "</style>\n",
       "<table border=\"1\" class=\"dataframe\">\n",
       "  <thead>\n",
       "    <tr style=\"text-align: right;\">\n",
       "      <th></th>\n",
       "      <th>InvoiceDate</th>\n",
       "      <th>Invoice</th>\n",
       "      <th>TotalPrice</th>\n",
       "    </tr>\n",
       "    <tr>\n",
       "      <th>Customer ID</th>\n",
       "      <th></th>\n",
       "      <th></th>\n",
       "      <th></th>\n",
       "    </tr>\n",
       "  </thead>\n",
       "  <tbody>\n",
       "    <tr>\n",
       "      <th>12346.000</th>\n",
       "      <td>327</td>\n",
       "      <td>1</td>\n",
       "      <td>77183.600</td>\n",
       "    </tr>\n",
       "    <tr>\n",
       "      <th>12347.000</th>\n",
       "      <td>3</td>\n",
       "      <td>7</td>\n",
       "      <td>4167.780</td>\n",
       "    </tr>\n",
       "    <tr>\n",
       "      <th>12348.000</th>\n",
       "      <td>76</td>\n",
       "      <td>4</td>\n",
       "      <td>1373.640</td>\n",
       "    </tr>\n",
       "    <tr>\n",
       "      <th>12349.000</th>\n",
       "      <td>20</td>\n",
       "      <td>1</td>\n",
       "      <td>1231.910</td>\n",
       "    </tr>\n",
       "    <tr>\n",
       "      <th>12350.000</th>\n",
       "      <td>311</td>\n",
       "      <td>1</td>\n",
       "      <td>294.400</td>\n",
       "    </tr>\n",
       "  </tbody>\n",
       "</table>\n",
       "</div>"
      ],
      "text/plain": [
       "             InvoiceDate  Invoice  TotalPrice\n",
       "Customer ID                                  \n",
       "12346.000            327        1   77183.600\n",
       "12347.000              3        7    4167.780\n",
       "12348.000             76        4    1373.640\n",
       "12349.000             20        1    1231.910\n",
       "12350.000            311        1     294.400"
      ]
     },
     "execution_count": 27,
     "metadata": {},
     "output_type": "execute_result"
    }
   ],
   "source": [
    "rfm_df.head()"
   ]
  },
  {
   "cell_type": "code",
   "execution_count": 28,
   "id": "76a51c05",
   "metadata": {
    "execution": {
     "iopub.execute_input": "2022-01-04T19:17:09.955886Z",
     "iopub.status.busy": "2022-01-04T19:17:09.955015Z",
     "iopub.status.idle": "2022-01-04T19:17:09.959199Z",
     "shell.execute_reply": "2022-01-04T19:17:09.958592Z",
     "shell.execute_reply.started": "2022-01-03T18:06:49.717236Z"
    },
    "papermill": {
     "duration": 0.061064,
     "end_time": "2022-01-04T19:17:09.959399",
     "exception": false,
     "start_time": "2022-01-04T19:17:09.898335",
     "status": "completed"
    },
    "tags": []
   },
   "outputs": [
    {
     "data": {
      "text/html": [
       "<div>\n",
       "<style scoped>\n",
       "    .dataframe tbody tr th:only-of-type {\n",
       "        vertical-align: middle;\n",
       "    }\n",
       "\n",
       "    .dataframe tbody tr th {\n",
       "        vertical-align: top;\n",
       "    }\n",
       "\n",
       "    .dataframe thead th {\n",
       "        text-align: right;\n",
       "    }\n",
       "</style>\n",
       "<table border=\"1\" class=\"dataframe\">\n",
       "  <thead>\n",
       "    <tr style=\"text-align: right;\">\n",
       "      <th></th>\n",
       "      <th>recency</th>\n",
       "      <th>frequency</th>\n",
       "      <th>monetary</th>\n",
       "    </tr>\n",
       "    <tr>\n",
       "      <th>Customer ID</th>\n",
       "      <th></th>\n",
       "      <th></th>\n",
       "      <th></th>\n",
       "    </tr>\n",
       "  </thead>\n",
       "  <tbody>\n",
       "    <tr>\n",
       "      <th>12346.000</th>\n",
       "      <td>327</td>\n",
       "      <td>1</td>\n",
       "      <td>77183.600</td>\n",
       "    </tr>\n",
       "    <tr>\n",
       "      <th>12347.000</th>\n",
       "      <td>3</td>\n",
       "      <td>7</td>\n",
       "      <td>4167.780</td>\n",
       "    </tr>\n",
       "    <tr>\n",
       "      <th>12348.000</th>\n",
       "      <td>76</td>\n",
       "      <td>4</td>\n",
       "      <td>1373.640</td>\n",
       "    </tr>\n",
       "    <tr>\n",
       "      <th>12349.000</th>\n",
       "      <td>20</td>\n",
       "      <td>1</td>\n",
       "      <td>1231.910</td>\n",
       "    </tr>\n",
       "    <tr>\n",
       "      <th>12350.000</th>\n",
       "      <td>311</td>\n",
       "      <td>1</td>\n",
       "      <td>294.400</td>\n",
       "    </tr>\n",
       "  </tbody>\n",
       "</table>\n",
       "</div>"
      ],
      "text/plain": [
       "             recency  frequency  monetary\n",
       "Customer ID                              \n",
       "12346.000        327          1 77183.600\n",
       "12347.000          3          7  4167.780\n",
       "12348.000         76          4  1373.640\n",
       "12349.000         20          1  1231.910\n",
       "12350.000        311          1   294.400"
      ]
     },
     "execution_count": 28,
     "metadata": {},
     "output_type": "execute_result"
    }
   ],
   "source": [
    "# Replace column names with Recency, Frequency and Monetary:\n",
    "\n",
    "rfm_df.columns = ['recency', 'frequency', 'monetary']\n",
    "\n",
    "rfm_df.head()"
   ]
  },
  {
   "cell_type": "code",
   "execution_count": 29,
   "id": "4d1ab95e",
   "metadata": {
    "execution": {
     "iopub.execute_input": "2022-01-04T19:17:10.069910Z",
     "iopub.status.busy": "2022-01-04T19:17:10.069067Z",
     "iopub.status.idle": "2022-01-04T19:17:10.081715Z",
     "shell.execute_reply": "2022-01-04T19:17:10.082276Z",
     "shell.execute_reply.started": "2022-01-03T18:06:53.033129Z"
    },
    "papermill": {
     "duration": 0.075371,
     "end_time": "2022-01-04T19:17:10.082453",
     "exception": false,
     "start_time": "2022-01-04T19:17:10.007082",
     "status": "completed"
    },
    "tags": []
   },
   "outputs": [
    {
     "name": "stdout",
     "output_type": "stream",
     "text": [
      "##################### Shape #####################\n",
      "(4325, 3)\n",
      "##################### Types #####################\n",
      "recency        int64\n",
      "frequency      int64\n",
      "monetary     float64\n",
      "dtype: object\n",
      "##################### Head #####################\n",
      "             recency  frequency  monetary\n",
      "Customer ID                              \n",
      "12346.000        327          1 77183.600\n",
      "12347.000          3          7  4167.780\n",
      "12348.000         76          4  1373.640\n",
      "12349.000         20          1  1231.910\n",
      "12350.000        311          1   294.400\n",
      "##################### Tail #####################\n",
      "             recency  frequency  monetary\n",
      "Customer ID                              \n",
      "18280.000        279          1   180.600\n",
      "18281.000        182          1    64.320\n",
      "18282.000          9          2   164.550\n",
      "18283.000          5         16  1768.960\n",
      "18287.000         44          3  1822.280\n",
      "##################### NA #####################\n",
      "recency      0\n",
      "frequency    0\n",
      "monetary     0\n",
      "dtype: int64\n",
      "##################### Quantiles #####################\n",
      "           0.000   0.050   0.500    0.950     0.990      1.000\n",
      "recency    2.000   4.000  52.000  312.000   370.000    375.000\n",
      "frequency  1.000   1.000   2.000   13.000    28.000    209.000\n",
      "monetary   3.750 100.340 599.230 5027.678 16947.876 247288.430\n"
     ]
    }
   ],
   "source": [
    "# Let's check if the values inclued any NaN values:\n",
    "\n",
    "check_df(rfm_df)"
   ]
  },
  {
   "cell_type": "markdown",
   "id": "d119d75e",
   "metadata": {
    "papermill": {
     "duration": 0.048029,
     "end_time": "2022-01-04T19:17:10.177516",
     "exception": false,
     "start_time": "2022-01-04T19:17:10.129487",
     "status": "completed"
    },
    "tags": []
   },
   "source": [
    "***Assigning RFM Scores***\n",
    "\n",
    "*  RFM analysis numerically scale each of these three categories for each customer 1 to 5. This is the higher the number, the better the result. The \"Best\" customer would receive a top score in every category whereas for Receny score, this is the opposite, because the most valueable customer is that has recently made purchasing so Recency score is labeled as 1.\n",
    "\n",
    "* The max number of Frequency and Monetary metrics mean that the customer is purchasing frequently and spending more money, so the highest score should be given as 5 to represent best customers.\n"
   ]
  },
  {
   "cell_type": "code",
   "execution_count": 30,
   "id": "482019be",
   "metadata": {
    "execution": {
     "iopub.execute_input": "2022-01-04T19:17:10.279295Z",
     "iopub.status.busy": "2022-01-04T19:17:10.278570Z",
     "iopub.status.idle": "2022-01-04T19:17:10.292751Z",
     "shell.execute_reply": "2022-01-04T19:17:10.293338Z",
     "shell.execute_reply.started": "2022-01-03T18:08:56.462608Z"
    },
    "papermill": {
     "duration": 0.068707,
     "end_time": "2022-01-04T19:17:10.293516",
     "exception": false,
     "start_time": "2022-01-04T19:17:10.224809",
     "status": "completed"
    },
    "tags": []
   },
   "outputs": [],
   "source": [
    "rfm_df[\"Recency_Score\"]  = pd.qcut(rfm_df['recency'], 5, [5, 4, 3, 2, 1])\n",
    "rfm_df[\"Frequency_Score\"]  = pd.qcut(rfm_df['frequency'].rank(method=\"first\"), 5, [1, 2, 3, 4, 5])\n",
    "rfm_df[\"Monetary_Score\"]  = pd.qcut(rfm_df['monetary'], 5, [1, 2, 3, 4, 5])"
   ]
  },
  {
   "cell_type": "code",
   "execution_count": 31,
   "id": "525f17b7",
   "metadata": {
    "execution": {
     "iopub.execute_input": "2022-01-04T19:17:10.390849Z",
     "iopub.status.busy": "2022-01-04T19:17:10.390119Z",
     "iopub.status.idle": "2022-01-04T19:17:10.411541Z",
     "shell.execute_reply": "2022-01-04T19:17:10.412102Z",
     "shell.execute_reply.started": "2022-01-03T18:09:02.222444Z"
    },
    "papermill": {
     "duration": 0.071768,
     "end_time": "2022-01-04T19:17:10.412297",
     "exception": false,
     "start_time": "2022-01-04T19:17:10.340529",
     "status": "completed"
    },
    "tags": []
   },
   "outputs": [
    {
     "data": {
      "text/html": [
       "<div>\n",
       "<style scoped>\n",
       "    .dataframe tbody tr th:only-of-type {\n",
       "        vertical-align: middle;\n",
       "    }\n",
       "\n",
       "    .dataframe tbody tr th {\n",
       "        vertical-align: top;\n",
       "    }\n",
       "\n",
       "    .dataframe thead th {\n",
       "        text-align: right;\n",
       "    }\n",
       "</style>\n",
       "<table border=\"1\" class=\"dataframe\">\n",
       "  <thead>\n",
       "    <tr style=\"text-align: right;\">\n",
       "      <th></th>\n",
       "      <th>recency</th>\n",
       "      <th>frequency</th>\n",
       "      <th>monetary</th>\n",
       "      <th>Recency_Score</th>\n",
       "      <th>Frequency_Score</th>\n",
       "      <th>Monetary_Score</th>\n",
       "      <th>RFM_SCORE</th>\n",
       "    </tr>\n",
       "    <tr>\n",
       "      <th>Customer ID</th>\n",
       "      <th></th>\n",
       "      <th></th>\n",
       "      <th></th>\n",
       "      <th></th>\n",
       "      <th></th>\n",
       "      <th></th>\n",
       "      <th></th>\n",
       "    </tr>\n",
       "  </thead>\n",
       "  <tbody>\n",
       "    <tr>\n",
       "      <th>12346.000</th>\n",
       "      <td>327</td>\n",
       "      <td>1</td>\n",
       "      <td>77183.600</td>\n",
       "      <td>1</td>\n",
       "      <td>1</td>\n",
       "      <td>5</td>\n",
       "      <td>11</td>\n",
       "    </tr>\n",
       "    <tr>\n",
       "      <th>12347.000</th>\n",
       "      <td>3</td>\n",
       "      <td>7</td>\n",
       "      <td>4167.780</td>\n",
       "      <td>5</td>\n",
       "      <td>5</td>\n",
       "      <td>5</td>\n",
       "      <td>55</td>\n",
       "    </tr>\n",
       "    <tr>\n",
       "      <th>12348.000</th>\n",
       "      <td>76</td>\n",
       "      <td>4</td>\n",
       "      <td>1373.640</td>\n",
       "      <td>2</td>\n",
       "      <td>4</td>\n",
       "      <td>4</td>\n",
       "      <td>24</td>\n",
       "    </tr>\n",
       "    <tr>\n",
       "      <th>12349.000</th>\n",
       "      <td>20</td>\n",
       "      <td>1</td>\n",
       "      <td>1231.910</td>\n",
       "      <td>4</td>\n",
       "      <td>1</td>\n",
       "      <td>4</td>\n",
       "      <td>41</td>\n",
       "    </tr>\n",
       "    <tr>\n",
       "      <th>12350.000</th>\n",
       "      <td>311</td>\n",
       "      <td>1</td>\n",
       "      <td>294.400</td>\n",
       "      <td>1</td>\n",
       "      <td>1</td>\n",
       "      <td>2</td>\n",
       "      <td>11</td>\n",
       "    </tr>\n",
       "  </tbody>\n",
       "</table>\n",
       "</div>"
      ],
      "text/plain": [
       "             recency  frequency  monetary Recency_Score Frequency_Score  \\\n",
       "Customer ID                                                               \n",
       "12346.000        327          1 77183.600             1               1   \n",
       "12347.000          3          7  4167.780             5               5   \n",
       "12348.000         76          4  1373.640             2               4   \n",
       "12349.000         20          1  1231.910             4               1   \n",
       "12350.000        311          1   294.400             1               1   \n",
       "\n",
       "            Monetary_Score RFM_SCORE  \n",
       "Customer ID                           \n",
       "12346.000                5        11  \n",
       "12347.000                5        55  \n",
       "12348.000                4        24  \n",
       "12349.000                4        41  \n",
       "12350.000                2        11  "
      ]
     },
     "execution_count": 31,
     "metadata": {},
     "output_type": "execute_result"
    }
   ],
   "source": [
    "\n",
    "rfm_df[\"RFM_SCORE\"] = (rfm_df['Recency_Score'].astype(str) +\n",
    "                    rfm_df['Frequency_Score'].astype(str))\n",
    "\n",
    "rfm_df.head() "
   ]
  },
  {
   "cell_type": "markdown",
   "id": "f2606dec",
   "metadata": {
    "papermill": {
     "duration": 0.047651,
     "end_time": "2022-01-04T19:17:10.508348",
     "exception": false,
     "start_time": "2022-01-04T19:17:10.460697",
     "status": "completed"
    },
    "tags": []
   },
   "source": [
    "***Generating Segments Based on RFM Scores***\n",
    "\n",
    "We can assign the segments by using  Receny & Frequency Grid frequently seen in the literature."
   ]
  },
  {
   "cell_type": "code",
   "execution_count": 32,
   "id": "73478a5d",
   "metadata": {
    "execution": {
     "iopub.execute_input": "2022-01-04T19:17:10.608016Z",
     "iopub.status.busy": "2022-01-04T19:17:10.607347Z",
     "iopub.status.idle": "2022-01-04T19:17:10.624475Z",
     "shell.execute_reply": "2022-01-04T19:17:10.623860Z",
     "shell.execute_reply.started": "2022-01-03T18:12:56.450504Z"
    },
    "papermill": {
     "duration": 0.067709,
     "end_time": "2022-01-04T19:17:10.624636",
     "exception": false,
     "start_time": "2022-01-04T19:17:10.556927",
     "status": "completed"
    },
    "tags": []
   },
   "outputs": [
    {
     "data": {
      "text/html": [
       "<div>\n",
       "<style scoped>\n",
       "    .dataframe tbody tr th:only-of-type {\n",
       "        vertical-align: middle;\n",
       "    }\n",
       "\n",
       "    .dataframe tbody tr th {\n",
       "        vertical-align: top;\n",
       "    }\n",
       "\n",
       "    .dataframe thead th {\n",
       "        text-align: right;\n",
       "    }\n",
       "</style>\n",
       "<table border=\"1\" class=\"dataframe\">\n",
       "  <thead>\n",
       "    <tr style=\"text-align: right;\">\n",
       "      <th></th>\n",
       "      <th>recency</th>\n",
       "      <th>frequency</th>\n",
       "      <th>monetary</th>\n",
       "      <th>Recency_Score</th>\n",
       "      <th>Frequency_Score</th>\n",
       "      <th>Monetary_Score</th>\n",
       "      <th>RFM_SCORE</th>\n",
       "      <th>Segment</th>\n",
       "    </tr>\n",
       "    <tr>\n",
       "      <th>Customer ID</th>\n",
       "      <th></th>\n",
       "      <th></th>\n",
       "      <th></th>\n",
       "      <th></th>\n",
       "      <th></th>\n",
       "      <th></th>\n",
       "      <th></th>\n",
       "      <th></th>\n",
       "    </tr>\n",
       "  </thead>\n",
       "  <tbody>\n",
       "    <tr>\n",
       "      <th>12346.000</th>\n",
       "      <td>327</td>\n",
       "      <td>1</td>\n",
       "      <td>77183.600</td>\n",
       "      <td>1</td>\n",
       "      <td>1</td>\n",
       "      <td>5</td>\n",
       "      <td>11</td>\n",
       "      <td>11</td>\n",
       "    </tr>\n",
       "    <tr>\n",
       "      <th>12347.000</th>\n",
       "      <td>3</td>\n",
       "      <td>7</td>\n",
       "      <td>4167.780</td>\n",
       "      <td>5</td>\n",
       "      <td>5</td>\n",
       "      <td>5</td>\n",
       "      <td>55</td>\n",
       "      <td>55</td>\n",
       "    </tr>\n",
       "    <tr>\n",
       "      <th>12348.000</th>\n",
       "      <td>76</td>\n",
       "      <td>4</td>\n",
       "      <td>1373.640</td>\n",
       "      <td>2</td>\n",
       "      <td>4</td>\n",
       "      <td>4</td>\n",
       "      <td>24</td>\n",
       "      <td>24</td>\n",
       "    </tr>\n",
       "    <tr>\n",
       "      <th>12349.000</th>\n",
       "      <td>20</td>\n",
       "      <td>1</td>\n",
       "      <td>1231.910</td>\n",
       "      <td>4</td>\n",
       "      <td>1</td>\n",
       "      <td>4</td>\n",
       "      <td>41</td>\n",
       "      <td>41</td>\n",
       "    </tr>\n",
       "    <tr>\n",
       "      <th>12350.000</th>\n",
       "      <td>311</td>\n",
       "      <td>1</td>\n",
       "      <td>294.400</td>\n",
       "      <td>1</td>\n",
       "      <td>1</td>\n",
       "      <td>2</td>\n",
       "      <td>11</td>\n",
       "      <td>11</td>\n",
       "    </tr>\n",
       "  </tbody>\n",
       "</table>\n",
       "</div>"
      ],
      "text/plain": [
       "             recency  frequency  monetary Recency_Score Frequency_Score  \\\n",
       "Customer ID                                                               \n",
       "12346.000        327          1 77183.600             1               1   \n",
       "12347.000          3          7  4167.780             5               5   \n",
       "12348.000         76          4  1373.640             2               4   \n",
       "12349.000         20          1  1231.910             4               1   \n",
       "12350.000        311          1   294.400             1               1   \n",
       "\n",
       "            Monetary_Score RFM_SCORE Segment  \n",
       "Customer ID                                   \n",
       "12346.000                5        11      11  \n",
       "12347.000                5        55      55  \n",
       "12348.000                4        24      24  \n",
       "12349.000                4        41      41  \n",
       "12350.000                2        11      11  "
      ]
     },
     "execution_count": 32,
     "metadata": {},
     "output_type": "execute_result"
    }
   ],
   "source": [
    "rfm_df['Segment'] = rfm_df['RFM_SCORE']\n",
    "rfm_df.head()"
   ]
  },
  {
   "cell_type": "code",
   "execution_count": 33,
   "id": "aef8f232",
   "metadata": {
    "execution": {
     "iopub.execute_input": "2022-01-04T19:17:10.726482Z",
     "iopub.status.busy": "2022-01-04T19:17:10.725763Z",
     "iopub.status.idle": "2022-01-04T19:17:10.730742Z",
     "shell.execute_reply": "2022-01-04T19:17:10.731263Z",
     "shell.execute_reply.started": "2022-01-03T18:15:01.612558Z"
    },
    "papermill": {
     "duration": 0.057865,
     "end_time": "2022-01-04T19:17:10.731461",
     "exception": false,
     "start_time": "2022-01-04T19:17:10.673596",
     "status": "completed"
    },
    "tags": []
   },
   "outputs": [],
   "source": [
    "seg_map = {\n",
    "    r'[1-2][1-2]': 'hibernating',\n",
    "    r'[1-2][3-4]': 'at_Risk',\n",
    "    r'[1-2]5': 'cant_loose',\n",
    "    r'3[1-2]': 'about_to_sleep',\n",
    "    r'33': 'need_attention',\n",
    "    r'[3-4][4-5]': 'loyal_customers',\n",
    "    r'41': 'promising',\n",
    "    r'51': 'new_customers',\n",
    "    r'[4-5][2-3]': 'potential_loyalists',\n",
    "    r'5[4-5]': 'champions'\n",
    "}"
   ]
  },
  {
   "cell_type": "code",
   "execution_count": 34,
   "id": "86ce047a",
   "metadata": {
    "execution": {
     "iopub.execute_input": "2022-01-04T19:17:10.832520Z",
     "iopub.status.busy": "2022-01-04T19:17:10.831846Z",
     "iopub.status.idle": "2022-01-04T19:17:10.937584Z",
     "shell.execute_reply": "2022-01-04T19:17:10.936984Z",
     "shell.execute_reply.started": "2022-01-03T18:15:01.811457Z"
    },
    "papermill": {
     "duration": 0.157342,
     "end_time": "2022-01-04T19:17:10.937787",
     "exception": false,
     "start_time": "2022-01-04T19:17:10.780445",
     "status": "completed"
    },
    "tags": []
   },
   "outputs": [
    {
     "data": {
      "text/html": [
       "<div>\n",
       "<style scoped>\n",
       "    .dataframe tbody tr th:only-of-type {\n",
       "        vertical-align: middle;\n",
       "    }\n",
       "\n",
       "    .dataframe tbody tr th {\n",
       "        vertical-align: top;\n",
       "    }\n",
       "\n",
       "    .dataframe thead th {\n",
       "        text-align: right;\n",
       "    }\n",
       "</style>\n",
       "<table border=\"1\" class=\"dataframe\">\n",
       "  <thead>\n",
       "    <tr style=\"text-align: right;\">\n",
       "      <th></th>\n",
       "      <th>Customer ID</th>\n",
       "      <th>recency</th>\n",
       "      <th>frequency</th>\n",
       "      <th>monetary</th>\n",
       "      <th>Recency_Score</th>\n",
       "      <th>Frequency_Score</th>\n",
       "      <th>Monetary_Score</th>\n",
       "      <th>RFM_SCORE</th>\n",
       "      <th>Segment</th>\n",
       "    </tr>\n",
       "  </thead>\n",
       "  <tbody>\n",
       "    <tr>\n",
       "      <th>0</th>\n",
       "      <td>12346.000</td>\n",
       "      <td>327</td>\n",
       "      <td>1</td>\n",
       "      <td>77183.600</td>\n",
       "      <td>1</td>\n",
       "      <td>1</td>\n",
       "      <td>5</td>\n",
       "      <td>11</td>\n",
       "      <td>hibernating</td>\n",
       "    </tr>\n",
       "    <tr>\n",
       "      <th>1</th>\n",
       "      <td>12347.000</td>\n",
       "      <td>3</td>\n",
       "      <td>7</td>\n",
       "      <td>4167.780</td>\n",
       "      <td>5</td>\n",
       "      <td>5</td>\n",
       "      <td>5</td>\n",
       "      <td>55</td>\n",
       "      <td>champions</td>\n",
       "    </tr>\n",
       "    <tr>\n",
       "      <th>2</th>\n",
       "      <td>12348.000</td>\n",
       "      <td>76</td>\n",
       "      <td>4</td>\n",
       "      <td>1373.640</td>\n",
       "      <td>2</td>\n",
       "      <td>4</td>\n",
       "      <td>4</td>\n",
       "      <td>24</td>\n",
       "      <td>at_Risk</td>\n",
       "    </tr>\n",
       "    <tr>\n",
       "      <th>3</th>\n",
       "      <td>12349.000</td>\n",
       "      <td>20</td>\n",
       "      <td>1</td>\n",
       "      <td>1231.910</td>\n",
       "      <td>4</td>\n",
       "      <td>1</td>\n",
       "      <td>4</td>\n",
       "      <td>41</td>\n",
       "      <td>promising</td>\n",
       "    </tr>\n",
       "    <tr>\n",
       "      <th>4</th>\n",
       "      <td>12350.000</td>\n",
       "      <td>311</td>\n",
       "      <td>1</td>\n",
       "      <td>294.400</td>\n",
       "      <td>1</td>\n",
       "      <td>1</td>\n",
       "      <td>2</td>\n",
       "      <td>11</td>\n",
       "      <td>hibernating</td>\n",
       "    </tr>\n",
       "  </tbody>\n",
       "</table>\n",
       "</div>"
      ],
      "text/plain": [
       "   Customer ID  recency  frequency  monetary Recency_Score Frequency_Score  \\\n",
       "0    12346.000      327          1 77183.600             1               1   \n",
       "1    12347.000        3          7  4167.780             5               5   \n",
       "2    12348.000       76          4  1373.640             2               4   \n",
       "3    12349.000       20          1  1231.910             4               1   \n",
       "4    12350.000      311          1   294.400             1               1   \n",
       "\n",
       "  Monetary_Score RFM_SCORE      Segment  \n",
       "0              5        11  hibernating  \n",
       "1              5        55    champions  \n",
       "2              4        24      at_Risk  \n",
       "3              4        41    promising  \n",
       "4              2        11  hibernating  "
      ]
     },
     "execution_count": 34,
     "metadata": {},
     "output_type": "execute_result"
    }
   ],
   "source": [
    "rfm_df['Segment'] = rfm_df['Segment'].replace(seg_map, regex=True)\n",
    "rfm_df.reset_index(inplace=True)\n",
    "rfm_df.head()"
   ]
  },
  {
   "cell_type": "code",
   "execution_count": 35,
   "id": "ca2b9dd3",
   "metadata": {
    "execution": {
     "iopub.execute_input": "2022-01-04T19:17:11.064037Z",
     "iopub.status.busy": "2022-01-04T19:17:11.062803Z",
     "iopub.status.idle": "2022-01-04T19:17:11.076781Z",
     "shell.execute_reply": "2022-01-04T19:17:11.077428Z",
     "shell.execute_reply.started": "2022-01-03T18:15:02.020512Z"
    },
    "papermill": {
     "duration": 0.078871,
     "end_time": "2022-01-04T19:17:11.077621",
     "exception": false,
     "start_time": "2022-01-04T19:17:10.998750",
     "status": "completed"
    },
    "tags": []
   },
   "outputs": [
    {
     "data": {
      "text/html": [
       "<div>\n",
       "<style scoped>\n",
       "    .dataframe tbody tr th:only-of-type {\n",
       "        vertical-align: middle;\n",
       "    }\n",
       "\n",
       "    .dataframe tbody tr th {\n",
       "        vertical-align: top;\n",
       "    }\n",
       "\n",
       "    .dataframe thead th {\n",
       "        text-align: right;\n",
       "    }\n",
       "</style>\n",
       "<table border=\"1\" class=\"dataframe\">\n",
       "  <thead>\n",
       "    <tr style=\"text-align: right;\">\n",
       "      <th></th>\n",
       "      <th>Customer ID</th>\n",
       "    </tr>\n",
       "    <tr>\n",
       "      <th>Segment</th>\n",
       "      <th></th>\n",
       "    </tr>\n",
       "  </thead>\n",
       "  <tbody>\n",
       "    <tr>\n",
       "      <th>hibernating</th>\n",
       "      <td>1064</td>\n",
       "    </tr>\n",
       "    <tr>\n",
       "      <th>loyal_customers</th>\n",
       "      <td>818</td>\n",
       "    </tr>\n",
       "    <tr>\n",
       "      <th>champions</th>\n",
       "      <td>641</td>\n",
       "    </tr>\n",
       "    <tr>\n",
       "      <th>at_Risk</th>\n",
       "      <td>573</td>\n",
       "    </tr>\n",
       "    <tr>\n",
       "      <th>potential_loyalists</th>\n",
       "      <td>494</td>\n",
       "    </tr>\n",
       "    <tr>\n",
       "      <th>about_to_sleep</th>\n",
       "      <td>347</td>\n",
       "    </tr>\n",
       "    <tr>\n",
       "      <th>need_attention</th>\n",
       "      <td>184</td>\n",
       "    </tr>\n",
       "    <tr>\n",
       "      <th>promising</th>\n",
       "      <td>97</td>\n",
       "    </tr>\n",
       "    <tr>\n",
       "      <th>cant_loose</th>\n",
       "      <td>64</td>\n",
       "    </tr>\n",
       "    <tr>\n",
       "      <th>new_customers</th>\n",
       "      <td>43</td>\n",
       "    </tr>\n",
       "  </tbody>\n",
       "</table>\n",
       "</div>"
      ],
      "text/plain": [
       "                     Customer ID\n",
       "Segment                         \n",
       "hibernating                 1064\n",
       "loyal_customers              818\n",
       "champions                    641\n",
       "at_Risk                      573\n",
       "potential_loyalists          494\n",
       "about_to_sleep               347\n",
       "need_attention               184\n",
       "promising                     97\n",
       "cant_loose                    64\n",
       "new_customers                 43"
      ]
     },
     "execution_count": 35,
     "metadata": {},
     "output_type": "execute_result"
    }
   ],
   "source": [
    "rfm_df.groupby('Segment').agg({\"Customer ID\":\"count\"}).sort_values(\"Customer ID\",ascending=False)"
   ]
  },
  {
   "cell_type": "code",
   "execution_count": 36,
   "id": "35a0cfa5",
   "metadata": {
    "execution": {
     "iopub.execute_input": "2022-01-04T19:17:11.185524Z",
     "iopub.status.busy": "2022-01-04T19:17:11.184517Z",
     "iopub.status.idle": "2022-01-04T19:17:11.537602Z",
     "shell.execute_reply": "2022-01-04T19:17:11.538415Z",
     "shell.execute_reply.started": "2022-01-03T18:15:03.308587Z"
    },
    "papermill": {
     "duration": 0.411156,
     "end_time": "2022-01-04T19:17:11.538647",
     "exception": false,
     "start_time": "2022-01-04T19:17:11.127491",
     "status": "completed"
    },
    "tags": []
   },
   "outputs": [
    {
     "data": {
      "image/png": "[encoded data removed]",
      "text/plain": [
       "<Figure size 640x480 with 1 Axes>"
      ]
     },
     "metadata": {},
     "output_type": "display_data"
    }
   ],
   "source": [
    "colors  = (\"darkorange\", \"darkseagreen\", \"orange\", \"cyan\", \"cadetblue\", \"hotpink\", \"lightsteelblue\", \"coral\",  \"mediumaquamarine\",\"palegoldenrod\")\n",
    "explodes = [0.25, 0.25, 0.25, 0.25, 0.25, 0.25, 0.25, 0.25, 0.25, 0.25]\n",
    "\n",
    "rfm_df[\"Segment\"].value_counts(sort=False).plot.pie(colors=colors,\n",
    "                                                 textprops={'fontsize': 12}, \n",
    "                                                 autopct = '%4.1f',\n",
    "                                                 startangle= 90, \n",
    "                                                 radius =2, \n",
    "                                                 rotatelabels=True,\n",
    "                                                 shadow = True, \n",
    "                                                 explode = explodes)\n",
    "plt.ylabel(\"\");\n"
   ]
  },
  {
   "cell_type": "markdown",
   "id": "a8158c9f",
   "metadata": {
    "papermill": {
     "duration": 0.051883,
     "end_time": "2022-01-04T19:17:11.647137",
     "exception": false,
     "start_time": "2022-01-04T19:17:11.595254",
     "status": "completed"
    },
    "tags": []
   },
   "source": [
    "***Build Marketing Strategies***"
   ]
  },
  {
   "cell_type": "code",
   "execution_count": 37,
   "id": "40a60ea0",
   "metadata": {
    "execution": {
     "iopub.execute_input": "2022-01-04T19:17:11.762466Z",
     "iopub.status.busy": "2022-01-04T19:17:11.761744Z",
     "iopub.status.idle": "2022-01-04T19:17:11.774391Z",
     "shell.execute_reply": "2022-01-04T19:17:11.774927Z",
     "shell.execute_reply.started": "2021-11-21T23:34:47.060957Z"
    },
    "papermill": {
     "duration": 0.074591,
     "end_time": "2022-01-04T19:17:11.775104",
     "exception": false,
     "start_time": "2022-01-04T19:17:11.700513",
     "status": "completed"
    },
    "tags": []
   },
   "outputs": [
    {
     "data": {
      "text/html": [
       "<div>\n",
       "<style scoped>\n",
       "    .dataframe tbody tr th:only-of-type {\n",
       "        vertical-align: middle;\n",
       "    }\n",
       "\n",
       "    .dataframe tbody tr th {\n",
       "        vertical-align: top;\n",
       "    }\n",
       "\n",
       "    .dataframe thead th {\n",
       "        text-align: right;\n",
       "    }\n",
       "</style>\n",
       "<table border=\"1\" class=\"dataframe\">\n",
       "  <thead>\n",
       "    <tr style=\"text-align: right;\">\n",
       "      <th></th>\n",
       "      <th>recency</th>\n",
       "      <th>frequency</th>\n",
       "      <th>monetary</th>\n",
       "    </tr>\n",
       "  </thead>\n",
       "  <tbody>\n",
       "    <tr>\n",
       "      <th>mean</th>\n",
       "      <td>93.327</td>\n",
       "      <td>4.230</td>\n",
       "      <td>1803.687</td>\n",
       "    </tr>\n",
       "  </tbody>\n",
       "</table>\n",
       "</div>"
      ],
      "text/plain": [
       "      recency  frequency  monetary\n",
       "mean   93.327      4.230  1803.687"
      ]
     },
     "execution_count": 37,
     "metadata": {},
     "output_type": "execute_result"
    }
   ],
   "source": [
    "rfm_df[[\"recency\", \"frequency\", \"monetary\"]].agg([\"mean\"])"
   ]
  },
  {
   "cell_type": "code",
   "execution_count": 38,
   "id": "953e793c",
   "metadata": {
    "execution": {
     "iopub.execute_input": "2022-01-04T19:17:11.884111Z",
     "iopub.status.busy": "2022-01-04T19:17:11.883437Z",
     "iopub.status.idle": "2022-01-04T19:17:11.914809Z",
     "shell.execute_reply": "2022-01-04T19:17:11.915306Z",
     "shell.execute_reply.started": "2021-11-21T23:34:47.079658Z"
    },
    "papermill": {
     "duration": 0.087048,
     "end_time": "2022-01-04T19:17:11.915490",
     "exception": false,
     "start_time": "2022-01-04T19:17:11.828442",
     "status": "completed"
    },
    "tags": []
   },
   "outputs": [
    {
     "data": {
      "text/html": [
       "<div>\n",
       "<style scoped>\n",
       "    .dataframe tbody tr th:only-of-type {\n",
       "        vertical-align: middle;\n",
       "    }\n",
       "\n",
       "    .dataframe tbody tr th {\n",
       "        vertical-align: top;\n",
       "    }\n",
       "\n",
       "    .dataframe thead tr th {\n",
       "        text-align: left;\n",
       "    }\n",
       "\n",
       "    .dataframe thead tr:last-of-type th {\n",
       "        text-align: right;\n",
       "    }\n",
       "</style>\n",
       "<table border=\"1\" class=\"dataframe\">\n",
       "  <thead>\n",
       "    <tr>\n",
       "      <th></th>\n",
       "      <th colspan=\"3\" halign=\"left\">recency</th>\n",
       "      <th colspan=\"3\" halign=\"left\">frequency</th>\n",
       "      <th colspan=\"3\" halign=\"left\">monetary</th>\n",
       "    </tr>\n",
       "    <tr>\n",
       "      <th></th>\n",
       "      <th>mean</th>\n",
       "      <th>count</th>\n",
       "      <th>sum</th>\n",
       "      <th>mean</th>\n",
       "      <th>count</th>\n",
       "      <th>sum</th>\n",
       "      <th>mean</th>\n",
       "      <th>count</th>\n",
       "      <th>sum</th>\n",
       "    </tr>\n",
       "    <tr>\n",
       "      <th>Segment</th>\n",
       "      <th></th>\n",
       "      <th></th>\n",
       "      <th></th>\n",
       "      <th></th>\n",
       "      <th></th>\n",
       "      <th></th>\n",
       "      <th></th>\n",
       "      <th></th>\n",
       "      <th></th>\n",
       "    </tr>\n",
       "  </thead>\n",
       "  <tbody>\n",
       "    <tr>\n",
       "      <th>about_to_sleep</th>\n",
       "      <td>54.553</td>\n",
       "      <td>347</td>\n",
       "      <td>18930</td>\n",
       "      <td>1.150</td>\n",
       "      <td>347</td>\n",
       "      <td>399</td>\n",
       "      <td>396.453</td>\n",
       "      <td>347</td>\n",
       "      <td>137569.090</td>\n",
       "    </tr>\n",
       "    <tr>\n",
       "      <th>at_Risk</th>\n",
       "      <td>155.824</td>\n",
       "      <td>573</td>\n",
       "      <td>89287</td>\n",
       "      <td>2.836</td>\n",
       "      <td>573</td>\n",
       "      <td>1625</td>\n",
       "      <td>864.408</td>\n",
       "      <td>573</td>\n",
       "      <td>495305.802</td>\n",
       "    </tr>\n",
       "    <tr>\n",
       "      <th>cant_loose</th>\n",
       "      <td>136.109</td>\n",
       "      <td>64</td>\n",
       "      <td>8711</td>\n",
       "      <td>8.281</td>\n",
       "      <td>64</td>\n",
       "      <td>530</td>\n",
       "      <td>2461.274</td>\n",
       "      <td>64</td>\n",
       "      <td>157521.520</td>\n",
       "    </tr>\n",
       "    <tr>\n",
       "      <th>champions</th>\n",
       "      <td>7.039</td>\n",
       "      <td>641</td>\n",
       "      <td>4512</td>\n",
       "      <td>12.165</td>\n",
       "      <td>641</td>\n",
       "      <td>7798</td>\n",
       "      <td>5979.933</td>\n",
       "      <td>641</td>\n",
       "      <td>3833136.850</td>\n",
       "    </tr>\n",
       "    <tr>\n",
       "      <th>hibernating</th>\n",
       "      <td>218.144</td>\n",
       "      <td>1064</td>\n",
       "      <td>232105</td>\n",
       "      <td>1.098</td>\n",
       "      <td>1064</td>\n",
       "      <td>1168</td>\n",
       "      <td>444.074</td>\n",
       "      <td>1064</td>\n",
       "      <td>472494.411</td>\n",
       "    </tr>\n",
       "    <tr>\n",
       "      <th>loyal_customers</th>\n",
       "      <td>34.787</td>\n",
       "      <td>818</td>\n",
       "      <td>28456</td>\n",
       "      <td>6.383</td>\n",
       "      <td>818</td>\n",
       "      <td>5221</td>\n",
       "      <td>2496.049</td>\n",
       "      <td>818</td>\n",
       "      <td>2041768.481</td>\n",
       "    </tr>\n",
       "    <tr>\n",
       "      <th>need_attention</th>\n",
       "      <td>54.092</td>\n",
       "      <td>184</td>\n",
       "      <td>9953</td>\n",
       "      <td>2.299</td>\n",
       "      <td>184</td>\n",
       "      <td>423</td>\n",
       "      <td>788.853</td>\n",
       "      <td>184</td>\n",
       "      <td>145148.880</td>\n",
       "    </tr>\n",
       "    <tr>\n",
       "      <th>new_customers</th>\n",
       "      <td>8.070</td>\n",
       "      <td>43</td>\n",
       "      <td>347</td>\n",
       "      <td>1.000</td>\n",
       "      <td>43</td>\n",
       "      <td>43</td>\n",
       "      <td>344.076</td>\n",
       "      <td>43</td>\n",
       "      <td>14795.270</td>\n",
       "    </tr>\n",
       "    <tr>\n",
       "      <th>potential_loyalists</th>\n",
       "      <td>18.130</td>\n",
       "      <td>494</td>\n",
       "      <td>8956</td>\n",
       "      <td>2.002</td>\n",
       "      <td>494</td>\n",
       "      <td>989</td>\n",
       "      <td>956.580</td>\n",
       "      <td>494</td>\n",
       "      <td>472550.400</td>\n",
       "    </tr>\n",
       "    <tr>\n",
       "      <th>promising</th>\n",
       "      <td>24.567</td>\n",
       "      <td>97</td>\n",
       "      <td>2383</td>\n",
       "      <td>1.000</td>\n",
       "      <td>97</td>\n",
       "      <td>97</td>\n",
       "      <td>316.026</td>\n",
       "      <td>97</td>\n",
       "      <td>30654.500</td>\n",
       "    </tr>\n",
       "  </tbody>\n",
       "</table>\n",
       "</div>"
      ],
      "text/plain": [
       "                    recency               frequency             monetary  \\\n",
       "                       mean count     sum      mean count   sum     mean   \n",
       "Segment                                                                    \n",
       "about_to_sleep       54.553   347   18930     1.150   347   399  396.453   \n",
       "at_Risk             155.824   573   89287     2.836   573  1625  864.408   \n",
       "cant_loose          136.109    64    8711     8.281    64   530 2461.274   \n",
       "champions             7.039   641    4512    12.165   641  7798 5979.933   \n",
       "hibernating         218.144  1064  232105     1.098  1064  1168  444.074   \n",
       "loyal_customers      34.787   818   28456     6.383   818  5221 2496.049   \n",
       "need_attention       54.092   184    9953     2.299   184   423  788.853   \n",
       "new_customers         8.070    43     347     1.000    43    43  344.076   \n",
       "potential_loyalists  18.130   494    8956     2.002   494   989  956.580   \n",
       "promising            24.567    97    2383     1.000    97    97  316.026   \n",
       "\n",
       "                                       \n",
       "                    count         sum  \n",
       "Segment                                \n",
       "about_to_sleep        347  137569.090  \n",
       "at_Risk               573  495305.802  \n",
       "cant_loose             64  157521.520  \n",
       "champions             641 3833136.850  \n",
       "hibernating          1064  472494.411  \n",
       "loyal_customers       818 2041768.481  \n",
       "need_attention        184  145148.880  \n",
       "new_customers          43   14795.270  \n",
       "potential_loyalists   494  472550.400  \n",
       "promising              97   30654.500  "
      ]
     },
     "execution_count": 38,
     "metadata": {},
     "output_type": "execute_result"
    }
   ],
   "source": [
    "rfm_df[[\"Segment\",\"recency\", \"frequency\", \"monetary\"]].groupby(\"Segment\").agg([\"mean\", \"count\",\"sum\"])"
   ]
  },
  {
   "cell_type": "markdown",
   "id": "9ce43cb9",
   "metadata": {
    "papermill": {
     "duration": 0.054465,
     "end_time": "2022-01-04T19:17:12.022980",
     "exception": false,
     "start_time": "2022-01-04T19:17:11.968515",
     "status": "completed"
    },
    "tags": []
   },
   "source": [
    "Now, let's focus on some segments which can be critically important for marketing strategies\n",
    "\n",
    "* champions\n",
    "* loyal_customers\n",
    "* cant_loose\n",
    "* need_attention \n",
    "\n"
   ]
  },
  {
   "cell_type": "markdown",
   "id": "3bc4218d",
   "metadata": {
    "papermill": {
     "duration": 0.052985,
     "end_time": "2022-01-04T19:17:12.129686",
     "exception": false,
     "start_time": "2022-01-04T19:17:12.076701",
     "status": "completed"
    },
    "tags": []
   },
   "source": [
    "* **Champions:**\n",
    "\n",
    "This segment constitutes 15% of the customer portfolio and also it includes 641 customers who have made their last purchases within the last week and generate an average turnover of 6000 TL. Because of this segment consists of customers  most frequently spends and can easily  adopt to new products and services, cross-sales strategies can be taken for this segment.\n",
    "\n"
   ]
  },
  {
   "cell_type": "markdown",
   "id": "e7a19d6b",
   "metadata": {
    "papermill": {
     "duration": 0.052815,
     "end_time": "2022-01-04T19:17:12.235841",
     "exception": false,
     "start_time": "2022-01-04T19:17:12.183026",
     "status": "completed"
    },
    "tags": []
   },
   "source": [
    "* **Loyal Customers:**\n",
    "\n",
    "There are 818 customers in this segment, and while the purchasing frequency is 4 on average in all customer segments, it has been seen that average purchases are 2 times higher in this segment (average of frequency is 8). The average monetary value of this segment is 50% above the general average. \n",
    "\n",
    "As a conclusion,  in order to ensure customer loyalty sustainable, cross-sell communications in line with customer expectations and needs can be organized for this segment.\n",
    "\n",
    "\n",
    "\n",
    "\n"
   ]
  },
  {
   "cell_type": "markdown",
   "id": "c507630c",
   "metadata": {
    "papermill": {
     "duration": 0.052702,
     "end_time": "2022-01-04T19:17:12.341407",
     "exception": false,
     "start_time": "2022-01-04T19:17:12.288705",
     "status": "completed"
    },
    "tags": []
   },
   "source": [
    "* **Need_Attention:**\n",
    "\n",
    "\n",
    "There are 184 customers that last purchased nearly 2 months ago in this segment. Although they dont make purchase frequently,  total transaction amounts of these customers contribute to profitability. \n",
    "\n",
    "As a result, Cashback and bonus campaigns can be organized for this segment to retain customers and even move them to a segment that makes more purchases. In fact, discounted product offers and campaigns based on gift coupons can be planned  by observing  habits of other customers with similar behaviors, and analyzing according product association rules."
   ]
  },
  {
   "cell_type": "markdown",
   "id": "a07bab9d",
   "metadata": {
    "papermill": {
     "duration": 0.052826,
     "end_time": "2022-01-04T19:17:12.447413",
     "exception": false,
     "start_time": "2022-01-04T19:17:12.394587",
     "status": "completed"
    },
    "tags": []
   },
   "source": [
    "* **Can't_loose:** \n",
    "\n",
    "Customers of Can't_Loose segment have a higher transaction frequency, even though their spending amounts are close to the loyal customer segment. However, since these customers are nearly lost customers that made last purchases nearly 4 months ago.\n",
    "\n",
    "So, new campaign strategies based on rewards, discounts, and other special incentives as a way to attract and retain customers can be planned in order to make them feel special and loyal again. "
   ]
  }
 ],
 "metadata": {
  "kernelspec": {
   "display_name": "Python 3.7.13 ('BCG')",
   "language": "python",
   "name": "python3"
  },
  "language_info": {
   "codemirror_mode": {
    "name": "ipython",
    "version": 3
   },
   "file_extension": ".py",
   "mimetype": "text/x-python",
   "name": "python",
   "nbconvert_exporter": "python",
   "pygments_lexer": "ipython3",
   "version": "3.7.13"
  },
  "papermill": {
   "default_parameters": {},
   "duration": 25.967148,
   "end_time": "2022-01-04T19:17:13.734281",
   "environment_variables": {},
   "exception": null,
   "input_path": "__notebook__.ipynb",
   "output_path": "__notebook__.ipynb",
   "parameters": {},
   "start_time": "2022-01-04T19:16:47.767133",
   "version": "2.3.3"
  },
  "vscode": {
   "interpreter": {
    "hash": "f587980aed85386828983447eebead6955e950331a8a89d818b794d6ecd4d907"
   }
  }
 },
 "nbformat": 4,
 "nbformat_minor": 5
}
