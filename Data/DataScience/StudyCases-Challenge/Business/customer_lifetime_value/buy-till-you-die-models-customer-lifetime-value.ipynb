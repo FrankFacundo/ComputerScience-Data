{
 "cells": [
  {
   "cell_type": "markdown",
   "metadata": {
    "papermill": {
     "duration": 0.015617,
     "end_time": "2021-02-06T11:59:01.877099",
     "exception": false,
     "start_time": "2021-02-06T11:59:01.861482",
     "status": "completed"
    },
    "tags": []
   },
   "source": [
    "# **Buy Till You Die Models: Customer Lifetime Value**"
   ]
  },
  {
   "cell_type": "markdown",
   "metadata": {
    "papermill": {
     "duration": 0.014753,
     "end_time": "2021-02-06T11:59:01.906549",
     "exception": false,
     "start_time": "2021-02-06T11:59:01.891796",
     "status": "completed"
    },
    "tags": []
   },
   "source": [
    "<p><img style=\"float: left;margin:20px 10px 5px 1px; max-width:380px\" src=\"https://i.ytimg.com/vi/l_xwYM2KNX0/maxresdefault.jpg\"></p>\n",
    "<p> The Buy Till You Die (BTYD) class of statistical models is designed to predict the behavioral characteristics of customers. The main purpose is to model and forecast customer lifetime value. </p>\n",
    "<p> Customer lifetime value (CLTV or CLV) can be defined as the present value of a customer for the company based on projected future cash flows from the customer relationship. CLTV represents the total amount of money spent on the business or products over lifetime of a customer.</p>\n",
    "<p> In this notebook, I'll try to apply a BTYD model on an online retail dataset to make a 1-year CLTV prediction.</p> \n",
    "<p> For more information about CLV, check https://www.araoo.fr/blog/data-conversion/cutomer-lifetime-value/ </p>"
   ]
  },
  {
   "cell_type": "markdown",
   "metadata": {
    "papermill": {
     "duration": 0.013992,
     "end_time": "2021-02-06T11:59:01.934814",
     "exception": false,
     "start_time": "2021-02-06T11:59:01.920822",
     "status": "completed"
    },
    "tags": []
   },
   "source": [
    "## 1. Loading the Dataset & Checking Variables"
   ]
  },
  {
   "cell_type": "markdown",
   "metadata": {
    "papermill": {
     "duration": 0.014215,
     "end_time": "2021-02-06T11:59:01.963315",
     "exception": false,
     "start_time": "2021-02-06T11:59:01.949100",
     "status": "completed"
    },
    "tags": []
   },
   "source": [
    "\n",
    "### ****Content of Dataset****\n",
    "\n",
    "This Online Retail II data set contains all the transactions occurring for a UK-based and registered, non-store online retail between 01/12/2009 and 09/12/2011.The company mainly sells unique all-occasion gift-ware. Many customers of the company are wholesalers.\n",
    "\n",
    "Source:\n",
    "\n",
    "    https://www.kaggle.com/datasets/mathchi/online-retail-ii-data-set-from-ml-repository\n",
    "    https://archive.ics.uci.edu/ml/datasets/Online+Retail+II\n"
   ]
  },
  {
   "cell_type": "markdown",
   "metadata": {
    "papermill": {
     "duration": 0.013987,
     "end_time": "2021-02-06T11:59:01.991827",
     "exception": false,
     "start_time": "2021-02-06T11:59:01.977840",
     "status": "completed"
    },
    "tags": []
   },
   "source": [
    "### ****Definiton of Variables****\n",
    "1. **Invoice:** Invoice number, unique identifier variable for each transaction. Refund invoice numbers starts with \"C\"\n",
    "2. **StockCode:** Unique product code\n",
    "3. **Description:** Product name\n",
    "4. **Quantity:** The number of product in the invoice\n",
    "5. **InvoiceDate:** Date and time of the purchase\n",
    "6. **Price:** Unit price of a product (in terms of Sterlin)\n",
    "7. **CustomerID:** Unique customer identifier\n",
    "8. **Country:** Residential country of customers"
   ]
  },
  {
   "cell_type": "code",
   "execution_count": 2,
   "metadata": {
    "_kg_hide-output": true,
    "collapsed": true,
    "execution": {
     "iopub.execute_input": "2021-02-06T11:59:02.025440Z",
     "iopub.status.busy": "2021-02-06T11:59:02.024743Z",
     "iopub.status.idle": "2021-02-06T11:59:12.074131Z",
     "shell.execute_reply": "2021-02-06T11:59:12.073396Z"
    },
    "papermill": {
     "duration": 10.066683,
     "end_time": "2021-02-06T11:59:12.074356",
     "exception": false,
     "start_time": "2021-02-06T11:59:02.007673",
     "status": "completed"
    },
    "tags": []
   },
   "outputs": [
    {
     "name": "stdout",
     "output_type": "stream",
     "text": [
      "Collecting openpyxl\n",
      "  Using cached openpyxl-3.0.10-py2.py3-none-any.whl (242 kB)\n",
      "Collecting et-xmlfile\n",
      "  Using cached et_xmlfile-1.1.0-py3-none-any.whl (4.7 kB)\n",
      "Installing collected packages: et-xmlfile, openpyxl\n",
      "Successfully installed et-xmlfile-1.1.0 openpyxl-3.0.10\n",
      "Note: you may need to restart the kernel to use updated packages.\n"
     ]
    }
   ],
   "source": [
    "pip install openpyxl\n",
    "pip install xlrd\n",
    "pip install lifetimes\n",
    "# Successor of lifetimes -> pip install btyd"
   ]
  },
  {
   "cell_type": "code",
   "execution_count": 25,
   "metadata": {
    "execution": {
     "iopub.execute_input": "2021-02-06T11:59:18.582905Z",
     "iopub.status.busy": "2021-02-06T11:59:18.582336Z",
     "iopub.status.idle": "2021-02-06T11:59:18.585233Z",
     "shell.execute_reply": "2021-02-06T11:59:18.584808Z"
    },
    "papermill": {
     "duration": 0.028645,
     "end_time": "2021-02-06T11:59:18.585384",
     "exception": false,
     "start_time": "2021-02-06T11:59:18.556739",
     "status": "completed"
    },
    "tags": []
   },
   "outputs": [],
   "source": [
    "# Loading the required libraries\n",
    "import datetime as dt\n",
    "import pandas as pd\n",
    "import matplotlib.pyplot as plt\n",
    "\n",
    "from os import path"
   ]
  },
  {
   "cell_type": "code",
   "execution_count": 23,
   "metadata": {},
   "outputs": [],
   "source": [
    "# Download dataset\n",
    "import requests\n",
    "from tqdm import tqdm\n",
    "\n",
    "def download_file_from_google_drive(id, destination):\n",
    "    URL = \"https://docs.google.com/uc?export=download\"\n",
    "\n",
    "    session = requests.Session()\n",
    "\n",
    "    response = session.get(URL, params = { 'id' : id }, stream = True)\n",
    "    token = get_confirm_token(response)\n",
    "\n",
    "    if token:\n",
    "        params = { 'id' : id, 'confirm' : token }\n",
    "        response = session.get(URL, params = params, stream = True)\n",
    "\n",
    "    save_response_content(response, destination)    \n",
    "\n",
    "def get_confirm_token(response):\n",
    "    for key, value in response.cookies.items():\n",
    "        if key.startswith('download_warning'):\n",
    "            return value\n",
    "\n",
    "    return None\n",
    "\n",
    "def save_response_content(response, destination):\n",
    "    CHUNK_SIZE = 32768\n",
    "\n",
    "    with open(destination, \"wb\") as f:\n",
    "        for chunk in tqdm(response.iter_content(CHUNK_SIZE)):\n",
    "            if chunk: # filter out keep-alive new chunks\n",
    "                f.write(chunk)"
   ]
  },
  {
   "cell_type": "code",
   "execution_count": 51,
   "metadata": {},
   "outputs": [],
   "source": [
    "if not path.exists(\"online_retail_II.xlsx\"):\n",
    "    # Another option to download is gdown -> \"pip install gdown\"\n",
    "    download_file_from_google_drive(\"1A5H4fZ38NxWLyX7wedINghC1iPRb9LzD\", \"online_retail_II.xlsx\")"
   ]
  },
  {
   "cell_type": "code",
   "execution_count": 62,
   "metadata": {},
   "outputs": [],
   "source": [
    "# Reading the online retail dataset\n",
    "df_ = pd.read_excel(\"online_retail_II.xlsx\",sheet_name=\"Year 2010-2011\")"
   ]
  },
  {
   "cell_type": "code",
   "execution_count": 80,
   "metadata": {
    "execution": {
     "iopub.execute_input": "2021-02-06T11:59:18.634507Z",
     "iopub.status.busy": "2021-02-06T11:59:18.633910Z",
     "iopub.status.idle": "2021-02-06T12:00:38.005014Z",
     "shell.execute_reply": "2021-02-06T12:00:38.005503Z"
    },
    "papermill": {
     "duration": 79.397932,
     "end_time": "2021-02-06T12:00:38.005682",
     "exception": false,
     "start_time": "2021-02-06T11:59:18.607750",
     "status": "completed"
    },
    "tags": []
   },
   "outputs": [
    {
     "data": {
      "text/html": [
       "<div>\n",
       "<style scoped>\n",
       "    .dataframe tbody tr th:only-of-type {\n",
       "        vertical-align: middle;\n",
       "    }\n",
       "\n",
       "    .dataframe tbody tr th {\n",
       "        vertical-align: top;\n",
       "    }\n",
       "\n",
       "    .dataframe thead th {\n",
       "        text-align: right;\n",
       "    }\n",
       "</style>\n",
       "<table border=\"1\" class=\"dataframe\">\n",
       "  <thead>\n",
       "    <tr style=\"text-align: right;\">\n",
       "      <th></th>\n",
       "      <th>Invoice</th>\n",
       "      <th>StockCode</th>\n",
       "      <th>Description</th>\n",
       "      <th>Quantity</th>\n",
       "      <th>InvoiceDate</th>\n",
       "      <th>Price</th>\n",
       "      <th>Customer ID</th>\n",
       "      <th>Country</th>\n",
       "    </tr>\n",
       "  </thead>\n",
       "  <tbody>\n",
       "    <tr>\n",
       "      <th>0</th>\n",
       "      <td>536365</td>\n",
       "      <td>85123A</td>\n",
       "      <td>WHITE HANGING HEART T-LIGHT HOLDER</td>\n",
       "      <td>6</td>\n",
       "      <td>2010-12-01 08:26:00</td>\n",
       "      <td>2.55</td>\n",
       "      <td>17850.0</td>\n",
       "      <td>United Kingdom</td>\n",
       "    </tr>\n",
       "    <tr>\n",
       "      <th>1</th>\n",
       "      <td>536365</td>\n",
       "      <td>71053</td>\n",
       "      <td>WHITE METAL LANTERN</td>\n",
       "      <td>6</td>\n",
       "      <td>2010-12-01 08:26:00</td>\n",
       "      <td>3.39</td>\n",
       "      <td>17850.0</td>\n",
       "      <td>United Kingdom</td>\n",
       "    </tr>\n",
       "    <tr>\n",
       "      <th>2</th>\n",
       "      <td>536365</td>\n",
       "      <td>84406B</td>\n",
       "      <td>CREAM CUPID HEARTS COAT HANGER</td>\n",
       "      <td>8</td>\n",
       "      <td>2010-12-01 08:26:00</td>\n",
       "      <td>2.75</td>\n",
       "      <td>17850.0</td>\n",
       "      <td>United Kingdom</td>\n",
       "    </tr>\n",
       "    <tr>\n",
       "      <th>3</th>\n",
       "      <td>536365</td>\n",
       "      <td>84029G</td>\n",
       "      <td>KNITTED UNION FLAG HOT WATER BOTTLE</td>\n",
       "      <td>6</td>\n",
       "      <td>2010-12-01 08:26:00</td>\n",
       "      <td>3.39</td>\n",
       "      <td>17850.0</td>\n",
       "      <td>United Kingdom</td>\n",
       "    </tr>\n",
       "    <tr>\n",
       "      <th>4</th>\n",
       "      <td>536365</td>\n",
       "      <td>84029E</td>\n",
       "      <td>RED WOOLLY HOTTIE WHITE HEART.</td>\n",
       "      <td>6</td>\n",
       "      <td>2010-12-01 08:26:00</td>\n",
       "      <td>3.39</td>\n",
       "      <td>17850.0</td>\n",
       "      <td>United Kingdom</td>\n",
       "    </tr>\n",
       "  </tbody>\n",
       "</table>\n",
       "</div>"
      ],
      "text/plain": [
       "  Invoice StockCode                          Description  Quantity  \\\n",
       "0  536365    85123A   WHITE HANGING HEART T-LIGHT HOLDER         6   \n",
       "1  536365     71053                  WHITE METAL LANTERN         6   \n",
       "2  536365    84406B       CREAM CUPID HEARTS COAT HANGER         8   \n",
       "3  536365    84029G  KNITTED UNION FLAG HOT WATER BOTTLE         6   \n",
       "4  536365    84029E       RED WOOLLY HOTTIE WHITE HEART.         6   \n",
       "\n",
       "          InvoiceDate  Price  Customer ID         Country  \n",
       "0 2010-12-01 08:26:00   2.55      17850.0  United Kingdom  \n",
       "1 2010-12-01 08:26:00   3.39      17850.0  United Kingdom  \n",
       "2 2010-12-01 08:26:00   2.75      17850.0  United Kingdom  \n",
       "3 2010-12-01 08:26:00   3.39      17850.0  United Kingdom  \n",
       "4 2010-12-01 08:26:00   3.39      17850.0  United Kingdom  "
      ]
     },
     "execution_count": 80,
     "metadata": {},
     "output_type": "execute_result"
    }
   ],
   "source": [
    "# Copying the online retail dataset \n",
    "df = df_.copy()\n",
    "df.head()"
   ]
  },
  {
   "cell_type": "code",
   "execution_count": 81,
   "metadata": {
    "execution": {
     "iopub.execute_input": "2021-02-06T12:00:38.063497Z",
     "iopub.status.busy": "2021-02-06T12:00:38.062562Z",
     "iopub.status.idle": "2021-02-06T12:00:38.132503Z",
     "shell.execute_reply": "2021-02-06T12:00:38.131631Z"
    },
    "papermill": {
     "duration": 0.105552,
     "end_time": "2021-02-06T12:00:38.132652",
     "exception": false,
     "start_time": "2021-02-06T12:00:38.027100",
     "status": "completed"
    },
    "scrolled": true,
    "tags": []
   },
   "outputs": [
    {
     "data": {
      "text/html": [
       "<div>\n",
       "<style scoped>\n",
       "    .dataframe tbody tr th:only-of-type {\n",
       "        vertical-align: middle;\n",
       "    }\n",
       "\n",
       "    .dataframe tbody tr th {\n",
       "        vertical-align: top;\n",
       "    }\n",
       "\n",
       "    .dataframe thead th {\n",
       "        text-align: right;\n",
       "    }\n",
       "</style>\n",
       "<table border=\"1\" class=\"dataframe\">\n",
       "  <thead>\n",
       "    <tr style=\"text-align: right;\">\n",
       "      <th></th>\n",
       "      <th>count</th>\n",
       "      <th>mean</th>\n",
       "      <th>std</th>\n",
       "      <th>min</th>\n",
       "      <th>25%</th>\n",
       "      <th>50%</th>\n",
       "      <th>75%</th>\n",
       "      <th>max</th>\n",
       "    </tr>\n",
       "  </thead>\n",
       "  <tbody>\n",
       "    <tr>\n",
       "      <th>Quantity</th>\n",
       "      <td>541910.0</td>\n",
       "      <td>9.552234</td>\n",
       "      <td>218.080957</td>\n",
       "      <td>-80995.00</td>\n",
       "      <td>1.00</td>\n",
       "      <td>3.00</td>\n",
       "      <td>10.00</td>\n",
       "      <td>80995.0</td>\n",
       "    </tr>\n",
       "    <tr>\n",
       "      <th>Price</th>\n",
       "      <td>541910.0</td>\n",
       "      <td>4.611138</td>\n",
       "      <td>96.759765</td>\n",
       "      <td>-11062.06</td>\n",
       "      <td>1.25</td>\n",
       "      <td>2.08</td>\n",
       "      <td>4.13</td>\n",
       "      <td>38970.0</td>\n",
       "    </tr>\n",
       "    <tr>\n",
       "      <th>Customer ID</th>\n",
       "      <td>406830.0</td>\n",
       "      <td>15287.684160</td>\n",
       "      <td>1713.603074</td>\n",
       "      <td>12346.00</td>\n",
       "      <td>13953.00</td>\n",
       "      <td>15152.00</td>\n",
       "      <td>16791.00</td>\n",
       "      <td>18287.0</td>\n",
       "    </tr>\n",
       "  </tbody>\n",
       "</table>\n",
       "</div>"
      ],
      "text/plain": [
       "                count          mean          std       min       25%  \\\n",
       "Quantity     541910.0      9.552234   218.080957 -80995.00      1.00   \n",
       "Price        541910.0      4.611138    96.759765 -11062.06      1.25   \n",
       "Customer ID  406830.0  15287.684160  1713.603074  12346.00  13953.00   \n",
       "\n",
       "                  50%       75%      max  \n",
       "Quantity         3.00     10.00  80995.0  \n",
       "Price            2.08      4.13  38970.0  \n",
       "Customer ID  15152.00  16791.00  18287.0  "
      ]
     },
     "execution_count": 81,
     "metadata": {},
     "output_type": "execute_result"
    }
   ],
   "source": [
    "# Checking numerical variables\n",
    "df.describe().T"
   ]
  },
  {
   "cell_type": "markdown",
   "metadata": {
    "papermill": {
     "duration": 0.022033,
     "end_time": "2021-02-06T12:00:38.176738",
     "exception": false,
     "start_time": "2021-02-06T12:00:38.154705",
     "status": "completed"
    },
    "tags": []
   },
   "source": [
    "<p> When we look at the descriptive statistics of numerical variables, we can see that there are negative values in the Quantity and Price columns. These transactions are canceled orders. In the next step (data preprocessing), we'll eliminate these observations."
   ]
  },
  {
   "cell_type": "code",
   "execution_count": 82,
   "metadata": {
    "execution": {
     "iopub.execute_input": "2021-02-06T12:00:38.224829Z",
     "iopub.status.busy": "2021-02-06T12:00:38.224190Z",
     "iopub.status.idle": "2021-02-06T12:00:38.335432Z",
     "shell.execute_reply": "2021-02-06T12:00:38.334890Z"
    },
    "papermill": {
     "duration": 0.136762,
     "end_time": "2021-02-06T12:00:38.335573",
     "exception": false,
     "start_time": "2021-02-06T12:00:38.198811",
     "status": "completed"
    },
    "scrolled": true,
    "tags": []
   },
   "outputs": [
    {
     "data": {
      "text/plain": [
       "Invoice             0\n",
       "StockCode           0\n",
       "Description      1454\n",
       "Quantity            0\n",
       "InvoiceDate         0\n",
       "Price               0\n",
       "Customer ID    135080\n",
       "Country             0\n",
       "dtype: int64"
      ]
     },
     "execution_count": 82,
     "metadata": {},
     "output_type": "execute_result"
    }
   ],
   "source": [
    "# Checking null variables \n",
    "df.isna().sum()"
   ]
  },
  {
   "cell_type": "markdown",
   "metadata": {
    "papermill": {
     "duration": 0.021909,
     "end_time": "2021-02-06T12:00:38.379686",
     "exception": false,
     "start_time": "2021-02-06T12:00:38.357777",
     "status": "completed"
    },
    "tags": []
   },
   "source": [
    "There are null observations in the dataset, especially in the Customer ID column. Since this analysis will be consumer-based, we need to remove these observations from the dataset. Therefore, we will  eliminate these observations in the next step (data preprocessing)."
   ]
  },
  {
   "cell_type": "markdown",
   "metadata": {
    "papermill": {
     "duration": 0.022449,
     "end_time": "2021-02-06T12:00:38.424631",
     "exception": false,
     "start_time": "2021-02-06T12:00:38.402182",
     "status": "completed"
    },
    "tags": []
   },
   "source": [
    "## 2. Data Preprocessing"
   ]
  },
  {
   "cell_type": "code",
   "execution_count": 83,
   "metadata": {
    "execution": {
     "iopub.execute_input": "2021-02-06T12:00:38.475771Z",
     "iopub.status.busy": "2021-02-06T12:00:38.475133Z",
     "iopub.status.idle": "2021-02-06T12:00:39.216371Z",
     "shell.execute_reply": "2021-02-06T12:00:39.215885Z"
    },
    "papermill": {
     "duration": 0.76946,
     "end_time": "2021-02-06T12:00:39.216526",
     "exception": false,
     "start_time": "2021-02-06T12:00:38.447066",
     "status": "completed"
    },
    "scrolled": true,
    "tags": []
   },
   "outputs": [
    {
     "data": {
      "text/html": [
       "<div>\n",
       "<style scoped>\n",
       "    .dataframe tbody tr th:only-of-type {\n",
       "        vertical-align: middle;\n",
       "    }\n",
       "\n",
       "    .dataframe tbody tr th {\n",
       "        vertical-align: top;\n",
       "    }\n",
       "\n",
       "    .dataframe thead th {\n",
       "        text-align: right;\n",
       "    }\n",
       "</style>\n",
       "<table border=\"1\" class=\"dataframe\">\n",
       "  <thead>\n",
       "    <tr style=\"text-align: right;\">\n",
       "      <th></th>\n",
       "      <th>count</th>\n",
       "      <th>mean</th>\n",
       "      <th>std</th>\n",
       "      <th>min</th>\n",
       "      <th>1%</th>\n",
       "      <th>25%</th>\n",
       "      <th>50%</th>\n",
       "      <th>75%</th>\n",
       "      <th>99%</th>\n",
       "      <th>max</th>\n",
       "    </tr>\n",
       "  </thead>\n",
       "  <tbody>\n",
       "    <tr>\n",
       "      <th>Quantity</th>\n",
       "      <td>397925.0</td>\n",
       "      <td>13.021793</td>\n",
       "      <td>180.419984</td>\n",
       "      <td>1.0</td>\n",
       "      <td>1.00</td>\n",
       "      <td>2.00</td>\n",
       "      <td>6.00</td>\n",
       "      <td>12.00</td>\n",
       "      <td>120.00</td>\n",
       "      <td>80995.00</td>\n",
       "    </tr>\n",
       "    <tr>\n",
       "      <th>Price</th>\n",
       "      <td>397925.0</td>\n",
       "      <td>3.116212</td>\n",
       "      <td>22.096773</td>\n",
       "      <td>0.0</td>\n",
       "      <td>0.21</td>\n",
       "      <td>1.25</td>\n",
       "      <td>1.95</td>\n",
       "      <td>3.75</td>\n",
       "      <td>14.95</td>\n",
       "      <td>8142.75</td>\n",
       "    </tr>\n",
       "    <tr>\n",
       "      <th>Customer ID</th>\n",
       "      <td>397925.0</td>\n",
       "      <td>15294.308601</td>\n",
       "      <td>1713.172738</td>\n",
       "      <td>12346.0</td>\n",
       "      <td>12415.00</td>\n",
       "      <td>13969.00</td>\n",
       "      <td>15159.00</td>\n",
       "      <td>16795.00</td>\n",
       "      <td>18211.00</td>\n",
       "      <td>18287.00</td>\n",
       "    </tr>\n",
       "  </tbody>\n",
       "</table>\n",
       "</div>"
      ],
      "text/plain": [
       "                count          mean          std      min        1%       25%  \\\n",
       "Quantity     397925.0     13.021793   180.419984      1.0      1.00      2.00   \n",
       "Price        397925.0      3.116212    22.096773      0.0      0.21      1.25   \n",
       "Customer ID  397925.0  15294.308601  1713.172738  12346.0  12415.00  13969.00   \n",
       "\n",
       "                  50%       75%       99%       max  \n",
       "Quantity         6.00     12.00    120.00  80995.00  \n",
       "Price            1.95      3.75     14.95   8142.75  \n",
       "Customer ID  15159.00  16795.00  18211.00  18287.00  "
      ]
     },
     "execution_count": 83,
     "metadata": {},
     "output_type": "execute_result"
    }
   ],
   "source": [
    "# Data preparation step 1: Removing null oberservations\n",
    "df.dropna(inplace=True)\n",
    "\n",
    "# Data preparation step 1: Removing canceled orders \n",
    "df = df[~df[\"Invoice\"].str.contains(\"C\", na=False)]\n",
    "df = df[df[\"Quantity\"] > 0]\n",
    "\n",
    "df.describe([0.01,0.25,0.50,0.75,0.99]).T"
   ]
  },
  {
   "cell_type": "markdown",
   "metadata": {
    "papermill": {
     "duration": 0.023181,
     "end_time": "2021-02-06T12:00:39.262727",
     "exception": false,
     "start_time": "2021-02-06T12:00:39.239546",
     "status": "completed"
    },
    "tags": []
   },
   "source": [
    "<p>Check out descriptive statistics of numerical variables again! Look at 99% quantile of Quantity and Price columns and compare with the maximum values. We can say that there are some outliers.</p>\n",
    "<p>Let's find out these outliers and replace them with the highest limit.</p>"
   ]
  },
  {
   "cell_type": "code",
   "execution_count": 84,
   "metadata": {
    "execution": {
     "iopub.execute_input": "2021-02-06T12:00:39.317265Z",
     "iopub.status.busy": "2021-02-06T12:00:39.316619Z",
     "iopub.status.idle": "2021-02-06T12:00:39.318668Z",
     "shell.execute_reply": "2021-02-06T12:00:39.319095Z"
    },
    "papermill": {
     "duration": 0.032924,
     "end_time": "2021-02-06T12:00:39.319287",
     "exception": false,
     "start_time": "2021-02-06T12:00:39.286363",
     "status": "completed"
    },
    "tags": []
   },
   "outputs": [],
   "source": [
    "# Defining functions for outliers\n",
    "def outlier_thresholds(dataframe, variable):\n",
    "    quartile1 = dataframe[variable].quantile(0.01)\n",
    "    quartile3 = dataframe[variable].quantile(0.99)\n",
    "    interquantile_range = quartile3 - quartile1\n",
    "    up_limit = quartile3 + 1.5 * interquantile_range\n",
    "    low_limit = quartile1 - 1.5 * interquantile_range\n",
    "    return low_limit, up_limit\n",
    "\n",
    "# Defining functions to replace outliers\n",
    "def replace_with_thresholds(dataframe, variable):\n",
    "    low_limit, up_limit = outlier_thresholds(dataframe, variable)\n",
    "    # dataframe.loc[(dataframe[variable] < low_limit), variable] = low_limit\n",
    "    dataframe.loc[(dataframe[variable] > up_limit), variable] = up_limit"
   ]
  },
  {
   "cell_type": "code",
   "execution_count": 85,
   "metadata": {
    "execution": {
     "iopub.execute_input": "2021-02-06T12:00:39.369333Z",
     "iopub.status.busy": "2021-02-06T12:00:39.368731Z",
     "iopub.status.idle": "2021-02-06T12:00:39.474194Z",
     "shell.execute_reply": "2021-02-06T12:00:39.473641Z"
    },
    "papermill": {
     "duration": 0.131812,
     "end_time": "2021-02-06T12:00:39.474353",
     "exception": false,
     "start_time": "2021-02-06T12:00:39.342541",
     "status": "completed"
    },
    "tags": []
   },
   "outputs": [
    {
     "data": {
      "text/html": [
       "<div>\n",
       "<style scoped>\n",
       "    .dataframe tbody tr th:only-of-type {\n",
       "        vertical-align: middle;\n",
       "    }\n",
       "\n",
       "    .dataframe tbody tr th {\n",
       "        vertical-align: top;\n",
       "    }\n",
       "\n",
       "    .dataframe thead th {\n",
       "        text-align: right;\n",
       "    }\n",
       "</style>\n",
       "<table border=\"1\" class=\"dataframe\">\n",
       "  <thead>\n",
       "    <tr style=\"text-align: right;\">\n",
       "      <th></th>\n",
       "      <th>count</th>\n",
       "      <th>mean</th>\n",
       "      <th>std</th>\n",
       "      <th>min</th>\n",
       "      <th>1%</th>\n",
       "      <th>25%</th>\n",
       "      <th>50%</th>\n",
       "      <th>75%</th>\n",
       "      <th>99%</th>\n",
       "      <th>max</th>\n",
       "    </tr>\n",
       "  </thead>\n",
       "  <tbody>\n",
       "    <tr>\n",
       "      <th>Quantity</th>\n",
       "      <td>397925.0</td>\n",
       "      <td>11.833709</td>\n",
       "      <td>25.534486</td>\n",
       "      <td>1.0</td>\n",
       "      <td>1.00</td>\n",
       "      <td>2.00</td>\n",
       "      <td>6.00</td>\n",
       "      <td>12.00</td>\n",
       "      <td>120.00</td>\n",
       "      <td>298.50</td>\n",
       "    </tr>\n",
       "    <tr>\n",
       "      <th>Price</th>\n",
       "      <td>397925.0</td>\n",
       "      <td>2.893201</td>\n",
       "      <td>3.227143</td>\n",
       "      <td>0.0</td>\n",
       "      <td>0.21</td>\n",
       "      <td>1.25</td>\n",
       "      <td>1.95</td>\n",
       "      <td>3.75</td>\n",
       "      <td>14.95</td>\n",
       "      <td>37.06</td>\n",
       "    </tr>\n",
       "    <tr>\n",
       "      <th>Customer ID</th>\n",
       "      <td>397925.0</td>\n",
       "      <td>15294.308601</td>\n",
       "      <td>1713.172738</td>\n",
       "      <td>12346.0</td>\n",
       "      <td>12415.00</td>\n",
       "      <td>13969.00</td>\n",
       "      <td>15159.00</td>\n",
       "      <td>16795.00</td>\n",
       "      <td>18211.00</td>\n",
       "      <td>18287.00</td>\n",
       "    </tr>\n",
       "  </tbody>\n",
       "</table>\n",
       "</div>"
      ],
      "text/plain": [
       "                count          mean          std      min        1%       25%  \\\n",
       "Quantity     397925.0     11.833709    25.534486      1.0      1.00      2.00   \n",
       "Price        397925.0      2.893201     3.227143      0.0      0.21      1.25   \n",
       "Customer ID  397925.0  15294.308601  1713.172738  12346.0  12415.00  13969.00   \n",
       "\n",
       "                  50%       75%       99%       max  \n",
       "Quantity         6.00     12.00    120.00    298.50  \n",
       "Price            1.95      3.75     14.95     37.06  \n",
       "Customer ID  15159.00  16795.00  18211.00  18287.00  "
      ]
     },
     "execution_count": 85,
     "metadata": {},
     "output_type": "execute_result"
    }
   ],
   "source": [
    "# Data preparation step 2: Replacing outliers in the Quantity and Price columns with the upper limit\n",
    "replace_with_thresholds(df, \"Quantity\")\n",
    "replace_with_thresholds(df, \"Price\")\n",
    "\n",
    "df.describe([0.01,0.25,0.50,0.75,0.99]).T"
   ]
  },
  {
   "cell_type": "code",
   "execution_count": 86,
   "metadata": {
    "execution": {
     "iopub.execute_input": "2021-02-06T12:00:39.527594Z",
     "iopub.status.busy": "2021-02-06T12:00:39.526933Z",
     "iopub.status.idle": "2021-02-06T12:00:39.532508Z",
     "shell.execute_reply": "2021-02-06T12:00:39.531872Z"
    },
    "papermill": {
     "duration": 0.034684,
     "end_time": "2021-02-06T12:00:39.532647",
     "exception": false,
     "start_time": "2021-02-06T12:00:39.497963",
     "status": "completed"
    },
    "tags": []
   },
   "outputs": [],
   "source": [
    "# Data preparation step 3: Calculating total price per transaction \n",
    "df[\"TotalPrice\"] = df[\"Quantity\"] * df[\"Price\"]\n",
    "today_date = dt.datetime(2011, 12, 11)"
   ]
  },
  {
   "cell_type": "code",
   "execution_count": 87,
   "metadata": {
    "execution": {
     "iopub.execute_input": "2021-02-06T12:00:39.585162Z",
     "iopub.status.busy": "2021-02-06T12:00:39.584603Z",
     "iopub.status.idle": "2021-02-06T12:00:39.590329Z",
     "shell.execute_reply": "2021-02-06T12:00:39.590745Z"
    },
    "papermill": {
     "duration": 0.034512,
     "end_time": "2021-02-06T12:00:39.590915",
     "exception": false,
     "start_time": "2021-02-06T12:00:39.556403",
     "status": "completed"
    },
    "tags": []
   },
   "outputs": [
    {
     "name": "stdout",
     "output_type": "stream",
     "text": [
      " Maximum invoice date: 2011-12-09 12:50:00 \n",
      " Today date: 2011-12-11 00:00:00\n"
     ]
    }
   ],
   "source": [
    "# Defining today date as max(InvoiceDate) + 2 days\n",
    "today_date = dt.datetime(2011, 12, 11)\n",
    "print(f\" Maximum invoice date: {df.InvoiceDate.max()} \\n Today date: {today_date}\")"
   ]
  },
  {
   "cell_type": "markdown",
   "metadata": {
    "papermill": {
     "duration": 0.024285,
     "end_time": "2021-02-06T12:00:39.639927",
     "exception": false,
     "start_time": "2021-02-06T12:00:39.615642",
     "status": "completed"
    },
    "tags": []
   },
   "source": [
    "## 3. Deriving the RFM Metrics\n",
    "\n",
    "<p><img style=\"float: right;margin:-10px 20px 20px 5px; max-width:380px\" src=\"https://www.retailreco.com/blog/wp-content/uploads/2018/11/RFM-Analytics.jpg\"></p>\n",
    "\n",
    "The predictive CLTV models are built around 4 key metrics. These are:\n",
    "\n",
    "**<p>Recency:**  The age of the customer at the time of their last purchase.\n",
    "**<p>Monetary:** The average total sales of the customer.\n",
    "**<p>Frequency:** Number of purchases/transactions.\n",
    "**<p>Age (T):** The age of the customer since the date of a customer's first purchase to the current date."
   ]
  },
  {
   "cell_type": "code",
   "execution_count": 88,
   "metadata": {
    "execution": {
     "iopub.execute_input": "2021-02-06T12:00:39.696145Z",
     "iopub.status.busy": "2021-02-06T12:00:39.695490Z",
     "iopub.status.idle": "2021-02-06T12:00:41.955151Z",
     "shell.execute_reply": "2021-02-06T12:00:41.955667Z"
    },
    "papermill": {
     "duration": 2.290952,
     "end_time": "2021-02-06T12:00:41.955844",
     "exception": false,
     "start_time": "2021-02-06T12:00:39.664892",
     "status": "completed"
    },
    "tags": []
   },
   "outputs": [
    {
     "data": {
      "text/html": [
       "<div>\n",
       "<style scoped>\n",
       "    .dataframe tbody tr th:only-of-type {\n",
       "        vertical-align: middle;\n",
       "    }\n",
       "\n",
       "    .dataframe tbody tr th {\n",
       "        vertical-align: top;\n",
       "    }\n",
       "\n",
       "    .dataframe thead th {\n",
       "        text-align: right;\n",
       "    }\n",
       "</style>\n",
       "<table border=\"1\" class=\"dataframe\">\n",
       "  <thead>\n",
       "    <tr style=\"text-align: right;\">\n",
       "      <th></th>\n",
       "      <th>Recency</th>\n",
       "      <th>T</th>\n",
       "      <th>Frequency</th>\n",
       "      <th>Monetary</th>\n",
       "    </tr>\n",
       "    <tr>\n",
       "      <th>Customer ID</th>\n",
       "      <th></th>\n",
       "      <th></th>\n",
       "      <th></th>\n",
       "      <th></th>\n",
       "    </tr>\n",
       "  </thead>\n",
       "  <tbody>\n",
       "    <tr>\n",
       "      <th>12346.0</th>\n",
       "      <td>0</td>\n",
       "      <td>326</td>\n",
       "      <td>1</td>\n",
       "      <td>310.440000</td>\n",
       "    </tr>\n",
       "    <tr>\n",
       "      <th>12347.0</th>\n",
       "      <td>365</td>\n",
       "      <td>368</td>\n",
       "      <td>7</td>\n",
       "      <td>615.714286</td>\n",
       "    </tr>\n",
       "    <tr>\n",
       "      <th>12348.0</th>\n",
       "      <td>282</td>\n",
       "      <td>359</td>\n",
       "      <td>4</td>\n",
       "      <td>442.695000</td>\n",
       "    </tr>\n",
       "    <tr>\n",
       "      <th>12349.0</th>\n",
       "      <td>0</td>\n",
       "      <td>19</td>\n",
       "      <td>1</td>\n",
       "      <td>1491.720000</td>\n",
       "    </tr>\n",
       "    <tr>\n",
       "      <th>12350.0</th>\n",
       "      <td>0</td>\n",
       "      <td>311</td>\n",
       "      <td>1</td>\n",
       "      <td>331.460000</td>\n",
       "    </tr>\n",
       "  </tbody>\n",
       "</table>\n",
       "</div>"
      ],
      "text/plain": [
       "             Recency    T  Frequency     Monetary\n",
       "Customer ID                                      \n",
       "12346.0            0  326          1   310.440000\n",
       "12347.0          365  368          7   615.714286\n",
       "12348.0          282  359          4   442.695000\n",
       "12349.0            0   19          1  1491.720000\n",
       "12350.0            0  311          1   331.460000"
      ]
     },
     "execution_count": 88,
     "metadata": {},
     "output_type": "execute_result"
    }
   ],
   "source": [
    "# Calculating recency, monetary, frequency and tenure metrics\n",
    "rfm = df.groupby(\"Customer ID\").agg({\"InvoiceDate\": [lambda date: (date.max() - date.min()).days,\n",
    "                                                     lambda date: (today_date - date.min()).days],\n",
    "                                     \"Invoice\": lambda num: num.nunique(),\n",
    "                                      \"TotalPrice\": lambda price: price.sum()}) #total price per customer\n",
    "\n",
    "# Because group by created a second level with name <lambda> \n",
    "rfm.columns = rfm.columns.droplevel(0)\n",
    "# Rename lambdas\n",
    "rfm.columns = ['Recency', \"T\", 'Frequency', \"Monetary\"]\n",
    "\n",
    "# Calculating average monetary values per order:\n",
    "rfm[\"Monetary\"] = rfm[\"Monetary\"] / rfm[\"Frequency\"]\n",
    "\n",
    "rfm.head()"
   ]
  },
  {
   "cell_type": "code",
   "execution_count": 89,
   "metadata": {
    "execution": {
     "iopub.execute_input": "2021-02-06T12:00:42.011501Z",
     "iopub.status.busy": "2021-02-06T12:00:42.010459Z",
     "iopub.status.idle": "2021-02-06T12:00:42.022617Z",
     "shell.execute_reply": "2021-02-06T12:00:42.021927Z"
    },
    "papermill": {
     "duration": 0.042359,
     "end_time": "2021-02-06T12:00:42.022786",
     "exception": false,
     "start_time": "2021-02-06T12:00:41.980427",
     "status": "completed"
    },
    "tags": []
   },
   "outputs": [
    {
     "data": {
      "text/html": [
       "<div>\n",
       "<style scoped>\n",
       "    .dataframe tbody tr th:only-of-type {\n",
       "        vertical-align: middle;\n",
       "    }\n",
       "\n",
       "    .dataframe tbody tr th {\n",
       "        vertical-align: top;\n",
       "    }\n",
       "\n",
       "    .dataframe thead th {\n",
       "        text-align: right;\n",
       "    }\n",
       "</style>\n",
       "<table border=\"1\" class=\"dataframe\">\n",
       "  <thead>\n",
       "    <tr style=\"text-align: right;\">\n",
       "      <th></th>\n",
       "      <th>Recency</th>\n",
       "      <th>T</th>\n",
       "      <th>Frequency</th>\n",
       "      <th>Monetary</th>\n",
       "    </tr>\n",
       "    <tr>\n",
       "      <th>Customer ID</th>\n",
       "      <th></th>\n",
       "      <th></th>\n",
       "      <th></th>\n",
       "      <th></th>\n",
       "    </tr>\n",
       "  </thead>\n",
       "  <tbody>\n",
       "    <tr>\n",
       "      <th>12347.0</th>\n",
       "      <td>365</td>\n",
       "      <td>368</td>\n",
       "      <td>7</td>\n",
       "      <td>615.714286</td>\n",
       "    </tr>\n",
       "    <tr>\n",
       "      <th>12348.0</th>\n",
       "      <td>282</td>\n",
       "      <td>359</td>\n",
       "      <td>4</td>\n",
       "      <td>442.695000</td>\n",
       "    </tr>\n",
       "    <tr>\n",
       "      <th>12352.0</th>\n",
       "      <td>260</td>\n",
       "      <td>297</td>\n",
       "      <td>8</td>\n",
       "      <td>219.542500</td>\n",
       "    </tr>\n",
       "    <tr>\n",
       "      <th>12356.0</th>\n",
       "      <td>302</td>\n",
       "      <td>326</td>\n",
       "      <td>3</td>\n",
       "      <td>937.143333</td>\n",
       "    </tr>\n",
       "    <tr>\n",
       "      <th>12358.0</th>\n",
       "      <td>149</td>\n",
       "      <td>151</td>\n",
       "      <td>2</td>\n",
       "      <td>575.210000</td>\n",
       "    </tr>\n",
       "  </tbody>\n",
       "</table>\n",
       "</div>"
      ],
      "text/plain": [
       "             Recency    T  Frequency    Monetary\n",
       "Customer ID                                     \n",
       "12347.0          365  368          7  615.714286\n",
       "12348.0          282  359          4  442.695000\n",
       "12352.0          260  297          8  219.542500\n",
       "12356.0          302  326          3  937.143333\n",
       "12358.0          149  151          2  575.210000"
      ]
     },
     "execution_count": 89,
     "metadata": {},
     "output_type": "execute_result"
    }
   ],
   "source": [
    "# Removing one-time purchases from dataset\n",
    "rfm = rfm[(rfm['Frequency'] > 1)]\n",
    "\n",
    "# Copying dataset\n",
    "cltv = rfm.copy()\n",
    "rfm.head()"
   ]
  },
  {
   "cell_type": "markdown",
   "metadata": {
    "papermill": {
     "duration": 0.025133,
     "end_time": "2021-02-06T12:00:42.073288",
     "exception": false,
     "start_time": "2021-02-06T12:00:42.048155",
     "status": "completed"
    },
    "tags": []
   },
   "source": [
    "# 4. Train BG-NBD Model (Expected number of transaction)\n",
    "\n",
    "In this step, we will train the BG/NBD model to estimate the expected sales in a given period of time.\n",
    "Also, the trained BG/NBD model will be used in predicting customer lifetime value in the following steps. "
   ]
  },
  {
   "cell_type": "code",
   "execution_count": 90,
   "metadata": {
    "execution": {
     "iopub.execute_input": "2021-02-06T12:00:48.897308Z",
     "iopub.status.busy": "2021-02-06T12:00:48.896676Z",
     "iopub.status.idle": "2021-02-06T12:00:49.988747Z",
     "shell.execute_reply": "2021-02-06T12:00:49.988198Z"
    },
    "papermill": {
     "duration": 1.126335,
     "end_time": "2021-02-06T12:00:49.988891",
     "exception": false,
     "start_time": "2021-02-06T12:00:48.862556",
     "status": "completed"
    },
    "tags": []
   },
   "outputs": [],
   "source": [
    "# Loading the required libraries\n",
    "from lifetimes import BetaGeoFitter\n",
    "from lifetimes import GammaGammaFitter\n",
    "from lifetimes.plotting import plot_probability_alive_matrix"
   ]
  },
  {
   "cell_type": "code",
   "execution_count": 91,
   "metadata": {
    "execution": {
     "iopub.execute_input": "2021-02-06T12:00:50.056479Z",
     "iopub.status.busy": "2021-02-06T12:00:50.052272Z",
     "iopub.status.idle": "2021-02-06T12:00:50.060975Z",
     "shell.execute_reply": "2021-02-06T12:00:50.061437Z"
    },
    "papermill": {
     "duration": 0.043956,
     "end_time": "2021-02-06T12:00:50.061614",
     "exception": false,
     "start_time": "2021-02-06T12:00:50.017658",
     "status": "completed"
    },
    "tags": []
   },
   "outputs": [
    {
     "name": "stdout",
     "output_type": "stream",
     "text": [
      "          Monetary  Recency\n",
      "Monetary   1.00000  0.09337\n",
      "Recency    0.09337  1.00000\n"
     ]
    }
   ],
   "source": [
    "# Checking BG/NBD model assumption and requirements\n",
    "print(cltv[['Monetary', 'Recency']].corr())  # Correlation between monetary ve recency variables\n",
    "cltv[\"Frequency\"] = cltv[\"Frequency\"].astype(int) # Type of frequency variable should be integer for BG-NBD model"
   ]
  },
  {
   "cell_type": "code",
   "execution_count": 92,
   "metadata": {
    "execution": {
     "iopub.execute_input": "2021-02-06T12:00:50.127395Z",
     "iopub.status.busy": "2021-02-06T12:00:50.126646Z",
     "iopub.status.idle": "2021-02-06T12:00:50.293680Z",
     "shell.execute_reply": "2021-02-06T12:00:50.293140Z"
    },
    "papermill": {
     "duration": 0.201644,
     "end_time": "2021-02-06T12:00:50.293813",
     "exception": false,
     "start_time": "2021-02-06T12:00:50.092169",
     "status": "completed"
    },
    "scrolled": false,
    "tags": []
   },
   "outputs": [
    {
     "data": {
      "text/html": [
       "<div>\n",
       "<style scoped>\n",
       "    .dataframe tbody tr th:only-of-type {\n",
       "        vertical-align: middle;\n",
       "    }\n",
       "\n",
       "    .dataframe tbody tr th {\n",
       "        vertical-align: top;\n",
       "    }\n",
       "\n",
       "    .dataframe thead th {\n",
       "        text-align: right;\n",
       "    }\n",
       "</style>\n",
       "<table border=\"1\" class=\"dataframe\">\n",
       "  <thead>\n",
       "    <tr style=\"text-align: right;\">\n",
       "      <th></th>\n",
       "      <th>Recency</th>\n",
       "      <th>T</th>\n",
       "      <th>Frequency</th>\n",
       "      <th>Monetary</th>\n",
       "      <th>expctd_num_of_purch</th>\n",
       "    </tr>\n",
       "    <tr>\n",
       "      <th>Customer ID</th>\n",
       "      <th></th>\n",
       "      <th></th>\n",
       "      <th></th>\n",
       "      <th></th>\n",
       "      <th></th>\n",
       "    </tr>\n",
       "  </thead>\n",
       "  <tbody>\n",
       "    <tr>\n",
       "      <th>12748.0</th>\n",
       "      <td>372</td>\n",
       "      <td>374</td>\n",
       "      <td>210</td>\n",
       "      <td>154.192429</td>\n",
       "      <td>164.006741</td>\n",
       "    </tr>\n",
       "    <tr>\n",
       "      <th>14911.0</th>\n",
       "      <td>372</td>\n",
       "      <td>374</td>\n",
       "      <td>201</td>\n",
       "      <td>691.710100</td>\n",
       "      <td>157.048730</td>\n",
       "    </tr>\n",
       "    <tr>\n",
       "      <th>17841.0</th>\n",
       "      <td>371</td>\n",
       "      <td>374</td>\n",
       "      <td>124</td>\n",
       "      <td>330.134355</td>\n",
       "      <td>97.454047</td>\n",
       "    </tr>\n",
       "    <tr>\n",
       "      <th>13089.0</th>\n",
       "      <td>366</td>\n",
       "      <td>370</td>\n",
       "      <td>97</td>\n",
       "      <td>606.362474</td>\n",
       "      <td>77.200939</td>\n",
       "    </tr>\n",
       "    <tr>\n",
       "      <th>14606.0</th>\n",
       "      <td>372</td>\n",
       "      <td>374</td>\n",
       "      <td>93</td>\n",
       "      <td>130.139032</td>\n",
       "      <td>73.528328</td>\n",
       "    </tr>\n",
       "  </tbody>\n",
       "</table>\n",
       "</div>"
      ],
      "text/plain": [
       "             Recency    T  Frequency    Monetary  expctd_num_of_purch\n",
       "Customer ID                                                          \n",
       "12748.0          372  374        210  154.192429           164.006741\n",
       "14911.0          372  374        201  691.710100           157.048730\n",
       "17841.0          371  374        124  330.134355            97.454047\n",
       "13089.0          366  370         97  606.362474            77.200939\n",
       "14606.0          372  374         93  130.139032            73.528328"
      ]
     },
     "execution_count": 92,
     "metadata": {},
     "output_type": "execute_result"
    }
   ],
   "source": [
    "# Creating BG-NBD Model\n",
    "bgf = BetaGeoFitter(penalizer_coef=0.001) # model object\n",
    "bgf.fit(cltv['Frequency'], cltv['Recency'], cltv['T']) # model fitting\n",
    "\n",
    "# Prediction of expected number of transaction for each customer for one year (365 days)\n",
    "cltv['expctd_num_of_purch'] = bgf.predict(365, cltv['Frequency'], cltv['Recency'], cltv['T']) \n",
    "cltv.sort_values(\"expctd_num_of_purch\",ascending=False).head()"
   ]
  },
  {
   "cell_type": "markdown",
   "metadata": {
    "papermill": {
     "duration": 0.028871,
     "end_time": "2021-02-06T12:00:50.353035",
     "exception": false,
     "start_time": "2021-02-06T12:00:50.324164",
     "status": "completed"
    },
    "tags": []
   },
   "source": [
    "Look at the new columns that we estimate average spending for each customer in a year. By using this information, you can make many business decisions!\n",
    "\n",
    "This model can also estimate the retention rate and the probability of the customer is alive. Let's plot the probability matrix together and see what will happen!"
   ]
  },
  {
   "cell_type": "code",
   "execution_count": 93,
   "metadata": {
    "execution": {
     "iopub.execute_input": "2021-02-06T12:00:50.433160Z",
     "iopub.status.busy": "2021-02-06T12:00:50.418716Z",
     "iopub.status.idle": "2021-02-06T12:00:50.815597Z",
     "shell.execute_reply": "2021-02-06T12:00:50.815110Z"
    },
    "papermill": {
     "duration": 0.433726,
     "end_time": "2021-02-06T12:00:50.815738",
     "exception": false,
     "start_time": "2021-02-06T12:00:50.382012",
     "status": "completed"
    },
    "tags": []
   },
   "outputs": [
    {
     "data": {
      "image/png": "[encoded data removed]",
      "text/plain": [
       "<Figure size 1000x500 with 2 Axes>"
      ]
     },
     "metadata": {},
     "output_type": "display_data"
    }
   ],
   "source": [
    "%matplotlib inline\n",
    "# set figure size\n",
    "plt.subplots(figsize=(10, 5))\n",
    "plot_probability_alive_matrix(bgf)\n",
    "plt.show()"
   ]
  },
  {
   "cell_type": "markdown",
   "metadata": {
    "papermill": {
     "duration": 0.030147,
     "end_time": "2021-02-06T12:00:50.876371",
     "exception": false,
     "start_time": "2021-02-06T12:00:50.846224",
     "status": "completed"
    },
    "tags": []
   },
   "source": [
    "# 5. Train Gamma Gamma Model (Expected average spending)\n",
    "\n",
    "Now, we will train the gamma-gamma model to estimate average spending for future transactional events. Then, it will be used for calculating the customer lifetime value. "
   ]
  },
  {
   "cell_type": "code",
   "execution_count": 94,
   "metadata": {
    "execution": {
     "iopub.execute_input": "2021-02-06T12:00:50.945455Z",
     "iopub.status.busy": "2021-02-06T12:00:50.944791Z",
     "iopub.status.idle": "2021-02-06T12:00:51.013319Z",
     "shell.execute_reply": "2021-02-06T12:00:51.012705Z"
    },
    "papermill": {
     "duration": 0.106405,
     "end_time": "2021-02-06T12:00:51.013460",
     "exception": false,
     "start_time": "2021-02-06T12:00:50.907055",
     "status": "completed"
    },
    "scrolled": true,
    "tags": []
   },
   "outputs": [
    {
     "data": {
      "text/html": [
       "<div>\n",
       "<style scoped>\n",
       "    .dataframe tbody tr th:only-of-type {\n",
       "        vertical-align: middle;\n",
       "    }\n",
       "\n",
       "    .dataframe tbody tr th {\n",
       "        vertical-align: top;\n",
       "    }\n",
       "\n",
       "    .dataframe thead th {\n",
       "        text-align: right;\n",
       "    }\n",
       "</style>\n",
       "<table border=\"1\" class=\"dataframe\">\n",
       "  <thead>\n",
       "    <tr style=\"text-align: right;\">\n",
       "      <th></th>\n",
       "      <th>Recency</th>\n",
       "      <th>T</th>\n",
       "      <th>Frequency</th>\n",
       "      <th>Monetary</th>\n",
       "      <th>expctd_num_of_purch</th>\n",
       "      <th>expct_avg_spend</th>\n",
       "    </tr>\n",
       "    <tr>\n",
       "      <th>Customer ID</th>\n",
       "      <th></th>\n",
       "      <th></th>\n",
       "      <th></th>\n",
       "      <th></th>\n",
       "      <th></th>\n",
       "      <th></th>\n",
       "    </tr>\n",
       "  </thead>\n",
       "  <tbody>\n",
       "    <tr>\n",
       "      <th>12347.0</th>\n",
       "      <td>365</td>\n",
       "      <td>368</td>\n",
       "      <td>7</td>\n",
       "      <td>615.714286</td>\n",
       "      <td>7.081226</td>\n",
       "      <td>631.911974</td>\n",
       "    </tr>\n",
       "    <tr>\n",
       "      <th>12348.0</th>\n",
       "      <td>282</td>\n",
       "      <td>359</td>\n",
       "      <td>4</td>\n",
       "      <td>442.695000</td>\n",
       "      <td>4.602317</td>\n",
       "      <td>463.745539</td>\n",
       "    </tr>\n",
       "    <tr>\n",
       "      <th>12352.0</th>\n",
       "      <td>260</td>\n",
       "      <td>297</td>\n",
       "      <td>8</td>\n",
       "      <td>219.542500</td>\n",
       "      <td>9.090603</td>\n",
       "      <td>224.886669</td>\n",
       "    </tr>\n",
       "    <tr>\n",
       "      <th>12356.0</th>\n",
       "      <td>302</td>\n",
       "      <td>326</td>\n",
       "      <td>3</td>\n",
       "      <td>937.143333</td>\n",
       "      <td>4.298322</td>\n",
       "      <td>995.997679</td>\n",
       "    </tr>\n",
       "    <tr>\n",
       "      <th>12358.0</th>\n",
       "      <td>149</td>\n",
       "      <td>151</td>\n",
       "      <td>2</td>\n",
       "      <td>575.210000</td>\n",
       "      <td>5.953164</td>\n",
       "      <td>631.900951</td>\n",
       "    </tr>\n",
       "  </tbody>\n",
       "</table>\n",
       "</div>"
      ],
      "text/plain": [
       "             Recency    T  Frequency    Monetary  expctd_num_of_purch  \\\n",
       "Customer ID                                                             \n",
       "12347.0          365  368          7  615.714286             7.081226   \n",
       "12348.0          282  359          4  442.695000             4.602317   \n",
       "12352.0          260  297          8  219.542500             9.090603   \n",
       "12356.0          302  326          3  937.143333             4.298322   \n",
       "12358.0          149  151          2  575.210000             5.953164   \n",
       "\n",
       "             expct_avg_spend  \n",
       "Customer ID                   \n",
       "12347.0           631.911974  \n",
       "12348.0           463.745539  \n",
       "12352.0           224.886669  \n",
       "12356.0           995.997679  \n",
       "12358.0           631.900951  "
      ]
     },
     "execution_count": 94,
     "metadata": {},
     "output_type": "execute_result"
    }
   ],
   "source": [
    "# Creating Gamma-Gamma Model\n",
    "ggf = GammaGammaFitter(penalizer_coef=0.01) # model object\n",
    "ggf.fit(cltv['Frequency'], cltv['Monetary']) # model fitting\n",
    "\n",
    "# Prediction of expected amount of average profit\n",
    "cltv[\"expct_avg_spend\"] = ggf.conditional_expected_average_profit(cltv['Frequency'], cltv['Monetary'])\n",
    "\n",
    "cltv.head()"
   ]
  },
  {
   "cell_type": "markdown",
   "metadata": {
    "papermill": {
     "duration": 0.030653,
     "end_time": "2021-02-06T12:00:51.075574",
     "exception": false,
     "start_time": "2021-02-06T12:00:51.044921",
     "status": "completed"
    },
    "tags": []
   },
   "source": [
    "## 6. Final: Calculate CLTV"
   ]
  },
  {
   "cell_type": "code",
   "execution_count": 95,
   "metadata": {
    "execution": {
     "iopub.execute_input": "2021-02-06T12:00:51.143176Z",
     "iopub.status.busy": "2021-02-06T12:00:51.142574Z",
     "iopub.status.idle": "2021-02-06T12:00:51.389334Z",
     "shell.execute_reply": "2021-02-06T12:00:51.388830Z"
    },
    "papermill": {
     "duration": 0.282943,
     "end_time": "2021-02-06T12:00:51.389483",
     "exception": false,
     "start_time": "2021-02-06T12:00:51.106540",
     "status": "completed"
    },
    "tags": []
   },
   "outputs": [
    {
     "data": {
      "text/html": [
       "<div>\n",
       "<style scoped>\n",
       "    .dataframe tbody tr th:only-of-type {\n",
       "        vertical-align: middle;\n",
       "    }\n",
       "\n",
       "    .dataframe tbody tr th {\n",
       "        vertical-align: top;\n",
       "    }\n",
       "\n",
       "    .dataframe thead th {\n",
       "        text-align: right;\n",
       "    }\n",
       "</style>\n",
       "<table border=\"1\" class=\"dataframe\">\n",
       "  <thead>\n",
       "    <tr style=\"text-align: right;\">\n",
       "      <th></th>\n",
       "      <th>Recency</th>\n",
       "      <th>T</th>\n",
       "      <th>Frequency</th>\n",
       "      <th>Monetary</th>\n",
       "      <th>expctd_num_of_purch</th>\n",
       "      <th>expct_avg_spend</th>\n",
       "      <th>cltv_one_year</th>\n",
       "    </tr>\n",
       "    <tr>\n",
       "      <th>Customer ID</th>\n",
       "      <th></th>\n",
       "      <th></th>\n",
       "      <th></th>\n",
       "      <th></th>\n",
       "      <th></th>\n",
       "      <th></th>\n",
       "      <th></th>\n",
       "    </tr>\n",
       "  </thead>\n",
       "  <tbody>\n",
       "    <tr>\n",
       "      <th>14646.0</th>\n",
       "      <td>353</td>\n",
       "      <td>355</td>\n",
       "      <td>74</td>\n",
       "      <td>3596.804392</td>\n",
       "      <td>61.316101</td>\n",
       "      <td>3605.309159</td>\n",
       "      <td>204735.095545</td>\n",
       "    </tr>\n",
       "    <tr>\n",
       "      <th>18102.0</th>\n",
       "      <td>366</td>\n",
       "      <td>368</td>\n",
       "      <td>60</td>\n",
       "      <td>3859.739083</td>\n",
       "      <td>48.623095</td>\n",
       "      <td>3870.996702</td>\n",
       "      <td>174313.470352</td>\n",
       "    </tr>\n",
       "    <tr>\n",
       "      <th>14096.0</th>\n",
       "      <td>97</td>\n",
       "      <td>102</td>\n",
       "      <td>17</td>\n",
       "      <td>3163.588235</td>\n",
       "      <td>35.234619</td>\n",
       "      <td>3196.435385</td>\n",
       "      <td>104394.666897</td>\n",
       "    </tr>\n",
       "    <tr>\n",
       "      <th>12415.0</th>\n",
       "      <td>313</td>\n",
       "      <td>338</td>\n",
       "      <td>21</td>\n",
       "      <td>5724.302619</td>\n",
       "      <td>19.005586</td>\n",
       "      <td>5772.177190</td>\n",
       "      <td>101605.295723</td>\n",
       "    </tr>\n",
       "    <tr>\n",
       "      <th>14911.0</th>\n",
       "      <td>372</td>\n",
       "      <td>374</td>\n",
       "      <td>201</td>\n",
       "      <td>691.710100</td>\n",
       "      <td>157.048730</td>\n",
       "      <td>692.326355</td>\n",
       "      <td>100694.105622</td>\n",
       "    </tr>\n",
       "  </tbody>\n",
       "</table>\n",
       "</div>"
      ],
      "text/plain": [
       "             Recency    T  Frequency     Monetary  expctd_num_of_purch  \\\n",
       "Customer ID                                                              \n",
       "14646.0          353  355         74  3596.804392            61.316101   \n",
       "18102.0          366  368         60  3859.739083            48.623095   \n",
       "14096.0           97  102         17  3163.588235            35.234619   \n",
       "12415.0          313  338         21  5724.302619            19.005586   \n",
       "14911.0          372  374        201   691.710100           157.048730   \n",
       "\n",
       "             expct_avg_spend  cltv_one_year  \n",
       "Customer ID                                  \n",
       "14646.0          3605.309159  204735.095545  \n",
       "18102.0          3870.996702  174313.470352  \n",
       "14096.0          3196.435385  104394.666897  \n",
       "12415.0          5772.177190  101605.295723  \n",
       "14911.0           692.326355  100694.105622  "
      ]
     },
     "execution_count": 95,
     "metadata": {},
     "output_type": "execute_result"
    }
   ],
   "source": [
    "# Calculating customer lifetime value by using BG-NBD and GammaGamma models: \n",
    "\n",
    "cltv[\"cltv_one_year\"] = ggf.customer_lifetime_value(bgf,\n",
    "                                   cltv['Frequency'],\n",
    "                                   cltv['Recency'],\n",
    "                                   cltv['T'],\n",
    "                                   cltv['Monetary'],\n",
    "                                   time=12,  # 12 month\n",
    "                                   freq=\"D\",  # frequency of T\n",
    "                                   discount_rate=0.01)\n",
    "\n",
    "cltv.sort_values(\"cltv_one_year\",ascending=False).head()"
   ]
  },
  {
   "cell_type": "markdown",
   "metadata": {
    "papermill": {
     "duration": 0.031297,
     "end_time": "2021-02-06T12:00:51.452589",
     "exception": false,
     "start_time": "2021-02-06T12:00:51.421292",
     "status": "completed"
    },
    "tags": []
   },
   "source": [
    "<p>Together, we get the most valuable five customers for a year! </p>\n",
    "<p>This model is capable of producing valuable information to be used for several purposes by various departments such as marketing, sales, and product development. By using it, we can simply create segments according to the CLTV. We can also extract the least valuable customers and send them to customer relationship management to increase customer engagement with the company."
   ]
  },
  {
   "cell_type": "markdown",
   "metadata": {
    "papermill": {
     "duration": 0.031215,
     "end_time": "2021-02-06T12:00:51.515156",
     "exception": false,
     "start_time": "2021-02-06T12:00:51.483941",
     "status": "completed"
    },
    "tags": []
   },
   "source": [
    "Thank you for making it to the very end of this notebook!\n",
    "\n",
    "Please feel free to leave a comment to improve it together. "
   ]
  },
  {
   "cell_type": "code",
   "execution_count": null,
   "metadata": {
    "papermill": {
     "duration": 0.031173,
     "end_time": "2021-02-06T12:00:51.577792",
     "exception": false,
     "start_time": "2021-02-06T12:00:51.546619",
     "status": "completed"
    },
    "tags": []
   },
   "outputs": [],
   "source": []
  }
 ],
 "metadata": {
  "kernelspec": {
   "display_name": "Python 3.7.13 ('BCG')",
   "language": "python",
   "name": "python3"
  },
  "language_info": {
   "codemirror_mode": {
    "name": "ipython",
    "version": 3
   },
   "file_extension": ".py",
   "mimetype": "text/x-python",
   "name": "python",
   "nbconvert_exporter": "python",
   "pygments_lexer": "ipython3",
   "version": "3.7.13"
  },
  "papermill": {
   "default_parameters": {},
   "duration": 116.93758,
   "end_time": "2021-02-06T12:00:53.317611",
   "environment_variables": {},
   "exception": null,
   "input_path": "__notebook__.ipynb",
   "output_path": "__notebook__.ipynb",
   "parameters": {},
   "start_time": "2021-02-06T11:58:56.380031",
   "version": "2.2.2"
  },
  "vscode": {
   "interpreter": {
    "hash": "f587980aed85386828983447eebead6955e950331a8a89d818b794d6ecd4d907"
   }
  }
 },
 "nbformat": 4,
 "nbformat_minor": 4
}
