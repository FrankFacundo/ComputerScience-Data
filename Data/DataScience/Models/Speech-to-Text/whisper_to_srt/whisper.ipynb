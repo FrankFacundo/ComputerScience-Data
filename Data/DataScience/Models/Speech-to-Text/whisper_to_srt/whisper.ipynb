{
 "cells": [
  {
   "cell_type": "code",
   "execution_count": 13,
   "metadata": {},
   "outputs": [],
   "source": [
    "import json\n",
    "import re\n",
    "\n",
    "import whisper\n",
    "from glob import glob"
   ]
  },
  {
   "cell_type": "code",
   "execution_count": 2,
   "metadata": {},
   "outputs": [],
   "source": [
    "model = whisper.load_model(\"large\")\n",
    "# print(whisper.available_models())\n",
    "# ['tiny.en', 'tiny', 'base.en', 'base', 'small.en', 'small', 'medium.en', 'medium', 'large']"
   ]
  },
  {
   "cell_type": "code",
   "execution_count": 4,
   "metadata": {},
   "outputs": [],
   "source": [
    "def convert_string_to_command(text: str) -> str:\n",
    "    space_leftparenthesis_rightparenthesis_regex = r'(\\s|\\(|\\)|\\')'\n",
    "    bachslash_with_capture_regex = r'\\\\\\1'\n",
    "    return re.sub(space_leftparenthesis_rightparenthesis_regex, bachslash_with_capture_regex, text)\n"
   ]
  },
  {
   "cell_type": "code",
   "execution_count": null,
   "metadata": {},
   "outputs": [],
   "source": [
    "base_path = \"7-CaseInterviewVideos\"\n",
    "\n",
    "for file in glob(base_path + \"/*.mp3\"):\n",
    "    print(\"file\", file)\n",
    "    path_output = file[:-4] + \".json\"\n",
    "    print(\"path_output\", path_output)\n",
    "    result = model.transcribe(file)\n",
    "    with open(path_output, \"w\") as outfile:\n",
    "        json.dump(result, outfile)\n"
   ]
  },
  {
   "cell_type": "code",
   "execution_count": null,
   "metadata": {},
   "outputs": [],
   "source": []
  }
 ],
 "metadata": {
  "kernelspec": {
   "display_name": "Python 3.8.15 ('torch_1121_cu113')",
   "language": "python",
   "name": "python3"
  },
  "language_info": {
   "codemirror_mode": {
    "name": "ipython",
    "version": 3
   },
   "file_extension": ".py",
   "mimetype": "text/x-python",
   "name": "python",
   "nbconvert_exporter": "python",
   "pygments_lexer": "ipython3",
   "version": "3.8.15"
  },
  "orig_nbformat": 4,
  "vscode": {
   "interpreter": {
    "hash": "a452b09bef9b21298bac2ef57475cde95c627a02e6257f57fe70a9a6d3e35af7"
   }
  }
 },
 "nbformat": 4,
 "nbformat_minor": 2
}
