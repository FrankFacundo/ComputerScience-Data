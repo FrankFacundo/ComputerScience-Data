{
 "cells": [
  {
   "cell_type": "code",
   "execution_count": 30,
   "id": "34f902e8",
   "metadata": {
    "lines_to_next_cell": 2
   },
   "outputs": [],
   "source": [
    "\n",
    "import numpy as np\n",
    "import matplotlib.pyplot as plt\n",
    "import pandas as pd\n",
    "from numpy import linalg as lg \n"
   ]
  },
  {
   "cell_type": "code",
   "execution_count": 31,
   "id": "122d56d7",
   "metadata": {},
   "outputs": [],
   "source": [
    "def import_data():\n",
    "    df = pd.read_csv('SCLC.csv',header=None)\n",
    "    df1 = df.drop(df.index[0])\n",
    "    df2 = df1.drop(df.columns[0], axis=1)\n",
    "    return df2"
   ]
  },
  {
   "cell_type": "code",
   "execution_count": 38,
   "id": "77786d47",
   "metadata": {},
   "outputs": [
    {
     "name": "stdout",
     "output_type": "stream",
     "text": [
      "(20, 19)\n"
     ]
    }
   ],
   "source": [
    "df2 = import_data()\n",
    "df3 = df2\n",
    "\n",
    "df3_1 = df2.values[0:20,:]\n",
    "df3_2 = df2.values[20:, : ]\n",
    "\n",
    "print(df3_1.shape)"
   ]
  },
  {
   "cell_type": "code",
   "execution_count": 68,
   "id": "25088328",
   "metadata": {},
   "outputs": [
    {
     "name": "stdout",
     "output_type": "stream",
     "text": [
      "(19,)\n",
      "[1133127.114115    82384.880499   197749.555629   128947.2986565\n",
      " 1402521.28558    836545.931695  1613716.532435   630757.255035\n",
      "  298639.72865   1148116.663105   406195.37644   1714915.9352\n",
      "  618864.561485    86910.615099   526820.906125  1607163.90325\n",
      "  600946.756865   597854.02698    499961.789415 ]\n"
     ]
    }
   ],
   "source": [
    "m_1 = df3_1.mean(axis = 0)\n",
    "m_2 = df3_2.mean(axis = 0)\n",
    "mean_all = df2.mean(axis = 0)\n",
    "print(m_1.shape)\n",
    "print(m_1)"
   ]
  },
  {
   "cell_type": "code",
   "execution_count": 47,
   "id": "af47c79c",
   "metadata": {},
   "outputs": [
    {
     "name": "stdout",
     "output_type": "stream",
     "text": [
      "[[1133127.114115    82384.880499   197749.555629   128947.2986565\n",
      "  1402521.28558    836545.931695  1613716.532435   630757.255035\n",
      "   298639.72865   1148116.663105   406195.37644   1714915.9352\n",
      "   618864.561485    86910.615099   526820.906125  1607163.90325\n",
      "   600946.756865   597854.02698    499961.789415 ]]\n",
      "(20, 19)\n"
     ]
    }
   ],
   "source": [
    "mean_1 = m_1.reshape(1,19)\n",
    "print(mean_1)\n",
    "mean_1 = np.repeat(mean_1,20,axis = 0)\n",
    "print(mean_1.shape)\n",
    "\n",
    "mean_2 = m_2.reshape(1,19)\n",
    "mean_2 = np.repeat(mean_2,20,axis = 0)\n"
   ]
  },
  {
   "cell_type": "code",
   "execution_count": 63,
   "id": "f900a038",
   "metadata": {},
   "outputs": [
    {
     "name": "stdout",
     "output_type": "stream",
     "text": [
      "(19, 19)\n"
     ]
    }
   ],
   "source": [
    "within_class_scatter = np.zeros((19,19))\n",
    "wcs_1 = np.zeros((19,19))\n",
    "\n",
    "df3_1_centered = df3_1 - mean_1\n",
    "wcs_1 = df3_1_centered.T @ df3_1_centered\n",
    "# print(wcs_1)\n",
    "wcs_2 = np.zeros((19,19))\n",
    "df3_2_centered = df3_2 - mean_2\n",
    "wcs_2 = df3_2_centered.T @ df3_2_centered\n",
    "\n",
    "within_class_scatter = wcs_1 + wcs_2\n",
    "print(within_class_scatter.shape)"
   ]
  },
  {
   "cell_type": "code",
   "execution_count": 106,
   "id": "4858f968",
   "metadata": {},
   "outputs": [
    {
     "name": "stdout",
     "output_type": "stream",
     "text": [
      "(19, 19)\n",
      "[[ 1.86606693e+10  3.86312688e+09  2.47742565e+10  8.11472160e+09\n",
      "  -3.30659434e+11 -9.95343428e+10  1.23238101e+10 -3.72997897e+10\n",
      "   5.68470841e+10 -2.28685455e+11 -8.44098753e+10  1.58444114e+11\n",
      "   5.88521149e+10  5.04958075e+09 -5.28222765e+10 -2.54983839e+11\n",
      "  -1.00120925e+11  1.16851350e+11 -1.08381673e+11]\n",
      " [ 3.86312688e+09  7.99743519e+08  5.12876012e+09  1.67990755e+09\n",
      "  -6.84530298e+10 -2.06055737e+10  2.55127194e+09 -7.72179272e+09\n",
      "   1.17684685e+10 -4.73424032e+10 -1.74745104e+10  3.28010592e+10\n",
      "   1.21835495e+10  1.04536289e+09 -1.09352539e+10 -5.27866878e+10\n",
      "  -2.07270078e+10  2.41905359e+10 -2.24371457e+10]\n",
      " [ 2.47742565e+10  5.12876012e+09  3.28907703e+10  1.07732575e+10\n",
      "  -4.38989702e+11 -1.32143671e+11  1.63613227e+10 -4.95199044e+10\n",
      "   7.54712612e+10 -3.03607124e+11 -1.12064143e+11  2.10353395e+11\n",
      "   7.81331779e+10  6.70391866e+09 -7.01278507e+10 -3.38521354e+11\n",
      "  -1.32922429e+11  1.55134056e+11 -1.43889554e+11]\n",
      " [ 8.11472160e+09  1.67990755e+09  1.07732575e+10  3.52874303e+09\n",
      "  -1.43789551e+11 -4.32832001e+10  5.35909437e+09 -1.62200725e+10\n",
      "   2.47203492e+10 -9.94454579e+10 -3.67062204e+10  6.89005231e+10\n",
      "   2.55922508e+10  2.19584525e+09 -2.29701337e+10 -1.10881493e+11\n",
      "  -4.35382795e+10  5.08136207e+10 -4.71305231e+10]\n",
      " [-3.30659434e+11 -6.84530298e+10 -4.38989702e+11 -1.43789551e+11\n",
      "   5.85915006e+12  1.76370788e+12 -2.18372879e+11  6.60937031e+11\n",
      "  -1.00730710e+12  4.05221281e+12  1.49570850e+12 -2.80756496e+12\n",
      "  -1.04283543e+12 -8.94765075e+10  9.35989154e+11  4.51820943e+12\n",
      "   1.77410188e+12 -2.07055817e+12  1.92047896e+12]\n",
      " [-9.95343428e+10 -2.06055737e+10 -1.32143671e+11 -4.32832001e+10\n",
      "   1.76370788e+12  5.30907293e+11 -6.57341020e+10  1.98953746e+11\n",
      "  -3.03217268e+11  1.21978779e+12  4.50234734e+11 -8.45126750e+11\n",
      "  -3.13911923e+11 -2.69340126e+10  2.81749304e+11  1.36006102e+12\n",
      "   5.34036071e+11 -6.23274660e+11  5.78098162e+11]\n",
      " [ 1.23238101e+10  2.55127194e+09  1.63613227e+10  5.35909437e+09\n",
      "  -2.18372879e+11 -6.57341020e+10  8.13884499e+09 -2.46333889e+10\n",
      "   3.75427407e+10 -1.51027601e+11 -5.57456571e+10  1.04639075e+11\n",
      "   3.88668957e+10  3.33482541e+09 -3.48846921e+10 -1.68395482e+11\n",
      "  -6.61214906e+10  7.71705355e+10 -7.15770230e+10]\n",
      " [-3.72997897e+10 -7.72179272e+09 -4.95199044e+10 -1.62200725e+10\n",
      "   6.60937031e+11  1.98953746e+11 -2.46333889e+10  7.45565065e+10\n",
      "  -1.13628523e+11  4.57106830e+11  1.68722276e+11 -3.16705261e+11\n",
      "  -1.17636269e+11 -1.00933304e+10  1.05583555e+11  5.09673229e+11\n",
      "   2.00126233e+11 -2.33567762e+11  2.16638190e+11]\n",
      " [ 5.68470841e+10  1.17684685e+10  7.54712612e+10  2.47203492e+10\n",
      "  -1.00730710e+12 -3.03217268e+11  3.75427407e+10 -1.13628523e+11\n",
      "   1.73176585e+11 -6.96657826e+11 -2.57142721e+11  4.82677537e+11\n",
      "   1.79284627e+11  1.53828321e+10 -1.60915579e+11 -7.76772125e+11\n",
      "  -3.05004208e+11  3.55971075e+11 -3.30169406e+11]\n",
      " [-2.28685455e+11 -4.73424032e+10 -3.03607124e+11 -9.94454579e+10\n",
      "   4.05221281e+12  1.21978779e+12 -1.51027601e+11  4.57106830e+11\n",
      "  -6.96657826e+11  2.80252742e+12  1.03443829e+12 -1.94172373e+12\n",
      "  -7.21229366e+11 -6.18823288e+10  6.47334034e+11  3.12481264e+12\n",
      "   1.22697632e+12 -1.43200673e+12  1.32821132e+12]\n",
      " [-8.44098753e+10 -1.74745104e+10 -1.12064143e+11 -3.67062204e+10\n",
      "   1.49570850e+12  4.50234734e+11 -5.57456571e+10  1.68722276e+11\n",
      "  -2.57142721e+11  1.03443829e+12  3.81820552e+11 -7.16707837e+11\n",
      "  -2.66212300e+11 -2.28413287e+10  2.38936863e+11  1.15339668e+12\n",
      "   4.52888088e+11 -5.28566672e+11  4.90254844e+11]\n",
      " [ 1.58444114e+11  3.28010592e+10  2.10353395e+11  6.89005231e+10\n",
      "  -2.80756496e+12 -8.45126750e+11  1.04639075e+11 -3.16705261e+11\n",
      "   4.82677537e+11 -1.94172373e+12 -7.16707837e+11  1.34531816e+12\n",
      "   4.99701863e+11  4.28750082e+10 -4.48503678e+11 -2.16501819e+12\n",
      "  -8.50107307e+11  9.92162088e+11 -9.20247711e+11]\n",
      " [ 5.88521149e+10  1.21835495e+10  7.81331779e+10  2.55922508e+10\n",
      "  -1.04283543e+12 -3.13911923e+11  3.88668957e+10 -1.17636269e+11\n",
      "   1.79284627e+11 -7.21229366e+11 -2.66212300e+11  4.99701863e+11\n",
      "   1.85608103e+11  1.59253938e+10 -1.66591168e+11 -8.04169344e+11\n",
      "  -3.15761890e+11  3.68526389e+11 -3.41814679e+11]\n",
      " [ 5.04958075e+09  1.04536289e+09  6.70391866e+09  2.19584525e+09\n",
      "  -8.94765075e+10 -2.69340126e+10  3.33482541e+09 -1.00933304e+10\n",
      "   1.53828321e+10 -6.18823288e+10 -2.28413287e+10  4.28750082e+10\n",
      "   1.59253938e+10  1.36641754e+09 -1.42937183e+10 -6.89986766e+10\n",
      "  -2.70927419e+10  3.16199981e+10 -2.93281019e+10]\n",
      " [-5.28222765e+10 -1.09352539e+10 -7.01278507e+10 -2.29701337e+10\n",
      "   9.35989154e+11  2.81749304e+11 -3.48846921e+10  1.05583555e+11\n",
      "  -1.60915579e+11  6.47334034e+11  2.38936863e+11 -4.48503678e+11\n",
      "  -1.66591168e+11 -1.42937183e+10  1.49522659e+11  7.21776193e+11\n",
      "   2.83409728e+11 -3.30768110e+11  3.06793214e+11]\n",
      " [-2.54983839e+11 -5.27866878e+10 -3.38521354e+11 -1.10881493e+11\n",
      "   4.51820943e+12  1.36006102e+12 -1.68395482e+11  5.09673229e+11\n",
      "  -7.76772125e+11  3.12481264e+12  1.15339668e+12 -2.16501819e+12\n",
      "  -8.04169344e+11 -6.89986766e+10  7.21776193e+11  3.48416003e+12\n",
      "   1.36807622e+12 -1.59668473e+12  1.48095305e+12]\n",
      " [-1.00120925e+11 -2.07270078e+10 -1.32922429e+11 -4.35382795e+10\n",
      "   1.77410188e+12  5.34036071e+11 -6.61214906e+10  2.00126233e+11\n",
      "  -3.05004208e+11  1.22697632e+12  4.52888088e+11 -8.50107307e+11\n",
      "  -3.15761890e+11 -2.70927419e+10  2.83409728e+11  1.36807622e+12\n",
      "   5.37183288e+11 -6.26947784e+11  5.81505049e+11]\n",
      " [ 1.16851350e+11  2.41905359e+10  1.55134056e+11  5.08136207e+10\n",
      "  -2.07055817e+12 -6.23274660e+11  7.71705355e+10 -2.33567762e+11\n",
      "   3.55971075e+11 -1.43200673e+12 -5.28566672e+11  9.92162088e+11\n",
      "   3.68526389e+11  3.16199981e+10 -3.30768110e+11 -1.59668473e+12\n",
      "  -6.26947784e+11  7.31712123e+11 -6.78675807e+11]\n",
      " [-1.08381673e+11 -2.24371457e+10 -1.43889554e+11 -4.71305231e+10\n",
      "   1.92047896e+12  5.78098162e+11 -7.15770230e+10  2.16638190e+11\n",
      "  -3.30169406e+11  1.32821132e+12  4.90254844e+11 -9.20247711e+11\n",
      "  -3.41814679e+11 -2.93281019e+10  3.06793214e+11  1.48095305e+12\n",
      "   5.81505049e+11 -6.78675807e+11  6.29483696e+11]]\n"
     ]
    }
   ],
   "source": [
    "bcs_1 = np.multiply(len(df3_1),np.outer((m_1 - mean_all),(m_1 - mean_all)))\n",
    "bcs_2 = np.multiply(len(df3_2),np.outer((m_2 - mean_all),(m_2 - mean_all)))\n",
    "print(bcs_1.shape)\n",
    "\n",
    "between_class_scatter = bcs_1 + bcs_2\n",
    "\n",
    "e_val, e_vector = np.linalg.eig(lg.inv(within_class_scatter) @ between_class_scatter)\n",
    "for e, _ in enumerate(e_val):\n",
    "    e_scatter = e_vector[:,e].reshape(19,1)\n",
    "    # print(e_val[e].real)\n",
    "\n",
    "print(between_class_scatter)"
   ]
  },
  {
   "cell_type": "code",
   "execution_count": 104,
   "id": "f1cf41e7",
   "metadata": {},
   "outputs": [],
   "source": [
    "eig_pairs = [(np.abs(e_val[i]).real, e_vector[:,i].real) for i in range(len(e_val))]\n",
    "\n",
    "eig_pairs = sorted(eig_pairs, key=lambda k: k[0], reverse=True)"
   ]
  },
  {
   "cell_type": "code",
   "execution_count": 98,
   "id": "2ed17ef4",
   "metadata": {},
   "outputs": [
    {
     "name": "stdout",
     "output_type": "stream",
     "text": [
      "Eigenvalues in decreasing order:\n",
      "\n"
     ]
    }
   ],
   "source": [
    "print('Eigenvalues in decreasing order:\\n')\n",
    "for i in eig_pairs:\n",
    "    # print(i[0])\n",
    "    i"
   ]
  },
  {
   "cell_type": "code",
   "execution_count": 96,
   "id": "4dafb231",
   "metadata": {},
   "outputs": [],
   "source": [
    "first_eigenvalue = eig_pairs[0][1].reshape(19,1)\n",
    "W = first_eigenvalue\n",
    "\n",
    "# W"
   ]
  },
  {
   "cell_type": "code",
   "execution_count": 107,
   "id": "9fdc8934",
   "metadata": {},
   "outputs": [],
   "source": [
    "# 40*19x19*1\n",
    "lda_project = df2 @ W\n",
    "\n",
    "# lda_project"
   ]
  },
  {
   "cell_type": "code",
   "execution_count": 108,
   "id": "bca4710d",
   "metadata": {
    "lines_to_next_cell": 2
   },
   "outputs": [
    {
     "name": "stderr",
     "output_type": "stream",
     "text": [
      "/tmp/ipykernel_2399083/3587563490.py:7: UserWarning: Matplotlib is currently using module://matplotlib_inline.backend_inline, which is a non-GUI backend, so cannot show the figure.\n",
      "  fig.show()\n"
     ]
    },
    {
     "data": {
      "image/png": "[encoded data removed]",
      "text/plain": [
       "<Figure size 432x288 with 1 Axes>"
      ]
     },
     "metadata": {
      "needs_background": "light"
     },
     "output_type": "display_data"
    }
   ],
   "source": [
    "#plot\n",
    "fig = plt.figure()\n",
    "ax = fig.add_subplot(1, 1, 1)\n",
    "ax.set_title('LDA')\n",
    "ax.plot(lda_project[0:20], np.zeros(20), linestyle='None', marker='o', color='blue', label='NSCLC')\n",
    "ax.plot(lda_project[20:40], np.zeros(20), linestyle='None', marker='o', color='red', label='SCLC')\n",
    "fig.show()"
   ]
  },
  {
   "cell_type": "code",
   "execution_count": 3,
   "id": "5c0ca26e",
   "metadata": {
    "lines_to_next_cell": 2
   },
   "outputs": [
    {
     "name": "stdout",
     "output_type": "stream",
     "text": [
      "[[ 3.25296264]\n",
      " [ 6.87395904]\n",
      " [ 4.22018965]\n",
      " [ 5.07509696]\n",
      " [ 3.93463394]\n",
      " [ 5.72516785]\n",
      " [ 3.8613171 ]\n",
      " [ 3.95272386]\n",
      " [ 5.28479124]\n",
      " [ 3.26522652]\n",
      " [ 5.08498545]\n",
      " [ 3.57189064]\n",
      " [ 5.05511495]\n",
      " [ 3.15378176]\n",
      " [ 4.86686796]\n",
      " [ 2.81120157]\n",
      " [ 3.93543558]\n",
      " [ 3.39771836]\n",
      " [ 3.25628819]\n",
      " [ 3.21596383]\n",
      " [-4.49065733]\n",
      " [-4.6115194 ]\n",
      " [-3.45215203]\n",
      " [-2.75643608]\n",
      " [-3.83408221]\n",
      " [-3.54607243]\n",
      " [-3.25235288]\n",
      " [-3.40306303]\n",
      " [-4.04197759]\n",
      " [-4.35872643]\n",
      " [-5.76347876]\n",
      " [-5.589837  ]\n",
      " [-5.74304609]\n",
      " [-3.85936631]\n",
      " [-3.13967526]\n",
      " [-3.56371641]\n",
      " [-5.68605839]\n",
      " [-4.9237813 ]\n",
      " [-3.53641015]\n",
      " [-4.242908  ]]\n"
     ]
    },
    {
     "name": "stderr",
     "output_type": "stream",
     "text": [
      "/tmp/ipykernel_2399083/2883398154.py:18: UserWarning: Matplotlib is currently using module://matplotlib_inline.backend_inline, which is a non-GUI backend, so cannot show the figure.\n",
      "  fig.show()\n"
     ]
    },
    {
     "data": {
      "image/png": "[encoded data removed]",
      "text/plain": [
       "<Figure size 432x288 with 1 Axes>"
      ]
     },
     "metadata": {
      "needs_background": "light"
     },
     "output_type": "display_data"
    }
   ],
   "source": [
    "\n",
    "y1_ = [1, 1, 1, 1, 1, 1, 1, 1, 1, 1, 1, 1, 1, 1, 1, 1, 1, 1, 1, 1, 2, 2, 2, 2, 2, 2, 2, 2, 2, 2, 2, 2, 2, 2, 2, 2, 2, 2, 2, 2] \n",
    "\n",
    "# LDA\n",
    "from sklearn.discriminant_analysis import LinearDiscriminantAnalysis as LDA\n",
    "sklearn_lda = LDA(n_components=1)\n",
    "X_lda_sklearn = sklearn_lda.fit_transform(df2, y1_)\n",
    "\n",
    "X_lda_sklearn= -X_lda_sklearn\n",
    "\n",
    "print(X_lda_sklearn)\n",
    "\n",
    "#plot\n",
    "fig = plt.figure()\n",
    "ax = fig.add_subplot(1, 1, 1)\n",
    "ax.set_title('LDA')\n",
    "ax.plot(X_lda_sklearn[0:20], np.zeros(20), linestyle='None', marker='o', color='blue', label='NSCLC')\n",
    "ax.plot(X_lda_sklearn[20:40], np.zeros(20), linestyle='None', marker='o', color='red', label='SCLC')\n",
    "fig.show()"
   ]
  },
  {
   "cell_type": "code",
   "execution_count": null,
   "id": "2f7789c0",
   "metadata": {},
   "outputs": [],
   "source": []
  }
 ],
 "metadata": {
  "jupytext": {
   "cell_metadata_filter": "-all",
   "encoding": "# coding: utf-8",
   "main_language": "python",
   "notebook_metadata_filter": "-all"
  },
  "kernelspec": {
   "display_name": "Python 3.8.11 ('DataScience')",
   "language": "python",
   "name": "python3"
  },
  "language_info": {
   "codemirror_mode": {
    "name": "ipython",
    "version": 3
   },
   "file_extension": ".py",
   "mimetype": "text/x-python",
   "name": "python",
   "nbconvert_exporter": "python",
   "pygments_lexer": "ipython3",
   "version": "3.8.11"
  },
  "vscode": {
   "interpreter": {
    "hash": "258d3ea1c48575149cc29bf4b616816ab3e7db99df48e2518525ca0989ddf230"
   }
  }
 },
 "nbformat": 4,
 "nbformat_minor": 5
}
