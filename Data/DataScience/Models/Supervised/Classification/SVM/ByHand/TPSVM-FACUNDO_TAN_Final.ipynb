{
 "cells": [
  {
   "cell_type": "markdown",
   "metadata": {},
   "source": [
    "# Computer Lab: Séparateurs à Vaste Marge \n",
    "\n",
    "## Students: Frank FACUNDO, Lei TAN\n",
    "\n",
    "**SD-TSIA 211**\n"
   ]
  },
  {
   "cell_type": "markdown",
   "metadata": {},
   "source": [
    "Import of libraries:"
   ]
  },
  {
   "cell_type": "code",
   "execution_count": 1,
   "metadata": {},
   "outputs": [],
   "source": [
    "import breastcancerutils as bcu\n",
    "import numpy as np\n",
    "import numpy.linalg as linear\n",
    "import matplotlib.pyplot as plt\n",
    "import scipy.optimize\n",
    "import scipy.sparse\n",
    "import scipy.sparse.linalg\n",
    "import random\n",
    "import math\n",
    "import time"
   ]
  },
  {
   "cell_type": "markdown",
   "metadata": {},
   "source": [
    "## Question 1 - Import data\n",
    "\n",
    "We will work with a file called wdbcM1B0.data which contains information about breast cancer. It contains some characteristics $X_i$ and tags $Y$. To get the data of this .csv file, we will use the functions provided by the mentors. They are on the file **breastcancerutils.py**. In this first step, we will import the data and the libraries to make this Lab."
   ]
  },
  {
   "cell_type": "markdown",
   "metadata": {},
   "source": [
    "Import data :"
   ]
  },
  {
   "cell_type": "code",
   "execution_count": 2,
   "metadata": {},
   "outputs": [],
   "source": [
    "import numpy as np\n",
    "\n",
    "def load_breastcancer(filename):\n",
    "    \"\"\"\n",
    "    Cette fonction lit le fichier filename, par exemple\n",
    "    filename = 'wdbc_M1_B0.data'\n",
    "    Elle retourne \n",
    "    X : une matrice de caracteristiques\n",
    "    y : un vecteur des classes tel que si y[i] = 1, la tumeur est maligne\n",
    "        et si y[i] = -1, la tumeur est benigne\n",
    "\n",
    "    Pour plus d'infos sur la base de donnees,\n",
    "    https://archive.ics.uci.edu/ml/datasets/Breast+Cancer+Wisconsin+%28Prognostic%29\n",
    "    \"\"\"\n",
    "\n",
    "    data = np.loadtxt(filename, delimiter=',')\n",
    "\n",
    "    # la colonne 0 ne nous interesse pas ici\n",
    "    y = data[:, 1] * 2 - 1\n",
    "    X = data[:, 2:]\n",
    "\n",
    "    # Standardisation de la matrice\n",
    "    X = X - np.mean(X, axis=0)\n",
    "    X = X / np.std(X, axis=0)\n",
    "\n",
    "    return X, y\n"
   ]
  },
  {
   "cell_type": "code",
   "execution_count": 3,
   "metadata": {},
   "outputs": [],
   "source": [
    "X, y = load_breastcancer(\"wdbcM1B0.data\")"
   ]
  },
  {
   "cell_type": "code",
   "execution_count": 4,
   "metadata": {},
   "outputs": [
    {
     "name": "stdout",
     "output_type": "stream",
     "text": [
      "(569, 30)\n",
      "(569,)\n"
     ]
    }
   ],
   "source": [
    "print(np.shape(X))\n",
    "print(np.shape(y))"
   ]
  },
  {
   "cell_type": "markdown",
   "metadata": {},
   "source": [
    "## Question 2 - Subgradient method"
   ]
  },
  {
   "cell_type": "markdown",
   "metadata": {},
   "source": [
    "Given the problem: $$\\min _{ v\\in \\mathbb{R}^{ m },a\\in \\mathbb{R},\\xi \\in \\mathbb{R}^{ n } }{ \\frac { 1 }{ 2 } \\sum _{ j=1 }^{ m }{ v^{ 2 }_{ j } } +c\\sum _{ i=1 }^{ n }{ \\xi _{ i } }  } \\qquad (1)$$\n",
    "\n",
    "With $\\xi_i \\ge 0, \\forall i \\in \\{1,..,n\\}$ and $\\xi_i \\ge 1-y_i(x_i^T v + a), \\forall i \\in \\{1,..,n\\}$.\n",
    "\n",
    "### Question 2.1\n",
    "The problem (1) can be written as : \n",
    "$$\\min _{ v\\in \\mathbb{R}^{ m },a\\in \\mathbb{R} }{ \\min _{ \\xi \\in \\mathbb{R}^{ n } }{ \\frac { 1 }{ 2 } \\sum _{ j=1 }^{ m }{ v^{ 2 }_{ j } } +c\\sum _{ i=1 }^{ n }{ \\xi _{ i } }  }  } $$\n",
    "\n",
    "The first part $\\frac { 1 }{ 2 } \\sum _{ j=1 }^{ m }{ v^{ 2 }_{ j } } $ does not depend on $\\xi$, so we can focus on solving this problem : \n",
    "\n",
    "$\\min _{ \\xi \\in \\mathbb{R}^{ n } }{ c\\sum _{ i=1 }^{ n }{ \\xi _{ i } }  } $\n",
    "\n",
    "According the (1) each $\\xi_i$ have to respect $\\xi_i \\ge 0$ and $\\xi_i \\ge 1-y_i(x_i^T v + a)$. So, each $\\xi _{ i }\\ge \\max { \\left( 0,1-y_{ i }(x_{ i }^{ T }v+a) \\right)  } $. As all $\\xi_i$ and $\\max { \\left( 0,1-y_{ i }(x_{ i }^{ T }v+a) \\right)  }$ are positive, this inequality holds:\n",
    "\n",
    "$$\\sum _{ i=1 }^{ n }{ \\xi _{ i } } \\ge \\sum _{ i=1 }^{ n }{ \\max { \\left( 0,1-y_{ i }(x_{ i }^{ T }v+a) \\right)  }  }$$\n",
    "\n",
    "As each $\\xi_i \\in \\mathbb{R}$, the minimum of each $\\xi_i$ is reached in  $\\max { \\left( 0,1-y_{ i }(x_{ i }^{ T }v+a) \\right)  }$. Therefore, $\\min _{ \\xi \\in \\mathbb{R}^{ n } }{ c\\sum _{ i=1 }^{ n }{ \\xi _{ i } }  } = c\\sum _{ i=1 }^{ n }{ \\max { \\left( 0,1-y_{ i }(x_{ i }^{ T }v+a) \\right)  }  }$ \n",
    "\n",
    "And (1) is equivalent to :\n",
    "\n",
    "$$\\min _{ v\\in \\mathbb{R}^{ m },a\\in \\mathbb{R} }{ \\frac { 1 }{ 2 } \\sum _{ j=1 }^{ m }{ v^{ 2 }_{ j } } +c\\sum _{ i=1 }^{ n }{ \\max { \\left( 0,1-y_{ i }(x_{ i }^{ T }v+a) \\right)  }  }  } \\qquad (2) $$\n"
   ]
  },
  {
   "cell_type": "markdown",
   "metadata": {},
   "source": [
    "### Question 2.2\n",
    "\n",
    "$\\partial h(z)=\\begin{cases} \\{ -1\\} ; \\quad z<1 \\\\ [-1;0];\\quad z=1 \\\\ \\{ 0\\} ;\\quad z>1 \\end{cases}$"
   ]
  },
  {
   "cell_type": "code",
   "execution_count": 5,
   "metadata": {},
   "outputs": [
    {
     "data": {
      "image/png": "[encoded data removed]",
      "text/plain": [
       "<Figure size 432x288 with 1 Axes>"
      ]
     },
     "metadata": {
      "needs_background": "light"
     },
     "output_type": "display_data"
    }
   ],
   "source": [
    "x1 = np.linspace(-1,1,10)\n",
    "x2 = np.linspace(1,3,10)\n",
    "plt.plot(x1, 1 - x1,'r', label = \"z < 1\")\n",
    "plt.plot(x2,0*x2,'g', label = \"z > 1\")\n",
    "\n",
    "plt.title(\"h(z)\")\n",
    "plt.xlabel(\"z\")\n",
    "plt.legend()\n",
    "plt.grid()\n",
    "plt.show()"
   ]
  },
  {
   "cell_type": "code",
   "execution_count": 6,
   "metadata": {},
   "outputs": [
    {
     "data": {
      "image/png": "[encoded data removed]",
      "text/plain": [
       "<Figure size 432x288 with 1 Axes>"
      ]
     },
     "metadata": {
      "needs_background": "light"
     },
     "output_type": "display_data"
    }
   ],
   "source": [
    "x1 = np.linspace(-1,1,10)\n",
    "x2 = np.linspace(1,3,10)\n",
    "y1 = np.linspace(-1,-1,10)\n",
    "plt.plot(x1, y1,'r', label = \"z < 1\")\n",
    "plt.plot(x2,0*x2,'g', label = \"z > 1\")\n",
    "\n",
    "plt.title(\"d h(z)\")\n",
    "plt.xlabel(\"z\")\n",
    "plt.legend()\n",
    "plt.grid()\n",
    "plt.show()"
   ]
  },
  {
   "cell_type": "markdown",
   "metadata": {},
   "source": [
    "### Question 2.3\n",
    "Let \n",
    "$$f\\left( v,a \\right)=\\frac { 1 }{ 2 } \\sum _{ j=1 }^{ m }{ v^{ 2 }_{ j } } +c\\sum _{ i=1 }^{ n }{ \\max { \\left( 0,1-y_{ i }(x_{ i }^{ T }v+a) \\right)  }  }  $$\n",
    "\n",
    "Let $$N(v,a) = \\frac { 1 }{ 2 }\\sum _{ j=1 }^{ m }{ v^{ 2 }_{ j } } + 0a^2 = \\frac { 1 }{ 2 } \\sum _{ j=1 }^{ m + 1}{ \\overset{\\sim }{v} ^{ 2 }_{ j } } = \\frac { 1 }{ 2 } \\overset{\\sim }{v}^T\\overset{\\sim }{v}$$ \n",
    "\n",
    "with $\\overset{\\sim }{v} = \\{v_1,v_2,...,v_j,0\\}$\n",
    "\n",
    "Let us show that $N(v,a)$ is separable\n",
    "\n",
    "Let \n",
    "$$\\psi_i(v) = \\frac { 1 }{ 2 }v^2 \\qquad \\text{where }v\\in \\mathbb{R}$$\n",
    "$$N(v,a)=\\sum _{ j=1 }^{ m + 1}{ \\psi_i(\\overset{\\sim }{v}_j) }$$\n",
    "\n",
    "Let \n",
    "\n",
    "$$H(x) = \\sum _{ i=1 }^{ n }{ \\max { \\left( 0,1-x_i \\right)  }  }$$\n",
    "\n",
    "Let $\\phi_i(x_i)=max(0,1-x_i)$. It is clear that $H(x) = \\sum _{ i=1 }^{ n }{\\phi_i(x_i)}$ So $H(x)$ is separable\n",
    "\n",
    "Let \n",
    "$$M(v,a) = Diag(Y)\\overset{\\sim }{X}\\left( \\begin{matrix} v \\\\ a \\end{matrix} \\right) $$ \n",
    "where $\\overset{\\sim }{X}=\\left( x_1,x_2,..,x_m,\\mathbb{1}  \\right) $, $Y=(y_1,...,y_n)$, $x_i$ is a column vector of $X$. $\\mathbb{1}$ is a column vector composed of n elements. All of them are 1. Then $M = Y\\overset{\\sim }{X}$"
   ]
  },
  {
   "cell_type": "markdown",
   "metadata": {},
   "source": [
    "Then on demontre la derivé au-dessous :"
   ]
  },
  {
   "cell_type": "markdown",
   "metadata": {},
   "source": [
    "$$\\partial f(v,a) = \\partial(N(v,a)+cH(M(v,a))) = \\partial N(v,a) + cM(v,a)^T\\partial H(M(v,a))$$"
   ]
  },
  {
   "cell_type": "markdown",
   "metadata": {},
   "source": [
    "As $N(v,a)$ is separable and each $\\psi_i(v) $ is differentiable, then\n",
    "\n",
    "$$\\partial N(v,a) = (\\nabla\\psi_1(v_1),\\nabla\\psi_2(v_2),...,\\nabla\\psi_{m}(v_{m}),\\nabla\\psi_{m+1}(a))^T = (v_1,v_2,...,v_n,0)^T$$\n",
    "\n",
    "For $\\partial H(M(v,a))$, we procede likewise as it is separable. So\n",
    "\n",
    "$$\\partial H(M(v,a)) = \\left(\\partial\\phi_1(M_1(v,a)),\\partial\\phi_2(M_2(v,a)),..,\\partial\\phi_n(M_n(v,a))\\right)^T$$\n",
    "\n",
    "where $\\phi_i(M_i(v,a)) \\begin{cases} \\{ -1\\} ; \\quad\\quad M_i(v,a)<1 \\\\ [-1;0];\\quad M_i(v,a)=1 \\\\ \\{ 0\\} ;\\quad\\quad M_i(v,a)>1 \\end{cases}$ \n",
    "\n",
    "and $M_i(v,a)$ is the *i-th* coordinate of the vector $M_i(v,a)$.\n"
   ]
  },
  {
   "cell_type": "markdown",
   "metadata": {},
   "source": [
    "### Question 2.4\n",
    "\n",
    "Cette fonction retourne la valeur de la fonction $f(v,a)$ et un de ses sous-gradient en tout point. On utilisera la base de données $diabeticRetinopathy$ et c = 1."
   ]
  },
  {
   "cell_type": "code",
   "execution_count": 7,
   "metadata": {},
   "outputs": [],
   "source": [
    "dims = np.shape(X)\n",
    "n = dims[0]\n",
    "m = dims[1]\n",
    "c = 1\n",
    "\n",
    "a = 0\n",
    "v = np.zeros(m)"
   ]
  },
  {
   "cell_type": "code",
   "execution_count": 8,
   "metadata": {},
   "outputs": [],
   "source": [
    "\"\"\"\n",
    "This returns the operator M (M_constant), this is a matrix of size n x (m+1)\n",
    "\"\"\"\n",
    "def M_matrix(X):    \n",
    "    X_extended = np.ones((n,m+1))\n",
    "    X_extended[:,:-1] = X\n",
    "    M_matrix = np.diag(y)@X_extended\n",
    "    return M_matrix"
   ]
  },
  {
   "cell_type": "code",
   "execution_count": 9,
   "metadata": {},
   "outputs": [],
   "source": [
    "M_constant = M_matrix(X)"
   ]
  },
  {
   "cell_type": "code",
   "execution_count": 10,
   "metadata": {},
   "outputs": [],
   "source": [
    "def M(v,a):\n",
    "    v_a = np.append(v,a)\n",
    "    M = M_constant@v_a\n",
    "    return M"
   ]
  },
  {
   "cell_type": "code",
   "execution_count": 11,
   "metadata": {},
   "outputs": [],
   "source": [
    "\"\"\"\n",
    "This is each component of H before compute the somme.\n",
    "it means a vector of size n with a function max(0, 1-xi) \n",
    "\"\"\"\n",
    "def Hi(M):\n",
    "    return np.maximum( np.zeros(np.shape(M)) , 1-M )"
   ]
  },
  {
   "cell_type": "code",
   "execution_count": 12,
   "metadata": {},
   "outputs": [],
   "source": [
    "def H(Hi):\n",
    "    h = np.sum ( Hi )\n",
    "    return h"
   ]
  },
  {
   "cell_type": "code",
   "execution_count": 13,
   "metadata": {},
   "outputs": [],
   "source": [
    "def N(v):\n",
    "    v_extended = np.append(v,0)\n",
    "    N = 0.5*np.dot(v_extended,v_extended)\n",
    "    return N"
   ]
  },
  {
   "cell_type": "code",
   "execution_count": 14,
   "metadata": {},
   "outputs": [],
   "source": [
    "def f(v,a,c):\n",
    "    f_ = N(v) + c*H( Hi( M(v,a) ) )\n",
    "    return f_"
   ]
  },
  {
   "cell_type": "code",
   "execution_count": 15,
   "metadata": {},
   "outputs": [],
   "source": [
    "def gradN(v):\n",
    "    return np.append(v,0)"
   ]
  },
  {
   "cell_type": "code",
   "execution_count": 16,
   "metadata": {},
   "outputs": [],
   "source": [
    "def subgradientH(v,a):\n",
    "    M_ = M(v,a)\n",
    "    subgradient_h = []\n",
    "    for item in M_:\n",
    "        if item < 1:\n",
    "            subgradient_h.append(-1)\n",
    "        elif item > 1:\n",
    "            subgradient_h.append(0)\n",
    "        else:\n",
    "            subgradient_h.append(np.random.uniform(-1,0))\n",
    "    \n",
    "    subgradient_H =  (M_constant.T) @ subgradient_h\n",
    "    return subgradient_H"
   ]
  },
  {
   "cell_type": "code",
   "execution_count": 17,
   "metadata": {},
   "outputs": [],
   "source": [
    "def subgradientF(v,a,c):\n",
    "    return gradN(v) + c*subgradientH(v,a)"
   ]
  },
  {
   "cell_type": "code",
   "execution_count": 18,
   "metadata": {},
   "outputs": [
    {
     "data": {
      "text/plain": [
       "array([-401.67227502, -228.44097367, -408.60883936, -390.09318973,\n",
       "       -197.28489321, -328.22148127, -383.14721063, -427.3041985 ,\n",
       "       -181.84509798,    7.0634352 , -312.04525371,    4.56861423,\n",
       "       -305.99668108, -301.64736575,   36.873181  , -161.21243374,\n",
       "       -139.60579724, -224.51080955,    3.58836467,  -42.90155493,\n",
       "       -427.21613038, -251.39455908, -430.77071337, -403.76117734,\n",
       "       -231.89607933, -325.17580208, -362.92710448, -436.63153222,\n",
       "       -229.05116772, -178.19917556,  145.        ])"
      ]
     },
     "execution_count": 18,
     "metadata": {},
     "output_type": "execute_result"
    }
   ],
   "source": [
    "subgradientF(v,a,c)"
   ]
  },
  {
   "cell_type": "markdown",
   "metadata": {},
   "source": [
    "### Question 2.5\n",
    "\n",
    "Méthode du sous-gradient avec condition initiale (v, a) = 0."
   ]
  },
  {
   "cell_type": "code",
   "execution_count": 19,
   "metadata": {},
   "outputs": [],
   "source": [
    "def subGradientMethod(v,a,c=1,step=1000):\n",
    "    v_k = v\n",
    "    a_k = a\n",
    "    gamma = 1/(step+1)\n",
    "    for i in range(step-1):\n",
    "        g_k = subgradientF(v_k,a_k,c)\n",
    "        v_k1 = v_k - gamma*g_k[0:np.size(g_k)-1]\n",
    "        a_k1 = a_k - gamma*g_k[np.size(g_k)-1]\n",
    "        v_k = v_k1\n",
    "        a_k = a_k1\n",
    "        #To check the convergence: print(f(v_k1,a_k1,c))\n",
    "    \n",
    "    return f(v_k1,a_k1,c)"
   ]
  },
  {
   "cell_type": "code",
   "execution_count": 20,
   "metadata": {},
   "outputs": [
    {
     "name": "stdout",
     "output_type": "stream",
     "text": [
      "The optimized value of f is:  26.755323494551583\n",
      "The time taken for 1000 iterations is :  0.6983604431152344 seconds.\n"
     ]
    }
   ],
   "source": [
    "step = 1000\n",
    "a = 0\n",
    "v = np.zeros(m)\n",
    "start_time = time.time()\n",
    "optimal_value = subGradientMethod(v,a,c,step)\n",
    "timelapse = time.time() - start_time\n",
    "print(\"The optimized value of f is: \",optimal_value)\n",
    "print(\"The time taken for 1000 iterations is : \",timelapse, \"seconds.\")"
   ]
  },
  {
   "cell_type": "code",
   "execution_count": 21,
   "metadata": {},
   "outputs": [],
   "source": [
    "ite = 500\n",
    "liste=[]\n",
    "for i in range(ite):\n",
    "    optimal_value = subGradientMethod(v,a,c,i+2)\n",
    "    liste.append(optimal_value)"
   ]
  },
  {
   "cell_type": "code",
   "execution_count": 22,
   "metadata": {},
   "outputs": [
    {
     "data": {
      "image/png": "[encoded data removed]",
      "text/plain": [
       "<Figure size 432x288 with 1 Axes>"
      ]
     },
     "metadata": {
      "needs_background": "light"
     },
     "output_type": "display_data"
    }
   ],
   "source": [
    "plt.plot(liste)\n",
    "plt.yscale('log')\n",
    "plt.title('Optimal value for Subgradient Method (log scale)')\n",
    "plt.xlabel('number of iterations')\n",
    "plt.grid(True)"
   ]
  },
  {
   "cell_type": "markdown",
   "metadata": {},
   "source": [
    "## Question 3 - Méthode du sous-gradient stochastique"
   ]
  },
  {
   "cell_type": "markdown",
   "metadata": {},
   "source": [
    "Let $$f_i\\left( v,a \\right)=\\frac { 1 }{ 2 } \\sum _{ j=1 }^{ m }{ v^{ 2 }_{ j } } +cn\\max { \\left( 0,1-y_{ i }(x_{ i }^{ T }v+a) \\right) } $$"
   ]
  },
  {
   "cell_type": "markdown",
   "metadata": {},
   "source": [
    "### Question 3.1\n",
    "\n",
    "Let I a random variable which follows an uniform distribution over $\\{1,...,n\\}$. Let us find $\\mathbb{E}[f_I(v,a)]$\n",
    "\n",
    "$$\\mathbb{E}[f_I(v,a)] = \\sum _{ i=1 }^{ n }{ f_{ i }(v,a) \\mathbb{P}(I=i) } = \\sum _{ i=1 }^{ n }{ \\frac1nf_{ i }(v,a)}$$ because I follows an uniform distribution.\n",
    "\n",
    "So $$\\mathbb{E}[f_I(v,a)] = \\sum _{ i=1 }^{ n }{ \\frac1n \\left(\\frac { 1 }{ 2 } \\sum _{ j=1 }^{ m }{ v^{ 2 }_{ j } } +cn\\max { \\left( 0,1-y_{ i }\\left(x_{ i }^{ T }v+a\\right) \\right) }\\right)} = \\frac { 1 }{ 2 } \\sum _{ j=1 }^{ m }{ v^{ 2 }_{ j } } +c\\sum _{ i=1 }^{ n }{ \\max { \\left( 0,1-y_{ i }(x_{ i }^{ T }v+a) \\right)  }  } = f(v,a)$$"
   ]
  },
  {
   "cell_type": "markdown",
   "metadata": {},
   "source": [
    "### Question 3.2\n",
    "\n",
    "Using the same procedure as in the previous exercise, $f_i(v,a)$ can be decomposed in two functions:\n",
    "\n",
    "$$f_i(v,a) = N(v,a) + cn \\psi(M_i(v,a))$$ \n",
    "\n",
    "with $N(v,a)$ as previously defined, \n",
    "$ \\psi(x)$  is the \n",
    "\n",
    "$$ \\max { \\left( 0,1-M_i(v,a) \\right)  }$$ \n",
    "\n",
    "and $M_i(v,a)$ is the *i=th* component of $M(v,a)$\n",
    "\n",
    "Then \n",
    "\n",
    "$$\\partial f_i(v,a) = \\partial N(v,a) + cnM^T_i\\partial\\psi_i(M_i(v,a)) $$\n",
    "\n",
    "$$= (v_1,....,v_m,0)^T + cnM^T_i\\partial\\psi_i(M_i(v,a))$$ \n",
    "\n",
    "with $\\partial\\psi(x)$ as defined above and $M_i$ the *i-th* line of M (before the tranpose)."
   ]
  },
  {
   "cell_type": "markdown",
   "metadata": {},
   "source": [
    "### Question 3.3 - Method stochastic subgradient"
   ]
  },
  {
   "cell_type": "code",
   "execution_count": 23,
   "metadata": {},
   "outputs": [],
   "source": [
    "def subgradientHi(v,a,Ik):\n",
    "    Mi_ = M_constant[Ik]\n",
    "    Mi = np.dot(Mi_, np.append(v,a))\n",
    "    if Mi < 1:\n",
    "        subgradient_h = -1\n",
    "    elif Mi > 1:\n",
    "        subgradient_h = 0\n",
    "    else:\n",
    "        subgradient_h = np.random.uniform(-1,0)\n",
    "    \n",
    "    subgradient_H =  (Mi_.T) * subgradient_h\n",
    "    return subgradient_H"
   ]
  },
  {
   "cell_type": "code",
   "execution_count": 24,
   "metadata": {},
   "outputs": [],
   "source": [
    "def subgradientFi(v,a,c, Ik):\n",
    "    return gradN(v) + c*n*subgradientHi(v,a, Ik)"
   ]
  },
  {
   "cell_type": "code",
   "execution_count": 25,
   "metadata": {},
   "outputs": [],
   "source": [
    "def subGradientStochasticMethod(v,a,c=1,step=1000):\n",
    "    v_k = v\n",
    "    a_k = a\n",
    "    gamma = 1/(step+1)\n",
    "    for i in range(step-1):\n",
    "        Ik = np.random.randint(n)\n",
    "        g_k = subgradientFi(v_k,a_k,c, Ik)\n",
    "        v_k1 = v_k - gamma*g_k[0:np.size(g_k)-1]\n",
    "        a_k1 = a_k - gamma*g_k[np.size(g_k)-1]\n",
    "        v_k = v_k1\n",
    "        a_k = a_k1\n",
    "        #To check the convergence: print(f(v_k1,a_k1,c))\n",
    "    \n",
    "    return f(v_k1,a_k1,c)"
   ]
  },
  {
   "cell_type": "code",
   "execution_count": 26,
   "metadata": {},
   "outputs": [
    {
     "name": "stdout",
     "output_type": "stream",
     "text": [
      "The optimized value of f is:  26.83268202073277\n",
      "The time taken for 100000 iterations is :  2.450812816619873 seconds.\n"
     ]
    }
   ],
   "source": [
    "step = 100000\n",
    "a = 0\n",
    "v = np.zeros(m)\n",
    "start_time = time.time()\n",
    "subGradientStochasticMethod(v,a,c,step)\n",
    "timelapse = time.time() - start_time\n",
    "print(\"The optimized value of f is: \",optimal_value)\n",
    "print(\"The time taken for 100000 iterations is : \",timelapse, \"seconds.\")"
   ]
  },
  {
   "cell_type": "code",
   "execution_count": 27,
   "metadata": {},
   "outputs": [],
   "source": [
    "ite = 1000\n",
    "liste=[]\n",
    "for i in range(ite):\n",
    "    optimal_value = subGradientStochasticMethod(v,a,c,i+2)\n",
    "    liste.append(optimal_value)"
   ]
  },
  {
   "cell_type": "code",
   "execution_count": 28,
   "metadata": {},
   "outputs": [
    {
     "data": {
      "image/png": "[encoded data removed]",
      "text/plain": [
       "<Figure size 432x288 with 1 Axes>"
      ]
     },
     "metadata": {
      "needs_background": "light"
     },
     "output_type": "display_data"
    }
   ],
   "source": [
    "plt.plot(liste)\n",
    "plt.yscale('log')\n",
    "plt.title('Optimal value for Gradient Stochastic Method(log scale)')\n",
    "plt.xlabel('number of iterations')\n",
    "plt.grid(True)"
   ]
  },
  {
   "cell_type": "markdown",
   "metadata": {},
   "source": [
    "## Question 4 - Méthode du lagrangien augmenté"
   ]
  },
  {
   "cell_type": "markdown",
   "metadata": {},
   "source": [
    "### Question 4.1\n",
    "Give the Lagrangien of the problem 1."
   ]
  },
  {
   "cell_type": "markdown",
   "metadata": {},
   "source": [
    "$$L\\left( v,a,\\xi,\\varphi,\\psi \\right)=\\frac { 1 }{ 2 } \\sum _{ j=1 }^{ m }{ v^{ 2 }_{ j } } +c\\sum _{ i=1 }^{ n }{ \\xi_i  } +\\sum _{ i=1 }^{ n }{ -\\varphi_i\\xi_i  } +\\sum _{ i=1 }^{ n }{ -\\psi_i(-\\xi_i+1-y_i(x_i^Tv+a))} - l_{R_+^n}(\\varphi) - l_{R_+^n}(\\psi)$$"
   ]
  },
  {
   "cell_type": "markdown",
   "metadata": {},
   "source": [
    "### Question 4.2\n",
    "Demonstrate that:\n",
    "$$ ∇_x g(x, \\varphi) = \\rho max(0, x + \\frac{\\varphi}{\\rho} )$$\n",
    "$$ ∇_\\varphi g(x, \\varphi) = max(-\\frac{\\varphi}{\\rho}, x)$$"
   ]
  },
  {
   "cell_type": "markdown",
   "metadata": {},
   "source": [
    "Regardless of the points on which the function is not differentiable, in another word, where $0= x + \\frac{\\varphi}{\\rho}$,\n",
    "$$ ∇_x g(x, \\varphi) = \\frac{\\rho}{2} \\frac{d(max(0, x + \\frac{\\varphi}{\\rho} ))^2}{dx}$$\n",
    "If $0 > x + \\frac{\\varphi}{\\rho}$:  $$∇_x g(x, \\varphi) =0$$  \n",
    "If $0 < x + \\frac{\\varphi}{\\rho}$:   \n",
    "$$∇_x g(x, \\varphi) =\\frac{\\rho}{2} \\frac{d(x + \\frac{\\varphi}{\\rho} )^2}{dx} =\\rho(x + \\frac{\\varphi}{\\rho} )$$\n",
    "To write in a simpler way, $$ ∇_x g(x, \\varphi) = \\rho max(0, x + \\frac{\\varphi}{\\rho} )$$\n",
    "By using the same method,\n",
    "$$∇_\\varphi g(x, \\varphi) =-\\frac{\\varphi}{\\rho}+\\rho max(0,x+\\frac{\\varphi}{\\rho})\\frac{d(max(0, x + \\frac{\\varphi}{\\rho} ))}{dx}$$\n",
    "If $0 > x + \\frac{\\varphi}{\\rho}$:  $$∇_\\varphi g(x, \\varphi) =-\\frac{\\varphi}{\\rho}$$  \n",
    "If $0 < x + \\frac{\\varphi}{\\rho}$:   \n",
    "$$∇_x g(x, \\varphi) =-\\frac{\\varphi}{\\rho}+(x+\\frac{\\varphi}{\\rho})=x$$\n",
    "To write in a simpler way, $$ ∇_\\varphi g(x, \\varphi) = max(-\\frac{\\varphi}{\\rho}, x)$$"
   ]
  },
  {
   "cell_type": "markdown",
   "metadata": {},
   "source": [
    "### Question 4.3\n",
    "Demonstrate that  $(x\\rightarrow g(x, \\varphi))$ is convex and $(\\varphi\\rightarrow g(x, \\varphi))$ is concave."
   ]
  },
  {
   "cell_type": "markdown",
   "metadata": {},
   "source": [
    "Regardless of the points on which the function is not differentiable, in another word, where $0= x + \\frac{\\varphi}{\\rho}$, we try to demonstrate the partial derivative of second degree of the original function is positive/negetive. This leads to directly the convexity/concavity of the original function. \n",
    "\n",
    "$$ ∇_x^2 g(x, \\varphi) =\\frac{d\\rho max(0, x + \\frac{\\varphi}{\\rho} )}{dx}$$\n",
    "If $0 > x + \\frac{\\varphi}{\\rho}$:  $$∇_x^2 g(x, \\varphi) =0$$  \n",
    "If $0 < x + \\frac{\\varphi}{\\rho}$:   \n",
    "$$∇_x^2 g(x, \\varphi) =\\rho$$\n",
    "So, we have $ ∇_x^2 g(x, \\varphi)$ positive,  $(x\\rightarrow g(x, \\varphi))$ is convex.  \n",
    "\n",
    "$$ ∇_\\varphi^2 g(x, \\varphi) =\\frac{dmax(-\\frac{\\varphi}{\\rho}, x)}{d\\varphi}$$\n",
    "If $0 > x + \\frac{\\varphi}{\\rho}$:  $$∇_x^2 g(x, \\varphi) =-\\frac{1}{\\rho}$$  \n",
    "If $0 < x + \\frac{\\varphi}{\\rho}$:   \n",
    "$$∇\\varphi^2 g(x, \\varphi) =0$$\n",
    "So, we have $ ∇_\\varphi^2 g(x, \\varphi)$ negative,  $(x\\rightarrow g(x, \\varphi))$ is concave.  "
   ]
  },
  {
   "cell_type": "markdown",
   "metadata": {},
   "source": [
    "### Question 4.4"
   ]
  },
  {
   "cell_type": "code",
   "execution_count": 29,
   "metadata": {},
   "outputs": [],
   "source": [
    "def grad_va(p0,q0,va,e,p):\n",
    "    va_tmp = va.copy()\n",
    "    va_tmp[len(va)-1]=0\n",
    "    return va_tmp - M_constant.T @ (p * np.maximum(0, (- e + 1 - M_constant @ va) + q0 / p))"
   ]
  },
  {
   "cell_type": "code",
   "execution_count": 30,
   "metadata": {},
   "outputs": [],
   "source": [
    "def grad_e(p0,q0,va,e,p):\n",
    "    return 1 - (p * np.maximum(0, -e + p0 / p)) - (p * np.maximum(0, (- e + 1 - M_constant @ va) + q0 / p))"
   ]
  },
  {
   "cell_type": "code",
   "execution_count": 31,
   "metadata": {},
   "outputs": [],
   "source": [
    "def grad_method(p0,q0,err=1,p=2):\n",
    "    \n",
    "    grad = err+1\n",
    "    va=np.zeros(m+1)\n",
    "    e=np.zeros(n)\n",
    "    # count = 1\n",
    "    \n",
    "    while grad >= err:\n",
    "        \n",
    "        #gamma = 1/(count+1)\n",
    "        gamma = 0.001\n",
    "        gva = grad_va(p0,q0,va,e,p)\n",
    "        ge = grad_e(p0,q0,va,e,p)\n",
    "        va_tmp = va - gamma * gva\n",
    "        e_tmp = e - gamma * ge\n",
    "        va=va_tmp\n",
    "        e=e_tmp\n",
    "        \n",
    "        grad = math.sqrt(np.linalg.norm(gva)**2+np.linalg.norm(ge)**2)\n",
    "        \n",
    "    return va,e"
   ]
  },
  {
   "cell_type": "markdown",
   "metadata": {},
   "source": [
    "### Question 4.5"
   ]
  },
  {
   "cell_type": "code",
   "execution_count": 32,
   "metadata": {},
   "outputs": [],
   "source": [
    "def grad_phi(va,e,phi,psi,p):\n",
    "    return  np.maximum(- phi / p, -e)"
   ]
  },
  {
   "cell_type": "code",
   "execution_count": 33,
   "metadata": {},
   "outputs": [],
   "source": [
    "def grad_psi(va,e,phi,psi,p):\n",
    "    return np.maximum(- psi / p, - e + 1 - M_constant @ va)"
   ]
  },
  {
   "cell_type": "code",
   "execution_count": 34,
   "metadata": {},
   "outputs": [],
   "source": [
    "def grad_phi_psi(va,e,phi,psi,p=2):\n",
    "    return grad_phi(va,e,phi,psi,p),grad_psi(va,e,phi,psi,p)"
   ]
  },
  {
   "cell_type": "markdown",
   "metadata": {},
   "source": [
    "### Question 4.6"
   ]
  },
  {
   "cell_type": "code",
   "execution_count": 35,
   "metadata": {},
   "outputs": [],
   "source": [
    "def lagragien_augmente(phi,psi,ite=100,p=2):\n",
    "    liste=[]\n",
    "    for i in range(ite):\n",
    "        va,e = grad_method(phi,psi)\n",
    "        phi = grad_phi_psi(va,e,phi,psi)[0]*p+phi\n",
    "        psi = grad_phi_psi(va,e,phi,psi)[1]*p+psi\n",
    "        result = 1/2 * np.linalg.norm(va[:-1]) ** 2 + sum(e)\n",
    "        liste.append(result)\n",
    "    return result,liste"
   ]
  },
  {
   "cell_type": "markdown",
   "metadata": {},
   "source": [
    "The optimisation result after 100 iterations is:"
   ]
  },
  {
   "cell_type": "code",
   "execution_count": 36,
   "metadata": {},
   "outputs": [
    {
     "name": "stdout",
     "output_type": "stream",
     "text": [
      "27.02378390430974\n"
     ]
    }
   ],
   "source": [
    "phi = np.zeros(n)\n",
    "psi = np.zeros(n)\n",
    "result = lagragien_augmente(phi,psi)\n",
    "print(result[0])"
   ]
  },
  {
   "cell_type": "markdown",
   "metadata": {},
   "source": [
    "We can find that the result is quite close to the optimal result after 10 iterations according to the following graph. Here, we don't calculate 2000 iterations because the result doesn't greatly change after 10 iterations and the total runtime is estimated to be 1000 seconds = more than 10 minutes, which is not necessary for this exercise."
   ]
  },
  {
   "cell_type": "code",
   "execution_count": 37,
   "metadata": {},
   "outputs": [
    {
     "data": {
      "text/plain": [
       "Text(0, 0.5, 'optimisation result')"
      ]
     },
     "execution_count": 37,
     "metadata": {},
     "output_type": "execute_result"
    },
    {
     "data": {
      "image/png": "[encoded data removed]",
      "text/plain": [
       "<Figure size 432x288 with 1 Axes>"
      ]
     },
     "metadata": {
      "needs_background": "light"
     },
     "output_type": "display_data"
    }
   ],
   "source": [
    "plt.plot(result[1])\n",
    "plt.title('Optimal value for Subgradient Method Method ')\n",
    "plt.xlabel('number of iterations')\n",
    "plt.ylabel('optimisation result')"
   ]
  },
  {
   "cell_type": "code",
   "execution_count": 38,
   "metadata": {},
   "outputs": [
    {
     "data": {
      "text/plain": [
       "Text(0, 0.5, 'optimisation result')"
      ]
     },
     "execution_count": 38,
     "metadata": {},
     "output_type": "execute_result"
    },
    {
     "data": {
      "image/png": "[encoded data removed]",
      "text/plain": [
       "<Figure size 432x288 with 1 Axes>"
      ]
     },
     "metadata": {
      "needs_background": "light"
     },
     "output_type": "display_data"
    }
   ],
   "source": [
    "plt.plot(result[1][0:10])\n",
    "plt.title('Optimal value for Subgradient Method Method ')\n",
    "plt.xlabel('number of iterations')\n",
    "plt.ylabel('optimisation result')"
   ]
  },
  {
   "cell_type": "markdown",
   "metadata": {},
   "source": [
    "## Question 5 - Comparaison"
   ]
  },
  {
   "cell_type": "markdown",
   "metadata": {},
   "source": [
    "The method of gradient descent obtains a good result with a small number of iterations. But as it takes the whole dataset into consideration during each iteration, it needs more calcul. \n",
    "\n",
    "The method of stochastic subgradient descent instead needs much more iterations to have the same precision that gradient descent. In practise, we even choose 100,000 as number of iterations to obtian a good result. But for each iteration, the input is just an observation, which greatly reduces the calcul compared with the method of gradient descent. \n",
    "\n",
    "The increased lagrangien uses totally a different way to solve the problem. Only with about 10 iterations, we can already obtain a good optimisation result. But, as we need to solve an optimisation problem in each iteration, an iteration takes about 0,5 seconds, much longer than the runtime the first two methods take.\n",
    "\n"
   ]
  }
 ],
 "metadata": {
  "kernelspec": {
   "display_name": "Python 3",
   "language": "python",
   "name": "python3"
  },
  "language_info": {
   "codemirror_mode": {
    "name": "ipython",
    "version": 3
   },
   "file_extension": ".py",
   "mimetype": "text/x-python",
   "name": "python",
   "nbconvert_exporter": "python",
   "pygments_lexer": "ipython3",
   "version": "3.6.0"
  },
  "varInspector": {
   "cols": {
    "lenName": 16,
    "lenType": 16,
    "lenVar": 40
   },
   "kernels_config": {
    "python": {
     "delete_cmd_postfix": "",
     "delete_cmd_prefix": "del ",
     "library": "var_list.py",
     "varRefreshCmd": "print(var_dic_list())"
    },
    "r": {
     "delete_cmd_postfix": ") ",
     "delete_cmd_prefix": "rm(",
     "library": "var_list.r",
     "varRefreshCmd": "cat(var_dic_list()) "
    }
   },
   "types_to_exclude": [
    "module",
    "function",
    "builtin_function_or_method",
    "instance",
    "_Feature"
   ],
   "window_display": false
  }
 },
 "nbformat": 4,
 "nbformat_minor": 2
}
