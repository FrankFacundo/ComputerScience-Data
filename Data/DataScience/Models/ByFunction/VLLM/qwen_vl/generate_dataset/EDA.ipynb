{
 "cells": [
  {
   "cell_type": "code",
   "execution_count": 2,
   "metadata": {},
   "outputs": [],
   "source": [
    "import polars as pl\n",
    "from PIL import Image, ImageDraw\n",
    "\n",
    "import io"
   ]
  },
  {
   "cell_type": "code",
   "execution_count": 3,
   "metadata": {},
   "outputs": [
    {
     "name": "stdout",
     "output_type": "stream",
     "text": [
      "shape: (5, 4)\n",
      "┌──────────────────────────────┬────────────────────────┬──────────────────────────────┬───────────┐\n",
      "│ diagram_image                ┆ mermaid_code           ┆ question                     ┆ answer    │\n",
      "│ ---                          ┆ ---                    ┆ ---                          ┆ ---       │\n",
      "│ binary                       ┆ str                    ┆ str                          ┆ str       │\n",
      "╞══════════════════════════════╪════════════════════════╪══════════════════════════════╪═══════════╡\n",
      "│ b\"\\x89PNG\\x0d\\x0a\\x1a\\x0a\\x0 ┆ classDiagram           ┆ How many classes directly    ┆ 3         │\n",
      "│ 0\\…                          ┆     Animal <|-- D…     ┆ inhe…                        ┆           │\n",
      "│ b\"\\x89PNG\\x0d\\x0a\\x1a\\x0a\\x0 ┆ sequenceDiagram        ┆ Does Alice interact with     ┆ Yes       │\n",
      "│ 0\\…                          ┆     participan…        ┆ John?                        ┆           │\n",
      "│ b\"\\x89PNG\\x0d\\x0a\\x1a\\x0a\\x0 ┆ graph LR               ┆ How many steps are between   ┆ 2         │\n",
      "│ 0\\…                          ┆     Start --> Step1;   ┆ 'St…                         ┆           │\n",
      "│                              ┆ …                      ┆                              ┆           │\n",
      "│ b\"\\x89PNG\\x0d\\x0a\\x1a\\x0a\\x0 ┆ sequenceDiagram        ┆ Who sends the first message? ┆ Alice     │\n",
      "│ 0\\…                          ┆     participan…        ┆                              ┆           │\n",
      "│ b\"\\x89PNG\\x0d\\x0a\\x1a\\x0a\\x0 ┆ graph TD               ┆ What node follows the 'Yes'  ┆ Process 1 │\n",
      "│ 0\\…                          ┆     A[Start] --> B{De… ┆ pa…                          ┆           │\n",
      "└──────────────────────────────┴────────────────────────┴──────────────────────────────┴───────────┘\n"
     ]
    }
   ],
   "source": [
    "# Read the Parquet file into a Polars DataFrame\n",
    "df = pl.read_parquet(\n",
    "    \"synthetic_mermaid_vqa_dataset.parquet\",\n",
    "    # memory_map=True,\n",
    ")\n",
    "\n",
    "# Print the first few rows of the DataFrame\n",
    "print(df.head())"
   ]
  },
  {
   "cell_type": "code",
   "execution_count": 5,
   "metadata": {},
   "outputs": [
    {
     "name": "stdout",
     "output_type": "stream",
     "text": [
      "28660\n"
     ]
    },
    {
     "data": {
      "text/plain": [
       "(550, 426)"
      ]
     },
     "execution_count": 5,
     "metadata": {},
     "output_type": "execute_result"
    }
   ],
   "source": [
    "image_bytes = df[0][\"diagram_image\"].to_list()[0]\n",
    "print(len(image_bytes))\n",
    "# print(image_bytes.keys())\n",
    "# print(image_bytes[\"path\"])\n",
    "\n",
    "image = Image.open(io.BytesIO(image_bytes))\n",
    "image.size\n",
    "# image.show()"
   ]
  },
  {
   "cell_type": "code",
   "execution_count": 7,
   "metadata": {},
   "outputs": [
    {
     "name": "stdout",
     "output_type": "stream",
     "text": [
      "classDiagram\n",
      "    Animal <|-- Duck\n",
      "    Animal <|-- Fish\n",
      "    Animal <|-- Zebra\n",
      "    Animal : +int age\n",
      "    Animal : +String gender\n",
      "    Animal: +isMammal()\n",
      "    Animal: +mate()\n",
      "    class Duck{\n",
      "        +String beakColor\n",
      "        +swim()\n",
      "        +quack()\n",
      "    }\n",
      "    class Fish{\n",
      "        -int sizeInFt\n",
      "        -canEat()\n",
      "    }\n",
      "    class Zebra{\n",
      "        +bool is_wild\n",
      "        +run()\n",
      "    }\n"
     ]
    }
   ],
   "source": [
    "bbox = df[0][\"mermaid_code\"].to_list()[0]\n",
    "print(bbox)"
   ]
  },
  {
   "cell_type": "code",
   "execution_count": 8,
   "metadata": {},
   "outputs": [
    {
     "name": "stdout",
     "output_type": "stream",
     "text": [
      "Image bytes length: 13291\n",
      "Image size: (680, 307)\n"
     ]
    },
    {
     "name": "stdout",
     "output_type": "stream",
     "text": [
      "Opening in existing browser session.\n"
     ]
    }
   ],
   "source": [
    "index = 1\n",
    "# Load image bytes from the DataFrame\n",
    "image_bytes = df[index][\"diagram_image\"].to_list()[0]\n",
    "print(\"Image bytes length:\", len(image_bytes))\n",
    "\n",
    "# Open the image from bytes\n",
    "image = Image.open(io.BytesIO(image_bytes))\n",
    "print(\"Image size:\", image.size)  # For example: (595, 842)\n",
    "\n",
    "# Create a drawing object\n",
    "draw = ImageDraw.Draw(image)\n",
    "\n",
    "# Display the image with bounding boxes\n",
    "image.show()"
   ]
  }
 ],
 "metadata": {
  "kernelspec": {
   "display_name": "grpo",
   "language": "python",
   "name": "python3"
  },
  "language_info": {
   "codemirror_mode": {
    "name": "ipython",
    "version": 3
   },
   "file_extension": ".py",
   "mimetype": "text/x-python",
   "name": "python",
   "nbconvert_exporter": "python",
   "pygments_lexer": "ipython3",
   "version": "3.11.11"
  }
 },
 "nbformat": 4,
 "nbformat_minor": 2
}
