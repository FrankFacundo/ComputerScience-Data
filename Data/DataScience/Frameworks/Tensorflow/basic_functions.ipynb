{
 "cells": [
  {
   "attachments": {},
   "cell_type": "markdown",
   "metadata": {},
   "source": [
    "# Tensorflow"
   ]
  },
  {
   "cell_type": "code",
   "execution_count": 1,
   "metadata": {},
   "outputs": [],
   "source": [
    "import tensorflow as tf"
   ]
  },
  {
   "attachments": {},
   "cell_type": "markdown",
   "metadata": {},
   "source": [
    "## Create tensor:"
   ]
  },
  {
   "cell_type": "code",
   "execution_count": 79,
   "metadata": {},
   "outputs": [
    {
     "name": "stdout",
     "output_type": "stream",
     "text": [
      "tf.Tensor(1, shape=(), dtype=int32)\n"
     ]
    }
   ],
   "source": [
    "# Number (0 dimension)\n",
    "t = tf.constant(1)\n",
    "print(t)"
   ]
  },
  {
   "cell_type": "code",
   "execution_count": 80,
   "metadata": {},
   "outputs": [
    {
     "name": "stdout",
     "output_type": "stream",
     "text": [
      "tf.Tensor([1 2 4], shape=(3,), dtype=int32)\n"
     ]
    }
   ],
   "source": [
    "# Vector (1 dimension)\n",
    "t = tf.constant([1, 2, 4])\n",
    "print(t)"
   ]
  },
  {
   "cell_type": "code",
   "execution_count": 81,
   "metadata": {},
   "outputs": [
    {
     "name": "stdout",
     "output_type": "stream",
     "text": [
      "tf.Tensor(\n",
      "[[1 2]\n",
      " [3 4]\n",
      " [5 6]], shape=(3, 2), dtype=int32)\n"
     ]
    }
   ],
   "source": [
    "# Matrix (2 dimensions)\n",
    "t = tf.constant([[1, 2], [3, 4], [5, 6]])\n",
    "print(t)"
   ]
  },
  {
   "cell_type": "code",
   "execution_count": 82,
   "metadata": {},
   "outputs": [
    {
     "name": "stdout",
     "output_type": "stream",
     "text": [
      "tf.Tensor(\n",
      "[[[ 1  2]\n",
      "  [ 4  5]\n",
      "  [ 8  9]]\n",
      "\n",
      " [[11 12]\n",
      "  [14 15]\n",
      "  [18 19]]], shape=(2, 3, 2), dtype=int32)\n"
     ]
    }
   ],
   "source": [
    "# Tensor (3 dimensions)\n",
    "t = tf.constant([[[1, 2], [4, 5], [8, 9]], [[11, 12], [14, 15], [18, 19]]])\n",
    "print(t)"
   ]
  },
  {
   "attachments": {},
   "cell_type": "markdown",
   "metadata": {},
   "source": [
    "## Expand tensors"
   ]
  },
  {
   "attachments": {},
   "cell_type": "markdown",
   "metadata": {},
   "source": [
    "### Two dimensions \n",
    "Vector in form of matrix\n",
    "\n",
    "2 shape possibilities:\n",
    "- 1 x n (classic form for a list/vector in programming or the transpose of a vector $V^T$)\n",
    "- n x 1 (classic form for math vector $V$)"
   ]
  },
  {
   "cell_type": "code",
   "execution_count": 46,
   "metadata": {},
   "outputs": [
    {
     "name": "stdout",
     "output_type": "stream",
     "text": [
      "tf.Tensor([[1 2 4]], shape=(1, 3), dtype=int32)\n"
     ]
    }
   ],
   "source": [
    "res = tf.expand_dims([1, 2, 4], axis=0)\n",
    "print(res)"
   ]
  },
  {
   "cell_type": "code",
   "execution_count": 54,
   "metadata": {},
   "outputs": [
    {
     "name": "stdout",
     "output_type": "stream",
     "text": [
      "tf.Tensor(\n",
      "[[1]\n",
      " [2]\n",
      " [4]], shape=(3, 1), dtype=int32)\n"
     ]
    }
   ],
   "source": [
    "res = tf.expand_dims([1, 2, 4], axis=1)\n",
    "print(res)"
   ]
  },
  {
   "attachments": {},
   "cell_type": "markdown",
   "metadata": {},
   "source": [
    "### Three dimensions\n",
    "Matrix in form of matrix\n",
    "\n",
    "3 shape possibilities:\n",
    "- 1 x n x m (classic form of a matrix in programming)\n",
    "- n x 1 x m\n",
    "- n x m x 1 (classic form of a matrix in mathematics)"
   ]
  },
  {
   "cell_type": "code",
   "execution_count": 51,
   "metadata": {},
   "outputs": [
    {
     "name": "stdout",
     "output_type": "stream",
     "text": [
      "tf.Tensor(\n",
      "[[[1 2]\n",
      "  [4 5]\n",
      "  [8 9]]], shape=(1, 3, 2), dtype=int32)\n"
     ]
    }
   ],
   "source": [
    "res = tf.expand_dims([[1, 2], [4, 5], [8, 9]], axis=0)\n",
    "print(res)"
   ]
  },
  {
   "cell_type": "code",
   "execution_count": 52,
   "metadata": {},
   "outputs": [
    {
     "name": "stdout",
     "output_type": "stream",
     "text": [
      "tf.Tensor(\n",
      "[[[1 2]]\n",
      "\n",
      " [[4 5]]\n",
      "\n",
      " [[8 9]]], shape=(3, 1, 2), dtype=int32)\n"
     ]
    }
   ],
   "source": [
    "res = tf.expand_dims([[1, 2], [4, 5], [8, 9]], axis=1)\n",
    "print(res)"
   ]
  },
  {
   "cell_type": "code",
   "execution_count": 53,
   "metadata": {},
   "outputs": [
    {
     "name": "stdout",
     "output_type": "stream",
     "text": [
      "tf.Tensor(\n",
      "[[[1]\n",
      "  [2]]\n",
      "\n",
      " [[4]\n",
      "  [5]]\n",
      "\n",
      " [[8]\n",
      "  [9]]], shape=(3, 2, 1), dtype=int32)\n"
     ]
    }
   ],
   "source": [
    "res = tf.expand_dims([[1, 2], [4, 5], [8, 9]], axis=2)\n",
    "print(res)"
   ]
  },
  {
   "attachments": {},
   "cell_type": "markdown",
   "metadata": {},
   "source": [
    "### Four dimensions"
   ]
  },
  {
   "cell_type": "code",
   "execution_count": 71,
   "metadata": {},
   "outputs": [
    {
     "name": "stdout",
     "output_type": "stream",
     "text": [
      "tf.Tensor(\n",
      "[[[[ 1  2]\n",
      "   [ 4  5]\n",
      "   [ 8  9]]\n",
      "\n",
      "  [[11 12]\n",
      "   [14 15]\n",
      "   [18 19]]]], shape=(1, 2, 3, 2), dtype=int32)\n"
     ]
    }
   ],
   "source": [
    "res = tf.expand_dims([[[1, 2], [4, 5], [8, 9]], [[11, 12], [14, 15], [18, 19]]], axis=0)\n",
    "print(res)"
   ]
  },
  {
   "cell_type": "code",
   "execution_count": 72,
   "metadata": {},
   "outputs": [
    {
     "name": "stdout",
     "output_type": "stream",
     "text": [
      "tf.Tensor(\n",
      "[[[[ 1  2]\n",
      "   [ 4  5]\n",
      "   [ 8  9]]]\n",
      "\n",
      "\n",
      " [[[11 12]\n",
      "   [14 15]\n",
      "   [18 19]]]], shape=(2, 1, 3, 2), dtype=int32)\n"
     ]
    }
   ],
   "source": [
    "res = tf.expand_dims([[[1, 2], [4, 5], [8, 9]], [[11, 12], [14, 15], [18, 19]]], axis=1)\n",
    "print(res)"
   ]
  },
  {
   "cell_type": "code",
   "execution_count": 73,
   "metadata": {},
   "outputs": [
    {
     "name": "stdout",
     "output_type": "stream",
     "text": [
      "tf.Tensor(\n",
      "[[[[ 1  2]]\n",
      "\n",
      "  [[ 4  5]]\n",
      "\n",
      "  [[ 8  9]]]\n",
      "\n",
      "\n",
      " [[[11 12]]\n",
      "\n",
      "  [[14 15]]\n",
      "\n",
      "  [[18 19]]]], shape=(2, 3, 1, 2), dtype=int32)\n"
     ]
    }
   ],
   "source": [
    "res = tf.expand_dims([[[1, 2], [4, 5], [8, 9]], [[11, 12], [14, 15], [18, 19]]], axis=2)\n",
    "print(res)"
   ]
  },
  {
   "cell_type": "code",
   "execution_count": 74,
   "metadata": {},
   "outputs": [
    {
     "name": "stdout",
     "output_type": "stream",
     "text": [
      "tf.Tensor(\n",
      "[[[[ 1]\n",
      "   [ 2]]\n",
      "\n",
      "  [[ 4]\n",
      "   [ 5]]\n",
      "\n",
      "  [[ 8]\n",
      "   [ 9]]]\n",
      "\n",
      "\n",
      " [[[11]\n",
      "   [12]]\n",
      "\n",
      "  [[14]\n",
      "   [15]]\n",
      "\n",
      "  [[18]\n",
      "   [19]]]], shape=(2, 3, 2, 1), dtype=int32)\n"
     ]
    }
   ],
   "source": [
    "res = tf.expand_dims([[[1, 2], [4, 5], [8, 9]], [[11, 12], [14, 15], [18, 19]]], axis=3)\n",
    "print(res)"
   ]
  }
 ],
 "metadata": {
  "kernelspec": {
   "display_name": "tf_p39",
   "language": "python",
   "name": "python3"
  },
  "language_info": {
   "codemirror_mode": {
    "name": "ipython",
    "version": 3
   },
   "file_extension": ".py",
   "mimetype": "text/x-python",
   "name": "python",
   "nbconvert_exporter": "python",
   "pygments_lexer": "ipython3",
   "version": "3.9.15 (main, Nov 24 2022, 14:31:59) \n[GCC 11.2.0]"
  },
  "orig_nbformat": 4,
  "vscode": {
   "interpreter": {
    "hash": "5927ddc4cb01a6ba059eb42a698e965db03a50bdd8d02bc22bb15431b0c99791"
   }
  }
 },
 "nbformat": 4,
 "nbformat_minor": 2
}
