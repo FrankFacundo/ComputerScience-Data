{
 "cells": [
  {
   "cell_type": "markdown",
   "metadata": {},
   "source": [
    "# SD212: Graph mining"
   ]
  },
  {
   "cell_type": "markdown",
   "metadata": {},
   "source": [
    "# Check scikit-network"
   ]
  },
  {
   "cell_type": "markdown",
   "metadata": {},
   "source": [
    "This notebook aims at checking that you can work with the [scikit-network](https://scikit-network.readthedocs.io/en/latest/index.html) package."
   ]
  },
  {
   "cell_type": "markdown",
   "metadata": {},
   "source": [
    "## Import"
   ]
  },
  {
   "cell_type": "code",
   "execution_count": 8,
   "metadata": {},
   "outputs": [],
   "source": [
    "from IPython.display import SVG"
   ]
  },
  {
   "cell_type": "code",
   "execution_count": 9,
   "metadata": {},
   "outputs": [],
   "source": [
    "from sknetwork.data import karate_club, load_netset\n",
    "from sknetwork.visualization import svg_graph"
   ]
  },
  {
   "cell_type": "markdown",
   "metadata": {},
   "source": [
    "## Check"
   ]
  },
  {
   "cell_type": "code",
   "execution_count": 37,
   "metadata": {},
   "outputs": [],
   "source": [
    "graph = karate_club(metadata=True)\n",
    "adjacency = graph.adjacency\n",
    "position = graph.position\n",
    "labels = graph.labels"
   ]
  },
  {
   "cell_type": "code",
   "execution_count": 38,
   "metadata": {},
   "outputs": [
    {
     "data": {
      "text/plain": "array([1, 1, 1, 1, 1, 1, 1, 1, 1, 0, 1, 1, 1, 1, 0, 0, 1, 1, 0, 1, 0, 1,\n       0, 0, 0, 0, 0, 0, 0, 0, 0, 0, 0, 0])"
     },
     "execution_count": 38,
     "metadata": {},
     "output_type": "execute_result"
    }
   ],
   "source": [
    "labels"
   ]
  },
  {
   "cell_type": "code",
   "execution_count": 39,
   "outputs": [
    {
     "data": {
      "text/plain": "(34, 34)"
     },
     "execution_count": 39,
     "metadata": {},
     "output_type": "execute_result"
    }
   ],
   "source": [
    "adjacency.get_shape()"
   ],
   "metadata": {
    "collapsed": false,
    "pycharm": {
     "name": "#%%\n"
    }
   }
  },
  {
   "cell_type": "code",
   "execution_count": 40,
   "metadata": {},
   "outputs": [],
   "source": [
    "image = svg_graph(adjacency, position, labels=labels)"
   ]
  },
  {
   "cell_type": "code",
   "execution_count": 41,
   "outputs": [
    {
     "data": {
      "text/plain": "array([ 1,  2,  3,  4,  5,  6,  7,  8, 10, 11, 12, 13, 17, 19, 21, 31],\n      dtype=int32)"
     },
     "execution_count": 41,
     "metadata": {},
     "output_type": "execute_result"
    }
   ],
   "source": [
    "node = 0\n",
    "adjacency[node].indices"
   ],
   "metadata": {
    "collapsed": false,
    "pycharm": {
     "name": "#%%\n"
    }
   }
  },
  {
   "cell_type": "code",
   "execution_count": 42,
   "outputs": [
    {
     "data": {
      "text/plain": "array([[0, 1, 1, ..., 1, 0, 0],\n       [1, 0, 1, ..., 0, 0, 0],\n       [1, 1, 0, ..., 0, 1, 0],\n       ...,\n       [1, 0, 0, ..., 0, 1, 1],\n       [0, 0, 1, ..., 1, 0, 1],\n       [0, 0, 0, ..., 1, 1, 0]], dtype=int64)"
     },
     "execution_count": 42,
     "metadata": {},
     "output_type": "execute_result"
    }
   ],
   "source": [
    "adjacency.toarray()\n"
   ],
   "metadata": {
    "collapsed": false,
    "pycharm": {
     "name": "#%%\n"
    }
   }
  },
  {
   "cell_type": "code",
   "execution_count": 43,
   "outputs": [],
   "source": [
    "adjacency3=adjacency[0]"
   ],
   "metadata": {
    "collapsed": false,
    "pycharm": {
     "name": "#%%\n"
    }
   }
  },
  {
   "cell_type": "code",
   "execution_count": 36,
   "outputs": [
    {
     "data": {
      "text/plain": "array([[0, 1, 1, 1, 1, 1, 1, 1, 1, 0, 1, 1, 1, 1, 0, 0, 0, 1, 0, 1, 0, 1,\n        0, 0, 0, 0, 0, 0, 0, 0, 0, 1, 0, 0]])"
     },
     "execution_count": 36,
     "metadata": {},
     "output_type": "execute_result"
    }
   ],
   "source": [
    "adjacency3.toarray()"
   ],
   "metadata": {
    "collapsed": false,
    "pycharm": {
     "name": "#%%\n"
    }
   }
  },
  {
   "cell_type": "code",
   "execution_count": 45,
   "outputs": [],
   "source": [
    "test = [1,3,5,6,7]\n",
    "test2={i:0 for i in test}"
   ],
   "metadata": {
    "collapsed": false,
    "pycharm": {
     "name": "#%%\n"
    }
   }
  },
  {
   "cell_type": "code",
   "execution_count": 13,
   "metadata": {},
   "outputs": [
    {
     "data": {
      "text/plain": "<IPython.core.display.SVG object>",
      "image/svg+xml": "<svg height=\"340\" width=\"440\" xmlns=\"http://www.w3.org/2000/svg\"><path d=\"M 264 200 353 168\" stroke=\"black\" stroke-width=\"1\"/><path d=\"M 264 200 251 143\" stroke=\"black\" stroke-width=\"1\"/><path d=\"M 264 200 304 191\" stroke=\"black\" stroke-width=\"1\"/><path d=\"M 264 200 255 255\" stroke=\"black\" stroke-width=\"1\"/><path d=\"M 264 200 211 275\" stroke=\"black\" stroke-width=\"1\"/><path d=\"M 264 200 264 277\" stroke=\"black\" stroke-width=\"1\"/><path d=\"M 264 200 340 186\" stroke=\"black\" stroke-width=\"1\"/><path d=\"M 264 200 282 125\" stroke=\"black\" stroke-width=\"1\"/><path d=\"M 264 200 188 252\" stroke=\"black\" stroke-width=\"1\"/><path d=\"M 264 200 122 212\" stroke=\"black\" stroke-width=\"1\"/><path d=\"M 264 200 335 236\" stroke=\"black\" stroke-width=\"1\"/><path d=\"M 264 200 282 153\" stroke=\"black\" stroke-width=\"1\"/><path d=\"M 264 200 388 216\" stroke=\"black\" stroke-width=\"1\"/><path d=\"M 264 200 331 143\" stroke=\"black\" stroke-width=\"1\"/><path d=\"M 264 200 420 202\" stroke=\"black\" stroke-width=\"1\"/><path d=\"M 264 200 153 125\" stroke=\"black\" stroke-width=\"1\"/><path d=\"M 353 168 264 200\" stroke=\"black\" stroke-width=\"1\"/><path d=\"M 353 168 251 143\" stroke=\"black\" stroke-width=\"1\"/><path d=\"M 353 168 304 191\" stroke=\"black\" stroke-width=\"1\"/><path d=\"M 353 168 340 186\" stroke=\"black\" stroke-width=\"1\"/><path d=\"M 353 168 282 153\" stroke=\"black\" stroke-width=\"1\"/><path d=\"M 353 168 388 216\" stroke=\"black\" stroke-width=\"1\"/><path d=\"M 353 168 331 143\" stroke=\"black\" stroke-width=\"1\"/><path d=\"M 353 168 420 202\" stroke=\"black\" stroke-width=\"1\"/><path d=\"M 353 168 344 107\" stroke=\"black\" stroke-width=\"1\"/><path d=\"M 251 143 264 200\" stroke=\"black\" stroke-width=\"1\"/><path d=\"M 251 143 353 168\" stroke=\"black\" stroke-width=\"1\"/><path d=\"M 251 143 304 191\" stroke=\"black\" stroke-width=\"1\"/><path d=\"M 251 143 340 186\" stroke=\"black\" stroke-width=\"1\"/><path d=\"M 251 143 282 125\" stroke=\"black\" stroke-width=\"1\"/><path d=\"M 251 143 197 100\" stroke=\"black\" stroke-width=\"1\"/><path d=\"M 251 143 282 153\" stroke=\"black\" stroke-width=\"1\"/><path d=\"M 251 143 122 103\" stroke=\"black\" stroke-width=\"1\"/><path d=\"M 251 143 197 120\" stroke=\"black\" stroke-width=\"1\"/><path d=\"M 251 143 260 73\" stroke=\"black\" stroke-width=\"1\"/><path d=\"M 304 191 264 200\" stroke=\"black\" stroke-width=\"1\"/><path d=\"M 304 191 353 168\" stroke=\"black\" stroke-width=\"1\"/><path d=\"M 304 191 251 143\" stroke=\"black\" stroke-width=\"1\"/><path d=\"M 304 191 340 186\" stroke=\"black\" stroke-width=\"1\"/><path d=\"M 304 191 335 236\" stroke=\"black\" stroke-width=\"1\"/><path d=\"M 304 191 282 153\" stroke=\"black\" stroke-width=\"1\"/><path d=\"M 255 255 264 200\" stroke=\"black\" stroke-width=\"1\"/><path d=\"M 255 255 264 277\" stroke=\"black\" stroke-width=\"1\"/><path d=\"M 255 255 188 252\" stroke=\"black\" stroke-width=\"1\"/><path d=\"M 211 275 264 200\" stroke=\"black\" stroke-width=\"1\"/><path d=\"M 211 275 264 277\" stroke=\"black\" stroke-width=\"1\"/><path d=\"M 211 275 188 252\" stroke=\"black\" stroke-width=\"1\"/><path d=\"M 211 275 220 320\" stroke=\"black\" stroke-width=\"1\"/><path d=\"M 264 277 264 200\" stroke=\"black\" stroke-width=\"1\"/><path d=\"M 264 277 255 255\" stroke=\"black\" stroke-width=\"1\"/><path d=\"M 264 277 211 275\" stroke=\"black\" stroke-width=\"1\"/><path d=\"M 264 277 220 320\" stroke=\"black\" stroke-width=\"1\"/><path d=\"M 340 186 264 200\" stroke=\"black\" stroke-width=\"1\"/><path d=\"M 340 186 353 168\" stroke=\"black\" stroke-width=\"1\"/><path d=\"M 340 186 251 143\" stroke=\"black\" stroke-width=\"1\"/><path d=\"M 340 186 304 191\" stroke=\"black\" stroke-width=\"1\"/><path d=\"M 282 125 264 200\" stroke=\"black\" stroke-width=\"1\"/><path d=\"M 282 125 251 143\" stroke=\"black\" stroke-width=\"1\"/><path d=\"M 282 125 344 107\" stroke=\"black\" stroke-width=\"1\"/><path d=\"M 282 125 260 73\" stroke=\"black\" stroke-width=\"1\"/><path d=\"M 282 125 246 82\" stroke=\"black\" stroke-width=\"1\"/><path d=\"M 197 100 251 143\" stroke=\"black\" stroke-width=\"1\"/><path d=\"M 197 100 246 82\" stroke=\"black\" stroke-width=\"1\"/><path d=\"M 188 252 264 200\" stroke=\"black\" stroke-width=\"1\"/><path d=\"M 188 252 255 255\" stroke=\"black\" stroke-width=\"1\"/><path d=\"M 188 252 211 275\" stroke=\"black\" stroke-width=\"1\"/><path d=\"M 122 212 264 200\" stroke=\"black\" stroke-width=\"1\"/><path d=\"M 335 236 264 200\" stroke=\"black\" stroke-width=\"1\"/><path d=\"M 335 236 304 191\" stroke=\"black\" stroke-width=\"1\"/><path d=\"M 282 153 264 200\" stroke=\"black\" stroke-width=\"1\"/><path d=\"M 282 153 353 168\" stroke=\"black\" stroke-width=\"1\"/><path d=\"M 282 153 251 143\" stroke=\"black\" stroke-width=\"1\"/><path d=\"M 282 153 304 191\" stroke=\"black\" stroke-width=\"1\"/><path d=\"M 282 153 246 82\" stroke=\"black\" stroke-width=\"1\"/><path d=\"M 348 43 260 73\" stroke=\"black\" stroke-width=\"1\"/><path d=\"M 348 43 246 82\" stroke=\"black\" stroke-width=\"1\"/><path d=\"M 273 27 260 73\" stroke=\"black\" stroke-width=\"1\"/><path d=\"M 273 27 246 82\" stroke=\"black\" stroke-width=\"1\"/><path d=\"M 220 320 211 275\" stroke=\"black\" stroke-width=\"1\"/><path d=\"M 220 320 264 277\" stroke=\"black\" stroke-width=\"1\"/><path d=\"M 388 216 264 200\" stroke=\"black\" stroke-width=\"1\"/><path d=\"M 388 216 353 168\" stroke=\"black\" stroke-width=\"1\"/><path d=\"M 313 34 260 73\" stroke=\"black\" stroke-width=\"1\"/><path d=\"M 313 34 246 82\" stroke=\"black\" stroke-width=\"1\"/><path d=\"M 331 143 264 200\" stroke=\"black\" stroke-width=\"1\"/><path d=\"M 331 143 353 168\" stroke=\"black\" stroke-width=\"1\"/><path d=\"M 331 143 246 82\" stroke=\"black\" stroke-width=\"1\"/><path d=\"M 366 61 260 73\" stroke=\"black\" stroke-width=\"1\"/><path d=\"M 366 61 246 82\" stroke=\"black\" stroke-width=\"1\"/><path d=\"M 420 202 264 200\" stroke=\"black\" stroke-width=\"1\"/><path d=\"M 420 202 353 168\" stroke=\"black\" stroke-width=\"1\"/><path d=\"M 228 32 260 73\" stroke=\"black\" stroke-width=\"1\"/><path d=\"M 228 32 246 82\" stroke=\"black\" stroke-width=\"1\"/><path d=\"M 131 68 28 91\" stroke=\"black\" stroke-width=\"1\"/><path d=\"M 131 68 122 103\" stroke=\"black\" stroke-width=\"1\"/><path d=\"M 131 68 171 45\" stroke=\"black\" stroke-width=\"1\"/><path d=\"M 131 68 260 73\" stroke=\"black\" stroke-width=\"1\"/><path d=\"M 131 68 246 82\" stroke=\"black\" stroke-width=\"1\"/><path d=\"M 20 116 28 91\" stroke=\"black\" stroke-width=\"1\"/><path d=\"M 20 116 122 103\" stroke=\"black\" stroke-width=\"1\"/><path d=\"M 20 116 153 125\" stroke=\"black\" stroke-width=\"1\"/><path d=\"M 28 91 131 68\" stroke=\"black\" stroke-width=\"1\"/><path d=\"M 28 91 20 116\" stroke=\"black\" stroke-width=\"1\"/><path d=\"M 28 91 153 125\" stroke=\"black\" stroke-width=\"1\"/><path d=\"M 162 20 171 45\" stroke=\"black\" stroke-width=\"1\"/><path d=\"M 162 20 246 82\" stroke=\"black\" stroke-width=\"1\"/><path d=\"M 122 103 251 143\" stroke=\"black\" stroke-width=\"1\"/><path d=\"M 122 103 131 68\" stroke=\"black\" stroke-width=\"1\"/><path d=\"M 122 103 20 116\" stroke=\"black\" stroke-width=\"1\"/><path d=\"M 122 103 246 82\" stroke=\"black\" stroke-width=\"1\"/><path d=\"M 197 120 251 143\" stroke=\"black\" stroke-width=\"1\"/><path d=\"M 197 120 153 125\" stroke=\"black\" stroke-width=\"1\"/><path d=\"M 197 120 246 82\" stroke=\"black\" stroke-width=\"1\"/><path d=\"M 171 45 131 68\" stroke=\"black\" stroke-width=\"1\"/><path d=\"M 171 45 162 20\" stroke=\"black\" stroke-width=\"1\"/><path d=\"M 171 45 260 73\" stroke=\"black\" stroke-width=\"1\"/><path d=\"M 171 45 246 82\" stroke=\"black\" stroke-width=\"1\"/><path d=\"M 344 107 353 168\" stroke=\"black\" stroke-width=\"1\"/><path d=\"M 344 107 282 125\" stroke=\"black\" stroke-width=\"1\"/><path d=\"M 344 107 260 73\" stroke=\"black\" stroke-width=\"1\"/><path d=\"M 344 107 246 82\" stroke=\"black\" stroke-width=\"1\"/><path d=\"M 153 125 264 200\" stroke=\"black\" stroke-width=\"1\"/><path d=\"M 153 125 20 116\" stroke=\"black\" stroke-width=\"1\"/><path d=\"M 153 125 28 91\" stroke=\"black\" stroke-width=\"1\"/><path d=\"M 153 125 197 120\" stroke=\"black\" stroke-width=\"1\"/><path d=\"M 153 125 260 73\" stroke=\"black\" stroke-width=\"1\"/><path d=\"M 153 125 246 82\" stroke=\"black\" stroke-width=\"1\"/><path d=\"M 260 73 251 143\" stroke=\"black\" stroke-width=\"1\"/><path d=\"M 260 73 282 125\" stroke=\"black\" stroke-width=\"1\"/><path d=\"M 260 73 348 43\" stroke=\"black\" stroke-width=\"1\"/><path d=\"M 260 73 273 27\" stroke=\"black\" stroke-width=\"1\"/><path d=\"M 260 73 313 34\" stroke=\"black\" stroke-width=\"1\"/><path d=\"M 260 73 366 61\" stroke=\"black\" stroke-width=\"1\"/><path d=\"M 260 73 228 32\" stroke=\"black\" stroke-width=\"1\"/><path d=\"M 260 73 131 68\" stroke=\"black\" stroke-width=\"1\"/><path d=\"M 260 73 171 45\" stroke=\"black\" stroke-width=\"1\"/><path d=\"M 260 73 344 107\" stroke=\"black\" stroke-width=\"1\"/><path d=\"M 260 73 153 125\" stroke=\"black\" stroke-width=\"1\"/><path d=\"M 260 73 246 82\" stroke=\"black\" stroke-width=\"1\"/><path d=\"M 246 82 282 125\" stroke=\"black\" stroke-width=\"1\"/><path d=\"M 246 82 197 100\" stroke=\"black\" stroke-width=\"1\"/><path d=\"M 246 82 282 153\" stroke=\"black\" stroke-width=\"1\"/><path d=\"M 246 82 348 43\" stroke=\"black\" stroke-width=\"1\"/><path d=\"M 246 82 273 27\" stroke=\"black\" stroke-width=\"1\"/><path d=\"M 246 82 313 34\" stroke=\"black\" stroke-width=\"1\"/><path d=\"M 246 82 331 143\" stroke=\"black\" stroke-width=\"1\"/><path d=\"M 246 82 366 61\" stroke=\"black\" stroke-width=\"1\"/><path d=\"M 246 82 228 32\" stroke=\"black\" stroke-width=\"1\"/><path d=\"M 246 82 131 68\" stroke=\"black\" stroke-width=\"1\"/><path d=\"M 246 82 162 20\" stroke=\"black\" stroke-width=\"1\"/><path d=\"M 246 82 122 103\" stroke=\"black\" stroke-width=\"1\"/><path d=\"M 246 82 197 120\" stroke=\"black\" stroke-width=\"1\"/><path d=\"M 246 82 171 45\" stroke=\"black\" stroke-width=\"1\"/><path d=\"M 246 82 344 107\" stroke=\"black\" stroke-width=\"1\"/><path d=\"M 246 82 153 125\" stroke=\"black\" stroke-width=\"1\"/><path d=\"M 246 82 260 73\" stroke=\"black\" stroke-width=\"1\"/><circle cx=\"264\" cy=\"200\" r=\"7.0\" style=\"fill:red;stroke:black;stroke-width:1.0\"/><circle cx=\"353\" cy=\"168\" r=\"7.0\" style=\"fill:red;stroke:black;stroke-width:1.0\"/><circle cx=\"251\" cy=\"143\" r=\"7.0\" style=\"fill:red;stroke:black;stroke-width:1.0\"/><circle cx=\"304\" cy=\"191\" r=\"7.0\" style=\"fill:red;stroke:black;stroke-width:1.0\"/><circle cx=\"255\" cy=\"255\" r=\"7.0\" style=\"fill:red;stroke:black;stroke-width:1.0\"/><circle cx=\"211\" cy=\"275\" r=\"7.0\" style=\"fill:red;stroke:black;stroke-width:1.0\"/><circle cx=\"264\" cy=\"277\" r=\"7.0\" style=\"fill:red;stroke:black;stroke-width:1.0\"/><circle cx=\"340\" cy=\"186\" r=\"7.0\" style=\"fill:red;stroke:black;stroke-width:1.0\"/><circle cx=\"282\" cy=\"125\" r=\"7.0\" style=\"fill:red;stroke:black;stroke-width:1.0\"/><circle cx=\"197\" cy=\"100\" r=\"7.0\" style=\"fill:blue;stroke:black;stroke-width:1.0\"/><circle cx=\"188\" cy=\"252\" r=\"7.0\" style=\"fill:red;stroke:black;stroke-width:1.0\"/><circle cx=\"122\" cy=\"212\" r=\"7.0\" style=\"fill:red;stroke:black;stroke-width:1.0\"/><circle cx=\"335\" cy=\"236\" r=\"7.0\" style=\"fill:red;stroke:black;stroke-width:1.0\"/><circle cx=\"282\" cy=\"153\" r=\"7.0\" style=\"fill:red;stroke:black;stroke-width:1.0\"/><circle cx=\"348\" cy=\"43\" r=\"7.0\" style=\"fill:blue;stroke:black;stroke-width:1.0\"/><circle cx=\"273\" cy=\"27\" r=\"7.0\" style=\"fill:blue;stroke:black;stroke-width:1.0\"/><circle cx=\"220\" cy=\"320\" r=\"7.0\" style=\"fill:red;stroke:black;stroke-width:1.0\"/><circle cx=\"388\" cy=\"216\" r=\"7.0\" style=\"fill:red;stroke:black;stroke-width:1.0\"/><circle cx=\"313\" cy=\"34\" r=\"7.0\" style=\"fill:blue;stroke:black;stroke-width:1.0\"/><circle cx=\"331\" cy=\"143\" r=\"7.0\" style=\"fill:red;stroke:black;stroke-width:1.0\"/><circle cx=\"366\" cy=\"61\" r=\"7.0\" style=\"fill:blue;stroke:black;stroke-width:1.0\"/><circle cx=\"420\" cy=\"202\" r=\"7.0\" style=\"fill:red;stroke:black;stroke-width:1.0\"/><circle cx=\"228\" cy=\"32\" r=\"7.0\" style=\"fill:blue;stroke:black;stroke-width:1.0\"/><circle cx=\"131\" cy=\"68\" r=\"7.0\" style=\"fill:blue;stroke:black;stroke-width:1.0\"/><circle cx=\"20\" cy=\"116\" r=\"7.0\" style=\"fill:blue;stroke:black;stroke-width:1.0\"/><circle cx=\"28\" cy=\"91\" r=\"7.0\" style=\"fill:blue;stroke:black;stroke-width:1.0\"/><circle cx=\"162\" cy=\"20\" r=\"7.0\" style=\"fill:blue;stroke:black;stroke-width:1.0\"/><circle cx=\"122\" cy=\"103\" r=\"7.0\" style=\"fill:blue;stroke:black;stroke-width:1.0\"/><circle cx=\"197\" cy=\"120\" r=\"7.0\" style=\"fill:blue;stroke:black;stroke-width:1.0\"/><circle cx=\"171\" cy=\"45\" r=\"7.0\" style=\"fill:blue;stroke:black;stroke-width:1.0\"/><circle cx=\"344\" cy=\"107\" r=\"7.0\" style=\"fill:blue;stroke:black;stroke-width:1.0\"/><circle cx=\"153\" cy=\"125\" r=\"7.0\" style=\"fill:blue;stroke:black;stroke-width:1.0\"/><circle cx=\"260\" cy=\"73\" r=\"7.0\" style=\"fill:blue;stroke:black;stroke-width:1.0\"/><circle cx=\"246\" cy=\"82\" r=\"7.0\" style=\"fill:blue;stroke:black;stroke-width:1.0\"/></svg>"
     },
     "execution_count": 13,
     "metadata": {},
     "output_type": "execute_result"
    }
   ],
   "source": [
    "SVG(image)"
   ]
  },
  {
   "cell_type": "code",
   "execution_count": 14,
   "metadata": {},
   "outputs": [],
   "source": [
    "graph = load_netset('openflights')"
   ]
  },
  {
   "cell_type": "code",
   "execution_count": 15,
   "metadata": {},
   "outputs": [
    {
     "data": {
      "text/plain": "{'adjacency': <3097x3097 sparse matrix of type '<class 'numpy.int64'>'\n \twith 36386 stored elements in Compressed Sparse Row format>,\n 'names': array(['Goroka Airport', 'Madang Airport', 'Mount Hagen Kagamuga Airport',\n        ..., 'Saumlaki/Olilit Airport', 'Tarko-Sale Airport',\n        'Alashankou Bole (Bortala) airport'], dtype='<U65'),\n 'position': array([[145.39199829,  -6.08168983],\n        [145.78900147,  -5.20707989],\n        [144.29600525,  -5.82678986],\n        ...,\n        [131.30599976,  -7.98860979],\n        [ 77.81809998,  64.93080139],\n        [ 82.3       ,  44.895     ]]),\n 'meta': {'name': 'openflights'}}"
     },
     "execution_count": 15,
     "metadata": {},
     "output_type": "execute_result"
    }
   ],
   "source": [
    "graph"
   ]
  },
  {
   "cell_type": "code",
   "execution_count": 16,
   "metadata": {},
   "outputs": [],
   "source": [
    "adjacency2 = graph.adjacency\n",
    "position2 = graph.position\n",
    "names2 = graph.names"
   ]
  },
  {
   "cell_type": "code",
   "execution_count": 17,
   "outputs": [],
   "source": [
    "image = svg_graph(adjacency2, position2)"
   ],
   "metadata": {
    "collapsed": false,
    "pycharm": {
     "name": "#%%\n"
    }
   }
  },
  {
   "cell_type": "code",
   "execution_count": 19,
   "outputs": [
    {
     "data": {
      "text/plain": "(3097, 3097)"
     },
     "execution_count": 19,
     "metadata": {},
     "output_type": "execute_result"
    }
   ],
   "source": [
    "adjacency2.get_shape()"
   ],
   "metadata": {
    "collapsed": false,
    "pycharm": {
     "name": "#%%\n"
    }
   }
  },
  {
   "cell_type": "code",
   "execution_count": 1,
   "metadata": {},
   "outputs": [],
   "source": [
    "#SVG(image)"
   ]
  },
  {
   "cell_type": "code",
   "execution_count": 1,
   "outputs": [],
   "source": [
    "\n",
    "from IPython.display import SVG\n",
    "\n",
    "import numpy as np\n",
    "from sknetwork.data import erdos_renyie, block_model, linear_graph, cyclic_graph, linear_digraph, cyclic_digraph\n",
    "from sknetwork.embedding import SVD\n",
    "from sknetwork.visualization import svg_graph, svg_digraph"
   ],
   "metadata": {
    "collapsed": false,
    "pycharm": {
     "name": "#%%\n"
    }
   }
  },
  {
   "cell_type": "code",
   "execution_count": 4,
   "outputs": [],
   "source": [
    "graph = cyclic_graph(100, metadata=True)\n",
    "adjacency = graph.adjacency\n",
    "position = graph.position"
   ],
   "metadata": {
    "collapsed": false,
    "pycharm": {
     "name": "#%%\n"
    }
   }
  },
  {
   "cell_type": "code",
   "execution_count": 5,
   "outputs": [
    {
     "data": {
      "text/plain": "<IPython.core.display.SVG object>",
      "image/svg+xml": "<svg height=\"240\" width=\"240\" xmlns=\"http://www.w3.org/2000/svg\"><path d=\"M 220 120 219 113\" stroke=\"black\" stroke-width=\"1\"/><path d=\"M 220 120 219 126\" stroke=\"black\" stroke-width=\"1\"/><path d=\"M 219 113 220 120\" stroke=\"black\" stroke-width=\"1\"/><path d=\"M 219 113 219 107\" stroke=\"black\" stroke-width=\"1\"/><path d=\"M 219 107 219 113\" stroke=\"black\" stroke-width=\"1\"/><path d=\"M 219 107 218 101\" stroke=\"black\" stroke-width=\"1\"/><path d=\"M 218 101 219 107\" stroke=\"black\" stroke-width=\"1\"/><path d=\"M 218 101 216 95\" stroke=\"black\" stroke-width=\"1\"/><path d=\"M 216 95 218 101\" stroke=\"black\" stroke-width=\"1\"/><path d=\"M 216 95 215 89\" stroke=\"black\" stroke-width=\"1\"/><path d=\"M 215 89 216 95\" stroke=\"black\" stroke-width=\"1\"/><path d=\"M 215 89 212 83\" stroke=\"black\" stroke-width=\"1\"/><path d=\"M 212 83 215 89\" stroke=\"black\" stroke-width=\"1\"/><path d=\"M 212 83 210 77\" stroke=\"black\" stroke-width=\"1\"/><path d=\"M 210 77 212 83\" stroke=\"black\" stroke-width=\"1\"/><path d=\"M 210 77 207 71\" stroke=\"black\" stroke-width=\"1\"/><path d=\"M 207 71 210 77\" stroke=\"black\" stroke-width=\"1\"/><path d=\"M 207 71 204 66\" stroke=\"black\" stroke-width=\"1\"/><path d=\"M 204 66 207 71\" stroke=\"black\" stroke-width=\"1\"/><path d=\"M 204 66 200 61\" stroke=\"black\" stroke-width=\"1\"/><path d=\"M 200 61 204 66\" stroke=\"black\" stroke-width=\"1\"/><path d=\"M 200 61 197 56\" stroke=\"black\" stroke-width=\"1\"/><path d=\"M 197 56 200 61\" stroke=\"black\" stroke-width=\"1\"/><path d=\"M 197 56 192 51\" stroke=\"black\" stroke-width=\"1\"/><path d=\"M 192 51 197 56\" stroke=\"black\" stroke-width=\"1\"/><path d=\"M 192 51 188 47\" stroke=\"black\" stroke-width=\"1\"/><path d=\"M 188 47 192 51\" stroke=\"black\" stroke-width=\"1\"/><path d=\"M 188 47 183 42\" stroke=\"black\" stroke-width=\"1\"/><path d=\"M 183 42 188 47\" stroke=\"black\" stroke-width=\"1\"/><path d=\"M 183 42 178 39\" stroke=\"black\" stroke-width=\"1\"/><path d=\"M 178 39 183 42\" stroke=\"black\" stroke-width=\"1\"/><path d=\"M 178 39 173 35\" stroke=\"black\" stroke-width=\"1\"/><path d=\"M 173 35 178 39\" stroke=\"black\" stroke-width=\"1\"/><path d=\"M 173 35 168 32\" stroke=\"black\" stroke-width=\"1\"/><path d=\"M 168 32 173 35\" stroke=\"black\" stroke-width=\"1\"/><path d=\"M 168 32 162 29\" stroke=\"black\" stroke-width=\"1\"/><path d=\"M 162 29 168 32\" stroke=\"black\" stroke-width=\"1\"/><path d=\"M 162 29 156 27\" stroke=\"black\" stroke-width=\"1\"/><path d=\"M 156 27 162 29\" stroke=\"black\" stroke-width=\"1\"/><path d=\"M 156 27 150 24\" stroke=\"black\" stroke-width=\"1\"/><path d=\"M 150 24 156 27\" stroke=\"black\" stroke-width=\"1\"/><path d=\"M 150 24 144 23\" stroke=\"black\" stroke-width=\"1\"/><path d=\"M 144 23 150 24\" stroke=\"black\" stroke-width=\"1\"/><path d=\"M 144 23 138 21\" stroke=\"black\" stroke-width=\"1\"/><path d=\"M 138 21 144 23\" stroke=\"black\" stroke-width=\"1\"/><path d=\"M 138 21 132 20\" stroke=\"black\" stroke-width=\"1\"/><path d=\"M 132 20 138 21\" stroke=\"black\" stroke-width=\"1\"/><path d=\"M 132 20 126 20\" stroke=\"black\" stroke-width=\"1\"/><path d=\"M 126 20 132 20\" stroke=\"black\" stroke-width=\"1\"/><path d=\"M 126 20 120 20\" stroke=\"black\" stroke-width=\"1\"/><path d=\"M 120 20 126 20\" stroke=\"black\" stroke-width=\"1\"/><path d=\"M 120 20 113 20\" stroke=\"black\" stroke-width=\"1\"/><path d=\"M 113 20 120 20\" stroke=\"black\" stroke-width=\"1\"/><path d=\"M 113 20 107 20\" stroke=\"black\" stroke-width=\"1\"/><path d=\"M 107 20 113 20\" stroke=\"black\" stroke-width=\"1\"/><path d=\"M 107 20 101 21\" stroke=\"black\" stroke-width=\"1\"/><path d=\"M 101 21 107 20\" stroke=\"black\" stroke-width=\"1\"/><path d=\"M 101 21 95 23\" stroke=\"black\" stroke-width=\"1\"/><path d=\"M 95 23 101 21\" stroke=\"black\" stroke-width=\"1\"/><path d=\"M 95 23 89 24\" stroke=\"black\" stroke-width=\"1\"/><path d=\"M 89 24 95 23\" stroke=\"black\" stroke-width=\"1\"/><path d=\"M 89 24 83 26\" stroke=\"black\" stroke-width=\"1\"/><path d=\"M 83 26 89 24\" stroke=\"black\" stroke-width=\"1\"/><path d=\"M 83 26 77 29\" stroke=\"black\" stroke-width=\"1\"/><path d=\"M 77 29 83 26\" stroke=\"black\" stroke-width=\"1\"/><path d=\"M 77 29 71 32\" stroke=\"black\" stroke-width=\"1\"/><path d=\"M 71 32 77 29\" stroke=\"black\" stroke-width=\"1\"/><path d=\"M 71 32 66 35\" stroke=\"black\" stroke-width=\"1\"/><path d=\"M 66 35 71 32\" stroke=\"black\" stroke-width=\"1\"/><path d=\"M 66 35 61 39\" stroke=\"black\" stroke-width=\"1\"/><path d=\"M 61 39 66 35\" stroke=\"black\" stroke-width=\"1\"/><path d=\"M 61 39 56 42\" stroke=\"black\" stroke-width=\"1\"/><path d=\"M 56 42 61 39\" stroke=\"black\" stroke-width=\"1\"/><path d=\"M 56 42 51 47\" stroke=\"black\" stroke-width=\"1\"/><path d=\"M 51 47 56 42\" stroke=\"black\" stroke-width=\"1\"/><path d=\"M 51 47 47 51\" stroke=\"black\" stroke-width=\"1\"/><path d=\"M 47 51 51 47\" stroke=\"black\" stroke-width=\"1\"/><path d=\"M 47 51 43 56\" stroke=\"black\" stroke-width=\"1\"/><path d=\"M 43 56 47 51\" stroke=\"black\" stroke-width=\"1\"/><path d=\"M 43 56 39 61\" stroke=\"black\" stroke-width=\"1\"/><path d=\"M 39 61 43 56\" stroke=\"black\" stroke-width=\"1\"/><path d=\"M 39 61 35 66\" stroke=\"black\" stroke-width=\"1\"/><path d=\"M 35 66 39 61\" stroke=\"black\" stroke-width=\"1\"/><path d=\"M 35 66 32 71\" stroke=\"black\" stroke-width=\"1\"/><path d=\"M 32 71 35 66\" stroke=\"black\" stroke-width=\"1\"/><path d=\"M 32 71 29 77\" stroke=\"black\" stroke-width=\"1\"/><path d=\"M 29 77 32 71\" stroke=\"black\" stroke-width=\"1\"/><path d=\"M 29 77 27 83\" stroke=\"black\" stroke-width=\"1\"/><path d=\"M 27 83 29 77\" stroke=\"black\" stroke-width=\"1\"/><path d=\"M 27 83 24 88\" stroke=\"black\" stroke-width=\"1\"/><path d=\"M 24 88 27 83\" stroke=\"black\" stroke-width=\"1\"/><path d=\"M 24 88 23 94\" stroke=\"black\" stroke-width=\"1\"/><path d=\"M 23 94 24 88\" stroke=\"black\" stroke-width=\"1\"/><path d=\"M 23 94 21 101\" stroke=\"black\" stroke-width=\"1\"/><path d=\"M 21 101 23 94\" stroke=\"black\" stroke-width=\"1\"/><path d=\"M 21 101 20 107\" stroke=\"black\" stroke-width=\"1\"/><path d=\"M 20 107 21 101\" stroke=\"black\" stroke-width=\"1\"/><path d=\"M 20 107 20 113\" stroke=\"black\" stroke-width=\"1\"/><path d=\"M 20 113 20 107\" stroke=\"black\" stroke-width=\"1\"/><path d=\"M 20 113 20 119\" stroke=\"black\" stroke-width=\"1\"/><path d=\"M 20 119 20 113\" stroke=\"black\" stroke-width=\"1\"/><path d=\"M 20 119 20 126\" stroke=\"black\" stroke-width=\"1\"/><path d=\"M 20 126 20 119\" stroke=\"black\" stroke-width=\"1\"/><path d=\"M 20 126 20 132\" stroke=\"black\" stroke-width=\"1\"/><path d=\"M 20 132 20 126\" stroke=\"black\" stroke-width=\"1\"/><path d=\"M 20 132 21 138\" stroke=\"black\" stroke-width=\"1\"/><path d=\"M 21 138 20 132\" stroke=\"black\" stroke-width=\"1\"/><path d=\"M 21 138 23 144\" stroke=\"black\" stroke-width=\"1\"/><path d=\"M 23 144 21 138\" stroke=\"black\" stroke-width=\"1\"/><path d=\"M 23 144 24 150\" stroke=\"black\" stroke-width=\"1\"/><path d=\"M 24 150 23 144\" stroke=\"black\" stroke-width=\"1\"/><path d=\"M 24 150 26 156\" stroke=\"black\" stroke-width=\"1\"/><path d=\"M 26 156 24 150\" stroke=\"black\" stroke-width=\"1\"/><path d=\"M 26 156 29 162\" stroke=\"black\" stroke-width=\"1\"/><path d=\"M 29 162 26 156\" stroke=\"black\" stroke-width=\"1\"/><path d=\"M 29 162 32 168\" stroke=\"black\" stroke-width=\"1\"/><path d=\"M 32 168 29 162\" stroke=\"black\" stroke-width=\"1\"/><path d=\"M 32 168 35 173\" stroke=\"black\" stroke-width=\"1\"/><path d=\"M 35 173 32 168\" stroke=\"black\" stroke-width=\"1\"/><path d=\"M 35 173 38 178\" stroke=\"black\" stroke-width=\"1\"/><path d=\"M 38 178 35 173\" stroke=\"black\" stroke-width=\"1\"/><path d=\"M 38 178 42 183\" stroke=\"black\" stroke-width=\"1\"/><path d=\"M 42 183 38 178\" stroke=\"black\" stroke-width=\"1\"/><path d=\"M 42 183 46 188\" stroke=\"black\" stroke-width=\"1\"/><path d=\"M 46 188 42 183\" stroke=\"black\" stroke-width=\"1\"/><path d=\"M 46 188 51 192\" stroke=\"black\" stroke-width=\"1\"/><path d=\"M 51 192 46 188\" stroke=\"black\" stroke-width=\"1\"/><path d=\"M 51 192 56 196\" stroke=\"black\" stroke-width=\"1\"/><path d=\"M 56 196 51 192\" stroke=\"black\" stroke-width=\"1\"/><path d=\"M 56 196 61 200\" stroke=\"black\" stroke-width=\"1\"/><path d=\"M 61 200 56 196\" stroke=\"black\" stroke-width=\"1\"/><path d=\"M 61 200 66 204\" stroke=\"black\" stroke-width=\"1\"/><path d=\"M 66 204 61 200\" stroke=\"black\" stroke-width=\"1\"/><path d=\"M 66 204 71 207\" stroke=\"black\" stroke-width=\"1\"/><path d=\"M 71 207 66 204\" stroke=\"black\" stroke-width=\"1\"/><path d=\"M 71 207 77 210\" stroke=\"black\" stroke-width=\"1\"/><path d=\"M 77 210 71 207\" stroke=\"black\" stroke-width=\"1\"/><path d=\"M 77 210 82 212\" stroke=\"black\" stroke-width=\"1\"/><path d=\"M 82 212 77 210\" stroke=\"black\" stroke-width=\"1\"/><path d=\"M 82 212 88 215\" stroke=\"black\" stroke-width=\"1\"/><path d=\"M 88 215 82 212\" stroke=\"black\" stroke-width=\"1\"/><path d=\"M 88 215 94 216\" stroke=\"black\" stroke-width=\"1\"/><path d=\"M 94 216 88 215\" stroke=\"black\" stroke-width=\"1\"/><path d=\"M 94 216 101 218\" stroke=\"black\" stroke-width=\"1\"/><path d=\"M 101 218 94 216\" stroke=\"black\" stroke-width=\"1\"/><path d=\"M 101 218 107 219\" stroke=\"black\" stroke-width=\"1\"/><path d=\"M 107 219 101 218\" stroke=\"black\" stroke-width=\"1\"/><path d=\"M 107 219 113 219\" stroke=\"black\" stroke-width=\"1\"/><path d=\"M 113 219 107 219\" stroke=\"black\" stroke-width=\"1\"/><path d=\"M 113 219 119 220\" stroke=\"black\" stroke-width=\"1\"/><path d=\"M 119 220 113 219\" stroke=\"black\" stroke-width=\"1\"/><path d=\"M 119 220 126 219\" stroke=\"black\" stroke-width=\"1\"/><path d=\"M 126 219 119 220\" stroke=\"black\" stroke-width=\"1\"/><path d=\"M 126 219 132 219\" stroke=\"black\" stroke-width=\"1\"/><path d=\"M 132 219 126 219\" stroke=\"black\" stroke-width=\"1\"/><path d=\"M 132 219 138 218\" stroke=\"black\" stroke-width=\"1\"/><path d=\"M 138 218 132 219\" stroke=\"black\" stroke-width=\"1\"/><path d=\"M 138 218 144 216\" stroke=\"black\" stroke-width=\"1\"/><path d=\"M 144 216 138 218\" stroke=\"black\" stroke-width=\"1\"/><path d=\"M 144 216 150 215\" stroke=\"black\" stroke-width=\"1\"/><path d=\"M 150 215 144 216\" stroke=\"black\" stroke-width=\"1\"/><path d=\"M 150 215 156 213\" stroke=\"black\" stroke-width=\"1\"/><path d=\"M 156 213 150 215\" stroke=\"black\" stroke-width=\"1\"/><path d=\"M 156 213 162 210\" stroke=\"black\" stroke-width=\"1\"/><path d=\"M 162 210 156 213\" stroke=\"black\" stroke-width=\"1\"/><path d=\"M 162 210 167 207\" stroke=\"black\" stroke-width=\"1\"/><path d=\"M 167 207 162 210\" stroke=\"black\" stroke-width=\"1\"/><path d=\"M 167 207 173 204\" stroke=\"black\" stroke-width=\"1\"/><path d=\"M 173 204 167 207\" stroke=\"black\" stroke-width=\"1\"/><path d=\"M 173 204 178 201\" stroke=\"black\" stroke-width=\"1\"/><path d=\"M 178 201 173 204\" stroke=\"black\" stroke-width=\"1\"/><path d=\"M 178 201 183 197\" stroke=\"black\" stroke-width=\"1\"/><path d=\"M 183 197 178 201\" stroke=\"black\" stroke-width=\"1\"/><path d=\"M 183 197 188 193\" stroke=\"black\" stroke-width=\"1\"/><path d=\"M 188 193 183 197\" stroke=\"black\" stroke-width=\"1\"/><path d=\"M 188 193 192 188\" stroke=\"black\" stroke-width=\"1\"/><path d=\"M 192 188 188 193\" stroke=\"black\" stroke-width=\"1\"/><path d=\"M 192 188 196 183\" stroke=\"black\" stroke-width=\"1\"/><path d=\"M 196 183 192 188\" stroke=\"black\" stroke-width=\"1\"/><path d=\"M 196 183 200 179\" stroke=\"black\" stroke-width=\"1\"/><path d=\"M 200 179 196 183\" stroke=\"black\" stroke-width=\"1\"/><path d=\"M 200 179 204 173\" stroke=\"black\" stroke-width=\"1\"/><path d=\"M 204 173 200 179\" stroke=\"black\" stroke-width=\"1\"/><path d=\"M 204 173 207 168\" stroke=\"black\" stroke-width=\"1\"/><path d=\"M 207 168 204 173\" stroke=\"black\" stroke-width=\"1\"/><path d=\"M 207 168 210 162\" stroke=\"black\" stroke-width=\"1\"/><path d=\"M 210 162 207 168\" stroke=\"black\" stroke-width=\"1\"/><path d=\"M 210 162 212 157\" stroke=\"black\" stroke-width=\"1\"/><path d=\"M 212 157 210 162\" stroke=\"black\" stroke-width=\"1\"/><path d=\"M 212 157 215 151\" stroke=\"black\" stroke-width=\"1\"/><path d=\"M 215 151 212 157\" stroke=\"black\" stroke-width=\"1\"/><path d=\"M 215 151 216 145\" stroke=\"black\" stroke-width=\"1\"/><path d=\"M 216 145 215 151\" stroke=\"black\" stroke-width=\"1\"/><path d=\"M 216 145 218 139\" stroke=\"black\" stroke-width=\"1\"/><path d=\"M 218 139 216 145\" stroke=\"black\" stroke-width=\"1\"/><path d=\"M 218 139 219 132\" stroke=\"black\" stroke-width=\"1\"/><path d=\"M 219 132 218 139\" stroke=\"black\" stroke-width=\"1\"/><path d=\"M 219 132 219 126\" stroke=\"black\" stroke-width=\"1\"/><path d=\"M 219 126 220 120\" stroke=\"black\" stroke-width=\"1\"/><path d=\"M 219 126 219 132\" stroke=\"black\" stroke-width=\"1\"/><circle cx=\"220\" cy=\"120\" r=\"7.0\" style=\"fill:gray;stroke:black;stroke-width:1.0\"/><circle cx=\"219\" cy=\"113\" r=\"7.0\" style=\"fill:gray;stroke:black;stroke-width:1.0\"/><circle cx=\"219\" cy=\"107\" r=\"7.0\" style=\"fill:gray;stroke:black;stroke-width:1.0\"/><circle cx=\"218\" cy=\"101\" r=\"7.0\" style=\"fill:gray;stroke:black;stroke-width:1.0\"/><circle cx=\"216\" cy=\"95\" r=\"7.0\" style=\"fill:gray;stroke:black;stroke-width:1.0\"/><circle cx=\"215\" cy=\"89\" r=\"7.0\" style=\"fill:gray;stroke:black;stroke-width:1.0\"/><circle cx=\"212\" cy=\"83\" r=\"7.0\" style=\"fill:gray;stroke:black;stroke-width:1.0\"/><circle cx=\"210\" cy=\"77\" r=\"7.0\" style=\"fill:gray;stroke:black;stroke-width:1.0\"/><circle cx=\"207\" cy=\"71\" r=\"7.0\" style=\"fill:gray;stroke:black;stroke-width:1.0\"/><circle cx=\"204\" cy=\"66\" r=\"7.0\" style=\"fill:gray;stroke:black;stroke-width:1.0\"/><circle cx=\"200\" cy=\"61\" r=\"7.0\" style=\"fill:gray;stroke:black;stroke-width:1.0\"/><circle cx=\"197\" cy=\"56\" r=\"7.0\" style=\"fill:gray;stroke:black;stroke-width:1.0\"/><circle cx=\"192\" cy=\"51\" r=\"7.0\" style=\"fill:gray;stroke:black;stroke-width:1.0\"/><circle cx=\"188\" cy=\"47\" r=\"7.0\" style=\"fill:gray;stroke:black;stroke-width:1.0\"/><circle cx=\"183\" cy=\"42\" r=\"7.0\" style=\"fill:gray;stroke:black;stroke-width:1.0\"/><circle cx=\"178\" cy=\"39\" r=\"7.0\" style=\"fill:gray;stroke:black;stroke-width:1.0\"/><circle cx=\"173\" cy=\"35\" r=\"7.0\" style=\"fill:gray;stroke:black;stroke-width:1.0\"/><circle cx=\"168\" cy=\"32\" r=\"7.0\" style=\"fill:gray;stroke:black;stroke-width:1.0\"/><circle cx=\"162\" cy=\"29\" r=\"7.0\" style=\"fill:gray;stroke:black;stroke-width:1.0\"/><circle cx=\"156\" cy=\"27\" r=\"7.0\" style=\"fill:gray;stroke:black;stroke-width:1.0\"/><circle cx=\"150\" cy=\"24\" r=\"7.0\" style=\"fill:gray;stroke:black;stroke-width:1.0\"/><circle cx=\"144\" cy=\"23\" r=\"7.0\" style=\"fill:gray;stroke:black;stroke-width:1.0\"/><circle cx=\"138\" cy=\"21\" r=\"7.0\" style=\"fill:gray;stroke:black;stroke-width:1.0\"/><circle cx=\"132\" cy=\"20\" r=\"7.0\" style=\"fill:gray;stroke:black;stroke-width:1.0\"/><circle cx=\"126\" cy=\"20\" r=\"7.0\" style=\"fill:gray;stroke:black;stroke-width:1.0\"/><circle cx=\"120\" cy=\"20\" r=\"7.0\" style=\"fill:gray;stroke:black;stroke-width:1.0\"/><circle cx=\"113\" cy=\"20\" r=\"7.0\" style=\"fill:gray;stroke:black;stroke-width:1.0\"/><circle cx=\"107\" cy=\"20\" r=\"7.0\" style=\"fill:gray;stroke:black;stroke-width:1.0\"/><circle cx=\"101\" cy=\"21\" r=\"7.0\" style=\"fill:gray;stroke:black;stroke-width:1.0\"/><circle cx=\"95\" cy=\"23\" r=\"7.0\" style=\"fill:gray;stroke:black;stroke-width:1.0\"/><circle cx=\"89\" cy=\"24\" r=\"7.0\" style=\"fill:gray;stroke:black;stroke-width:1.0\"/><circle cx=\"83\" cy=\"26\" r=\"7.0\" style=\"fill:gray;stroke:black;stroke-width:1.0\"/><circle cx=\"77\" cy=\"29\" r=\"7.0\" style=\"fill:gray;stroke:black;stroke-width:1.0\"/><circle cx=\"71\" cy=\"32\" r=\"7.0\" style=\"fill:gray;stroke:black;stroke-width:1.0\"/><circle cx=\"66\" cy=\"35\" r=\"7.0\" style=\"fill:gray;stroke:black;stroke-width:1.0\"/><circle cx=\"61\" cy=\"39\" r=\"7.0\" style=\"fill:gray;stroke:black;stroke-width:1.0\"/><circle cx=\"56\" cy=\"42\" r=\"7.0\" style=\"fill:gray;stroke:black;stroke-width:1.0\"/><circle cx=\"51\" cy=\"47\" r=\"7.0\" style=\"fill:gray;stroke:black;stroke-width:1.0\"/><circle cx=\"47\" cy=\"51\" r=\"7.0\" style=\"fill:gray;stroke:black;stroke-width:1.0\"/><circle cx=\"43\" cy=\"56\" r=\"7.0\" style=\"fill:gray;stroke:black;stroke-width:1.0\"/><circle cx=\"39\" cy=\"61\" r=\"7.0\" style=\"fill:gray;stroke:black;stroke-width:1.0\"/><circle cx=\"35\" cy=\"66\" r=\"7.0\" style=\"fill:gray;stroke:black;stroke-width:1.0\"/><circle cx=\"32\" cy=\"71\" r=\"7.0\" style=\"fill:gray;stroke:black;stroke-width:1.0\"/><circle cx=\"29\" cy=\"77\" r=\"7.0\" style=\"fill:gray;stroke:black;stroke-width:1.0\"/><circle cx=\"27\" cy=\"83\" r=\"7.0\" style=\"fill:gray;stroke:black;stroke-width:1.0\"/><circle cx=\"24\" cy=\"88\" r=\"7.0\" style=\"fill:gray;stroke:black;stroke-width:1.0\"/><circle cx=\"23\" cy=\"94\" r=\"7.0\" style=\"fill:gray;stroke:black;stroke-width:1.0\"/><circle cx=\"21\" cy=\"101\" r=\"7.0\" style=\"fill:gray;stroke:black;stroke-width:1.0\"/><circle cx=\"20\" cy=\"107\" r=\"7.0\" style=\"fill:gray;stroke:black;stroke-width:1.0\"/><circle cx=\"20\" cy=\"113\" r=\"7.0\" style=\"fill:gray;stroke:black;stroke-width:1.0\"/><circle cx=\"20\" cy=\"119\" r=\"7.0\" style=\"fill:gray;stroke:black;stroke-width:1.0\"/><circle cx=\"20\" cy=\"126\" r=\"7.0\" style=\"fill:gray;stroke:black;stroke-width:1.0\"/><circle cx=\"20\" cy=\"132\" r=\"7.0\" style=\"fill:gray;stroke:black;stroke-width:1.0\"/><circle cx=\"21\" cy=\"138\" r=\"7.0\" style=\"fill:gray;stroke:black;stroke-width:1.0\"/><circle cx=\"23\" cy=\"144\" r=\"7.0\" style=\"fill:gray;stroke:black;stroke-width:1.0\"/><circle cx=\"24\" cy=\"150\" r=\"7.0\" style=\"fill:gray;stroke:black;stroke-width:1.0\"/><circle cx=\"26\" cy=\"156\" r=\"7.0\" style=\"fill:gray;stroke:black;stroke-width:1.0\"/><circle cx=\"29\" cy=\"162\" r=\"7.0\" style=\"fill:gray;stroke:black;stroke-width:1.0\"/><circle cx=\"32\" cy=\"168\" r=\"7.0\" style=\"fill:gray;stroke:black;stroke-width:1.0\"/><circle cx=\"35\" cy=\"173\" r=\"7.0\" style=\"fill:gray;stroke:black;stroke-width:1.0\"/><circle cx=\"38\" cy=\"178\" r=\"7.0\" style=\"fill:gray;stroke:black;stroke-width:1.0\"/><circle cx=\"42\" cy=\"183\" r=\"7.0\" style=\"fill:gray;stroke:black;stroke-width:1.0\"/><circle cx=\"46\" cy=\"188\" r=\"7.0\" style=\"fill:gray;stroke:black;stroke-width:1.0\"/><circle cx=\"51\" cy=\"192\" r=\"7.0\" style=\"fill:gray;stroke:black;stroke-width:1.0\"/><circle cx=\"56\" cy=\"196\" r=\"7.0\" style=\"fill:gray;stroke:black;stroke-width:1.0\"/><circle cx=\"61\" cy=\"200\" r=\"7.0\" style=\"fill:gray;stroke:black;stroke-width:1.0\"/><circle cx=\"66\" cy=\"204\" r=\"7.0\" style=\"fill:gray;stroke:black;stroke-width:1.0\"/><circle cx=\"71\" cy=\"207\" r=\"7.0\" style=\"fill:gray;stroke:black;stroke-width:1.0\"/><circle cx=\"77\" cy=\"210\" r=\"7.0\" style=\"fill:gray;stroke:black;stroke-width:1.0\"/><circle cx=\"82\" cy=\"212\" r=\"7.0\" style=\"fill:gray;stroke:black;stroke-width:1.0\"/><circle cx=\"88\" cy=\"215\" r=\"7.0\" style=\"fill:gray;stroke:black;stroke-width:1.0\"/><circle cx=\"94\" cy=\"216\" r=\"7.0\" style=\"fill:gray;stroke:black;stroke-width:1.0\"/><circle cx=\"101\" cy=\"218\" r=\"7.0\" style=\"fill:gray;stroke:black;stroke-width:1.0\"/><circle cx=\"107\" cy=\"219\" r=\"7.0\" style=\"fill:gray;stroke:black;stroke-width:1.0\"/><circle cx=\"113\" cy=\"219\" r=\"7.0\" style=\"fill:gray;stroke:black;stroke-width:1.0\"/><circle cx=\"119\" cy=\"220\" r=\"7.0\" style=\"fill:gray;stroke:black;stroke-width:1.0\"/><circle cx=\"126\" cy=\"219\" r=\"7.0\" style=\"fill:gray;stroke:black;stroke-width:1.0\"/><circle cx=\"132\" cy=\"219\" r=\"7.0\" style=\"fill:gray;stroke:black;stroke-width:1.0\"/><circle cx=\"138\" cy=\"218\" r=\"7.0\" style=\"fill:gray;stroke:black;stroke-width:1.0\"/><circle cx=\"144\" cy=\"216\" r=\"7.0\" style=\"fill:gray;stroke:black;stroke-width:1.0\"/><circle cx=\"150\" cy=\"215\" r=\"7.0\" style=\"fill:gray;stroke:black;stroke-width:1.0\"/><circle cx=\"156\" cy=\"213\" r=\"7.0\" style=\"fill:gray;stroke:black;stroke-width:1.0\"/><circle cx=\"162\" cy=\"210\" r=\"7.0\" style=\"fill:gray;stroke:black;stroke-width:1.0\"/><circle cx=\"167\" cy=\"207\" r=\"7.0\" style=\"fill:gray;stroke:black;stroke-width:1.0\"/><circle cx=\"173\" cy=\"204\" r=\"7.0\" style=\"fill:gray;stroke:black;stroke-width:1.0\"/><circle cx=\"178\" cy=\"201\" r=\"7.0\" style=\"fill:gray;stroke:black;stroke-width:1.0\"/><circle cx=\"183\" cy=\"197\" r=\"7.0\" style=\"fill:gray;stroke:black;stroke-width:1.0\"/><circle cx=\"188\" cy=\"193\" r=\"7.0\" style=\"fill:gray;stroke:black;stroke-width:1.0\"/><circle cx=\"192\" cy=\"188\" r=\"7.0\" style=\"fill:gray;stroke:black;stroke-width:1.0\"/><circle cx=\"196\" cy=\"183\" r=\"7.0\" style=\"fill:gray;stroke:black;stroke-width:1.0\"/><circle cx=\"200\" cy=\"179\" r=\"7.0\" style=\"fill:gray;stroke:black;stroke-width:1.0\"/><circle cx=\"204\" cy=\"173\" r=\"7.0\" style=\"fill:gray;stroke:black;stroke-width:1.0\"/><circle cx=\"207\" cy=\"168\" r=\"7.0\" style=\"fill:gray;stroke:black;stroke-width:1.0\"/><circle cx=\"210\" cy=\"162\" r=\"7.0\" style=\"fill:gray;stroke:black;stroke-width:1.0\"/><circle cx=\"212\" cy=\"157\" r=\"7.0\" style=\"fill:gray;stroke:black;stroke-width:1.0\"/><circle cx=\"215\" cy=\"151\" r=\"7.0\" style=\"fill:gray;stroke:black;stroke-width:1.0\"/><circle cx=\"216\" cy=\"145\" r=\"7.0\" style=\"fill:gray;stroke:black;stroke-width:1.0\"/><circle cx=\"218\" cy=\"139\" r=\"7.0\" style=\"fill:gray;stroke:black;stroke-width:1.0\"/><circle cx=\"219\" cy=\"132\" r=\"7.0\" style=\"fill:gray;stroke:black;stroke-width:1.0\"/><circle cx=\"219\" cy=\"126\" r=\"7.0\" style=\"fill:gray;stroke:black;stroke-width:1.0\"/></svg>"
     },
     "execution_count": 5,
     "metadata": {},
     "output_type": "execute_result"
    }
   ],
   "source": [
    "image = svg_graph(adjacency, position, width=200, height=200)\n",
    "SVG(image)\n"
   ],
   "metadata": {
    "collapsed": false,
    "pycharm": {
     "name": "#%%\n"
    }
   }
  },
  {
   "cell_type": "code",
   "execution_count": null,
   "metadata": {},
   "outputs": [],
   "source": []
  }
 ],
 "metadata": {
  "kernelspec": {
   "name": "python3",
   "language": "python",
   "display_name": "Python 3"
  },
  "language_info": {
   "codemirror_mode": {
    "name": "ipython",
    "version": 3
   },
   "file_extension": ".py",
   "mimetype": "text/x-python",
   "name": "python",
   "nbconvert_exporter": "python",
   "pygments_lexer": "ipython3",
   "version": "3.7.6"
  },
  "varInspector": {
   "cols": {
    "lenName": 16,
    "lenType": 16,
    "lenVar": 40
   },
   "kernels_config": {
    "python": {
     "delete_cmd_postfix": "",
     "delete_cmd_prefix": "del ",
     "library": "var_list.py",
     "varRefreshCmd": "print(var_dic_list())"
    },
    "r": {
     "delete_cmd_postfix": ") ",
     "delete_cmd_prefix": "rm(",
     "library": "var_list.r",
     "varRefreshCmd": "cat(var_dic_list()) "
    }
   },
   "position": {
    "height": "245.2px",
    "left": "872.2px",
    "right": "20px",
    "top": "120px",
    "width": "578.2px"
   },
   "types_to_exclude": [
    "module",
    "function",
    "builtin_function_or_method",
    "instance",
    "_Feature"
   ],
   "window_display": true
  }
 },
 "nbformat": 4,
 "nbformat_minor": 4
}