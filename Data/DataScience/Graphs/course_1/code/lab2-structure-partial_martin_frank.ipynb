{
 "cells": [
  {
   "cell_type": "markdown",
   "metadata": {},
   "source": [
    "# SD212: Graph mining\n",
    "## Partial solution to Lab 2: Graph structure\n",
    "\n",
    "In this lab, you will learn to:\n",
    "* plot the degree distribution and observe the [power-law](https://en.wikipedia.org/wiki/Power_law#Power-law_probability_distributions),\n",
    "* estimate the [diameter](https://en.wikipedia.org/wiki/Distance_(graph_theory)) of a graph and observe the [small-world](https://en.wikipedia.org/wiki/Small-world_network) property,\n",
    "* estimate the [clustering coefficient](https://en.wikipedia.org/wiki/Clustering_coefficient) of a graph."
   ]
  },
  {
   "cell_type": "markdown",
   "metadata": {},
   "source": [
    "## Import"
   ]
  },
  {
   "cell_type": "code",
   "execution_count": 1,
   "metadata": {},
   "outputs": [],
   "source": [
    "import numpy as np\n",
    "from scipy import sparse\n",
    "from scipy.sparse.csgraph import shortest_path\n",
    "import matplotlib.pyplot as plt"
   ]
  },
  {
   "cell_type": "code",
   "execution_count": 2,
   "metadata": {},
   "outputs": [],
   "source": [
    "%matplotlib inline"
   ]
  },
  {
   "cell_type": "code",
   "execution_count": 3,
   "metadata": {},
   "outputs": [],
   "source": [
    "from sknetwork.data import load_netset, erdos_renyie, cyclic_graph, linear_graph\n",
    "from sknetwork.utils import bipartite2undirected"
   ]
  },
  {
   "cell_type": "markdown",
   "metadata": {},
   "source": [
    "## Data"
   ]
  },
  {
   "cell_type": "markdown",
   "metadata": {},
   "source": [
    "We will work on the following graphs (see the [NetSets](https://graphs.telecom-paristech.fr/Home_page.html#netsets-section) collection for details):\n",
    "* Openflights (graph)\n",
    "* WikiVitals (digraph)\n",
    "* Cinema (bigraph)"
   ]
  },
  {
   "cell_type": "code",
   "execution_count": 4,
   "metadata": {},
   "outputs": [],
   "source": [
    "openflights = load_netset('openflights')"
   ]
  },
  {
   "cell_type": "code",
   "execution_count": 5,
   "metadata": {},
   "outputs": [],
   "source": [
    "# focus on degrees, not weights\n",
    "adjacency = (openflights.adjacency > 0)"
   ]
  },
  {
   "cell_type": "code",
   "execution_count": 6,
   "metadata": {},
   "outputs": [],
   "source": [
    "wikivitals = load_netset('wikivitals')"
   ]
  },
  {
   "cell_type": "code",
   "execution_count": 7,
   "metadata": {},
   "outputs": [],
   "source": [
    "cinema = load_netset('cinema')"
   ]
  },
  {
   "cell_type": "markdown",
   "metadata": {},
   "source": [
    "## 1. Power law"
   ]
  },
  {
   "cell_type": "markdown",
   "metadata": {},
   "source": [
    "We first focus on the power law degree distribution.\n",
    "\n",
    "We consider the empirical distributions of:\n",
    "* degrees in the Openflights graph,\n",
    "* out-degrees and in-degrees in the WikiVitals graph."
   ]
  },
  {
   "cell_type": "markdown",
   "metadata": {},
   "source": [
    "## To do"
   ]
  },
  {
   "cell_type": "markdown",
   "metadata": {},
   "source": [
    "For each of these distributions:\n",
    "* Compute the [coefficient of variation](https://en.wikipedia.org/wiki/Coefficient_of_variation) and compare it to that of a Poisson distribution with the same mean.\n",
    "* Plot the [tail distribution](https://en.wikipedia.org/wiki/Cumulative_distribution_function#Complementary_cumulative_distribution_function_(tail_distribution)) in log-log scale and compare it to that of an equivalent [Erdos-Rényi](https://en.wikipedia.org/wiki/Erdős–Rényi_model) graph (same number of nodes, same average degree).\n",
    "* Conclude: do you consider that this is a power law?"
   ]
  },
  {
   "cell_type": "code",
   "execution_count": 8,
   "metadata": {},
   "outputs": [],
   "source": [
    "adjacency = wikivitals.adjacency"
   ]
  },
  {
   "cell_type": "code",
   "execution_count": 9,
   "metadata": {},
   "outputs": [],
   "source": [
    "n = adjacency.shape[0]"
   ]
  },
  {
   "cell_type": "code",
   "execution_count": 10,
   "metadata": {},
   "outputs": [],
   "source": [
    "# in-degrees\n",
    "degrees = adjacency.T.dot(np.ones(n))"
   ]
  },
  {
   "cell_type": "code",
   "execution_count": 11,
   "metadata": {},
   "outputs": [],
   "source": [
    "E= np.mean(degrees)"
   ]
  },
  {
   "cell_type": "code",
   "execution_count": 12,
   "metadata": {},
   "outputs": [],
   "source": [
    "V =np.std(degrees)**2"
   ]
  },
  {
   "cell_type": "code",
   "execution_count": 13,
   "metadata": {},
   "outputs": [],
   "source": [
    "alpha=(E**2+E*V)/(V*(E-2))\n",
    "km = (alpha-1)/alpha*E"
   ]
  },
  {
   "cell_type": "code",
   "execution_count": 14,
   "metadata": {},
   "outputs": [
    {
     "data": {
      "text/plain": [
       "1.3553811414388752"
      ]
     },
     "execution_count": 14,
     "metadata": {},
     "output_type": "execute_result"
    }
   ],
   "source": [
    "np.std(degrees) / np.mean(degrees)"
   ]
  },
  {
   "cell_type": "code",
   "execution_count": 18,
   "metadata": {
    "scrolled": true
   },
   "outputs": [
    {
     "data": {
      "image/png": "[encoded data removed]",
      "text/plain": [
       "<Figure size 432x288 with 1 Axes>"
      ]
     },
     "metadata": {
      "needs_background": "light"
     },
     "output_type": "display_data"
    }
   ],
   "source": [
    "plt.loglog(np.sort(degrees), 1 - np.arange(n) / n, lw = 3)\n",
    "plt.loglog(x,y, lw = 3)\n",
    "_ = plt.xlabel('Degree')\n",
    "_ = plt.ylabel('Probability')"
   ]
  },
  {
   "cell_type": "code",
   "execution_count": 17,
   "metadata": {},
   "outputs": [
    {
     "data": {
      "image/png": "[encoded data removed]",
      "text/plain": [
       "<Figure size 432x288 with 1 Axes>"
      ]
     },
     "metadata": {
      "needs_background": "light"
     },
     "output_type": "display_data"
    }
   ],
   "source": [
    "x = np.array(list(set(np.sort(degrees))))\n",
    "x = x[1:]\n",
    "y = (km/x)**alpha2\n",
    "y[x<km]=1\n",
    "plt.loglog(x,y, lw = 3)\n",
    "_ = plt.xlabel('Degree')\n",
    "_ = plt.ylabel('Probability')"
   ]
  },
  {
   "cell_type": "code",
   "execution_count": 15,
   "metadata": {},
   "outputs": [
    {
     "data": {
      "text/plain": [
       "25.55966264734155"
      ]
     },
     "execution_count": 15,
     "metadata": {},
     "output_type": "execute_result"
    }
   ],
   "source": [
    "# aqui hemo usado la mediana para el calculo de km, referencia wikipedia\n",
    "km=np.median(degrees)/2**(1/alpha)\n",
    "km"
   ]
  },
  {
   "cell_type": "code",
   "execution_count": 16,
   "metadata": {},
   "outputs": [],
   "source": [
    "# este es el valor de alpha k obtenemos con el uno de la esperanza y la mediana\n",
    "alpha2 =1.736"
   ]
  },
  {
   "cell_type": "markdown",
   "metadata": {},
   "source": [
    "## 2. Small-world"
   ]
  },
  {
   "cell_type": "markdown",
   "metadata": {},
   "source": [
    "You will now make a few experiments highlighting the small-world property."
   ]
  },
  {
   "cell_type": "markdown",
   "metadata": {},
   "source": [
    "## To do\n",
    "\n",
    "* Complete the following function computing the distances from any given node in number of hops.\n",
    "* Compare it to the function `shortest_path` of SciPy."
   ]
  },
  {
   "cell_type": "code",
   "execution_count": null,
   "metadata": {},
   "outputs": [],
   "source": [
    "def get_distances(adjacency: sparse.csr_matrix, source: int) -> np.ndarray:\n",
    "    '''Get distances from a source node in number of hops.\n",
    "    \n",
    "    Parameters\n",
    "    ----------\n",
    "    adjacency: \n",
    "        Adjacency matrix of the graph.\n",
    "    source:\n",
    "        Source node\n",
    "    \n",
    "    Returns\n",
    "    -------\n",
    "    distances:\n",
    "        Vector of distances.\n",
    "    '''\n",
    "    n = adjacency.shape[0]\n",
    "    distances = np.inf * np.ones(n)\n",
    "    distances[source] = 0\n",
    "    reached = np.zeros(n).astype(bool)\n",
    "    reached[source] = True\n",
    "    change = True\n",
    "    t = 0\n",
    "    while change:\n",
    "        t += 1\n",
    "        reached = adjacency.T.dot(reached)\n",
    "        new_nodes = np.argwhere((distances == np.inf) * reached).ravel()\n",
    "        distances[new_nodes] = t\n",
    "        change = len(new_nodes)\n",
    "    return distances"
   ]
  },
  {
   "cell_type": "code",
   "execution_count": null,
   "metadata": {},
   "outputs": [],
   "source": [
    "adjacency = openflights.adjacency > 0"
   ]
  },
  {
   "cell_type": "code",
   "execution_count": null,
   "metadata": {
    "scrolled": true
   },
   "outputs": [],
   "source": [
    "distances = get_distances(adjacency, 0)"
   ]
  },
  {
   "cell_type": "code",
   "execution_count": null,
   "metadata": {},
   "outputs": [],
   "source": [
    "distances_scipy = shortest_path(adjacency, indices=[0])[0]"
   ]
  },
  {
   "cell_type": "code",
   "execution_count": null,
   "metadata": {},
   "outputs": [],
   "source": [
    "np.array_equal(distances, distances_scipy)"
   ]
  },
  {
   "cell_type": "markdown",
   "metadata": {},
   "source": [
    "## To do\n",
    "\n",
    "* Which fraction of the airports can be reached from **Paris Charles de Gaulle** in 1, 2, 3 flights?\n",
    "* Which fraction of the articles can be reached from **Paris** in 1, 2, 3 clicks on Wikipedia Vitals?"
   ]
  },
  {
   "cell_type": "code",
   "execution_count": null,
   "metadata": {},
   "outputs": [],
   "source": [
    "names = openflights.names"
   ]
  },
  {
   "cell_type": "code",
   "execution_count": null,
   "metadata": {},
   "outputs": [],
   "source": [
    "cdg = {i:name for i, name in enumerate(names) if 'Gaulle' in name}"
   ]
  },
  {
   "cell_type": "code",
   "execution_count": null,
   "metadata": {},
   "outputs": [],
   "source": [
    "cdg"
   ]
  },
  {
   "cell_type": "markdown",
   "metadata": {},
   "source": [
    "## To do"
   ]
  },
  {
   "cell_type": "markdown",
   "metadata": {},
   "source": [
    "The following function estimates the [diameter](https://en.wikipedia.org/wiki/Distance_(graph_theory)) of a graph.\n",
    "\n",
    "* Adapt this function so that it returns a path of maximum length.\n",
    "* Give a path of **length 12** in Openflights (with the airport names).\n",
    "* Give a path of **length 6** in WikiVitals (with the names of the articles)."
   ]
  },
  {
   "cell_type": "code",
   "execution_count": null,
   "metadata": {},
   "outputs": [],
   "source": [
    "def estimate_diameter(adjacency: sparse.csr_matrix, n_samples=100) -> int:\n",
    "    '''Estimate the diameter of a graph.\n",
    "    \n",
    "    Parameters\n",
    "    ----------\n",
    "    adjacency: \n",
    "        Adjacency matrix of the graph.\n",
    "    n_samples:\n",
    "        Number of samples.\n",
    "    \n",
    "    Returns\n",
    "    -------\n",
    "    diameter:\n",
    "        Estimation of the diameter. \n",
    "    '''    \n",
    "    n = adjacency.shape[0]\n",
    "    nodes = np.random.choice(n, size=n_samples)\n",
    "    distances = shortest_path(adjacency.T, indices=nodes)\n",
    "    nodes_far = np.where(np.isinf(distances), -1, distances).argmax(axis=1)    \n",
    "    distances = shortest_path(adjacency, indices=nodes_far)\n",
    "    diameter = np.where(np.isinf(distances), -1, distances).max()\n",
    "    return int(diameter)"
   ]
  },
  {
   "cell_type": "code",
   "execution_count": null,
   "metadata": {},
   "outputs": [],
   "source": [
    "def estimate_path(adjacency: sparse.csr_matrix, n_samples=100) -> list:\n",
    "    '''Return a path of length equal to the estimated diameter of a graph.\n",
    "    \n",
    "    Parameters\n",
    "    ----------\n",
    "    adjacency: \n",
    "        Adjacency matrix of the graph.\n",
    "    n_samples:\n",
    "        Number of samples.\n",
    "    \n",
    "    Returns\n",
    "    -------\n",
    "    path:\n",
    "        List of nodes. \n",
    "    '''    \n",
    "    n = adjacency.shape[0]\n",
    "    nodes = np.random.choice(n, size=n_samples)\n",
    "    distances = shortest_path(adjacency.T, indices=nodes)\n",
    "    sources = np.where(np.isinf(distances), -1, distances).argmax(axis=1)    \n",
    "    distances, preds = shortest_path(adjacency, indices=sources, return_predecessors=True)\n",
    "    # best source\n",
    "    k = np.where(np.isinf(distances), -1, distances).max(axis=1).argmax()\n",
    "    source = sources[k]\n",
    "    pred = preds[k]\n",
    "    distance = distances[k]\n",
    "    # furthest node from best source\n",
    "    dest = np.where(np.isinf(distance), -1, distance).argmax()\n",
    "    # backward path from dest to source\n",
    "    path = []\n",
    "    while dest != source:\n",
    "        path.append(dest)\n",
    "        dest = pred[dest]\n",
    "    return list(np.flip(path))"
   ]
  },
  {
   "cell_type": "code",
   "execution_count": null,
   "metadata": {},
   "outputs": [],
   "source": [
    "adjacency = wikivitals.adjacency"
   ]
  },
  {
   "cell_type": "code",
   "execution_count": null,
   "metadata": {},
   "outputs": [],
   "source": [
    "path = estimate_path(adjacency)"
   ]
  },
  {
   "cell_type": "code",
   "execution_count": null,
   "metadata": {},
   "outputs": [],
   "source": [
    "len(path)"
   ]
  },
  {
   "cell_type": "code",
   "execution_count": null,
   "metadata": {},
   "outputs": [],
   "source": [
    "names = wikivitals.names"
   ]
  },
  {
   "cell_type": "code",
   "execution_count": null,
   "metadata": {},
   "outputs": [],
   "source": [
    "for i in path:\n",
    "    print(i, names[i])"
   ]
  },
  {
   "cell_type": "markdown",
   "metadata": {},
   "source": [
    "## To do\n",
    "\n",
    "* Compute the [Bacon number](https://fr.wikipedia.org/wiki/Six_Degrees_of_Kevin_Bacon) of all actors (**without** building the co-starring actor graph).\n",
    "* Plot the corresponding histogram."
   ]
  },
  {
   "cell_type": "code",
   "execution_count": null,
   "metadata": {},
   "outputs": [],
   "source": [
    "biadjacency = cinema.biadjacency"
   ]
  },
  {
   "cell_type": "code",
   "execution_count": null,
   "metadata": {},
   "outputs": [],
   "source": [
    "biadjacency"
   ]
  },
  {
   "cell_type": "code",
   "execution_count": null,
   "metadata": {},
   "outputs": [],
   "source": [
    "# corresponding graph with a mix of movies and actors (movies first)\n",
    "adjacency = bipartite2undirected(biadjacency)"
   ]
  },
  {
   "cell_type": "markdown",
   "metadata": {},
   "source": [
    "## 3. Clustering coefficient"
   ]
  },
  {
   "cell_type": "markdown",
   "metadata": {},
   "source": [
    "You will now learn to estimate the clustering coefficient of a graph."
   ]
  },
  {
   "cell_type": "markdown",
   "metadata": {},
   "source": [
    "## To do\n",
    "\n",
    "\n",
    "* Complete the following function to estimate the clustering coefficient of a graph.\n",
    "* Test it on a triangle and  a line.\n",
    "* Compute the clustering coefficient of Openflights and WikiVitals (seen as an undirected graph).\n",
    "\n",
    "**Hint:** A triangle is... a cycle of length 3"
   ]
  },
  {
   "cell_type": "code",
   "execution_count": null,
   "metadata": {},
   "outputs": [],
   "source": [
    "def clustering_coefficient(adjacency: sparse.csr_matrix, n_samples: int = 500) -> float:\n",
    "    '''Get the clustering coefficient of a graph.\n",
    "    \n",
    "    Parameters\n",
    "    ----------\n",
    "    adjacency: \n",
    "        Adjacency matrix of the graph.\n",
    "    \n",
    "    Returns\n",
    "    -------\n",
    "    clustering_coef:\n",
    "        Clustering coefficient.\n",
    "    '''\n",
    "    clustering_coef = 0\n",
    "    \n",
    "    n = adjacency.shape[0]\n",
    "    if n_samples < n:\n",
    "        nodes = np.random.choice(n, size=n_samples, replace=False)\n",
    "    else:\n",
    "        nodes = np.arange(n)\n",
    "        \n",
    "    # to be completed\n",
    "    return clustering_coef"
   ]
  },
  {
   "cell_type": "code",
   "execution_count": null,
   "metadata": {},
   "outputs": [],
   "source": [
    "triangle = cyclic_graph(3)"
   ]
  },
  {
   "cell_type": "code",
   "execution_count": null,
   "metadata": {},
   "outputs": [],
   "source": [
    "line = linear_graph(5)"
   ]
  }
 ],
 "metadata": {
  "anaconda-cloud": {},
  "hide_input": false,
  "kernelspec": {
   "display_name": "Python 3",
   "language": "python",
   "name": "python3"
  },
  "language_info": {
   "codemirror_mode": {
    "name": "ipython",
    "version": 3
   },
   "file_extension": ".py",
   "mimetype": "text/x-python",
   "name": "python",
   "nbconvert_exporter": "python",
   "pygments_lexer": "ipython3",
   "version": "3.7.6"
  },
  "varInspector": {
   "cols": {
    "lenName": 16,
    "lenType": 16,
    "lenVar": 40
   },
   "kernels_config": {
    "python": {
     "delete_cmd_postfix": "",
     "delete_cmd_prefix": "del ",
     "library": "var_list.py",
     "varRefreshCmd": "print(var_dic_list())"
    },
    "r": {
     "delete_cmd_postfix": ") ",
     "delete_cmd_prefix": "rm(",
     "library": "var_list.r",
     "varRefreshCmd": "cat(var_dic_list()) "
    }
   },
   "types_to_exclude": [
    "module",
    "function",
    "builtin_function_or_method",
    "instance",
    "_Feature"
   ],
   "window_display": false
  }
 },
 "nbformat": 4,
 "nbformat_minor": 1
}
