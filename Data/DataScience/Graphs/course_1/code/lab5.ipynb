{
 "cells": [
  {
   "cell_type": "markdown",
   "metadata": {},
   "source": [
    "# SD212: Graph mining\n",
    "## Lab 5: PageRank\n",
    "\n",
    "You will learn how to compute, use and interpret various PageRank metrics of a node in a graph."
   ]
  },
  {
   "cell_type": "markdown",
   "metadata": {},
   "source": [
    "You **must** be connected to Telecom ParisTech network!"
   ]
  },
  {
   "cell_type": "markdown",
   "metadata": {},
   "source": [
    "## Getting started"
   ]
  },
  {
   "cell_type": "code",
   "execution_count": 142,
   "metadata": {
    "ExecuteTime": {
     "end_time": "2018-06-08T13:58:18.630324Z",
     "start_time": "2018-06-08T13:58:18.625370Z"
    }
   },
   "outputs": [],
   "source": [
    "from connector import Connector\n",
    "import operator\n",
    "import heapq"
   ]
  },
  {
   "cell_type": "code",
   "execution_count": 48,
   "metadata": {
    "ExecuteTime": {
     "end_time": "2018-06-08T13:15:56.876969Z",
     "start_time": "2018-06-08T13:15:56.872980Z"
    }
   },
   "outputs": [],
   "source": [
    "import warnings\n",
    "warnings.filterwarnings('ignore')"
   ]
  },
  {
   "cell_type": "code",
   "execution_count": 49,
   "metadata": {
    "ExecuteTime": {
     "end_time": "2018-06-08T13:15:57.092428Z",
     "start_time": "2018-06-08T13:15:57.089436Z"
    }
   },
   "outputs": [],
   "source": [
    "base_url = 'http://137.194.192.13:8234'\n",
    "lab_id = 'lab5'"
   ]
  },
  {
   "cell_type": "markdown",
   "metadata": {},
   "source": [
    "## To do\n",
    "\n",
    "* Enter your login and test it using question #0"
   ]
  },
  {
   "cell_type": "code",
   "execution_count": 50,
   "metadata": {
    "ExecuteTime": {
     "end_time": "2018-06-08T13:15:57.535247Z",
     "start_time": "2018-06-08T13:15:57.531256Z"
    }
   },
   "outputs": [],
   "source": [
    "# Enter your login (last name followed by first letter of first name)\n",
    "login = 'zhuf'"
   ]
  },
  {
   "cell_type": "code",
   "execution_count": 51,
   "metadata": {
    "ExecuteTime": {
     "end_time": "2018-06-08T13:15:57.765630Z",
     "start_time": "2018-06-08T13:15:57.760644Z"
    }
   },
   "outputs": [],
   "source": [
    "connector = Connector(base_url, lab_id, login)\n",
    "get_question = connector.get_question\n",
    "post_answer = connector.post_answer\n",
    "post_text = connector.post_text"
   ]
  },
  {
   "cell_type": "code",
   "execution_count": 52,
   "metadata": {
    "ExecuteTime": {
     "end_time": "2018-06-08T13:15:58.047876Z",
     "start_time": "2018-06-08T13:15:58.025935Z"
    }
   },
   "outputs": [
    {
     "name": "stdout",
     "output_type": "stream",
     "text": [
      "Welcome!\n"
     ]
    }
   ],
   "source": [
    "get_question(0)"
   ]
  },
  {
   "cell_type": "markdown",
   "metadata": {},
   "source": [
    "## Import"
   ]
  },
  {
   "cell_type": "code",
   "execution_count": 53,
   "metadata": {
    "ExecuteTime": {
     "end_time": "2018-06-08T13:15:59.630316Z",
     "start_time": "2018-06-08T13:15:59.626329Z"
    }
   },
   "outputs": [],
   "source": [
    "import networkx as nx"
   ]
  },
  {
   "cell_type": "markdown",
   "metadata": {},
   "source": [
    "The documentation is available [here](https://networkx.readthedocs.io/en/stable/)."
   ]
  },
  {
   "cell_type": "code",
   "execution_count": 54,
   "metadata": {
    "ExecuteTime": {
     "end_time": "2018-06-08T13:16:00.082279Z",
     "start_time": "2018-06-08T13:16:00.071282Z"
    }
   },
   "outputs": [
    {
     "name": "stdout",
     "output_type": "stream",
     "text": [
      "Populating the interactive namespace from numpy and matplotlib\n"
     ]
    }
   ],
   "source": [
    "%pylab notebook"
   ]
  },
  {
   "cell_type": "code",
   "execution_count": 55,
   "metadata": {
    "ExecuteTime": {
     "end_time": "2018-06-08T13:16:00.275737Z",
     "start_time": "2018-06-08T13:16:00.272780Z"
    }
   },
   "outputs": [],
   "source": [
    "import numpy as np"
   ]
  },
  {
   "cell_type": "code",
   "execution_count": 56,
   "metadata": {
    "ExecuteTime": {
     "end_time": "2018-06-08T13:16:00.506121Z",
     "start_time": "2018-06-08T13:16:00.502157Z"
    }
   },
   "outputs": [],
   "source": [
    "from scipy import sparse as sp"
   ]
  },
  {
   "cell_type": "markdown",
   "metadata": {},
   "source": [
    "## 1. PageRank\n",
    "\n",
    "The PageRank corresponds to the stationary distribution of a random walk with restart probability $1-\\alpha$. Unless otherwise specified, we take the default value $\\alpha = 0.85$ and the restart probability distribution uniform over the set of nodes."
   ]
  },
  {
   "cell_type": "markdown",
   "metadata": {},
   "source": [
    "## Toy graph\n",
    "\n",
    "Consider the following graph:"
   ]
  },
  {
   "cell_type": "code",
   "execution_count": 57,
   "metadata": {
    "ExecuteTime": {
     "end_time": "2018-06-08T13:16:01.233224Z",
     "start_time": "2018-06-08T13:16:01.157419Z"
    }
   },
   "outputs": [
    {
     "data": {
      "application/javascript": [
       "/* Put everything inside the global mpl namespace */\n",
       "window.mpl = {};\n",
       "\n",
       "\n",
       "mpl.get_websocket_type = function() {\n",
       "    if (typeof(WebSocket) !== 'undefined') {\n",
       "        return WebSocket;\n",
       "    } else if (typeof(MozWebSocket) !== 'undefined') {\n",
       "        return MozWebSocket;\n",
       "    } else {\n",
       "        alert('Your browser does not have WebSocket support.' +\n",
       "              'Please try Chrome, Safari or Firefox ≥ 6. ' +\n",
       "              'Firefox 4 and 5 are also supported but you ' +\n",
       "              'have to enable WebSockets in about:config.');\n",
       "    };\n",
       "}\n",
       "\n",
       "mpl.figure = function(figure_id, websocket, ondownload, parent_element) {\n",
       "    this.id = figure_id;\n",
       "\n",
       "    this.ws = websocket;\n",
       "\n",
       "    this.supports_binary = (this.ws.binaryType != undefined);\n",
       "\n",
       "    if (!this.supports_binary) {\n",
       "        var warnings = document.getElementById(\"mpl-warnings\");\n",
       "        if (warnings) {\n",
       "            warnings.style.display = 'block';\n",
       "            warnings.textContent = (\n",
       "                \"This browser does not support binary websocket messages. \" +\n",
       "                    \"Performance may be slow.\");\n",
       "        }\n",
       "    }\n",
       "\n",
       "    this.imageObj = new Image();\n",
       "\n",
       "    this.context = undefined;\n",
       "    this.message = undefined;\n",
       "    this.canvas = undefined;\n",
       "    this.rubberband_canvas = undefined;\n",
       "    this.rubberband_context = undefined;\n",
       "    this.format_dropdown = undefined;\n",
       "\n",
       "    this.image_mode = 'full';\n",
       "\n",
       "    this.root = $('<div/>');\n",
       "    this._root_extra_style(this.root)\n",
       "    this.root.attr('style', 'display: inline-block');\n",
       "\n",
       "    $(parent_element).append(this.root);\n",
       "\n",
       "    this._init_header(this);\n",
       "    this._init_canvas(this);\n",
       "    this._init_toolbar(this);\n",
       "\n",
       "    var fig = this;\n",
       "\n",
       "    this.waiting = false;\n",
       "\n",
       "    this.ws.onopen =  function () {\n",
       "            fig.send_message(\"supports_binary\", {value: fig.supports_binary});\n",
       "            fig.send_message(\"send_image_mode\", {});\n",
       "            if (mpl.ratio != 1) {\n",
       "                fig.send_message(\"set_dpi_ratio\", {'dpi_ratio': mpl.ratio});\n",
       "            }\n",
       "            fig.send_message(\"refresh\", {});\n",
       "        }\n",
       "\n",
       "    this.imageObj.onload = function() {\n",
       "            if (fig.image_mode == 'full') {\n",
       "                // Full images could contain transparency (where diff images\n",
       "                // almost always do), so we need to clear the canvas so that\n",
       "                // there is no ghosting.\n",
       "                fig.context.clearRect(0, 0, fig.canvas.width, fig.canvas.height);\n",
       "            }\n",
       "            fig.context.drawImage(fig.imageObj, 0, 0);\n",
       "        };\n",
       "\n",
       "    this.imageObj.onunload = function() {\n",
       "        fig.ws.close();\n",
       "    }\n",
       "\n",
       "    this.ws.onmessage = this._make_on_message_function(this);\n",
       "\n",
       "    this.ondownload = ondownload;\n",
       "}\n",
       "\n",
       "mpl.figure.prototype._init_header = function() {\n",
       "    var titlebar = $(\n",
       "        '<div class=\"ui-dialog-titlebar ui-widget-header ui-corner-all ' +\n",
       "        'ui-helper-clearfix\"/>');\n",
       "    var titletext = $(\n",
       "        '<div class=\"ui-dialog-title\" style=\"width: 100%; ' +\n",
       "        'text-align: center; padding: 3px;\"/>');\n",
       "    titlebar.append(titletext)\n",
       "    this.root.append(titlebar);\n",
       "    this.header = titletext[0];\n",
       "}\n",
       "\n",
       "\n",
       "\n",
       "mpl.figure.prototype._canvas_extra_style = function(canvas_div) {\n",
       "\n",
       "}\n",
       "\n",
       "\n",
       "mpl.figure.prototype._root_extra_style = function(canvas_div) {\n",
       "\n",
       "}\n",
       "\n",
       "mpl.figure.prototype._init_canvas = function() {\n",
       "    var fig = this;\n",
       "\n",
       "    var canvas_div = $('<div/>');\n",
       "\n",
       "    canvas_div.attr('style', 'position: relative; clear: both; outline: 0');\n",
       "\n",
       "    function canvas_keyboard_event(event) {\n",
       "        return fig.key_event(event, event['data']);\n",
       "    }\n",
       "\n",
       "    canvas_div.keydown('key_press', canvas_keyboard_event);\n",
       "    canvas_div.keyup('key_release', canvas_keyboard_event);\n",
       "    this.canvas_div = canvas_div\n",
       "    this._canvas_extra_style(canvas_div)\n",
       "    this.root.append(canvas_div);\n",
       "\n",
       "    var canvas = $('<canvas/>');\n",
       "    canvas.addClass('mpl-canvas');\n",
       "    canvas.attr('style', \"left: 0; top: 0; z-index: 0; outline: 0\")\n",
       "\n",
       "    this.canvas = canvas[0];\n",
       "    this.context = canvas[0].getContext(\"2d\");\n",
       "\n",
       "    var backingStore = this.context.backingStorePixelRatio ||\n",
       "\tthis.context.webkitBackingStorePixelRatio ||\n",
       "\tthis.context.mozBackingStorePixelRatio ||\n",
       "\tthis.context.msBackingStorePixelRatio ||\n",
       "\tthis.context.oBackingStorePixelRatio ||\n",
       "\tthis.context.backingStorePixelRatio || 1;\n",
       "\n",
       "    mpl.ratio = (window.devicePixelRatio || 1) / backingStore;\n",
       "\n",
       "    var rubberband = $('<canvas/>');\n",
       "    rubberband.attr('style', \"position: absolute; left: 0; top: 0; z-index: 1;\")\n",
       "\n",
       "    var pass_mouse_events = true;\n",
       "\n",
       "    canvas_div.resizable({\n",
       "        start: function(event, ui) {\n",
       "            pass_mouse_events = false;\n",
       "        },\n",
       "        resize: function(event, ui) {\n",
       "            fig.request_resize(ui.size.width, ui.size.height);\n",
       "        },\n",
       "        stop: function(event, ui) {\n",
       "            pass_mouse_events = true;\n",
       "            fig.request_resize(ui.size.width, ui.size.height);\n",
       "        },\n",
       "    });\n",
       "\n",
       "    function mouse_event_fn(event) {\n",
       "        if (pass_mouse_events)\n",
       "            return fig.mouse_event(event, event['data']);\n",
       "    }\n",
       "\n",
       "    rubberband.mousedown('button_press', mouse_event_fn);\n",
       "    rubberband.mouseup('button_release', mouse_event_fn);\n",
       "    // Throttle sequential mouse events to 1 every 20ms.\n",
       "    rubberband.mousemove('motion_notify', mouse_event_fn);\n",
       "\n",
       "    rubberband.mouseenter('figure_enter', mouse_event_fn);\n",
       "    rubberband.mouseleave('figure_leave', mouse_event_fn);\n",
       "\n",
       "    canvas_div.on(\"wheel\", function (event) {\n",
       "        event = event.originalEvent;\n",
       "        event['data'] = 'scroll'\n",
       "        if (event.deltaY < 0) {\n",
       "            event.step = 1;\n",
       "        } else {\n",
       "            event.step = -1;\n",
       "        }\n",
       "        mouse_event_fn(event);\n",
       "    });\n",
       "\n",
       "    canvas_div.append(canvas);\n",
       "    canvas_div.append(rubberband);\n",
       "\n",
       "    this.rubberband = rubberband;\n",
       "    this.rubberband_canvas = rubberband[0];\n",
       "    this.rubberband_context = rubberband[0].getContext(\"2d\");\n",
       "    this.rubberband_context.strokeStyle = \"#000000\";\n",
       "\n",
       "    this._resize_canvas = function(width, height) {\n",
       "        // Keep the size of the canvas, canvas container, and rubber band\n",
       "        // canvas in synch.\n",
       "        canvas_div.css('width', width)\n",
       "        canvas_div.css('height', height)\n",
       "\n",
       "        canvas.attr('width', width * mpl.ratio);\n",
       "        canvas.attr('height', height * mpl.ratio);\n",
       "        canvas.attr('style', 'width: ' + width + 'px; height: ' + height + 'px;');\n",
       "\n",
       "        rubberband.attr('width', width);\n",
       "        rubberband.attr('height', height);\n",
       "    }\n",
       "\n",
       "    // Set the figure to an initial 600x600px, this will subsequently be updated\n",
       "    // upon first draw.\n",
       "    this._resize_canvas(600, 600);\n",
       "\n",
       "    // Disable right mouse context menu.\n",
       "    $(this.rubberband_canvas).bind(\"contextmenu\",function(e){\n",
       "        return false;\n",
       "    });\n",
       "\n",
       "    function set_focus () {\n",
       "        canvas.focus();\n",
       "        canvas_div.focus();\n",
       "    }\n",
       "\n",
       "    window.setTimeout(set_focus, 100);\n",
       "}\n",
       "\n",
       "mpl.figure.prototype._init_toolbar = function() {\n",
       "    var fig = this;\n",
       "\n",
       "    var nav_element = $('<div/>')\n",
       "    nav_element.attr('style', 'width: 100%');\n",
       "    this.root.append(nav_element);\n",
       "\n",
       "    // Define a callback function for later on.\n",
       "    function toolbar_event(event) {\n",
       "        return fig.toolbar_button_onclick(event['data']);\n",
       "    }\n",
       "    function toolbar_mouse_event(event) {\n",
       "        return fig.toolbar_button_onmouseover(event['data']);\n",
       "    }\n",
       "\n",
       "    for(var toolbar_ind in mpl.toolbar_items) {\n",
       "        var name = mpl.toolbar_items[toolbar_ind][0];\n",
       "        var tooltip = mpl.toolbar_items[toolbar_ind][1];\n",
       "        var image = mpl.toolbar_items[toolbar_ind][2];\n",
       "        var method_name = mpl.toolbar_items[toolbar_ind][3];\n",
       "\n",
       "        if (!name) {\n",
       "            // put a spacer in here.\n",
       "            continue;\n",
       "        }\n",
       "        var button = $('<button/>');\n",
       "        button.addClass('ui-button ui-widget ui-state-default ui-corner-all ' +\n",
       "                        'ui-button-icon-only');\n",
       "        button.attr('role', 'button');\n",
       "        button.attr('aria-disabled', 'false');\n",
       "        button.click(method_name, toolbar_event);\n",
       "        button.mouseover(tooltip, toolbar_mouse_event);\n",
       "\n",
       "        var icon_img = $('<span/>');\n",
       "        icon_img.addClass('ui-button-icon-primary ui-icon');\n",
       "        icon_img.addClass(image);\n",
       "        icon_img.addClass('ui-corner-all');\n",
       "\n",
       "        var tooltip_span = $('<span/>');\n",
       "        tooltip_span.addClass('ui-button-text');\n",
       "        tooltip_span.html(tooltip);\n",
       "\n",
       "        button.append(icon_img);\n",
       "        button.append(tooltip_span);\n",
       "\n",
       "        nav_element.append(button);\n",
       "    }\n",
       "\n",
       "    var fmt_picker_span = $('<span/>');\n",
       "\n",
       "    var fmt_picker = $('<select/>');\n",
       "    fmt_picker.addClass('mpl-toolbar-option ui-widget ui-widget-content');\n",
       "    fmt_picker_span.append(fmt_picker);\n",
       "    nav_element.append(fmt_picker_span);\n",
       "    this.format_dropdown = fmt_picker[0];\n",
       "\n",
       "    for (var ind in mpl.extensions) {\n",
       "        var fmt = mpl.extensions[ind];\n",
       "        var option = $(\n",
       "            '<option/>', {selected: fmt === mpl.default_extension}).html(fmt);\n",
       "        fmt_picker.append(option)\n",
       "    }\n",
       "\n",
       "    // Add hover states to the ui-buttons\n",
       "    $( \".ui-button\" ).hover(\n",
       "        function() { $(this).addClass(\"ui-state-hover\");},\n",
       "        function() { $(this).removeClass(\"ui-state-hover\");}\n",
       "    );\n",
       "\n",
       "    var status_bar = $('<span class=\"mpl-message\"/>');\n",
       "    nav_element.append(status_bar);\n",
       "    this.message = status_bar[0];\n",
       "}\n",
       "\n",
       "mpl.figure.prototype.request_resize = function(x_pixels, y_pixels) {\n",
       "    // Request matplotlib to resize the figure. Matplotlib will then trigger a resize in the client,\n",
       "    // which will in turn request a refresh of the image.\n",
       "    this.send_message('resize', {'width': x_pixels, 'height': y_pixels});\n",
       "}\n",
       "\n",
       "mpl.figure.prototype.send_message = function(type, properties) {\n",
       "    properties['type'] = type;\n",
       "    properties['figure_id'] = this.id;\n",
       "    this.ws.send(JSON.stringify(properties));\n",
       "}\n",
       "\n",
       "mpl.figure.prototype.send_draw_message = function() {\n",
       "    if (!this.waiting) {\n",
       "        this.waiting = true;\n",
       "        this.ws.send(JSON.stringify({type: \"draw\", figure_id: this.id}));\n",
       "    }\n",
       "}\n",
       "\n",
       "\n",
       "mpl.figure.prototype.handle_save = function(fig, msg) {\n",
       "    var format_dropdown = fig.format_dropdown;\n",
       "    var format = format_dropdown.options[format_dropdown.selectedIndex].value;\n",
       "    fig.ondownload(fig, format);\n",
       "}\n",
       "\n",
       "\n",
       "mpl.figure.prototype.handle_resize = function(fig, msg) {\n",
       "    var size = msg['size'];\n",
       "    if (size[0] != fig.canvas.width || size[1] != fig.canvas.height) {\n",
       "        fig._resize_canvas(size[0], size[1]);\n",
       "        fig.send_message(\"refresh\", {});\n",
       "    };\n",
       "}\n",
       "\n",
       "mpl.figure.prototype.handle_rubberband = function(fig, msg) {\n",
       "    var x0 = msg['x0'] / mpl.ratio;\n",
       "    var y0 = (fig.canvas.height - msg['y0']) / mpl.ratio;\n",
       "    var x1 = msg['x1'] / mpl.ratio;\n",
       "    var y1 = (fig.canvas.height - msg['y1']) / mpl.ratio;\n",
       "    x0 = Math.floor(x0) + 0.5;\n",
       "    y0 = Math.floor(y0) + 0.5;\n",
       "    x1 = Math.floor(x1) + 0.5;\n",
       "    y1 = Math.floor(y1) + 0.5;\n",
       "    var min_x = Math.min(x0, x1);\n",
       "    var min_y = Math.min(y0, y1);\n",
       "    var width = Math.abs(x1 - x0);\n",
       "    var height = Math.abs(y1 - y0);\n",
       "\n",
       "    fig.rubberband_context.clearRect(\n",
       "        0, 0, fig.canvas.width, fig.canvas.height);\n",
       "\n",
       "    fig.rubberband_context.strokeRect(min_x, min_y, width, height);\n",
       "}\n",
       "\n",
       "mpl.figure.prototype.handle_figure_label = function(fig, msg) {\n",
       "    // Updates the figure title.\n",
       "    fig.header.textContent = msg['label'];\n",
       "}\n",
       "\n",
       "mpl.figure.prototype.handle_cursor = function(fig, msg) {\n",
       "    var cursor = msg['cursor'];\n",
       "    switch(cursor)\n",
       "    {\n",
       "    case 0:\n",
       "        cursor = 'pointer';\n",
       "        break;\n",
       "    case 1:\n",
       "        cursor = 'default';\n",
       "        break;\n",
       "    case 2:\n",
       "        cursor = 'crosshair';\n",
       "        break;\n",
       "    case 3:\n",
       "        cursor = 'move';\n",
       "        break;\n",
       "    }\n",
       "    fig.rubberband_canvas.style.cursor = cursor;\n",
       "}\n",
       "\n",
       "mpl.figure.prototype.handle_message = function(fig, msg) {\n",
       "    fig.message.textContent = msg['message'];\n",
       "}\n",
       "\n",
       "mpl.figure.prototype.handle_draw = function(fig, msg) {\n",
       "    // Request the server to send over a new figure.\n",
       "    fig.send_draw_message();\n",
       "}\n",
       "\n",
       "mpl.figure.prototype.handle_image_mode = function(fig, msg) {\n",
       "    fig.image_mode = msg['mode'];\n",
       "}\n",
       "\n",
       "mpl.figure.prototype.updated_canvas_event = function() {\n",
       "    // Called whenever the canvas gets updated.\n",
       "    this.send_message(\"ack\", {});\n",
       "}\n",
       "\n",
       "// A function to construct a web socket function for onmessage handling.\n",
       "// Called in the figure constructor.\n",
       "mpl.figure.prototype._make_on_message_function = function(fig) {\n",
       "    return function socket_on_message(evt) {\n",
       "        if (evt.data instanceof Blob) {\n",
       "            /* FIXME: We get \"Resource interpreted as Image but\n",
       "             * transferred with MIME type text/plain:\" errors on\n",
       "             * Chrome.  But how to set the MIME type?  It doesn't seem\n",
       "             * to be part of the websocket stream */\n",
       "            evt.data.type = \"image/png\";\n",
       "\n",
       "            /* Free the memory for the previous frames */\n",
       "            if (fig.imageObj.src) {\n",
       "                (window.URL || window.webkitURL).revokeObjectURL(\n",
       "                    fig.imageObj.src);\n",
       "            }\n",
       "\n",
       "            fig.imageObj.src = (window.URL || window.webkitURL).createObjectURL(\n",
       "                evt.data);\n",
       "            fig.updated_canvas_event();\n",
       "            fig.waiting = false;\n",
       "            return;\n",
       "        }\n",
       "        else if (typeof evt.data === 'string' && evt.data.slice(0, 21) == \"data:image/png;base64\") {\n",
       "            fig.imageObj.src = evt.data;\n",
       "            fig.updated_canvas_event();\n",
       "            fig.waiting = false;\n",
       "            return;\n",
       "        }\n",
       "\n",
       "        var msg = JSON.parse(evt.data);\n",
       "        var msg_type = msg['type'];\n",
       "\n",
       "        // Call the  \"handle_{type}\" callback, which takes\n",
       "        // the figure and JSON message as its only arguments.\n",
       "        try {\n",
       "            var callback = fig[\"handle_\" + msg_type];\n",
       "        } catch (e) {\n",
       "            console.log(\"No handler for the '\" + msg_type + \"' message type: \", msg);\n",
       "            return;\n",
       "        }\n",
       "\n",
       "        if (callback) {\n",
       "            try {\n",
       "                // console.log(\"Handling '\" + msg_type + \"' message: \", msg);\n",
       "                callback(fig, msg);\n",
       "            } catch (e) {\n",
       "                console.log(\"Exception inside the 'handler_\" + msg_type + \"' callback:\", e, e.stack, msg);\n",
       "            }\n",
       "        }\n",
       "    };\n",
       "}\n",
       "\n",
       "// from http://stackoverflow.com/questions/1114465/getting-mouse-location-in-canvas\n",
       "mpl.findpos = function(e) {\n",
       "    //this section is from http://www.quirksmode.org/js/events_properties.html\n",
       "    var targ;\n",
       "    if (!e)\n",
       "        e = window.event;\n",
       "    if (e.target)\n",
       "        targ = e.target;\n",
       "    else if (e.srcElement)\n",
       "        targ = e.srcElement;\n",
       "    if (targ.nodeType == 3) // defeat Safari bug\n",
       "        targ = targ.parentNode;\n",
       "\n",
       "    // jQuery normalizes the pageX and pageY\n",
       "    // pageX,Y are the mouse positions relative to the document\n",
       "    // offset() returns the position of the element relative to the document\n",
       "    var x = e.pageX - $(targ).offset().left;\n",
       "    var y = e.pageY - $(targ).offset().top;\n",
       "\n",
       "    return {\"x\": x, \"y\": y};\n",
       "};\n",
       "\n",
       "/*\n",
       " * return a copy of an object with only non-object keys\n",
       " * we need this to avoid circular references\n",
       " * http://stackoverflow.com/a/24161582/3208463\n",
       " */\n",
       "function simpleKeys (original) {\n",
       "  return Object.keys(original).reduce(function (obj, key) {\n",
       "    if (typeof original[key] !== 'object')\n",
       "        obj[key] = original[key]\n",
       "    return obj;\n",
       "  }, {});\n",
       "}\n",
       "\n",
       "mpl.figure.prototype.mouse_event = function(event, name) {\n",
       "    var canvas_pos = mpl.findpos(event)\n",
       "\n",
       "    if (name === 'button_press')\n",
       "    {\n",
       "        this.canvas.focus();\n",
       "        this.canvas_div.focus();\n",
       "    }\n",
       "\n",
       "    var x = canvas_pos.x * mpl.ratio;\n",
       "    var y = canvas_pos.y * mpl.ratio;\n",
       "\n",
       "    this.send_message(name, {x: x, y: y, button: event.button,\n",
       "                             step: event.step,\n",
       "                             guiEvent: simpleKeys(event)});\n",
       "\n",
       "    /* This prevents the web browser from automatically changing to\n",
       "     * the text insertion cursor when the button is pressed.  We want\n",
       "     * to control all of the cursor setting manually through the\n",
       "     * 'cursor' event from matplotlib */\n",
       "    event.preventDefault();\n",
       "    return false;\n",
       "}\n",
       "\n",
       "mpl.figure.prototype._key_event_extra = function(event, name) {\n",
       "    // Handle any extra behaviour associated with a key event\n",
       "}\n",
       "\n",
       "mpl.figure.prototype.key_event = function(event, name) {\n",
       "\n",
       "    // Prevent repeat events\n",
       "    if (name == 'key_press')\n",
       "    {\n",
       "        if (event.which === this._key)\n",
       "            return;\n",
       "        else\n",
       "            this._key = event.which;\n",
       "    }\n",
       "    if (name == 'key_release')\n",
       "        this._key = null;\n",
       "\n",
       "    var value = '';\n",
       "    if (event.ctrlKey && event.which != 17)\n",
       "        value += \"ctrl+\";\n",
       "    if (event.altKey && event.which != 18)\n",
       "        value += \"alt+\";\n",
       "    if (event.shiftKey && event.which != 16)\n",
       "        value += \"shift+\";\n",
       "\n",
       "    value += 'k';\n",
       "    value += event.which.toString();\n",
       "\n",
       "    this._key_event_extra(event, name);\n",
       "\n",
       "    this.send_message(name, {key: value,\n",
       "                             guiEvent: simpleKeys(event)});\n",
       "    return false;\n",
       "}\n",
       "\n",
       "mpl.figure.prototype.toolbar_button_onclick = function(name) {\n",
       "    if (name == 'download') {\n",
       "        this.handle_save(this, null);\n",
       "    } else {\n",
       "        this.send_message(\"toolbar_button\", {name: name});\n",
       "    }\n",
       "};\n",
       "\n",
       "mpl.figure.prototype.toolbar_button_onmouseover = function(tooltip) {\n",
       "    this.message.textContent = tooltip;\n",
       "};\n",
       "mpl.toolbar_items = [[\"Home\", \"Reset original view\", \"fa fa-home icon-home\", \"home\"], [\"Back\", \"Back to  previous view\", \"fa fa-arrow-left icon-arrow-left\", \"back\"], [\"Forward\", \"Forward to next view\", \"fa fa-arrow-right icon-arrow-right\", \"forward\"], [\"\", \"\", \"\", \"\"], [\"Pan\", \"Pan axes with left mouse, zoom with right\", \"fa fa-arrows icon-move\", \"pan\"], [\"Zoom\", \"Zoom to rectangle\", \"fa fa-square-o icon-check-empty\", \"zoom\"], [\"\", \"\", \"\", \"\"], [\"Download\", \"Download plot\", \"fa fa-floppy-o icon-save\", \"download\"]];\n",
       "\n",
       "mpl.extensions = [\"eps\", \"pdf\", \"png\", \"ps\", \"raw\", \"svg\"];\n",
       "\n",
       "mpl.default_extension = \"png\";var comm_websocket_adapter = function(comm) {\n",
       "    // Create a \"websocket\"-like object which calls the given IPython comm\n",
       "    // object with the appropriate methods. Currently this is a non binary\n",
       "    // socket, so there is still some room for performance tuning.\n",
       "    var ws = {};\n",
       "\n",
       "    ws.close = function() {\n",
       "        comm.close()\n",
       "    };\n",
       "    ws.send = function(m) {\n",
       "        //console.log('sending', m);\n",
       "        comm.send(m);\n",
       "    };\n",
       "    // Register the callback with on_msg.\n",
       "    comm.on_msg(function(msg) {\n",
       "        //console.log('receiving', msg['content']['data'], msg);\n",
       "        // Pass the mpl event to the overriden (by mpl) onmessage function.\n",
       "        ws.onmessage(msg['content']['data'])\n",
       "    });\n",
       "    return ws;\n",
       "}\n",
       "\n",
       "mpl.mpl_figure_comm = function(comm, msg) {\n",
       "    // This is the function which gets called when the mpl process\n",
       "    // starts-up an IPython Comm through the \"matplotlib\" channel.\n",
       "\n",
       "    var id = msg.content.data.id;\n",
       "    // Get hold of the div created by the display call when the Comm\n",
       "    // socket was opened in Python.\n",
       "    var element = $(\"#\" + id);\n",
       "    var ws_proxy = comm_websocket_adapter(comm)\n",
       "\n",
       "    function ondownload(figure, format) {\n",
       "        window.open(figure.imageObj.src);\n",
       "    }\n",
       "\n",
       "    var fig = new mpl.figure(id, ws_proxy,\n",
       "                           ondownload,\n",
       "                           element.get(0));\n",
       "\n",
       "    // Call onopen now - mpl needs it, as it is assuming we've passed it a real\n",
       "    // web socket which is closed, not our websocket->open comm proxy.\n",
       "    ws_proxy.onopen();\n",
       "\n",
       "    fig.parent_element = element.get(0);\n",
       "    fig.cell_info = mpl.find_output_cell(\"<div id='\" + id + \"'></div>\");\n",
       "    if (!fig.cell_info) {\n",
       "        console.error(\"Failed to find cell for figure\", id, fig);\n",
       "        return;\n",
       "    }\n",
       "\n",
       "    var output_index = fig.cell_info[2]\n",
       "    var cell = fig.cell_info[0];\n",
       "\n",
       "};\n",
       "\n",
       "mpl.figure.prototype.handle_close = function(fig, msg) {\n",
       "    var width = fig.canvas.width/mpl.ratio\n",
       "    fig.root.unbind('remove')\n",
       "\n",
       "    // Update the output cell to use the data from the current canvas.\n",
       "    fig.push_to_output();\n",
       "    var dataURL = fig.canvas.toDataURL();\n",
       "    // Re-enable the keyboard manager in IPython - without this line, in FF,\n",
       "    // the notebook keyboard shortcuts fail.\n",
       "    IPython.keyboard_manager.enable()\n",
       "    $(fig.parent_element).html('<img src=\"' + dataURL + '\" width=\"' + width + '\">');\n",
       "    fig.close_ws(fig, msg);\n",
       "}\n",
       "\n",
       "mpl.figure.prototype.close_ws = function(fig, msg){\n",
       "    fig.send_message('closing', msg);\n",
       "    // fig.ws.close()\n",
       "}\n",
       "\n",
       "mpl.figure.prototype.push_to_output = function(remove_interactive) {\n",
       "    // Turn the data on the canvas into data in the output cell.\n",
       "    var width = this.canvas.width/mpl.ratio\n",
       "    var dataURL = this.canvas.toDataURL();\n",
       "    this.cell_info[1]['text/html'] = '<img src=\"' + dataURL + '\" width=\"' + width + '\">';\n",
       "}\n",
       "\n",
       "mpl.figure.prototype.updated_canvas_event = function() {\n",
       "    // Tell IPython that the notebook contents must change.\n",
       "    IPython.notebook.set_dirty(true);\n",
       "    this.send_message(\"ack\", {});\n",
       "    var fig = this;\n",
       "    // Wait a second, then push the new image to the DOM so\n",
       "    // that it is saved nicely (might be nice to debounce this).\n",
       "    setTimeout(function () { fig.push_to_output() }, 1000);\n",
       "}\n",
       "\n",
       "mpl.figure.prototype._init_toolbar = function() {\n",
       "    var fig = this;\n",
       "\n",
       "    var nav_element = $('<div/>')\n",
       "    nav_element.attr('style', 'width: 100%');\n",
       "    this.root.append(nav_element);\n",
       "\n",
       "    // Define a callback function for later on.\n",
       "    function toolbar_event(event) {\n",
       "        return fig.toolbar_button_onclick(event['data']);\n",
       "    }\n",
       "    function toolbar_mouse_event(event) {\n",
       "        return fig.toolbar_button_onmouseover(event['data']);\n",
       "    }\n",
       "\n",
       "    for(var toolbar_ind in mpl.toolbar_items){\n",
       "        var name = mpl.toolbar_items[toolbar_ind][0];\n",
       "        var tooltip = mpl.toolbar_items[toolbar_ind][1];\n",
       "        var image = mpl.toolbar_items[toolbar_ind][2];\n",
       "        var method_name = mpl.toolbar_items[toolbar_ind][3];\n",
       "\n",
       "        if (!name) { continue; };\n",
       "\n",
       "        var button = $('<button class=\"btn btn-default\" href=\"#\" title=\"' + name + '\"><i class=\"fa ' + image + ' fa-lg\"></i></button>');\n",
       "        button.click(method_name, toolbar_event);\n",
       "        button.mouseover(tooltip, toolbar_mouse_event);\n",
       "        nav_element.append(button);\n",
       "    }\n",
       "\n",
       "    // Add the status bar.\n",
       "    var status_bar = $('<span class=\"mpl-message\" style=\"text-align:right; float: right;\"/>');\n",
       "    nav_element.append(status_bar);\n",
       "    this.message = status_bar[0];\n",
       "\n",
       "    // Add the close button to the window.\n",
       "    var buttongrp = $('<div class=\"btn-group inline pull-right\"></div>');\n",
       "    var button = $('<button class=\"btn btn-mini btn-primary\" href=\"#\" title=\"Stop Interaction\"><i class=\"fa fa-power-off icon-remove icon-large\"></i></button>');\n",
       "    button.click(function (evt) { fig.handle_close(fig, {}); } );\n",
       "    button.mouseover('Stop Interaction', toolbar_mouse_event);\n",
       "    buttongrp.append(button);\n",
       "    var titlebar = this.root.find($('.ui-dialog-titlebar'));\n",
       "    titlebar.prepend(buttongrp);\n",
       "}\n",
       "\n",
       "mpl.figure.prototype._root_extra_style = function(el){\n",
       "    var fig = this\n",
       "    el.on(\"remove\", function(){\n",
       "\tfig.close_ws(fig, {});\n",
       "    });\n",
       "}\n",
       "\n",
       "mpl.figure.prototype._canvas_extra_style = function(el){\n",
       "    // this is important to make the div 'focusable\n",
       "    el.attr('tabindex', 0)\n",
       "    // reach out to IPython and tell the keyboard manager to turn it's self\n",
       "    // off when our div gets focus\n",
       "\n",
       "    // location in version 3\n",
       "    if (IPython.notebook.keyboard_manager) {\n",
       "        IPython.notebook.keyboard_manager.register_events(el);\n",
       "    }\n",
       "    else {\n",
       "        // location in version 2\n",
       "        IPython.keyboard_manager.register_events(el);\n",
       "    }\n",
       "\n",
       "}\n",
       "\n",
       "mpl.figure.prototype._key_event_extra = function(event, name) {\n",
       "    var manager = IPython.notebook.keyboard_manager;\n",
       "    if (!manager)\n",
       "        manager = IPython.keyboard_manager;\n",
       "\n",
       "    // Check for shift+enter\n",
       "    if (event.shiftKey && event.which == 13) {\n",
       "        this.canvas_div.blur();\n",
       "        event.shiftKey = false;\n",
       "        // Send a \"J\" for go to next cell\n",
       "        event.which = 74;\n",
       "        event.keyCode = 74;\n",
       "        manager.command_mode();\n",
       "        manager.handle_keydown(event);\n",
       "    }\n",
       "}\n",
       "\n",
       "mpl.figure.prototype.handle_save = function(fig, msg) {\n",
       "    fig.ondownload(fig, null);\n",
       "}\n",
       "\n",
       "\n",
       "mpl.find_output_cell = function(html_output) {\n",
       "    // Return the cell and output element which can be found *uniquely* in the notebook.\n",
       "    // Note - this is a bit hacky, but it is done because the \"notebook_saving.Notebook\"\n",
       "    // IPython event is triggered only after the cells have been serialised, which for\n",
       "    // our purposes (turning an active figure into a static one), is too late.\n",
       "    var cells = IPython.notebook.get_cells();\n",
       "    var ncells = cells.length;\n",
       "    for (var i=0; i<ncells; i++) {\n",
       "        var cell = cells[i];\n",
       "        if (cell.cell_type === 'code'){\n",
       "            for (var j=0; j<cell.output_area.outputs.length; j++) {\n",
       "                var data = cell.output_area.outputs[j];\n",
       "                if (data.data) {\n",
       "                    // IPython >= 3 moved mimebundle to data attribute of output\n",
       "                    data = data.data;\n",
       "                }\n",
       "                if (data['text/html'] == html_output) {\n",
       "                    return [cell, data, j];\n",
       "                }\n",
       "            }\n",
       "        }\n",
       "    }\n",
       "}\n",
       "\n",
       "// Register the function which deals with the matplotlib target/channel.\n",
       "// The kernel may be null if the page has been refreshed.\n",
       "if (IPython.notebook.kernel != null) {\n",
       "    IPython.notebook.kernel.comm_manager.register_target('matplotlib', mpl.mpl_figure_comm);\n",
       "}\n"
      ],
      "text/plain": [
       "<IPython.core.display.Javascript object>"
      ]
     },
     "metadata": {},
     "output_type": "display_data"
    },
    {
     "data": {
      "text/html": [
       "<img src=\"data:image/png;base64,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\" width=\"640\">"
      ],
      "text/plain": [
       "<IPython.core.display.HTML object>"
      ]
     },
     "metadata": {},
     "output_type": "display_data"
    }
   ],
   "source": [
    "edgelist = [(7,5),(5,3),(3,7),(4,5),(4,6),(7,4),(1,6),(9,8),(7,8),(6,1),(2,9),(8,2)]\n",
    "G = nx.DiGraph()\n",
    "G.add_edges_from(edgelist)\n",
    "figure()\n",
    "nx.draw(G,with_labels = True)"
   ]
  },
  {
   "cell_type": "markdown",
   "metadata": {},
   "source": [
    "## To do\n",
    "\n",
    "* Answer question #1 **(0.5 point)**\n",
    "* Check the PageRank of each node using the `networkx` function (see below)\n",
    "* Add edges 2->5 and 6->3 and observe the impact on the top-3 nodes\n",
    "* Do the same experiment with betweenness centrality\n",
    "* Answer question #2 **(open answer)**"
   ]
  },
  {
   "cell_type": "code",
   "execution_count": 58,
   "metadata": {
    "ExecuteTime": {
     "end_time": "2018-06-08T13:16:02.381640Z",
     "start_time": "2018-06-08T13:16:02.366680Z"
    }
   },
   "outputs": [
    {
     "name": "stdout",
     "output_type": "stream",
     "text": [
      "What is the best ranked node in this graph?\n",
      "(Guess and check!)\n"
     ]
    }
   ],
   "source": [
    "get_question(1)"
   ]
  },
  {
   "cell_type": "code",
   "execution_count": 68,
   "metadata": {
    "ExecuteTime": {
     "end_time": "2018-06-08T13:17:40.366131Z",
     "start_time": "2018-06-08T13:17:40.363129Z"
    }
   },
   "outputs": [],
   "source": [
    "answer = 6"
   ]
  },
  {
   "cell_type": "code",
   "execution_count": 69,
   "metadata": {
    "ExecuteTime": {
     "end_time": "2018-06-08T13:17:40.637433Z",
     "start_time": "2018-06-08T13:17:40.620461Z"
    }
   },
   "outputs": [
    {
     "name": "stdout",
     "output_type": "stream",
     "text": [
      "This is correct!\n"
     ]
    }
   ],
   "source": [
    "post_answer(1,answer)"
   ]
  },
  {
   "cell_type": "code",
   "execution_count": 75,
   "metadata": {
    "ExecuteTime": {
     "end_time": "2018-06-08T13:18:36.976356Z",
     "start_time": "2018-06-08T13:18:36.965359Z"
    }
   },
   "outputs": [
    {
     "data": {
      "text/plain": [
       "[(6, 0.1660380738937397),\n",
       " (8, 0.16086300246509883),\n",
       " (1, 0.15780138634030672),\n",
       " (2, 0.15340048063270742),\n",
       " (9, 0.1470581226968908),\n",
       " (7, 0.06775849722262378),\n",
       " (3, 0.06010803594124311),\n",
       " (5, 0.051107493258563),\n",
       " (4, 0.03586490754882651)]"
      ]
     },
     "execution_count": 75,
     "metadata": {},
     "output_type": "execute_result"
    }
   ],
   "source": [
    "pg_score = nx.pagerank(G, 0.85)\n",
    "sorted(pg_score.items(), key=operator.itemgetter(1), reverse= True)"
   ]
  },
  {
   "cell_type": "code",
   "execution_count": 71,
   "metadata": {
    "ExecuteTime": {
     "end_time": "2018-06-08T13:17:41.300709Z",
     "start_time": "2018-06-08T13:17:41.294684Z"
    }
   },
   "outputs": [],
   "source": [
    "PR = nx.pagerank(G)"
   ]
  },
  {
   "cell_type": "code",
   "execution_count": 76,
   "metadata": {
    "ExecuteTime": {
     "end_time": "2018-06-08T13:18:43.053506Z",
     "start_time": "2018-06-08T13:18:43.036554Z"
    }
   },
   "outputs": [
    {
     "name": "stdout",
     "output_type": "stream",
     "text": [
      "Interpret the results.\n"
     ]
    }
   ],
   "source": [
    "get_question(2)"
   ]
  },
  {
   "cell_type": "code",
   "execution_count": 44,
   "metadata": {
    "ExecuteTime": {
     "end_time": "2018-06-08T13:14:57.329070Z",
     "start_time": "2018-06-08T13:14:57.311081Z"
    }
   },
   "outputs": [
    {
     "data": {
      "application/vnd.jupyter.widget-view+json": {
       "model_id": "184a2c0320524e6abe85051ac7b33b19",
       "version_major": 2,
       "version_minor": 0
      },
      "text/html": [
       "<p>Failed to display Jupyter Widget of type <code>Textarea</code>.</p>\n",
       "<p>\n",
       "  If you're reading this message in the Jupyter Notebook or JupyterLab Notebook, it may mean\n",
       "  that the widgets JavaScript is still loading. If this message persists, it\n",
       "  likely means that the widgets JavaScript library is either not installed or\n",
       "  not enabled. See the <a href=\"https://ipywidgets.readthedocs.io/en/stable/user_install.html\">Jupyter\n",
       "  Widgets Documentation</a> for setup instructions.\n",
       "</p>\n",
       "<p>\n",
       "  If you're reading this message in another frontend (for example, a static\n",
       "  rendering on GitHub or <a href=\"https://nbviewer.jupyter.org/\">NBViewer</a>),\n",
       "  it may mean that your frontend doesn't currently support widgets.\n",
       "</p>\n"
      ],
      "text/plain": [
       "Textarea(value='...')"
      ]
     },
     "metadata": {},
     "output_type": "display_data"
    },
    {
     "data": {
      "application/vnd.jupyter.widget-view+json": {
       "model_id": "7325fc92433542598974aa7e35525a08",
       "version_major": 2,
       "version_minor": 0
      },
      "text/html": [
       "<p>Failed to display Jupyter Widget of type <code>Button</code>.</p>\n",
       "<p>\n",
       "  If you're reading this message in the Jupyter Notebook or JupyterLab Notebook, it may mean\n",
       "  that the widgets JavaScript is still loading. If this message persists, it\n",
       "  likely means that the widgets JavaScript library is either not installed or\n",
       "  not enabled. See the <a href=\"https://ipywidgets.readthedocs.io/en/stable/user_install.html\">Jupyter\n",
       "  Widgets Documentation</a> for setup instructions.\n",
       "</p>\n",
       "<p>\n",
       "  If you're reading this message in another frontend (for example, a static\n",
       "  rendering on GitHub or <a href=\"https://nbviewer.jupyter.org/\">NBViewer</a>),\n",
       "  it may mean that your frontend doesn't currently support widgets.\n",
       "</p>\n"
      ],
      "text/plain": [
       "Button(description='Send', style=ButtonStyle())"
      ]
     },
     "metadata": {},
     "output_type": "display_data"
    },
    {
     "name": "stdout",
     "output_type": "stream",
     "text": [
      "Answer posted\n",
      "Answer posted\n"
     ]
    }
   ],
   "source": [
    "post_text(2)"
   ]
  },
  {
   "cell_type": "markdown",
   "metadata": {},
   "source": [
    "## Path graph"
   ]
  },
  {
   "cell_type": "markdown",
   "metadata": {},
   "source": [
    "Now consider a path graph:"
   ]
  },
  {
   "cell_type": "code",
   "execution_count": 79,
   "metadata": {
    "ExecuteTime": {
     "end_time": "2018-06-08T13:21:18.564803Z",
     "start_time": "2018-06-08T13:21:18.515894Z"
    }
   },
   "outputs": [
    {
     "data": {
      "application/javascript": [
       "/* Put everything inside the global mpl namespace */\n",
       "window.mpl = {};\n",
       "\n",
       "\n",
       "mpl.get_websocket_type = function() {\n",
       "    if (typeof(WebSocket) !== 'undefined') {\n",
       "        return WebSocket;\n",
       "    } else if (typeof(MozWebSocket) !== 'undefined') {\n",
       "        return MozWebSocket;\n",
       "    } else {\n",
       "        alert('Your browser does not have WebSocket support.' +\n",
       "              'Please try Chrome, Safari or Firefox ≥ 6. ' +\n",
       "              'Firefox 4 and 5 are also supported but you ' +\n",
       "              'have to enable WebSockets in about:config.');\n",
       "    };\n",
       "}\n",
       "\n",
       "mpl.figure = function(figure_id, websocket, ondownload, parent_element) {\n",
       "    this.id = figure_id;\n",
       "\n",
       "    this.ws = websocket;\n",
       "\n",
       "    this.supports_binary = (this.ws.binaryType != undefined);\n",
       "\n",
       "    if (!this.supports_binary) {\n",
       "        var warnings = document.getElementById(\"mpl-warnings\");\n",
       "        if (warnings) {\n",
       "            warnings.style.display = 'block';\n",
       "            warnings.textContent = (\n",
       "                \"This browser does not support binary websocket messages. \" +\n",
       "                    \"Performance may be slow.\");\n",
       "        }\n",
       "    }\n",
       "\n",
       "    this.imageObj = new Image();\n",
       "\n",
       "    this.context = undefined;\n",
       "    this.message = undefined;\n",
       "    this.canvas = undefined;\n",
       "    this.rubberband_canvas = undefined;\n",
       "    this.rubberband_context = undefined;\n",
       "    this.format_dropdown = undefined;\n",
       "\n",
       "    this.image_mode = 'full';\n",
       "\n",
       "    this.root = $('<div/>');\n",
       "    this._root_extra_style(this.root)\n",
       "    this.root.attr('style', 'display: inline-block');\n",
       "\n",
       "    $(parent_element).append(this.root);\n",
       "\n",
       "    this._init_header(this);\n",
       "    this._init_canvas(this);\n",
       "    this._init_toolbar(this);\n",
       "\n",
       "    var fig = this;\n",
       "\n",
       "    this.waiting = false;\n",
       "\n",
       "    this.ws.onopen =  function () {\n",
       "            fig.send_message(\"supports_binary\", {value: fig.supports_binary});\n",
       "            fig.send_message(\"send_image_mode\", {});\n",
       "            if (mpl.ratio != 1) {\n",
       "                fig.send_message(\"set_dpi_ratio\", {'dpi_ratio': mpl.ratio});\n",
       "            }\n",
       "            fig.send_message(\"refresh\", {});\n",
       "        }\n",
       "\n",
       "    this.imageObj.onload = function() {\n",
       "            if (fig.image_mode == 'full') {\n",
       "                // Full images could contain transparency (where diff images\n",
       "                // almost always do), so we need to clear the canvas so that\n",
       "                // there is no ghosting.\n",
       "                fig.context.clearRect(0, 0, fig.canvas.width, fig.canvas.height);\n",
       "            }\n",
       "            fig.context.drawImage(fig.imageObj, 0, 0);\n",
       "        };\n",
       "\n",
       "    this.imageObj.onunload = function() {\n",
       "        fig.ws.close();\n",
       "    }\n",
       "\n",
       "    this.ws.onmessage = this._make_on_message_function(this);\n",
       "\n",
       "    this.ondownload = ondownload;\n",
       "}\n",
       "\n",
       "mpl.figure.prototype._init_header = function() {\n",
       "    var titlebar = $(\n",
       "        '<div class=\"ui-dialog-titlebar ui-widget-header ui-corner-all ' +\n",
       "        'ui-helper-clearfix\"/>');\n",
       "    var titletext = $(\n",
       "        '<div class=\"ui-dialog-title\" style=\"width: 100%; ' +\n",
       "        'text-align: center; padding: 3px;\"/>');\n",
       "    titlebar.append(titletext)\n",
       "    this.root.append(titlebar);\n",
       "    this.header = titletext[0];\n",
       "}\n",
       "\n",
       "\n",
       "\n",
       "mpl.figure.prototype._canvas_extra_style = function(canvas_div) {\n",
       "\n",
       "}\n",
       "\n",
       "\n",
       "mpl.figure.prototype._root_extra_style = function(canvas_div) {\n",
       "\n",
       "}\n",
       "\n",
       "mpl.figure.prototype._init_canvas = function() {\n",
       "    var fig = this;\n",
       "\n",
       "    var canvas_div = $('<div/>');\n",
       "\n",
       "    canvas_div.attr('style', 'position: relative; clear: both; outline: 0');\n",
       "\n",
       "    function canvas_keyboard_event(event) {\n",
       "        return fig.key_event(event, event['data']);\n",
       "    }\n",
       "\n",
       "    canvas_div.keydown('key_press', canvas_keyboard_event);\n",
       "    canvas_div.keyup('key_release', canvas_keyboard_event);\n",
       "    this.canvas_div = canvas_div\n",
       "    this._canvas_extra_style(canvas_div)\n",
       "    this.root.append(canvas_div);\n",
       "\n",
       "    var canvas = $('<canvas/>');\n",
       "    canvas.addClass('mpl-canvas');\n",
       "    canvas.attr('style', \"left: 0; top: 0; z-index: 0; outline: 0\")\n",
       "\n",
       "    this.canvas = canvas[0];\n",
       "    this.context = canvas[0].getContext(\"2d\");\n",
       "\n",
       "    var backingStore = this.context.backingStorePixelRatio ||\n",
       "\tthis.context.webkitBackingStorePixelRatio ||\n",
       "\tthis.context.mozBackingStorePixelRatio ||\n",
       "\tthis.context.msBackingStorePixelRatio ||\n",
       "\tthis.context.oBackingStorePixelRatio ||\n",
       "\tthis.context.backingStorePixelRatio || 1;\n",
       "\n",
       "    mpl.ratio = (window.devicePixelRatio || 1) / backingStore;\n",
       "\n",
       "    var rubberband = $('<canvas/>');\n",
       "    rubberband.attr('style', \"position: absolute; left: 0; top: 0; z-index: 1;\")\n",
       "\n",
       "    var pass_mouse_events = true;\n",
       "\n",
       "    canvas_div.resizable({\n",
       "        start: function(event, ui) {\n",
       "            pass_mouse_events = false;\n",
       "        },\n",
       "        resize: function(event, ui) {\n",
       "            fig.request_resize(ui.size.width, ui.size.height);\n",
       "        },\n",
       "        stop: function(event, ui) {\n",
       "            pass_mouse_events = true;\n",
       "            fig.request_resize(ui.size.width, ui.size.height);\n",
       "        },\n",
       "    });\n",
       "\n",
       "    function mouse_event_fn(event) {\n",
       "        if (pass_mouse_events)\n",
       "            return fig.mouse_event(event, event['data']);\n",
       "    }\n",
       "\n",
       "    rubberband.mousedown('button_press', mouse_event_fn);\n",
       "    rubberband.mouseup('button_release', mouse_event_fn);\n",
       "    // Throttle sequential mouse events to 1 every 20ms.\n",
       "    rubberband.mousemove('motion_notify', mouse_event_fn);\n",
       "\n",
       "    rubberband.mouseenter('figure_enter', mouse_event_fn);\n",
       "    rubberband.mouseleave('figure_leave', mouse_event_fn);\n",
       "\n",
       "    canvas_div.on(\"wheel\", function (event) {\n",
       "        event = event.originalEvent;\n",
       "        event['data'] = 'scroll'\n",
       "        if (event.deltaY < 0) {\n",
       "            event.step = 1;\n",
       "        } else {\n",
       "            event.step = -1;\n",
       "        }\n",
       "        mouse_event_fn(event);\n",
       "    });\n",
       "\n",
       "    canvas_div.append(canvas);\n",
       "    canvas_div.append(rubberband);\n",
       "\n",
       "    this.rubberband = rubberband;\n",
       "    this.rubberband_canvas = rubberband[0];\n",
       "    this.rubberband_context = rubberband[0].getContext(\"2d\");\n",
       "    this.rubberband_context.strokeStyle = \"#000000\";\n",
       "\n",
       "    this._resize_canvas = function(width, height) {\n",
       "        // Keep the size of the canvas, canvas container, and rubber band\n",
       "        // canvas in synch.\n",
       "        canvas_div.css('width', width)\n",
       "        canvas_div.css('height', height)\n",
       "\n",
       "        canvas.attr('width', width * mpl.ratio);\n",
       "        canvas.attr('height', height * mpl.ratio);\n",
       "        canvas.attr('style', 'width: ' + width + 'px; height: ' + height + 'px;');\n",
       "\n",
       "        rubberband.attr('width', width);\n",
       "        rubberband.attr('height', height);\n",
       "    }\n",
       "\n",
       "    // Set the figure to an initial 600x600px, this will subsequently be updated\n",
       "    // upon first draw.\n",
       "    this._resize_canvas(600, 600);\n",
       "\n",
       "    // Disable right mouse context menu.\n",
       "    $(this.rubberband_canvas).bind(\"contextmenu\",function(e){\n",
       "        return false;\n",
       "    });\n",
       "\n",
       "    function set_focus () {\n",
       "        canvas.focus();\n",
       "        canvas_div.focus();\n",
       "    }\n",
       "\n",
       "    window.setTimeout(set_focus, 100);\n",
       "}\n",
       "\n",
       "mpl.figure.prototype._init_toolbar = function() {\n",
       "    var fig = this;\n",
       "\n",
       "    var nav_element = $('<div/>')\n",
       "    nav_element.attr('style', 'width: 100%');\n",
       "    this.root.append(nav_element);\n",
       "\n",
       "    // Define a callback function for later on.\n",
       "    function toolbar_event(event) {\n",
       "        return fig.toolbar_button_onclick(event['data']);\n",
       "    }\n",
       "    function toolbar_mouse_event(event) {\n",
       "        return fig.toolbar_button_onmouseover(event['data']);\n",
       "    }\n",
       "\n",
       "    for(var toolbar_ind in mpl.toolbar_items) {\n",
       "        var name = mpl.toolbar_items[toolbar_ind][0];\n",
       "        var tooltip = mpl.toolbar_items[toolbar_ind][1];\n",
       "        var image = mpl.toolbar_items[toolbar_ind][2];\n",
       "        var method_name = mpl.toolbar_items[toolbar_ind][3];\n",
       "\n",
       "        if (!name) {\n",
       "            // put a spacer in here.\n",
       "            continue;\n",
       "        }\n",
       "        var button = $('<button/>');\n",
       "        button.addClass('ui-button ui-widget ui-state-default ui-corner-all ' +\n",
       "                        'ui-button-icon-only');\n",
       "        button.attr('role', 'button');\n",
       "        button.attr('aria-disabled', 'false');\n",
       "        button.click(method_name, toolbar_event);\n",
       "        button.mouseover(tooltip, toolbar_mouse_event);\n",
       "\n",
       "        var icon_img = $('<span/>');\n",
       "        icon_img.addClass('ui-button-icon-primary ui-icon');\n",
       "        icon_img.addClass(image);\n",
       "        icon_img.addClass('ui-corner-all');\n",
       "\n",
       "        var tooltip_span = $('<span/>');\n",
       "        tooltip_span.addClass('ui-button-text');\n",
       "        tooltip_span.html(tooltip);\n",
       "\n",
       "        button.append(icon_img);\n",
       "        button.append(tooltip_span);\n",
       "\n",
       "        nav_element.append(button);\n",
       "    }\n",
       "\n",
       "    var fmt_picker_span = $('<span/>');\n",
       "\n",
       "    var fmt_picker = $('<select/>');\n",
       "    fmt_picker.addClass('mpl-toolbar-option ui-widget ui-widget-content');\n",
       "    fmt_picker_span.append(fmt_picker);\n",
       "    nav_element.append(fmt_picker_span);\n",
       "    this.format_dropdown = fmt_picker[0];\n",
       "\n",
       "    for (var ind in mpl.extensions) {\n",
       "        var fmt = mpl.extensions[ind];\n",
       "        var option = $(\n",
       "            '<option/>', {selected: fmt === mpl.default_extension}).html(fmt);\n",
       "        fmt_picker.append(option)\n",
       "    }\n",
       "\n",
       "    // Add hover states to the ui-buttons\n",
       "    $( \".ui-button\" ).hover(\n",
       "        function() { $(this).addClass(\"ui-state-hover\");},\n",
       "        function() { $(this).removeClass(\"ui-state-hover\");}\n",
       "    );\n",
       "\n",
       "    var status_bar = $('<span class=\"mpl-message\"/>');\n",
       "    nav_element.append(status_bar);\n",
       "    this.message = status_bar[0];\n",
       "}\n",
       "\n",
       "mpl.figure.prototype.request_resize = function(x_pixels, y_pixels) {\n",
       "    // Request matplotlib to resize the figure. Matplotlib will then trigger a resize in the client,\n",
       "    // which will in turn request a refresh of the image.\n",
       "    this.send_message('resize', {'width': x_pixels, 'height': y_pixels});\n",
       "}\n",
       "\n",
       "mpl.figure.prototype.send_message = function(type, properties) {\n",
       "    properties['type'] = type;\n",
       "    properties['figure_id'] = this.id;\n",
       "    this.ws.send(JSON.stringify(properties));\n",
       "}\n",
       "\n",
       "mpl.figure.prototype.send_draw_message = function() {\n",
       "    if (!this.waiting) {\n",
       "        this.waiting = true;\n",
       "        this.ws.send(JSON.stringify({type: \"draw\", figure_id: this.id}));\n",
       "    }\n",
       "}\n",
       "\n",
       "\n",
       "mpl.figure.prototype.handle_save = function(fig, msg) {\n",
       "    var format_dropdown = fig.format_dropdown;\n",
       "    var format = format_dropdown.options[format_dropdown.selectedIndex].value;\n",
       "    fig.ondownload(fig, format);\n",
       "}\n",
       "\n",
       "\n",
       "mpl.figure.prototype.handle_resize = function(fig, msg) {\n",
       "    var size = msg['size'];\n",
       "    if (size[0] != fig.canvas.width || size[1] != fig.canvas.height) {\n",
       "        fig._resize_canvas(size[0], size[1]);\n",
       "        fig.send_message(\"refresh\", {});\n",
       "    };\n",
       "}\n",
       "\n",
       "mpl.figure.prototype.handle_rubberband = function(fig, msg) {\n",
       "    var x0 = msg['x0'] / mpl.ratio;\n",
       "    var y0 = (fig.canvas.height - msg['y0']) / mpl.ratio;\n",
       "    var x1 = msg['x1'] / mpl.ratio;\n",
       "    var y1 = (fig.canvas.height - msg['y1']) / mpl.ratio;\n",
       "    x0 = Math.floor(x0) + 0.5;\n",
       "    y0 = Math.floor(y0) + 0.5;\n",
       "    x1 = Math.floor(x1) + 0.5;\n",
       "    y1 = Math.floor(y1) + 0.5;\n",
       "    var min_x = Math.min(x0, x1);\n",
       "    var min_y = Math.min(y0, y1);\n",
       "    var width = Math.abs(x1 - x0);\n",
       "    var height = Math.abs(y1 - y0);\n",
       "\n",
       "    fig.rubberband_context.clearRect(\n",
       "        0, 0, fig.canvas.width, fig.canvas.height);\n",
       "\n",
       "    fig.rubberband_context.strokeRect(min_x, min_y, width, height);\n",
       "}\n",
       "\n",
       "mpl.figure.prototype.handle_figure_label = function(fig, msg) {\n",
       "    // Updates the figure title.\n",
       "    fig.header.textContent = msg['label'];\n",
       "}\n",
       "\n",
       "mpl.figure.prototype.handle_cursor = function(fig, msg) {\n",
       "    var cursor = msg['cursor'];\n",
       "    switch(cursor)\n",
       "    {\n",
       "    case 0:\n",
       "        cursor = 'pointer';\n",
       "        break;\n",
       "    case 1:\n",
       "        cursor = 'default';\n",
       "        break;\n",
       "    case 2:\n",
       "        cursor = 'crosshair';\n",
       "        break;\n",
       "    case 3:\n",
       "        cursor = 'move';\n",
       "        break;\n",
       "    }\n",
       "    fig.rubberband_canvas.style.cursor = cursor;\n",
       "}\n",
       "\n",
       "mpl.figure.prototype.handle_message = function(fig, msg) {\n",
       "    fig.message.textContent = msg['message'];\n",
       "}\n",
       "\n",
       "mpl.figure.prototype.handle_draw = function(fig, msg) {\n",
       "    // Request the server to send over a new figure.\n",
       "    fig.send_draw_message();\n",
       "}\n",
       "\n",
       "mpl.figure.prototype.handle_image_mode = function(fig, msg) {\n",
       "    fig.image_mode = msg['mode'];\n",
       "}\n",
       "\n",
       "mpl.figure.prototype.updated_canvas_event = function() {\n",
       "    // Called whenever the canvas gets updated.\n",
       "    this.send_message(\"ack\", {});\n",
       "}\n",
       "\n",
       "// A function to construct a web socket function for onmessage handling.\n",
       "// Called in the figure constructor.\n",
       "mpl.figure.prototype._make_on_message_function = function(fig) {\n",
       "    return function socket_on_message(evt) {\n",
       "        if (evt.data instanceof Blob) {\n",
       "            /* FIXME: We get \"Resource interpreted as Image but\n",
       "             * transferred with MIME type text/plain:\" errors on\n",
       "             * Chrome.  But how to set the MIME type?  It doesn't seem\n",
       "             * to be part of the websocket stream */\n",
       "            evt.data.type = \"image/png\";\n",
       "\n",
       "            /* Free the memory for the previous frames */\n",
       "            if (fig.imageObj.src) {\n",
       "                (window.URL || window.webkitURL).revokeObjectURL(\n",
       "                    fig.imageObj.src);\n",
       "            }\n",
       "\n",
       "            fig.imageObj.src = (window.URL || window.webkitURL).createObjectURL(\n",
       "                evt.data);\n",
       "            fig.updated_canvas_event();\n",
       "            fig.waiting = false;\n",
       "            return;\n",
       "        }\n",
       "        else if (typeof evt.data === 'string' && evt.data.slice(0, 21) == \"data:image/png;base64\") {\n",
       "            fig.imageObj.src = evt.data;\n",
       "            fig.updated_canvas_event();\n",
       "            fig.waiting = false;\n",
       "            return;\n",
       "        }\n",
       "\n",
       "        var msg = JSON.parse(evt.data);\n",
       "        var msg_type = msg['type'];\n",
       "\n",
       "        // Call the  \"handle_{type}\" callback, which takes\n",
       "        // the figure and JSON message as its only arguments.\n",
       "        try {\n",
       "            var callback = fig[\"handle_\" + msg_type];\n",
       "        } catch (e) {\n",
       "            console.log(\"No handler for the '\" + msg_type + \"' message type: \", msg);\n",
       "            return;\n",
       "        }\n",
       "\n",
       "        if (callback) {\n",
       "            try {\n",
       "                // console.log(\"Handling '\" + msg_type + \"' message: \", msg);\n",
       "                callback(fig, msg);\n",
       "            } catch (e) {\n",
       "                console.log(\"Exception inside the 'handler_\" + msg_type + \"' callback:\", e, e.stack, msg);\n",
       "            }\n",
       "        }\n",
       "    };\n",
       "}\n",
       "\n",
       "// from http://stackoverflow.com/questions/1114465/getting-mouse-location-in-canvas\n",
       "mpl.findpos = function(e) {\n",
       "    //this section is from http://www.quirksmode.org/js/events_properties.html\n",
       "    var targ;\n",
       "    if (!e)\n",
       "        e = window.event;\n",
       "    if (e.target)\n",
       "        targ = e.target;\n",
       "    else if (e.srcElement)\n",
       "        targ = e.srcElement;\n",
       "    if (targ.nodeType == 3) // defeat Safari bug\n",
       "        targ = targ.parentNode;\n",
       "\n",
       "    // jQuery normalizes the pageX and pageY\n",
       "    // pageX,Y are the mouse positions relative to the document\n",
       "    // offset() returns the position of the element relative to the document\n",
       "    var x = e.pageX - $(targ).offset().left;\n",
       "    var y = e.pageY - $(targ).offset().top;\n",
       "\n",
       "    return {\"x\": x, \"y\": y};\n",
       "};\n",
       "\n",
       "/*\n",
       " * return a copy of an object with only non-object keys\n",
       " * we need this to avoid circular references\n",
       " * http://stackoverflow.com/a/24161582/3208463\n",
       " */\n",
       "function simpleKeys (original) {\n",
       "  return Object.keys(original).reduce(function (obj, key) {\n",
       "    if (typeof original[key] !== 'object')\n",
       "        obj[key] = original[key]\n",
       "    return obj;\n",
       "  }, {});\n",
       "}\n",
       "\n",
       "mpl.figure.prototype.mouse_event = function(event, name) {\n",
       "    var canvas_pos = mpl.findpos(event)\n",
       "\n",
       "    if (name === 'button_press')\n",
       "    {\n",
       "        this.canvas.focus();\n",
       "        this.canvas_div.focus();\n",
       "    }\n",
       "\n",
       "    var x = canvas_pos.x * mpl.ratio;\n",
       "    var y = canvas_pos.y * mpl.ratio;\n",
       "\n",
       "    this.send_message(name, {x: x, y: y, button: event.button,\n",
       "                             step: event.step,\n",
       "                             guiEvent: simpleKeys(event)});\n",
       "\n",
       "    /* This prevents the web browser from automatically changing to\n",
       "     * the text insertion cursor when the button is pressed.  We want\n",
       "     * to control all of the cursor setting manually through the\n",
       "     * 'cursor' event from matplotlib */\n",
       "    event.preventDefault();\n",
       "    return false;\n",
       "}\n",
       "\n",
       "mpl.figure.prototype._key_event_extra = function(event, name) {\n",
       "    // Handle any extra behaviour associated with a key event\n",
       "}\n",
       "\n",
       "mpl.figure.prototype.key_event = function(event, name) {\n",
       "\n",
       "    // Prevent repeat events\n",
       "    if (name == 'key_press')\n",
       "    {\n",
       "        if (event.which === this._key)\n",
       "            return;\n",
       "        else\n",
       "            this._key = event.which;\n",
       "    }\n",
       "    if (name == 'key_release')\n",
       "        this._key = null;\n",
       "\n",
       "    var value = '';\n",
       "    if (event.ctrlKey && event.which != 17)\n",
       "        value += \"ctrl+\";\n",
       "    if (event.altKey && event.which != 18)\n",
       "        value += \"alt+\";\n",
       "    if (event.shiftKey && event.which != 16)\n",
       "        value += \"shift+\";\n",
       "\n",
       "    value += 'k';\n",
       "    value += event.which.toString();\n",
       "\n",
       "    this._key_event_extra(event, name);\n",
       "\n",
       "    this.send_message(name, {key: value,\n",
       "                             guiEvent: simpleKeys(event)});\n",
       "    return false;\n",
       "}\n",
       "\n",
       "mpl.figure.prototype.toolbar_button_onclick = function(name) {\n",
       "    if (name == 'download') {\n",
       "        this.handle_save(this, null);\n",
       "    } else {\n",
       "        this.send_message(\"toolbar_button\", {name: name});\n",
       "    }\n",
       "};\n",
       "\n",
       "mpl.figure.prototype.toolbar_button_onmouseover = function(tooltip) {\n",
       "    this.message.textContent = tooltip;\n",
       "};\n",
       "mpl.toolbar_items = [[\"Home\", \"Reset original view\", \"fa fa-home icon-home\", \"home\"], [\"Back\", \"Back to  previous view\", \"fa fa-arrow-left icon-arrow-left\", \"back\"], [\"Forward\", \"Forward to next view\", \"fa fa-arrow-right icon-arrow-right\", \"forward\"], [\"\", \"\", \"\", \"\"], [\"Pan\", \"Pan axes with left mouse, zoom with right\", \"fa fa-arrows icon-move\", \"pan\"], [\"Zoom\", \"Zoom to rectangle\", \"fa fa-square-o icon-check-empty\", \"zoom\"], [\"\", \"\", \"\", \"\"], [\"Download\", \"Download plot\", \"fa fa-floppy-o icon-save\", \"download\"]];\n",
       "\n",
       "mpl.extensions = [\"eps\", \"pdf\", \"png\", \"ps\", \"raw\", \"svg\"];\n",
       "\n",
       "mpl.default_extension = \"png\";var comm_websocket_adapter = function(comm) {\n",
       "    // Create a \"websocket\"-like object which calls the given IPython comm\n",
       "    // object with the appropriate methods. Currently this is a non binary\n",
       "    // socket, so there is still some room for performance tuning.\n",
       "    var ws = {};\n",
       "\n",
       "    ws.close = function() {\n",
       "        comm.close()\n",
       "    };\n",
       "    ws.send = function(m) {\n",
       "        //console.log('sending', m);\n",
       "        comm.send(m);\n",
       "    };\n",
       "    // Register the callback with on_msg.\n",
       "    comm.on_msg(function(msg) {\n",
       "        //console.log('receiving', msg['content']['data'], msg);\n",
       "        // Pass the mpl event to the overriden (by mpl) onmessage function.\n",
       "        ws.onmessage(msg['content']['data'])\n",
       "    });\n",
       "    return ws;\n",
       "}\n",
       "\n",
       "mpl.mpl_figure_comm = function(comm, msg) {\n",
       "    // This is the function which gets called when the mpl process\n",
       "    // starts-up an IPython Comm through the \"matplotlib\" channel.\n",
       "\n",
       "    var id = msg.content.data.id;\n",
       "    // Get hold of the div created by the display call when the Comm\n",
       "    // socket was opened in Python.\n",
       "    var element = $(\"#\" + id);\n",
       "    var ws_proxy = comm_websocket_adapter(comm)\n",
       "\n",
       "    function ondownload(figure, format) {\n",
       "        window.open(figure.imageObj.src);\n",
       "    }\n",
       "\n",
       "    var fig = new mpl.figure(id, ws_proxy,\n",
       "                           ondownload,\n",
       "                           element.get(0));\n",
       "\n",
       "    // Call onopen now - mpl needs it, as it is assuming we've passed it a real\n",
       "    // web socket which is closed, not our websocket->open comm proxy.\n",
       "    ws_proxy.onopen();\n",
       "\n",
       "    fig.parent_element = element.get(0);\n",
       "    fig.cell_info = mpl.find_output_cell(\"<div id='\" + id + \"'></div>\");\n",
       "    if (!fig.cell_info) {\n",
       "        console.error(\"Failed to find cell for figure\", id, fig);\n",
       "        return;\n",
       "    }\n",
       "\n",
       "    var output_index = fig.cell_info[2]\n",
       "    var cell = fig.cell_info[0];\n",
       "\n",
       "};\n",
       "\n",
       "mpl.figure.prototype.handle_close = function(fig, msg) {\n",
       "    var width = fig.canvas.width/mpl.ratio\n",
       "    fig.root.unbind('remove')\n",
       "\n",
       "    // Update the output cell to use the data from the current canvas.\n",
       "    fig.push_to_output();\n",
       "    var dataURL = fig.canvas.toDataURL();\n",
       "    // Re-enable the keyboard manager in IPython - without this line, in FF,\n",
       "    // the notebook keyboard shortcuts fail.\n",
       "    IPython.keyboard_manager.enable()\n",
       "    $(fig.parent_element).html('<img src=\"' + dataURL + '\" width=\"' + width + '\">');\n",
       "    fig.close_ws(fig, msg);\n",
       "}\n",
       "\n",
       "mpl.figure.prototype.close_ws = function(fig, msg){\n",
       "    fig.send_message('closing', msg);\n",
       "    // fig.ws.close()\n",
       "}\n",
       "\n",
       "mpl.figure.prototype.push_to_output = function(remove_interactive) {\n",
       "    // Turn the data on the canvas into data in the output cell.\n",
       "    var width = this.canvas.width/mpl.ratio\n",
       "    var dataURL = this.canvas.toDataURL();\n",
       "    this.cell_info[1]['text/html'] = '<img src=\"' + dataURL + '\" width=\"' + width + '\">';\n",
       "}\n",
       "\n",
       "mpl.figure.prototype.updated_canvas_event = function() {\n",
       "    // Tell IPython that the notebook contents must change.\n",
       "    IPython.notebook.set_dirty(true);\n",
       "    this.send_message(\"ack\", {});\n",
       "    var fig = this;\n",
       "    // Wait a second, then push the new image to the DOM so\n",
       "    // that it is saved nicely (might be nice to debounce this).\n",
       "    setTimeout(function () { fig.push_to_output() }, 1000);\n",
       "}\n",
       "\n",
       "mpl.figure.prototype._init_toolbar = function() {\n",
       "    var fig = this;\n",
       "\n",
       "    var nav_element = $('<div/>')\n",
       "    nav_element.attr('style', 'width: 100%');\n",
       "    this.root.append(nav_element);\n",
       "\n",
       "    // Define a callback function for later on.\n",
       "    function toolbar_event(event) {\n",
       "        return fig.toolbar_button_onclick(event['data']);\n",
       "    }\n",
       "    function toolbar_mouse_event(event) {\n",
       "        return fig.toolbar_button_onmouseover(event['data']);\n",
       "    }\n",
       "\n",
       "    for(var toolbar_ind in mpl.toolbar_items){\n",
       "        var name = mpl.toolbar_items[toolbar_ind][0];\n",
       "        var tooltip = mpl.toolbar_items[toolbar_ind][1];\n",
       "        var image = mpl.toolbar_items[toolbar_ind][2];\n",
       "        var method_name = mpl.toolbar_items[toolbar_ind][3];\n",
       "\n",
       "        if (!name) { continue; };\n",
       "\n",
       "        var button = $('<button class=\"btn btn-default\" href=\"#\" title=\"' + name + '\"><i class=\"fa ' + image + ' fa-lg\"></i></button>');\n",
       "        button.click(method_name, toolbar_event);\n",
       "        button.mouseover(tooltip, toolbar_mouse_event);\n",
       "        nav_element.append(button);\n",
       "    }\n",
       "\n",
       "    // Add the status bar.\n",
       "    var status_bar = $('<span class=\"mpl-message\" style=\"text-align:right; float: right;\"/>');\n",
       "    nav_element.append(status_bar);\n",
       "    this.message = status_bar[0];\n",
       "\n",
       "    // Add the close button to the window.\n",
       "    var buttongrp = $('<div class=\"btn-group inline pull-right\"></div>');\n",
       "    var button = $('<button class=\"btn btn-mini btn-primary\" href=\"#\" title=\"Stop Interaction\"><i class=\"fa fa-power-off icon-remove icon-large\"></i></button>');\n",
       "    button.click(function (evt) { fig.handle_close(fig, {}); } );\n",
       "    button.mouseover('Stop Interaction', toolbar_mouse_event);\n",
       "    buttongrp.append(button);\n",
       "    var titlebar = this.root.find($('.ui-dialog-titlebar'));\n",
       "    titlebar.prepend(buttongrp);\n",
       "}\n",
       "\n",
       "mpl.figure.prototype._root_extra_style = function(el){\n",
       "    var fig = this\n",
       "    el.on(\"remove\", function(){\n",
       "\tfig.close_ws(fig, {});\n",
       "    });\n",
       "}\n",
       "\n",
       "mpl.figure.prototype._canvas_extra_style = function(el){\n",
       "    // this is important to make the div 'focusable\n",
       "    el.attr('tabindex', 0)\n",
       "    // reach out to IPython and tell the keyboard manager to turn it's self\n",
       "    // off when our div gets focus\n",
       "\n",
       "    // location in version 3\n",
       "    if (IPython.notebook.keyboard_manager) {\n",
       "        IPython.notebook.keyboard_manager.register_events(el);\n",
       "    }\n",
       "    else {\n",
       "        // location in version 2\n",
       "        IPython.keyboard_manager.register_events(el);\n",
       "    }\n",
       "\n",
       "}\n",
       "\n",
       "mpl.figure.prototype._key_event_extra = function(event, name) {\n",
       "    var manager = IPython.notebook.keyboard_manager;\n",
       "    if (!manager)\n",
       "        manager = IPython.keyboard_manager;\n",
       "\n",
       "    // Check for shift+enter\n",
       "    if (event.shiftKey && event.which == 13) {\n",
       "        this.canvas_div.blur();\n",
       "        event.shiftKey = false;\n",
       "        // Send a \"J\" for go to next cell\n",
       "        event.which = 74;\n",
       "        event.keyCode = 74;\n",
       "        manager.command_mode();\n",
       "        manager.handle_keydown(event);\n",
       "    }\n",
       "}\n",
       "\n",
       "mpl.figure.prototype.handle_save = function(fig, msg) {\n",
       "    fig.ondownload(fig, null);\n",
       "}\n",
       "\n",
       "\n",
       "mpl.find_output_cell = function(html_output) {\n",
       "    // Return the cell and output element which can be found *uniquely* in the notebook.\n",
       "    // Note - this is a bit hacky, but it is done because the \"notebook_saving.Notebook\"\n",
       "    // IPython event is triggered only after the cells have been serialised, which for\n",
       "    // our purposes (turning an active figure into a static one), is too late.\n",
       "    var cells = IPython.notebook.get_cells();\n",
       "    var ncells = cells.length;\n",
       "    for (var i=0; i<ncells; i++) {\n",
       "        var cell = cells[i];\n",
       "        if (cell.cell_type === 'code'){\n",
       "            for (var j=0; j<cell.output_area.outputs.length; j++) {\n",
       "                var data = cell.output_area.outputs[j];\n",
       "                if (data.data) {\n",
       "                    // IPython >= 3 moved mimebundle to data attribute of output\n",
       "                    data = data.data;\n",
       "                }\n",
       "                if (data['text/html'] == html_output) {\n",
       "                    return [cell, data, j];\n",
       "                }\n",
       "            }\n",
       "        }\n",
       "    }\n",
       "}\n",
       "\n",
       "// Register the function which deals with the matplotlib target/channel.\n",
       "// The kernel may be null if the page has been refreshed.\n",
       "if (IPython.notebook.kernel != null) {\n",
       "    IPython.notebook.kernel.comm_manager.register_target('matplotlib', mpl.mpl_figure_comm);\n",
       "}\n"
      ],
      "text/plain": [
       "<IPython.core.display.Javascript object>"
      ]
     },
     "metadata": {},
     "output_type": "display_data"
    },
    {
     "data": {
      "text/html": [
       "<img src=\"data:image/png;base64,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\" width=\"640\">"
      ],
      "text/plain": [
       "<IPython.core.display.HTML object>"
      ]
     },
     "metadata": {},
     "output_type": "display_data"
    }
   ],
   "source": [
    "n = 10\n",
    "G = nx.path_graph(n)\n",
    "pos = [(i,0) for i in range(n)]\n",
    "figure()\n",
    "nx.draw(G,pos,with_labels = True)"
   ]
  },
  {
   "cell_type": "markdown",
   "metadata": {},
   "source": [
    "## To do\n",
    "\n",
    "* What are the two best ranked nodes? Try with different values of $\\alpha$\n",
    "* Compare with the two most central nodes (in terms of betweenness centrality)\n",
    "* Answer question #3 **(0.5 point)**"
   ]
  },
  {
   "cell_type": "code",
   "execution_count": 78,
   "metadata": {
    "ExecuteTime": {
     "end_time": "2018-06-08T13:20:29.262959Z",
     "start_time": "2018-06-08T13:20:29.247978Z"
    }
   },
   "outputs": [
    {
     "name": "stdout",
     "output_type": "stream",
     "text": [
      "What is the PageRank vector when alpha tends to 1?\n",
      "(Enter a list of floats)\n"
     ]
    }
   ],
   "source": [
    "get_question(3)"
   ]
  },
  {
   "cell_type": "code",
   "execution_count": 92,
   "metadata": {
    "ExecuteTime": {
     "end_time": "2018-06-08T13:35:14.277922Z",
     "start_time": "2018-06-08T13:35:14.266939Z"
    }
   },
   "outputs": [],
   "source": [
    "x = nx.pagerank(G,1, max_iter=100000)"
   ]
  },
  {
   "cell_type": "code",
   "execution_count": 95,
   "metadata": {
    "ExecuteTime": {
     "end_time": "2018-06-08T13:35:26.592440Z",
     "start_time": "2018-06-08T13:35:26.588452Z"
    }
   },
   "outputs": [],
   "source": [
    "answer = list(x.values())"
   ]
  },
  {
   "cell_type": "code",
   "execution_count": 96,
   "metadata": {
    "ExecuteTime": {
     "end_time": "2018-06-08T13:35:27.070190Z",
     "start_time": "2018-06-08T13:35:27.049220Z"
    }
   },
   "outputs": [
    {
     "name": "stdout",
     "output_type": "stream",
     "text": [
      "This is correct!\n"
     ]
    }
   ],
   "source": [
    "post_answer(3,answer)"
   ]
  },
  {
   "cell_type": "markdown",
   "metadata": {},
   "source": [
    "## Real datasets\n",
    "\n",
    "We now consider the following real datasets, to be downloaded [here](http://perso.telecom-paristech.fr/~bonald/graphs/lab5.zip):\n",
    "* the graph of [Les Misérables](https://fr.wikipedia.org/wiki/Les_Misérables) (co-occurence of characters in chapters of the novel of Victor Hugo),\n",
    "* the graph of [Wikipedia for Schools](https://en.wikipedia.org/wiki/Wikipedia:Wikipedia_for_Schools) (links between a selection of articles from Wikipedia)\n",
    "* the bipartite graph of movies-actors links extracted from [YaGo](https://www.mpi-inf.mpg.de/departments/databases-and-information-systems/research/yago-naga/yago/)"
   ]
  },
  {
   "cell_type": "markdown",
   "metadata": {},
   "source": [
    "## To do\n",
    "\n",
    "* List the 10 best ranked nodes of Les Misérables\n",
    "* Compare with the 10 nodes of highest degrees and the 10 nodes of highest weights\n",
    "* Answer question #4 **(open answer)**"
   ]
  },
  {
   "cell_type": "code",
   "execution_count": 134,
   "metadata": {
    "ExecuteTime": {
     "end_time": "2018-06-08T13:55:01.842337Z",
     "start_time": "2018-06-08T13:55:01.831380Z"
    }
   },
   "outputs": [],
   "source": [
    "G = nx.read_graphml(\"miserables.graphml\", node_type = int)\n",
    "names = nx.get_node_attributes(G, 'name')"
   ]
  },
  {
   "cell_type": "code",
   "execution_count": 135,
   "metadata": {
    "ExecuteTime": {
     "end_time": "2018-06-08T13:55:02.176465Z",
     "start_time": "2018-06-08T13:55:02.087704Z"
    }
   },
   "outputs": [
    {
     "data": {
      "application/javascript": [
       "/* Put everything inside the global mpl namespace */\n",
       "window.mpl = {};\n",
       "\n",
       "\n",
       "mpl.get_websocket_type = function() {\n",
       "    if (typeof(WebSocket) !== 'undefined') {\n",
       "        return WebSocket;\n",
       "    } else if (typeof(MozWebSocket) !== 'undefined') {\n",
       "        return MozWebSocket;\n",
       "    } else {\n",
       "        alert('Your browser does not have WebSocket support.' +\n",
       "              'Please try Chrome, Safari or Firefox ≥ 6. ' +\n",
       "              'Firefox 4 and 5 are also supported but you ' +\n",
       "              'have to enable WebSockets in about:config.');\n",
       "    };\n",
       "}\n",
       "\n",
       "mpl.figure = function(figure_id, websocket, ondownload, parent_element) {\n",
       "    this.id = figure_id;\n",
       "\n",
       "    this.ws = websocket;\n",
       "\n",
       "    this.supports_binary = (this.ws.binaryType != undefined);\n",
       "\n",
       "    if (!this.supports_binary) {\n",
       "        var warnings = document.getElementById(\"mpl-warnings\");\n",
       "        if (warnings) {\n",
       "            warnings.style.display = 'block';\n",
       "            warnings.textContent = (\n",
       "                \"This browser does not support binary websocket messages. \" +\n",
       "                    \"Performance may be slow.\");\n",
       "        }\n",
       "    }\n",
       "\n",
       "    this.imageObj = new Image();\n",
       "\n",
       "    this.context = undefined;\n",
       "    this.message = undefined;\n",
       "    this.canvas = undefined;\n",
       "    this.rubberband_canvas = undefined;\n",
       "    this.rubberband_context = undefined;\n",
       "    this.format_dropdown = undefined;\n",
       "\n",
       "    this.image_mode = 'full';\n",
       "\n",
       "    this.root = $('<div/>');\n",
       "    this._root_extra_style(this.root)\n",
       "    this.root.attr('style', 'display: inline-block');\n",
       "\n",
       "    $(parent_element).append(this.root);\n",
       "\n",
       "    this._init_header(this);\n",
       "    this._init_canvas(this);\n",
       "    this._init_toolbar(this);\n",
       "\n",
       "    var fig = this;\n",
       "\n",
       "    this.waiting = false;\n",
       "\n",
       "    this.ws.onopen =  function () {\n",
       "            fig.send_message(\"supports_binary\", {value: fig.supports_binary});\n",
       "            fig.send_message(\"send_image_mode\", {});\n",
       "            if (mpl.ratio != 1) {\n",
       "                fig.send_message(\"set_dpi_ratio\", {'dpi_ratio': mpl.ratio});\n",
       "            }\n",
       "            fig.send_message(\"refresh\", {});\n",
       "        }\n",
       "\n",
       "    this.imageObj.onload = function() {\n",
       "            if (fig.image_mode == 'full') {\n",
       "                // Full images could contain transparency (where diff images\n",
       "                // almost always do), so we need to clear the canvas so that\n",
       "                // there is no ghosting.\n",
       "                fig.context.clearRect(0, 0, fig.canvas.width, fig.canvas.height);\n",
       "            }\n",
       "            fig.context.drawImage(fig.imageObj, 0, 0);\n",
       "        };\n",
       "\n",
       "    this.imageObj.onunload = function() {\n",
       "        fig.ws.close();\n",
       "    }\n",
       "\n",
       "    this.ws.onmessage = this._make_on_message_function(this);\n",
       "\n",
       "    this.ondownload = ondownload;\n",
       "}\n",
       "\n",
       "mpl.figure.prototype._init_header = function() {\n",
       "    var titlebar = $(\n",
       "        '<div class=\"ui-dialog-titlebar ui-widget-header ui-corner-all ' +\n",
       "        'ui-helper-clearfix\"/>');\n",
       "    var titletext = $(\n",
       "        '<div class=\"ui-dialog-title\" style=\"width: 100%; ' +\n",
       "        'text-align: center; padding: 3px;\"/>');\n",
       "    titlebar.append(titletext)\n",
       "    this.root.append(titlebar);\n",
       "    this.header = titletext[0];\n",
       "}\n",
       "\n",
       "\n",
       "\n",
       "mpl.figure.prototype._canvas_extra_style = function(canvas_div) {\n",
       "\n",
       "}\n",
       "\n",
       "\n",
       "mpl.figure.prototype._root_extra_style = function(canvas_div) {\n",
       "\n",
       "}\n",
       "\n",
       "mpl.figure.prototype._init_canvas = function() {\n",
       "    var fig = this;\n",
       "\n",
       "    var canvas_div = $('<div/>');\n",
       "\n",
       "    canvas_div.attr('style', 'position: relative; clear: both; outline: 0');\n",
       "\n",
       "    function canvas_keyboard_event(event) {\n",
       "        return fig.key_event(event, event['data']);\n",
       "    }\n",
       "\n",
       "    canvas_div.keydown('key_press', canvas_keyboard_event);\n",
       "    canvas_div.keyup('key_release', canvas_keyboard_event);\n",
       "    this.canvas_div = canvas_div\n",
       "    this._canvas_extra_style(canvas_div)\n",
       "    this.root.append(canvas_div);\n",
       "\n",
       "    var canvas = $('<canvas/>');\n",
       "    canvas.addClass('mpl-canvas');\n",
       "    canvas.attr('style', \"left: 0; top: 0; z-index: 0; outline: 0\")\n",
       "\n",
       "    this.canvas = canvas[0];\n",
       "    this.context = canvas[0].getContext(\"2d\");\n",
       "\n",
       "    var backingStore = this.context.backingStorePixelRatio ||\n",
       "\tthis.context.webkitBackingStorePixelRatio ||\n",
       "\tthis.context.mozBackingStorePixelRatio ||\n",
       "\tthis.context.msBackingStorePixelRatio ||\n",
       "\tthis.context.oBackingStorePixelRatio ||\n",
       "\tthis.context.backingStorePixelRatio || 1;\n",
       "\n",
       "    mpl.ratio = (window.devicePixelRatio || 1) / backingStore;\n",
       "\n",
       "    var rubberband = $('<canvas/>');\n",
       "    rubberband.attr('style', \"position: absolute; left: 0; top: 0; z-index: 1;\")\n",
       "\n",
       "    var pass_mouse_events = true;\n",
       "\n",
       "    canvas_div.resizable({\n",
       "        start: function(event, ui) {\n",
       "            pass_mouse_events = false;\n",
       "        },\n",
       "        resize: function(event, ui) {\n",
       "            fig.request_resize(ui.size.width, ui.size.height);\n",
       "        },\n",
       "        stop: function(event, ui) {\n",
       "            pass_mouse_events = true;\n",
       "            fig.request_resize(ui.size.width, ui.size.height);\n",
       "        },\n",
       "    });\n",
       "\n",
       "    function mouse_event_fn(event) {\n",
       "        if (pass_mouse_events)\n",
       "            return fig.mouse_event(event, event['data']);\n",
       "    }\n",
       "\n",
       "    rubberband.mousedown('button_press', mouse_event_fn);\n",
       "    rubberband.mouseup('button_release', mouse_event_fn);\n",
       "    // Throttle sequential mouse events to 1 every 20ms.\n",
       "    rubberband.mousemove('motion_notify', mouse_event_fn);\n",
       "\n",
       "    rubberband.mouseenter('figure_enter', mouse_event_fn);\n",
       "    rubberband.mouseleave('figure_leave', mouse_event_fn);\n",
       "\n",
       "    canvas_div.on(\"wheel\", function (event) {\n",
       "        event = event.originalEvent;\n",
       "        event['data'] = 'scroll'\n",
       "        if (event.deltaY < 0) {\n",
       "            event.step = 1;\n",
       "        } else {\n",
       "            event.step = -1;\n",
       "        }\n",
       "        mouse_event_fn(event);\n",
       "    });\n",
       "\n",
       "    canvas_div.append(canvas);\n",
       "    canvas_div.append(rubberband);\n",
       "\n",
       "    this.rubberband = rubberband;\n",
       "    this.rubberband_canvas = rubberband[0];\n",
       "    this.rubberband_context = rubberband[0].getContext(\"2d\");\n",
       "    this.rubberband_context.strokeStyle = \"#000000\";\n",
       "\n",
       "    this._resize_canvas = function(width, height) {\n",
       "        // Keep the size of the canvas, canvas container, and rubber band\n",
       "        // canvas in synch.\n",
       "        canvas_div.css('width', width)\n",
       "        canvas_div.css('height', height)\n",
       "\n",
       "        canvas.attr('width', width * mpl.ratio);\n",
       "        canvas.attr('height', height * mpl.ratio);\n",
       "        canvas.attr('style', 'width: ' + width + 'px; height: ' + height + 'px;');\n",
       "\n",
       "        rubberband.attr('width', width);\n",
       "        rubberband.attr('height', height);\n",
       "    }\n",
       "\n",
       "    // Set the figure to an initial 600x600px, this will subsequently be updated\n",
       "    // upon first draw.\n",
       "    this._resize_canvas(600, 600);\n",
       "\n",
       "    // Disable right mouse context menu.\n",
       "    $(this.rubberband_canvas).bind(\"contextmenu\",function(e){\n",
       "        return false;\n",
       "    });\n",
       "\n",
       "    function set_focus () {\n",
       "        canvas.focus();\n",
       "        canvas_div.focus();\n",
       "    }\n",
       "\n",
       "    window.setTimeout(set_focus, 100);\n",
       "}\n",
       "\n",
       "mpl.figure.prototype._init_toolbar = function() {\n",
       "    var fig = this;\n",
       "\n",
       "    var nav_element = $('<div/>')\n",
       "    nav_element.attr('style', 'width: 100%');\n",
       "    this.root.append(nav_element);\n",
       "\n",
       "    // Define a callback function for later on.\n",
       "    function toolbar_event(event) {\n",
       "        return fig.toolbar_button_onclick(event['data']);\n",
       "    }\n",
       "    function toolbar_mouse_event(event) {\n",
       "        return fig.toolbar_button_onmouseover(event['data']);\n",
       "    }\n",
       "\n",
       "    for(var toolbar_ind in mpl.toolbar_items) {\n",
       "        var name = mpl.toolbar_items[toolbar_ind][0];\n",
       "        var tooltip = mpl.toolbar_items[toolbar_ind][1];\n",
       "        var image = mpl.toolbar_items[toolbar_ind][2];\n",
       "        var method_name = mpl.toolbar_items[toolbar_ind][3];\n",
       "\n",
       "        if (!name) {\n",
       "            // put a spacer in here.\n",
       "            continue;\n",
       "        }\n",
       "        var button = $('<button/>');\n",
       "        button.addClass('ui-button ui-widget ui-state-default ui-corner-all ' +\n",
       "                        'ui-button-icon-only');\n",
       "        button.attr('role', 'button');\n",
       "        button.attr('aria-disabled', 'false');\n",
       "        button.click(method_name, toolbar_event);\n",
       "        button.mouseover(tooltip, toolbar_mouse_event);\n",
       "\n",
       "        var icon_img = $('<span/>');\n",
       "        icon_img.addClass('ui-button-icon-primary ui-icon');\n",
       "        icon_img.addClass(image);\n",
       "        icon_img.addClass('ui-corner-all');\n",
       "\n",
       "        var tooltip_span = $('<span/>');\n",
       "        tooltip_span.addClass('ui-button-text');\n",
       "        tooltip_span.html(tooltip);\n",
       "\n",
       "        button.append(icon_img);\n",
       "        button.append(tooltip_span);\n",
       "\n",
       "        nav_element.append(button);\n",
       "    }\n",
       "\n",
       "    var fmt_picker_span = $('<span/>');\n",
       "\n",
       "    var fmt_picker = $('<select/>');\n",
       "    fmt_picker.addClass('mpl-toolbar-option ui-widget ui-widget-content');\n",
       "    fmt_picker_span.append(fmt_picker);\n",
       "    nav_element.append(fmt_picker_span);\n",
       "    this.format_dropdown = fmt_picker[0];\n",
       "\n",
       "    for (var ind in mpl.extensions) {\n",
       "        var fmt = mpl.extensions[ind];\n",
       "        var option = $(\n",
       "            '<option/>', {selected: fmt === mpl.default_extension}).html(fmt);\n",
       "        fmt_picker.append(option)\n",
       "    }\n",
       "\n",
       "    // Add hover states to the ui-buttons\n",
       "    $( \".ui-button\" ).hover(\n",
       "        function() { $(this).addClass(\"ui-state-hover\");},\n",
       "        function() { $(this).removeClass(\"ui-state-hover\");}\n",
       "    );\n",
       "\n",
       "    var status_bar = $('<span class=\"mpl-message\"/>');\n",
       "    nav_element.append(status_bar);\n",
       "    this.message = status_bar[0];\n",
       "}\n",
       "\n",
       "mpl.figure.prototype.request_resize = function(x_pixels, y_pixels) {\n",
       "    // Request matplotlib to resize the figure. Matplotlib will then trigger a resize in the client,\n",
       "    // which will in turn request a refresh of the image.\n",
       "    this.send_message('resize', {'width': x_pixels, 'height': y_pixels});\n",
       "}\n",
       "\n",
       "mpl.figure.prototype.send_message = function(type, properties) {\n",
       "    properties['type'] = type;\n",
       "    properties['figure_id'] = this.id;\n",
       "    this.ws.send(JSON.stringify(properties));\n",
       "}\n",
       "\n",
       "mpl.figure.prototype.send_draw_message = function() {\n",
       "    if (!this.waiting) {\n",
       "        this.waiting = true;\n",
       "        this.ws.send(JSON.stringify({type: \"draw\", figure_id: this.id}));\n",
       "    }\n",
       "}\n",
       "\n",
       "\n",
       "mpl.figure.prototype.handle_save = function(fig, msg) {\n",
       "    var format_dropdown = fig.format_dropdown;\n",
       "    var format = format_dropdown.options[format_dropdown.selectedIndex].value;\n",
       "    fig.ondownload(fig, format);\n",
       "}\n",
       "\n",
       "\n",
       "mpl.figure.prototype.handle_resize = function(fig, msg) {\n",
       "    var size = msg['size'];\n",
       "    if (size[0] != fig.canvas.width || size[1] != fig.canvas.height) {\n",
       "        fig._resize_canvas(size[0], size[1]);\n",
       "        fig.send_message(\"refresh\", {});\n",
       "    };\n",
       "}\n",
       "\n",
       "mpl.figure.prototype.handle_rubberband = function(fig, msg) {\n",
       "    var x0 = msg['x0'] / mpl.ratio;\n",
       "    var y0 = (fig.canvas.height - msg['y0']) / mpl.ratio;\n",
       "    var x1 = msg['x1'] / mpl.ratio;\n",
       "    var y1 = (fig.canvas.height - msg['y1']) / mpl.ratio;\n",
       "    x0 = Math.floor(x0) + 0.5;\n",
       "    y0 = Math.floor(y0) + 0.5;\n",
       "    x1 = Math.floor(x1) + 0.5;\n",
       "    y1 = Math.floor(y1) + 0.5;\n",
       "    var min_x = Math.min(x0, x1);\n",
       "    var min_y = Math.min(y0, y1);\n",
       "    var width = Math.abs(x1 - x0);\n",
       "    var height = Math.abs(y1 - y0);\n",
       "\n",
       "    fig.rubberband_context.clearRect(\n",
       "        0, 0, fig.canvas.width, fig.canvas.height);\n",
       "\n",
       "    fig.rubberband_context.strokeRect(min_x, min_y, width, height);\n",
       "}\n",
       "\n",
       "mpl.figure.prototype.handle_figure_label = function(fig, msg) {\n",
       "    // Updates the figure title.\n",
       "    fig.header.textContent = msg['label'];\n",
       "}\n",
       "\n",
       "mpl.figure.prototype.handle_cursor = function(fig, msg) {\n",
       "    var cursor = msg['cursor'];\n",
       "    switch(cursor)\n",
       "    {\n",
       "    case 0:\n",
       "        cursor = 'pointer';\n",
       "        break;\n",
       "    case 1:\n",
       "        cursor = 'default';\n",
       "        break;\n",
       "    case 2:\n",
       "        cursor = 'crosshair';\n",
       "        break;\n",
       "    case 3:\n",
       "        cursor = 'move';\n",
       "        break;\n",
       "    }\n",
       "    fig.rubberband_canvas.style.cursor = cursor;\n",
       "}\n",
       "\n",
       "mpl.figure.prototype.handle_message = function(fig, msg) {\n",
       "    fig.message.textContent = msg['message'];\n",
       "}\n",
       "\n",
       "mpl.figure.prototype.handle_draw = function(fig, msg) {\n",
       "    // Request the server to send over a new figure.\n",
       "    fig.send_draw_message();\n",
       "}\n",
       "\n",
       "mpl.figure.prototype.handle_image_mode = function(fig, msg) {\n",
       "    fig.image_mode = msg['mode'];\n",
       "}\n",
       "\n",
       "mpl.figure.prototype.updated_canvas_event = function() {\n",
       "    // Called whenever the canvas gets updated.\n",
       "    this.send_message(\"ack\", {});\n",
       "}\n",
       "\n",
       "// A function to construct a web socket function for onmessage handling.\n",
       "// Called in the figure constructor.\n",
       "mpl.figure.prototype._make_on_message_function = function(fig) {\n",
       "    return function socket_on_message(evt) {\n",
       "        if (evt.data instanceof Blob) {\n",
       "            /* FIXME: We get \"Resource interpreted as Image but\n",
       "             * transferred with MIME type text/plain:\" errors on\n",
       "             * Chrome.  But how to set the MIME type?  It doesn't seem\n",
       "             * to be part of the websocket stream */\n",
       "            evt.data.type = \"image/png\";\n",
       "\n",
       "            /* Free the memory for the previous frames */\n",
       "            if (fig.imageObj.src) {\n",
       "                (window.URL || window.webkitURL).revokeObjectURL(\n",
       "                    fig.imageObj.src);\n",
       "            }\n",
       "\n",
       "            fig.imageObj.src = (window.URL || window.webkitURL).createObjectURL(\n",
       "                evt.data);\n",
       "            fig.updated_canvas_event();\n",
       "            fig.waiting = false;\n",
       "            return;\n",
       "        }\n",
       "        else if (typeof evt.data === 'string' && evt.data.slice(0, 21) == \"data:image/png;base64\") {\n",
       "            fig.imageObj.src = evt.data;\n",
       "            fig.updated_canvas_event();\n",
       "            fig.waiting = false;\n",
       "            return;\n",
       "        }\n",
       "\n",
       "        var msg = JSON.parse(evt.data);\n",
       "        var msg_type = msg['type'];\n",
       "\n",
       "        // Call the  \"handle_{type}\" callback, which takes\n",
       "        // the figure and JSON message as its only arguments.\n",
       "        try {\n",
       "            var callback = fig[\"handle_\" + msg_type];\n",
       "        } catch (e) {\n",
       "            console.log(\"No handler for the '\" + msg_type + \"' message type: \", msg);\n",
       "            return;\n",
       "        }\n",
       "\n",
       "        if (callback) {\n",
       "            try {\n",
       "                // console.log(\"Handling '\" + msg_type + \"' message: \", msg);\n",
       "                callback(fig, msg);\n",
       "            } catch (e) {\n",
       "                console.log(\"Exception inside the 'handler_\" + msg_type + \"' callback:\", e, e.stack, msg);\n",
       "            }\n",
       "        }\n",
       "    };\n",
       "}\n",
       "\n",
       "// from http://stackoverflow.com/questions/1114465/getting-mouse-location-in-canvas\n",
       "mpl.findpos = function(e) {\n",
       "    //this section is from http://www.quirksmode.org/js/events_properties.html\n",
       "    var targ;\n",
       "    if (!e)\n",
       "        e = window.event;\n",
       "    if (e.target)\n",
       "        targ = e.target;\n",
       "    else if (e.srcElement)\n",
       "        targ = e.srcElement;\n",
       "    if (targ.nodeType == 3) // defeat Safari bug\n",
       "        targ = targ.parentNode;\n",
       "\n",
       "    // jQuery normalizes the pageX and pageY\n",
       "    // pageX,Y are the mouse positions relative to the document\n",
       "    // offset() returns the position of the element relative to the document\n",
       "    var x = e.pageX - $(targ).offset().left;\n",
       "    var y = e.pageY - $(targ).offset().top;\n",
       "\n",
       "    return {\"x\": x, \"y\": y};\n",
       "};\n",
       "\n",
       "/*\n",
       " * return a copy of an object with only non-object keys\n",
       " * we need this to avoid circular references\n",
       " * http://stackoverflow.com/a/24161582/3208463\n",
       " */\n",
       "function simpleKeys (original) {\n",
       "  return Object.keys(original).reduce(function (obj, key) {\n",
       "    if (typeof original[key] !== 'object')\n",
       "        obj[key] = original[key]\n",
       "    return obj;\n",
       "  }, {});\n",
       "}\n",
       "\n",
       "mpl.figure.prototype.mouse_event = function(event, name) {\n",
       "    var canvas_pos = mpl.findpos(event)\n",
       "\n",
       "    if (name === 'button_press')\n",
       "    {\n",
       "        this.canvas.focus();\n",
       "        this.canvas_div.focus();\n",
       "    }\n",
       "\n",
       "    var x = canvas_pos.x * mpl.ratio;\n",
       "    var y = canvas_pos.y * mpl.ratio;\n",
       "\n",
       "    this.send_message(name, {x: x, y: y, button: event.button,\n",
       "                             step: event.step,\n",
       "                             guiEvent: simpleKeys(event)});\n",
       "\n",
       "    /* This prevents the web browser from automatically changing to\n",
       "     * the text insertion cursor when the button is pressed.  We want\n",
       "     * to control all of the cursor setting manually through the\n",
       "     * 'cursor' event from matplotlib */\n",
       "    event.preventDefault();\n",
       "    return false;\n",
       "}\n",
       "\n",
       "mpl.figure.prototype._key_event_extra = function(event, name) {\n",
       "    // Handle any extra behaviour associated with a key event\n",
       "}\n",
       "\n",
       "mpl.figure.prototype.key_event = function(event, name) {\n",
       "\n",
       "    // Prevent repeat events\n",
       "    if (name == 'key_press')\n",
       "    {\n",
       "        if (event.which === this._key)\n",
       "            return;\n",
       "        else\n",
       "            this._key = event.which;\n",
       "    }\n",
       "    if (name == 'key_release')\n",
       "        this._key = null;\n",
       "\n",
       "    var value = '';\n",
       "    if (event.ctrlKey && event.which != 17)\n",
       "        value += \"ctrl+\";\n",
       "    if (event.altKey && event.which != 18)\n",
       "        value += \"alt+\";\n",
       "    if (event.shiftKey && event.which != 16)\n",
       "        value += \"shift+\";\n",
       "\n",
       "    value += 'k';\n",
       "    value += event.which.toString();\n",
       "\n",
       "    this._key_event_extra(event, name);\n",
       "\n",
       "    this.send_message(name, {key: value,\n",
       "                             guiEvent: simpleKeys(event)});\n",
       "    return false;\n",
       "}\n",
       "\n",
       "mpl.figure.prototype.toolbar_button_onclick = function(name) {\n",
       "    if (name == 'download') {\n",
       "        this.handle_save(this, null);\n",
       "    } else {\n",
       "        this.send_message(\"toolbar_button\", {name: name});\n",
       "    }\n",
       "};\n",
       "\n",
       "mpl.figure.prototype.toolbar_button_onmouseover = function(tooltip) {\n",
       "    this.message.textContent = tooltip;\n",
       "};\n",
       "mpl.toolbar_items = [[\"Home\", \"Reset original view\", \"fa fa-home icon-home\", \"home\"], [\"Back\", \"Back to  previous view\", \"fa fa-arrow-left icon-arrow-left\", \"back\"], [\"Forward\", \"Forward to next view\", \"fa fa-arrow-right icon-arrow-right\", \"forward\"], [\"\", \"\", \"\", \"\"], [\"Pan\", \"Pan axes with left mouse, zoom with right\", \"fa fa-arrows icon-move\", \"pan\"], [\"Zoom\", \"Zoom to rectangle\", \"fa fa-square-o icon-check-empty\", \"zoom\"], [\"\", \"\", \"\", \"\"], [\"Download\", \"Download plot\", \"fa fa-floppy-o icon-save\", \"download\"]];\n",
       "\n",
       "mpl.extensions = [\"eps\", \"pdf\", \"png\", \"ps\", \"raw\", \"svg\"];\n",
       "\n",
       "mpl.default_extension = \"png\";var comm_websocket_adapter = function(comm) {\n",
       "    // Create a \"websocket\"-like object which calls the given IPython comm\n",
       "    // object with the appropriate methods. Currently this is a non binary\n",
       "    // socket, so there is still some room for performance tuning.\n",
       "    var ws = {};\n",
       "\n",
       "    ws.close = function() {\n",
       "        comm.close()\n",
       "    };\n",
       "    ws.send = function(m) {\n",
       "        //console.log('sending', m);\n",
       "        comm.send(m);\n",
       "    };\n",
       "    // Register the callback with on_msg.\n",
       "    comm.on_msg(function(msg) {\n",
       "        //console.log('receiving', msg['content']['data'], msg);\n",
       "        // Pass the mpl event to the overriden (by mpl) onmessage function.\n",
       "        ws.onmessage(msg['content']['data'])\n",
       "    });\n",
       "    return ws;\n",
       "}\n",
       "\n",
       "mpl.mpl_figure_comm = function(comm, msg) {\n",
       "    // This is the function which gets called when the mpl process\n",
       "    // starts-up an IPython Comm through the \"matplotlib\" channel.\n",
       "\n",
       "    var id = msg.content.data.id;\n",
       "    // Get hold of the div created by the display call when the Comm\n",
       "    // socket was opened in Python.\n",
       "    var element = $(\"#\" + id);\n",
       "    var ws_proxy = comm_websocket_adapter(comm)\n",
       "\n",
       "    function ondownload(figure, format) {\n",
       "        window.open(figure.imageObj.src);\n",
       "    }\n",
       "\n",
       "    var fig = new mpl.figure(id, ws_proxy,\n",
       "                           ondownload,\n",
       "                           element.get(0));\n",
       "\n",
       "    // Call onopen now - mpl needs it, as it is assuming we've passed it a real\n",
       "    // web socket which is closed, not our websocket->open comm proxy.\n",
       "    ws_proxy.onopen();\n",
       "\n",
       "    fig.parent_element = element.get(0);\n",
       "    fig.cell_info = mpl.find_output_cell(\"<div id='\" + id + \"'></div>\");\n",
       "    if (!fig.cell_info) {\n",
       "        console.error(\"Failed to find cell for figure\", id, fig);\n",
       "        return;\n",
       "    }\n",
       "\n",
       "    var output_index = fig.cell_info[2]\n",
       "    var cell = fig.cell_info[0];\n",
       "\n",
       "};\n",
       "\n",
       "mpl.figure.prototype.handle_close = function(fig, msg) {\n",
       "    var width = fig.canvas.width/mpl.ratio\n",
       "    fig.root.unbind('remove')\n",
       "\n",
       "    // Update the output cell to use the data from the current canvas.\n",
       "    fig.push_to_output();\n",
       "    var dataURL = fig.canvas.toDataURL();\n",
       "    // Re-enable the keyboard manager in IPython - without this line, in FF,\n",
       "    // the notebook keyboard shortcuts fail.\n",
       "    IPython.keyboard_manager.enable()\n",
       "    $(fig.parent_element).html('<img src=\"' + dataURL + '\" width=\"' + width + '\">');\n",
       "    fig.close_ws(fig, msg);\n",
       "}\n",
       "\n",
       "mpl.figure.prototype.close_ws = function(fig, msg){\n",
       "    fig.send_message('closing', msg);\n",
       "    // fig.ws.close()\n",
       "}\n",
       "\n",
       "mpl.figure.prototype.push_to_output = function(remove_interactive) {\n",
       "    // Turn the data on the canvas into data in the output cell.\n",
       "    var width = this.canvas.width/mpl.ratio\n",
       "    var dataURL = this.canvas.toDataURL();\n",
       "    this.cell_info[1]['text/html'] = '<img src=\"' + dataURL + '\" width=\"' + width + '\">';\n",
       "}\n",
       "\n",
       "mpl.figure.prototype.updated_canvas_event = function() {\n",
       "    // Tell IPython that the notebook contents must change.\n",
       "    IPython.notebook.set_dirty(true);\n",
       "    this.send_message(\"ack\", {});\n",
       "    var fig = this;\n",
       "    // Wait a second, then push the new image to the DOM so\n",
       "    // that it is saved nicely (might be nice to debounce this).\n",
       "    setTimeout(function () { fig.push_to_output() }, 1000);\n",
       "}\n",
       "\n",
       "mpl.figure.prototype._init_toolbar = function() {\n",
       "    var fig = this;\n",
       "\n",
       "    var nav_element = $('<div/>')\n",
       "    nav_element.attr('style', 'width: 100%');\n",
       "    this.root.append(nav_element);\n",
       "\n",
       "    // Define a callback function for later on.\n",
       "    function toolbar_event(event) {\n",
       "        return fig.toolbar_button_onclick(event['data']);\n",
       "    }\n",
       "    function toolbar_mouse_event(event) {\n",
       "        return fig.toolbar_button_onmouseover(event['data']);\n",
       "    }\n",
       "\n",
       "    for(var toolbar_ind in mpl.toolbar_items){\n",
       "        var name = mpl.toolbar_items[toolbar_ind][0];\n",
       "        var tooltip = mpl.toolbar_items[toolbar_ind][1];\n",
       "        var image = mpl.toolbar_items[toolbar_ind][2];\n",
       "        var method_name = mpl.toolbar_items[toolbar_ind][3];\n",
       "\n",
       "        if (!name) { continue; };\n",
       "\n",
       "        var button = $('<button class=\"btn btn-default\" href=\"#\" title=\"' + name + '\"><i class=\"fa ' + image + ' fa-lg\"></i></button>');\n",
       "        button.click(method_name, toolbar_event);\n",
       "        button.mouseover(tooltip, toolbar_mouse_event);\n",
       "        nav_element.append(button);\n",
       "    }\n",
       "\n",
       "    // Add the status bar.\n",
       "    var status_bar = $('<span class=\"mpl-message\" style=\"text-align:right; float: right;\"/>');\n",
       "    nav_element.append(status_bar);\n",
       "    this.message = status_bar[0];\n",
       "\n",
       "    // Add the close button to the window.\n",
       "    var buttongrp = $('<div class=\"btn-group inline pull-right\"></div>');\n",
       "    var button = $('<button class=\"btn btn-mini btn-primary\" href=\"#\" title=\"Stop Interaction\"><i class=\"fa fa-power-off icon-remove icon-large\"></i></button>');\n",
       "    button.click(function (evt) { fig.handle_close(fig, {}); } );\n",
       "    button.mouseover('Stop Interaction', toolbar_mouse_event);\n",
       "    buttongrp.append(button);\n",
       "    var titlebar = this.root.find($('.ui-dialog-titlebar'));\n",
       "    titlebar.prepend(buttongrp);\n",
       "}\n",
       "\n",
       "mpl.figure.prototype._root_extra_style = function(el){\n",
       "    var fig = this\n",
       "    el.on(\"remove\", function(){\n",
       "\tfig.close_ws(fig, {});\n",
       "    });\n",
       "}\n",
       "\n",
       "mpl.figure.prototype._canvas_extra_style = function(el){\n",
       "    // this is important to make the div 'focusable\n",
       "    el.attr('tabindex', 0)\n",
       "    // reach out to IPython and tell the keyboard manager to turn it's self\n",
       "    // off when our div gets focus\n",
       "\n",
       "    // location in version 3\n",
       "    if (IPython.notebook.keyboard_manager) {\n",
       "        IPython.notebook.keyboard_manager.register_events(el);\n",
       "    }\n",
       "    else {\n",
       "        // location in version 2\n",
       "        IPython.keyboard_manager.register_events(el);\n",
       "    }\n",
       "\n",
       "}\n",
       "\n",
       "mpl.figure.prototype._key_event_extra = function(event, name) {\n",
       "    var manager = IPython.notebook.keyboard_manager;\n",
       "    if (!manager)\n",
       "        manager = IPython.keyboard_manager;\n",
       "\n",
       "    // Check for shift+enter\n",
       "    if (event.shiftKey && event.which == 13) {\n",
       "        this.canvas_div.blur();\n",
       "        event.shiftKey = false;\n",
       "        // Send a \"J\" for go to next cell\n",
       "        event.which = 74;\n",
       "        event.keyCode = 74;\n",
       "        manager.command_mode();\n",
       "        manager.handle_keydown(event);\n",
       "    }\n",
       "}\n",
       "\n",
       "mpl.figure.prototype.handle_save = function(fig, msg) {\n",
       "    fig.ondownload(fig, null);\n",
       "}\n",
       "\n",
       "\n",
       "mpl.find_output_cell = function(html_output) {\n",
       "    // Return the cell and output element which can be found *uniquely* in the notebook.\n",
       "    // Note - this is a bit hacky, but it is done because the \"notebook_saving.Notebook\"\n",
       "    // IPython event is triggered only after the cells have been serialised, which for\n",
       "    // our purposes (turning an active figure into a static one), is too late.\n",
       "    var cells = IPython.notebook.get_cells();\n",
       "    var ncells = cells.length;\n",
       "    for (var i=0; i<ncells; i++) {\n",
       "        var cell = cells[i];\n",
       "        if (cell.cell_type === 'code'){\n",
       "            for (var j=0; j<cell.output_area.outputs.length; j++) {\n",
       "                var data = cell.output_area.outputs[j];\n",
       "                if (data.data) {\n",
       "                    // IPython >= 3 moved mimebundle to data attribute of output\n",
       "                    data = data.data;\n",
       "                }\n",
       "                if (data['text/html'] == html_output) {\n",
       "                    return [cell, data, j];\n",
       "                }\n",
       "            }\n",
       "        }\n",
       "    }\n",
       "}\n",
       "\n",
       "// Register the function which deals with the matplotlib target/channel.\n",
       "// The kernel may be null if the page has been refreshed.\n",
       "if (IPython.notebook.kernel != null) {\n",
       "    IPython.notebook.kernel.comm_manager.register_target('matplotlib', mpl.mpl_figure_comm);\n",
       "}\n"
      ],
      "text/plain": [
       "<IPython.core.display.Javascript object>"
      ]
     },
     "metadata": {},
     "output_type": "display_data"
    },
    {
     "data": {
      "text/html": [
       "<img src=\"data:image/png;base64,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\" width=\"640\">"
      ],
      "text/plain": [
       "<IPython.core.display.HTML object>"
      ]
     },
     "metadata": {},
     "output_type": "display_data"
    }
   ],
   "source": [
    "figure()\n",
    "nx.draw(G, labels = names,font_size = 8,node_size = 50,edge_color = 'gray')"
   ]
  },
  {
   "cell_type": "code",
   "execution_count": 100,
   "metadata": {
    "ExecuteTime": {
     "end_time": "2018-06-08T13:36:13.570135Z",
     "start_time": "2018-06-08T13:36:13.549188Z"
    }
   },
   "outputs": [
    {
     "name": "stdout",
     "output_type": "stream",
     "text": [
      "Try different values of alpha in [0,1] and interpret the results.\n"
     ]
    }
   ],
   "source": [
    "get_question(4)"
   ]
  },
  {
   "cell_type": "code",
   "execution_count": 143,
   "metadata": {
    "ExecuteTime": {
     "end_time": "2018-06-08T13:58:23.509602Z",
     "start_time": "2018-06-08T13:58:23.499630Z"
    }
   },
   "outputs": [],
   "source": [
    "dictx = dict()\n",
    "for x in G.edges(data=True):\n",
    "    if(x[0] not in dictx):\n",
    "        dictx[x[0]] = x[2]['weight']\n",
    "    else:\n",
    "        dictx[x[0]] += x[2]['weight']\n",
    "    if(x[1] not in dictx):\n",
    "        dictx[x[1]] = x[2]['weight']\n",
    "    else:\n",
    "        dictx[x[1]] += x[2]['weight']"
   ]
  },
  {
   "cell_type": "code",
   "execution_count": 144,
   "metadata": {
    "ExecuteTime": {
     "end_time": "2018-06-08T13:58:24.050158Z",
     "start_time": "2018-06-08T13:58:24.044175Z"
    }
   },
   "outputs": [
    {
     "data": {
      "text/plain": [
       "[(11, 158),\n",
       " (55, 104),\n",
       " (58, 91),\n",
       " (62, 84),\n",
       " (26, 68),\n",
       " (59, 68),\n",
       " (64, 66),\n",
       " (25, 61),\n",
       " (48, 56),\n",
       " (23, 47)]"
      ]
     },
     "execution_count": 144,
     "metadata": {},
     "output_type": "execute_result"
    }
   ],
   "source": [
    "x = sorted(dictx.items(), key=operator.itemgetter(1), reverse=True)[:10]\n"
   ]
  },
  {
   "cell_type": "code",
   "execution_count": 145,
   "metadata": {
    "ExecuteTime": {
     "end_time": "2018-06-08T13:58:24.946787Z",
     "start_time": "2018-06-08T13:58:24.940804Z"
    }
   },
   "outputs": [
    {
     "data": {
      "text/plain": [
       "[(11, 36),\n",
       " (48, 22),\n",
       " (55, 19),\n",
       " (27, 17),\n",
       " (25, 16),\n",
       " (23, 15),\n",
       " (58, 15),\n",
       " (62, 13),\n",
       " (64, 13),\n",
       " (63, 12)]"
      ]
     },
     "execution_count": 145,
     "metadata": {},
     "output_type": "execute_result"
    }
   ],
   "source": [
    "sorted(dict(G.degree()).items(), key=operator.itemgetter(1), reverse=True)[:10]"
   ]
  },
  {
   "cell_type": "code",
   "execution_count": 156,
   "metadata": {
    "ExecuteTime": {
     "end_time": "2018-06-08T14:04:29.410241Z",
     "start_time": "2018-06-08T14:04:29.182848Z"
    }
   },
   "outputs": [
    {
     "name": "stdout",
     "output_type": "stream",
     "text": [
      "\n",
      "0 \t [0, 1, 2, 3, 4, 5, 6, 7, 8, 9]\n",
      "1 \t [11, 0, 25, 55, 48, 23, 51, 58, 26, 62]\n",
      "2 \t [11, 0, 55, 25, 48, 23, 51, 58, 26, 62]\n",
      "3 \t [11, 0, 55, 25, 48, 23, 26, 58, 51, 27]\n",
      "4 \t [11, 0, 55, 25, 48, 26, 23, 58, 62, 27]\n",
      "5 \t [11, 0, 55, 25, 26, 48, 23, 58, 62, 27]\n",
      "6 \t [11, 0, 55, 25, 26, 58, 48, 23, 62, 27]\n",
      "7 \t [11, 0, 55, 25, 26, 58, 48, 62, 23, 27]\n",
      "8 \t [11, 55, 0, 26, 25, 58, 62, 48, 23, 27]\n",
      "9 \t [11, 55, 58, 26, 62, 25, 0, 59, 48, 64]\n",
      "10 \t [11, 55, 58, 62, 26, 59, 64, 25, 48, 23]\n"
     ]
    }
   ],
   "source": [
    "print()\n",
    "for x in range(0,11):\n",
    "    A = nx.pagerank(G, alpha = x * 0.1) \n",
    "    top10 = heapq.nlargest(10, A, key=A.get) \n",
    "    print(x,'\\t', top10)\n",
    "# \n",
    "# a = \n",
    "# b = \n",
    "# c = heapq.nlargest(10, nx.pagerank(G, alpha = 0.5).items(), key=A.get)\n",
    "# d = heapq.nlargest(10, nx.pagerank(G, alpha = 0.8).items(), key=A.get)\n",
    "# print(a)\n",
    "# print(b)\n",
    "# print(c)\n",
    "# print(d)\n"
   ]
  },
  {
   "cell_type": "code",
   "execution_count": 290,
   "metadata": {
    "ExecuteTime": {
     "end_time": "2018-06-08T14:50:16.541692Z",
     "start_time": "2018-06-08T14:50:16.522744Z"
    }
   },
   "outputs": [
    {
     "data": {
      "application/vnd.jupyter.widget-view+json": {
       "model_id": "8ff6122f35b4413da559307162e9cb6f",
       "version_major": 2,
       "version_minor": 0
      },
      "text/html": [
       "<p>Failed to display Jupyter Widget of type <code>Textarea</code>.</p>\n",
       "<p>\n",
       "  If you're reading this message in the Jupyter Notebook or JupyterLab Notebook, it may mean\n",
       "  that the widgets JavaScript is still loading. If this message persists, it\n",
       "  likely means that the widgets JavaScript library is either not installed or\n",
       "  not enabled. See the <a href=\"https://ipywidgets.readthedocs.io/en/stable/user_install.html\">Jupyter\n",
       "  Widgets Documentation</a> for setup instructions.\n",
       "</p>\n",
       "<p>\n",
       "  If you're reading this message in another frontend (for example, a static\n",
       "  rendering on GitHub or <a href=\"https://nbviewer.jupyter.org/\">NBViewer</a>),\n",
       "  it may mean that your frontend doesn't currently support widgets.\n",
       "</p>\n"
      ],
      "text/plain": [
       "Textarea(value='...')"
      ]
     },
     "metadata": {},
     "output_type": "display_data"
    },
    {
     "data": {
      "application/vnd.jupyter.widget-view+json": {
       "model_id": "354cf88c5f4643e89ee69e2d14fc22b5",
       "version_major": 2,
       "version_minor": 0
      },
      "text/html": [
       "<p>Failed to display Jupyter Widget of type <code>Button</code>.</p>\n",
       "<p>\n",
       "  If you're reading this message in the Jupyter Notebook or JupyterLab Notebook, it may mean\n",
       "  that the widgets JavaScript is still loading. If this message persists, it\n",
       "  likely means that the widgets JavaScript library is either not installed or\n",
       "  not enabled. See the <a href=\"https://ipywidgets.readthedocs.io/en/stable/user_install.html\">Jupyter\n",
       "  Widgets Documentation</a> for setup instructions.\n",
       "</p>\n",
       "<p>\n",
       "  If you're reading this message in another frontend (for example, a static\n",
       "  rendering on GitHub or <a href=\"https://nbviewer.jupyter.org/\">NBViewer</a>),\n",
       "  it may mean that your frontend doesn't currently support widgets.\n",
       "</p>\n"
      ],
      "text/plain": [
       "Button(description='Send', style=ButtonStyle())"
      ]
     },
     "metadata": {},
     "output_type": "display_data"
    },
    {
     "name": "stdout",
     "output_type": "stream",
     "text": [
      "Answer posted\n"
     ]
    }
   ],
   "source": [
    "post_text(4)"
   ]
  },
  {
   "cell_type": "code",
   "execution_count": null,
   "metadata": {},
   "outputs": [],
   "source": []
  },
  {
   "cell_type": "code",
   "execution_count": null,
   "metadata": {},
   "outputs": [],
   "source": []
  },
  {
   "cell_type": "markdown",
   "metadata": {},
   "source": [
    "## To do\n",
    "\n",
    "* List the 10 best ranked nodes of Wikipedia for Schools\n",
    "* Compare with the 10 nodes of highest out-degrees and the 10 nodes of highest in-degrees\n",
    "* Answer question #5 **(0.5 point)**"
   ]
  },
  {
   "cell_type": "code",
   "execution_count": 178,
   "metadata": {
    "ExecuteTime": {
     "end_time": "2018-06-08T14:18:33.568403Z",
     "start_time": "2018-06-08T14:18:31.463016Z"
    }
   },
   "outputs": [],
   "source": [
    "G = nx.read_graphml(\"wikipedia-schools.graphml\", node_type = int)\n",
    "names = nx.get_node_attributes(G, 'name')"
   ]
  },
  {
   "cell_type": "code",
   "execution_count": 177,
   "metadata": {
    "ExecuteTime": {
     "end_time": "2018-06-08T14:18:19.091137Z",
     "start_time": "2018-06-08T14:18:19.073158Z"
    }
   },
   "outputs": [
    {
     "name": "stdout",
     "output_type": "stream",
     "text": [
      "Which article of Wikipedia for School is in the top-10 in terms of PageRank but not in the top-10 in terms of in-degree?\n",
      "(Enter a string)\n"
     ]
    }
   ],
   "source": [
    "get_question(5)"
   ]
  },
  {
   "cell_type": "code",
   "execution_count": 182,
   "metadata": {
    "ExecuteTime": {
     "end_time": "2018-06-08T14:19:58.429655Z",
     "start_time": "2018-06-08T14:19:58.424631Z"
    }
   },
   "outputs": [],
   "source": [
    "in_degree = dict(G.in_degree())\n",
    "top_degree = heapq.nlargest(10, in_degree, in_degree.get)\n",
    "set_degree = set([names[i] for i in top_degree])"
   ]
  },
  {
   "cell_type": "code",
   "execution_count": 185,
   "metadata": {
    "ExecuteTime": {
     "end_time": "2018-06-08T14:20:59.477403Z",
     "start_time": "2018-06-08T14:20:57.699155Z"
    }
   },
   "outputs": [],
   "source": [
    "pg = dict(nx.pagerank(G, alpha = 0.85))\n",
    "pg = heapq.nlargest(10, pg, pg.get)\n",
    "set_pg = set([names[i] for i in pg])"
   ]
  },
  {
   "cell_type": "code",
   "execution_count": 186,
   "metadata": {
    "ExecuteTime": {
     "end_time": "2018-06-08T14:21:11.272059Z",
     "start_time": "2018-06-08T14:21:11.267073Z"
    }
   },
   "outputs": [
    {
     "data": {
      "text/plain": [
       "{'Latin'}"
      ]
     },
     "execution_count": 186,
     "metadata": {},
     "output_type": "execute_result"
    }
   ],
   "source": [
    "set_pg - set_degree"
   ]
  },
  {
   "cell_type": "code",
   "execution_count": 187,
   "metadata": {
    "ExecuteTime": {
     "end_time": "2018-06-08T14:21:18.846618Z",
     "start_time": "2018-06-08T14:21:18.842630Z"
    }
   },
   "outputs": [],
   "source": [
    "answer = \"Latin\""
   ]
  },
  {
   "cell_type": "code",
   "execution_count": 188,
   "metadata": {
    "ExecuteTime": {
     "end_time": "2018-06-08T14:21:19.337605Z",
     "start_time": "2018-06-08T14:21:19.318637Z"
    }
   },
   "outputs": [
    {
     "name": "stdout",
     "output_type": "stream",
     "text": [
      "This is correct!\n"
     ]
    }
   ],
   "source": [
    "post_answer(5,answer)"
   ]
  },
  {
   "cell_type": "markdown",
   "metadata": {},
   "source": [
    "## 2. Sparse matrices"
   ]
  },
  {
   "cell_type": "markdown",
   "metadata": {},
   "source": [
    "You will now implement your own PageRank algorithm."
   ]
  },
  {
   "cell_type": "markdown",
   "metadata": {},
   "source": [
    "Graphs can be efficiently represented by their (weighted) adjacency matrix in sparse format:"
   ]
  },
  {
   "cell_type": "code",
   "execution_count": 206,
   "metadata": {
    "ExecuteTime": {
     "end_time": "2018-06-08T14:25:53.471631Z",
     "start_time": "2018-06-08T14:25:53.276153Z"
    }
   },
   "outputs": [
    {
     "data": {
      "text/plain": [
       "scipy.sparse.csr.csr_matrix"
      ]
     },
     "execution_count": 206,
     "metadata": {},
     "output_type": "execute_result"
    }
   ],
   "source": [
    "A = nx.adjacency_matrix(G)\n",
    "type(A)"
   ]
  },
  {
   "cell_type": "markdown",
   "metadata": {},
   "source": [
    "If the nodes are not indexed from 0 to $n-1$, you need to keep a list of nodes:"
   ]
  },
  {
   "cell_type": "code",
   "execution_count": 207,
   "metadata": {
    "ExecuteTime": {
     "end_time": "2018-06-08T14:25:53.744898Z",
     "start_time": "2018-06-08T14:25:53.737917Z"
    }
   },
   "outputs": [
    {
     "data": {
      "text/plain": [
       "True"
      ]
     },
     "execution_count": 207,
     "metadata": {},
     "output_type": "execute_result"
    }
   ],
   "source": [
    "nodes = list(G.nodes())\n",
    "n = len(nodes)\n",
    "nodes == list(range(n))"
   ]
  },
  {
   "cell_type": "markdown",
   "metadata": {},
   "source": [
    "The `scipy` Python package provides very efficient methods for matrix-vector multiplications:"
   ]
  },
  {
   "cell_type": "code",
   "execution_count": 208,
   "metadata": {
    "ExecuteTime": {
     "end_time": "2018-06-08T14:25:54.142834Z",
     "start_time": "2018-06-08T14:25:54.133859Z"
    }
   },
   "outputs": [
    {
     "name": "stdout",
     "output_type": "stream",
     "text": [
      "[11. 12. 10. ...  2.  4.  6.]\n",
      "[ 0. 27. 13. ...  0.  0.  0.]\n"
     ]
    }
   ],
   "source": [
    "n = shape(A)[0]\n",
    "x = np.ones(n)\n",
    "# Out-weights\n",
    "print(A.dot(x))\n",
    "# In-weights\n",
    "print(A.T.dot(x))"
   ]
  },
  {
   "cell_type": "markdown",
   "metadata": {},
   "source": [
    "The following function returns the list of non-sink nodes and the (rectangular) transition matrix of the regular random walk from non-sink nodes:"
   ]
  },
  {
   "cell_type": "code",
   "execution_count": 209,
   "metadata": {
    "ExecuteTime": {
     "end_time": "2018-06-08T14:25:56.822450Z",
     "start_time": "2018-06-08T14:25:56.814472Z"
    }
   },
   "outputs": [],
   "source": [
    "def transition_matrix(G):\n",
    "    # index: list of non-sink nodes (as numpy array)\n",
    "    # P: sparse transition matrix of the random walk (from non-sink nodes)\n",
    "    A = nx.adjacency_matrix(G)\n",
    "    n = np.shape(A)[0]\n",
    "    w = A.dot(np.ones(n, float))\n",
    "    index = np.where(w > 0)[0]\n",
    "    D = sp.diags(1. / w[index])\n",
    "    P = D.dot(A[index,:])\n",
    "    return index, P "
   ]
  },
  {
   "cell_type": "code",
   "execution_count": 210,
   "metadata": {
    "ExecuteTime": {
     "end_time": "2018-06-08T14:25:57.506638Z",
     "start_time": "2018-06-08T14:25:57.071783Z"
    }
   },
   "outputs": [
    {
     "data": {
      "text/plain": [
       "(4586, 4591)"
      ]
     },
     "execution_count": 210,
     "metadata": {},
     "output_type": "execute_result"
    }
   ],
   "source": [
    "index, P = transition_matrix(G)\n",
    "shape(P)"
   ]
  },
  {
   "cell_type": "code",
   "execution_count": 211,
   "metadata": {
    "ExecuteTime": {
     "end_time": "2018-06-08T14:25:57.530585Z",
     "start_time": "2018-06-08T14:25:57.524605Z"
    }
   },
   "outputs": [
    {
     "data": {
      "text/plain": [
       "array([1., 1., 1., ..., 1., 1., 1.])"
      ]
     },
     "execution_count": 211,
     "metadata": {},
     "output_type": "execute_result"
    }
   ],
   "source": [
    "n = shape(P)[1]\n",
    "P.dot(np.ones(n))"
   ]
  },
  {
   "cell_type": "code",
   "execution_count": 212,
   "metadata": {
    "ExecuteTime": {
     "end_time": "2018-06-08T14:25:57.555491Z",
     "start_time": "2018-06-08T14:25:57.547512Z"
    }
   },
   "outputs": [
    {
     "data": {
      "text/plain": [
       "array([0.        , 0.09090909, 0.09090909, ..., 0.        , 0.        ,\n",
       "       0.        ])"
      ]
     },
     "execution_count": 212,
     "metadata": {},
     "output_type": "execute_result"
    }
   ],
   "source": [
    "# Move from node s\n",
    "s = 0\n",
    "x = np.zeros(n)\n",
    "x[s] = 1\n",
    "P.T.dot(x[index])"
   ]
  },
  {
   "cell_type": "markdown",
   "metadata": {},
   "source": [
    "## To do\n",
    "\n",
    "* Complete the function `transition` below so that it returns the vector $\\pi$ after $k$ iterations of the update:\n",
    "$$\n",
    "\\pi \\gets \\alpha  P^T \\pi + (1-\\alpha)\\mu,\n",
    "$$\n",
    "where $\\mu$ is the initial / restart distribution and $P$ is the transition matrix with forced restart in $\\mu$ from sink nodes.\n",
    "* Compare the results (ranking and computation time) of your `pagerank` function to those given by `networkx` functions: `pagerank` and `pagerank_scipy`\n",
    "* Answer question #6 **(0.5 point)**"
   ]
  },
  {
   "cell_type": "code",
   "execution_count": 213,
   "metadata": {
    "ExecuteTime": {
     "end_time": "2018-06-08T14:25:59.703231Z",
     "start_time": "2018-06-08T14:25:59.696253Z"
    }
   },
   "outputs": [],
   "source": [
    "def transition(index, P, mu, alpha, k):\n",
    "    # index: list of non-sink nodes (as numpy array)\n",
    "    # P: sparse transition matrix of the random walk (from non-sink nodes)\n",
    "    # mu: initial / restart distribution \n",
    "    # alpha: damping factor\n",
    "    # k: number of iterations\n",
    "    pi = mu\n",
    "    for i in range(k): \n",
    "        pi = alpha * P.T.dot(pi[index]) + (1-alpha) * mu\n",
    "    # to be completed\n",
    "    return pi"
   ]
  },
  {
   "cell_type": "code",
   "execution_count": 214,
   "metadata": {
    "ExecuteTime": {
     "end_time": "2018-06-08T14:25:59.959548Z",
     "start_time": "2018-06-08T14:25:59.942591Z"
    }
   },
   "outputs": [],
   "source": [
    "def pagerank(G, personalization = None, alpha = 0.85, k = 3):\n",
    "    # personalization: dictionary for initial / restart distribution (default = uniform)\n",
    "    # alpha: damping factor\n",
    "    # k: number of iterations\n",
    "    n = G.number_of_nodes()\n",
    "    node_index = {u:i for i,u in enumerate(G.nodes())}\n",
    "    if personalization == None:\n",
    "        mu = np.ones(n,float) / n\n",
    "    else:\n",
    "        mu = np.zeros(n,float)\n",
    "        for u in personalization:\n",
    "            mu[node_index[u]] = personalization[u]\n",
    "    index, P = transition_matrix(G)\n",
    "    pi = transition(index, P, mu, alpha, k)\n",
    "    PR = {u: pi[node_index[u]] for u in G.nodes()}\n",
    "    return PR"
   ]
  },
  {
   "cell_type": "code",
   "execution_count": 215,
   "metadata": {
    "ExecuteTime": {
     "end_time": "2018-06-08T14:26:00.534809Z",
     "start_time": "2018-06-08T14:26:00.515835Z"
    }
   },
   "outputs": [
    {
     "name": "stdout",
     "output_type": "stream",
     "text": [
      "What is the PageRank of the article Japan after k = 2 iterations for alpha = 1?\n",
      "(Enter a float)\n"
     ]
    }
   ],
   "source": [
    "get_question(6)"
   ]
  },
  {
   "cell_type": "code",
   "execution_count": 236,
   "metadata": {
    "ExecuteTime": {
     "end_time": "2018-06-08T14:31:00.843448Z",
     "start_time": "2018-06-08T14:31:00.649967Z"
    }
   },
   "outputs": [],
   "source": [
    "pg_list= pagerank(G, k=3, alpha=1)[285]"
   ]
  },
  {
   "cell_type": "code",
   "execution_count": 237,
   "metadata": {
    "ExecuteTime": {
     "end_time": "2018-06-08T14:31:04.359338Z",
     "start_time": "2018-06-08T14:31:04.355314Z"
    }
   },
   "outputs": [
    {
     "data": {
      "text/plain": [
       "0.004473267676873789"
      ]
     },
     "execution_count": 237,
     "metadata": {},
     "output_type": "execute_result"
    }
   ],
   "source": [
    "pg_list"
   ]
  },
  {
   "cell_type": "code",
   "execution_count": 238,
   "metadata": {
    "ExecuteTime": {
     "end_time": "2018-06-08T14:31:04.642581Z",
     "start_time": "2018-06-08T14:31:04.636562Z"
    }
   },
   "outputs": [
    {
     "name": "stdout",
     "output_type": "stream",
     "text": [
      "(285, {'name': 'Japan'})\n"
     ]
    }
   ],
   "source": [
    "for x in G.nodes(data = True):\n",
    "    if(x[1]['name'] == 'Japan'):\n",
    "        print(x)"
   ]
  },
  {
   "cell_type": "code",
   "execution_count": 240,
   "metadata": {
    "ExecuteTime": {
     "end_time": "2018-06-08T14:31:18.235853Z",
     "start_time": "2018-06-08T14:31:18.213912Z"
    }
   },
   "outputs": [
    {
     "name": "stdout",
     "output_type": "stream",
     "text": [
      "This is correct!\n"
     ]
    }
   ],
   "source": [
    "post_answer(6,0.004473267676873789)"
   ]
  },
  {
   "cell_type": "markdown",
   "metadata": {},
   "source": [
    "## 3. Personalized PageRank"
   ]
  },
  {
   "cell_type": "markdown",
   "metadata": {},
   "source": [
    "Unless otherwise specified, we take the default values $\\alpha = 0.85$ and $k = 3$."
   ]
  },
  {
   "cell_type": "markdown",
   "metadata": {},
   "source": [
    "## To do\n",
    "\n",
    "* Answer questions #7 and #8 **(0.5 point each)**"
   ]
  },
  {
   "cell_type": "code",
   "execution_count": 241,
   "metadata": {
    "ExecuteTime": {
     "end_time": "2018-06-08T14:31:26.257997Z",
     "start_time": "2018-06-08T14:31:26.235056Z"
    }
   },
   "outputs": [
    {
     "name": "stdout",
     "output_type": "stream",
     "text": [
      "What is the best ranked painter relative to Pablo Picasso (other than him) in terms of Personalized PageRank?\n",
      "(Enter a string)\n"
     ]
    }
   ],
   "source": [
    "get_question(7)"
   ]
  },
  {
   "cell_type": "code",
   "execution_count": 255,
   "metadata": {
    "ExecuteTime": {
     "end_time": "2018-06-08T14:39:30.918097Z",
     "start_time": "2018-06-08T14:39:29.158800Z"
    }
   },
   "outputs": [
    {
     "ename": "TypeError",
     "evalue": "cannot convert dictionary update sequence element #0 to a sequence",
     "output_type": "error",
     "traceback": [
      "\u001b[1;31m---------------------------------------------------------------------------\u001b[0m",
      "\u001b[1;31mTypeError\u001b[0m                                 Traceback (most recent call last)",
      "\u001b[1;32m<ipython-input-255-e252eae775fd>\u001b[0m in \u001b[0;36m<module>\u001b[1;34m()\u001b[0m\n\u001b[0;32m      1\u001b[0m \u001b[0mnx\u001b[0m\u001b[1;33m.\u001b[0m\u001b[0mpagerank\u001b[0m\u001b[1;33m(\u001b[0m\u001b[0mG\u001b[0m\u001b[1;33m,\u001b[0m\u001b[0malpha\u001b[0m\u001b[1;33m=\u001b[0m\u001b[1;36m0.85\u001b[0m\u001b[1;33m)\u001b[0m\u001b[1;33m\u001b[0m\u001b[0m\n\u001b[1;32m----> 2\u001b[1;33m \u001b[0mdict\u001b[0m\u001b[1;33m(\u001b[0m\u001b[0mG\u001b[0m\u001b[1;33m.\u001b[0m\u001b[0mneighbors\u001b[0m\u001b[1;33m(\u001b[0m\u001b[1;36m1185\u001b[0m\u001b[1;33m)\u001b[0m\u001b[1;33m)\u001b[0m\u001b[1;33m\u001b[0m\u001b[0m\n\u001b[0m",
      "\u001b[1;31mTypeError\u001b[0m: cannot convert dictionary update sequence element #0 to a sequence"
     ]
    }
   ],
   "source": [
    "nx.pagerank(G,alpha=0.85)\n",
    "dict(G.neighbors(1185)"
   ]
  },
  {
   "cell_type": "code",
   "execution_count": 265,
   "metadata": {
    "ExecuteTime": {
     "end_time": "2018-06-08T14:41:29.118529Z",
     "start_time": "2018-06-08T14:41:29.115523Z"
    }
   },
   "outputs": [],
   "source": [
    "answer = \"Henri_Matisse\""
   ]
  },
  {
   "cell_type": "code",
   "execution_count": 275,
   "metadata": {
    "ExecuteTime": {
     "end_time": "2018-06-08T14:46:34.580000Z",
     "start_time": "2018-06-08T14:46:34.568993Z"
    }
   },
   "outputs": [
    {
     "data": {
      "text/plain": [
       "NodeDataView({0: {'name': 'Aedan_mac_Gabrain'}, 1: {'name': 'Bede'}, 2: {'name': 'Columba'}, 3: {'name': 'Dal_Riata'}, 4: {'name': 'Great_Britain'}, 5: {'name': 'Ireland'}, 6: {'name': 'Isle_of_Man'}, 7: {'name': 'Monarchy'}, 8: {'name': 'Orkney'}, 9: {'name': 'Picts'}, 10: {'name': 'Scotland'}, 11: {'name': 'Wales'}, 12: {'name': 'Aland'}, 13: {'name': '20th_century'}, 14: {'name': 'Baltic_Sea'}, 15: {'name': 'Crimean_War'}, 16: {'name': 'Currency'}, 17: {'name': 'Euro'}, 18: {'name': 'European_Union'}, 19: {'name': 'Finland'}, 20: {'name': 'League_of_Nations'}, 21: {'name': 'List_of_countries_by_system_of_government'}, 22: {'name': 'Nationality'}, 23: {'name': 'Parliamentary_system'}, 24: {'name': 'Police'}, 25: {'name': 'Russia'}, 26: {'name': 'Stockholm'}, 27: {'name': 'Sweden'}, 28: {'name': 'Time_zone'}, 29: {'name': 'Tourism'}, 30: {'name': 'United_Kingdom'}, 31: {'name': 'World_War_II'}, 32: {'name': 'Edouard_Manet'}, 33: {'name': 'Absinthe'}, 34: {'name': 'Beer'}, 35: {'name': 'Claude_Monet'}, 36: {'name': 'Diego_Velazquez'}, 37: {'name': 'Edgar_Allan_Poe'}, 38: {'name': 'France'}, 39: {'name': 'Francisco_Goya'}, 40: {'name': 'Germany'}, 41: {'name': 'Impressionism'}, 42: {'name': 'Italy'}, 43: {'name': 'Landscape'}, 44: {'name': 'Netherlands'}, 45: {'name': 'Painting'}, 46: {'name': 'Paris'}, 47: {'name': 'Photography'}, 48: {'name': 'Raphael'}, 49: {'name': 'Renaissance'}, 50: {'name': 'United_States_dollar'}, 51: {'name': 'Washington,_D.C.'}, 52: {'name': 'Eire'}, 53: {'name': 'Canada'}, 54: {'name': 'English_language'}, 55: {'name': 'George_VI_of_the_United_Kingdom'}, 56: {'name': 'Northern_Ireland'}, 57: {'name': 'Ottawa'}, 58: {'name': 'Republic_of_Ireland'}, 59: {'name': 'Oengus_I_of_the_Picts'}, 60: {'name': 'Durham'}, 61: {'name': 'England'}, 62: {'name': 'Lion'}, 63: {'name': 'Mercia'}, 64: {'name': 'Viking'}, 65: {'name': 'York'}, 66: {'name': 'EUR2_commemorative_coins'}, 67: {'name': 'Athens'}, 68: {'name': 'Atlantic_Ocean'}, 69: {'name': 'Austria'}, 70: {'name': 'Belgium'}, 71: {'name': 'Berlin'}, 72: {'name': 'Brussels'}, 73: {'name': 'Cathedral_of_Magdeburg'}, 74: {'name': 'Cereal'}, 75: {'name': 'Christopher_Columbus'}, 76: {'name': 'Cologne'}, 77: {'name': 'Comet'}, 78: {'name': 'Dresden'}, 79: {'name': 'Galileo_Galilei'}, 80: {'name': 'Greece'}, 81: {'name': 'Hamburg'}, 82: {'name': 'Harold_Macmillan'}, 83: {'name': 'Heraldry'}, 84: {'name': 'History'}, 85: {'name': 'Luxembourg'}, 86: {'name': 'Maize'}, 87: {'name': 'Miguel_de_Cervantes'}, 88: {'name': 'Monaco'}, 89: {'name': 'Munich'}, 90: {'name': 'Numismatics'}, 91: {'name': 'Nutrition'}, 92: {'name': 'Pope_John_Paul_II'}, 93: {'name': 'Portugal'}, 94: {'name': 'Rice'}, 95: {'name': 'San_Marino'}, 96: {'name': 'Sanssouci'}, 97: {'name': 'Soviet_Union'}, 98: {'name': 'Spain'}, 99: {'name': 'Suffrage'}, 100: {'name': 'Turin'}, 101: {'name': 'United_Nations'}, 102: {'name': 'United_States'}, 103: {'name': 'Vatican_City'}, 104: {'name': 'Wheat'}, 105: {'name': 'Zeus'}, 106: {'name': '10th_century'}, 107: {'name': '11th_century'}, 108: {'name': '9th_century'}, 109: {'name': 'Algeria'}, 110: {'name': 'Black_Sea'}, 111: {'name': 'Byzantine_Empire'}, 112: {'name': 'Dark_Ages'}, 113: {'name': 'Dublin'}, 114: {'name': 'Great_Moravia'}, 115: {'name': 'India'}, 116: {'name': 'Khazars'}, 117: {'name': 'Maya_civilization'}, 118: {'name': 'Mexico'}, 119: {'name': 'Myanmar'}, 120: {'name': 'Philippines'}, 121: {'name': 'Poland'}, 122: {'name': 'Solar_System'}, 123: {'name': 'Time'}, 124: {'name': '12th_century'}, 125: {'name': '13th_century'}, 126: {'name': '14th_century'}, 127: {'name': '15th_century'}, 128: {'name': '16th_century'}, 129: {'name': '17th_century'}, 130: {'name': '18th_century'}, 131: {'name': '19th_century'}, 132: {'name': '1st_century'}, 133: {'name': '1st_century_BC'}, 134: {'name': '21st_century'}, 135: {'name': '2nd_century'}, 136: {'name': '3rd_century'}, 137: {'name': '4th_century'}, 138: {'name': '5th_century'}, 139: {'name': '6th_century'}, 140: {'name': '7th_century'}, 141: {'name': '8th_century'}, 142: {'name': 'Battle_of_Hastings'}, 143: {'name': 'Canute_the_Great'}, 144: {'name': 'China'}, 145: {'name': 'Crusades'}, 146: {'name': 'Domesday_Book'}, 147: {'name': 'East-West_Schism'}, 148: {'name': 'Edward_the_Confessor'}, 149: {'name': 'First_Crusade'}, 150: {'name': 'Ghana'}, 151: {'name': 'Jerusalem'}, 152: {'name': 'Leif_Ericson'}, 153: {'name': 'Macbeth_of_Scotland'}, 154: {'name': 'Mauritania'}, 155: {'name': 'Nigeria'}, 156: {'name': 'Norman_conquest_of_England'}, 157: {'name': 'North_America'}, 158: {'name': 'Novel'}, 159: {'name': 'William_I_of_England'}, 160: {'name': 'Angkor_Wat'}, 161: {'name': 'Croatia'}, 162: {'name': 'Francis_of_Assisi'}, 163: {'name': 'Frederick_II,_Holy_Roman_Emperor'}, 164: {'name': 'Genghis_Khan'}, 165: {'name': 'Henry_II_of_England'}, 166: {'name': 'Hungary'}, 167: {'name': 'Iceland'}, 168: {'name': 'Iran'}, 169: {'name': 'Mongol_Empire'}, 170: {'name': 'Richard_I_of_England'}, 171: {'name': 'Saladin'}, 172: {'name': 'Second_Crusade'}, 173: {'name': 'Serbia'}, 174: {'name': 'The_Anarchy'}, 175: {'name': 'Thomas_Becket'}, 176: {'name': 'Angola'}, 177: {'name': 'Arabic_language'}, 178: {'name': 'Asia'}, 179: {'name': 'Bantu'}, 180: {'name': 'Buddhism'}, 181: {'name': 'Cambodia'}, 182: {'name': 'Dante_Alighieri'}, 183: {'name': 'Europe'}, 184: {'name': 'Holy_Roman_Empire'}, 185: {'name': 'Islam'}, 186: {'name': 'John_of_England'}, 187: {'name': 'Laos'}, 188: {'name': 'Magna_Carta'}, 189: {'name': 'Malaysia'}, 190: {'name': 'Marco_Polo'}, 191: {'name': 'Norway'}, 192: {'name': 'Thailand'}, 193: {'name': 'Thomas_Aquinas'}, 194: {'name': 'Abacus'}, 195: {'name': 'Aztec'}, 196: {'name': 'Black_Death'}, 197: {'name': 'Buddha'}, 198: {'name': 'Christianity'}, 199: {'name': 'Edward_III_of_England'}, 200: {'name': \"English_peasants'_revolt_of_1381\"}, 201: {'name': \"Hundred_Years'_War\"}, 202: {'name': 'Ibn_Battuta'}, 203: {'name': 'Lithuania'}, 204: {'name': 'Ming_Dynasty'}, 205: {'name': 'Niger'}, 206: {'name': 'Ottoman_Empire'}, 207: {'name': 'Pope'}, 208: {'name': 'Singapore'}, 209: {'name': 'Timur'}, 210: {'name': '15th_Marine_Expeditionary_Unit'}, 211: {'name': '2004_Indian_Ocean_earthquake'}, 212: {'name': 'Afghanistan'}, 213: {'name': 'Australia'}, 214: {'name': 'California'}, 215: {'name': 'East_Timor'}, 216: {'name': 'Famine'}, 217: {'name': 'Indian_Ocean'}, 218: {'name': 'Indonesia'}, 219: {'name': 'Iraq'}, 220: {'name': 'Kuwait'}, 221: {'name': 'Kuwait_City'}, 222: {'name': 'Mogadishu'}, 223: {'name': 'Mount_Pinatubo'}, 224: {'name': 'Pakistan'}, 225: {'name': 'Persian_Gulf'}, 226: {'name': 'Royal_Marines'}, 227: {'name': 'Rwanda'}, 228: {'name': 'Somalia'}, 229: {'name': 'Sri_Lanka'}, 230: {'name': 'Sumatra'}, 231: {'name': 'Uganda'}, 232: {'name': 'Art'}, 233: {'name': 'Baghdad'}, 234: {'name': 'Battle_of_Grunwald'}, 235: {'name': 'Beijing'}, 236: {'name': 'Henry_VII_of_England'}, 237: {'name': 'Henry_V_of_England'}, 238: {'name': 'Inca_Empire'}, 239: {'name': 'Jew'}, 240: {'name': 'Joan_of_Arc'}, 241: {'name': 'Johannes_Ockeghem'}, 242: {'name': 'Korea'}, 243: {'name': 'Leonardo_da_Vinci'}, 244: {'name': 'Philosophy'}, 245: {'name': 'Plato'}, 246: {'name': 'Richard_III_of_England'}, 247: {'name': 'Spanish_Inquisition'}, 248: {'name': 'Vasco_da_Gama'}, 249: {'name': 'Wars_of_the_Roses'}, 250: {'name': 'Zheng_He'}, 251: {'name': '16_Cygni'}, 252: {'name': '16_Cygni_Bb'}, 253: {'name': 'Binary_star'}, 254: {'name': 'Day'}, 255: {'name': 'Extrasolar_planet'}, 256: {'name': 'Jupiter'}, 257: {'name': 'Red_dwarf'}, 258: {'name': 'Sun'}, 259: {'name': 'Earth'}, 260: {'name': 'Planet'}, 261: {'name': 'Season'}, 262: {'name': 'Star'}, 263: {'name': 'Water'}, 264: {'name': 'Akbar'}, 265: {'name': 'Amazon_River'}, 266: {'name': 'Amsterdam'}, 267: {'name': 'Anglicanism'}, 268: {'name': 'Babur'}, 269: {'name': 'Brazil'}, 270: {'name': 'British_East_India_Company'}, 271: {'name': 'Charles_V,_Holy_Roman_Emperor'}, 272: {'name': 'Edward_VI_of_England'}, 273: {'name': 'Egypt'}, 274: {'name': 'Elizabeth_I_of_England'}, 275: {'name': 'Ferdinand_Magellan'}, 276: {'name': 'Florida'}, 277: {'name': 'Francis_Drake'}, 278: {'name': 'Grand_Canyon'}, 279: {'name': 'Heliocentrism'}, 280: {'name': 'Henry_VIII_of_England'}, 281: {'name': 'Hernan_Cortes'}, 282: {'name': 'Italian_Renaissance'}, 283: {'name': 'Ivan_IV_of_Russia'}, 284: {'name': 'Jacques_Cartier'}, 285: {'name': 'Japan'}, 286: {'name': 'John_Calvin'}, 287: {'name': 'Juan_Sebastian_Elcano'}, 288: {'name': 'Martin_Luther'}, 289: {'name': 'Mary_I_of_England'}, 290: {'name': 'Mary_I_of_Scotland'}, 291: {'name': 'Mona_Lisa'}, 292: {'name': 'Nicolaus_Copernicus'}, 293: {'name': 'Opera'}, 294: {'name': 'Pacific_Ocean'}, 295: {'name': 'Philip_II_of_Spain'}, 296: {'name': 'Polish-Lithuanian_Commonwealth'}, 297: {'name': 'Roman_Catholic_Church'}, 298: {'name': 'Science'}, 299: {'name': 'Spanish_Armada'}, 300: {'name': 'Spanish_conquest_of_the_Inca_Empire'}, 301: {'name': 'Suleiman_the_Magnificent'}, 302: {'name': 'Textile'}, 303: {'name': 'Thomas_More'}, 304: {'name': 'Watch'}, 305: {'name': 'William_Shakespeare'}, 306: {'name': 'William_the_Silent'}, 307: {'name': '1755_Lisbon_earthquake'}, 308: {'name': 'Barbados'}, 309: {'name': 'Earthquake'}, 310: {'name': 'Geology'}, 311: {'name': 'Gottfried_Leibniz'}, 312: {'name': 'Immanuel_Kant'}, 313: {'name': 'Jean-Jacques_Rousseau'}, 314: {'name': 'Lisbon'}, 315: {'name': 'Martinique'}, 316: {'name': 'Morocco'}, 317: {'name': 'North_Africa'}, 318: {'name': 'Peter_Paul_Rubens'}, 319: {'name': 'Rene_Descartes'}, 320: {'name': 'The_Holocaust'}, 321: {'name': 'Tsunami'}, 322: {'name': 'Voltaire'}, 323: {'name': 'Armand_Jean_du_Plessis,_Cardinal_Richelieu'}, 324: {'name': 'Bacteria'}, 325: {'name': 'Banknote'}, 326: {'name': 'Baruch_Spinoza'}, 327: {'name': 'Bible'}, 328: {'name': 'Blaise_Pascal'}, 329: {'name': 'Calculus'}, 330: {'name': 'Cape_Town'}, 331: {'name': 'Charles_II_of_England'}, 332: {'name': 'Charles_I_of_England'}, 333: {'name': 'Constitutional_monarchy'}, 334: {'name': 'Finance'}, 335: {'name': 'Glorious_Revolution'}, 336: {'name': 'Henry_Purcell'}, 337: {'name': 'Isaac_Newton'}, 338: {'name': 'James_II_of_England'}, 339: {'name': 'James_I_of_England'}, 340: {'name': 'Johann_Sebastian_Bach'}, 341: {'name': 'Johannes_Kepler'}, 342: {'name': 'John_Locke'}, 343: {'name': 'John_Milton'}, 344: {'name': 'Louis_XIV_of_France'}, 345: {'name': 'Mary_II_of_England'}, 346: {'name': 'Mississippi_River'}, 347: {'name': 'New_York_City'}, 348: {'name': 'New_Zealand'}, 349: {'name': 'Oliver_Cromwell'}, 350: {'name': 'Persian_Empire'}, 351: {'name': 'Peter_I_of_Russia'}, 352: {'name': 'Philosophiae_Naturalis_Principia_Mathematica'}, 353: {'name': 'Qing_Dynasty'}, 354: {'name': 'South_Africa'}, 355: {'name': 'Speed_of_light'}, 356: {'name': 'Taiwan'}, 357: {'name': 'Tea'}, 358: {'name': 'Telescope'}, 359: {'name': 'Thomas_Hobbes'}, 360: {'name': 'William_Harvey'}, 361: {'name': 'William_III_of_England'}, 362: {'name': '1896_Summer_Olympics'}, 363: {'name': 'Athletics_(track_and_field)'}, 364: {'name': 'British_Empire'}, 365: {'name': 'Cricket'}, 366: {'name': 'Cyprus'}, 367: {'name': 'Eastern_Orthodox_Church'}, 368: {'name': 'Football_(soccer)'}, 369: {'name': 'Greek_War_of_Independence'}, 370: {'name': 'London'}, 371: {'name': 'Olympic_Games'}, 372: {'name': 'Roman_Empire'}, 373: {'name': 'Slovakia'}, 374: {'name': 'Sport'}, 375: {'name': 'Switzerland'}, 376: {'name': 'Adam_Smith'}, 377: {'name': 'Alexander_Hamilton'}, 378: {'name': 'American_Revolutionary_War'}, 379: {'name': 'Anne_of_Great_Britain'}, 380: {'name': 'Antoine_Lavoisier'}, 381: {'name': 'Antonio_Vivaldi'}, 382: {'name': 'Benjamin_Franklin'}, 383: {'name': 'Capital'}, 384: {'name': 'Carl_Friedrich_Gauss'}, 385: {'name': 'Carolus_Linnaeus'}, 386: {'name': 'Catherine_II_of_Russia'}, 387: {'name': 'David_Hume'}, 388: {'name': 'Delhi'}, 389: {'name': 'Edmond_Halley'}, 390: {'name': 'Edmund_Burke'}, 391: {'name': 'Edward_Jenner'}, 392: {'name': 'Emanuel_Swedenborg'}, 393: {'name': 'Frederick_II_of_Prussia'}, 394: {'name': 'Freetown'}, 395: {'name': 'French_Revolution'}, 396: {'name': 'George_III_of_the_United_Kingdom'}, 397: {'name': 'George_Washington'}, 398: {'name': 'Industrial_Revolution'}, 399: {'name': 'James_Cook'}, 400: {'name': 'James_Watt'}, 401: {'name': 'Joseph_Haydn'}, 402: {'name': 'Leonhard_Euler'}, 403: {'name': 'Napoleon_I_of_France'}, 404: {'name': 'Napoleonic_Wars'}, 405: {'name': 'Nepal'}, 406: {'name': 'Photosynthesis'}, 407: {'name': 'Piano'}, 408: {'name': 'President_of_the_United_States'}, 409: {'name': 'Prime_Minister_of_the_United_Kingdom'}, 410: {'name': 'Saint_Petersburg'}, 411: {'name': 'Sierra_Leone'}, 412: {'name': 'Smallpox'}, 413: {'name': 'South_America'}, 414: {'name': 'Steam_engine'}, 415: {'name': 'Steel'}, 416: {'name': 'Sydney'}, 417: {'name': 'Thomas_Gainsborough'}, 418: {'name': 'Thomas_Jefferson'}, 419: {'name': 'Vitus_Bering'}, 420: {'name': 'War_of_the_Spanish_Succession'}, 421: {'name': 'William_Hogarth'}, 422: {'name': 'Wolfgang_Amadeus_Mozart'}, 423: {'name': '1928_Okeechobee_Hurricane'}, 424: {'name': 'Africa'}, 425: {'name': 'Dominica'}, 426: {'name': 'Galveston_Hurricane_of_1900'}, 427: {'name': 'Guadeloupe'}, 428: {'name': 'Latin_America'}, 429: {'name': 'Montserrat'}, 430: {'name': 'Norfolk'}, 431: {'name': 'Puerto_Rico'}, 432: {'name': 'The_Bahamas'}, 433: {'name': 'Toronto'}, 434: {'name': 'Tropical_cyclone'}, 435: {'name': 'United_States_Virgin_Islands'}, 436: {'name': '1973_oil_crisis'}, 437: {'name': 'Arab-Israeli_conflict'}, 438: {'name': 'BBC'}, 439: {'name': 'Bretton_Woods_system'}, 440: {'name': 'Chile'}, 441: {'name': 'Coal'}, 442: {'name': 'Cold_War'}, 443: {'name': 'Electronics'}, 444: {'name': 'Ethanol'}, 445: {'name': 'Gold'}, 446: {'name': 'Israel'}, 447: {'name': 'Libya'}, 448: {'name': 'Market'}, 449: {'name': 'Middle_East'}, 450: {'name': 'Mineral'}, 451: {'name': 'Natural_gas'}, 452: {'name': 'Newspaper'}, 453: {'name': 'Nuclear_power'}, 454: {'name': \"People's_Republic_of_China\"}, 455: {'name': 'Petroleum'}, 456: {'name': 'Qatar'}, 457: {'name': 'Richard_Nixon'}, 458: {'name': 'Saudi_Arabia'}, 459: {'name': 'Supply_and_demand'}, 460: {'name': 'Syria'}, 461: {'name': 'United_Arab_Emirates'}, 462: {'name': 'Venezuela'}, 463: {'name': 'Wood_fuel'}, 464: {'name': 'Yom_Kippur_War'}, 465: {'name': '1980_eruption_of_Mount_St._Helens'}, 466: {'name': 'Animal'}, 467: {'name': 'Apple'}, 468: {'name': 'Avalanche'}, 469: {'name': 'Carbon_dioxide'}, 470: {'name': 'Columbia_River'}, 471: {'name': 'Denver,_Colorado'}, 472: {'name': \"Earth's_atmosphere\"}, 473: {'name': 'Emotion'}, 474: {'name': 'Energy'}, 475: {'name': 'Flood'}, 476: {'name': 'Forest'}, 477: {'name': 'Gas'}, 478: {'name': 'Glacier'}, 479: {'name': 'Human'}, 480: {'name': 'Ice'}, 481: {'name': 'Jimmy_Carter'}, 482: {'name': 'Magma'}, 483: {'name': 'Minnesota'}, 484: {'name': 'Moon'}, 485: {'name': 'Mount_St._Helens'}, 486: {'name': 'Nuclear_weapon'}, 487: {'name': 'Ocean'}, 488: {'name': 'Oregon'}, 489: {'name': 'Potato'}, 490: {'name': 'Radio'}, 491: {'name': 'Rain'}, 492: {'name': 'Seattle,_Washington'}, 493: {'name': 'Snow'}, 494: {'name': 'Sound'}, 495: {'name': 'Transport'}, 496: {'name': 'Tree'}, 497: {'name': 'U.S._state'}, 498: {'name': 'United_States_Congress'}, 499: {'name': 'Volcano'}, 500: {'name': 'Wave'}, 501: {'name': 'Wind'}, 502: {'name': 'Yellowstone_National_Park'}, 503: {'name': '1997_Pacific_hurricane_season'}, 504: {'name': 'Caribbean_Sea'}, 505: {'name': 'El_Nino-Southern_Oscillation'}, 506: {'name': 'El_Salvador'}, 507: {'name': 'Guam'}, 508: {'name': 'Johnston_Atoll'}, 509: {'name': 'Meteorology'}, 510: {'name': 'Nicaragua'}, 511: {'name': 'Palmyra_Atoll'}, 512: {'name': 'Wake_Island'}, 513: {'name': 'Abraham_Lincoln'}, 514: {'name': 'Aleksandr_Pushkin'}, 515: {'name': 'Alexander_Graham_Bell'}, 516: {'name': 'Alfred_Nobel'}, 517: {'name': 'American_Civil_War'}, 518: {'name': 'Andrew_Jackson'}, 519: {'name': 'Anthropology'}, 520: {'name': 'Antonin_Dvorak'}, 521: {'name': \"Baha'i_Faith\"}, 522: {'name': 'Benjamin_Disraeli,_1st_Earl_of_Beaconsfield'}, 523: {'name': 'Bolivia'}, 524: {'name': 'Brothers_Grimm'}, 525: {'name': 'Charles_Darwin'}, 526: {'name': 'Charles_Dickens'}, 527: {'name': 'Colombia'}, 528: {'name': 'Costa_Rica'}, 529: {'name': 'Cuba'}, 530: {'name': 'Dmitri_Mendeleev'}, 531: {'name': 'Ecuador'}, 532: {'name': 'Erie_Canal'}, 533: {'name': 'Ethiopia'}, 534: {'name': 'Evolution'}, 535: {'name': 'Felix_Mendelssohn'}, 536: {'name': 'First_Transcontinental_Railroad'}, 537: {'name': 'Florence_Nightingale'}, 538: {'name': 'Frederic_Chopin'}, 539: {'name': 'Franz_Schubert'}, 540: {'name': 'Friedrich_Nietzsche'}, 541: {'name': 'Fyodor_Dostoevsky'}, 542: {'name': 'Giuseppe_Verdi'}, 543: {'name': 'Great_Lakes'}, 544: {'name': 'Gregor_Mendel'}, 545: {'name': 'Guatemala'}, 546: {'name': 'Henrik_Ibsen'}, 547: {'name': 'Henry_James'}, 548: {'name': 'Honduras'}, 549: {'name': 'International_Red_Cross_and_Red_Crescent_Movement'}, 550: {'name': 'J._M._W._Turner'}, 551: {'name': 'James_Clerk_Maxwell'}, 552: {'name': 'Jane_Austen'}, 553: {'name': 'Jesus'}, 554: {'name': 'Karl_Marx'}, 555: {'name': 'Leo_Tolstoy'}, 556: {'name': 'Literature'}, 557: {'name': 'London_Underground'}, 558: {'name': 'Louis_Pasteur'}, 559: {'name': 'Ludwig_van_Beethoven'}, 560: {'name': 'Manifest_Destiny'}, 561: {'name': 'Marie_Curie'}, 562: {'name': 'Mark_Twain'}, 563: {'name': 'Mediterranean_Sea'}, 564: {'name': 'Michael_Faraday'}, 565: {'name': 'Music'}, 566: {'name': 'Natural_selection'}, 567: {'name': 'Niccolo_Paganini'}, 568: {'name': 'Nikola_Tesla'}, 569: {'name': 'Oil_refinery'}, 570: {'name': 'Otto_von_Bismarck'}, 571: {'name': 'Panama'}, 572: {'name': 'Peru'}, 573: {'name': 'Politics'}, 574: {'name': 'Postage_stamp'}, 575: {'name': 'Pyotr_Ilyich_Tchaikovsky'}, 576: {'name': 'Red_Sea'}, 577: {'name': 'Religion'}, 578: {'name': 'Richard_Wagner'}, 579: {'name': 'Robert_Schumann'}, 580: {'name': 'Romania'}, 581: {'name': 'Romanticism'}, 582: {'name': 'Soren_Kierkegaard'}, 583: {'name': 'Samuel_Taylor_Coleridge'}, 584: {'name': 'Scramble_for_Africa'}, 585: {'name': 'Shaka'}, 586: {'name': 'Sitting_Bull'}, 587: {'name': 'Slavery'}, 588: {'name': 'Socialism'}, 589: {'name': 'Southern_Africa'}, 590: {'name': 'Suez_Canal'}, 591: {'name': 'Telephone'}, 592: {'name': 'Telephone_exchange'}, 593: {'name': 'The_Origin_of_Species'}, 594: {'name': 'Tibet'}, 595: {'name': 'Ulysses_S._Grant'}, 596: {'name': 'Uruguay'}, 597: {'name': 'Victor_Hugo'}, 598: {'name': 'Victoria_of_the_United_Kingdom'}, 599: {'name': 'Vincent_van_Gogh'}, 600: {'name': 'Walt_Whitman'}, 601: {'name': 'William_Ewart_Gladstone'}, 602: {'name': 'World_War_I'}, 603: {'name': 'Zionism'}, 604: {'name': 'Zulu'}, 605: {'name': '1_Ceres'}, 606: {'name': '3_Juno'}, 607: {'name': '4_Vesta'}, 608: {'name': '90377_Sedna'}, 609: {'name': 'Asteroid'}, 610: {'name': 'Cerium'}, 611: {'name': 'Cornell_University'}, 612: {'name': 'Definition_of_planet'}, 613: {'name': 'Eris_(dwarf_planet)'}, 614: {'name': 'Fresh_water'}, 615: {'name': 'Gravitation'}, 616: {'name': 'Hubble_Space_Telescope'}, 617: {'name': 'Kuiper_belt'}, 618: {'name': 'Mars'}, 619: {'name': 'Milan'}, 620: {'name': 'Palladium'}, 621: {'name': 'Pluto'}, 622: {'name': 'Roman_mythology'}, 623: {'name': 'Ultraviolet'}, 624: {'name': 'Venus'}, 625: {'name': 'Augustus'}, 626: {'name': 'Boudica'}, 627: {'name': 'Claudius'}, 628: {'name': 'Josephus'}, 629: {'name': 'Mount_Vesuvius'}, 630: {'name': 'Paul_of_Tarsus'}, 631: {'name': 'Pompeii'}, 632: {'name': 'Anno_Domini'}, 633: {'name': 'Cleopatra_VII'}, 634: {'name': 'Julius_Caesar'}, 635: {'name': 'Mark_Antony'}, 636: {'name': 'Rome'}, 637: {'name': 'Virgil'}, 638: {'name': '2-6-0'}, 639: {'name': '4-4-0'}, 640: {'name': '4-6-0'}, 641: {'name': '2-8-0'}, 642: {'name': 'Pennsylvania_Railroad'}, 643: {'name': '2003_Atlantic_hurricane_season'}, 644: {'name': '2004_Atlantic_hurricane_season'}, 645: {'name': '2005_Atlantic_hurricane_season'}, 646: {'name': 'Banana'}, 647: {'name': 'Bermuda'}, 648: {'name': 'Dominican_Republic'}, 649: {'name': 'Gulf_of_Mexico'}, 650: {'name': 'Haiti'}, 651: {'name': 'Tropical_Storm_Ana_(2003)'}, 652: {'name': 'Tropical_Storm_Henri_(2003)'}, 653: {'name': 'Tropical_Storm_Larry_(2003)'}, 654: {'name': 'Tropical_Storm_Odette_(2003)'}, 655: {'name': 'Canal'}, 656: {'name': 'Cape_Verde'}, 657: {'name': 'Cayman_Islands'}, 658: {'name': 'Grenada'}, 659: {'name': 'Hurricane_Alex_(2004)'}, 660: {'name': 'Hurricane_Camille'}, 661: {'name': 'Hurricane_Charley'}, 662: {'name': 'Hurricane_Georges'}, 663: {'name': 'Hurricane_Ivan'}, 664: {'name': 'Hurricane_Katrina'}, 665: {'name': 'Hurricane_Mitch'}, 666: {'name': 'Jamaica'}, 667: {'name': 'Labor_Day_Hurricane_of_1935'}, 668: {'name': 'Richmond,_Virginia'}, 669: {'name': 'Tropical_Storm_Bonnie_(2004)'}, 670: {'name': 'Tropical_Storm_Matthew_(2004)'}, 671: {'name': 'Turks_and_Caicos_Islands'}, 672: {'name': 'West_Virginia'}, 673: {'name': '2005_Sumatra_earthquake'}, 674: {'name': 'Agriculture'}, 675: {'name': 'Antarctica'}, 676: {'name': 'Arctic'}, 677: {'name': 'Bangladesh'}, 678: {'name': 'Bay_of_Bengal'}, 679: {'name': 'Bill_Clinton'}, 680: {'name': 'Biodiversity'}, 681: {'name': 'Cholera'}, 682: {'name': 'Dune'}, 683: {'name': 'George_H._W._Bush'}, 684: {'name': 'George_W._Bush'}, 685: {'name': 'Great_Barrier_Reef'}, 686: {'name': 'Infrastructure'}, 687: {'name': 'Kerala'}, 688: {'name': 'Kofi_Annan'}, 689: {'name': 'Krakatoa'}, 690: {'name': 'Lake_Toba'}, 691: {'name': 'Maldives'}, 692: {'name': 'Modern_history'}, 693: {'name': 'Natural_disaster'}, 694: {'name': 'Radar'}, 695: {'name': 'Royal_Navy'}, 696: {'name': 'Salt'}, 697: {'name': 'Seawater'}, 698: {'name': 'South_China_Sea'}, 699: {'name': 'Tokyo'}, 700: {'name': 'Vegetation'}, 701: {'name': 'Belize'}, 702: {'name': 'Citrus'}, 703: {'name': 'Coffee'}, 704: {'name': 'Houston,_Texas'}, 705: {'name': 'Hurricane_Andrew'}, 706: {'name': 'Hurricane_Dennis'}, 707: {'name': 'Hurricane_Epsilon_(2005)'}, 708: {'name': 'Hurricane_Floyd'}, 709: {'name': 'Hurricane_Lenny'}, 710: {'name': 'Hurricane_Philippe_(2005)'}, 711: {'name': 'Hurricane_Vince_(2005)'}, 712: {'name': 'International_Space_Station'}, 713: {'name': 'Refining'}, 714: {'name': 'Tropical_Storm_Delta_(2005)'}, 715: {'name': 'Tropical_Storm_Franklin_(2005)'}, 716: {'name': 'Tropical_Storm_Harvey_(2005)'}, 717: {'name': 'Tropical_Storm_Lee_(2005)'}, 718: {'name': 'Tropical_Storm_Zeta_(2005)'}, 719: {'name': 'Vegetable'}, 720: {'name': '2005_Hertfordshire_Oil_Storage_Terminal_fire'}, 721: {'name': 'Library'}, 722: {'name': 'M1_motorway'}, 723: {'name': 'Ozone'}, 724: {'name': 'Pollution'}, 725: {'name': '2005_Kashmir_earthquake'}, 726: {'name': 'Karachi'}, 727: {'name': 'Kashmir_region'}, 728: {'name': 'Measles'}, 729: {'name': 'Muhammad'}, 730: {'name': 'Winter'}, 731: {'name': '2005_Lake_Tanganyika_earthquake'}, 732: {'name': 'African_Great_Lakes'}, 733: {'name': 'Burundi'}, 734: {'name': 'Democratic_Republic_of_the_Congo'}, 735: {'name': 'East_Africa'}, 736: {'name': 'Great_Rift_Valley'}, 737: {'name': 'Kenya'}, 738: {'name': 'Lake_Tanganyika'}, 739: {'name': 'Second_Congo_War'}, 740: {'name': 'Tanzania'}, 741: {'name': 'Zinc'}, 742: {'name': 'Bangkok'}, 743: {'name': 'Jakarta'}, 744: {'name': 'John_Howard'}, 745: {'name': 'Kuala_Lumpur'}, 746: {'name': 'Madagascar'}, 747: {'name': 'Mauritius'}, 748: {'name': 'Seychelles'}, 749: {'name': 'AIDS'}, 750: {'name': \"Alzheimer's_disease\"}, 751: {'name': 'Atonality'}, 752: {'name': 'Automobile'}, 753: {'name': 'Birth_control'}, 754: {'name': 'Cancer'}, 755: {'name': 'Communism'}, 756: {'name': 'Computer'}, 757: {'name': 'Cubism'}, 758: {'name': 'Existentialism'}, 759: {'name': 'Expressionism'}, 760: {'name': 'Fascism'}, 761: {'name': 'Fashion'}, 762: {'name': 'Film'}, 763: {'name': 'Integrated_circuit'}, 764: {'name': 'Internet'}, 765: {'name': 'Jazz'}, 766: {'name': 'Jet_engine'}, 767: {'name': 'Mass_media'}, 768: {'name': \"Moore's_Law\"}, 769: {'name': 'Nationalism'}, 770: {'name': 'Nazism'}, 771: {'name': 'Nitrogen'}, 772: {'name': 'Physics'}, 773: {'name': 'Quantum_mechanics'}, 774: {'name': 'Russian_Revolution_of_1917'}, 775: {'name': 'Scurvy'}, 776: {'name': 'Technology'}, 777: {'name': 'Television'}, 778: {'name': 'Tobacco_smoking'}, 779: {'name': 'Trench_warfare'}, 780: {'name': 'Vietnam_War'}, 781: {'name': 'Vitamin'}, 782: {'name': 'War'}, 783: {'name': 'African_Union'}, 784: {'name': 'Archbishop_of_Canterbury'}, 785: {'name': 'Argentina'}, 786: {'name': 'Ariel_Sharon'}, 787: {'name': 'Arnold_Schwarzenegger'}, 788: {'name': 'Bill_Gates'}, 789: {'name': 'Black_hole'}, 790: {'name': 'Blade_Runner'}, 791: {'name': \"Cote_d'Ivoire\"}, 792: {'name': 'Capitalism'}, 793: {'name': 'Cassini-Huygens'}, 794: {'name': 'Civilization'}, 795: {'name': 'Comet_Halley'}, 796: {'name': 'Condoleezza_Rice'}, 797: {'name': 'Darfur_conflict'}, 798: {'name': 'Democracy'}, 799: {'name': 'Denmark'}, 800: {'name': 'Doctor_Who'}, 801: {'name': 'Economics'}, 802: {'name': 'Education'}, 803: {'name': 'Fidel_Castro'}, 804: {'name': 'Georgia_(country)'}, 805: {'name': 'Global_warming'}, 806: {'name': 'Globalization'}, 807: {'name': 'Google'}, 808: {'name': 'Gordon_Brown'}, 809: {'name': 'HIV'}, 810: {'name': 'Harry_Potter'}, 811: {'name': 'Homestar_Runner'}, 812: {'name': 'Homo_floresiensis'}, 813: {'name': 'Jaws_(film)'}, 814: {'name': 'King_Kong_(2005_film)'}, 815: {'name': 'Kyrgyzstan'}, 816: {'name': 'Lance_Armstrong'}, 817: {'name': 'Latvia'}, 818: {'name': 'Lebanon'}, 819: {'name': 'Linus_Torvalds'}, 820: {'name': 'Linux'}, 821: {'name': 'Madrid'}, 822: {'name': 'Mahmoud_Abbas'}, 823: {'name': 'Malaria'}, 824: {'name': 'Malta'}, 825: {'name': 'Mars_Exploration_Rover'}, 826: {'name': 'Mars_Reconnaissance_Orbiter'}, 827: {'name': 'Mercury_(planet)'}, 828: {'name': 'Montenegro'}, 829: {'name': 'Neptune'}, 830: {'name': 'New_Delhi'}, 831: {'name': 'North_Korea'}, 832: {'name': 'Osama_bin_Laden'}, 833: {'name': 'Pope_Benedict_XVI'}, 834: {'name': 'Poverty'}, 835: {'name': 'Richard_Stallman'}, 836: {'name': 'Rowan_Williams'}, 837: {'name': 'Salt_Lake_City,_Utah'}, 838: {'name': 'Senegal'}, 839: {'name': 'September_11,_2001_attacks'}, 840: {'name': 'Solar_eclipse'}, 841: {'name': 'South_Korea'}, 842: {'name': 'Space_Shuttle_Columbia_disaster'}, 843: {'name': 'Sri_Lankan_Civil_War'}, 844: {'name': 'Star_Trek__Deep_Space_Nine'}, 845: {'name': 'Star_Wars'}, 846: {'name': 'Stargate_SG-1'}, 847: {'name': 'Stephen_Harper'}, 848: {'name': 'Stephen_Hawking'}, 849: {'name': 'Sudan'}, 850: {'name': 'Terrorism'}, 851: {'name': 'The_Lord_of_the_Rings_film_trilogy'}, 852: {'name': 'Tony_Blair'}, 853: {'name': 'Tour_de_France'}, 854: {'name': 'Transit_of_Venus'}, 855: {'name': 'Tuberculosis'}, 856: {'name': 'Turkey'}, 857: {'name': 'U2'}, 858: {'name': 'Ukraine'}, 859: {'name': 'World_Health_Organization'}, 860: {'name': 'Cai_Lun'}, 861: {'name': \"Hadrian's_Wall\"}, 862: {'name': 'Ptolemy'}, 863: {'name': 'Citizenship'}, 864: {'name': 'Glasses'}, 865: {'name': '4-2-0'}, 866: {'name': 'Chicago_and_North_Western_Railway'}, 867: {'name': 'Robert_Stephenson'}, 868: {'name': '6-2-0'}, 869: {'name': '47_Ursae_Majoris'}, 870: {'name': '47_Ursae_Majoris_b'}, 871: {'name': '47_Ursae_Majoris_c'}, 872: {'name': 'Helium'}, 873: {'name': 'Hydrogen'}, 874: {'name': 'Iron'}, 875: {'name': 'Planetary_habitability'}, 876: {'name': 'Saturn'}, 877: {'name': 'Ammonia'}, 878: {'name': 'Cloud'}, 879: {'name': 'Gas_giant'}, 880: {'name': 'Aluminium'}, 881: {'name': 'Ceres_(dwarf_planet)'}, 882: {'name': 'Crust_(geology)'}, 883: {'name': 'Metal'}, 884: {'name': 'Metamorphic_rock'}, 885: {'name': 'Nickel'}, 886: {'name': 'Alchemy'}, 887: {'name': 'Armenia'}, 888: {'name': 'Augustine_of_Hippo'}, 889: {'name': 'Christian_monasticism'}, 890: {'name': 'First_Council_of_Nicaea'}, 891: {'name': '55_Cancri'}, 892: {'name': '55_Cancri_b'}, 893: {'name': '55_Cancri_c'}, 894: {'name': '55_Cancri_d'}, 895: {'name': '55_Cancri_e'}, 896: {'name': 'Binoculars'}, 897: {'name': 'Upsilon_Andromedae'}, 898: {'name': 'Tide'}, 899: {'name': 'Heat'}, 900: {'name': 'Attila_the_Hun'}, 901: {'name': 'Backgammon'}, 902: {'name': 'Chess'}, 903: {'name': 'Franks'}, 904: {'name': 'King_Arthur'}, 905: {'name': 'Language'}, 906: {'name': 'Vietnam'}, 907: {'name': 'English_poetry'}, 908: {'name': 'Heraclius'}, 909: {'name': 'Lake_Chad'}, 910: {'name': 'Library_of_Alexandria'}, 911: {'name': \"Qur'an\"}, 912: {'name': 'Shinto'}, 913: {'name': 'Sutton_Hoo'}, 914: {'name': 'Taoism'}, 915: {'name': 'Abbasid'}, 916: {'name': 'Battle_of_Tours'}, 917: {'name': 'Charlemagne'}, 918: {'name': 'Du_Fu'}, 919: {'name': 'Rhine'}, 920: {'name': 'Arctic_Ocean'}, 921: {'name': 'Alfred_the_Great'}, 922: {'name': 'Bulgaria'}, 923: {'name': 'Danube'}, 924: {'name': 'Gunpowder'}, 925: {'name': 'Vulgar_Latin'}, 926: {'name': 'Western_Roman_Empire'}, 927: {'name': 'A._E._J._Collins'}, 928: {'name': 'Bristol'}, 929: {'name': 'The_Ashes'}, 930: {'name': 'ABO_blood_group_system'}, 931: {'name': 'Ape'}, 932: {'name': 'Blood_type'}, 933: {'name': 'Bonobo'}, 934: {'name': 'Chimpanzee'}, 935: {'name': 'Gorilla'}, 936: {'name': 'Hong_Kong'}, 937: {'name': 'Plant'}, 938: {'name': 'AC_DC'}, 939: {'name': 'Bluegrass_music'}, 940: {'name': 'Glasgow'}, 941: {'name': 'Guitar'}, 942: {'name': 'Hip_hop_music'}, 943: {'name': 'Iron_Maiden'}, 944: {'name': 'Melbourne'}, 945: {'name': 'Perth,_Western_Australia'}, 946: {'name': 'Queen_(band)'}, 947: {'name': 'Superman'}, 948: {'name': 'The_Beatles'}, 949: {'name': 'Brain'}, 950: {'name': 'Cameroon'}, 951: {'name': 'DNA'}, 952: {'name': 'Eye'}, 953: {'name': 'Fungus'}, 954: {'name': 'Gabon'}, 955: {'name': 'Genetics'}, 956: {'name': 'Meningitis'}, 957: {'name': 'Sub-Saharan_Africa'}, 958: {'name': 'Virus'}, 959: {'name': 'Zimbabwe'}, 960: {'name': 'AK-47'}, 961: {'name': 'Albania'}, 962: {'name': 'Burkina_Faso'}, 963: {'name': 'Chromium'}, 964: {'name': 'Mozambique'}, 965: {'name': 'Russian_language'}, 966: {'name': 'Spanish_language'}, 967: {'name': 'Yugoslavia'}, 968: {'name': 'ALCO_FA'}, 969: {'name': 'Canadian_Pacific_Railway'}, 970: {'name': 'ASCII'}, 971: {'name': 'AT&T'}, 972: {'name': 'Markup_language'}, 973: {'name': 'Microsoft_Windows'}, 974: {'name': 'Perl'}, 975: {'name': 'Dallas,_Texas'}, 976: {'name': 'Employment'}, 977: {'name': 'Industry'}, 978: {'name': 'San_Francisco,_California'}, 979: {'name': 'United_States_Constitution'}, 980: {'name': 'ATLAS_experiment'}, 981: {'name': 'Argon'}, 982: {'name': 'Central_processing_unit'}, 983: {'name': 'Electric_charge'}, 984: {'name': 'Electron'}, 985: {'name': 'Hawking_radiation'}, 986: {'name': 'Lead'}, 987: {'name': 'List_of_particles'}, 988: {'name': 'Magnet'}, 989: {'name': 'Momentum'}, 990: {'name': 'Photon'}, 991: {'name': 'Proton'}, 992: {'name': 'Silicon'}, 993: {'name': 'Statistics'}, 994: {'name': 'String_theory'}, 995: {'name': 'A_Christmas_Carol'}, 996: {'name': 'Animation'}, 997: {'name': 'Bob_Marley'}, 998: {'name': 'Country'}, 999: {'name': 'Greek_mythology'}, 1000: {'name': 'Looney_Tunes'}, 1001: {'name': 'Scrooge_McDuck'}, 1002: {'name': 'Theatre'}, 1003: {'name': 'A_Tale_of_a_Tub'}, 1004: {'name': 'Church_of_England'}, 1005: {'name': 'Medicine'}, 1006: {'name': 'Religious_Society_of_Friends'}, 1007: {'name': 'A_Wrinkle_in_Time'}, 1008: {'name': 'Albert_Einstein'}, 1009: {'name': 'Euclid'}, 1010: {'name': 'Gautama_Buddha'}, 1011: {'name': 'German_language'}, 1012: {'name': 'Latin'}, 1013: {'name': 'Mahatma_Gandhi'}, 1014: {'name': 'Portuguese_language'}, 1015: {'name': 'A_cappella'}, 1016: {'name': 'Amish'}, 1017: {'name': 'Gregorian_chant'}, 1018: {'name': 'Hindi'}, 1019: {'name': 'Judaism'}, 1020: {'name': 'Musical_instrument'}, 1021: {'name': 'Rapping'}, 1022: {'name': 'Renaissance_music'}, 1023: {'name': 'Aachen'}, 1024: {'name': 'Button'}, 1025: {'name': 'Chinese_language'}, 1026: {'name': 'Dutch_language'}, 1027: {'name': 'Flanders'}, 1028: {'name': 'French_language'}, 1029: {'name': 'List_of_countries'}, 1030: {'name': 'Middle_Ages'}, 1031: {'name': 'Tobacco'}, 1032: {'name': 'Aardvark'}, 1033: {'name': 'Afrikaans'}, 1034: {'name': 'Ant'}, 1035: {'name': 'Anteater'}, 1036: {'name': 'Bandicoot'}, 1037: {'name': 'Binomial_nomenclature'}, 1038: {'name': 'Chordate'}, 1039: {'name': 'Fruit'}, 1040: {'name': 'Mammal'}, 1041: {'name': 'Miocene'}, 1042: {'name': 'Pig'}, 1043: {'name': 'Pliocene'}, 1044: {'name': 'Scientific_classification'}, 1045: {'name': 'Aarhus'}, 1046: {'name': 'Archaeology'}, 1047: {'name': 'Badminton'}, 1048: {'name': 'Copenhagen'}, 1049: {'name': 'Engineering'}, 1050: {'name': 'Humanities'}, 1051: {'name': 'Abaca'}, 1052: {'name': 'Arithmetic'}, 1053: {'name': 'Hebrew_language'}, 1054: {'name': 'Mesopotamia'}, 1055: {'name': 'Abadan'}, 1056: {'name': 'Chemistry'}, 1057: {'name': 'Tehran'}, 1058: {'name': 'Abbadid'}, 1059: {'name': 'Poetry'}, 1060: {'name': 'Abbas_I_of_Persia'}, 1061: {'name': 'Caspian_Sea'}, 1062: {'name': 'Euphrates'}, 1063: {'name': 'Indus_River'}, 1064: {'name': 'Mosque'}, 1065: {'name': 'Tigris'}, 1066: {'name': 'Aristotle'}, 1067: {'name': 'Damascus'}, 1068: {'name': 'Maghreb'}, 1069: {'name': 'Mecca'}, 1070: {'name': 'Sultan'}, 1071: {'name': 'Abbey'}, 1072: {'name': 'Abbot'}, 1073: {'name': 'Cattle'}, 1074: {'name': 'Dorset'}, 1075: {'name': 'Nile'}, 1076: {'name': 'Westminster_Abbey'}, 1077: {'name': 'Zurich'}, 1078: {'name': 'Abbey_Theatre'}, 1079: {'name': 'Edward_VII_of_the_United_Kingdom'}, 1080: {'name': 'Irish_theatre'}, 1081: {'name': 'John_Millington_Synge'}, 1082: {'name': 'Manchester'}, 1083: {'name': 'Samuel_Beckett'}, 1084: {'name': 'William_Butler_Yeats'}, 1085: {'name': 'Anglican_Communion'}, 1086: {'name': 'Genoa'}, 1087: {'name': 'Leicester'}, 1088: {'name': 'Rule_of_St_Benedict'}, 1089: {'name': 'Abel_Tasman'}, 1090: {'name': 'Fiji'}, 1091: {'name': 'Manila'}, 1092: {'name': 'Tonga'}, 1093: {'name': 'Aberdeen'}, 1094: {'name': 'Belarus'}, 1095: {'name': 'City_status_in_the_United_Kingdom'}, 1096: {'name': 'Commonwealth_Games'}, 1097: {'name': 'Dundee'}, 1098: {'name': 'Edinburgh'}, 1099: {'name': 'European_Parliament'}, 1100: {'name': 'Garden'}, 1101: {'name': 'Granite'}, 1102: {'name': 'Hinduism'}, 1103: {'name': 'Liberal_Democrats'}, 1104: {'name': 'List_of_sovereign_states'}, 1105: {'name': 'North_Sea'}, 1106: {'name': 'North_Sea_oil'}, 1107: {'name': 'Park'}, 1108: {'name': 'Parliament_of_the_United_Kingdom'}, 1109: {'name': 'Scots_language'}, 1110: {'name': 'Scottish_Episcopal_Church'}, 1111: {'name': 'Scottish_Gaelic_language'}, 1112: {'name': 'Shetland'}, 1113: {'name': 'Aberration_of_light'}, 1114: {'name': 'Galaxy'}, 1115: {'name': 'John_Flamsteed'}, 1116: {'name': 'Tycho_Brahe'}, 1117: {'name': 'Aberystwyth'}, 1118: {'name': 'Birmingham'}, 1119: {'name': 'Cardiff'}, 1120: {'name': 'Edward_I_of_England'}, 1121: {'name': 'River'}, 1122: {'name': 'Abhidhamma_Pitaka'}, 1123: {'name': 'Pali_Canon'}, 1124: {'name': 'Sanskrit'}, 1125: {'name': 'University_of_Bristol'}, 1126: {'name': 'Abidjan'}, 1127: {'name': 'Accra'}, 1128: {'name': 'Bridge'}, 1129: {'name': 'Dakar'}, 1130: {'name': 'Liberia'}, 1131: {'name': 'Mali'}, 1132: {'name': 'Ouagadougou'}, 1133: {'name': 'Rainforest'}, 1134: {'name': 'Train'}, 1135: {'name': 'University'}, 1136: {'name': 'Yamoussoukro'}, 1137: {'name': 'Abkhazia'}, 1138: {'name': 'Budapest'}, 1139: {'name': 'Encyclopaedia_Britannica'}, 1140: {'name': 'Government'}, 1141: {'name': 'International_law'}, 1142: {'name': 'Istanbul'}, 1143: {'name': 'NATO'}, 1144: {'name': 'Wine'}, 1145: {'name': 'Able_Archer_83'}, 1146: {'name': 'Elizabeth_II_of_the_United_Kingdom'}, 1147: {'name': 'Greenland'}, 1148: {'name': 'Invasion_of_Grenada'}, 1149: {'name': 'Margaret_Thatcher'}, 1150: {'name': 'Mikhail_Gorbachev'}, 1151: {'name': 'Ronald_Reagan'}, 1152: {'name': 'Abraham_Goldfaden'}, 1153: {'name': 'Asthma'}, 1154: {'name': 'Bucharest'}, 1155: {'name': 'George_Eliot'}, 1156: {'name': 'Moscow'}, 1157: {'name': 'Warsaw'}, 1158: {'name': 'Aircraft_carrier'}, 1159: {'name': 'Andrew_Johnson'}, 1160: {'name': 'Battle_of_Gettysburg'}, 1161: {'name': 'Charles_Sumner'}, 1162: {'name': 'Chicago'}, 1163: {'name': 'Frederick_Douglass'}, 1164: {'name': 'Gettysburg_Address'}, 1165: {'name': 'James_Buchanan'}, 1166: {'name': 'James_K._Polk'}, 1167: {'name': 'Lyndon_B._Johnson'}, 1168: {'name': 'Supreme_Court_of_the_United_States'}, 1169: {'name': 'Tijuana'}, 1170: {'name': 'United_States_House_of_Representatives'}, 1171: {'name': 'William_Tecumseh_Sherman'}, 1172: {'name': 'Zachary_Taylor'}, 1173: {'name': 'Angelica'}, 1174: {'name': 'Antimony'}, 1175: {'name': 'Common_sage'}, 1176: {'name': 'Copper'}, 1177: {'name': 'Coriander'}, 1178: {'name': 'Czech_Republic'}, 1179: {'name': 'Distilled_beverage'}, 1180: {'name': 'Ernest_Hemingway'}, 1181: {'name': 'Essential_oil'}, 1182: {'name': 'Fennel'}, 1183: {'name': 'Lemon_balm'}, 1184: {'name': 'Nutmeg'}, 1185: {'name': 'Pablo_Picasso'}, 1186: {'name': 'Prague'}, 1187: {'name': 'Star_anise'}, 1188: {'name': 'Sugar'}, 1189: {'name': 'Vanuatu'}, 1190: {'name': 'Absolute_zero'}, 1191: {'name': 'Carbon'}, 1192: {'name': 'Crystal'}, 1193: {'name': 'Diamond'}, 1194: {'name': 'Empiricism'}, 1195: {'name': 'Entropy'}, 1196: {'name': 'Max_Planck'}, 1197: {'name': 'Robert_Boyle'}, 1198: {'name': 'Symmetry'}, 1199: {'name': 'Thermodynamic_temperature'}, 1200: {'name': 'Thermodynamics'}, 1201: {'name': 'William_Thomson,_1st_Baron_Kelvin'}, 1202: {'name': 'Abstract_art'}, 1203: {'name': 'Calligraphy'}, 1204: {'name': 'Constructivism_(art)'}, 1205: {'name': 'Fine_art'}, 1206: {'name': 'Abu_Dhabi'}, 1207: {'name': 'Arecaceae'}, 1208: {'name': 'Camel'}, 1209: {'name': 'Dubai'}, 1210: {'name': 'Emirate'}, 1211: {'name': 'Gazelle'}, 1212: {'name': 'Oman'}, 1213: {'name': 'Pearl'}, 1214: {'name': 'Abuja'}, 1215: {'name': 'Brasilia'}, 1216: {'name': 'Lagos'}, 1217: {'name': 'Acceleration'}, 1218: {'name': 'Light'}, 1219: {'name': 'Sea'}, 1220: {'name': 'Special_relativity'}, 1221: {'name': 'Accountancy'}, 1222: {'name': 'Ancient_Greece'}, 1223: {'name': 'Beach'}, 1224: {'name': 'Clothing'}, 1225: {'name': 'Acetic_acid'}, 1226: {'name': 'Acetone'}, 1227: {'name': 'Actinium'}, 1228: {'name': 'BP'}, 1229: {'name': 'Box_jellyfish'}, 1230: {'name': 'Chemical_element'}, 1231: {'name': 'Cider'}, 1232: {'name': 'Cobalt'}, 1233: {'name': 'Corrosion'}, 1234: {'name': 'Food'}, 1235: {'name': 'Formic_acid'}, 1236: {'name': 'Iodine'}, 1237: {'name': 'Iridium'}, 1238: {'name': 'Iron(III)_chloride'}, 1239: {'name': 'Magnesium'}, 1240: {'name': 'Manganese'}, 1241: {'name': 'Oxygen'}, 1242: {'name': 'Phase_(matter)'}, 1243: {'name': 'Pigment'}, 1244: {'name': 'Rhodium'}, 1245: {'name': 'Ruthenium'}, 1246: {'name': 'Soil'}, 1247: {'name': 'Sulfur'}, 1248: {'name': 'Sulfuric_acid'}, 1249: {'name': 'Toluene'}, 1250: {'name': 'Yeast'}, 1251: {'name': 'Bromine'}, 1252: {'name': 'Chlorine'}, 1253: {'name': 'Achilles'}, 1254: {'name': 'Agamemnon'}, 1255: {'name': 'Alexander_the_Great'}, 1256: {'name': 'Apollo'}, 1257: {'name': 'Athena'}, 1258: {'name': 'Bob_Dylan'}, 1259: {'name': 'Heracles'}, 1260: {'name': 'Homer'}, 1261: {'name': 'Odysseus'}, 1262: {'name': 'Odyssey'}, 1263: {'name': 'Trojan_War'}, 1264: {'name': 'Achilles_tendon'}, 1265: {'name': 'Acid_rain'}, 1266: {'name': 'Biology'}, 1267: {'name': 'Fossil_fuel'}, 1268: {'name': 'Gypsum'}, 1269: {'name': 'Hydrogen_peroxide'}, 1270: {'name': 'Invasive_species'}, 1271: {'name': 'Kyoto_Protocol'}, 1272: {'name': 'Ozone_depletion'}, 1273: {'name': 'Smog'}, 1274: {'name': 'Acorn_Computers'}, 1275: {'name': 'Cambridge'}, 1276: {'name': 'Commodore_64'}, 1277: {'name': 'Floppy_disk'}, 1278: {'name': 'Nottingham'}, 1279: {'name': 'Pound_sterling'}, 1280: {'name': 'The_Fens'}, 1281: {'name': 'Unix'}, 1282: {'name': 'Video'}, 1283: {'name': 'World_Wide_Web'}, 1284: {'name': 'ZX_Spectrum'}, 1285: {'name': 'Bismuth'}, 1286: {'name': 'Color'}, 1287: {'name': 'Francium'}, 1288: {'name': 'Lanthanum'}, 1289: {'name': 'List_of_elements_by_name'}, 1290: {'name': 'Magnetism'}, 1291: {'name': 'Periodic_table'}, 1292: {'name': 'Plutonium'}, 1293: {'name': 'Radium'}, 1294: {'name': 'Radon'}, 1295: {'name': 'Thorium'}, 1296: {'name': 'Uranium'}, 1297: {'name': 'Action_potential'}, 1298: {'name': 'Calcium'}, 1299: {'name': 'Capacitance'}, 1300: {'name': 'Cell_(biology)'}, 1301: {'name': 'Chemical_synapse'}, 1302: {'name': 'Electrical_resistance'}, 1303: {'name': 'Giraffe'}, 1304: {'name': 'Multiple_sclerosis'}, 1305: {'name': 'Potassium'}, 1306: {'name': 'Sodium'}, 1307: {'name': 'Volt'}, 1308: {'name': 'Whale'}, 1309: {'name': 'Actor'}, 1310: {'name': 'Drama'}, 1311: {'name': 'Hansel_und_Gretel'}, 1312: {'name': 'The_Marriage_of_Figaro'}, 1313: {'name': 'The_Simpsons'}, 1314: {'name': 'Acts_of_Union_1707'}, 1315: {'name': 'House_of_Lords'}, 1316: {'name': 'Laws_in_Wales_Acts_1535-1542'}, 1317: {'name': 'Actuary'}, 1318: {'name': 'Ancient_Rome'}, 1319: {'name': 'Business'}, 1320: {'name': 'Climate_change'}, 1321: {'name': 'Law'}, 1322: {'name': 'Mathematics'}, 1323: {'name': 'Probability_theory'}, 1324: {'name': 'The_Wall_Street_Journal'}, 1325: {'name': 'Ethics'}, 1326: {'name': 'John_Maynard_Keynes'}, 1327: {'name': 'Liberal_democracy'}, 1328: {'name': 'Liberalism'}, 1329: {'name': 'Libertarianism'}, 1330: {'name': 'Logic'}, 1331: {'name': 'Mercantilism'}, 1332: {'name': 'Political_economy'}, 1333: {'name': 'Political_philosophy'}, 1334: {'name': 'Thomas_Malthus'}, 1335: {'name': 'Utilitarianism'}, 1336: {'name': 'Addis_Ababa'}, 1337: {'name': 'Djibouti'}, 1338: {'name': 'Adelaide'}, 1339: {'name': 'Airbus_A380'}, 1340: {'name': 'Australian_English'}, 1341: {'name': 'Australian_rules_football'}, 1342: {'name': 'Drought'}, 1343: {'name': 'Irish_people'}, 1344: {'name': 'Manufacturing'}, 1345: {'name': 'Mount_Osmond,_South_Australia'}, 1346: {'name': 'Murray_River'}, 1347: {'name': 'Southern_Ocean'}, 1348: {'name': 'William_IV_of_the_United_Kingdom'}, 1349: {'name': 'Adenosine_triphosphate'}, 1350: {'name': 'DNA_repair'}, 1351: {'name': 'Eukaryote'}, 1352: {'name': 'Mitochondrion'}, 1353: {'name': 'Adi_Shankara'}, 1354: {'name': 'Brahman'}, 1355: {'name': 'Chola_dynasty'}, 1356: {'name': 'Himalayas'}, 1357: {'name': 'Varanasi'}, 1358: {'name': 'Adolf_Hitler'}, 1359: {'name': 'Alcohol'}, 1360: {'name': 'Anschluss'}, 1361: {'name': 'Architecture'}, 1362: {'name': 'Attack_on_Pearl_Harbor'}, 1363: {'name': 'Battle_of_Britain'}, 1364: {'name': 'Battle_of_France'}, 1365: {'name': 'Battle_of_Moscow'}, 1366: {'name': 'Battle_of_Stalingrad'}, 1367: {'name': 'Benito_Mussolini'}, 1368: {'name': 'Charlie_Chaplin'}, 1369: {'name': 'Coventry'}, 1370: {'name': 'Dam'}, 1371: {'name': 'Erwin_Rommel'}, 1372: {'name': 'Genealogy'}, 1373: {'name': 'Joseph_Stalin'}, 1374: {'name': 'Luftwaffe'}, 1375: {'name': 'Marxism'}, 1376: {'name': 'Nazi_Germany'}, 1377: {'name': 'Propaganda'}, 1378: {'name': 'Royal_Air_Force'}, 1379: {'name': 'Swastika'}, 1380: {'name': 'Trade_union'}, 1381: {'name': 'Treaty_of_Versailles'}, 1382: {'name': 'Vienna'}, 1383: {'name': 'Weimar_Republic'}, 1384: {'name': 'Winston_Churchill'}, 1385: {'name': 'Adriaen_van_der_Donck'}, 1386: {'name': 'The_Hague'}, 1387: {'name': 'Advertising'}, 1388: {'name': 'Ancient_history'}, 1389: {'name': 'Broadcasting'}, 1390: {'name': 'IPod'}, 1391: {'name': 'Philadelphia'}, 1392: {'name': 'Aesthetics'}, 1393: {'name': 'Ancient_Egypt'}, 1394: {'name': 'Andy_Warhol'}, 1395: {'name': 'Confucius'}, 1396: {'name': 'Dada'}, 1397: {'name': 'Drinking_water'}, 1398: {'name': 'Earl_of_Shaftesbury'}, 1399: {'name': 'Geometry'}, 1400: {'name': 'Guqin'}, 1401: {'name': 'Humour'}, 1402: {'name': 'Igor_Stravinsky'}, 1403: {'name': 'Indus_Valley_Civilization'}, 1404: {'name': 'Ludwig_Wittgenstein'}, 1405: {'name': 'Parthenon'}, 1406: {'name': 'Visual_arts'}, 1407: {'name': 'Afghan_Hound'}, 1408: {'name': 'Dog'}, 1409: {'name': 'Fox'}, 1410: {'name': 'Azerbaijan'}, 1411: {'name': 'Domestic_goat'}, 1412: {'name': 'Frankfurt'}, 1413: {'name': 'Idolatry'}, 1414: {'name': 'Islamic_republic'}, 1415: {'name': 'Morphine'}, 1416: {'name': 'Pashtun_people'}, 1417: {'name': 'Persian_literature'}, 1418: {'name': 'Sassanid_Empire'}, 1419: {'name': 'Tajikistan'}, 1420: {'name': 'Turkmenistan'}, 1421: {'name': 'Uzbekistan'}, 1422: {'name': 'World_Bank_Group'}, 1423: {'name': 'World_Heritage_Site'}, 1424: {'name': 'Algiers'}, 1425: {'name': 'Antananarivo'}, 1426: {'name': 'Atlantic_slave_trade'}, 1427: {'name': 'Bamako'}, 1428: {'name': 'Banjul'}, 1429: {'name': 'Benin'}, 1430: {'name': 'Bissau'}, 1431: {'name': 'Botswana'}, 1432: {'name': 'Cairo'}, 1433: {'name': 'Carnivore'}, 1434: {'name': 'Central_African_Republic'}, 1435: {'name': 'Chad'}, 1436: {'name': 'Cheetah'}, 1437: {'name': 'Cocoa'}, 1438: {'name': 'Comoros'}, 1439: {'name': 'Conakry'}, 1440: {'name': 'Congo_River'}, 1441: {'name': 'Continent'}, 1442: {'name': 'Cotton'}, 1443: {'name': 'Crocodile'}, 1444: {'name': 'Culture'}, 1445: {'name': 'David_Livingstone'}, 1446: {'name': 'Deity'}, 1447: {'name': 'Desert'}, 1448: {'name': 'Despotism'}, 1449: {'name': 'El_Aaiun'}, 1450: {'name': 'Elephant'}, 1451: {'name': 'Equatorial_Guinea'}, 1452: {'name': 'Eritrea'}, 1453: {'name': 'Flute'}, 1454: {'name': 'Fossil'}, 1455: {'name': 'Funchal'}, 1456: {'name': 'Gaborone'}, 1457: {'name': 'Great_Pyramid_of_Giza'}, 1458: {'name': 'Guinea'}, 1459: {'name': 'Guinea-Bissau'}, 1460: {'name': 'Harare'}, 1461: {'name': 'Henry_Morton_Stanley'}, 1462: {'name': 'Herbivore'}, 1463: {'name': 'Horn_of_Africa'}, 1464: {'name': 'Hutu'}, 1465: {'name': 'Hyena'}, 1466: {'name': 'Irrigation'}, 1467: {'name': 'Ishango_bone'}, 1468: {'name': 'Khartoum'}, 1469: {'name': 'Kigali'}, 1470: {'name': 'Lake_Victoria'}, 1471: {'name': 'Las_Palmas_de_Gran_Canaria'}, 1472: {'name': 'Lesotho'}, 1473: {'name': 'Libreville'}, 1474: {'name': 'Lilongwe'}, 1475: {'name': 'Lome'}, 1476: {'name': 'Lusaka'}, 1477: {'name': 'Malawi'}, 1478: {'name': 'Maputo'}, 1479: {'name': 'Maseru'}, 1480: {'name': 'Mayotte'}, 1481: {'name': 'Mbabane'}, 1482: {'name': 'Military_dictatorship'}, 1483: {'name': 'Mitochondrial_Eve'}, 1484: {'name': 'Monrovia'}, 1485: {'name': 'Nairobi'}, 1486: {'name': 'Namibia'}, 1487: {'name': 'Nouakchott'}, 1488: {'name': 'Palm_oil'}, 1489: {'name': 'Port_Louis'}, 1490: {'name': 'Porto-Novo'}, 1491: {'name': 'Praia'}, 1492: {'name': 'Pretoria'}, 1493: {'name': 'Reunion'}, 1494: {'name': 'Rabat'}, 1495: {'name': 'Reggae'}, 1496: {'name': 'Republic_of_the_Congo'}, 1497: {'name': 'Richard_Francis_Burton'}, 1498: {'name': 'Sao_Tome'}, 1499: {'name': 'Sao_Tome_and_Principe'}, 1500: {'name': 'Saint_Helena'}, 1501: {'name': 'Sorghum'}, 1502: {'name': 'Soukous'}, 1503: {'name': 'Swaziland'}, 1504: {'name': 'Temperate'}, 1505: {'name': 'The_Gambia'}, 1506: {'name': 'Timbuktu'}, 1507: {'name': 'Togo'}, 1508: {'name': 'Tripoli'}, 1509: {'name': 'Trumpet'}, 1510: {'name': 'Tunis'}, 1511: {'name': 'Tunisia'}, 1512: {'name': 'Tutsi'}, 1513: {'name': 'United_States_Senate'}, 1514: {'name': 'Victoria,_Seychelles'}, 1515: {'name': 'Western_Sahara'}, 1516: {'name': 'Zambia'}, 1517: {'name': 'African_American_literature'}, 1518: {'name': 'Martin_Luther_King,_Jr.'}, 1519: {'name': 'Southern_United_States'}, 1520: {'name': 'African_Black_Oystercatcher'}, 1521: {'name': 'Bird'}, 1522: {'name': 'Bird_migration'}, 1523: {'name': 'Feather'}, 1524: {'name': 'Plover'}, 1525: {'name': 'Wader'}, 1526: {'name': 'African_Brush-tailed_Porcupine'}, 1527: {'name': 'Cave'}, 1528: {'name': 'African_Buffalo'}, 1529: {'name': 'Hippopotamus'}, 1530: {'name': 'Vertebrate'}, 1531: {'name': 'Water_Buffalo'}, 1532: {'name': 'African_Darter'}, 1533: {'name': 'Cormorant'}, 1534: {'name': 'Heron'}, 1535: {'name': 'Sahara'}, 1536: {'name': 'Lake_Albert'}, 1537: {'name': 'Lake_Edward'}, 1538: {'name': 'Lake_Kivu'}, 1539: {'name': 'Lake_Malawi'}, 1540: {'name': 'Zambezi'}, 1541: {'name': 'African_Grey_Hornbill'}, 1542: {'name': 'African_Grey_Parrot'}, 1543: {'name': 'Cooperative'}, 1544: {'name': 'Crow'}, 1545: {'name': 'Parrot'}, 1546: {'name': 'Raven'}, 1547: {'name': 'African_Jacana'}, 1548: {'name': 'Coot'}, 1549: {'name': 'Insect'}, 1550: {'name': 'African_Penguin'}, 1551: {'name': 'Fish'}, 1552: {'name': 'Magellanic_Penguin'}, 1553: {'name': 'Chadian-Sudanese_conflict'}, 1554: {'name': 'Economy_of_Africa'}, 1555: {'name': 'Human_rights'}, 1556: {'name': \"Lord's_Resistance_Army\"}, 1557: {'name': 'African_Wild_Dog'}, 1558: {'name': 'African_clawed_frog'}, 1559: {'name': 'Frog'}, 1560: {'name': 'African_dwarf_frog'}, 1561: {'name': 'African_slave_trade'}, 1562: {'name': 'Mining'}, 1563: {'name': 'Peace'}, 1564: {'name': 'Auckland'}, 1565: {'name': 'History_of_South_Africa'}, 1566: {'name': 'Hollandic'}, 1567: {'name': 'Linguistics'}, 1568: {'name': 'Suriname'}, 1569: {'name': 'West_Flemish'}, 1570: {'name': 'Helen'}, 1571: {'name': 'Sean_Connery'}, 1572: {'name': 'Age_of_Enlightenment'}, 1573: {'name': 'Algebra'}, 1574: {'name': 'Baroque'}, 1575: {'name': 'Edward_Gibbon'}, 1576: {'name': 'Johann_Wolfgang_Goethe'}, 1577: {'name': 'Property'}, 1578: {'name': 'United_States_Declaration_of_Independence'}, 1579: {'name': 'Aggregator'}, 1580: {'name': 'Ajax_(programming)'}, 1581: {'name': 'ITunes'}, 1582: {'name': 'Podcasting'}, 1583: {'name': 'RSS_(file_format)'}, 1584: {'name': 'Agnosticism'}, 1585: {'name': 'Atheism'}, 1586: {'name': 'Bertrand_Russell'}, 1587: {'name': 'God'}, 1588: {'name': 'Andes'}, 1589: {'name': 'Arable_land'}, 1590: {'name': 'Barley'}, 1591: {'name': 'Beekeeping'}, 1592: {'name': 'Biodiesel'}, 1593: {'name': 'Botany'}, 1594: {'name': 'Egg_(food)'}, 1595: {'name': 'Fertile_Crescent'}, 1596: {'name': 'Fertilizer'}, 1597: {'name': 'Flower'}, 1598: {'name': 'History_of_the_world'}, 1599: {'name': 'Honey'}, 1600: {'name': 'Horse'}, 1601: {'name': 'Meat'}, 1602: {'name': 'Milk'}, 1603: {'name': 'Pea'}, 1604: {'name': 'Phosphorus'}, 1605: {'name': 'Soil_salination'}, 1606: {'name': 'Soybean'}, 1607: {'name': 'Sumer'}, 1608: {'name': 'Weed'}, 1609: {'name': 'Airbus'}, 1610: {'name': 'Aircraft'}, 1611: {'name': 'BAE_Systems'}, 1612: {'name': 'British_English'}, 1613: {'name': 'Concorde'}, 1614: {'name': 'Boeing_747'}, 1615: {'name': 'Brisbane'}, 1616: {'name': 'Fiberglass'}, 1617: {'name': 'Montreal'}, 1618: {'name': 'Titanium'}, 1619: {'name': 'Welding'}, 1620: {'name': 'Airship'}, 1621: {'name': 'Boat'}, 1622: {'name': 'Hot_air_balloon'}, 1623: {'name': 'Hovercraft'}, 1624: {'name': 'Battle_of_Midway'}, 1625: {'name': 'F-35_Lightning_II'}, 1626: {'name': 'Imperial_Japanese_Navy'}, 1627: {'name': 'Shanghai'}, 1628: {'name': 'Alberto_Santos-Dumont'}, 1629: {'name': 'English_Channel'}, 1630: {'name': 'Gibraltar'}, 1631: {'name': 'Shark'}, 1632: {'name': 'Internet_Explorer'}, 1633: {'name': 'Microsoft'}, 1634: {'name': 'Malwa_(Madhya_Pradesh)'}, 1635: {'name': 'Akhenaten'}, 1636: {'name': 'Sigmund_Freud'}, 1637: {'name': 'Akira_Kurosawa'}, 1638: {'name': 'Crime'}, 1639: {'name': 'Macbeth'}, 1640: {'name': 'Ran_(film)'}, 1641: {'name': 'Star_Wars_Episode_IV__A_New_Hope'}, 1642: {'name': 'Akkadian_Empire'}, 1643: {'name': 'Assyria'}, 1644: {'name': 'Astronomy'}, 1645: {'name': 'Babylonia'}, 1646: {'name': 'Hammurabi'}, 1647: {'name': 'Akrotiri_and_Dhekelia'}, 1648: {'name': 'ECHELON'}, 1649: {'name': 'Turkish_Republic_of_Northern_Cyprus'}, 1650: {'name': 'Aksumite_currency'}, 1651: {'name': 'GDRT'}, 1652: {'name': 'Al_Jazeera'}, 1653: {'name': 'Bahrain'}, 1654: {'name': 'Buenos_Aires'}, 1655: {'name': 'Doha'}, 1656: {'name': 'Federal_Bureau_of_Investigation'}, 1657: {'name': 'Alamosaurus'}, 1658: {'name': 'Cretaceous'}, 1659: {'name': 'Dinosaur'}, 1660: {'name': 'Parasaurolophus'}, 1661: {'name': 'Reptile'}, 1662: {'name': 'Saltasaurus'}, 1663: {'name': 'Saurischia'}, 1664: {'name': 'Sauropodomorpha'}, 1665: {'name': 'Alan_Turing'}, 1666: {'name': 'Algorithm'}, 1667: {'name': 'Boston,_Massachusetts'}, 1668: {'name': 'Computer_science'}, 1669: {'name': 'Enigma_machine'}, 1670: {'name': 'Princeton_University'}, 1671: {'name': 'Rainbow'}, 1672: {'name': 'Southampton'}, 1673: {'name': 'Trinity_College,_Cambridge'}, 1674: {'name': 'University_of_Texas_at_Austin'}, 1675: {'name': 'Andorra'}, 1676: {'name': 'Bosnia_and_Herzegovina'}, 1677: {'name': 'Bronze_Age'}, 1678: {'name': 'Brunei'}, 1679: {'name': 'Estonia'}, 1680: {'name': 'Guyana'}, 1681: {'name': 'Herodotus'}, 1682: {'name': 'Jordan'}, 1683: {'name': 'Kazakhstan'}, 1684: {'name': 'Kosovo'}, 1685: {'name': 'Liechtenstein'}, 1686: {'name': 'Macedon'}, 1687: {'name': 'Moldova'}, 1688: {'name': 'Principality'}, 1689: {'name': 'Republic_of_Macedonia'}, 1690: {'name': 'Slovenia'}, 1691: {'name': 'Stone_Age'}, 1692: {'name': 'Thucydides'}, 1693: {'name': 'Yemen'}, 1694: {'name': 'Albatross'}, 1695: {'name': 'Bird_of_prey'}, 1696: {'name': 'Crustacean'}, 1697: {'name': 'Easter_Island'}, 1698: {'name': 'Eocene'}, 1699: {'name': 'Extinction'}, 1700: {'name': 'Falkland_Islands'}, 1701: {'name': 'Gull'}, 1702: {'name': 'Krill'}, 1703: {'name': 'Midway_Atoll'}, 1704: {'name': 'Monty_Python'}, 1705: {'name': 'Oligocene'}, 1706: {'name': 'Popular_culture'}, 1707: {'name': 'Serenity_(film)'}, 1708: {'name': 'The_Rime_of_the_Ancient_Mariner'}, 1709: {'name': 'Weather'}, 1710: {'name': 'Anarchism'}, 1711: {'name': 'Asperger_syndrome'}, 1712: {'name': 'Atom'}, 1713: {'name': 'Attention-deficit_hyperactivity_disorder'}, 1714: {'name': 'Edward_Teller'}, 1715: {'name': 'Einsteinium'}, 1716: {'name': 'Electrical_engineering'}, 1717: {'name': 'Euclidean_geometry'}, 1718: {'name': 'Franklin_D._Roosevelt'}, 1719: {'name': 'Geography'}, 1720: {'name': 'Intelligence'}, 1721: {'name': 'Linus_Pauling'}, 1722: {'name': 'Luminiferous_aether'}, 1723: {'name': 'Matter'}, 1724: {'name': 'Microscope'}, 1725: {'name': 'Nature'}, 1726: {'name': 'Niels_Bohr'}, 1727: {'name': 'Nuclear_fission'}, 1728: {'name': 'Paul_Dirac'}, 1729: {'name': 'Richard_Feynman'}, 1730: {'name': 'Schizophrenia'}, 1731: {'name': 'Stuttgart'}, 1732: {'name': 'Electricity'}, 1733: {'name': 'French_Open_(tennis)'}, 1734: {'name': 'Rio_de_Janeiro'}, 1735: {'name': 'Sao_Paulo'}, 1736: {'name': 'Theodore_Roosevelt'}, 1737: {'name': 'Wright_brothers'}, 1738: {'name': 'Albertosaurus'}, 1739: {'name': 'Allosaurus'}, 1740: {'name': 'Deinonychus'}, 1741: {'name': 'Fossil_record'}, 1742: {'name': 'Theropoda'}, 1743: {'name': 'Tyrannosaurus'}, 1744: {'name': 'Albigensian_Crusade'}, 1745: {'name': \"Children's_Crusade\"}, 1746: {'name': 'German_Crusade,_1096'}, 1747: {'name': 'Lyon'}, 1748: {'name': 'Albinism'}, 1749: {'name': 'Chromatophore'}, 1750: {'name': 'Color_blindness'}, 1751: {'name': 'Papua_New_Guinea'}, 1752: {'name': 'Retina'}, 1753: {'name': 'Albrecht_Durer'}, 1754: {'name': 'Anatomy'}, 1755: {'name': 'Antwerp'}, 1756: {'name': 'Drawing'}, 1757: {'name': 'Printmaking'}, 1758: {'name': 'Rembrandt'}, 1759: {'name': 'Albrecht_Rodenbach'}, 1760: {'name': 'Flemish_(linguistics)'}, 1761: {'name': 'Astrology'}, 1762: {'name': 'Ben_Jonson'}, 1763: {'name': 'Canterbury'}, 1764: {'name': 'Carl_Jung'}, 1765: {'name': 'Cryptography'}, 1766: {'name': 'Ernest_Rutherford'}, 1767: {'name': 'Frankenstein'}, 1768: {'name': 'Glass'}, 1769: {'name': 'Guild'}, 1770: {'name': 'History_of_science'}, 1771: {'name': 'Hydrochloric_acid'}, 1772: {'name': 'J._K._Rowling'}, 1773: {'name': 'John_Dee'}, 1774: {'name': 'Mercury_(element)'}, 1775: {'name': 'Metallurgy'}, 1776: {'name': 'Mysticism'}, 1777: {'name': 'Mythology'}, 1778: {'name': 'Nintendo'}, 1779: {'name': 'Oxford'}, 1780: {'name': 'Potassium_nitrate'}, 1781: {'name': 'Psychology'}, 1782: {'name': 'Pythagoras'}, 1783: {'name': 'Silver'}, 1784: {'name': 'Star_Trek'}, 1785: {'name': 'Alcibiades'}, 1786: {'name': 'Demosthenes'}, 1787: {'name': 'Pericles'}, 1788: {'name': 'Socrates'}, 1789: {'name': 'Thrasybulus'}, 1790: {'name': 'Algol'}, 1791: {'name': 'Benzene'}, 1792: {'name': 'Lithium_aluminium_hydride'}, 1793: {'name': 'Phosphorus_tribromide'}, 1794: {'name': 'Sodium_hydroxide'}, 1795: {'name': 'Vanilla'}, 1796: {'name': 'Zinc_chloride'}, 1797: {'name': 'Nikolai_Rimsky-Korsakov'}, 1798: {'name': 'Aleksandr_Vasilevsky'}, 1799: {'name': 'Polish-Soviet_War'}, 1800: {'name': 'Virtuti_Militari'}, 1801: {'name': 'Aleksey_Arakcheyev'}, 1802: {'name': 'Nightingale'}, 1803: {'name': 'Bath,_Somerset'}, 1804: {'name': 'James_Garfield'}, 1805: {'name': 'Selenium'}, 1806: {'name': 'James_Monroe'}, 1807: {'name': 'John_Adams'}, 1808: {'name': 'Ganges_River'}, 1809: {'name': 'Pyramid'}, 1810: {'name': 'Siege'}, 1811: {'name': 'Alfred_Hitchcock'}, 1812: {'name': 'Citizen_Kane'}, 1813: {'name': 'Henry_Fonda'}, 1814: {'name': 'James_Stewart_(actor)'}, 1815: {'name': 'Los_Angeles,_California'}, 1816: {'name': 'Salvador_Dali'}, 1817: {'name': 'Silent_film'}, 1818: {'name': 'Walt_Disney'}, 1819: {'name': 'Esperanto'}, 1820: {'name': 'Nobel_Peace_Prize'}, 1821: {'name': 'Nobelium'}, 1822: {'name': 'Stroke'}, 1823: {'name': 'Consolation_of_Philosophy'}, 1824: {'name': 'Hampshire'}, 1825: {'name': 'Old_English_language'}, 1826: {'name': 'Watling_Street'}, 1827: {'name': 'Wessex'}, 1828: {'name': 'Differential_equation'}, 1829: {'name': 'Elementary_algebra'}, 1830: {'name': 'Group_(mathematics)'}, 1831: {'name': 'Linear_algebra'}, 1832: {'name': 'Mathematical_analysis'}, 1833: {'name': 'Matrix_(mathematics)'}, 1834: {'name': 'Muhammad_ibn_Musa_al-Khwarizmi'}, 1835: {'name': 'Number'}, 1836: {'name': 'Quantity'}, 1837: {'name': 'Set'}, 1838: {'name': 'Topology'}, 1839: {'name': 'Algerian_Civil_War'}, 1840: {'name': 'Berber_languages'}, 1841: {'name': 'Climate'}, 1842: {'name': 'Oat'}, 1843: {'name': 'Barcelona'}, 1844: {'name': 'Geneva'}, 1845: {'name': 'Sirius'}, 1846: {'name': 'Algoma_Central_Railway'}, 1847: {'name': 'Hudson_Bay'}, 1848: {'name': 'Lake_Superior'}, 1849: {'name': 'Charles_Babbage'}, 1850: {'name': 'Clock'}, 1851: {'name': 'Functional_programming'}, 1852: {'name': 'Imperative_programming'}, 1853: {'name': 'Programming_language'}, 1854: {'name': \"Alice's_Adventures_in_Wonderland\"}, 1855: {'name': 'Game'}, 1856: {'name': 'Llandudno'}, 1857: {'name': 'Richard_III_(play)'}, 1858: {'name': 'River_Thames'}, 1859: {'name': 'All_Blacks'}, 1860: {'name': 'Babe_Ruth'}, 1861: {'name': 'Donald_Bradman'}, 1862: {'name': 'History_of_South_Africa_in_the_apartheid_era'}, 1863: {'name': 'Jonah_Lomu'}, 1864: {'name': 'Rugby_World_Cup'}, 1865: {'name': 'Super_14'}, 1866: {'name': 'Tiger_Woods'}, 1867: {'name': 'Wellington'}, 1868: {'name': 'All_You_Need_Is_Love_(The_JAMs_song)'}, 1869: {'name': 'The_Illuminatus!_Trilogy'}, 1870: {'name': 'Whitney_Joins_The_JAMs'}, 1871: {'name': 'All_your_base_are_belong_to_us'}, 1872: {'name': 'Allah'}, 1873: {'name': 'Isaac'}, 1874: {'name': 'Trinity'}, 1875: {'name': 'Allegory_in_the_Middle_Ages'}, 1876: {'name': 'Medieval_literature'}, 1877: {'name': 'Alligator'}, 1878: {'name': 'Family'}, 1879: {'name': 'Pond'}, 1880: {'name': 'Spring_(season)'}, 1881: {'name': 'Yangtze_River'}, 1882: {'name': 'Alliterative_verse'}, 1883: {'name': 'Ezra_Pound'}, 1884: {'name': 'Hebrides'}, 1885: {'name': 'J._R._R._Tolkien'}, 1886: {'name': 'Apatosaurus'}, 1887: {'name': 'Calvin_and_Hobbes'}, 1888: {'name': 'Camarasaurus'}, 1889: {'name': 'Diplodocus'}, 1890: {'name': 'Jurassic'}, 1891: {'name': 'Stegosaurus'}, 1892: {'name': 'Almaty'}, 1893: {'name': 'Almond'}, 1894: {'name': 'British_Isles'}, 1895: {'name': 'Diabetes_mellitus'}, 1896: {'name': 'Fatty_acid'}, 1897: {'name': 'Olive_oil'}, 1898: {'name': 'Plum'}, 1899: {'name': 'Seed'}, 1900: {'name': 'Alpaca'}, 1901: {'name': 'Ostrich'}, 1902: {'name': 'Alphabet'}, 1903: {'name': 'Latin_alphabet'}, 1904: {'name': 'Alternating_current'}, 1905: {'name': 'Electromagnetic_radiation'}, 1906: {'name': 'Information'}, 1907: {'name': 'Radio_frequency'}, 1908: {'name': 'Thomas_Edison'}, 1909: {'name': 'Alternation_of_generations'}, 1910: {'name': 'Fern'}, 1911: {'name': 'Moss'}, 1912: {'name': 'Alternative_rock'}, 1913: {'name': 'Arctic_Monkeys'}, 1914: {'name': 'Folk_music'}, 1915: {'name': 'Kurt_Cobain'}, 1916: {'name': 'Nirvana_(band)'}, 1917: {'name': 'Oasis_(band)'}, 1918: {'name': 'The_Smiths'}, 1919: {'name': 'Aluminium_chloride'}, 1920: {'name': 'Beryllium'}, 1921: {'name': 'Bicycle'}, 1922: {'name': 'Boron'}, 1923: {'name': 'Compact_Disc'}, 1924: {'name': 'Corundum'}, 1925: {'name': 'Gallium'}, 1926: {'name': 'Humphry_Davy'}, 1927: {'name': 'Mohs_scale_of_mineral_hardness'}, 1928: {'name': 'Molybdenum'}, 1929: {'name': 'Neon'}, 1930: {'name': 'Neutron'}, 1931: {'name': 'Piccadilly_Circus'}, 1932: {'name': 'Platinum'}, 1933: {'name': 'Quartz'}, 1934: {'name': 'Recycling'}, 1935: {'name': 'Screw'}, 1936: {'name': 'Strontium'}, 1937: {'name': 'Tantalum'}, 1938: {'name': 'Water_purification'}, 1939: {'name': 'Copper(I)_chloride'}, 1940: {'name': 'Dysprosium'}, 1941: {'name': 'Ytterbium'}, 1942: {'name': 'B_vitamins'}, 1943: {'name': 'Pneumonia'}, 1944: {'name': 'Vitamin_C'}, 1945: {'name': 'Amaranth_oil'}, 1946: {'name': 'Lipid'}, 1947: {'name': 'Amarillo,_Texas'}, 1948: {'name': 'Auto_racing'}, 1949: {'name': 'Bison'}, 1950: {'name': 'Grover_Cleveland'}, 1951: {'name': 'Las_Vegas,_Nevada'}, 1952: {'name': 'Medal_of_Honor'}, 1953: {'name': 'Space_Shuttle_Columbia'}, 1954: {'name': 'Summer'}, 1955: {'name': 'Tornado'}, 1956: {'name': 'U.S._Route_66'}, 1957: {'name': 'Amazon_Basin'}, 1958: {'name': 'City'}, 1959: {'name': 'Fishing'}, 1960: {'name': 'Amazon_Rainforest'}, 1961: {'name': 'French_Guiana'}, 1962: {'name': 'Anaconda'}, 1963: {'name': 'Quito'}, 1964: {'name': 'Amazon_parrot'}, 1965: {'name': 'Amber'}, 1966: {'name': 'Brighton'}, 1967: {'name': 'Great_Yarmouth'}, 1968: {'name': 'Marseille'}, 1969: {'name': 'Amda_Seyon_I'}, 1970: {'name': 'Coin'}, 1971: {'name': 'Atlanta,_Georgia'}, 1972: {'name': 'Fourteenth_Amendment_to_the_United_States_Constitution'}, 1973: {'name': 'Ku_Klux_Klan'}, 1974: {'name': 'Liverpool'}, 1975: {'name': 'Nashville,_Tennessee'}, 1976: {'name': 'Rhode_Island'}, 1977: {'name': 'Winfield_Scott_Hancock'}, 1978: {'name': 'American_English'}, 1979: {'name': 'American_football'}, 1980: {'name': 'Automated_teller_machine'}, 1981: {'name': 'Autumn'}, 1982: {'name': 'Baseball'}, 1983: {'name': 'Canadian_English'}, 1984: {'name': 'Necktie'}, 1985: {'name': 'British_House_of_Commons'}, 1986: {'name': 'France_in_the_American_Revolutionary_War'}, 1987: {'name': 'American_Samoa'}, 1988: {'name': 'Cook_Islands'}, 1989: {'name': 'Samoa'}, 1990: {'name': 'Tokelau'}, 1991: {'name': 'Wallis_and_Futuna'}, 1992: {'name': 'Canadian_football'}, 1993: {'name': 'Football'}, 1994: {'name': 'Rugby_football'}, 1995: {'name': 'American_popular_music'}, 1996: {'name': 'Bruce_Springsteen'}, 1997: {'name': 'Classic_female_blues'}, 1998: {'name': 'Double_bass'}, 1999: {'name': 'Elvis_Presley'}, 2000: {'name': 'Henry_Rollins'}, 2001: {'name': 'Louis_Jordan'}, 2002: {'name': 'Marvin_Gaye'}, 2003: {'name': 'Minstrel_show'}, 2004: {'name': 'Music_of_Hawaii'}, 2005: {'name': 'Music_of_Spain'}, 2006: {'name': 'Music_of_the_United_States'}, 2007: {'name': 'Phonograph_cylinder'}, 2008: {'name': 'Porgy_and_Bess'}, 2009: {'name': 'Ragtime'}, 2010: {'name': 'Rhythm_and_blues'}, 2011: {'name': 'Salsa_music'}, 2012: {'name': 'Ukulele'}, 2013: {'name': 'Van_Halen'}, 2014: {'name': 'Americium'}, 2015: {'name': 'Curium'}, 2016: {'name': 'Europium'}, 2017: {'name': 'Neptunium'}, 2018: {'name': 'University_of_Chicago'}, 2019: {'name': 'Celery'}, 2020: {'name': 'Ethnic_group'}, 2021: {'name': 'Ammolite'}, 2022: {'name': 'Ammonite'}, 2023: {'name': 'Barium'}, 2024: {'name': 'Calcite'}, 2025: {'name': 'Clay'}, 2026: {'name': 'Feldspar'}, 2027: {'name': 'Jewellery'}, 2028: {'name': 'Mosaic'}, 2029: {'name': 'Prospecting'}, 2030: {'name': 'Protein'}, 2031: {'name': 'Pyrite'}, 2032: {'name': 'Rocky_Mountains'}, 2033: {'name': 'Stained_glass'}, 2034: {'name': 'Vanadium'}, 2035: {'name': 'Germanium'}, 2036: {'name': 'Milky_Way'}, 2037: {'name': 'Nitrogen_fixation'}, 2038: {'name': 'Tellurium'}, 2039: {'name': 'Cretaceous-Tertiary_extinction_event'}, 2040: {'name': 'Devonian'}, 2041: {'name': 'Gender'}, 2042: {'name': 'Meteor'}, 2043: {'name': 'Silurian'}, 2044: {'name': 'Ammosaurus'}, 2045: {'name': 'Massospondylus'}, 2046: {'name': 'Anne_Frank'}, 2047: {'name': 'Basketball'}, 2048: {'name': 'Ice_hockey'}, 2049: {'name': 'Rotterdam'}, 2050: {'name': 'Amtrak'}, 2051: {'name': 'Autorack'}, 2052: {'name': 'Baltimore,_Maryland'}, 2053: {'name': 'Columbus,_Ohio'}, 2054: {'name': 'Detroit,_Michigan'}, 2055: {'name': 'EMD_F7'}, 2056: {'name': 'Louisville,_Kentucky'}, 2057: {'name': 'Miami,_Florida'}, 2058: {'name': 'Newark,_New_Jersey'}, 2059: {'name': 'PRR_GG1'}, 2060: {'name': 'Railway_post_office'}, 2061: {'name': 'San_Diegan'}, 2062: {'name': 'San_Jose,_California'}, 2063: {'name': 'Super_Chief'}, 2064: {'name': 'Union_Station_(San_Diego)'}, 2065: {'name': 'Vancouver'}, 2066: {'name': 'Amur'}, 2067: {'name': 'Mongolia'}, 2068: {'name': 'Boa'}, 2069: {'name': 'Chicken'}, 2070: {'name': 'Paraguay'}, 2071: {'name': 'Tamil_language'}, 2072: {'name': 'Turtle'}, 2073: {'name': 'Analytical_Marxism'}, 2074: {'name': 'Game_theory'}, 2075: {'name': 'Karl_Popper'}, 2076: {'name': 'Anarcho-capitalism'}, 2077: {'name': 'GNU'}, 2078: {'name': 'Graphic_novel'}, 2079: {'name': 'Henry_David_Thoreau'}, 2080: {'name': 'Jack_Kerouac'}, 2081: {'name': 'Laozi'}, 2082: {'name': 'Noam_Chomsky'}, 2083: {'name': 'Stoicism'}, 2084: {'name': 'World_Trade_Organization'}, 2085: {'name': 'Corporation'}, 2086: {'name': 'Cyberpunk'}, 2087: {'name': 'Race'}, 2088: {'name': 'Anemia'}, 2089: {'name': 'Board_game'}, 2090: {'name': 'Egyptian_pyramids'}, 2091: {'name': 'Iron_Age'}, 2092: {'name': 'Mummy'}, 2093: {'name': 'Rosetta_Stone'}, 2094: {'name': 'Society'}, 2095: {'name': 'Turquoise'}, 2096: {'name': 'Vowel'}, 2097: {'name': 'Writing'}, 2098: {'name': 'Battle_of_Marathon'}, 2099: {'name': 'Bread'}, 2100: {'name': 'Cheese'}, 2101: {'name': 'Corinthian_War'}, 2102: {'name': 'Epaminondas'}, 2103: {'name': 'Hellenistic_Greece'}, 2104: {'name': 'Hippocrates'}, 2105: {'name': 'History_of_Greece'}, 2106: {'name': 'Minoan_civilization'}, 2107: {'name': 'Neoclassicism'}, 2108: {'name': 'Onion'}, 2109: {'name': 'Roman_Greece'}, 2110: {'name': 'Elagabalus'}, 2111: {'name': 'House'}, 2112: {'name': 'Invasion'}, 2113: {'name': 'Isis'}, 2114: {'name': 'Jupiter_(mythology)'}, 2115: {'name': 'Oligarchy'}, 2116: {'name': 'Pupil'}, 2117: {'name': 'Roman_law'}, 2118: {'name': 'Roman_road'}, 2119: {'name': 'Roman_villa'}, 2120: {'name': 'Romulus_Augustus'}, 2121: {'name': 'Wrestling'}, 2122: {'name': 'Confucianism'}, 2123: {'name': 'Cyrus_the_Great'}, 2124: {'name': 'Dance'}, 2125: {'name': 'Fire'}, 2126: {'name': 'Lothal'}, 2127: {'name': 'Mahabharata'}, 2128: {'name': 'Qin_Shi_Huang'}, 2129: {'name': 'Ramayana'}, 2130: {'name': 'Sculpture'}, 2131: {'name': 'Tamil_people'}, 2132: {'name': 'Yellow_River'}, 2133: {'name': 'Aruba'}, 2134: {'name': 'Cotopaxi'}, 2135: {'name': 'Craton'}, 2136: {'name': 'Galeras'}, 2137: {'name': 'Machu_Picchu'}, 2138: {'name': 'Folklore'}, 2139: {'name': 'Andres_Nocioni'}, 2140: {'name': 'Andrew_Carnegie'}, 2141: {'name': 'Andrew_Dickson_White'}, 2142: {'name': 'Andrew_Gonzalez'}, 2143: {'name': 'Ateneo_de_Manila_University'}, 2144: {'name': 'John_Marshall'}, 2145: {'name': 'Martin_Van_Buren'}, 2146: {'name': 'Andrew_Robinson'}, 2147: {'name': 'John_F._Kennedy'}, 2148: {'name': 'The_X-Files'}, 2149: {'name': 'Andriyivskyy_Descent'}, 2150: {'name': 'Kiev'}, 2151: {'name': 'Andromeda_Galaxy'}, 2152: {'name': 'European_Space_Agency'}, 2153: {'name': 'Extraterrestrial_life'}, 2154: {'name': 'Globular_cluster'}, 2155: {'name': 'H_II_region'}, 2156: {'name': 'Redshift'}, 2157: {'name': 'Universe'}, 2158: {'name': 'Mao_Zedong'}, 2159: {'name': 'Money'}, 2160: {'name': 'Myocardial_infarction'}, 2161: {'name': 'The_Rolling_Stones'}, 2162: {'name': 'Apricot'}, 2163: {'name': 'Folic_acid'}, 2164: {'name': 'Parsley'}, 2165: {'name': 'Pernicious_anemia'}, 2166: {'name': 'Sickle-cell_disease'}, 2167: {'name': 'Thalassemia'}, 2168: {'name': 'Angel_shark'}, 2169: {'name': 'Angkor'}, 2170: {'name': 'Gyeongju'}, 2171: {'name': 'Michelangelo'}, 2172: {'name': 'Rama'}, 2173: {'name': 'Anglican_Church_of_Australia'}, 2174: {'name': 'Apostolic_Succession'}, 2175: {'name': 'Book_of_Common_Prayer'}, 2176: {'name': 'British_monarchy'}, 2177: {'name': 'Church_of_Ireland'}, 2178: {'name': 'English_Reformation'}, 2179: {'name': 'Episcopal_polity'}, 2180: {'name': 'Michael_Ramsey'}, 2181: {'name': 'Ordination_of_women'}, 2182: {'name': 'Thomas_Cranmer'}, 2183: {'name': 'Desmond_Tutu'}, 2184: {'name': 'Roman_Britain'}, 2185: {'name': 'Solomon_Islands'}, 2186: {'name': 'William_Wilberforce'}, 2187: {'name': 'Anglo-Saxon_literature'}, 2188: {'name': 'Caedmon'}, 2189: {'name': 'History_of_Anglo-Saxon_England'}, 2190: {'name': 'Jorge_Luis_Borges'}, 2191: {'name': 'Literacy'}, 2192: {'name': 'Peterborough_Chronicle'}, 2193: {'name': 'T._S._Eliot'}, 2194: {'name': 'The_Hobbit'}, 2195: {'name': 'The_Lord_of_the_Rings'}, 2196: {'name': 'Anguilla'}, 2197: {'name': 'Australian_Green_Tree_Frog'}, 2198: {'name': 'Cambrian'}, 2199: {'name': 'Cambrian_explosion'}, 2200: {'name': 'Organism'}, 2201: {'name': 'Precambrian'}, 2202: {'name': 'Spider'}, 2203: {'name': 'Sunlight'}, 2204: {'name': 'Animal_law'}, 2205: {'name': 'Animal_rights'}, 2206: {'name': \"Children's_rights_movement\"}, 2207: {'name': 'Civil_rights'}, 2208: {'name': 'Mind'}, 2209: {'name': \"Women's_rights\"}, 2210: {'name': 'Motion_(physics)'}, 2211: {'name': 'The_Lion_King'}, 2212: {'name': 'Ankylosaurus'}, 2213: {'name': 'Armadillo'}, 2214: {'name': 'Ornithischia'}, 2215: {'name': 'Triceratops'}, 2216: {'name': 'Ann_Arbor,_Michigan'}, 2217: {'name': 'Biotechnology'}, 2218: {'name': 'Frank_Lloyd_Wright'}, 2219: {'name': 'Anna_Karenina'}, 2220: {'name': 'James_Joyce'}, 2221: {'name': 'Tashkent'}, 2222: {'name': 'Vivien_Leigh'}, 2223: {'name': 'Basel'}, 2224: {'name': 'Humanism'}, 2225: {'name': 'Johannesburg'}, 2226: {'name': 'Nelson_Mandela'}, 2227: {'name': 'Publishing'}, 2228: {'name': 'Sarajevo'}, 2229: {'name': 'George_I_of_Great_Britain'}, 2230: {'name': 'Jacobite_rising'}, 2231: {'name': 'John_Vanbrugh'}, 2232: {'name': 'Order_of_the_Garter'}, 2233: {'name': 'Annibale_Bugnini'}, 2234: {'name': 'Pope_Pius_XII'}, 2235: {'name': 'Hebrew_calendar'}, 2236: {'name': 'Republic_of_China'}, 2237: {'name': 'Triumph_of_the_Will'}, 2238: {'name': 'Aphid'}, 2239: {'name': 'Arthropod'}, 2240: {'name': 'Bee'}, 2241: {'name': 'Hymenoptera'}, 2242: {'name': 'Thorax'}, 2243: {'name': 'Wasp'}, 2244: {'name': 'Wood'}, 2245: {'name': 'Communication'}, 2246: {'name': 'Antarctic_Treaty_System'}, 2247: {'name': 'International_Court_of_Justice'}, 2248: {'name': 'Antarctic_krill'}, 2249: {'name': 'Aquarium'}, 2250: {'name': 'Invertebrate'}, 2251: {'name': 'Penguin'}, 2252: {'name': 'Cosmic_microwave_background_radiation'}, 2253: {'name': 'Emperor_Penguin'}, 2254: {'name': 'Full_moon'}, 2255: {'name': 'Ice_sheet'}, 2256: {'name': 'Lake_Vostok'}, 2257: {'name': 'Roald_Amundsen'}, 2258: {'name': 'Sand'}, 2259: {'name': 'Ship'}, 2260: {'name': 'South_Georgia_and_the_South_Sandwich_Islands'}, 2261: {'name': 'Antarctosaurus'}, 2262: {'name': 'Antelope'}, 2263: {'name': 'Black_Wildebeest'}, 2264: {'name': 'Blue_Wildebeest'}, 2265: {'name': 'Bongo_(antelope)'}, 2266: {'name': 'Bontebok'}, 2267: {'name': 'Common_Eland'}, 2268: {'name': 'Dik-dik'}, 2269: {'name': 'Giant_Eland'}, 2270: {'name': 'Wildebeest'}, 2271: {'name': 'Anthony_van_Dyck'}, 2272: {'name': 'Flemish_people'}, 2273: {'name': 'National_Gallery,_London'}, 2274: {'name': 'Claude_Levi-Strauss'}, 2275: {'name': 'Sociology'}, 2276: {'name': 'Antigua_and_Barbuda'}, 2277: {'name': 'Eric_Clapton'}, 2278: {'name': 'Saint_Kitts_and_Nevis'}, 2279: {'name': 'Arsenic'}, 2280: {'name': 'Krypton'}, 2281: {'name': 'Pottery'}, 2282: {'name': 'Semiconductor'}, 2283: {'name': 'Tin'}, 2284: {'name': 'Antlion'}, 2285: {'name': 'Jacques-Louis_David'}, 2286: {'name': 'Nitrogen_cycle'}, 2287: {'name': 'Apollo_11'}, 2288: {'name': 'Gerald_Ford'}, 2289: {'name': 'Neil_Armstrong'}, 2290: {'name': 'University_of_Cambridge'}, 2291: {'name': 'Anton_Alexander_von_Werner'}, 2292: {'name': 'Black_pepper'}, 2293: {'name': 'Lille'}, 2294: {'name': 'Apaochi'}, 2295: {'name': 'Baboon'}, 2296: {'name': 'Monkey'}, 2297: {'name': 'Carboniferous'}, 2298: {'name': 'Coccinellidae'}, 2299: {'name': 'Triassic'}, 2300: {'name': 'Cyclops'}, 2301: {'name': 'Dolphin'}, 2302: {'name': 'European_Goldfinch'}, 2303: {'name': 'Saturn_V'}, 2304: {'name': 'Apollo_8'}, 2305: {'name': 'Glynn_Lunney'}, 2306: {'name': 'Moon_landing'}, 2307: {'name': 'Radio_telescope'}, 2308: {'name': 'Cape_Canaveral'}, 2309: {'name': 'Domesticated_turkey'}, 2310: {'name': 'Santa_Claus'}, 2311: {'name': 'Celtic_mythology'}, 2312: {'name': 'Cultivar'}, 2313: {'name': 'Halloween'}, 2314: {'name': 'Johnny_Appleseed'}, 2315: {'name': 'Lung_cancer'}, 2316: {'name': 'Norse_mythology'}, 2317: {'name': 'Pollinator'}, 2318: {'name': 'Prostate_cancer'}, 2319: {'name': 'Applied_mathematics'}, 2320: {'name': 'Bioinformatics'}, 2321: {'name': 'Ordinary_differential_equation'}, 2322: {'name': 'Retinol'}, 2323: {'name': 'Ecology'}, 2324: {'name': 'Goldfish'}, 2325: {'name': 'Guangzhou'}, 2326: {'name': 'Nitrification'}, 2327: {'name': 'Otter'}, 2328: {'name': 'Oxyrhynchus'}, 2329: {'name': \"Regent's_Park\"}, 2330: {'name': 'The_Great_Exhibition'}, 2331: {'name': 'Tropics'}, 2332: {'name': 'Whale_shark'}, 2333: {'name': 'Arab_League'}, 2334: {'name': 'West_Bank'}, 2335: {'name': 'Gaza_Strip'}, 2336: {'name': 'Indonesian_language'}, 2337: {'name': 'Palestinian_territories'}, 2338: {'name': 'Land_(economics)'}, 2339: {'name': 'Aradia,_or_the_Gospel_of_the_Witches'}, 2340: {'name': 'Aral_Sea'}, 2341: {'name': 'Volga_River'}, 2342: {'name': 'Arcadia_(play)'}, 2343: {'name': 'Royal_National_Theatre'}, 2344: {'name': 'Archaeoastronomy'}, 2345: {'name': 'Meteor_shower'}, 2346: {'name': 'Stonehenge'}, 2347: {'name': 'Oceania'}, 2348: {'name': 'Paleontology'}, 2349: {'name': 'Archaeopteryx'}, 2350: {'name': 'Compsognathus'}, 2351: {'name': 'Magpie'}, 2352: {'name': 'Microraptor'}, 2353: {'name': 'Pterosaur'}, 2354: {'name': 'Canterbury_Cathedral'}, 2355: {'name': 'Privy_Council_of_the_United_Kingdom'}, 2356: {'name': 'Archimedes'}, 2357: {'name': 'Pi'}, 2358: {'name': 'Sphere'}, 2359: {'name': 'Architecture_of_Windows_NT'}, 2360: {'name': 'Windows_2000'}, 2361: {'name': 'Windows_Vista'}, 2362: {'name': 'Windows_XP'}, 2363: {'name': 'Architecture_of_the_California_missions'}, 2364: {'name': 'Axe'}, 2365: {'name': 'Arctic_Circle'}, 2366: {'name': 'Bjornoya'}, 2367: {'name': 'Jan_Mayen'}, 2368: {'name': 'Muttaburrasaurus'}, 2369: {'name': 'Svalbard'}, 2370: {'name': 'Troodon'}, 2371: {'name': 'Wolverine'}, 2372: {'name': 'Duran_Duran'}, 2373: {'name': 'McFly_(band)'}, 2374: {'name': 'Romeo_and_Juliet'}, 2375: {'name': 'Sheffield'}, 2376: {'name': 'Top_of_the_Pops'}, 2377: {'name': 'Oceanography'}, 2378: {'name': 'Walrus'}, 2379: {'name': 'Arctic_Tern'}, 2380: {'name': 'Cod'}, 2381: {'name': 'Common_Tern'}, 2382: {'name': 'Herring_Gull'}, 2383: {'name': 'Tern'}, 2384: {'name': 'Coconut'}, 2385: {'name': 'Faroe_Islands'}, 2386: {'name': 'Argan'}, 2387: {'name': 'Cactus'}, 2388: {'name': 'Diego_Maradona'}, 2389: {'name': 'FIFA_World_Cup'}, 2390: {'name': 'Hawk'}, 2391: {'name': 'Jackal'}, 2392: {'name': 'Lima'}, 2393: {'name': 'Mestizo'}, 2394: {'name': 'Orca'}, 2395: {'name': 'Right_whale'}, 2396: {'name': 'Saxophone'}, 2397: {'name': 'Sugarcane'}, 2398: {'name': 'Tennis'}, 2399: {'name': 'Trout'}, 2400: {'name': 'Tungsten'}, 2401: {'name': 'Volleyball'}, 2402: {'name': 'Fluorine'}, 2403: {'name': 'Xenon'}, 2404: {'name': 'Argyle_diamond_mine'}, 2405: {'name': 'Continental_crust'}, 2406: {'name': 'Material_properties_of_diamond'}, 2407: {'name': 'Rio_Tinto_Group'}, 2408: {'name': 'Volcanic_pipe'}, 2409: {'name': 'Beirut'}, 2410: {'name': 'Logistics'}, 2411: {'name': 'Aristarchus_(crater)'}, 2412: {'name': 'Elementary_arithmetic'}, 2413: {'name': 'Fundamental_theorem_of_arithmetic'}, 2414: {'name': 'Prime_number'}, 2415: {'name': 'Rabbit'}, 2416: {'name': 'List_of_monarchs_in_the_British_Isles'}, 2417: {'name': 'Behistun_Inscription'}, 2418: {'name': 'Bhutan'}, 2419: {'name': 'Deluge_(mythology)'}, 2420: {'name': 'Interpol'}, 2421: {'name': 'Nagorno-Karabakh_War'}, 2422: {'name': 'Saint-Pierre_and_Miquelon'}, 2423: {'name': 'Saint_Lucia'}, 2424: {'name': 'Vladimir_Lenin'}, 2425: {'name': 'Woodrow_Wilson'}, 2426: {'name': 'Armia_Krajowa'}, 2427: {'name': 'Witold_Pilecki'}, 2428: {'name': 'Weight_training'}, 2429: {'name': 'Arp2_3_complex'}, 2430: {'name': 'Ars_moriendi'}, 2431: {'name': 'Arsenal_F.C.'}, 2432: {'name': 'Chelsea_F.C.'}, 2433: {'name': 'Douglas_Adams'}, 2434: {'name': 'Liverpool_F.C.'}, 2435: {'name': 'Manchester_United_F.C.'}, 2436: {'name': \"The_Hitchhiker's_Guide_to_the_Galaxy\"}, 2437: {'name': 'Tottenham_Hotspur_F.C.'}, 2438: {'name': 'Buddhist_art'}, 2439: {'name': 'Canberra'}, 2440: {'name': 'Barnacle'}, 2441: {'name': 'Coconut_crab'}, 2442: {'name': 'Arthur_Ernest_Percival'}, 2443: {'name': 'Battle_of_the_Somme_(1916)'}, 2444: {'name': 'Order_of_the_Bath'}, 2445: {'name': 'Tank'}, 2446: {'name': 'Arthur_Sullivan'}, 2447: {'name': 'Bassoon'}, 2448: {'name': 'Clarinet'}, 2449: {'name': 'Rudyard_Kipling'}, 2450: {'name': 'Second_Boer_War'}, 2451: {'name': 'The_Absent-Minded_Beggar'}, 2452: {'name': 'The_Merchant_of_Venice'}, 2453: {'name': 'Tower_of_London'}, 2454: {'name': 'Walter_Scott'}, 2455: {'name': 'Arthur_Upfield'}, 2456: {'name': 'Arthur_Wellesley,_1st_Duke_of_Wellington'}, 2457: {'name': 'Battle_of_Jutland'}, 2458: {'name': 'Isle_of_Wight'}, 2459: {'name': 'Liverpool_and_Manchester_Railway'}, 2460: {'name': 'Robert_Peel'}, 2461: {'name': \"St_Paul's_Cathedral\"}, 2462: {'name': 'Trafalgar_Square'}, 2463: {'name': 'Arts_and_crafts'}, 2464: {'name': 'Woodworking'}, 2465: {'name': 'Netherlands_Antilles'}, 2466: {'name': 'Arugula'}, 2467: {'name': 'Basil'}, 2468: {'name': 'Lettuce'}, 2469: {'name': 'Mustard_plant'}, 2470: {'name': 'Ascariasis'}, 2471: {'name': 'Epazote'}, 2472: {'name': 'Riyadh'}, 2473: {'name': 'Trichinosis'}, 2474: {'name': 'Colombo'}, 2475: {'name': 'Epic_of_Gilgamesh'}, 2476: {'name': 'Hanoi'}, 2477: {'name': 'Japanese_yen'}, 2478: {'name': 'Macau'}, 2479: {'name': 'Muscat,_Oman'}, 2480: {'name': 'Pyongyang'}, 2481: {'name': 'Rabindranath_Tagore'}, 2482: {'name': 'Seoul'}, 2483: {'name': 'Sikhism'}, 2484: {'name': 'Taipei'}, 2485: {'name': 'Toy'}, 2486: {'name': 'Asp_(reptile)'}, 2487: {'name': 'Asparagus'}, 2488: {'name': 'Autism'}, 2489: {'name': 'Sleep'}, 2490: {'name': 'Tourette_syndrome'}, 2491: {'name': 'Astatine'}, 2492: {'name': 'Isaac_Asimov'}, 2493: {'name': 'Polonium'}, 2494: {'name': 'Comet_Shoemaker-Levy_9'}, 2495: {'name': 'Carl_Sagan'}, 2496: {'name': 'Francis_Bacon'}, 2497: {'name': 'Big_Bang'}, 2498: {'name': 'Cosmic_inflation'}, 2499: {'name': 'Crab_Nebula'}, 2500: {'name': 'Fermi_paradox'}, 2501: {'name': \"Hubble's_law\"}, 2502: {'name': 'Metric_expansion_of_space'}, 2503: {'name': 'Open_cluster'}, 2504: {'name': 'Planetary_nebula'}, 2505: {'name': 'Red_giant'}, 2506: {'name': 'Uranus'}, 2507: {'name': 'Astrophysics_Data_System'}, 2508: {'name': 'Boolean_logic'}, 2509: {'name': 'Fedora_Core'}, 2510: {'name': 'Pleiades_(star_cluster)'}, 2511: {'name': 'TeX'}, 2512: {'name': 'Asuncion'}, 2513: {'name': 'Eagle'}, 2514: {'name': 'Athanasius_Kircher'}, 2515: {'name': 'Cat'}, 2516: {'name': 'Goose'}, 2517: {'name': 'Love'}, 2518: {'name': 'Creationism'}, 2519: {'name': 'Margaret_Sanger'}, 2520: {'name': 'Attalus_I'}, 2521: {'name': 'Owl'}, 2522: {'name': 'Bogota'}, 2523: {'name': 'Skiing'}, 2524: {'name': 'Calgary'}, 2525: {'name': 'Gone_with_the_Wind_(film)'}, 2526: {'name': 'National_Hockey_League'}, 2527: {'name': 'Newcastle_upon_Tyne'}, 2528: {'name': 'Trinidad_and_Tobago'}, 2529: {'name': 'Atlantic_Coast_Line_Railroad'}, 2530: {'name': 'Belfast'}, 2531: {'name': 'Georgetown,_Guyana'}, 2532: {'name': 'Gothenburg'}, 2533: {'name': 'Irish_Sea'}, 2534: {'name': 'Oslo'}, 2535: {'name': 'Panama_Canal'}, 2536: {'name': 'Portsmouth'}, 2537: {'name': 'RMS_Titanic'}, 2538: {'name': 'Rockall'}, 2539: {'name': 'Atlantic_herring'}, 2540: {'name': 'Atlantis'}, 2541: {'name': 'Charles_Etienne_Brasseur_de_Bourbourg'}, 2542: {'name': 'Santorini'}, 2543: {'name': 'Caesium'}, 2544: {'name': 'Lithium'}, 2545: {'name': 'Promethium'}, 2546: {'name': 'Quark'}, 2547: {'name': 'Rubidium'}, 2548: {'name': 'Technetium'}, 2549: {'name': 'Ununhexium'}, 2550: {'name': 'Hirohito'}, 2551: {'name': 'Marshall_Islands'}, 2552: {'name': 'First_Macedonian_War'}, 2553: {'name': 'Cerebellum'}, 2554: {'name': 'Mexico_City'}, 2555: {'name': 'Augusta,_Lady_Gregory'}, 2556: {'name': 'William_Gladstone'}, 2557: {'name': 'Augustan_literature'}, 2558: {'name': 'Colley_Cibber'}, 2559: {'name': 'Jonathan_Wild'}, 2560: {'name': 'Max_Weber'}, 2561: {'name': 'Restoration_comedy'}, 2562: {'name': 'Robinson_Crusoe'}, 2563: {'name': 'William_and_Mary'}, 2564: {'name': 'Auguste_Rodin'}, 2565: {'name': 'Oil_painting'}, 2566: {'name': 'Watercolor_painting'}, 2567: {'name': 'Autocracy'}, 2568: {'name': 'Australian_Open'}, 2569: {'name': 'Christmas_Island'}, 2570: {'name': 'Cocos_(Keeling)_Islands'}, 2571: {'name': 'Dingo'}, 2572: {'name': 'Emu'}, 2573: {'name': 'Flag_of_Australia'}, 2574: {'name': 'Grand_Slam_(tennis)'}, 2575: {'name': 'Heard_Island_and_McDonald_Islands'}, 2576: {'name': 'Kangaroo'}, 2577: {'name': 'Kookaburra'}, 2578: {'name': 'Multiculturalism'}, 2579: {'name': 'Netball'}, 2580: {'name': 'New_Caledonia'}, 2581: {'name': 'Norfolk_Island'}, 2582: {'name': 'Platypus'}, 2583: {'name': 'Wombat'}, 2584: {'name': 'WorkChoices'}, 2585: {'name': 'Fauna_of_Australia'}, 2586: {'name': 'Tree_frog'}, 2587: {'name': 'The_Championships,_Wimbledon'}, 2588: {'name': 'U.S._Open_(tennis)'}, 2589: {'name': 'Australian_Ringneck'}, 2590: {'name': 'Australian_constitutional_law'}, 2591: {'name': 'Canadian_Charter_of_Rights_and_Freedoms'}, 2592: {'name': 'Canadian_Senate'}, 2593: {'name': 'Election'}, 2594: {'name': 'United_States_Bill_of_Rights'}, 2595: {'name': 'Guernsey'}, 2596: {'name': 'Nauru'}, 2597: {'name': 'Neighbours'}, 2598: {'name': 'Canaletto'}, 2599: {'name': 'Konrad_Lorenz'}, 2600: {'name': 'Computer_programming'}, 2601: {'name': 'Palace_of_Westminster'}, 2602: {'name': 'Formula_One'}, 2603: {'name': 'Karl_Benz'}, 2604: {'name': 'Autobianchi_Primula'}, 2605: {'name': 'Mini'}, 2606: {'name': 'Data_Encryption_Standard'}, 2607: {'name': 'Jersey'}, 2608: {'name': 'Speech_synthesis'}, 2609: {'name': 'Automatic_number_plate_recognition'}, 2610: {'name': 'Nineteen_Eighty-Four'}, 2611: {'name': 'Santiago,_Chile'}, 2612: {'name': 'Henry_Ford'}, 2613: {'name': 'MINI_(BMW)'}, 2614: {'name': 'Autostereogram'}, 2615: {'name': 'Lens_(anatomy)'}, 2616: {'name': 'Harvest'}, 2617: {'name': 'Avacha_Volcano'}, 2618: {'name': 'Koryaksky'}, 2619: {'name': 'Mount_Everest'}, 2620: {'name': 'Avatar__The_Last_Airbender'}, 2621: {'name': 'Avocado'}, 2622: {'name': 'Lemon'}, 2623: {'name': 'Nahuatl_language'}, 2624: {'name': 'Avon_Gorge'}, 2625: {'name': 'Beeching_Axe'}, 2626: {'name': 'Clifton_Suspension_Bridge'}, 2627: {'name': 'Ice_age'}, 2628: {'name': 'Isambard_Kingdom_Brunel'}, 2629: {'name': 'Jackdaw'}, 2630: {'name': 'Pigeon'}, 2631: {'name': 'Weston-super-Mare'}, 2632: {'name': 'Avro_Lancaster'}, 2633: {'name': 'Blackpool'}, 2634: {'name': 'Supermarine_Spitfire'}, 2635: {'name': 'Weapon'}, 2636: {'name': 'Ayaan_Hirsi_Ali'}, 2637: {'name': 'Dusseldorf'}, 2638: {'name': 'Jyllands-Posten_Muhammad_cartoons_controversy'}, 2639: {'name': 'Political_science'}, 2640: {'name': 'Aye-aye'}, 2641: {'name': 'London_Zoo'}, 2642: {'name': 'Woodpecker'}, 2643: {'name': 'Aymer_de_Valence,_2nd_Earl_of_Pembroke'}, 2644: {'name': 'Edward_II_of_England'}, 2645: {'name': 'Henry_III_of_England'}, 2646: {'name': 'Azerbaijani_people'}, 2647: {'name': 'Iranian_peoples'}, 2648: {'name': 'Civil_society'}, 2649: {'name': 'Quetzalcoatl'}, 2650: {'name': 'BASIC'}, 2651: {'name': 'Channel_Islands'}, 2652: {'name': 'DVD'}, 2653: {'name': 'EastEnders'}, 2654: {'name': 'John_Logie_Baird'}, 2655: {'name': 'BBC_television_drama'}, 2656: {'name': 'Sydney_Newman'}, 2657: {'name': 'The_Quatermass_Experiment'}, 2658: {'name': 'Royal_Dutch_Shell'}, 2659: {'name': 'BT_Tower'}, 2660: {'name': 'Company_(law)'}, 2661: {'name': 'Beriberi'}, 2662: {'name': 'Cyanocobalamin'}, 2663: {'name': 'Edema'}, 2664: {'name': 'Pellagra'}, 2665: {'name': 'Thiamine'}, 2666: {'name': 'Vitamin_D'}, 2667: {'name': 'Beaver'}, 2668: {'name': 'Taj_Mahal'}, 2669: {'name': 'Baby_Gender_Mentor'}, 2670: {'name': 'Code_of_Hammurabi'}, 2671: {'name': 'Pythagorean_theorem'}, 2672: {'name': 'Dice'}, 2673: {'name': 'Ivory'}, 2674: {'name': 'Enzyme_kinetics'}, 2675: {'name': 'Insulin'}, 2676: {'name': 'Lyme_disease'}, 2677: {'name': 'Baden-Powell_House'}, 2678: {'name': 'Robert_Baden-Powell,_1st_Baron_Baden-Powell'}, 2679: {'name': 'Scouting'}, 2680: {'name': 'Badger'}, 2681: {'name': 'Rabies'}, 2682: {'name': 'Vole'}, 2683: {'name': 'Weasel'}, 2684: {'name': 'Iraq_War'}, 2685: {'name': 'Bahamas'}, 2686: {'name': 'Tupac_Shakur'}, 2687: {'name': 'Baker_Island'}, 2688: {'name': 'Howland_Island'}, 2689: {'name': 'Bald_Eagle'}, 2690: {'name': 'Golden_Eagle'}, 2691: {'name': 'Osprey'}, 2692: {'name': 'Snow_Goose'}, 2693: {'name': 'Swan'}, 2694: {'name': 'Helsinki'}, 2695: {'name': 'Cleveland,_Ohio'}, 2696: {'name': 'Rail_transport'}, 2697: {'name': 'Thunderstorm'}, 2698: {'name': 'Niger_River'}, 2699: {'name': 'Bangalore'}, 2700: {'name': 'Chennai'}, 2701: {'name': 'Economy_of_India'}, 2702: {'name': 'Indian_Railways'}, 2703: {'name': 'Indian_Standard_Time'}, 2704: {'name': 'Indian_cricket_team'}, 2705: {'name': 'Indian_independence_movement'}, 2706: {'name': 'Kolkata'}, 2707: {'name': 'Mumbai'}, 2708: {'name': 'Stem_cell'}, 2709: {'name': 'Sheikh_Mujibur_Rahman'}, 2710: {'name': 'Soils_retrogression_and_degradation'}, 2711: {'name': 'Bank_of_China_(Hong_Kong)'}, 2712: {'name': 'Renminbi'}, 2713: {'name': 'List_of_circulating_currencies'}, 2714: {'name': 'Stock'}, 2715: {'name': 'Banksy'}, 2716: {'name': 'Christina_Aguilera'}, 2717: {'name': 'Union_Flag'}, 2718: {'name': 'Barack_Obama'}, 2719: {'name': 'Cinema_of_the_United_States'}, 2720: {'name': 'Music_of_Barbados'}, 2721: {'name': 'Saint_Vincent_and_the_Grenadines'}, 2722: {'name': 'Barbara_McClintock'}, 2723: {'name': 'John_von_Neumann'}, 2724: {'name': 'Barbary_Lion'}, 2725: {'name': 'Cape_Lion'}, 2726: {'name': 'Barbary_Macaque'}, 2727: {'name': 'Castra'}, 2728: {'name': 'Hannibal_Barca'}, 2729: {'name': 'Montevideo'}, 2730: {'name': 'Tel_Aviv'}, 2731: {'name': 'Bran'}, 2732: {'name': 'Barn_Owl'}, 2733: {'name': 'Eurasian_Eagle_Owl'}, 2734: {'name': 'Caravaggio'}, 2735: {'name': 'Christopher_Wren'}, 2736: {'name': 'Dido_and_Aeneas'}, 2737: {'name': 'Johann_Pachelbel'}, 2738: {'name': 'Rococo'}, 2739: {'name': 'Barracuda'}, 2740: {'name': 'Tuna'}, 2741: {'name': 'Philosophy_of_mind'}, 2742: {'name': 'Jackie_Robinson'}, 2743: {'name': 'Old_Swiss_Confederacy'}, 2744: {'name': 'Tarragon'}, 2745: {'name': 'Basil_Brush'}, 2746: {'name': 'Blue_Peter'}, 2747: {'name': 'Weakest_Link'}, 2748: {'name': 'Yes_Minister'}, 2749: {'name': \"Basilica_of_San_Francesco_d'Assisi\"}, 2750: {'name': 'Basilica_of_Santa_Maria_degli_Angeli'}, 2751: {'name': 'Harlem_Globetrotters'}, 2752: {'name': 'Michael_Jordan'}, 2753: {'name': 'Basking_shark'}, 2754: {'name': 'Cookiecutter_shark'}, 2755: {'name': 'Great_white_shark'}, 2756: {'name': 'Tiger_shark'}, 2757: {'name': 'Bass_(fish)'}, 2758: {'name': 'Basset_Hound'}, 2759: {'name': 'Recorder'}, 2760: {'name': 'The_Rite_of_Spring'}, 2761: {'name': 'Bat'}, 2762: {'name': 'Batman'}, 2763: {'name': 'Gliding'}, 2764: {'name': 'Henipavirus'}, 2765: {'name': 'Paleocene'}, 2766: {'name': 'Vampire'}, 2767: {'name': 'Vampire_bat'}, 2768: {'name': 'Bat-eared_Fox'}, 2769: {'name': 'Zebra'}, 2770: {'name': 'Bear'}, 2771: {'name': 'Cotswolds'}, 2772: {'name': 'Lawn'}, 2773: {'name': 'Palladian_architecture'}, 2774: {'name': 'Plymouth'}, 2775: {'name': 'Politics_of_the_United_Kingdom'}, 2776: {'name': 'Triathlon'}, 2777: {'name': 'Bath_School_disaster'}, 2778: {'name': 'Columbine_High_School_massacre'}, 2779: {'name': 'Michigan_State_University'}, 2780: {'name': 'Batholith'}, 2781: {'name': 'Spring_Heeled_Jack'}, 2782: {'name': 'Battle_of_Alesia'}, 2783: {'name': 'Battle_of_Amiens'}, 2784: {'name': 'George_V_of_the_United_Kingdom'}, 2785: {'name': 'Battle_of_Austerlitz'}, 2786: {'name': 'Battle_of_Cannae'}, 2787: {'name': 'La_Grande_Armee'}, 2788: {'name': 'List_of_French_monarchs'}, 2789: {'name': 'War_and_Peace'}, 2790: {'name': 'William_Pitt_the_Younger'}, 2791: {'name': 'Battle_of_Badr'}, 2792: {'name': 'Tribe'}, 2793: {'name': 'Battle_of_Bicocca'}, 2794: {'name': 'Italian_War_of_1521'}, 2795: {'name': 'War_of_the_League_of_Cambrai'}, 2796: {'name': 'Battle_of_Normandy'}, 2797: {'name': 'Battle_of_the_Bulge'}, 2798: {'name': 'Blitzkrieg'}, 2799: {'name': 'The_Blitz'}, 2800: {'name': 'Dwight_D._Eisenhower'}, 2801: {'name': 'Victoria_Cross'}, 2802: {'name': 'Battle_of_Lechaeum'}, 2803: {'name': 'Battle_of_Leyte_Gulf'}, 2804: {'name': 'Northern_Mariana_Islands'}, 2805: {'name': 'Pheidippides'}, 2806: {'name': 'Battle_of_the_Eastern_Solomons'}, 2807: {'name': 'Battle_of_the_Santa_Cruz_Islands'}, 2808: {'name': 'Battle_of_Smolensk_(1943)'}, 2809: {'name': 'T-34'}, 2810: {'name': 'Weymouth'}, 2811: {'name': 'Battle_of_Rennell_Island'}, 2812: {'name': 'Naval_Battle_of_Guadalcanal'}, 2813: {'name': 'Battle_of_Sitka'}, 2814: {'name': 'Benjamin_Harrison'}, 2815: {'name': 'Battle_of_Vaslui'}, 2816: {'name': 'Battle_of_Warsaw_(1920)'}, 2817: {'name': 'Jozef_Pilsudski'}, 2818: {'name': 'Battle_of_the_Little_Bighorn'}, 2819: {'name': 'Western_Front_(World_War_I)'}, 2820: {'name': 'Battles_of_the_Mexican-American_War'}, 2821: {'name': 'Bay_Area_Rapid_Transit'}, 2822: {'name': 'Mass_Rapid_Transit_(Singapore)'}, 2823: {'name': 'Landform'}, 2824: {'name': 'Leisure'}, 2825: {'name': 'Sand_art_and_play'}, 2826: {'name': 'Bean'}, 2827: {'name': 'Peanut'}, 2828: {'name': 'Vicia_faba'}, 2829: {'name': 'Giant_Panda'}, 2830: {'name': 'Red_Panda'}, 2831: {'name': 'Beatles_for_Sale'}, 2832: {'name': 'Hyde_Park,_London'}, 2833: {'name': 'Paul_McCartney'}, 2834: {'name': \"Sgt._Pepper's_Lonely_Hearts_Club_Band\"}, 2835: {'name': 'The_Lion,_the_Witch_and_the_Wardrobe'}, 2836: {'name': 'Bedbug'}, 2837: {'name': 'Poultry'}, 2838: {'name': 'Durham_Cathedral'}, 2839: {'name': 'Beetle'}, 2840: {'name': 'Honey_bee'}, 2841: {'name': 'Pollinator_decline'}, 2842: {'name': 'Harold_Wilson'}, 2843: {'name': 'Scottish_Highlands'}, 2844: {'name': 'Beep_(SWBLW)'}, 2845: {'name': 'CF7'}, 2846: {'name': 'Guinness'}, 2847: {'name': 'Playing_card'}, 2848: {'name': 'Sikkim'}, 2849: {'name': 'Beet'}, 2850: {'name': 'Carrot'}, 2851: {'name': 'Sugar_beet'}, 2852: {'name': 'Chestnut'}, 2853: {'name': 'Permian'}, 2854: {'name': 'Stag_beetle'}, 2855: {'name': 'Behavioral_finance'}, 2856: {'name': 'Grand_Canal_of_China'}, 2857: {'name': 'Great_Wall_of_China'}, 2858: {'name': 'Qin_Dynasty'}, 2859: {'name': 'Tiananmen_Square_protests_of_1989'}, 2860: {'name': 'Eurovision_Song_Contest'}, 2861: {'name': 'Flag_of_Belarus'}, 2862: {'name': 'Habsburg_Spain'}, 2863: {'name': 'The_Adventures_of_Tintin'}, 2864: {'name': 'Belton_House'}, 2865: {'name': 'Manorialism'}, 2866: {'name': 'Speaker_of_the_British_House_of_Commons'}, 2867: {'name': 'Ben-Hur_(1959_film)'}, 2868: {'name': 'Sermon_on_the_Mount'}, 2869: {'name': 'London_Bridge'}, 2870: {'name': 'Ben_Nevis'}, 2871: {'name': 'Loch'}, 2872: {'name': 'Pony'}, 2873: {'name': 'Bench_language'}, 2874: {'name': 'Ordinal_number'}, 2875: {'name': 'Police_state'}, 2876: {'name': 'Benjamin_Britten'}, 2877: {'name': 'Brass_instrument'}, 2878: {'name': 'Peter_Grimes'}, 2879: {'name': 'Robert_Gascoyne-Cecil,_3rd_Marquess_of_Salisbury'}, 2880: {'name': 'Lightning_rod'}, 2881: {'name': 'Lunar_eclipse'}, 2882: {'name': 'William_Henry_Harrison'}, 2883: {'name': 'William_Howard_Taft'}, 2884: {'name': 'William_McKinley'}, 2885: {'name': 'Benjamin_Mountfort'}, 2886: {'name': 'Francis_Petre'}, 2887: {'name': 'The_Cantos'}, 2888: {'name': 'Benjamin_of_Tudela'}, 2889: {'name': 'Rhenium'}, 2890: {'name': 'Osteomalacia'}, 2891: {'name': 'Berkelium'}, 2892: {'name': 'Californium'}, 2893: {'name': 'Terbium'}, 2894: {'name': 'Berlin_Wall'}, 2895: {'name': 'German_reunification'}, 2896: {'name': 'Wernher_von_Braun'}, 2897: {'name': 'Maglev_train'}, 2898: {'name': 'Marshall_Plan'}, 2899: {'name': 'Bernard_Hinault'}, 2900: {'name': 'Greg_LeMond'}, 2901: {'name': 'Laurent_Fignon'}, 2902: {'name': 'Georg_Cantor'}, 2903: {'name': 'Betelgeuse_incident'}, 2904: {'name': 'Bette_Davis'}, 2905: {'name': 'Jane_Fonda'}, 2906: {'name': 'Yak'}, 2907: {'name': 'Dead_Sea_scrolls'}, 2908: {'name': 'Names_of_God_in_Judaism'}, 2909: {'name': 'Pentateuch'}, 2910: {'name': 'Bicycle_Thieves'}, 2911: {'name': 'Physical_paradox'}, 2912: {'name': 'Plasma_(physics)'}, 2913: {'name': 'Calvin_Coolidge'}, 2914: {'name': 'Chester_A._Arthur'}, 2915: {'name': 'Franklin_Pierce'}, 2916: {'name': 'Harry_S._Truman'}, 2917: {'name': 'Herbert_Hoover'}, 2918: {'name': 'John_Tyler'}, 2919: {'name': 'Millard_Fillmore'}, 2920: {'name': 'Rutherford_B._Hayes'}, 2921: {'name': 'Warren_G._Harding'}, 2922: {'name': 'Billie_Holiday'}, 2923: {'name': 'Biosphere'}, 2924: {'name': 'PSR_B1620-26c'}, 2925: {'name': 'Trigonometric_function'}, 2926: {'name': 'Optical_telescope'}, 2927: {'name': 'Biofuel'}, 2928: {'name': 'List_of_essential_oils'}, 2929: {'name': 'List_of_vegetable_oils'}, 2930: {'name': 'Bog'}, 2931: {'name': 'History_of_Earth'}, 2932: {'name': 'Life'}, 2933: {'name': 'Environmental_science'}, 2934: {'name': 'Waste_management'}, 2935: {'name': 'C++'}, 2936: {'name': 'Prion'}, 2937: {'name': 'Sequence_alignment'}, 2938: {'name': 'Creation-evolution_controversy'}, 2939: {'name': 'Drosophila_melanogaster'}, 2940: {'name': 'Genetic_code'}, 2941: {'name': 'Plate_tectonics'}, 2942: {'name': 'Bionicle__Mask_of_Light'}, 2943: {'name': 'Lego'}, 2944: {'name': 'Hydrology'}, 2945: {'name': 'Haemophilia'}, 2946: {'name': 'Dodo'}, 2947: {'name': 'Dove'}, 2948: {'name': 'Falcon'}, 2949: {'name': 'Flamingo'}, 2950: {'name': 'Great_Auk'}, 2951: {'name': 'House_Sparrow'}, 2952: {'name': 'Passenger_Pigeon'}, 2953: {'name': 'Redwing'}, 2954: {'name': 'Rock_Pigeon'}, 2955: {'name': 'Snowy_Owl'}, 2956: {'name': 'Swift'}, 2957: {'name': 'Turkey_(bird)'}, 2958: {'name': 'Blackbird'}, 2959: {'name': 'Blackcap'}, 2960: {'name': 'Canada_Goose'}, 2961: {'name': 'Chaffinch'}, 2962: {'name': 'Skylark'}, 2963: {'name': 'Vulture'}, 2964: {'name': 'Whooping_Crane'}, 2965: {'name': 'Kite_(bird)'}, 2966: {'name': 'M6_motorway'}, 2967: {'name': 'River_Severn'}, 2968: {'name': 'Ska'}, 2969: {'name': 'Stratford-upon-Avon'}, 2970: {'name': 'Menstrual_cycle'}, 2971: {'name': 'Tansy'}, 2972: {'name': 'Thallium'}, 2973: {'name': 'Ununpentium'}, 2974: {'name': 'Gaur'}, 2975: {'name': 'Bjorn_Borg'}, 2976: {'name': 'Boris_Becker'}, 2977: {'name': 'Davis_Cup'}, 2978: {'name': 'John_McEnroe'}, 2979: {'name': 'Pete_Sampras'}, 2980: {'name': 'Tennis_Masters_Cup'}, 2981: {'name': 'William_Renshaw'}, 2982: {'name': 'Willem_Barents'}, 2983: {'name': 'Black-backed_Jackal'}, 2984: {'name': 'Black-footed_Cat'}, 2985: {'name': 'Black-winged_Stilt'}, 2986: {'name': 'Hunger'}, 2987: {'name': 'Black_Rhinoceros'}, 2988: {'name': 'Black_Robin'}, 2989: {'name': 'Tiger'}, 2990: {'name': 'Black_Seminoles'}, 2991: {'name': 'Robert_Oppenheimer'}, 2992: {'name': 'Roche_limit'}, 2993: {'name': 'Black_panther'}, 2994: {'name': 'Bobcat'}, 2995: {'name': 'Edible_salt'}, 2996: {'name': 'Long_pepper'}, 2997: {'name': 'Ramesses_II'}, 2998: {'name': 'Sichuan_Pepper'}, 2999: {'name': 'Black_widow_spider'}, 3000: {'name': 'Thrush_(bird)'}, 3001: {'name': 'Blackjack'}, 3002: {'name': 'Card_game'}, 3003: {'name': 'Blacktip_reef_shark'}, 3004: {'name': 'Gray_reef_shark'}, 3005: {'name': 'Computer_and_video_games'}, 3006: {'name': 'Firefly_(TV_series)'}, 3007: {'name': 'Pan_Am_Flight_103'}, 3008: {'name': 'Synthesizer'}, 3009: {'name': 'Blokus'}, 3010: {'name': 'Blue_Jay'}, 3011: {'name': 'Buckingham_Palace'}, 3012: {'name': 'Blue_Tit'}, 3013: {'name': 'Great_Tit'}, 3014: {'name': 'Treecreeper'}, 3015: {'name': 'Blue_Whale'}, 3016: {'name': 'Double-decker_bus'}, 3017: {'name': 'Humpback_Whale'}, 3018: {'name': 'Outer_Hebrides'}, 3019: {'name': 'Whale_song'}, 3020: {'name': 'Blue_shark'}, 3021: {'name': 'Music_of_Ireland'}, 3022: {'name': 'Bluetooth'}, 3023: {'name': 'Civilization_(computer_game)'}, 3024: {'name': 'Go_(board_game)'}, 3025: {'name': 'Mancala'}, 3026: {'name': 'Monopoly_(game)'}, 3027: {'name': 'Bologna'}, 3028: {'name': 'Christian_Bale'}, 3029: {'name': 'Minneapolis,_Minnesota'}, 3030: {'name': 'Neil_Young'}, 3031: {'name': 'Sony'}, 3032: {'name': 'Body_mass_index'}, 3033: {'name': 'Bodyline'}, 3034: {'name': 'James_Bond'}, 3035: {'name': 'Dartmoor'}, 3036: {'name': 'Haraldskaer_Woman'}, 3037: {'name': 'Simon_Bolivar'}, 3038: {'name': 'Bohemian_Rhapsody'}, 3039: {'name': 'Bohor_Reedbuck'}, 3040: {'name': 'Bohrium'}, 3041: {'name': 'Dubnium'}, 3042: {'name': 'Hassium'}, 3043: {'name': 'Seaborgium'}, 3044: {'name': 'La_Paz'}, 3045: {'name': 'Lake_Titicaca'}, 3046: {'name': 'Sucre'}, 3047: {'name': 'Guglielmo_Marconi'}, 3048: {'name': 'Medieval_commune'}, 3049: {'name': 'Boltysh_crater'}, 3050: {'name': 'Bushbuck'}, 3051: {'name': 'Booby'}, 3052: {'name': 'Book'}, 3053: {'name': 'Johannes_Gutenberg'}, 3054: {'name': 'Library_of_Congress'}, 3055: {'name': 'Book_of_Kells'}, 3056: {'name': 'Lindisfarne_Gospels'}, 3057: {'name': 'Venn_diagram'}, 3058: {'name': 'Borage'}, 3059: {'name': 'Chives'}, 3060: {'name': 'Cubeb'}, 3061: {'name': 'Cymbopogon'}, 3062: {'name': 'Dill'}, 3063: {'name': 'Juniper_berry'}, 3064: {'name': 'Lovage'}, 3065: {'name': 'Mango'}, 3066: {'name': 'Marjoram'}, 3067: {'name': 'Mentha'}, 3068: {'name': 'Oregano'}, 3069: {'name': 'Paprika'}, 3070: {'name': 'Rosemary'}, 3071: {'name': 'Saffron'}, 3072: {'name': 'Sesame'}, 3073: {'name': 'Sorrel'}, 3074: {'name': 'Sumac'}, 3075: {'name': 'Tamarind'}, 3076: {'name': 'Turmeric'}, 3077: {'name': 'Wasabi'}, 3078: {'name': 'Hopman_Cup'}, 3079: {'name': 'Italo_disco'}, 3080: {'name': 'Stefan_Edberg'}, 3081: {'name': 'Husein_Gradascevic'}, 3082: {'name': 'Boston_RFC'}, 3083: {'name': 'Cheers'}, 3084: {'name': 'Global_city'}, 3085: {'name': 'Merrimack_River'}, 3086: {'name': 'New_England_Patriots'}, 3087: {'name': 'Boston_Terrier'}, 3088: {'name': 'Cornea'}, 3089: {'name': 'Boston_and_Lowell_Railroad'}, 3090: {'name': 'Chocolate'}, 3091: {'name': 'Gardening'}, 3092: {'name': 'Bottlenose_Dolphin'}, 3093: {'name': 'Bull_shark'}, 3094: {'name': 'U.S._Navy_Marine_Mammal_Program'}, 3095: {'name': 'Jane_Eyre'}, 3096: {'name': 'Boundary_Waters_Canoe_Area_Wilderness'}, 3097: {'name': 'Bourbonnais_train_accident'}, 3098: {'name': 'Bouvet_Island'}, 3099: {'name': 'Boy_Scout'}, 3100: {'name': 'Eagle_Scout_(Boy_Scouts_of_America)'}, 3101: {'name': 'Boyle_Roche'}, 3102: {'name': 'Limerick'}, 3103: {'name': 'Brabantian'}, 3104: {'name': 'East_Flemish'}, 3105: {'name': 'Zuid-Gelders'}, 3106: {'name': 'Brabham'}, 3107: {'name': 'Damon_Hill'}, 3108: {'name': 'Milton_Keynes'}, 3109: {'name': 'Brachiosaurus'}, 3110: {'name': 'Sauroposeidon'}, 3111: {'name': 'Trimurti'}, 3112: {'name': 'Down_syndrome'}, 3113: {'name': \"Huntington's_disease\"}, 3114: {'name': 'Kuru_(disease)'}, 3115: {'name': 'Tay-Sachs_disease'}, 3116: {'name': 'Brandon_Routh'}, 3117: {'name': 'Bratislava'}, 3118: {'name': 'Economic_inequality'}, 3119: {'name': 'Pele'}, 3120: {'name': 'Butter'}, 3121: {'name': 'Last_Supper'}, 3122: {'name': 'Pumpkin'}, 3123: {'name': 'Soup'}, 3124: {'name': 'Breaker_Morant'}, 3125: {'name': 'Gold_standard'}, 3126: {'name': 'Wall_Street'}, 3127: {'name': 'Brian_Close'}, 3128: {'name': 'Force'}, 3129: {'name': 'Forth_Bridge_(railway)'}, 3130: {'name': 'Tay_Rail_Bridge'}, 3131: {'name': 'The_Iron_Bridge'}, 3132: {'name': 'Tower_Bridge'}, 3133: {'name': 'George_IV_of_the_United_Kingdom'}, 3134: {'name': 'Vodafone'}, 3135: {'name': 'Daniel_Day-Lewis'}, 3136: {'name': 'John_Cabot'}, 3137: {'name': 'Mendip_Hills'}, 3138: {'name': 'Goa'}, 3139: {'name': 'Walter_Raleigh'}, 3140: {'name': 'CS_gas'}, 3141: {'name': 'Richard_II_of_England'}, 3142: {'name': 'British_Indian_Ocean_Territory'}, 3143: {'name': 'British_Virgin_Islands'}, 3144: {'name': 'Diego_Garcia'}, 3145: {'name': 'French_Polynesia'}, 3146: {'name': 'French_Southern_and_Antarctic_Lands'}, 3147: {'name': 'Pitcairn_Islands'}, 3148: {'name': 'British_Isles_(terminology)'}, 3149: {'name': 'Fair_Isle'}, 3150: {'name': 'Inner_Hebrides'}, 3151: {'name': 'Isles_of_Scilly'}, 3152: {'name': 'Ordovician'}, 3153: {'name': 'FIFA'}, 3154: {'name': 'Edward_IV_of_England'}, 3155: {'name': 'Edward_VIII_of_the_United_Kingdom'}, 3156: {'name': 'Edward_V_of_England'}, 3157: {'name': 'George_II_of_Great_Britain'}, 3158: {'name': 'Henry_IV_of_England'}, 3159: {'name': 'Henry_I_of_England'}, 3160: {'name': 'Henry_VI_of_England'}, 3161: {'name': 'Malcolm_III_of_Scotland'}, 3162: {'name': 'Malcolm_II_of_Scotland'}, 3163: {'name': 'Order_of_the_Thistle'}, 3164: {'name': 'Sandringham_House'}, 3165: {'name': 'Stephen_of_England'}, 3166: {'name': 'William_II_of_England'}, 3167: {'name': 'Windsor_Castle'}, 3168: {'name': 'Britney_Spears'}, 3169: {'name': 'Dead_Sea'}, 3170: {'name': 'Revolution'}, 3171: {'name': 'Brown_trout'}, 3172: {'name': 'Bruce_Lee'}, 3173: {'name': 'Fencing'}, 3174: {'name': 'Brush'}, 3175: {'name': 'RER'}, 3176: {'name': 'TGV'}, 3177: {'name': 'Brute_force_attack'}, 3178: {'name': 'Bryce_Canyon_National_Park'}, 3179: {'name': 'Mormon'}, 3180: {'name': 'Nuthatch'}, 3181: {'name': 'Zion_National_Park'}, 3182: {'name': 'Btrieve'}, 3183: {'name': 'Henri_Matisse'}, 3184: {'name': 'Paul_Cezanne'}, 3185: {'name': 'Water_polo'}, 3186: {'name': 'Buckminster_Fuller'}, 3187: {'name': 'Flat_Earth'}, 3188: {'name': 'Casablanca_(film)'}, 3189: {'name': 'Intel_Corporation'}, 3190: {'name': \"Rubik's_Cube\"}, 3191: {'name': 'Indo-Greek_Kingdom'}, 3192: {'name': 'Tao_Te_Ching'}, 3193: {'name': 'Tripitaka'}, 3194: {'name': 'Vinaya'}, 3195: {'name': 'Greco-Buddhism'}, 3196: {'name': 'Buffy_the_Vampire_Slayer'}, 3197: {'name': 'Popular_culture_studies'}, 3198: {'name': 'Seinfeld'}, 3199: {'name': 'Bushpig'}, 3200: {'name': 'Constantine_I'}, 3201: {'name': 'Manuel_I_Komnenos'}, 3202: {'name': 'Sun_Tzu'}, 3203: {'name': 'Hilda_of_Whitby'}, 3204: {'name': 'C._S._Lewis'}, 3205: {'name': \"The_Pilgrim's_Progress\"}, 3206: {'name': 'CPU_cache'}, 3207: {'name': 'Cochineal'}, 3208: {'name': 'Cadmium'}, 3209: {'name': 'Indium'}, 3210: {'name': 'Caesar_cipher'}, 3211: {'name': 'ROT13'}, 3212: {'name': 'Caesium_fluoride'}, 3213: {'name': 'Calcium_chloride'}, 3214: {'name': 'Thomas_Pynchon'}, 3215: {'name': 'Scandium'}, 3216: {'name': 'Zirconium'}, 3217: {'name': 'Physical_science'}, 3218: {'name': 'Polar_coordinate_system'}, 3219: {'name': 'Canadian_House_of_Commons'}, 3220: {'name': 'Colorado_River'}, 3221: {'name': 'Lake_Tahoe'}, 3222: {'name': 'List_of_U.S._states_by_date_of_statehood'}, 3223: {'name': 'Minimum_wage'}, 3224: {'name': 'Redwood_National_and_State_Parks'}, 3225: {'name': 'Sequoia'}, 3226: {'name': 'California_Southern_Railroad'}, 3227: {'name': 'Cape_Horn'}, 3228: {'name': 'Ununoctium'}, 3229: {'name': 'Caloris_Basin'}, 3230: {'name': 'Krazy_Kat'}, 3231: {'name': 'Isan'}, 3232: {'name': 'Mekong'}, 3233: {'name': 'Stephen_Jay_Gould'}, 3234: {'name': 'Ipswich'}, 3235: {'name': 'Sinclair_Research_Ltd'}, 3236: {'name': 'Niagara_Falls'}, 3237: {'name': 'Parliament_of_Canada'}, 3238: {'name': 'Hawaiian_Goose'}, 3239: {'name': 'Voting'}, 3240: {'name': 'Westminster_System'}, 3241: {'name': 'The_Canadian'}, 3242: {'name': 'Ebony'}, 3243: {'name': 'Saint_Lawrence_Seaway'}, 3244: {'name': 'Lake_Burley_Griffin'}, 3245: {'name': 'Yarralumla,_Australian_Capital_Territory'}, 3246: {'name': 'Hepatocellular_carcinoma'}, 3247: {'name': 'Cane_Toad'}, 3248: {'name': 'Canola'}, 3249: {'name': 'Dover'}, 3250: {'name': 'M25_motorway'}, 3251: {'name': 'Margate'}, 3252: {'name': 'Ramsgate'}, 3253: {'name': 'Jomsvikings'}, 3254: {'name': \"Coulomb's_law\"}, 3255: {'name': 'Electric_field'}, 3256: {'name': \"Gauss's_law\"}, 3257: {'name': 'Inductance'}, 3258: {'name': \"Maxwell's_equations\"}, 3259: {'name': 'Cape_Porcupine'}, 3260: {'name': 'Valparaiso'}, 3261: {'name': 'Das_Kapital'}, 3262: {'name': 'Leon_Trotsky'}, 3263: {'name': 'Capitoline_Triad'}, 3264: {'name': 'Captain_Marvel_(DC_Comics)'}, 3265: {'name': 'M*A*S*H_(TV_series)'}, 3266: {'name': 'Worm'}, 3267: {'name': 'Caracas'}, 3268: {'name': 'Caratacus'}, 3269: {'name': 'The_Last_Supper_(Leonardo)'}, 3270: {'name': 'Utrecht_(city)'}, 3271: {'name': 'Greenhouse_effect'}, 3272: {'name': 'Mauna_Loa'}, 3273: {'name': 'Pelycosaur'}, 3274: {'name': 'Carcinus_maenas'}, 3275: {'name': 'Magic__The_Gathering'}, 3276: {'name': 'Pokemon_Trading_Card_Game'}, 3277: {'name': 'Leeds'}, 3278: {'name': 'Philately'}, 3279: {'name': 'Carl_G._Fisher'}, 3280: {'name': 'Myers-Briggs_Type_Indicator'}, 3281: {'name': 'Carl_Lewis'}, 3282: {'name': 'Jesse_Owens'}, 3283: {'name': 'Daniel_Ellsberg'}, 3284: {'name': 'Carlsbad_Caverns_National_Park'}, 3285: {'name': 'Gray_Wolf'}, 3286: {'name': 'Caroline_Island'}, 3287: {'name': 'Kiribati'}, 3288: {'name': 'Niue'}, 3289: {'name': 'Sea_level_rise'}, 3290: {'name': 'Carolingian_Gospel_Book_(British_Library,_MS_Add._11848)'}, 3291: {'name': 'Parsnip'}, 3292: {'name': 'Casimir_effect'}, 3293: {'name': 'Renormalization'}, 3294: {'name': 'Enceladus_(moon)'}, 3295: {'name': 'Great_Red_Spot'}, 3296: {'name': 'Cassowary'}, 3297: {'name': 'Wild_cat'}, 3298: {'name': \"Cat's_Eye_Nebula\"}, 3299: {'name': 'Cat_Stevens'}, 3300: {'name': 'Cataract'}, 3301: {'name': 'Cataract_surgery'}, 3302: {'name': 'Catherine_Cranston'}, 3303: {'name': 'Catholic_social_teaching'}, 3304: {'name': 'Human_dignity'}, 3305: {'name': 'Mammoth_Cave_National_Park'}, 3306: {'name': 'Stingray'}, 3307: {'name': 'Celeriac'}, 3308: {'name': 'Celine_Dion'}, 3309: {'name': 'Louis_Armstrong'}, 3310: {'name': 'Order_of_Canada'}, 3311: {'name': 'Francis_Crick'}, 3312: {'name': 'James_D._Watson'}, 3313: {'name': 'Cello'}, 3314: {'name': 'Celtic_F.C.'}, 3315: {'name': 'Celtic_Park'}, 3316: {'name': 'Dundee_United_F.C.'}, 3317: {'name': 'Scottish_mythology'}, 3318: {'name': 'Quantum_computer'}, 3319: {'name': 'Ceratopsidae'}, 3320: {'name': 'Monoclonius'}, 3321: {'name': 'Styracosaurus'}, 3322: {'name': 'Health'}, 3323: {'name': 'Gas_tungsten_arc_welding'}, 3324: {'name': 'Neodymium'}, 3325: {'name': 'Praseodymium'}, 3326: {'name': 'Yttrium'}, 3327: {'name': 'Senufo_languages'}, 3328: {'name': 'Galapagos_Islands'}, 3329: {'name': 'Poor_Law'}, 3330: {'name': 'David_Copperfield_(novel)'}, 3331: {'name': 'Oliver_Twist'}, 3332: {'name': 'Shoe_polish'}, 3333: {'name': 'Maya_mythology'}, 3334: {'name': 'Newmarket'}, 3335: {'name': \"Charlotte's_Web\"}, 3336: {'name': 'Nintendo_DS'}, 3337: {'name': 'Chartism'}, 3338: {'name': 'Che_Guevara'}, 3339: {'name': 'Malcolm_X'}, 3340: {'name': 'Kansas_City,_Missouri'}, 3341: {'name': 'Speaker_of_the_United_States_House_of_Representatives'}, 3342: {'name': 'Kitsch'}, 3343: {'name': 'Space_exploration'}, 3344: {'name': 'Tooth_enamel'}, 3345: {'name': 'Lutetium'}, 3346: {'name': 'Niobium'}, 3347: {'name': 'Computational_chemistry'}, 3348: {'name': 'Quantum_chemistry'}, 3349: {'name': 'Chepstow_Bridge'}, 3350: {'name': 'Chernobyl_disaster'}, 3351: {'name': 'Eleocharis_dulcis'}, 3352: {'name': 'Chew_Magna'}, 3353: {'name': 'Chew_Stoke'}, 3354: {'name': 'Chew_Valley'}, 3355: {'name': 'Chew_Valley_Lake'}, 3356: {'name': 'Mistle_Thrush'}, 3357: {'name': 'Wren'}, 3358: {'name': 'Pochard'}, 3359: {'name': 'Reed_Warbler'}, 3360: {'name': 'Chicago_Bears'}, 3361: {'name': 'Dakota,_Minnesota_and_Eastern_Railroad'}, 3362: {'name': 'Common_cold'}, 3363: {'name': 'Child'}, 3364: {'name': 'Convention_on_the_Rights_of_the_Child'}, 3365: {'name': 'Chiltern_Hills'}, 3366: {'name': 'Dunstable_Downs'}, 3367: {'name': 'Sun_Yat-sen'}, 3368: {'name': 'Chinese_Rites_controversy'}, 3369: {'name': 'Chinyingi'}, 3370: {'name': 'J._S._Fry_&_Sons'}, 3371: {'name': 'The_Count_of_Monte_Cristo'}, 3372: {'name': 'Chris_Evert'}, 3373: {'name': 'Fed_Cup'}, 3374: {'name': 'Martina_Navratilova'}, 3375: {'name': 'WTA_Tour_Championships'}, 3376: {'name': 'Firearm'}, 3377: {'name': 'Jake_Gyllenhaal'}, 3378: {'name': 'Pac-Man'}, 3379: {'name': 'Treasure_Island'}, 3380: {'name': 'Oswald_of_Northumbria'}, 3381: {'name': 'Cultural_identity'}, 3382: {'name': 'Sonic_the_Hedgehog_(character)'}, 3383: {'name': 'Strait_of_Malacca'}, 3384: {'name': 'Chromatic_aberration'}, 3385: {'name': 'Cicely'}, 3386: {'name': 'Poetry_of_the_United_States'}, 3387: {'name': 'The_Godfather'}, 3388: {'name': 'The_Shawshank_Redemption'}, 3389: {'name': 'Community'}, 3390: {'name': 'Juice'}, 3391: {'name': 'Kaffir_lime'}, 3392: {'name': 'Patna'}, 3393: {'name': 'Derby'}, 3394: {'name': 'Salford'}, 3395: {'name': 'Civil_War_token'}, 3396: {'name': 'Social_capital'}, 3397: {'name': 'Henry_Moore'}, 3398: {'name': 'Jordan_River'}, 3399: {'name': 'Olmec'}, 3400: {'name': 'Oppression'}, 3401: {'name': 'Macintosh'}, 3402: {'name': 'John_Constable'}, 3403: {'name': 'Laurence_Olivier'}, 3404: {'name': 'Cleopatra_VII_of_Egypt'}, 3405: {'name': 'North_Atlantic_oscillation'}, 3406: {'name': 'Retreat_of_glaciers_since_1850'}, 3407: {'name': 'Norwich'}, 3408: {'name': 'Clone_Wars_(Star_Wars)'}, 3409: {'name': 'Darth_Vader'}, 3410: {'name': 'Obi-Wan_Kenobi'}, 3411: {'name': 'Coal_Tit'}, 3412: {'name': 'Cockatiel'}, 3413: {'name': 'Coconut_oil'}, 3414: {'name': 'New_moon'}, 3415: {'name': 'Omega-3_fatty_acid'}, 3416: {'name': 'Colditz_Castle'}, 3417: {'name': 'Mauthausen-Gusen_concentration_camp'}, 3418: {'name': 'The_Importance_of_Being_Earnest'}, 3419: {'name': 'Colima_(volcano)'}, 3420: {'name': 'Collapse_of_the_World_Trade_Center'}, 3421: {'name': 'Stage_(theatre)'}, 3422: {'name': 'The_Relapse'}, 3423: {'name': 'Theatre_Royal,_Drury_Lane'}, 3424: {'name': 'Federated_States_of_Micronesia'}, 3425: {'name': 'Hoover_Dam'}, 3426: {'name': 'Lake_Mead'}, 3427: {'name': 'Lake_Powell'}, 3428: {'name': 'Colossus_of_Rhodes'}, 3429: {'name': 'Missouri_River'}, 3430: {'name': 'Doom'}, 3431: {'name': 'Deconstructivism'}, 3432: {'name': 'Comet_Hale-Bopp'}, 3433: {'name': 'Comet_Hyakutake'}, 3434: {'name': 'Great_comet'}, 3435: {'name': 'Eilmer_of_Malmesbury'}, 3436: {'name': 'Mir'}, 3437: {'name': 'Space_Shuttle_Challenger_disaster'}, 3438: {'name': 'Comet_White-Ortiz-Bolelli'}, 3439: {'name': 'Comics'}, 3440: {'name': 'The_Beano'}, 3441: {'name': 'The_Dandy'}, 3442: {'name': 'Comma_Johanneum'}, 3443: {'name': 'Common_Basilisk'}, 3444: {'name': 'Common_Cuckoo'}, 3445: {'name': 'Dunnock'}, 3446: {'name': 'Common_Eider'}, 3447: {'name': 'Common_Hazel'}, 3448: {'name': 'Common_Pheasant'}, 3449: {'name': 'Common_agouti'}, 3450: {'name': 'Squash_(sport)'}, 3451: {'name': 'Tuvalu'}, 3452: {'name': 'Robert_Owen'}, 3453: {'name': 'Local_community'}, 3454: {'name': 'Oviraptor'}, 3455: {'name': 'Schrodinger_equation'}, 3456: {'name': 'GNOME'}, 3457: {'name': 'History_of_computing_hardware'}, 3458: {'name': 'Python_(programming_language)'}, 3459: {'name': 'Trigonometry'}, 3460: {'name': 'Nintendo_Entertainment_System'}, 3461: {'name': 'Rosa_Parks'}, 3462: {'name': 'Conflict'}, 3463: {'name': 'Three_Gorges_Dam'}, 3464: {'name': 'Constantine_II_of_Scotland'}, 3465: {'name': 'Constitution_of_May_3,_1791'}, 3466: {'name': 'History_of_democracy'}, 3467: {'name': 'El_Lissitzky'}, 3468: {'name': 'Consumer_protection'}, 3469: {'name': 'Contact_lens'}, 3470: {'name': 'Eyelid'}, 3471: {'name': 'Fusarium'}, 3472: {'name': 'Igneous_rock'}, 3473: {'name': 'Control_car_(rail)'}, 3474: {'name': 'Convention_on_the_International_Trade_in_Endangered_Species_of_Wild_Flora_and_Fauna'}, 3475: {'name': 'International_human_rights_instruments'}, 3476: {'name': 'Hafnium'}, 3477: {'name': 'Copenhagen_Fire_of_1728'}, 3478: {'name': 'Great_Cormorant'}, 3479: {'name': 'Corn_oil'}, 3480: {'name': 'Crash_test_dummy'}, 3481: {'name': 'PONG'}, 3482: {'name': 'The_West_Wing_(TV_series)'}, 3483: {'name': 'Coronation_Street'}, 3484: {'name': 'Corporate_finance'}, 3485: {'name': 'Investment_banking'}, 3486: {'name': 'Supply_chain_management'}, 3487: {'name': 'Costume_design'}, 3488: {'name': 'Howards_End'}, 3489: {'name': 'Lighting_designer'}, 3490: {'name': 'Gossypium'}, 3491: {'name': 'Coupling_(railway)'}, 3492: {'name': 'Lynton_and_Barnstaple_Railway'}, 3493: {'name': 'Montreal_Metro'}, 3494: {'name': 'Thor'}, 3495: {'name': 'Craters_of_the_Moon_National_Monument_and_Preserve'}, 3496: {'name': 'Odin'}, 3497: {'name': 'Creative_Commons'}, 3498: {'name': 'Mozilla_Firefox'}, 3499: {'name': 'Wikinews'}, 3500: {'name': 'Wikipedia'}, 3501: {'name': 'Ichthyosaur'}, 3502: {'name': 'Plesiosaur'}, 3503: {'name': 'Pachycephalosaurus'}, 3504: {'name': 'Pelagic_zone'}, 3505: {'name': 'Tuatara'}, 3506: {'name': 'Juvenile_delinquency'}, 3507: {'name': 'Crime_and_Punishment'}, 3508: {'name': 'Franz_Kafka'}, 3509: {'name': 'The_Brothers_Karamazov'}, 3510: {'name': 'The_Waste_Land'}, 3511: {'name': 'Crime_in_Mexico'}, 3512: {'name': 'Crimean_Karaites'}, 3513: {'name': 'Mary_Seacole'}, 3514: {'name': 'Crimson-collared_Tanager'}, 3515: {'name': 'Cristero_War'}, 3516: {'name': 'Knights_of_Columbus'}, 3517: {'name': 'Criticism_of_the_War_on_Terrorism'}, 3518: {'name': 'Jean_Charles_de_Menezes'}, 3519: {'name': \"Crohn's_disease\"}, 3520: {'name': 'Cross_Fell'}, 3521: {'name': 'Lake_District'}, 3522: {'name': 'Pennine_Way'}, 3523: {'name': 'Crossbill'}, 3524: {'name': 'Rook_(bird)'}, 3525: {'name': 'Crown_Jewels_of_the_United_Kingdom'}, 3526: {'name': 'Siege_of_Antioch'}, 3527: {'name': 'Crystallographic_defects_in_diamond'}, 3528: {'name': 'Cuckmere_Haven'}, 3529: {'name': 'Meander'}, 3530: {'name': 'Oxbow_lake'}, 3531: {'name': 'Cultural_diversity'}, 3532: {'name': 'Organization'}, 3533: {'name': 'Culture_of_the_Democratic_Republic_of_the_Congo'}, 3534: {'name': 'Gadolinium'}, 3535: {'name': 'Cyclamen'}, 3536: {'name': 'Cyclone_Percy'}, 3537: {'name': 'Pandanus'}, 3538: {'name': 'Cyclone_Rosita'}, 3539: {'name': 'Cyril_Clarke'}, 3540: {'name': 'Cyrus_K._Holliday'}, 3541: {'name': 'Disneyland_Railroad'}, 3542: {'name': 'Cystic_fibrosis'}, 3543: {'name': 'Telecommunication'}, 3544: {'name': 'Longship'}, 3545: {'name': 'Polymerase_chain_reaction'}, 3546: {'name': \"Dad's_Army\"}, 3547: {'name': 'Morecambe_and_Wise'}, 3548: {'name': 'Daley_Thompson'}, 3549: {'name': 'John_F._Kennedy_assassination'}, 3550: {'name': 'Damascus_steel'}, 3551: {'name': 'Katana'}, 3552: {'name': 'Pat_Cash'}, 3553: {'name': 'Dandelion'}, 3554: {'name': 'Danny_Deever'}, 3555: {'name': 'Danske_Statsbaner'}, 3556: {'name': 'Rwandan_Genocide'}, 3557: {'name': 'Darling_River'}, 3558: {'name': 'Darmstadtium'}, 3559: {'name': 'Meitnerium'}, 3560: {'name': 'Roentgenium'}, 3561: {'name': 'Natalie_Portman'}, 3562: {'name': 'David_Attenborough'}, 3563: {'name': 'David_Beckham'}, 3564: {'name': 'David_Blanchflower'}, 3565: {'name': 'David_Cameron'}, 3566: {'name': 'Stanley_Baldwin'}, 3567: {'name': 'David_Helvarg'}, 3568: {'name': 'David_Heymann'}, 3569: {'name': 'David_Hilbert'}, 3570: {'name': 'David_III_of_Tao'}, 3571: {'name': 'Serbia_and_Montenegro'}, 3572: {'name': \"Davy_Jones'_Locker\"}, 3573: {'name': 'Dayuan'}, 3574: {'name': 'Issyk_Kul'}, 3575: {'name': 'Zhang_Qian'}, 3576: {'name': 'Great_Salt_Lake'}, 3577: {'name': 'Lake_Baikal'}, 3578: {'name': 'Death_Valley_National_Park'}, 3579: {'name': 'Snowball_Earth'}, 3580: {'name': 'Talc'}, 3581: {'name': 'Decade_Volcanoes'}, 3582: {'name': 'Mount_Nyiragongo'}, 3583: {'name': 'Mount_Rainier'}, 3584: {'name': 'Mount_Unzen'}, 3585: {'name': 'Sakurajima'}, 3586: {'name': 'Ulawun'}, 3587: {'name': 'Defaka'}, 3588: {'name': 'Defense_of_Sihang_Warehouse'}, 3589: {'name': 'Flag_of_the_Republic_of_China'}, 3590: {'name': 'Velociraptor'}, 3591: {'name': 'Fiction'}, 3592: {'name': 'Osiris'}, 3593: {'name': 'Waheguru'}, 3594: {'name': 'Indira_Gandhi'}, 3595: {'name': 'Demand_Note'}, 3596: {'name': 'Democratic_Action_Party'}, 3597: {'name': 'Parliament_of_Malaysia'}, 3598: {'name': 'Okapi'}, 3599: {'name': 'Denis_Law'}, 3600: {'name': 'Skaneland'}, 3601: {'name': 'Dennis_Ritchie'}, 3602: {'name': 'Sunflower'}, 3603: {'name': 'Desert_locust'}, 3604: {'name': \"Pontiac's_Rebellion\"}, 3605: {'name': 'Super_Bowl_XL'}, 3606: {'name': 'The_Temptations'}, 3607: {'name': 'Dewey_Square'}, 3608: {'name': 'Diamond_simulant'}, 3609: {'name': 'Diamond_cut'}, 3610: {'name': 'Diane_Keaton'}, 3611: {'name': 'I_Ching'}, 3612: {'name': 'The_Fairy-Queen'}, 3613: {'name': 'Venus_and_Adonis_(opera)'}, 3614: {'name': 'Differential_geometry_and_topology'}, 3615: {'name': 'Manifold'}, 3616: {'name': 'Diffuse_interstellar_band'}, 3617: {'name': 'Dilophosaurus'}, 3618: {'name': 'Dimetrodon'}, 3619: {'name': 'Spinosaurus'}, 3620: {'name': 'Giganotosaurus'}, 3621: {'name': 'Iguanodon'}, 3622: {'name': 'Indricotherium'}, 3623: {'name': 'King_Kong_(1933_film)'}, 3624: {'name': 'Maiasaura'}, 3625: {'name': 'Mammoth'}, 3626: {'name': 'Protoceratops'}, 3627: {'name': 'Directive_Principles_in_India'}, 3628: {'name': 'Rupee'}, 3629: {'name': 'Sardar_Vallabhbhai_Patel'}, 3630: {'name': 'Dixie_Mission'}, 3631: {'name': 'Mendelevium'}, 3632: {'name': 'Extinct_birds'}, 3633: {'name': 'Gerald_Durrell'}, 3634: {'name': 'Jersey_Zoological_Park'}, 3635: {'name': 'Mixed-breed_dog'}, 3636: {'name': 'Domestic_AC_power_plugs_and_sockets'}, 3637: {'name': 'Donald_Duck'}, 3638: {'name': 'Donald_Knuth'}, 3639: {'name': 'Emacs'}, 3640: {'name': 'Tim_Berners-Lee'}, 3641: {'name': 'Miles_Davis'}, 3642: {'name': 'Kakapo'}, 3643: {'name': 'Mount_Kilimanjaro'}, 3644: {'name': 'Eurasian_Collared_Dove'}, 3645: {'name': 'Pink_Pigeon'}, 3646: {'name': 'Wood_Pigeon'}, 3647: {'name': 'White_cliffs_of_Dover'}, 3648: {'name': 'Dr._Seuss'}, 3649: {'name': 'The_Cat_in_the_Hat'}, 3650: {'name': 'The_Lorax'}, 3651: {'name': 'Draughts'}, 3652: {'name': 'GlaxoSmithKline'}, 3653: {'name': 'Driving_on_the_left_or_right'}, 3654: {'name': 'Palau'}, 3655: {'name': 'Drosera_anglica'}, 3656: {'name': 'Soil_pH'}, 3657: {'name': 'Sundew'}, 3658: {'name': 'Drum_and_bass'}, 3659: {'name': 'Garage_(dance_music)'}, 3660: {'name': 'The_Supremes'}, 3661: {'name': 'Matsuo_Basho'}, 3662: {'name': 'Dualism_(philosophy_of_mind)'}, 3663: {'name': 'Eliminative_materialism'}, 3664: {'name': 'Jerry_Fodor'}, 3665: {'name': 'Osaka'}, 3666: {'name': 'Rutherfordium'}, 3667: {'name': 'Humus'}, 3668: {'name': 'Kylie_Minogue'}, 3669: {'name': 'Durian'}, 3670: {'name': 'High_German_consonant_shift'}, 3671: {'name': 'Erbium'}, 3672: {'name': 'Holmium'}, 3673: {'name': 'E.T._the_Extra-Terrestrial_(Atari_2600)'}, 3674: {'name': 'E._E._Cummings'}, 3675: {'name': 'Modernist_poetry_in_English'}, 3676: {'name': 'E._P._Wigner'}, 3677: {'name': 'EMD_BL2'}, 3678: {'name': 'Florida_East_Coast_Railway'}, 3679: {'name': 'EMD_GP30'}, 3680: {'name': 'White-tailed_Eagle'}, 3681: {'name': 'Earless_seal'}, 3682: {'name': 'Effects_of_nuclear_explosions'}, 3683: {'name': 'Tsar_Bomba'}, 3684: {'name': 'Earwax'}, 3685: {'name': 'Eastern_Roman_Empire'}, 3686: {'name': 'Rail_transport_in_India'}, 3687: {'name': 'Economy_of_Pakistan'}, 3688: {'name': 'Economy_of_Scotland'}, 3689: {'name': 'Economy_of_the_Iroquois'}, 3690: {'name': 'Economy_of_the_Republic_of_Ireland'}, 3691: {'name': 'Shining_Path'}, 3692: {'name': 'Marcel_Proust'}, 3693: {'name': 'The_Picture_of_Dorian_Gray'}, 3694: {'name': 'Potassium_iodide'}, 3695: {'name': 'Edwin_of_Northumbria'}, 3696: {'name': 'Edmonton'}, 3697: {'name': 'Edmund_Hillary'}, 3698: {'name': 'Tenzing_Norgay'}, 3699: {'name': 'Educational_psychology'}, 3700: {'name': 'Education_in_the_United_States'}, 3701: {'name': 'Household_income_in_the_United_States'}, 3702: {'name': 'List_of_areas_in_the_National_Park_System_of_the_United_States'}, 3703: {'name': 'Margin_of_error'}, 3704: {'name': 'Separation_of_powers_under_the_United_States_Constitution'}, 3705: {'name': \"Kohlberg's_stages_of_moral_development\"}, 3706: {'name': 'Pedagogy'}, 3707: {'name': 'Ralph_Nader'}, 3708: {'name': 'Penda_of_Mercia'}, 3709: {'name': 'Effect_of_Hurricane_Katrina_on_New_Orleans'}, 3710: {'name': 'Levee_failures_in_Greater_New_Orleans,_2005'}, 3711: {'name': 'Meteorological_history_of_Hurricane_Katrina'}, 3712: {'name': 'Yellow_fever'}, 3713: {'name': 'Effects_of_global_warming'}, 3714: {'name': 'History_of_nuclear_weapons'}, 3715: {'name': 'Trinity_test'}, 3716: {'name': 'Tofu'}, 3717: {'name': 'Giza_pyramid_complex'}, 3718: {'name': 'Hatshepsut'}, 3719: {'name': 'Eifel_Aqueduct'}, 3720: {'name': 'Fermium'}, 3721: {'name': 'El_Hatillo_Municipality,_Miranda'}, 3722: {'name': 'Sparrowhawk'}, 3723: {'name': 'Eldfell'}, 3724: {'name': 'Iceland_hotspot'}, 3725: {'name': 'Surtsey'}, 3726: {'name': 'Isospin'}, 3727: {'name': 'William_Gilbert'}, 3728: {'name': 'Optical_fiber'}, 3729: {'name': 'Superconductivity'}, 3730: {'name': 'Mechanical_work'}, 3731: {'name': 'Electron_beam_welding'}, 3732: {'name': 'Electronic_amplifier'}, 3733: {'name': 'Semiconductor_device'}, 3734: {'name': 'Elementary_group_theory'}, 3735: {'name': 'Ganesha'}, 3736: {'name': 'Tooth_development'}, 3737: {'name': 'Elephant_bird'}, 3738: {'name': 'Elephant_shrew'}, 3739: {'name': 'Elfin-woods_Warbler'}, 3740: {'name': 'Mongoose'}, 3741: {'name': 'Elias_Ashmole'}, 3742: {'name': 'Elizabeth_Fry'}, 3743: {'name': 'Elizabethan_Poor_Law_(1601)'}, 3744: {'name': 'Muhammad_Ali'}, 3745: {'name': 'GNU_Project'}, 3746: {'name': 'OpenBSD'}, 3747: {'name': 'X_Window_System'}, 3748: {'name': 'Stuttering'}, 3749: {'name': 'Emma_Roberts'}, 3750: {'name': 'Empires__Dawn_of_the_Modern_World'}, 3751: {'name': 'Vestigial_structure'}, 3752: {'name': 'Endoscopic_foreign_body_retrieval'}, 3753: {'name': 'Measurement'}, 3754: {'name': 'Gustav_Holst'}, 3755: {'name': 'L._S._Lowry'}, 3756: {'name': 'National_parks_of_England_and_Wales'}, 3757: {'name': 'England_expects_that_every_man_will_do_his_duty'}, 3758: {'name': 'Horatio_Nelson,_1st_Viscount_Nelson'}, 3759: {'name': 'HTTP_cookie'}, 3760: {'name': 'English_monarchs_family_tree'}, 3761: {'name': 'George_Herbert'}, 3762: {'name': 'Irish_poetry'}, 3763: {'name': 'Pre-Raphaelite_Brotherhood'}, 3764: {'name': 'Typewriter'}, 3765: {'name': 'Work_(thermodynamics)'}, 3766: {'name': 'Equal_Protection_Clause'}, 3767: {'name': 'Thulium'}, 3768: {'name': 'Layla'}, 3769: {'name': 'Scattered_disc'}, 3770: {'name': 'Imagism'}, 3771: {'name': 'The_Old_Man_and_the_Sea'}, 3772: {'name': 'J._J._Thomson'}, 3773: {'name': 'Eruption_column'}, 3774: {'name': \"Richard_O'Connor\"}, 3775: {'name': 'Eskimo'}, 3776: {'name': 'Esox'}, 3777: {'name': 'Mole_(animal)'}, 3778: {'name': 'Lavender'}, 3779: {'name': 'Soddo_language'}, 3780: {'name': 'Ethiopian_Wolf'}, 3781: {'name': 'Eurasian_Bullfinch'}, 3782: {'name': 'Eurasian_Jay'}, 3783: {'name': 'Tawny_Owl'}, 3784: {'name': 'Eurasian_Oystercatcher'}, 3785: {'name': 'Luxembourg_(city)'}, 3786: {'name': 'European_Greenfinch'}, 3787: {'name': 'European_Kingfisher'}, 3788: {'name': 'Yuri_Gagarin'}, 3789: {'name': 'Samarium'}, 3790: {'name': 'Euston_Manifesto'}, 3791: {'name': 'Eustreptospondylus'}, 3792: {'name': 'Eva_Peron'}, 3793: {'name': 'Evan_Rachel_Wood'}, 3794: {'name': 'Evanton'}, 3795: {'name': 'Glacier_National_Park_(US)'}, 3796: {'name': 'Punctuated_equilibrium'}, 3797: {'name': 'Tiktaalik'}, 3798: {'name': 'Evolutionarily_stable_strategy'}, 3799: {'name': 'Nash_equilibrium'}, 3800: {'name': 'Exploration_of_Mars'}, 3801: {'name': 'Phoenix_(spacecraft)'}, 3802: {'name': 'Explorer_I'}, 3803: {'name': 'Project_Vanguard'}, 3804: {'name': 'Space_Race'}, 3805: {'name': 'Sputnik_2'}, 3806: {'name': 'Helmeted_Guineafowl'}, 3807: {'name': 'Ivory-billed_Woodpecker'}, 3808: {'name': 'Red_Kite'}, 3809: {'name': 'Starling'}, 3810: {'name': 'Gliese_876'}, 3811: {'name': 'Gliese_876_d'}, 3812: {'name': 'HD_209458_b'}, 3813: {'name': 'Mu_Arae'}, 3814: {'name': 'Orbit_(anatomy)'}, 3815: {'name': 'Eye_(cyclone)'}, 3816: {'name': 'H.D.'}, 3817: {'name': 'F-4_Phantom_II'}, 3818: {'name': 'FM_Consolidated_line'}, 3819: {'name': 'FairTax'}, 3820: {'name': 'Lerwick'}, 3821: {'name': 'Peregrine_Falcon'}, 3822: {'name': 'Falkirk_Wheel'}, 3823: {'name': 'Stanley,_Falkland_Islands'}, 3824: {'name': 'Fanny_Blankers-Koen'}, 3825: {'name': 'Puffin'}, 3826: {'name': 'Opus_Dei'}, 3827: {'name': 'Galah'}, 3828: {'name': 'Short-beaked_Echidna'}, 3829: {'name': 'Tasmanian_Devil'}, 3830: {'name': 'Wallaby'}, 3831: {'name': 'W._Mark_Felt'}, 3832: {'name': 'Open_source'}, 3833: {'name': 'Felice_Beato'}, 3834: {'name': 'Felix_the_Cat'}, 3835: {'name': 'Ferdinandea'}, 3836: {'name': 'Soil_structure'}, 3837: {'name': 'Fetal_alcohol_spectrum_disorder'}, 3838: {'name': 'Ffestiniog_Railway'}, 3839: {'name': 'Snowdonia_National_Park'}, 3840: {'name': 'Fieldfare'}, 3841: {'name': 'Final_Fantasy_(video_game)'}, 3842: {'name': 'Space_station'}, 3843: {'name': 'Final_Fantasy_Adventure'}, 3844: {'name': 'Financial_statements'}, 3845: {'name': 'Post-glacial_rebound'}, 3846: {'name': 'Firecrest'}, 3847: {'name': 'Goldcrest'}, 3848: {'name': 'Mormon_Trail'}, 3849: {'name': 'Kochi_(India)'}, 3850: {'name': 'Flag_of_Hong_Kong'}, 3851: {'name': 'Flag_of_India'}, 3852: {'name': 'Flag_of_Mexico'}, 3853: {'name': 'Flag_of_South_Africa'}, 3854: {'name': 'Flemish_dialects'}, 3855: {'name': 'Hurricane_David'}, 3856: {'name': 'North_Sea_flood_of_1953'}, 3857: {'name': 'Tropical_Storm_Allison'}, 3858: {'name': 'Henry_H._Rogers'}, 3859: {'name': 'Henry_Morrison_Flagler'}, 3860: {'name': 'Overseas_Railroad'}, 3861: {'name': 'Virginian_Railway'}, 3862: {'name': 'Floris_and_Blancheflour'}, 3863: {'name': 'Floyd_Mayweather_Jr.'}, 3864: {'name': 'Tin_whistle'}, 3865: {'name': 'Foie_gras'}, 3866: {'name': 'Forensic_facial_reconstruction'}, 3867: {'name': 'Monaco_Grand_Prix'}, 3868: {'name': 'Forrest_Gump'}, 3869: {'name': 'Fort_de_Chartres'}, 3870: {'name': 'Forth'}, 3871: {'name': 'Forth_Road_Bridge'}, 3872: {'name': 'Island_Fox'}, 3873: {'name': 'Fractal'}, 3874: {'name': 'Frances_Oldham_Kelsey'}, 3875: {'name': 'IG_Farben_Building'}, 3876: {'name': 'Franklin_B._Gowen'}, 3877: {'name': 'Social_anxiety'}, 3878: {'name': 'Frederick_Hamilton-Temple-Blackwood,_1st_Marquess_of_Dufferin_and_Ava'}, 3879: {'name': 'Royal_Geographical_Society'}, 3880: {'name': 'Niccolo_Machiavelli'}, 3881: {'name': 'Polar_ice_cap'}, 3882: {'name': 'Water_resources'}, 3883: {'name': 'Muhammad_Iqbal'}, 3884: {'name': 'Zoroaster'}, 3885: {'name': 'Friend_Directdebit'}, 3886: {'name': 'Directdebit'}, 3887: {'name': 'Sesame_Street'}, 3888: {'name': 'Radish'}, 3889: {'name': 'Rhubarb'}, 3890: {'name': 'Fugu'}, 3891: {'name': 'Scheme_programming_language'}, 3892: {'name': 'Fundamental_Rights_in_India'}, 3893: {'name': 'Fur_language'}, 3894: {'name': 'Ubuntu_(Linux_distribution)'}, 3895: {'name': 'GNU_Linux_naming_controversy'}, 3896: {'name': 'Hubble_Deep_Field'}, 3897: {'name': 'Galerina'}, 3898: {'name': 'Leaning_Tower_of_Pisa'}, 3899: {'name': 'Gallery_of_the_Kings_and_Queens_of_England'}, 3900: {'name': 'Gallimimus'}, 3901: {'name': 'SimCity'}, 3902: {'name': 'Ultimatum_game'}, 3903: {'name': 'Ganges_shark'}, 3904: {'name': 'Gangtok'}, 3905: {'name': 'Lhasa'}, 3906: {'name': 'Garden_Gnome_Liberation_Front'}, 3907: {'name': 'Gas_metal_arc_welding'}, 3908: {'name': 'Liquid_crystal'}, 3909: {'name': 'Shielded_metal_arc_welding'}, 3910: {'name': 'Gas_turbine-electric_locomotive'}, 3911: {'name': 'General_Pershing_Zephyr'}, 3912: {'name': 'Gentoo_penguin'}, 3913: {'name': 'Glaciology'}, 3914: {'name': 'Geography_of_Africa'}, 3915: {'name': 'Lake_Turkana'}, 3916: {'name': 'Geography_of_India'}, 3917: {'name': 'Geography_of_Ireland'}, 3918: {'name': \"Giant's_Causeway\"}, 3919: {'name': 'Geography_of_Texas'}, 3920: {'name': 'Soil_science'}, 3921: {'name': 'Geology_of_Dorset'}, 3922: {'name': 'New_Forest'}, 3923: {'name': 'Geology_of_the_Grand_Canyon_area'}, 3924: {'name': 'Georg_Forster'}, 3925: {'name': 'Georg_von_Boeselager'}, 3926: {'name': 'George_Byron,_6th_Baron_Byron'}, 3927: {'name': 'George_Fox'}, 3928: {'name': 'Order_of_St._Patrick'}, 3929: {'name': 'George_Thomas_Coker'}, 3930: {'name': 'Mount_Rushmore'}, 3931: {'name': 'South_Ossetia'}, 3932: {'name': 'Ho_Chi_Minh_City'}, 3933: {'name': 'Merseburg_Incantations'}, 3934: {'name': 'Ghost_Dance'}, 3935: {'name': 'Giant_Hogweed'}, 3936: {'name': 'Washington_Metro'}, 3937: {'name': 'Rock_of_Gibraltar'}, 3938: {'name': 'Gilles_Villeneuve'}, 3939: {'name': 'Hubbard_Glacier'}, 3940: {'name': 'Jocelin'}, 3941: {'name': 'Still_Game'}, 3942: {'name': 'Glastonbury_Festival'}, 3943: {'name': 'Gliese_876_b'}, 3944: {'name': 'Gliese_876_c'}, 3945: {'name': 'Global'}, 3946: {'name': 'Global_spread_of_H5N1'}, 3947: {'name': 'H5N1'}, 3948: {'name': 'Sudoku'}, 3949: {'name': 'Globe_Theatre'}, 3950: {'name': 'Space_Shuttle_program'}, 3951: {'name': 'Gmail'}, 3952: {'name': 'Jehovah'}, 3953: {'name': 'Gold(III)_chloride'}, 3954: {'name': 'Golden_Gate_Highlands_National_Park'}, 3955: {'name': 'Goleta,_California'}, 3956: {'name': 'Shelduck'}, 3957: {'name': 'Gordon_Griffith'}, 3958: {'name': 'Mountain_Gorilla'}, 3959: {'name': 'Government_of_France'}, 3960: {'name': 'Gowanus_Canal'}, 3961: {'name': 'Grand_Central_Station_(Chicago)'}, 3962: {'name': 'Northern_Pacific_Railway'}, 3963: {'name': 'Grand_Central_Terminal'}, 3964: {'name': 'Grand_Forks,_North_Dakota'}, 3965: {'name': 'Grange_Hill'}, 3966: {'name': 'Graniteville_train_disaster'}, 3967: {'name': 'Grape_seed_oil'}, 3968: {'name': 'Watchmen'}, 3969: {'name': 'Grease_(film)'}, 3970: {'name': 'Oil_reservoir'}, 3971: {'name': 'Great_Black-backed_Gull'}, 3972: {'name': 'Great_Bustard'}, 3973: {'name': 'Great_Comet_of_1882'}, 3974: {'name': 'Great_Crested_Grebe'}, 3975: {'name': 'Great_Lakes_Storm_of_1913'}, 3976: {'name': 'Weather_forecasting'}, 3977: {'name': 'Slavic_mythology'}, 3978: {'name': 'Sea_of_Galilee'}, 3979: {'name': 'Great_Spotted_Woodpecker'}, 3980: {'name': 'Great_hammerhead'}, 3981: {'name': 'Greater_Cane_Rat'}, 3982: {'name': 'Tenzin_Gyatso,_14th_Dalai_Lama'}, 3983: {'name': 'Temple_of_Artemis'}, 3984: {'name': 'Green_Woodpecker'}, 3985: {'name': 'Medieval_music'}, 3986: {'name': 'Gremlins'}, 3987: {'name': \"Grevy's_Zebra\"}, 3988: {'name': 'Isaac_Brock'}, 3989: {'name': 'Stornoway'}, 3990: {'name': 'Wrench'}, 3991: {'name': 'Gustavus_Franklin_Swift'}, 3992: {'name': 'Refrigerator_car'}, 3993: {'name': 'Stock_car_(rail)'}, 3994: {'name': 'HD_217107'}, 3995: {'name': 'HD_217107_b'}, 3996: {'name': 'HD_217107_c'}, 3997: {'name': 'HD_28185'}, 3998: {'name': 'HD_28185_b'}, 3999: {'name': 'HIV_AIDS_in_Africa'}, 4000: {'name': 'HMS_E18'}, 4001: {'name': 'HSBC'}, 4002: {'name': 'Mark_Webber'}, 4003: {'name': 'Spyware'}, 4004: {'name': 'Orion_Nebula'}, 4005: {'name': 'Navassa_Island'}, 4006: {'name': 'Haji_Mohammad_Suharto'}, 4007: {'name': 'Halfbeak'}, 4008: {'name': 'Hamilton-Burr_duel'}, 4009: {'name': 'Hampstead_Heath'}, 4010: {'name': 'Ho_Chi_Minh'}, 4011: {'name': 'Harald_Maddadsson'}, 4012: {'name': 'Hardball_squash'}, 4013: {'name': 'Harley-Davidson'}, 4014: {'name': 'James_Callaghan'}, 4015: {'name': 'Harrier_Hawk'}, 4016: {'name': 'Lord_Voldemort'}, 4017: {'name': 'Hasekura_Tsunenaga'}, 4018: {'name': 'Osmium'}, 4019: {'name': 'Hawfinch'}, 4020: {'name': 'Hawk-Eye'}, 4021: {'name': 'Heilbronn'}, 4022: {'name': 'Helen_Gandy'}, 4023: {'name': 'Helicobacter_pylori'}, 4024: {'name': 'Hello_Garci_scandal'}, 4025: {'name': 'William_N._Page'}, 4026: {'name': 'Real_tennis'}, 4027: {'name': 'Henry_Wood_(conductor)'}, 4028: {'name': 'Hepatorenal_syndrome'}, 4029: {'name': 'Herbig-Haro_object'}, 4030: {'name': 'Hermann_Maier'}, 4031: {'name': 'Hero_of_Ukraine'}, 4032: {'name': 'Hero_of_the_Russian_Federation'}, 4033: {'name': 'Herrerasaurus'}, 4034: {'name': 'Hey_Jude'}, 4035: {'name': 'I_Want_to_Hold_Your_Hand'}, 4036: {'name': \"Hickman's_potentilla\"}, 4037: {'name': 'Yeti'}, 4038: {'name': 'Himno_Nacional_Mexicano'}, 4039: {'name': 'Reggaeton'}, 4040: {'name': 'Hiroh_Kikai'}, 4041: {'name': 'History_of_Alaska'}, 4042: {'name': 'Malaspina_Glacier'}, 4043: {'name': 'Scotland_in_the_High_Middle_Ages'}, 4044: {'name': 'History_of_Arizona'}, 4045: {'name': 'Phoenix_Zoo'}, 4046: {'name': 'History_of_Buddhism'}, 4047: {'name': 'History_of_Burnside'}, 4048: {'name': 'History_of_Cape_Colony_from_1806_to_1870'}, 4049: {'name': 'History_of_Cape_Colony_from_1870_to_1899'}, 4050: {'name': 'History_of_Central_Asia'}, 4051: {'name': 'Sputnik_1'}, 4052: {'name': 'History_of_Greenland'}, 4053: {'name': 'History_of_Limerick'}, 4054: {'name': 'History_of_Louisville,_Kentucky'}, 4055: {'name': 'History_of_Miami,_Florida'}, 4056: {'name': 'History_of_New_Jersey'}, 4057: {'name': 'History_of_Northwest_Territories_capital_cities'}, 4058: {'name': 'History_of_Poland_(1945-1989)'}, 4059: {'name': 'History_of_Portugal_(1777-1834)'}, 4060: {'name': 'History_of_Puerto_Rico'}, 4061: {'name': 'History_of_South_Carolina'}, 4062: {'name': 'History_of_Russia'}, 4063: {'name': 'History_of_post-Soviet_Russia'}, 4064: {'name': 'Polish-Muscovite_War_(1605-1618)'}, 4065: {'name': 'Russian_constitutional_crisis_of_1993'}, 4066: {'name': 'History_of_Singapore'}, 4067: {'name': 'United_Malays_National_Organisation'}, 4068: {'name': 'History_of_Solidarity'}, 4069: {'name': 'History_of_Wikipedia'}, 4070: {'name': 'Jimmy_Wales'}, 4071: {'name': 'Jordanhill_railway_station'}, 4072: {'name': 'Ward_Cunningham'}, 4073: {'name': 'Wikimedia_Foundation'}, 4074: {'name': 'History_of_the_Internet'}, 4075: {'name': 'History_of_education'}, 4076: {'name': 'History_of_merit_badges_(Boy_Scouts_of_America)'}, 4077: {'name': 'History_of_painting'}, 4078: {'name': 'Western_painting'}, 4079: {'name': 'History_of_saffron'}, 4080: {'name': 'History_of_slavery'}, 4081: {'name': 'Japanese_war_crimes'}, 4082: {'name': 'Third_Servile_War'}, 4083: {'name': 'History_of_the_Australian_Capital_Territory'}, 4084: {'name': 'History_of_the_Grand_Canyon_area'}, 4085: {'name': 'History_of_the_Netherlands'}, 4086: {'name': 'History_of_the_Panama_Canal'}, 4087: {'name': 'History_of_the_Portuguese_Communist_Party'}, 4088: {'name': 'Portuguese_Communist_Party'}, 4089: {'name': 'History_of_the_Royal_Australian_Navy'}, 4090: {'name': 'History_of_the_West_Indian_cricket_team'}, 4091: {'name': 'Holkham_Hall'}, 4092: {'name': 'Matthew_Brettingham'}, 4093: {'name': 'Space_Invaders'}, 4094: {'name': 'House_Martin'}, 4095: {'name': 'Swallow'}, 4096: {'name': 'Sparrow'}, 4097: {'name': 'Tree_Sparrow'}, 4098: {'name': 'Jarvis_Island'}, 4099: {'name': 'Hrafnkels_saga'}, 4100: {'name': 'Spherical_aberration'}, 4101: {'name': 'Hugo_Wolf'}, 4102: {'name': 'Human_abdomen'}, 4103: {'name': 'Thomas_Samuel_Kuhn'}, 4104: {'name': 'Humbert_Roque_Versace'}, 4105: {'name': 'Sperm_Whale'}, 4106: {'name': 'Music_of_Hungary'}, 4107: {'name': 'Hurricane_Gloria'}, 4108: {'name': 'Hurricane_Danny_(1997)'}, 4109: {'name': 'Hurricane_Edouard_(1996)'}, 4110: {'name': 'Hurricane_Felix_(1995)'}, 4111: {'name': 'Hurricane_John_(1994)'}, 4112: {'name': 'Hurricane_John_(2006)'}, 4113: {'name': 'Hurricane_Marty_(2003)'}, 4114: {'name': 'Kubla_Khan'}, 4115: {'name': 'Royal_Parks_of_London'}, 4116: {'name': 'Sodium_sulfate'}, 4117: {'name': 'Soil_moisture'}, 4118: {'name': 'Hypsilophodon'}, 4119: {'name': 'Napster'}, 4120: {'name': 'Lost_(TV_series)'}, 4121: {'name': 'Idit_Harel_Caperton'}, 4122: {'name': 'Ike_Altgens'}, 4123: {'name': 'Income_disparity'}, 4124: {'name': 'Kargil_War'}, 4125: {'name': 'Indian_Institutes_of_Technology'}, 4126: {'name': 'Indian_Peafowl'}, 4127: {'name': 'Peafowl'}, 4128: {'name': 'John_Bull_(locomotive)'}, 4129: {'name': 'List_of_Test_cricket_triple_centuries'}, 4130: {'name': 'Nematode'}, 4131: {'name': 'The_Mismeasure_of_Man'}, 4132: {'name': 'InterBase'}, 4133: {'name': 'International_English'}, 4134: {'name': 'Space_Shuttle_Endeavour'}, 4135: {'name': 'OpenOffice.org'}, 4136: {'name': 'Phishing'}, 4137: {'name': 'Introduction_to_special_relativity'}, 4138: {'name': 'Iowa_class_battleship'}, 4139: {'name': 'USS_Wisconsin_(BB-64)'}, 4140: {'name': 'Reza_Shah'}, 4141: {'name': 'Iraq_and_weapons_of_mass_destruction'}, 4142: {'name': 'Ireland_King_of_Arms'}, 4143: {'name': 'Paul_Kane'}, 4144: {'name': 'Iron_Mike'}, 4145: {'name': 'Krag-Jorgensen'}, 4146: {'name': 'Spirit_of_the_American_Doughboy'}, 4147: {'name': 'John_W._Campbell'}, 4148: {'name': 'Three_Laws_of_Robotics'}, 4149: {'name': 'Music_of_the_trecento'}, 4150: {'name': 'Papal_conclave'}, 4151: {'name': 'Jorvik'}, 4152: {'name': 'Jackanory'}, 4153: {'name': 'Sandy_Koufax'}, 4154: {'name': 'Jacob_Riis'}, 4155: {'name': 'To_Kill_a_Mockingbird'}, 4156: {'name': 'James_Lovelock'}, 4157: {'name': 'James_T._Aubrey,_Jr.'}, 4158: {'name': 'Keira_Knightley'}, 4159: {'name': 'Pride_and_Prejudice'}, 4160: {'name': 'Peak_District'}, 4161: {'name': 'Mario'}, 4162: {'name': 'Sumo'}, 4163: {'name': 'Japanese_grammar'}, 4164: {'name': 'Shroud_of_Turin'}, 4165: {'name': 'Jet_Set_Willy'}, 4166: {'name': 'Jiaogulan'}, 4167: {'name': 'Marcel_Lefebvre'}, 4168: {'name': 'Saint_Joan_(play)'}, 4169: {'name': 'Joel_Brand'}, 4170: {'name': 'Rudolf_Vrba'}, 4171: {'name': 'John_A.T._Robinson'}, 4172: {'name': 'Mother_Teresa'}, 4173: {'name': 'John_Henninger_Reagan'}, 4174: {'name': 'John_Pershing'}, 4175: {'name': 'John_Seigenthaler,_Sr.'}, 4176: {'name': 'John_Sentamu'}, 4177: {'name': 'John_W._Johnston'}, 4178: {'name': 'William_Mahone'}, 4179: {'name': 'Llywelyn_the_Great'}, 4180: {'name': 'Joseph_and_the_Amazing_Technicolor_Dreamcoat'}, 4181: {'name': 'Julius_and_Ethel_Rosenberg'}, 4182: {'name': 'July_2006_Java_earthquake'}, 4183: {'name': 'Jump_rope'}, 4184: {'name': 'Kilauea'}, 4185: {'name': 'Kakariki'}, 4186: {'name': 'Muhammad_Ali_Jinnah'}, 4187: {'name': 'Karikkoselka'}, 4188: {'name': 'Keurusselka'}, 4189: {'name': 'Katyn_massacre'}, 4190: {'name': 'Red_rain_in_Kerala'}, 4191: {'name': 'Kestrel'}, 4192: {'name': 'Kevin_Spacey'}, 4193: {'name': 'Khan_Wali_Khan'}, 4194: {'name': 'Khudai_Khidmatgar'}, 4195: {'name': 'Oleg_of_Novgorod'}, 4196: {'name': 'Kidnapped_(novel)'}, 4197: {'name': 'Moldovans'}, 4198: {'name': 'Kigo'}, 4199: {'name': 'Kingman_Reef'}, 4200: {'name': 'Kipchaks_in_Georgia'}, 4201: {'name': 'Nathu_La'}, 4202: {'name': 'Ray_of_Light'}, 4203: {'name': 'LANSA_Cuzco_Crash'}, 4204: {'name': 'Ladysmith_Black_Mambazo'}, 4205: {'name': 'Laika'}, 4206: {'name': 'Sputnik_program'}, 4207: {'name': 'Yenisei_River'}, 4208: {'name': 'Morecambe_Bay'}, 4209: {'name': 'Lake_Kariba'}, 4210: {'name': 'Lancia_Flaminia'}, 4211: {'name': 'Split_infinitive'}, 4212: {'name': 'Lawrencium'}, 4213: {'name': 'Welsh_law'}, 4214: {'name': 'Ununquadium'}, 4215: {'name': 'Lead(II)_nitrate'}, 4216: {'name': 'Lemon_myrtle'}, 4217: {'name': 'Leo_(constellation)'}, 4218: {'name': 'Lesothosaurus'}, 4219: {'name': 'Monarchies_in_the_European_Union'}, 4220: {'name': 'Lighthouse_of_Alexandria'}, 4221: {'name': 'Lincoln_(automobile)'}, 4222: {'name': 'Lincoln_Town_Car'}, 4223: {'name': 'Link_(The_Legend_of_Zelda)'}, 4224: {'name': 'Super_Mario_Bros.'}, 4225: {'name': 'Linnet'}, 4226: {'name': 'List_of_African_countries'}, 4227: {'name': 'List_of_Asian_countries'}, 4228: {'name': 'List_of_European_countries'}, 4229: {'name': 'List_of_North_American_countries'}, 4230: {'name': 'List_of_Oceanian_countries'}, 4231: {'name': 'List_of_South_American_countries'}, 4232: {'name': 'List_of_Archbishops_of_Canterbury'}, 4233: {'name': 'William_Edington'}, 4234: {'name': 'List_of_Canadian_provinces_and_territories_by_area'}, 4235: {'name': 'List_of_European_Union_member_states_by_accession'}, 4236: {'name': 'List_of_Prime_Ministers_of_the_United_Kingdom'}, 4237: {'name': 'List_of_animal_welfare_groups'}, 4238: {'name': 'Protactinium'}, 4239: {'name': 'Ununbium'}, 4240: {'name': 'Ununtrium'}, 4241: {'name': 'List_of_lakes'}, 4242: {'name': 'Loch_Ness'}, 4243: {'name': 'List_of_members_of_the_Commonwealth_of_Nations_by_date_joined'}, 4244: {'name': 'List_of_minerals'}, 4245: {'name': 'List_of_popes'}, 4246: {'name': 'List_of_rivers_by_length'}, 4247: {'name': 'Mackenzie_River'}, 4248: {'name': 'List_of_universities_in_the_United_Kingdom'}, 4249: {'name': 'Moringa_oleifera'}, 4250: {'name': 'Oenothera'}, 4251: {'name': \"List_of_world's_largest_lakes\"}, 4252: {'name': 'Little_Women'}, 4253: {'name': 'Rainhill_Trials'}, 4254: {'name': 'Snowdonia'}, 4255: {'name': 'Local_government_in_the_United_Kingdom'}, 4256: {'name': 'Logba_language'}, 4257: {'name': 'London_sewerage_system'}, 4258: {'name': 'Long-billed_Vulture'}, 4259: {'name': 'Long-tailed_Tit'}, 4260: {'name': 'Povoa_de_Varzim'}, 4261: {'name': 'Lope_de_Barrientos'}, 4262: {'name': 'Wikisource'}, 4263: {'name': 'Lottie_Dod'}, 4264: {'name': 'Louis_Freeh'}, 4265: {'name': 'Tom_and_Jerry_(MGM)'}, 4266: {'name': 'Lucy,_Lady_Duff-Gordon'}, 4267: {'name': 'M-10001'}, 4268: {'name': 'M-10003-6'}, 4269: {'name': 'Madama_Butterfly'}, 4270: {'name': 'Magdalena_Abakanowicz'}, 4271: {'name': 'Mahjong'}, 4272: {'name': 'Makuria'}, 4273: {'name': 'Nobiin_language'}, 4274: {'name': 'Old_Nubian_language'}, 4275: {'name': 'Mallard'}, 4276: {'name': 'Mamenchisaurus'}, 4277: {'name': 'Wayne_Rooney'}, 4278: {'name': 'Mandan'}, 4279: {'name': 'Map_projection'}, 4280: {'name': 'Marc_Pugh'}, 4281: {'name': 'Marcus_Allen'}, 4282: {'name': 'Marginated_Tortoise'}, 4283: {'name': 'Super_Mario_64'}, 4284: {'name': 'Mark_Twain_House'}, 4285: {'name': 'Martello_tower'}, 4286: {'name': 'Mary_Kingsley'}, 4287: {'name': 'Olaudah_Equiano'}, 4288: {'name': 'Mary_Somerville'}, 4289: {'name': 'Matilda_of_Boulogne'}, 4290: {'name': 'Mausoleum_of_Maussollos'}, 4291: {'name': 'Shrine_of_Remembrance'}, 4292: {'name': 'Mega_Man_X_(character)'}, 4293: {'name': 'Menthol'}, 4294: {'name': 'Tropical_Storm_Leslie_(2000)'}, 4295: {'name': 'Michael_Woodruff'}, 4296: {'name': 'Sistine_Chapel_ceiling'}, 4297: {'name': 'Mickey_Mantle'}, 4298: {'name': 'Optical_microscope'}, 4299: {'name': 'Milgram_experiment'}, 4300: {'name': 'Military_history_of_Canada'}, 4301: {'name': 'Military_history_of_Puerto_Rico'}, 4302: {'name': 'Military_history_of_France'}, 4303: {'name': 'Pedro_del_Valle'}, 4304: {'name': 'Military_history_of_the_Soviet_Union'}, 4305: {'name': 'Milk_thistle'}, 4306: {'name': 'Milkshake'}, 4307: {'name': 'Minmi_(dinosaur)'}, 4308: {'name': 'Norman_Borlaug'}, 4309: {'name': 'Mirabilis_(plant)'}, 4310: {'name': 'Miranda_Otto'}, 4311: {'name': 'Song_Thrush'}, 4312: {'name': 'Mixtape'}, 4313: {'name': 'Monarda_didyma'}, 4314: {'name': 'Mongol_invasion_of_Central_Asia'}, 4315: {'name': 'Shackleton_(crater)'}, 4316: {'name': 'Moorgate'}, 4317: {'name': 'Moorhen'}, 4318: {'name': 'Morris_dance'}, 4319: {'name': 'Onion_dome'}, 4320: {'name': 'Trans-Siberian_Railway'}, 4321: {'name': 'Mount_Baker'}, 4322: {'name': 'Multiple_sequence_alignment'}, 4323: {'name': 'Music_of_Albania'}, 4324: {'name': 'Music_of_Antigua_and_Barbuda'}, 4325: {'name': 'Music_of_Trinidad_and_Tobago'}, 4326: {'name': 'Music_of_Dominica'}, 4327: {'name': 'Music_of_Martinique_and_Guadeloupe'}, 4328: {'name': 'Music_of_the_Lesser_Antilles'}, 4329: {'name': 'Music_of_New_Zealand'}, 4330: {'name': 'Music_of_Italy'}, 4331: {'name': 'Music_of_the_Bahamas'}, 4332: {'name': 'Music_of_Thailand'}, 4333: {'name': 'Mustard_seed'}, 4334: {'name': 'Myco-heterotrophy'}, 4335: {'name': 'Myxobolus_cerebralis'}, 4336: {'name': 'War_in_Somalia_(2006-present)'}, 4337: {'name': 'Nadia_Comaneci'}, 4338: {'name': 'Naked_Mole_Rat'}, 4339: {'name': 'Nanomedicine'}, 4340: {'name': 'The_Seagull'}, 4341: {'name': 'National_Anthem_of_Russia'}, 4342: {'name': 'The_Broads'}, 4343: {'name': 'Yorkshire_Dales'}, 4344: {'name': 'Sociocultural_evolution'}, 4345: {'name': 'Negros_Oriental'}, 4346: {'name': 'Pinworm'}, 4347: {'name': 'Whipworm'}, 4348: {'name': 'Nepenthes_rajah'}, 4349: {'name': 'Nephron'}, 4350: {'name': 'New_York_City_Subway_nomenclature'}, 4351: {'name': 'Newshounds'}, 4352: {'name': 'Newsround'}, 4353: {'name': 'Space_Shuttle_Challenger'}, 4354: {'name': \"Niccolo_dell'Abbate\"}, 4355: {'name': 'Raney_nickel'}, 4356: {'name': 'Nicobar_Long-tailed_Macaque'}, 4357: {'name': 'Nigella'}, 4358: {'name': 'Nine_Million_Bicycles'}, 4359: {'name': 'The_Legend_of_Zelda_series'}, 4360: {'name': 'Svartalfar'}, 4361: {'name': 'Northwest_Africa'}, 4362: {'name': 'Nostradamus'}, 4363: {'name': 'Timken_1111'}, 4364: {'name': 'Oroonoko'}, 4365: {'name': 'Novelty_(locomotive)'}, 4366: {'name': 'Nurse_sharks'}, 4367: {'name': 'Ohm'}, 4368: {'name': 'Ollanta_Humala'}, 4369: {'name': 'Statue_of_Zeus_at_Olympia'}, 4370: {'name': \"One_Flew_Over_the_Cuckoo's_Nest_(novel)\"}, 4371: {'name': 'One_Foot_in_the_Grave'}, 4372: {'name': 'Opuntia_imbricata'}, 4373: {'name': 'Ormulum'}, 4374: {'name': 'The_Magic_Flute'}, 4375: {'name': 'Tim_Henman'}, 4376: {'name': 'PRR_M1'}, 4377: {'name': 'Pikachu'}, 4378: {'name': 'Urial'}, 4379: {'name': 'Palazzo_Pitti'}, 4380: {'name': 'Palio_di_Siena'}, 4381: {'name': 'Paricutin'}, 4382: {'name': 'Social_contract_(Malaysia)'}, 4383: {'name': 'Senate_of_Canada'}, 4384: {'name': 'Rose-ringed_Parakeet'}, 4385: {'name': 'Star_Trek__The_Original_Series'}, 4386: {'name': 'Society_of_Merchant_Venturers'}, 4387: {'name': 'Peaceful_coexistence'}, 4388: {'name': 'Shenzhou_6'}, 4389: {'name': 'Pere_Marquette_1225'}, 4390: {'name': 'Perfect_number'}, 4391: {'name': 'Periodic_table_(large_version)'}, 4392: {'name': 'Yagan'}, 4393: {'name': 'Phenylketonuria'}, 4394: {'name': 'Phineas_Gage'}, 4395: {'name': 'Phla-Phera_languages'}, 4396: {'name': 'Phosphorus_trichloride'}, 4397: {'name': 'Phosphoryl_chloride'}, 4398: {'name': 'Wave-particle_duality'}, 4399: {'name': 'Photosynthetic_reaction_centre'}, 4400: {'name': 'Photovoltaic_array'}, 4401: {'name': 'Pied_Avocet'}, 4402: {'name': 'Plains_Zebra'}, 4403: {'name': 'Proxima_Centauri'}, 4404: {'name': 'Safflower'}, 4405: {'name': 'Plant_cell'}, 4406: {'name': 'Plateosaurus'}, 4407: {'name': 'Uluru'}, 4408: {'name': 'Ringed_Plover'}, 4409: {'name': 'Tufted_Duck'}, 4410: {'name': 'Poison_gas_in_World_War_I'}, 4411: {'name': 'Stanislaw_Koniecpolski'}, 4412: {'name': 'Political_integration_of_India'}, 4413: {'name': 'Pop_Idol'}, 4414: {'name': 'Population_history_of_American_indigenous_peoples'}, 4415: {'name': 'Postman_Pat'}, 4416: {'name': 'Working_poor'}, 4417: {'name': 'Prehistoric_man'}, 4418: {'name': 'The_Curious_Incident_of_the_Dog_in_the_Night-time'}, 4419: {'name': 'Primula'}, 4420: {'name': 'Scent_of_a_Woman'}, 4421: {'name': 'Pro_Milone'}, 4422: {'name': 'Project_MKULTRA'}, 4423: {'name': 'Psittacosaurus'}, 4424: {'name': 'Pygmy_Hippopotamus'}, 4425: {'name': 'Quatermass_and_the_Pit'}, 4426: {'name': 'Radhanite'}, 4427: {'name': 'Spacecraft_propulsion'}, 4428: {'name': 'Raising_the_Flag_on_Iwo_Jima'}, 4429: {'name': 'Rebecca_Helferich_Clarke'}, 4430: {'name': 'Reed_Bunting'}, 4431: {'name': 'Troop_sleeper'}, 4432: {'name': 'The_Country_Wife'}, 4433: {'name': 'Restoration_literature'}, 4434: {'name': 'Shoshone_National_Forest'}, 4435: {'name': 'Revised_Standard_Version'}, 4436: {'name': 'Rhodium(III)_chloride'}, 4437: {'name': 'Riesling'}, 4438: {'name': 'Severn_crossing'}, 4439: {'name': 'Roan_Antelope'}, 4440: {'name': 'Rock_Bunting'}, 4441: {'name': 'Roman_Vishniac'}, 4442: {'name': 'Rondane_National_Park'}, 4443: {'name': 'Royal_Grammar_School_Worcester'}, 4444: {'name': 'S-mine'}, 4445: {'name': \"S._A._Andree's_Arctic_balloon_expedition_of_1897\"}, 4446: {'name': 'SD26'}, 4447: {'name': 'SR-71_Blackbird'}, 4448: {'name': 'Samantha_Smith'}, 4449: {'name': 'San_Diego_Electric_Railway'}, 4450: {'name': 'San_Diego_and_Arizona_Railway'}, 4451: {'name': 'San_Francisco_garter_snake'}, 4452: {'name': 'Sand_shark'}, 4453: {'name': 'Sandur'}, 4454: {'name': 'Santamaria_(volcano)'}, 4455: {'name': 'Sasha_(DJ)'}, 4456: {'name': 'Sauropsid'}, 4457: {'name': 'Saxicola'}, 4458: {'name': 'Scanian_(linguistics)'}, 4459: {'name': 'Scelidosaurus'}, 4460: {'name': 'Schuttern_Gospels'}, 4461: {'name': 'Scooby-Doo'}, 4462: {'name': 'Scotch_College,_Perth'}, 4463: {'name': 'Scott_Special'}, 4464: {'name': 'Sears_Catalog_Home'}, 4465: {'name': 'Selena'}, 4466: {'name': 'Ziad_Jarrah'}, 4467: {'name': 'Starship_Troopers'}, 4468: {'name': 'Shabo_language'}, 4469: {'name': 'Zebra_shark'}, 4470: {'name': 'Sharon_Tate'}, 4471: {'name': 'Shenzhou_spacecraft'}, 4472: {'name': 'Space_suit'}, 4473: {'name': 'Shigin'}, 4474: {'name': 'Shrimp_farm'}, 4475: {'name': 'Sicilian_Baroque'}, 4476: {'name': 'Sunset_Boulevard_(1950_film)'}, 4477: {'name': 'Simca_Vedette'}, 4478: {'name': 'Sino-German_cooperation_(1911-1941)'}, 4479: {'name': 'Sino-Roman_relations'}, 4480: {'name': \"Six-party_talks_concerning_North_Korea's_nuclear_program\"}, 4481: {'name': 'Snaefell_Mountain_Railway'}, 4482: {'name': 'Snake_charming'}, 4483: {'name': 'Soil_profile'}, 4484: {'name': 'Southern_Pacific_4449'}, 4485: {'name': 'Southern_Rockhopper_Penguin'}, 4486: {'name': 'Trapdoor_spider'}, 4487: {'name': \"Spix's_Macaw\"}, 4488: {'name': 'Sponsorship_Directdebit'}, 4489: {'name': 'Spotted_Flycatcher'}, 4490: {'name': 'St_Buryan'}, 4491: {'name': \"St_Michael's_Mount\"}, 4492: {'name': 'Theatre_in_the_round'}, 4493: {'name': 'Stanislaw_Lem'}, 4494: {'name': 'StarCraft'}, 4495: {'name': 'Star_Fox__Assault'}, 4496: {'name': 'Stephen_Trigg'}, 4497: {'name': 'Steve_Davis'}, 4498: {'name': 'Stickleback'}, 4499: {'name': 'Storm_of_October_1804'}, 4500: {'name': 'Stourbridge_Lion'}, 4501: {'name': 'Struthiomimus'}, 4502: {'name': 'Suburbs_of_Johannesburg'}, 4503: {'name': 'Sudanic_languages'}, 4504: {'name': 'Summer_Hill,_New_South_Wales'}, 4505: {'name': 'Voynich_manuscript'}, 4506: {'name': 'Sunol_Water_Temple'}, 4507: {'name': 'Sustainable_forestry'}, 4508: {'name': 'Swedish_allotment_system'}, 4509: {'name': 'Swiss_Federal_Council'}, 4510: {'name': 'Swissair_Flight_111'}, 4511: {'name': 'Sydney_Riot_of_1879'}, 4512: {'name': 'Sylvanus_Morley'}, 4513: {'name': 'Yuri_Knorosov'}, 4514: {'name': 'T._D._Judah'}, 4515: {'name': 'Tacitean_studies'}, 4516: {'name': 'Tagoi_language'}, 4517: {'name': 'Templon'}, 4518: {'name': 'Terik'}, 4519: {'name': 'The_Beatles_discography'}, 4520: {'name': 'The_Catcher_in_the_Rye'}, 4521: {'name': 'The_Catlins'}, 4522: {'name': \"The_Children's_Machine\"}, 4523: {'name': 'The_Famous_Five_(characters)'}, 4524: {'name': 'The_Frogs'}, 4525: {'name': \"The_King's_Regiment_(Liverpool)\"}, 4526: {'name': 'Toy_Story'}, 4527: {'name': 'The_Oz_books'}, 4528: {'name': 'Where_Did_Our_Love_Go'}, 4529: {'name': 'Therizinosaurus'}, 4530: {'name': 'Theta'}, 4531: {'name': 'Three_Mile_Island_accident'}, 4532: {'name': 'Timeline_of_discovery_of_solar_system_planets_and_their_natural_satellites'}, 4533: {'name': 'Tin(II)_chloride'}, 4534: {'name': 'Tiridates_I_of_Armenia'}, 4535: {'name': 'Titanosauridae'}, 4536: {'name': 'Tone_cluster'}, 4537: {'name': 'Toraja'}, 4538: {'name': 'Duchenne_muscular_dystrophy'}, 4539: {'name': \"Klinefelter's_syndrome\"}, 4540: {'name': 'Trabancos_River'}, 4541: {'name': 'Trade_and_usage_of_saffron'}, 4542: {'name': 'Treaty_of_Devol'}, 4543: {'name': 'Triggerplant'}, 4544: {'name': 'Trobairitz'}, 4545: {'name': 'Tropical_Storm_Bilis_(2006)'}, 4546: {'name': 'Typhoon_Saomai_(2006)'}, 4547: {'name': 'Tropical_Storm_Chris_(2006)'}, 4548: {'name': 'Tropical_Storm_Danielle_(1992)'}, 4549: {'name': 'Tropical_Storm_Isabel_(1985)'}, 4550: {'name': 'Tropical_Storm_Vamei'}, 4551: {'name': 'Turkish_literature'}, 4552: {'name': 'Turner_syndrome'}, 4553: {'name': 'Typhoon_Ewiniar_(2006)'}, 4554: {'name': 'United_States_Numbered_Highways'}, 4555: {'name': 'Uffington_White_Horse'}, 4556: {'name': 'Umbrella_Cockatoo'}, 4557: {'name': 'United_Kingdom_national_football_team'}, 4558: {'name': 'United_for_Peace_and_Justice'}, 4559: {'name': 'Upsilon_Andromedae_b'}, 4560: {'name': 'Upsilon_Andromedae_c'}, 4561: {'name': 'Upsilon_Andromedae_d'}, 4562: {'name': 'Ursuline_Convent_Riots'}, 4563: {'name': 'Vernon_Kell'}, 4564: {'name': 'Wars_of_Castro'}, 4565: {'name': 'Warsaw_Uprising_(1794)'}, 4566: {'name': 'Washington_streetcars'}, 4567: {'name': 'Weather_map'}, 4568: {'name': 'Westport_Country_Playhouse'}, 4569: {'name': 'Weyauwega_derailment'}, 4570: {'name': 'Weyto_language'}, 4571: {'name': \"White's_Tree_Frog\"}, 4572: {'name': 'White_Mountain_art'}, 4573: {'name': 'White_Wagtail'}, 4574: {'name': 'Whitethroat'}, 4575: {'name': 'Wigeon'}, 4576: {'name': 'Wikispecies'}, 4577: {'name': 'Winfield_Scott_(ship)'}, 4578: {'name': 'Winston_Tunnel'}, 4579: {'name': 'Wolf_Brother'}, 4580: {'name': 'Woodruff'}, 4581: {'name': 'Wyndham_Robertson'}, 4582: {'name': 'X-Men__The_Last_Stand'}, 4583: {'name': 'X_Window_System_protocols_and_architecture'}, 4584: {'name': 'X_Window_core_protocol'}, 4585: {'name': 'Xanadu_House'}, 4586: {'name': 'Yellowhammer'}, 4587: {'name': 'Yotsuya_Kaidan'}, 4588: {'name': \"You're_Still_the_One\"}, 4589: {'name': 'Yungay,_Peru'}, 4590: {'name': 'Zara_Yaqob'}})"
      ]
     },
     "execution_count": 275,
     "metadata": {},
     "output_type": "execute_result"
    }
   ],
   "source": [
    "G.nodes(data=True)"
   ]
  },
  {
   "cell_type": "code",
   "execution_count": 266,
   "metadata": {
    "ExecuteTime": {
     "end_time": "2018-06-08T14:41:29.369275Z",
     "start_time": "2018-06-08T14:41:29.347331Z"
    }
   },
   "outputs": [
    {
     "name": "stdout",
     "output_type": "stream",
     "text": [
      "This is correct!\n"
     ]
    }
   ],
   "source": [
    "post_answer(7,answer)"
   ]
  },
  {
   "cell_type": "code",
   "execution_count": 258,
   "metadata": {
    "ExecuteTime": {
     "end_time": "2018-06-08T14:40:42.579777Z",
     "start_time": "2018-06-08T14:40:42.533902Z"
    }
   },
   "outputs": [
    {
     "name": "stdout",
     "output_type": "stream",
     "text": [
      "What is the best article of Wikipedia for Schools relative to Nairobi, Oslo and Tokyo (other than these) in terms of Personalized PageRank for alpha = 0.2?\n",
      "(Enter a string)\n"
     ]
    }
   ],
   "source": [
    "get_question(8)"
   ]
  },
  {
   "cell_type": "code",
   "execution_count": 272,
   "metadata": {
    "ExecuteTime": {
     "end_time": "2018-06-08T14:45:11.004368Z",
     "start_time": "2018-06-08T14:45:10.990405Z"
    }
   },
   "outputs": [
    {
     "name": "stdout",
     "output_type": "stream",
     "text": [
      "(699, {'name': 'Tokyo'})\n",
      "(1485, {'name': 'Nairobi'})\n",
      "(2534, {'name': 'Oslo'})\n"
     ]
    }
   ],
   "source": [
    "for x in G.nodes(data = True):\n",
    "    if(x[1]['name'] == 'Nairobi'):\n",
    "      print(x)\n",
    "    if(x[1]['name'] == 'Oslo'):\n",
    "      print(x)\n",
    "    if(x[1]['name'] == 'Tokyo'):\n",
    "      print(x)\n"
   ]
  },
  {
   "cell_type": "code",
   "execution_count": 274,
   "metadata": {
    "ExecuteTime": {
     "end_time": "2018-06-08T14:45:50.254949Z",
     "start_time": "2018-06-08T14:45:50.250933Z"
    }
   },
   "outputs": [],
   "source": [
    "ne1 = set(G.neighbors(699))\n",
    "ne2 = set(G.neighbors(1485))\n",
    "ne3 = set(G.neighbors(2534))\n"
   ]
  },
  {
   "cell_type": "code",
   "execution_count": 277,
   "metadata": {
    "ExecuteTime": {
     "end_time": "2018-06-08T14:47:24.236728Z",
     "start_time": "2018-06-08T14:47:24.213782Z"
    }
   },
   "outputs": [
    {
     "name": "stdout",
     "output_type": "stream",
     "text": [
      "This is correct!\n"
     ]
    }
   ],
   "source": [
    "post_answer(8,'Football_(soccer)')"
   ]
  },
  {
   "cell_type": "markdown",
   "metadata": {},
   "source": [
    "## 4. Forward-Backward PageRank"
   ]
  },
  {
   "cell_type": "markdown",
   "metadata": {},
   "source": [
    "## To do\n",
    "* Complete the functions below to get the (Personalized) Forward-Backward PageRank vector\n",
    "* Answer question #9 and #10 **(1 point each)**"
   ]
  },
  {
   "cell_type": "code",
   "execution_count": null,
   "metadata": {
    "collapsed": true
   },
   "outputs": [],
   "source": [
    "def forward_backward_transition(index, P, index_, P_, mu, alpha, k):\n",
    "    # index: list of non-sink nodes (as numpy array)\n",
    "    # P: sparse transition matrix of the forward random walk (from non-sink nodes)\n",
    "    # index_: list of non-source nodes (as numpy array)\n",
    "    # P_: sparse transition matrix of the backward random walk (from non-source nodes)\n",
    "    # mu: initial / restart distribution (default = uniform)\n",
    "    # alpha: damping factor\n",
    "    # k: number of iterations\n",
    "    pi = mu\n",
    "    # to be completed\n",
    "    return pi"
   ]
  },
  {
   "cell_type": "code",
   "execution_count": null,
   "metadata": {
    "collapsed": true
   },
   "outputs": [],
   "source": [
    "def forward_backward_pagerank(G, personalization = None, alpha = 0.85, k = 3):\n",
    "    # personalization: dictionary for initial / restart distribution (default = uniform)\n",
    "    # alpha: damping factor\n",
    "    # k: number of iterations\n",
    "    PR = {u: 0. for u in G.nodes()}\n",
    "    # to be completed\n",
    "    return PR"
   ]
  },
  {
   "cell_type": "code",
   "execution_count": 267,
   "metadata": {
    "ExecuteTime": {
     "end_time": "2018-06-08T14:41:35.421204Z",
     "start_time": "2018-06-08T14:41:35.401237Z"
    }
   },
   "outputs": [
    {
     "name": "stdout",
     "output_type": "stream",
     "text": [
      "What is the best ranked article relative to Pablo Picasso (other than him) in terms of Personalized Forward-Backward PageRank?\n",
      "(Enter a string)\n"
     ]
    }
   ],
   "source": [
    "get_question(9)"
   ]
  },
  {
   "cell_type": "code",
   "execution_count": 280,
   "metadata": {
    "ExecuteTime": {
     "end_time": "2018-06-08T14:48:08.782116Z",
     "start_time": "2018-06-08T14:48:08.778089Z"
    }
   },
   "outputs": [
    {
     "data": {
      "text/plain": [
       "[232,\n",
       " 1843,\n",
       " 1162,\n",
       " 757,\n",
       " 760,\n",
       " 38,\n",
       " 40,\n",
       " 3183,\n",
       " 821,\n",
       " 2107,\n",
       " 46,\n",
       " 2833,\n",
       " 121,\n",
       " 2130,\n",
       " 98,\n",
       " 50,\n",
       " 602,\n",
       " 31]"
      ]
     },
     "execution_count": 280,
     "metadata": {},
     "output_type": "execute_result"
    }
   ],
   "source": [
    "list(G.neighbors(1185))\n",
    "nodes = nodes"
   ]
  },
  {
   "cell_type": "code",
   "execution_count": 288,
   "metadata": {
    "ExecuteTime": {
     "end_time": "2018-06-08T14:50:06.064216Z",
     "start_time": "2018-06-08T14:50:06.061186Z"
    }
   },
   "outputs": [],
   "source": [
    "answer = \"History_of_painting\""
   ]
  },
  {
   "cell_type": "code",
   "execution_count": 289,
   "metadata": {
    "ExecuteTime": {
     "end_time": "2018-06-08T14:50:06.302541Z",
     "start_time": "2018-06-08T14:50:06.280601Z"
    }
   },
   "outputs": [
    {
     "name": "stdout",
     "output_type": "stream",
     "text": [
      "This is correct!\n"
     ]
    }
   ],
   "source": [
    "post_answer(9,answer)"
   ]
  },
  {
   "cell_type": "code",
   "execution_count": null,
   "metadata": {
    "collapsed": true
   },
   "outputs": [],
   "source": [
    "G = nx.read_graphml(\"movies-actors.graphml\", node_type = int)\n",
    "names = nx.get_node_attributes(G, 'name')"
   ]
  },
  {
   "cell_type": "code",
   "execution_count": 281,
   "metadata": {
    "ExecuteTime": {
     "end_time": "2018-06-08T14:48:28.145409Z",
     "start_time": "2018-06-08T14:48:28.122470Z"
    }
   },
   "outputs": [
    {
     "name": "stdout",
     "output_type": "stream",
     "text": [
      "What is the best ranked actor relative to Tom Hanks (other than him) in the movies-actors graph in terms of Personalized Backward-Forward PageRank?\n",
      "(Enter a string)\n"
     ]
    }
   ],
   "source": [
    "get_question(10)"
   ]
  },
  {
   "cell_type": "code",
   "execution_count": 286,
   "metadata": {
    "ExecuteTime": {
     "end_time": "2018-06-08T14:49:51.609554Z",
     "start_time": "2018-06-08T14:49:51.605564Z"
    }
   },
   "outputs": [],
   "source": [
    "answer = \"Tim Allen\""
   ]
  },
  {
   "cell_type": "code",
   "execution_count": 287,
   "metadata": {
    "ExecuteTime": {
     "end_time": "2018-06-08T14:49:51.955665Z",
     "start_time": "2018-06-08T14:49:51.928700Z"
    }
   },
   "outputs": [
    {
     "name": "stdout",
     "output_type": "stream",
     "text": [
      "This is correct!\n"
     ]
    }
   ],
   "source": [
    "post_answer(10,answer)"
   ]
  },
  {
   "cell_type": "code",
   "execution_count": null,
   "metadata": {
    "collapsed": true
   },
   "outputs": [],
   "source": []
  }
 ],
 "metadata": {
  "anaconda-cloud": {},
  "hide_input": false,
  "kernelspec": {
   "display_name": "Python 3",
   "language": "python",
   "name": "python3"
  },
  "language_info": {
   "codemirror_mode": {
    "name": "ipython",
    "version": 3
   },
   "file_extension": ".py",
   "mimetype": "text/x-python",
   "name": "python",
   "nbconvert_exporter": "python",
   "pygments_lexer": "ipython3",
   "version": "3.6.4"
  },
  "toc": {
   "base_numbering": 1,
   "nav_menu": {},
   "number_sections": true,
   "sideBar": true,
   "skip_h1_title": false,
   "title_cell": "Table of Contents",
   "title_sidebar": "Contents",
   "toc_cell": false,
   "toc_position": {},
   "toc_section_display": true,
   "toc_window_display": false
  },
  "varInspector": {
   "cols": {
    "lenName": 16,
    "lenType": 16,
    "lenVar": 40
   },
   "kernels_config": {
    "python": {
     "delete_cmd_postfix": "",
     "delete_cmd_prefix": "del ",
     "library": "var_list.py",
     "varRefreshCmd": "print(var_dic_list())"
    },
    "r": {
     "delete_cmd_postfix": ") ",
     "delete_cmd_prefix": "rm(",
     "library": "var_list.r",
     "varRefreshCmd": "cat(var_dic_list()) "
    }
   },
   "types_to_exclude": [
    "module",
    "function",
    "builtin_function_or_method",
    "instance",
    "_Feature"
   ],
   "window_display": false
  }
 },
 "nbformat": 4,
 "nbformat_minor": 1
}
