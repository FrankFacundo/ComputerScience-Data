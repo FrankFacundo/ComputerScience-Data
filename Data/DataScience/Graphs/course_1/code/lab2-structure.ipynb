{
 "cells": [
  {
   "cell_type": "markdown",
   "metadata": {},
   "source": [
    "# SD212: Graph mining\n",
    "## Lab 2: Graph structure\n",
    "\n",
    "In this lab, you will learn to:\n",
    "* plot the degree distribution and observe the [power-law](https://en.wikipedia.org/wiki/Power_law#Power-law_probability_distributions),\n",
    "* estimate the [diameter](https://en.wikipedia.org/wiki/Distance_(graph_theory)) of a graph and observe the [small-world](https://en.wikipedia.org/wiki/Small-world_network) property,\n",
    "* estimate the [clustering coefficient](https://en.wikipedia.org/wiki/Clustering_coefficient) of a graph."
   ]
  },
  {
   "cell_type": "markdown",
   "metadata": {},
   "source": [
    "## Import"
   ]
  },
  {
   "cell_type": "code",
   "execution_count": 1,
   "metadata": {},
   "outputs": [],
   "source": [
    "import numpy as np\n",
    "from scipy import sparse\n",
    "from scipy.sparse.csgraph import shortest_path\n",
    "import matplotlib.pyplot as plt"
   ]
  },
  {
   "cell_type": "code",
   "execution_count": 2,
   "metadata": {},
   "outputs": [],
   "source": [
    "%matplotlib inline"
   ]
  },
  {
   "cell_type": "code",
   "execution_count": 3,
   "metadata": {},
   "outputs": [],
   "source": [
    "from sknetwork.data import load_netset, erdos_renyie, cyclic_graph, linear_graph\n",
    "from sknetwork.utils import bipartite2undirected"
   ]
  },
  {
   "cell_type": "markdown",
   "metadata": {},
   "source": [
    "## Data"
   ]
  },
  {
   "cell_type": "markdown",
   "metadata": {},
   "source": [
    "We will work on the following graphs (see the [NetSets](https://graphs.telecom-paristech.fr/Home_page.html#netsets-section) collection for details):\n",
    "* Openflights (graph)\n",
    "* WikiVitals (digraph)\n",
    "* Cinema (bigraph)"
   ]
  },
  {
   "cell_type": "code",
   "execution_count": 4,
   "metadata": {},
   "outputs": [],
   "source": [
    "openflights = load_netset('openflights')"
   ]
  },
  {
   "cell_type": "code",
   "execution_count": 5,
   "metadata": {},
   "outputs": [],
   "source": [
    "# focus on degrees, not weights\n",
    "adjacency = (openflights.adjacency > 0)"
   ]
  },
  {
   "cell_type": "code",
   "execution_count": 6,
   "metadata": {},
   "outputs": [],
   "source": [
    "wikivitals = load_netset('wikivitals')\n",
    "wikivitals_m = wikivitals.adjacency.toarray()"
   ]
  },
  {
   "cell_type": "code",
   "execution_count": 7,
   "metadata": {},
   "outputs": [],
   "source": [
    "cinema = load_netset('cinema')"
   ]
  },
  {
   "cell_type": "markdown",
   "metadata": {},
   "source": [
    "## 1. Power law"
   ]
  },
  {
   "cell_type": "markdown",
   "metadata": {},
   "source": [
    "We first focus on the power law degree distribution.\n",
    "\n",
    "We consider the empirical distributions of:\n",
    "* degrees in the Openflights graph,\n",
    "* out-degrees and in-degrees in the WikiVitals graph."
   ]
  },
  {
   "cell_type": "markdown",
   "metadata": {},
   "source": [
    "## To do\n"
   ]
  },
  {
   "cell_type": "markdown",
   "metadata": {},
   "source": [
    "For each of these distributions:\n",
    "* Compute the [coefficient of variation](https://en.wikipedia.org/wiki/Coefficient_of_variation) and compare it to that of a Poisson distribution with the same mean.\n",
    "* Plot the [tail distribution](https://en.wikipedia.org/wiki/Cumulative_distribution_function#Complementary_cumulative_distribution_function_(tail_distribution)) in log-log scale and compare it to that of an equivalent [Erdos-Rényi](https://en.wikipedia.org/wiki/Erdős–Rényi_model) graph (same number of nodes, same average degree).\n",
    "* Conclude: do you consider that this is a power law?\n",
    "\n",
    "**Hint:** Use the ``loglog`` function of ``pyplot``."
   ]
  },
  {
   "cell_type": "markdown",
   "metadata": {
    "pycharm": {
     "name": "#%% md\n"
    }
   },
   "source": [
    "Openflights"
   ]
  },
  {
   "cell_type": "code",
   "execution_count": 8,
   "metadata": {
    "pycharm": {
     "name": "#%%\n"
    }
   },
   "outputs": [
    {
     "data": {
      "image/png": "[encoded data removed]",
      "text/plain": [
       "<Figure size 432x288 with 1 Axes>"
      ]
     },
     "metadata": {
      "needs_background": "light"
     },
     "output_type": "display_data"
    }
   ],
   "source": [
    "### Openflights\n",
    "m = 36386/2\n",
    "adj = (openflights.adjacency>0)\n",
    "#matrix = adj.toarray()\n",
    "#matrix_without_weight = (adjacency>0)\n",
    "n = adj.shape[0]\n",
    "degrees = adj.T.dot(np.ones(n))\n",
    "Ezero = np.mean(degrees)\n",
    "#cv = np.sqrt((Einf/Ezero)-1)\n",
    "cv_openflight = np.std(degrees)/Ezero\n",
    "\n",
    "\n",
    "plt.loglog(np.sort(degrees), 1 - np.arange(n) / n, lw = 3)\n",
    "_ = plt.xlabel('Degree')\n",
    "_ = plt.ylabel('Probability')"
   ]
  },
  {
   "cell_type": "code",
   "execution_count": 9,
   "metadata": {
    "pycharm": {
     "name": "#%%\n"
    }
   },
   "outputs": [
    {
     "data": {
      "text/plain": [
       "3.4276506751404945"
      ]
     },
     "execution_count": 9,
     "metadata": {},
     "output_type": "execute_result"
    }
   ],
   "source": [
    "# Poisson\n",
    "cv_openflight_poisson = np.sqrt(Ezero)/Ezero\n",
    "np.sqrt(Ezero)"
   ]
  },
  {
   "cell_type": "markdown",
   "metadata": {
    "pycharm": {
     "name": "#%% md\n"
    }
   },
   "source": [
    "Wikivitals in-degree"
   ]
  },
  {
   "cell_type": "code",
   "execution_count": 10,
   "metadata": {
    "pycharm": {
     "name": "#%%\n"
    }
   },
   "outputs": [],
   "source": [
    "### Wikivitals in-degree\n",
    "adj = wikivitals.adjacency\n",
    "n = adj.shape[0]\n",
    "degrees = adj.T.dot(np.ones(n))\n",
    "Ezero = np.mean(degrees)\n",
    "cv_wiki_in = np.std(degrees)/Ezero\n"
   ]
  },
  {
   "cell_type": "code",
   "execution_count": 11,
   "metadata": {
    "pycharm": {
     "name": "#%%\n"
    }
   },
   "outputs": [],
   "source": [
    "\"\"\"\n",
    "Pareto's law to graph the power's law\n",
    "\"\"\"\n",
    "# este es el valor de alpha k obtenemos con el uno de la esperanza y la mediana\n",
    "alpha2 =1.736\n",
    "V =np.std(degrees)**2\n",
    "alpha=(Ezero**2+Ezero*V)/(V*(Ezero-2))\n",
    "# aqui hemo usado la mediana para el calculo de km, referencia wikipedia\n",
    "km=np.median(degrees)/2**(1/alpha)\n",
    "\n",
    "x = np.array(list(set(np.sort(degrees))))\n",
    "x = x[1:]\n",
    "y = (km/x)**alpha2\n",
    "y[x<km]=1"
   ]
  },
  {
   "cell_type": "code",
   "execution_count": 12,
   "metadata": {
    "pycharm": {
     "name": "#%%\n"
    }
   },
   "outputs": [],
   "source": [
    "\"\"\"\n",
    "Erdos-renyi\n",
    "\"\"\"\n",
    "p = Ezero/n\n",
    "erdos_renyi = erdos_renyie(n,p)\n",
    "degrees_erdos = erdos_renyi.T.dot(np.ones(n))\n"
   ]
  },
  {
   "cell_type": "code",
   "execution_count": 13,
   "metadata": {
    "pycharm": {
     "name": "#%%\n"
    }
   },
   "outputs": [
    {
     "data": {
      "image/png": "[encoded data removed]",
      "text/plain": [
       "<Figure size 432x288 with 1 Axes>"
      ]
     },
     "metadata": {
      "needs_background": "light"
     },
     "output_type": "display_data"
    }
   ],
   "source": [
    "# Power law\n",
    "plt.loglog(x,y, lw = 3)\n",
    "# Erdos-renyi\n",
    "plt.loglog(np.sort(degrees_erdos), 1 - np.arange(n) / n, lw = 3)\n",
    "# Graph from data\n",
    "plt.loglog(np.sort(degrees), 1 - np.arange(n) / n, lw = 3)\n",
    "_ = plt.xlabel('Degree')\n",
    "_ = plt.ylabel('Probability')"
   ]
  },
  {
   "cell_type": "code",
   "execution_count": null,
   "metadata": {
    "pycharm": {
     "name": "#%%\n"
    }
   },
   "outputs": [],
   "source": []
  },
  {
   "cell_type": "code",
   "execution_count": 14,
   "metadata": {
    "pycharm": {
     "name": "#%%\n"
    }
   },
   "outputs": [],
   "source": [
    "cv_wiki_in_poisson = np.sqrt(Ezero)/Ezero"
   ]
  },
  {
   "cell_type": "markdown",
   "metadata": {
    "pycharm": {
     "name": "#%% md\n"
    }
   },
   "source": [
    "Wikivitals out-degree"
   ]
  },
  {
   "cell_type": "code",
   "execution_count": 15,
   "metadata": {
    "pycharm": {
     "name": "#%%\n"
    }
   },
   "outputs": [
    {
     "data": {
      "image/png": "[encoded data removed]",
      "text/plain": [
       "<Figure size 432x288 with 1 Axes>"
      ]
     },
     "metadata": {
      "needs_background": "light"
     },
     "output_type": "display_data"
    }
   ],
   "source": [
    "### Wikivitals out-degree\n",
    "adj = wikivitals.adjacency\n",
    "n = adj.shape[0]\n",
    "degrees = adj.dot(np.ones(n))\n",
    "Ezero = np.mean(degrees)\n",
    "cv_wiki_out = np.std(degrees)/Ezero\n",
    "\n",
    "plt.loglog(np.sort(degrees), 1 - np.arange(n) / n, lw = 3)\n",
    "_ = plt.xlabel('Degree')\n",
    "_ = plt.ylabel('Probability')"
   ]
  },
  {
   "cell_type": "code",
   "execution_count": 16,
   "metadata": {
    "pycharm": {
     "name": "#%%\n"
    }
   },
   "outputs": [],
   "source": [
    "cv_wiki_out_poisson = np.sqrt(Ezero)/Ezero"
   ]
  },
  {
   "cell_type": "markdown",
   "metadata": {},
   "source": [
    "## 2. Small-world"
   ]
  },
  {
   "cell_type": "markdown",
   "metadata": {},
   "source": [
    "You will now make a few experiments highlighting the small-world property."
   ]
  },
  {
   "cell_type": "markdown",
   "metadata": {},
   "source": [
    "## To do\n",
    "\n",
    "* Complete the following function computing the distances from any given node in number of hops.\n",
    "* Compare it to the function `shortest_path` of SciPy on WikiVitals."
   ]
  },
  {
   "cell_type": "code",
   "execution_count": 17,
   "metadata": {},
   "outputs": [],
   "source": [
    "def get_distances(adjacency: sparse.csr_matrix, source: int) -> np.ndarray:\n",
    "    '''Get distances from a source node in number of hops.\n",
    "    \n",
    "    Parameters\n",
    "    ----------\n",
    "    adjacency: \n",
    "        Adjacency matrix of the graph.\n",
    "    source:\n",
    "        Source node\n",
    "    \n",
    "    Returns\n",
    "    -------\n",
    "    distances:\n",
    "        Vector of distances.\n",
    "    '''\n",
    "    n = adjacency.shape[0]\n",
    "    distances = np.inf * np.ones(n)\n",
    "    distances[source] = 0\n",
    "    # vector of nodes reached after t steps\n",
    "    reached = np.zeros(n).astype(bool)\n",
    "    reached[source] = True\n",
    "    change = True\n",
    "    t = 0\n",
    "    while change:\n",
    "        t += 1\n",
    "        reached = adjacency.T.dot(reached)\n",
    "        # New nodes that are reached\n",
    "        new_nodes = np.argwhere((distances == np.inf) * reached).ravel()\n",
    "        distances[new_nodes] = t\n",
    "        change = len(new_nodes)\n",
    "    return distances"
   ]
  },
  {
   "cell_type": "code",
   "execution_count": 18,
   "metadata": {
    "pycharm": {
     "name": "#%%\n"
    }
   },
   "outputs": [
    {
     "name": "stdout",
     "output_type": "stream",
     "text": [
      "[1. 0. 1. ... 5. 5. 5.]\n",
      "[1. 0. 1. ... 5. 5. 5.]\n",
      "Wikivitals\n",
      "[1. 0. 1. ... 3. 2. 2.]\n",
      "[1. 0. 1. ... 3. 2. 2.]\n"
     ]
    }
   ],
   "source": [
    "t = 1\n",
    "\n",
    "print(get_distances(adjacency,t))\n",
    "print(shortest_path(adjacency, indices=t))\n",
    "print(\"Wikivitals\")\n",
    "print(get_distances(wikivitals.adjacency.T,t))\n",
    "print(shortest_path(wikivitals.adjacency.T, indices=t))"
   ]
  },
  {
   "cell_type": "code",
   "execution_count": null,
   "metadata": {
    "pycharm": {
     "name": "#%%\n"
    }
   },
   "outputs": [],
   "source": []
  },
  {
   "cell_type": "markdown",
   "metadata": {},
   "source": [
    "## To do\n",
    "\n",
    "* Which fraction of the airports can be reached from **Paris Charles de Gaulle** in 1, 2, 3 flights?\n",
    "* Which fraction of the articles can be reached from **Paris** in 1, 2, 3 clicks on Wikipedia Vitals?"
   ]
  },
  {
   "cell_type": "markdown",
   "metadata": {},
   "source": [
    "## To do"
   ]
  },
  {
   "cell_type": "code",
   "execution_count": 19,
   "metadata": {
    "pycharm": {
     "name": "#%%\n"
    }
   },
   "outputs": [],
   "source": [
    "# Charles de Gaulle\n",
    "names = openflights.names\n",
    "cdg = {i:name for i, name in enumerate(names) if 'Gaulle' in name}\n",
    "index = list(cdg.keys())[0]\n",
    "\n",
    "dist_cdg = get_distances(adjacency.T,index).astype(int)\n",
    "#dict_distance = {i:dist_cdg.count(i) for i in dist_cdg}\n",
    "distance1 = np.sum(dist_cdg==1)\n",
    "distance2 = np.sum(dist_cdg==2)\n",
    "distance3 = np.sum(dist_cdg==3)\n",
    "numberOfDistances = len(dist_cdg)\n",
    "percentage1 = distance1/numberOfDistances\n",
    "percentage2 = distance2/numberOfDistances\n",
    "percentage3 = distance3/numberOfDistances\n"
   ]
  },
  {
   "cell_type": "code",
   "execution_count": 20,
   "metadata": {
    "pycharm": {
     "name": "#%%\n"
    }
   },
   "outputs": [],
   "source": [
    "#Wikivitals\n",
    "namesWiki = wikivitals.names\n",
    "paris = {i:name for i, name in enumerate(namesWiki) if 'Paris' in name}\n",
    "indexParis = 3279\n",
    "\n",
    "dist_paris = get_distances(wikivitals.adjacency.T,indexParis)\n",
    "distance1 = np.sum(dist_paris==1)\n",
    "distance2 = np.sum(dist_paris==2)\n",
    "distance3 = np.sum(dist_paris==3)\n",
    "numberOfDistances = len(dist_paris)\n",
    "percentage1 = distance1/numberOfDistances\n",
    "percentage2 = distance2/numberOfDistances\n",
    "percentage3 = distance3/numberOfDistances"
   ]
  },
  {
   "cell_type": "markdown",
   "metadata": {},
   "source": [
    "The following function estimates the [diameter](https://en.wikipedia.org/wiki/Distance_(graph_theory)) of a graph.\n",
    "\n",
    "* Adapt this function so that it returns a path of length equal to this estimated diameter.\n",
    "* Give a path of **length at least 10** in Openflights (with the names of the airports).\n",
    "* Give a path of **length at least 5** in WikiVitals (with the names of the articles)."
   ]
  },
  {
   "cell_type": "code",
   "execution_count": 21,
   "metadata": {},
   "outputs": [],
   "source": [
    "def estimate_diameter(adjacency: sparse.csr_matrix, n_samples=100) -> int:\n",
    "    '''Estimate the diameter of a graph.\n",
    "    \n",
    "    Parameters\n",
    "    ----------\n",
    "    adjacency: \n",
    "        Adjacency matrix of the graph.\n",
    "    n_samples:\n",
    "        Number of samples.\n",
    "    \n",
    "    Returns\n",
    "    -------\n",
    "    diameter:\n",
    "        Estimation of the diameter.\n",
    "        This function takes a random number of nodes,\n",
    "        then they find the farthest nodes, these can be seen\n",
    "        as the borders, then we compute the the farthest node that\n",
    "        finally are the estimate.\n",
    "    '''    \n",
    "    n = adjacency.shape[0]\n",
    "    nodes = np.random.choice(n, size=n_samples)\n",
    "    distances = shortest_path(adjacency.T, indices=nodes)\n",
    "    #print(distances)\n",
    "    sources = np.where(np.isinf(distances), -1, distances).argmax(axis=1)\n",
    "    #print(sources)\n",
    "    test = np.where(np.isinf(distances), -1, distances).max(axis=1)\n",
    "    #print(test)\n",
    "    distances = shortest_path(adjacency, indices=sources)\n",
    "    diameter = np.where(np.isinf(distances), -1, distances).max()\n",
    "    return int(diameter)"
   ]
  },
  {
   "cell_type": "code",
   "execution_count": 22,
   "metadata": {
    "pycharm": {
     "name": "#%%\n"
    }
   },
   "outputs": [
    {
     "data": {
      "text/plain": [
       "12"
      ]
     },
     "execution_count": 22,
     "metadata": {},
     "output_type": "execute_result"
    }
   ],
   "source": [
    "estimate_diameter(adjacency)"
   ]
  },
  {
   "cell_type": "code",
   "execution_count": 23,
   "metadata": {
    "pycharm": {
     "name": "#%%\n"
    }
   },
   "outputs": [
    {
     "name": "stdout",
     "output_type": "stream",
     "text": [
      "[4918 1738 5469 7044 7537 3118 1342 2443 3256 6058 4284  854  289 9416\n",
      " 3346 2603 7272 2566 3617 8745   26 1412 3692 9630 6295  464 9213 1208\n",
      "  622 1803  130 8613 3300 8721 8671 4603 3771 3206 1628 3026 7854  714\n",
      " 2160 3762 3411 6904 2637 5034 3797 7233 9751 1271 6360 8153  473 7065\n",
      " 4924 6890 6998 9367 4734  404 1640 9418 4530  942 5182 8229 2176 6947\n",
      " 3013 4862 6042 6708 1910 8236 5777 1030 1735 5294 5917 1785 8931 9508\n",
      " 6755 4816 8213 4042 8439 4458 4573 9562 6624 7429 3340 2337 9604 1064\n",
      " 3979   49]\n"
     ]
    }
   ],
   "source": [
    "n_samples=100\n",
    "nodes = np.random.choice(n, size=n_samples)\n",
    "print(nodes)"
   ]
  },
  {
   "cell_type": "code",
   "execution_count": 24,
   "metadata": {
    "pycharm": {
     "name": "#%%\n"
    }
   },
   "outputs": [],
   "source": [
    "def estimate_path(adjacency: sparse.csr_matrix, n_samples=100) -> list:\n",
    "    '''Return a path of length equal to the estimated diameter of a graph.\n",
    "\n",
    "    Parameters\n",
    "    ----------\n",
    "    adjacency:\n",
    "        Adjacency matrix of the graph.\n",
    "    n_samples:\n",
    "        Number of samples.\n",
    "\n",
    "    Returns\n",
    "    -------\n",
    "    path:\n",
    "        List of nodes.\n",
    "    '''\n",
    "    n = adjacency.shape[0]\n",
    "    nodes = np.random.choice(n, size=n_samples)\n",
    "    distances = shortest_path(adjacency.T, indices=nodes)\n",
    "    sources = np.where(np.isinf(distances), -1, distances).argmax(axis=1)\n",
    "    distances, preds = shortest_path(adjacency, indices=sources, return_predecessors=True)\n",
    "    # best source\n",
    "    k = np.where(np.isinf(distances), -1, distances).max(axis=1).argmax()\n",
    "    source = sources[k]\n",
    "    pred = preds[k]\n",
    "    distance = distances[k]\n",
    "    # furthest node from best source\n",
    "    dest = np.where(np.isinf(distance), -1, distance).argmax()\n",
    "    # backward path from dest to source\n",
    "    path = []\n",
    "    while dest != source:\n",
    "        path.append(dest)\n",
    "        dest = pred[dest]\n",
    "    return list(np.flip(path))\n"
   ]
  },
  {
   "cell_type": "code",
   "execution_count": 25,
   "metadata": {
    "pycharm": {
     "name": "#%%\n"
    }
   },
   "outputs": [
    {
     "name": "stdout",
     "output_type": "stream",
     "text": [
      "[1169, 7931, 2704, 8607, 5151, 261]\n",
      "6\n"
     ]
    }
   ],
   "source": [
    "adjacency = wikivitals.adjacency\n",
    "path_wikivitals = estimate_path(adjacency)\n",
    "print(path_wikivitals)\n",
    "print(len(path_wikivitals))"
   ]
  },
  {
   "cell_type": "code",
   "execution_count": 26,
   "metadata": {
    "pycharm": {
     "name": "#%%\n"
    }
   },
   "outputs": [
    {
     "name": "stdout",
     "output_type": "stream",
     "text": [
      "[2224, 6, 8, 293, 999, 1587, 1590, 2707, 2711, 2656]\n",
      "10\n"
     ]
    }
   ],
   "source": [
    "adjacency2 = openflights.adjacency\n",
    "path_openflights = estimate_path(adjacency2)\n",
    "print(path_openflights)\n",
    "print(len(path_openflights))"
   ]
  },
  {
   "cell_type": "code",
   "execution_count": 27,
   "metadata": {
    "pycharm": {
     "name": "#%%\n"
    }
   },
   "outputs": [],
   "source": [
    "names = wikivitals.names"
   ]
  },
  {
   "cell_type": "code",
   "execution_count": null,
   "metadata": {
    "pycharm": {
     "name": "#%%\n"
    }
   },
   "outputs": [],
   "source": [
    "\n",
    "\n"
   ]
  },
  {
   "cell_type": "markdown",
   "metadata": {},
   "source": [
    "## To do\n",
    "\n",
    "* Compute the [Bacon number](https://fr.wikipedia.org/wiki/Six_Degrees_of_Kevin_Bacon) of all actors.\n",
    "* Plot the corresponding histogram.\n",
    "\n",
    "**Hint:** Use distances in the bipartite graph. Do **not** try to compute the co-starring graph of actors, with adjacency matrix $A = B^TB$ where $B$ is the movie-actor biadjacency matrix (guess why)."
   ]
  },
  {
   "cell_type": "code",
   "execution_count": 28,
   "metadata": {
    "pycharm": {
     "name": "#%%\n"
    }
   },
   "outputs": [
    {
     "name": "stdout",
     "output_type": "stream",
     "text": [
      "{2994: 'Frank Bacon', 3465: 'Kevin Bacon', 4052: 'Lloyd Bacon', 10011: 'Irving Bacon', 18496: 'Max Bacon', 39070: 'David Bacon'}\n",
      "{3814: 'Marion Cotillard'}\n",
      "Distance to Cotillard: \n",
      "2.0\n",
      "[3. 3. 2. ... 3. 3. 7.]\n",
      "13.0\n"
     ]
    }
   ],
   "source": [
    "biadjacency = cinema.biadjacency\n",
    "adjacency = biadjacency.T.dot(biadjacency)\n",
    "\n",
    "names = cinema.names_col\n",
    "bacon = {i:name for i, name in enumerate(names) if 'Bacon' in name}\n",
    "print(bacon)\n",
    "indexBacon = 3465\n",
    "\n",
    "cotillon = {i:name for i, name in enumerate(names) if 'Cotillard' in name}\n",
    "print(cotillon)\n",
    "indexCotillon = 3814\n",
    "\n",
    "distance = get_distances((adjacency), indexBacon)\n",
    "print(\"Distance to Cotillard: \")\n",
    "print(distance[indexCotillon])\n",
    "\n",
    "\n",
    "maxDist = np.max(distance)\n",
    "print(distance)\n",
    "print(maxDist)\n",
    "\n"
   ]
  },
  {
   "cell_type": "code",
   "execution_count": 29,
   "metadata": {
    "pycharm": {
     "name": "#%%\n"
    }
   },
   "outputs": [
    {
     "data": {
      "image/png": "[encoded data removed]",
      "text/plain": [
       "<Figure size 1080x504 with 1 Axes>"
      ]
     },
     "metadata": {
      "needs_background": "light"
     },
     "output_type": "display_data"
    }
   ],
   "source": [
    "\"\"\"\n",
    "\"\"\"\n",
    "plt.figure(figsize=(15,7))\n",
    "plt.hist(distance,np.arange(1,11))\n",
    "plt.grid()\n",
    "plt.show()"
   ]
  },
  {
   "cell_type": "code",
   "execution_count": 30,
   "metadata": {
    "pycharm": {
     "name": "#%%\n"
    }
   },
   "outputs": [
    {
     "data": {
      "text/plain": [
       "Text(0, 0.5, 'Probability')"
      ]
     },
     "execution_count": 30,
     "metadata": {},
     "output_type": "execute_result"
    },
    {
     "data": {
      "image/png": "[encoded data removed]",
      "text/plain": [
       "<Figure size 720x360 with 1 Axes>"
      ]
     },
     "metadata": {
      "needs_background": "light"
     },
     "output_type": "display_data"
    }
   ],
   "source": [
    "plt.figure(figsize=(10,5))\n",
    "b = np.linspace(1,max(distance.astype(int))+1,max(distance.astype(int))+1)\n",
    "h = plt.hist(distance,bins = b, density = True)\n",
    "plt.title(\"Distribution of T\")\n",
    "plt.xlabel(\"Number of iterations\")\n",
    "plt.ylabel(\"Probability\")\n",
    "\n"
   ]
  },
  {
   "cell_type": "code",
   "execution_count": 31,
   "metadata": {
    "pycharm": {
     "name": "#%%\n"
    }
   },
   "outputs": [
    {
     "name": "stdout",
     "output_type": "stream",
     "text": [
      "[[ True  True  True ... False False False]\n",
      " [ True  True  True ... False False False]\n",
      " [ True  True  True ... False False False]\n",
      " ...\n",
      " [False False False ...  True False False]\n",
      " [False False False ... False  True False]\n",
      " [False False False ... False False  True]]\n"
     ]
    }
   ],
   "source": [
    "print(adjacency.toarray())\n"
   ]
  },
  {
   "cell_type": "markdown",
   "metadata": {},
   "source": [
    "## 3. Clustering coefficient"
   ]
  },
  {
   "cell_type": "markdown",
   "metadata": {},
   "source": [
    "You will now learn to estimate the clustering coefficient of a graph."
   ]
  },
  {
   "cell_type": "markdown",
   "metadata": {
    "pycharm": {
     "name": "#%% md\n"
    }
   },
   "source": [
    "## To do\n",
    "\n",
    "\n",
    "* Complete the following function to estimate the clustering coefficient of a graph.\n",
    "* Test it on a triangle and  a line.\n",
    "* Compute the clustering coefficient of Openflights and WikiVitals (seen as an undirected graph).\n",
    "\n",
    "**Hint:** A triangle is... a cycle of length 3"
   ]
  },
  {
   "cell_type": "code",
   "execution_count": 32,
   "metadata": {
    "pycharm": {
     "name": "#%%\n"
    }
   },
   "outputs": [],
   "source": [
    "def clustering_coefficient(adjacency: sparse.csr_matrix, n_samples: int = 500) -> float:\n",
    "    '''Get the clustering coefficient of a graph.\n",
    "\n",
    "    Parameters\n",
    "    ----------\n",
    "    adjacency:\n",
    "        Adjacency matrix of the graph.\n",
    "\n",
    "    Returns\n",
    "    -------\n",
    "    clustering_coef:\n",
    "        Clustering coefficient.\n",
    "    '''\n",
    "\n",
    "\n",
    "    n = adjacency.shape[0]\n",
    "    if n_samples < n:\n",
    "        nodes = np.random.choice(n, size=n_samples, replace=False)\n",
    "    else:\n",
    "        nodes = np.arange(n)\n",
    "\n",
    "    D = adjacency.dot(np.ones(n))\n",
    "    # Doc : https://www.geeksforgeeks.org/number-of-triangles-in-a-undirected-graph/\n",
    "    temp = np.linalg.matrix_power(adjacency.toarray(),3)\n",
    "    triangles = np.trace( temp ) / 6\n",
    "\n",
    "    # to be modified\n",
    "    # a single loop on preselected nodes allowed\n",
    "\n",
    "    clustering_coef = (6*triangles)/(np.dot(D,D-1))\n",
    "\n",
    "    return clustering_coef\n"
   ]
  },
  {
   "cell_type": "code",
   "execution_count": 33,
   "metadata": {
    "pycharm": {
     "name": "#%%\n"
    }
   },
   "outputs": [
    {
     "name": "stdout",
     "output_type": "stream",
     "text": [
      "1.0\n"
     ]
    }
   ],
   "source": [
    "triangle = cyclic_graph(3)\n",
    "coef = clustering_coefficient(triangle)\n",
    "print(coef)"
   ]
  },
  {
   "cell_type": "code",
   "execution_count": 34,
   "metadata": {
    "pycharm": {
     "name": "#%%\n"
    }
   },
   "outputs": [],
   "source": [
    "line = linear_graph(5)"
   ]
  },
  {
   "cell_type": "code",
   "execution_count": 35,
   "metadata": {
    "pycharm": {
     "name": "#%%\n"
    }
   },
   "outputs": [
    {
     "name": "stdout",
     "output_type": "stream",
     "text": [
      "0.47104596951619976\n"
     ]
    }
   ],
   "source": [
    "import networkx as nx\n",
    "G = nx.from_scipy_sparse_matrix(openflights.adjacency)\n",
    "cc=nx.average_clustering(G)\n",
    "print(cc)"
   ]
  },
  {
   "cell_type": "code",
   "execution_count": 36,
   "metadata": {
    "pycharm": {
     "name": "#%%\n"
    }
   },
   "outputs": [
    {
     "name": "stdout",
     "output_type": "stream",
     "text": [
      "0.5706384782076823\n"
     ]
    }
   ],
   "source": [
    "from sknetwork.data import karate_club\n",
    "adjacency = karate_club()\n",
    "G = nx.from_scipy_sparse_matrix(adjacency)\n",
    "cc=nx.average_clustering(G)\n",
    "print(cc)\n",
    "\n"
   ]
  },
  {
   "cell_type": "code",
   "execution_count": 37,
   "metadata": {
    "pycharm": {
     "name": "#%%\n"
    }
   },
   "outputs": [
    {
     "name": "stdout",
     "output_type": "stream",
     "text": [
      "0.030303030303030304\n"
     ]
    }
   ],
   "source": [
    "from sknetwork.data import karate_club\n",
    "adjacency = karate_club()\n",
    "cc = clustering_coefficient(adjacency)\n",
    "print(cc)"
   ]
  },
  {
   "cell_type": "code",
   "execution_count": null,
   "metadata": {
    "pycharm": {
     "name": "#%%\n"
    }
   },
   "outputs": [],
   "source": [
    "\n"
   ]
  },
  {
   "cell_type": "code",
   "execution_count": null,
   "metadata": {},
   "outputs": [],
   "source": []
  },
  {
   "cell_type": "code",
   "execution_count": null,
   "metadata": {},
   "outputs": [],
   "source": []
  }
 ],
 "metadata": {
  "anaconda-cloud": {},
  "hide_input": false,
  "kernelspec": {
   "display_name": "Python 3",
   "language": "python",
   "name": "python3"
  },
  "language_info": {
   "codemirror_mode": {
    "name": "ipython",
    "version": 3
   },
   "file_extension": ".py",
   "mimetype": "text/x-python",
   "name": "python",
   "nbconvert_exporter": "python",
   "pygments_lexer": "ipython3",
   "version": "3.7.6"
  },
  "varInspector": {
   "cols": {
    "lenName": 16,
    "lenType": 16,
    "lenVar": 40
   },
   "kernels_config": {
    "python": {
     "delete_cmd_postfix": "",
     "delete_cmd_prefix": "del ",
     "library": "var_list.py",
     "varRefreshCmd": "print(var_dic_list())"
    },
    "r": {
     "delete_cmd_postfix": ") ",
     "delete_cmd_prefix": "rm(",
     "library": "var_list.r",
     "varRefreshCmd": "cat(var_dic_list()) "
    }
   },
   "types_to_exclude": [
    "module",
    "function",
    "builtin_function_or_method",
    "instance",
    "_Feature"
   ],
   "window_display": false
  }
 },
 "nbformat": 4,
 "nbformat_minor": 1
}
