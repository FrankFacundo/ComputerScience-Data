{
 "cells": [
  {
   "cell_type": "code",
   "execution_count": 1,
   "metadata": {},
   "outputs": [],
   "source": [
    "import numpy as np"
   ]
  },
  {
   "cell_type": "code",
   "execution_count": 2,
   "metadata": {},
   "outputs": [],
   "source": [
    "A = [[0,1,0,1,1],[1,0,1,0,0],[0,1,0,1,0],[1,0,1,0,1],[1,0,0,1,0]]"
   ]
  },
  {
   "cell_type": "code",
   "execution_count": 14,
   "metadata": {},
   "outputs": [],
   "source": [
    "D = np.diag(np.dot(A, np.ones(np.shape(A)[0])))"
   ]
  },
  {
   "cell_type": "code",
   "execution_count": 15,
   "metadata": {},
   "outputs": [
    {
     "data": {
      "text/plain": [
       "array([[3., 0., 0., 0., 0.],\n",
       "       [0., 2., 0., 0., 0.],\n",
       "       [0., 0., 2., 0., 0.],\n",
       "       [0., 0., 0., 3., 0.],\n",
       "       [0., 0., 0., 0., 2.]])"
      ]
     },
     "execution_count": 15,
     "metadata": {},
     "output_type": "execute_result"
    }
   ],
   "source": [
    "D"
   ]
  },
  {
   "cell_type": "code",
   "execution_count": 18,
   "metadata": {},
   "outputs": [],
   "source": [
    "P = np.linalg.inv(D)@A"
   ]
  },
  {
   "cell_type": "code",
   "execution_count": 19,
   "metadata": {},
   "outputs": [
    {
     "data": {
      "text/plain": [
       "array([[0.        , 0.33333333, 0.        , 0.33333333, 0.33333333],\n",
       "       [0.5       , 0.        , 0.5       , 0.        , 0.        ],\n",
       "       [0.        , 0.5       , 0.        , 0.5       , 0.        ],\n",
       "       [0.33333333, 0.        , 0.33333333, 0.        , 0.33333333],\n",
       "       [0.5       , 0.        , 0.        , 0.5       , 0.        ]])"
      ]
     },
     "execution_count": 19,
     "metadata": {},
     "output_type": "execute_result"
    }
   ],
   "source": [
    "P"
   ]
  },
  {
   "cell_type": "code",
   "execution_count": 20,
   "metadata": {},
   "outputs": [],
   "source": [
    "eigenvalues = np.linalg.eig(P)"
   ]
  },
  {
   "cell_type": "code",
   "execution_count": 21,
   "metadata": {},
   "outputs": [
    {
     "data": {
      "text/plain": [
       "(array([ 1.00000000e+00, -8.33333333e-01, -5.00000000e-01,  1.27271514e-16,\n",
       "         3.33333333e-01]),\n",
       " array([[ 4.47213595e-01,  3.92232270e-01,  3.92232270e-01,\n",
       "         -5.00000000e-01,  1.85695338e-01],\n",
       "        [ 4.47213595e-01, -5.88348405e-01, -1.96116135e-01,\n",
       "         -5.00000000e-01, -5.57086015e-01],\n",
       "        [ 4.47213595e-01,  5.88348405e-01, -1.96116135e-01,\n",
       "          5.00000000e-01, -5.57086015e-01],\n",
       "        [ 4.47213595e-01, -3.92232270e-01,  3.92232270e-01,\n",
       "          5.00000000e-01,  1.85695338e-01],\n",
       "        [ 4.47213595e-01, -4.80511122e-16, -7.84464541e-01,\n",
       "         -3.34812691e-16,  5.57086015e-01]]))"
      ]
     },
     "execution_count": 21,
     "metadata": {},
     "output_type": "execute_result"
    }
   ],
   "source": [
    "eigenvalues"
   ]
  },
  {
   "cell_type": "markdown",
   "metadata": {},
   "source": [
    "Second exercise"
   ]
  },
  {
   "cell_type": "code",
   "execution_count": 86,
   "metadata": {},
   "outputs": [],
   "source": [
    "B = np.array([[1,0,0],[1,1,0],[0,1,1],[1,1,1]])"
   ]
  },
  {
   "cell_type": "code",
   "execution_count": 87,
   "metadata": {},
   "outputs": [
    {
     "data": {
      "text/plain": [
       "array([[1, 0, 0],\n",
       "       [1, 1, 0],\n",
       "       [0, 1, 1],\n",
       "       [1, 1, 1]])"
      ]
     },
     "execution_count": 87,
     "metadata": {},
     "output_type": "execute_result"
    }
   ],
   "source": [
    "B"
   ]
  },
  {
   "cell_type": "code",
   "execution_count": 88,
   "metadata": {},
   "outputs": [],
   "source": [
    "#B = [[1,1,0,1],[0,1,1,1],[0,0,1,1]]"
   ]
  },
  {
   "cell_type": "code",
   "execution_count": 90,
   "metadata": {},
   "outputs": [],
   "source": [
    "zeros1 = np.zeros((np.shape(B)[0],np.shape(B)[0]))\n",
    "zeros2 = np.zeros((np.shape(B)[1],np.shape(B)[1]))\n",
    "A = np.block([[zeros1,B],[np.transpose(B),zeros2]])"
   ]
  },
  {
   "cell_type": "code",
   "execution_count": 91,
   "metadata": {},
   "outputs": [
    {
     "data": {
      "text/plain": [
       "array([[0., 0., 0., 0., 1., 0., 0.],\n",
       "       [0., 0., 0., 0., 1., 1., 0.],\n",
       "       [0., 0., 0., 0., 0., 1., 1.],\n",
       "       [0., 0., 0., 0., 1., 1., 1.],\n",
       "       [1., 1., 0., 1., 0., 0., 0.],\n",
       "       [0., 1., 1., 1., 0., 0., 0.],\n",
       "       [0., 0., 1., 1., 0., 0., 0.]])"
      ]
     },
     "execution_count": 91,
     "metadata": {},
     "output_type": "execute_result"
    }
   ],
   "source": [
    "A"
   ]
  },
  {
   "cell_type": "code",
   "execution_count": 92,
   "metadata": {},
   "outputs": [],
   "source": [
    "D1 = np.diag(B@np.ones(np.shape(B)[1]))"
   ]
  },
  {
   "cell_type": "code",
   "execution_count": 93,
   "metadata": {},
   "outputs": [],
   "source": [
    "D2 = np.diag(np.transpose(B)@np.ones(np.shape(B)[0]))"
   ]
  },
  {
   "cell_type": "code",
   "execution_count": 94,
   "metadata": {},
   "outputs": [],
   "source": [
    "zeros1 = np.zeros((np.shape(D1)[0],np.shape(D2)[1]))\n",
    "zeros2 = np.zeros((np.shape(D2)[0],np.shape(D1)[1]))\n",
    "D = np.block([[D1,zeros1],[zeros2,D2]])"
   ]
  },
  {
   "cell_type": "code",
   "execution_count": 95,
   "metadata": {},
   "outputs": [
    {
     "data": {
      "text/plain": [
       "array([[1., 0., 0., 0., 0., 0., 0.],\n",
       "       [0., 2., 0., 0., 0., 0., 0.],\n",
       "       [0., 0., 2., 0., 0., 0., 0.],\n",
       "       [0., 0., 0., 3., 0., 0., 0.],\n",
       "       [0., 0., 0., 0., 3., 0., 0.],\n",
       "       [0., 0., 0., 0., 0., 3., 0.],\n",
       "       [0., 0., 0., 0., 0., 0., 2.]])"
      ]
     },
     "execution_count": 95,
     "metadata": {},
     "output_type": "execute_result"
    }
   ],
   "source": [
    "D"
   ]
  },
  {
   "cell_type": "code",
   "execution_count": 109,
   "metadata": {},
   "outputs": [],
   "source": [
    "P1 = np.linalg.inv(D1)@B"
   ]
  },
  {
   "cell_type": "code",
   "execution_count": 110,
   "metadata": {},
   "outputs": [
    {
     "data": {
      "text/plain": [
       "array([[1.        , 0.        , 0.        ],\n",
       "       [0.5       , 0.5       , 0.        ],\n",
       "       [0.        , 0.5       , 0.5       ],\n",
       "       [0.33333333, 0.33333333, 0.33333333]])"
      ]
     },
     "execution_count": 110,
     "metadata": {},
     "output_type": "execute_result"
    }
   ],
   "source": [
    "P1"
   ]
  },
  {
   "cell_type": "code",
   "execution_count": 111,
   "metadata": {},
   "outputs": [],
   "source": [
    "P2 = np.linalg.inv(D2)@np.transpose(B)"
   ]
  },
  {
   "cell_type": "code",
   "execution_count": 112,
   "metadata": {},
   "outputs": [
    {
     "data": {
      "text/plain": [
       "array([[0.33333333, 0.33333333, 0.        , 0.33333333],\n",
       "       [0.        , 0.33333333, 0.33333333, 0.33333333],\n",
       "       [0.        , 0.        , 0.5       , 0.5       ]])"
      ]
     },
     "execution_count": 112,
     "metadata": {},
     "output_type": "execute_result"
    }
   ],
   "source": [
    "P2"
   ]
  },
  {
   "cell_type": "code",
   "execution_count": 115,
   "metadata": {},
   "outputs": [],
   "source": [
    "zeros1 = np.zeros((np.shape(P1)[0],np.shape(P2)[1]))\n",
    "zeros2 = np.zeros((np.shape(P2)[0],np.shape(P1)[1]))\n",
    "P = np.bmat([[zeros1,P1],[P2,zeros2]])"
   ]
  },
  {
   "cell_type": "code",
   "execution_count": 116,
   "metadata": {},
   "outputs": [
    {
     "data": {
      "text/plain": [
       "matrix([[0.        , 0.        , 0.        , 0.        , 1.        ,\n",
       "         0.        , 0.        ],\n",
       "        [0.        , 0.        , 0.        , 0.        , 0.5       ,\n",
       "         0.5       , 0.        ],\n",
       "        [0.        , 0.        , 0.        , 0.        , 0.        ,\n",
       "         0.5       , 0.5       ],\n",
       "        [0.        , 0.        , 0.        , 0.        , 0.33333333,\n",
       "         0.33333333, 0.33333333],\n",
       "        [0.33333333, 0.33333333, 0.        , 0.33333333, 0.        ,\n",
       "         0.        , 0.        ],\n",
       "        [0.        , 0.33333333, 0.33333333, 0.33333333, 0.        ,\n",
       "         0.        , 0.        ],\n",
       "        [0.        , 0.        , 0.5       , 0.5       , 0.        ,\n",
       "         0.        , 0.        ]])"
      ]
     },
     "execution_count": 116,
     "metadata": {},
     "output_type": "execute_result"
    }
   ],
   "source": [
    "P"
   ]
  },
  {
   "cell_type": "code",
   "execution_count": 117,
   "metadata": {},
   "outputs": [],
   "source": [
    "eigenvalues = np.linalg.eig(P)"
   ]
  },
  {
   "cell_type": "code",
   "execution_count": 118,
   "metadata": {},
   "outputs": [
    {
     "data": {
      "text/plain": [
       "array([ 1.00000000e+00, -1.00000000e+00,  6.35102732e-01, -6.35102732e-01,\n",
       "        2.62424736e-01, -1.71795836e-17, -2.62424736e-01])"
      ]
     },
     "execution_count": 118,
     "metadata": {},
     "output_type": "execute_result"
    }
   ],
   "source": [
    "eigenvalues[0]"
   ]
  },
  {
   "cell_type": "code",
   "execution_count": null,
   "metadata": {},
   "outputs": [],
   "source": []
  }
 ],
 "metadata": {
  "kernelspec": {
   "display_name": "DataScience",
   "language": "python",
   "name": "datascience"
  },
  "language_info": {
   "codemirror_mode": {
    "name": "ipython",
    "version": 3
   },
   "file_extension": ".py",
   "mimetype": "text/x-python",
   "name": "python",
   "nbconvert_exporter": "python",
   "pygments_lexer": "ipython3",
   "version": "3.7.6"
  },
  "varInspector": {
   "cols": {
    "lenName": 16,
    "lenType": 16,
    "lenVar": 40
   },
   "kernels_config": {
    "python": {
     "delete_cmd_postfix": "",
     "delete_cmd_prefix": "del ",
     "library": "var_list.py",
     "varRefreshCmd": "print(var_dic_list())"
    },
    "r": {
     "delete_cmd_postfix": ") ",
     "delete_cmd_prefix": "rm(",
     "library": "var_list.r",
     "varRefreshCmd": "cat(var_dic_list()) "
    }
   },
   "oldHeight": 618.9058180000001,
   "position": {
    "height": "40px",
    "left": "278.281px",
    "right": "20px",
    "top": "120px",
    "width": "537.173px"
   },
   "types_to_exclude": [
    "module",
    "function",
    "builtin_function_or_method",
    "instance",
    "_Feature"
   ],
   "varInspector_section_display": "none",
   "window_display": true
  }
 },
 "nbformat": 4,
 "nbformat_minor": 4
}
