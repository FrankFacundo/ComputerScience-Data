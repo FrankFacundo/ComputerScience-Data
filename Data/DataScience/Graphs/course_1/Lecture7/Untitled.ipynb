{
 "cells": [
  {
   "cell_type": "code",
   "execution_count": 1,
   "metadata": {},
   "outputs": [],
   "source": [
    "import numpy as np"
   ]
  },
  {
   "cell_type": "code",
   "execution_count": 9,
   "metadata": {},
   "outputs": [],
   "source": [
    "P = np.array(\n",
    "    [\n",
    "        [0, 0.5, 0, 0, 0.5],\n",
    "        [1 / 3, 0, 1 / 3, 0, 1 / 3],\n",
    "        [0, 0.5, 0, 0.5, 0],\n",
    "        [0, 0, 0.5, 0, 0.5],\n",
    "        [1 / 3, 1 / 3, 0, 1 / 3, 0],\n",
    "    ]\n",
    ")"
   ]
  },
  {
   "cell_type": "code",
   "execution_count": 10,
   "metadata": {},
   "outputs": [
    {
     "data": {
      "text/plain": [
       "array([[0.        , 0.5       , 0.        , 0.        , 0.5       ],\n",
       "       [0.33333333, 0.        , 0.33333333, 0.        , 0.33333333],\n",
       "       [0.        , 0.5       , 0.        , 0.5       , 0.        ],\n",
       "       [0.        , 0.        , 0.5       , 0.        , 0.5       ],\n",
       "       [0.33333333, 0.33333333, 0.        , 0.33333333, 0.        ]])"
      ]
     },
     "execution_count": 10,
     "metadata": {},
     "output_type": "execute_result"
    }
   ],
   "source": [
    "P"
   ]
  },
  {
   "cell_type": "code",
   "execution_count": null,
   "metadata": {},
   "outputs": [],
   "source": []
  },
  {
   "cell_type": "code",
   "execution_count": 39,
   "metadata": {},
   "outputs": [],
   "source": [
    "T0 = np.array([0, 0, 1, 1, 0])\n",
    "# T0=np.array([0,1,1,1,0])\n",
    "# T0=np.array([0,1,2,4,6])"
   ]
  },
  {
   "cell_type": "code",
   "execution_count": 40,
   "metadata": {},
   "outputs": [
    {
     "name": "stdout",
     "output_type": "stream",
     "text": [
      "[0.         0.33333333 0.5        0.5        0.33333333]\n",
      "[0.33333333 0.27777778 0.41666667 0.41666667 0.27777778]\n",
      "[0.27777778 0.34259259 0.34722222 0.34722222 0.34259259]\n",
      "[0.34259259 0.32253086 0.34490741 0.34490741 0.32253086]\n",
      "[0.32253086 0.33667695 0.33371914 0.33371914 0.33667695]\n",
      "[0.33667695 0.33097565 0.33519805 0.33519805 0.33097565]\n",
      "[0.33097565 0.33428355 0.33308685 0.33308685 0.33428355]\n",
      "[0.33428355 0.33278202 0.3336852  0.3336852  0.33278202]\n",
      "[0.33278202 0.33358359 0.33323361 0.33323361 0.33358359]\n",
      "[0.33358359 0.33319974 0.3334086  0.3334086  0.33319974]\n",
      "[0.33319974 0.33339731 0.33330417 0.33330417 0.33339731]\n",
      "[0.33339731 0.3333004  0.33335074 0.33335074 0.3333004 ]\n",
      "[0.3333004  0.33334948 0.33332557 0.33332557 0.33334948]\n",
      "[0.33334948 0.33332515 0.33333753 0.33333753 0.33332515]\n",
      "[0.33332515 0.33333739 0.33333134 0.33333134 0.33333739]\n",
      "[0.33333739 0.33333129 0.33333436 0.33333436 0.33333129]\n",
      "[0.33333129 0.33333435 0.33333283 0.33333283 0.33333435]\n",
      "[0.33333435 0.33333282 0.33333359 0.33333359 0.33333282]\n",
      "[0.33333282 0.33333359 0.33333321 0.33333321 0.33333359]\n",
      "[0.33333359 0.33333321 0.3333334  0.3333334  0.33333321]\n",
      "[0.33333321 0.3333334  0.3333333  0.3333333  0.3333334 ]\n",
      "[0.3333334  0.3333333  0.33333335 0.33333335 0.3333333 ]\n",
      "[0.3333333  0.33333335 0.33333333 0.33333333 0.33333335]\n",
      "[0.33333335 0.33333333 0.33333334 0.33333334 0.33333333]\n",
      "[0.33333333 0.33333334 0.33333333 0.33333333 0.33333334]\n",
      "[0.33333334 0.33333333 0.33333333 0.33333333 0.33333333]\n",
      "[0.33333333 0.33333333 0.33333333 0.33333333 0.33333333]\n",
      "[0.33333333 0.33333333 0.33333333 0.33333333 0.33333333]\n",
      "[0.33333333 0.33333333 0.33333333 0.33333333 0.33333333]\n",
      "[0.33333333 0.33333333 0.33333333 0.33333333 0.33333333]\n",
      "[0.33333333 0.33333333 0.33333333 0.33333333 0.33333333]\n",
      "[0.33333333 0.33333333 0.33333333 0.33333333 0.33333333]\n",
      "[0.33333333 0.33333333 0.33333333 0.33333333 0.33333333]\n",
      "[0.33333333 0.33333333 0.33333333 0.33333333 0.33333333]\n",
      "[0.33333333 0.33333333 0.33333333 0.33333333 0.33333333]\n",
      "[0.33333333 0.33333333 0.33333333 0.33333333 0.33333333]\n",
      "[0.33333333 0.33333333 0.33333333 0.33333333 0.33333333]\n",
      "[0.33333333 0.33333333 0.33333333 0.33333333 0.33333333]\n",
      "[0.33333333 0.33333333 0.33333333 0.33333333 0.33333333]\n",
      "[0.33333333 0.33333333 0.33333333 0.33333333 0.33333333]\n",
      "[0.33333333 0.33333333 0.33333333 0.33333333 0.33333333]\n",
      "[0.33333333 0.33333333 0.33333333 0.33333333 0.33333333]\n",
      "[0.33333333 0.33333333 0.33333333 0.33333333 0.33333333]\n",
      "[0.33333333 0.33333333 0.33333333 0.33333333 0.33333333]\n",
      "[0.33333333 0.33333333 0.33333333 0.33333333 0.33333333]\n",
      "[0.33333333 0.33333333 0.33333333 0.33333333 0.33333333]\n",
      "[0.33333333 0.33333333 0.33333333 0.33333333 0.33333333]\n",
      "[0.33333333 0.33333333 0.33333333 0.33333333 0.33333333]\n",
      "[0.33333333 0.33333333 0.33333333 0.33333333 0.33333333]\n",
      "[0.33333333 0.33333333 0.33333333 0.33333333 0.33333333]\n"
     ]
    }
   ],
   "source": [
    "T = T0\n",
    "for i in range(50):\n",
    "    T = P @ T\n",
    "    print(T)"
   ]
  },
  {
   "cell_type": "code",
   "execution_count": null,
   "metadata": {},
   "outputs": [],
   "source": []
  },
  {
   "cell_type": "code",
   "execution_count": 2,
   "metadata": {},
   "outputs": [],
   "source": [
    "T0 = np.array([0, 1, 2, 4, 6])"
   ]
  },
  {
   "cell_type": "code",
   "execution_count": 3,
   "metadata": {},
   "outputs": [],
   "source": [
    "Tinf = np.ones(5) * 2.6"
   ]
  },
  {
   "cell_type": "code",
   "execution_count": 4,
   "metadata": {},
   "outputs": [],
   "source": [
    "res = np.abs(Tinf - T0)"
   ]
  },
  {
   "cell_type": "code",
   "execution_count": 5,
   "metadata": {},
   "outputs": [
    {
     "data": {
      "text/plain": [
       "array([2.6, 1.6, 0.6, 1.4, 3.4])"
      ]
     },
     "execution_count": 5,
     "metadata": {},
     "output_type": "execute_result"
    }
   ],
   "source": [
    "res"
   ]
  },
  {
   "cell_type": "code",
   "execution_count": 31,
   "metadata": {},
   "outputs": [],
   "source": [
    "A = np.array([[1, -1 / 2, 0], [-1 / 2, 1, -1 / 2], [0, -1 / 3, 1]])"
   ]
  },
  {
   "cell_type": "code",
   "execution_count": 32,
   "metadata": {},
   "outputs": [
    {
     "data": {
      "text/plain": [
       "array([[ 1.        , -0.5       ,  0.        ],\n",
       "       [-0.5       ,  1.        , -0.5       ],\n",
       "       [ 0.        , -0.33333333,  1.        ]])"
      ]
     },
     "execution_count": 32,
     "metadata": {},
     "output_type": "execute_result"
    }
   ],
   "source": [
    "A"
   ]
  },
  {
   "cell_type": "code",
   "execution_count": 33,
   "metadata": {},
   "outputs": [],
   "source": [
    "inverse = np.linalg.inv(A)"
   ]
  },
  {
   "cell_type": "code",
   "execution_count": 34,
   "metadata": {},
   "outputs": [
    {
     "data": {
      "text/plain": [
       "array([[1.42857143, 0.85714286, 0.42857143],\n",
       "       [0.85714286, 1.71428571, 0.85714286],\n",
       "       [0.28571429, 0.57142857, 1.28571429]])"
      ]
     },
     "execution_count": 34,
     "metadata": {},
     "output_type": "execute_result"
    }
   ],
   "source": [
    "inverse"
   ]
  },
  {
   "cell_type": "code",
   "execution_count": 36,
   "metadata": {},
   "outputs": [
    {
     "data": {
      "text/plain": [
       "array([[10.,  6.,  3.],\n",
       "       [ 6., 12.,  6.],\n",
       "       [ 2.,  4.,  9.]])"
      ]
     },
     "execution_count": 36,
     "metadata": {},
     "output_type": "execute_result"
    }
   ],
   "source": [
    "inverse * 7"
   ]
  },
  {
   "cell_type": "code",
   "execution_count": 35,
   "metadata": {},
   "outputs": [
    {
     "data": {
      "text/plain": [
       "array([0.85714286, 0.71428571, 0.57142857])"
      ]
     },
     "execution_count": 35,
     "metadata": {},
     "output_type": "execute_result"
    }
   ],
   "source": [
    "np.dot(inverse, np.array([1 / 2, 0, 1 / 3]))"
   ]
  },
  {
   "cell_type": "code",
   "execution_count": 37,
   "metadata": {},
   "outputs": [
    {
     "data": {
      "text/plain": [
       "array([6., 5., 4.])"
      ]
     },
     "execution_count": 37,
     "metadata": {},
     "output_type": "execute_result"
    }
   ],
   "source": [
    "np.dot(inverse, np.array([1 / 2, 0, 1 / 3])) * 7"
   ]
  },
  {
   "cell_type": "code",
   "execution_count": 1,
   "metadata": {},
   "outputs": [],
   "source": [
    "# import os\n",
    "# os.getcwd()"
   ]
  }
 ],
 "metadata": {
  "kernelspec": {
   "display_name": "ts",
   "language": "python",
   "name": "python3"
  },
  "language_info": {
   "codemirror_mode": {
    "name": "ipython",
    "version": 3
   },
   "file_extension": ".py",
   "mimetype": "text/x-python",
   "name": "python",
   "nbconvert_exporter": "python",
   "pygments_lexer": "ipython3",
   "version": "3.10.14"
  },
  "varInspector": {
   "cols": {
    "lenName": 16,
    "lenType": 16,
    "lenVar": 40
   },
   "kernels_config": {
    "python": {
     "delete_cmd_postfix": "",
     "delete_cmd_prefix": "del ",
     "library": "var_list.py",
     "varRefreshCmd": "print(var_dic_list())"
    },
    "r": {
     "delete_cmd_postfix": ") ",
     "delete_cmd_prefix": "rm(",
     "library": "var_list.r",
     "varRefreshCmd": "cat(var_dic_list()) "
    }
   },
   "position": {
    "height": "284.4px",
    "left": "857px",
    "right": "20px",
    "top": "106px",
    "width": "424.4px"
   },
   "types_to_exclude": [
    "module",
    "function",
    "builtin_function_or_method",
    "instance",
    "_Feature"
   ],
   "window_display": false
  }
 },
 "nbformat": 4,
 "nbformat_minor": 4
}
