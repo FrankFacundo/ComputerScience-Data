{
 "cells": [
  {
   "attachments": {},
   "cell_type": "markdown",
   "metadata": {},
   "source": [
    "\n",
    "A( 1 WI I)A IA SCILNCI 1N1( RVI/W HUO & SINGH interview Questions Easy Problems \n",
    "\n",
    "9.4. Google: Say you have an n-by-n matrix of elements that are sorted in ascending order both in the columns and rows of the matrix. Return the k-th smallest element of the matrix. For example, consider the matrix below: \n",
    "If k - 4, then return 5. \n",
    "\n",
    "9.5. Akuna Capital: Given an integer array, find the sum of the largest contiguous subarray within the array. For example, if the input is [-I, -3, 5, -4, 3, -6, 9, 2], then return 11 (because of [9, 2]). Note that if all the elements are negative, you should return 0. \n",
    "\n",
    "9.6. Facebook: Given a binary tree, write a function to determine whether the tree is a mirror image of itself. Two trees are a mirror image of each other if their root values are the same and the left subtree is a mirror image of the right subtree. Medium Problems \n",
    "4 7 3 [1 5 9 6 8 11 \n",
    "\n",
    "9.7. Google: Given an array of positive integers, a peak element is greater than its neighbors. Write a function to find the index of any peak elements. For example, for [3, 5, 2, 4, 1], you should return either 1 or 3 because the values at those indexes, 5 and 4, are both peak elements. \n",
    "\n",
    "9.8. AQR: Given two lists X and Y, return their correlation. \n",
    "\n",
    "9.9. Amazon: Given a binary tree, write a function to determine the diameter of the tree, which is the longest path between any two nodes. \n",
    "\n",
    "9.10. D.E. Shaw: Given a target number, generate a random sample of n integers that sum to that target that also are within c standard deviations of the mean. \n",
    "\n",
    "9.11. Facebook: You have the entire social graph of Facebook users, with nodes representing users and edges representing friendships between users. Given a social graph and two users as input, write a function to return the smallest number of friendships between the two users. For example, take the graph that consists of 5 users A, B, C, D, E, and the friendship edges are: (A, B), (A, C), (B, D), (D, E). If the two input users are A and F, then the function should return 3 since A is friends with B, B is friends with D, and D is friends with E. \n",
    "\n",
    "9.12. Linkedln: Given two strings A and B, write a function to return a list of all the start indices within A where the substring of A is an anagram of B. For example, if A = \"abcdebac\" and \n",
    "Ace the Data Science Interview 205 \n"
   ]
  },
  {
   "attachments": {},
   "cell_type": "markdown",
   "metadata": {},
   "source": [
    "1. Amazon: \n",
    "Given two arrays, write a function to get the intersection of the two. \n",
    "For example, if A = [1, 3, 4, 5] ,and B = [0, 1, 3, 7] then you should return [1, 3]. \n"
   ]
  },
  {
   "cell_type": "code",
   "execution_count": 8,
   "metadata": {},
   "outputs": [
    {
     "name": "stdout",
     "output_type": "stream",
     "text": [
      "[1, 3]\n"
     ]
    }
   ],
   "source": [
    "# Solution 1\n",
    "def intersecction(A, B):\n",
    "    return list(set(A).intersection(B))\n",
    "\n",
    "A = [1, 3, 4, 5]\n",
    "B = [0, 1, 3, 7]\n",
    "print(intersecction(A, B))"
   ]
  },
  {
   "attachments": {},
   "cell_type": "markdown",
   "metadata": {},
   "source": [
    "---"
   ]
  },
  {
   "attachments": {},
   "cell_type": "markdown",
   "metadata": {},
   "source": [
    "2. D.E. Shaw: \n",
    "Given an integer array, return the maximum product of any three numbers in the array. \n",
    "For example, for A = [1, 3, 4, 5], you should return 60, while for B =  [-2, -4, 5, 3] you should return 40."
   ]
  },
  {
   "cell_type": "code",
   "execution_count": 28,
   "metadata": {},
   "outputs": [
    {
     "name": "stdout",
     "output_type": "stream",
     "text": [
      "40\n"
     ]
    }
   ],
   "source": [
    "# Solution 1\n",
    "\n",
    "# Comment: an algorithm for n product ?\n",
    "# Naive answer: \n",
    "# from operator import mul\n",
    "# res = max([reduce(mul, combinations) for combination in combinations(test_list, K)])\n",
    "\n",
    "import numpy as np\n",
    "\n",
    "def maximum_three_product(A):\n",
    "    A.sort()\n",
    "    # Last 3 elements\n",
    "    first_candidates = A[-3:]\n",
    "    # First 2 elements and last element\n",
    "    second_candidates = A[:2] + A[-1:]\n",
    "    return max(np.prod(first_candidates), np.prod(second_candidates))\n",
    "\n",
    "\n",
    "B =  [-2, -4, 5, 3]\n",
    "res = maximum_three_product(B)\n",
    "print(res)"
   ]
  },
  {
   "attachments": {},
   "cell_type": "markdown",
   "metadata": {},
   "source": [
    "---"
   ]
  },
  {
   "attachments": {},
   "cell_type": "markdown",
   "metadata": {},
   "source": [
    "9.1, Fm.0,00k: Oven a list of coordinates, write a lunction to find the k closest points (measured by Fuelidean distance) to the origin. For example, ilk = 3, and the points are: [[2, -1], [3, 2], [4, 11,1 1, 1--2, 211, then return 1[-1, -I], [2, -- I], [-2, 211."
   ]
  }
 ],
 "metadata": {
  "kernelspec": {
   "display_name": "BCG",
   "language": "python",
   "name": "python3"
  },
  "language_info": {
   "codemirror_mode": {
    "name": "ipython",
    "version": 3
   },
   "file_extension": ".py",
   "mimetype": "text/x-python",
   "name": "python",
   "nbconvert_exporter": "python",
   "pygments_lexer": "ipython3",
   "version": "3.7.13"
  },
  "orig_nbformat": 4,
  "vscode": {
   "interpreter": {
    "hash": "f587980aed85386828983447eebead6955e950331a8a89d818b794d6ecd4d907"
   }
  }
 },
 "nbformat": 4,
 "nbformat_minor": 2
}
