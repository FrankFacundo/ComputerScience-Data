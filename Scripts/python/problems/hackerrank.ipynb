{
 "cells": [
  {
   "cell_type": "code",
   "execution_count": null,
   "metadata": {},
   "outputs": [],
   "source": [
    "#BNP"
   ]
  },
  {
   "cell_type": "code",
   "execution_count": null,
   "metadata": {},
   "outputs": [],
   "source": [
    "def verifyList(arr, init):\n",
    "    temp = init\n",
    "    for i in arr:\n",
    "        temp = temp + i \n",
    "        if( temp < 1 ):\n",
    "            return False\n",
    "    return True\n",
    "\n",
    "def minX(arr):\n",
    "    # Write your code here\n",
    "    # False means that there is a in the running sum that its value is < 1\n",
    "    X = False\n",
    "    initialValue = 0\n",
    "    while not(X):\n",
    "        initialValue = initialValue + 1\n",
    "        X = verifyList(arr,initialValue)\n",
    "        print(X)\n",
    "    return initialValue   "
   ]
  },
  {
   "cell_type": "code",
   "execution_count": null,
   "metadata": {},
   "outputs": [],
   "source": [
    "arr = [-5, 4, -2, 3, 1, -1, -6, -1, 0, 5]\n",
    "minX(arr)"
   ]
  },
  {
   "cell_type": "code",
   "execution_count": null,
   "metadata": {},
   "outputs": [],
   "source": [
    "arr = [-5, 4, -2, 3, 1]\n",
    "minX(arr)"
   ]
  },
  {
   "cell_type": "code",
   "execution_count": null,
   "metadata": {},
   "outputs": [],
   "source": [
    "def minX(arr):\n",
    "    # Write your code here\n",
    "    # False means that there is a in the running sum that its value is < 1\n",
    "    finded = False\n",
    "    initialValue = 1000000\n",
    "    result = verifyList(arr,initialValue)\n",
    "    \n",
    "    a = 0\n",
    "    b = len(arr)-1\n",
    "    initialValue = (a+b)//2\n",
    "    while not(finded):\n",
    "        result = verifyList(arr,initialValue)\n",
    "        print(\"\\n\")\n",
    "        if (result == True):\n",
    "            b = initialValue - 1\n",
    "        elif (result == False):\n",
    "            a = initialValue + 1\n",
    "        temp = initialValue \n",
    "        initialValue =  (a+b)//2\n",
    "        print(initialValue)\n",
    "        print(a)\n",
    "        print(b)\n",
    "        print(result)\n",
    "        if (temp == initialValue):\n",
    "            finded = True\n",
    "            if(result == False):\n",
    "                return initialValue + 1\n",
    "            else:\n",
    "                return initialValue"
   ]
  },
  {
   "cell_type": "code",
   "execution_count": null,
   "metadata": {
    "scrolled": true
   },
   "outputs": [],
   "source": [
    "arr = [-5, 4, -2, 3, 1, -1, -6, -1, 0, 5]\n",
    "minX(arr)"
   ]
  },
  {
   "cell_type": "code",
   "execution_count": null,
   "metadata": {},
   "outputs": [],
   "source": [
    "15//2"
   ]
  },
  {
   "cell_type": "code",
   "execution_count": null,
   "metadata": {},
   "outputs": [],
   "source": [
    "arr = [-5, 4, -2, 3, 1]\n",
    "minX(arr)"
   ]
  },
  {
   "cell_type": "markdown",
   "metadata": {},
   "source": [
    "### bestTrio"
   ]
  },
  {
   "cell_type": "code",
   "execution_count": 17,
   "metadata": {},
   "outputs": [],
   "source": [
    "from scipy.sparse import csr_matrix, coo_matrix\n",
    "from scipy import linalg, sparse\n",
    "import numpy as np\n",
    "\n",
    "def bestTrio(friends_nodes, friends_from, friends_to):\n",
    "    # Write your code here\n",
    "    #print(friends_nodes)\n",
    "    #print(friends_from)\n",
    "    \n",
    "    # Detect trios\n",
    "    n = friends_nodes\n",
    "    a = np.array(friends_from) -1\n",
    "    b = np.array(friends_to) -1\n",
    "    c = np.ones(np.size(a))\n",
    "    graph = coo_matrix((c,(a,b)),(n,n))\n",
    "    graph = np.add(graph, graph.T)\n",
    "    #print(graph.toarray())\n",
    "    quad = np.linalg.matrix_power(graph.toarray(),2)\n",
    "    #print(quad)\n",
    "    tri = np.linalg.matrix_power(graph.toarray(),3)\n",
    "    triangles = np.trace( tri ) / 6\n",
    "    #print(tri)\n",
    "    #print(triangles)\n",
    "    #print(tri-quad)\n",
    "    return graph"
   ]
  },
  {
   "cell_type": "code",
   "execution_count": 18,
   "metadata": {},
   "outputs": [
    {
     "data": {
      "text/plain": [
       "<5x5 sparse matrix of type '<class 'numpy.float64'>'\n",
       "\twith 12 stored elements in Compressed Sparse Row format>"
      ]
     },
     "execution_count": 18,
     "metadata": {},
     "output_type": "execute_result"
    }
   ],
   "source": [
    "friends_nodes = 5\n",
    "friends_from = [1,1,2,2,3,4]\n",
    "friends_to = [2,3,3,4,4,5]\n",
    "bestTrio(friends_nodes, friends_from, friends_to)"
   ]
  },
  {
   "cell_type": "code",
   "execution_count": null,
   "metadata": {},
   "outputs": [],
   "source": []
  },
  {
   "cell_type": "code",
   "execution_count": null,
   "metadata": {},
   "outputs": [],
   "source": []
  },
  {
   "cell_type": "code",
   "execution_count": 92,
   "metadata": {},
   "outputs": [
    {
     "data": {
      "text/plain": [
       "array([[0, 1]])"
      ]
     },
     "execution_count": 92,
     "metadata": {},
     "output_type": "execute_result"
    }
   ],
   "source": [
    "a = np.delete(a,[1],axis=0)\n",
    "a"
   ]
  },
  {
   "cell_type": "code",
   "execution_count": 251,
   "metadata": {},
   "outputs": [],
   "source": [
    "friends_nodes = 5\n",
    "friends_from = [1,1,2,2,3,4]\n",
    "friends_to =   [2,3,3,4,4,5]\n",
    "n = friends_nodes\n",
    "a = np.array(friends_from) -1\n",
    "b = np.array(friends_to) -1\n",
    "c = np.ones(np.size(a))\n",
    "graph = coo_matrix((c,(a,b)),(n,n))\n",
    "graph = np.add(graph, graph.T)"
   ]
  },
  {
   "cell_type": "code",
   "execution_count": 252,
   "metadata": {},
   "outputs": [],
   "source": [
    "#arr = graph.toarray() + np.diag(np.ones(friends_nodes))\n",
    "arr = graph.toarray()"
   ]
  },
  {
   "cell_type": "markdown",
   "metadata": {},
   "source": [
    "tomar el primer vector(nodo) y analizar cada par si tiene un relacion y si es el caso forma un triangulo,\n",
    "luego eliminar su fila y su columno \n",
    "luego hacer la misma operacion que antes."
   ]
  },
  {
   "cell_type": "code",
   "execution_count": null,
   "metadata": {},
   "outputs": [],
   "source": [
    "triangles = set()\n",
    "graph = arr.copy()\n",
    "for vertice in range(graph.shape[0] - 2 ):\n",
    "    number_iter = vertice\n",
    "    first_vertice = 0\n",
    "    first_vertice_reducido = graph[first_vertice].copy()\n",
    "    for i in range(np.count_nonzero(first_vertice_reducido)-1):\n",
    "        first_element = np.where(first_vertice_reducido)[0][0]\n",
    "        first_vertice_reducido[first_element] = 0\n",
    "        res = graph[first_element]*first_vertice_reducido\n",
    "        index_triang = np.where(res)[0]\n",
    "        if index_triang.size!=0:\n",
    "            second_vertice = first_element + number_iter\n",
    "            for i in index_triang:\n",
    "                third_vertice = i + number_iter\n",
    "                triangles.add(frozenset([first_vertice+number_iter+1,second_vertice+1,third_vertice+1]))\n",
    "    graph = np.delete(graph,first_vertice,axis=0)\n",
    "    graph = np.delete(graph,first_vertice,axis=1)\n",
    "print(triangles)"
   ]
  },
  {
   "cell_type": "code",
   "execution_count": null,
   "metadata": {},
   "outputs": [],
   "source": []
  },
  {
   "cell_type": "code",
   "execution_count": 253,
   "metadata": {},
   "outputs": [
    {
     "name": "stdout",
     "output_type": "stream",
     "text": [
      "{frozenset({1, 2, 3}), frozenset({2, 3, 4})}\n"
     ]
    }
   ],
   "source": [
    "triangles = set()\n",
    "arr_copy = arr.copy()\n",
    "for vertice in range(arr_copy.shape[0] - 2 ):\n",
    "    Check_details = 0\n",
    "    number_iter = vertice\n",
    "    if Check_details:\n",
    "        print(f\"numero de iteracion : {number_iter}\")\n",
    "        print(f'array general: \\n{arr_copy}')\n",
    "    first_vertice = 0\n",
    "    first_vertice_reducido = arr_copy[first_vertice].copy()    \n",
    "    for i in range(np.count_nonzero(first_vertice_reducido)-1):\n",
    "        if Check_details:\n",
    "            print(f'vertice que se analiza: {first_vertice_reducido}')\n",
    "        first_element = np.where(first_vertice_reducido)[0][0]\n",
    "        if Check_details:\n",
    "            print(f'Primer elemento no nulo : {first_element}')\n",
    "        first_vertice_reducido[first_element] = 0\n",
    "        if Check_details:\n",
    "            print(f'arr_copy[first_element]*first_vertice_reducido verifica (con los numero 1) los \\\n",
    "                  elementos que el primer vertice (first_vertice_reducido)\\\n",
    "                  y el segundo vertice (arr_copy[first_element]) que es esta conectado al primero \\\n",
    "                  tengan elementos en comun, estos representaran el tercer vertice')\n",
    "        res = arr_copy[first_element]*first_vertice_reducido\n",
    "        if Check_details:\n",
    "            print(f'Elementos que forman el tercer vertice del triangulo que representan los 1: {res}')\n",
    "        index_triang = np.where(res)[0]\n",
    "        if Check_details:\n",
    "            print(f'Indices del tercer vertice del triangulo : {index_triang}')\n",
    "        if index_triang.size!=0:\n",
    "            second_vertice = first_element + number_iter\n",
    "            for i in index_triang:\n",
    "                third_vertice = i + number_iter\n",
    "                # +1 because index = vertice - 1\n",
    "                triangles.add(frozenset([first_vertice+number_iter+1,second_vertice+1,third_vertice+1]))\n",
    "        if Check_details:\n",
    "            print(triangles)\n",
    "            print('\\n\\n')\n",
    "    arr_copy = np.delete(arr_copy,first_vertice,axis=0)\n",
    "    arr_copy = np.delete(arr_copy,first_vertice,axis=1)\n",
    "print(triangles)"
   ]
  },
  {
   "cell_type": "code",
   "execution_count": 254,
   "metadata": {},
   "outputs": [
    {
     "name": "stdout",
     "output_type": "stream",
     "text": [
      "{1: frozenset({2, 3}), 2: frozenset({1, 3, 4}), 3: frozenset({1, 2, 4}), 4: frozenset({2, 3})}\n"
     ]
    }
   ],
   "source": [
    "# Get list of link of triangles\n",
    "n = 1\n",
    "dictio = {}\n",
    "for trian in triangles:\n",
    "    #print(trian)\n",
    "    for i in trian:\n",
    "        if i in dictio:\n",
    "            dictio[i] = dictio[i] | (trian-{i})\n",
    "        else:\n",
    "            dictio[i] = trian-{i}\n",
    "        #print(dictio[i])\n",
    "print(dictio)"
   ]
  },
  {
   "cell_type": "code",
   "execution_count": null,
   "metadata": {},
   "outputs": [],
   "source": [
    "# Get list of link not in traingles"
   ]
  },
  {
   "cell_type": "code",
   "execution_count": 261,
   "metadata": {},
   "outputs": [
    {
     "name": "stdout",
     "output_type": "stream",
     "text": [
      "{1: frozenset({2, 3}), 2: frozenset({1, 3, 4}), 3: frozenset({1, 2, 4}), 4: frozenset({2, 3, 5}), 5: frozenset({4})}\n"
     ]
    }
   ],
   "source": [
    "dictio_complet = {}\n",
    "for i in range(arr.shape[0]):\n",
    "    dictio_complet[i+1] = frozenset(np.where(arr[i])[0]+1)\n",
    "print(dictio_complet)"
   ]
  },
  {
   "cell_type": "code",
   "execution_count": 262,
   "metadata": {},
   "outputs": [],
   "source": [
    "# List dictionary with friendship score"
   ]
  },
  {
   "cell_type": "code",
   "execution_count": 277,
   "metadata": {},
   "outputs": [
    {
     "name": "stdout",
     "output_type": "stream",
     "text": [
      "{1: [frozenset(), 0], 2: [frozenset(), 0], 3: [frozenset(), 0], 4: [frozenset({5}), 1]}\n"
     ]
    }
   ],
   "source": [
    "friendship = {}\n",
    "for key in dictio.keys():\n",
    "    #print(key)\n",
    "    set_temp = dictio_complet[key] - dictio[key]\n",
    "    friendship[key] = [set_temp, len(set_temp)]\n",
    "print(friendship)"
   ]
  },
  {
   "cell_type": "code",
   "execution_count": null,
   "metadata": {},
   "outputs": [],
   "source": [
    "# List dictionary with friendship sum"
   ]
  },
  {
   "cell_type": "code",
   "execution_count": 282,
   "metadata": {},
   "outputs": [
    {
     "name": "stdout",
     "output_type": "stream",
     "text": [
      "frozenset({1, 2, 3})\n",
      "frozenset({2, 3, 4})\n",
      "{frozenset({1, 2, 3}): 0, frozenset({2, 3, 4}): 1}\n"
     ]
    }
   ],
   "source": [
    "friendship_sum = {}\n",
    "for i in triangles:\n",
    "    print(i)\n",
    "    suma = 0\n",
    "    for j in i:\n",
    "        suma += friendship[j][1]\n",
    "    friendship_sum[i] = suma\n",
    "print(friendship_sum)"
   ]
  },
  {
   "cell_type": "code",
   "execution_count": 290,
   "metadata": {},
   "outputs": [
    {
     "data": {
      "text/plain": [
       "0"
      ]
     },
     "execution_count": 290,
     "metadata": {},
     "output_type": "execute_result"
    }
   ],
   "source": [
    "#Result\n",
    "result = np.min( np.array(list(friendship_sum.values())) )\n",
    "result"
   ]
  },
  {
   "cell_type": "code",
   "execution_count": null,
   "metadata": {},
   "outputs": [],
   "source": []
  },
  {
   "cell_type": "markdown",
   "metadata": {},
   "source": [
    "# Common prefix length\n",
    "\n",
    "Given a string, split the string into two substrings at every possible point. The rightmost substring is a suffix. The beginning of the string is the prefix. Determine the lengths of the common prefix between each suffix and the original string. Sum and return the lengths of the common prefixes. Return an array where each element i is the sum for string i."
   ]
  },
  {
   "cell_type": "code",
   "execution_count": 328,
   "metadata": {},
   "outputs": [
    {
     "name": "stdout",
     "output_type": "stream",
     "text": [
      "Sub_count: 0 \n",
      "count: 6\n",
      "\n",
      "\n",
      "Sub_count: 3 \n",
      "count: 9\n",
      "\n",
      "\n",
      "Sub_count: 0 \n",
      "count: 9\n",
      "\n",
      "\n",
      "Sub_count: 1 \n",
      "count: 10\n",
      "\n",
      "\n",
      "Sub_count: 1 \n",
      "count: 11\n",
      "\n",
      "\n",
      "Sub_count: 0 \n",
      "count: 11\n",
      "\n",
      "\n"
     ]
    }
   ],
   "source": [
    "string = \"ababaa\"\n",
    "\n",
    "temp = string\n",
    "count = len(string)\n",
    "for i in range(len(string)):\n",
    "    finish = False\n",
    "    j = 0\n",
    "    sub_count = 0\n",
    "    temp = temp[1:]\n",
    "    while not finish:\n",
    "        if j==len(temp):\n",
    "            count += sub_count\n",
    "            finish = True\n",
    "        elif (temp[j]==string[j]):\n",
    "            sub_count += 1\n",
    "            j += 1\n",
    "        else:\n",
    "            count += sub_count\n",
    "            finish = True\n",
    "    print(f'Sub_count: {sub_count} \\ncount: {count}\\n\\n')"
   ]
  },
  {
   "cell_type": "code",
   "execution_count": 300,
   "metadata": {},
   "outputs": [
    {
     "name": "stdout",
     "output_type": "stream",
     "text": [
      "True\n"
     ]
    }
   ],
   "source": [
    "print(\"aba\"==\"aba\")"
   ]
  }
 ],
 "metadata": {
  "kernelspec": {
   "display_name": "Python 3",
   "language": "python",
   "name": "python3"
  },
  "language_info": {
   "codemirror_mode": {
    "name": "ipython",
    "version": 3
   },
   "file_extension": ".py",
   "mimetype": "text/x-python",
   "name": "python",
   "nbconvert_exporter": "python",
   "pygments_lexer": "ipython3",
   "version": "3.8.10"
  },
  "varInspector": {
   "cols": {
    "lenName": 16,
    "lenType": 16,
    "lenVar": 40
   },
   "kernels_config": {
    "python": {
     "delete_cmd_postfix": "",
     "delete_cmd_prefix": "del ",
     "library": "var_list.py",
     "varRefreshCmd": "print(var_dic_list())"
    },
    "r": {
     "delete_cmd_postfix": ") ",
     "delete_cmd_prefix": "rm(",
     "library": "var_list.r",
     "varRefreshCmd": "cat(var_dic_list()) "
    }
   },
   "types_to_exclude": [
    "module",
    "function",
    "builtin_function_or_method",
    "instance",
    "_Feature"
   ],
   "window_display": false
  }
 },
 "nbformat": 4,
 "nbformat_minor": 4
}
